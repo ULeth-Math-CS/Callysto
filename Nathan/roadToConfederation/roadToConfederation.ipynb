{
 "cells": [
  {
   "cell_type": "markdown",
   "metadata": {},
   "source": [
    "[![logo](https://callysto.ca/wp-content/uploads/2018/06/Callysto_Notebook-Banner_Top_06.06.18.jpg)](https://callysto.ca)"
   ]
  },
  {
   "cell_type": "code",
   "execution_count": 9,
   "metadata": {},
   "outputs": [
    {
     "data": {
      "text/html": [
       "\n",
       "<script>\n",
       "  function code_toggle() {\n",
       "    if (code_shown){\n",
       "      $('div.input').hide('500');\n",
       "      $('#toggleButton').val('Show Code')\n",
       "    } else {\n",
       "      $('div.input').show('500');\n",
       "      $('#toggleButton').val('Hide Code')\n",
       "    }\n",
       "    code_shown = !code_shown\n",
       "  }\n",
       "\n",
       "  $( document ).ready(function(){\n",
       "    code_shown=false;\n",
       "    $('div.input').hide()\n",
       "  });\n",
       "</script>\n",
       "<form action=\"javascript:code_toggle()\"><input type=\"submit\" id=\"toggleButton\" value=\"Show Code\"></form>\n"
      ],
      "text/plain": [
       "<IPython.core.display.HTML object>"
      ]
     },
     "metadata": {},
     "output_type": "display_data"
    }
   ],
   "source": [
    "%%html\n",
    "\n",
    "<script>\n",
    "  function code_toggle() {\n",
    "    if (code_shown){\n",
    "      $('div.input').hide('500');\n",
    "      $('#toggleButton').val('Show Code')\n",
    "    } else {\n",
    "      $('div.input').show('500');\n",
    "      $('#toggleButton').val('Hide Code')\n",
    "    }\n",
    "    code_shown = !code_shown\n",
    "  }\n",
    "\n",
    "  $( document ).ready(function(){\n",
    "    code_shown=false;\n",
    "    $('div.input').hide()\n",
    "  });\n",
    "</script>\n",
    "<form action=\"javascript:code_toggle()\"><input type=\"submit\" id=\"toggleButton\" value=\"Show Code\"></form>"
   ]
  },
  {
   "cell_type": "markdown",
   "metadata": {},
   "source": [
    "<h1 style=\"text-align: center; font-size: 30px; margin-bottom: 50px\">The Road to Condeferation</h1>\n",
    "\n",
    "### Introduction\n",
    "\n",
    "Canada’s confederation is often considered to be fairly uneventful in comparison with other nations - specifically our neighbours to the south. However, the confederation of Canada did not occur overnight, nor was it as peaceful as many assume given our record of striking deals rather than fighting. There were many points in our history that, had they turned out differently, Canada may not be as we know it today. Its formation was a complicated combination of the military, economic, and political events of various groups that drove the disparate colonies of British North America (BNA) together. \n",
    "\n",
    "The end of the Seven Years War marked a turning point for Canada. Whichever nation - Britain or France - won this war determined Canada’s governing empire. As is apparent from today’s Canada, the British were the nation to triumph in this conflict, and thus Canada was on the path to become what it is today. However, despite British victory, Canada was near-entirely composed of Francophone-Catholics - not British subjects."
   ]
  },
  {
   "cell_type": "code",
   "execution_count": 10,
   "metadata": {
    "scrolled": true
   },
   "outputs": [
    {
     "data": {
      "text/html": [
       "<script src=\"https://d3js.org/d3.v4.min.js\"></script>\n",
       "<img style=\"margin-top: 30px; width: 40%; float: left;\" src=\"imgs/newfrance1745_1.jpg\">\n",
       "<img style=\"width: 40%;float: right;\" src=\"imgs/populationgraphic1745.jpg\">\n"
      ],
      "text/plain": [
       "<IPython.core.display.HTML object>"
      ]
     },
     "metadata": {},
     "output_type": "display_data"
    }
   ],
   "source": [
    "%%html\n",
    "<script src=\"https://d3js.org/d3.v4.min.js\"></script>\n",
    "<img style=\"margin-top: 30px; width: 40%; float: left;\" src=\"imgs/newfrance1745_1.jpg\">\n",
    "<img style=\"width: 40%;float: right;\" src=\"imgs/populationgraphic1745.jpg\">"
   ]
  },
  {
   "cell_type": "markdown",
   "metadata": {},
   "source": [
    "## The Royal Proclamation of 1763\n",
    "\n",
    "The Royal Proclamation of 1763 was implemented after France ceded its control of New France (Canada), the Louisiana Purchase, and other assets in the Caribbean to British control in 1763 due to the Treaty of Paris. With this Proclamation, the British decided what would happen with Canada. They decided to create “Indian Territory” west of the Allegheny Mountains along with new governmental institutions for Quebec that promised elected assemblies but excluded Catholics from office. This means that most of the French living within Quebec were excluded from representing their own interests to their new Crown. The British also tried to make Quebec another colony of the Thirteen Colonies though the culture was so largely different from that of any of the Thirteen Colonies that this never ended up happening. Each of these policies enacted by the Proclamation was intended to attract British, Protestant settlers from English colonies to further the British influence over the culture that had not existed previously. However, why would the British government create “Indian Territory” after they had just come into control of essentially all of Eastern North America?\n",
    "\n",
    "\n",
    "Chief Pontiac, a warchief of the Ottawa and leader of the Pan-Native Confederacy during the Seven Years War had chosen to ally with the French. French and native alliances had been well-established by this point as the French were far fewer in number and less willing to expand. The French economy was also based mostly on trading with the natives in this area for furs, posing less of a threat. Pontiac’s goal, through this alliance, was to drive encroaching British settlers back to the Thirteen Colonies and out of native lands. As the French lost they were unable to obtain this objective through their alliance. Even after the battle ended, Pontiac did not quit, leading multiple attacks on the frontier of Mississippi and Ohio, killing around 2000 settlers. Because of the unwillingness to give into British rule despite victory against France, the British caught attention of Pontiac and, understanding their inability to control the First Nations, promised within the Proclamation to not colonize Native Territory without prior purchase and “consent of the affected hand.”\n",
    "\n",
    "<img src=\"./imgs/Pontiac's_war.png\" width=\"500px\" height=\"400px\">\n",
    "\n",
    "### Critical Questions\n",
    "1. What does the creation of \"Indian Territory\" imply for the First Nations Confederacy of the Area?\n",
    "2. What does the creation of \"Indian Territory\" imply for the citizens of the Thirteen Colonies?\n",
    "3. Compare the British (Canadian) plan to deal with natives prior to acquiring territory to prior knowledge of later American and general western expansion. What key differences stand out? What do these differences suggest about each nation? (Discussion Topic)"
   ]
  },
  {
   "cell_type": "code",
   "execution_count": 11,
   "metadata": {
    "scrolled": true
   },
   "outputs": [
    {
     "data": {
      "text/html": [
       "<style>\n",
       "    #solutions {\n",
       "        display: none;\n",
       "        margin-top: 20px;\n",
       "    }\n",
       "    #solutions li {\n",
       "        margin-top: 20px;\n",
       "    }\n",
       "</style>\n",
       "<input type=\"button\" value=\"Show Answers\" onclick=\"showAnswers()\">\n",
       "<div id=\"solutions\">\n",
       "    <ol>\n",
       "        <li>The British government recognized land that was officially under the control of various First Nations groups</li>\n",
       "        <li>The citizens of the 13 Colonies- of British control, were restrained from expanding west. \n",
       "    </ol>\n",
       "</div>\n",
       "<script>\n",
       "function showAnswers() {\n",
       "    $(\"#solutions\").show();\n",
       "}\n",
       "</script>\n"
      ],
      "text/plain": [
       "<IPython.core.display.HTML object>"
      ]
     },
     "metadata": {},
     "output_type": "display_data"
    }
   ],
   "source": [
    "%%html\n",
    "<style>\n",
    "    #solutions {\n",
    "        display: none;\n",
    "        margin-top: 20px;\n",
    "    }\n",
    "    #solutions li {\n",
    "        margin-top: 20px;\n",
    "    }\n",
    "</style>\n",
    "<input type=\"button\" value=\"Show Answers\" onclick=\"showAnswers()\">\n",
    "<div id=\"solutions\">\n",
    "    <ol>\n",
    "        <li>The British government recognized land that was officially under the control of various First Nations groups</li>\n",
    "        <li>The citizens of the 13 Colonies- of British control, were restrained from expanding west. \n",
    "    </ol>\n",
    "</div>\n",
    "<script>\n",
    "function showAnswers() {\n",
    "    $(\"#solutions\").show();\n",
    "}\n",
    "</script>"
   ]
  },
  {
   "cell_type": "markdown",
   "metadata": {},
   "source": [
    "<img src=\"./imgs/after1763.jpg\" width=\"400px\" height=\"300px\" >"
   ]
  },
  {
   "cell_type": "markdown",
   "metadata": {},
   "source": [
    "## Quebec Act of 1774\n",
    "\n",
    "Despite setting up a new British rule through law, obtaining control proved much more difficult than the British foresaw. The population of Canada would not merely become British through legal occupation. The French living there were difficult to control without the established British culture that had been present in the Thirteen Colonies. The Quebec Act of 1774 officially allowed different rules and regulations for Quebec than the other Thirteen Colonies. It set up a constitution (a body of fundamental principles or established precedents according to which a state or other organization is acknowledged to be governed) of sorts, using British criminal law in combination with French civil law, the right to practice Roman Catholicism, and the right to continue practicing the Seigneurial System. This was done as the British simply did not have the power within the area to enforce traditional British regulations, so instead of causing problems among the French it worked to appease the new British citizens. The preservation of Roman Catholicism was especially noteworthy at the time as there was much fighting between religious groups at the time - especially Catholics and Protestants. It was illegal to be Catholic within British boundaries in every British land up until this point. However, the British still gave them government-appointed councillors instead of elected officials.\n",
    "\n",
    "The Quebec Act also expanded Quebec’s territory south past the Great Lakes and into what is now considered the midwestern US. As the French of Quebec had far better relations with the natives than the British of the Thirteen Colonies, this worked for the Crown, more than mere laws and proclamations, to prevent settlers from the Thirteen Colonies from moving in to what would be considered French, Catholic territory. However, many point to the Quebec Act as a reason many in the Thirteen Colonies desired to separate from Britain. \n",
    "\n",
    "### Exercises"
   ]
  },
  {
   "cell_type": "code",
   "execution_count": 16,
   "metadata": {},
   "outputs": [
    {
     "data": {
      "text/html": [
       "\n",
       "<style>\n",
       "    input[type=\"radio\"] {\n",
       "        margin-left: 20px;\n",
       "        margin-top: 10px;\n",
       "    }\n",
       "\n",
       "    input[type=\"button\"] {\n",
       "        margin-top: 10px;\n",
       "    }\n",
       "    \n",
       "    #feedback-container {\n",
       "        margin-top: 20px;\n",
       "    }\n",
       "    \n",
       "    .green {\n",
       "        color: green;\n",
       "    }\n",
       "    \n",
       "    .red {\n",
       "        color: red;\n",
       "    }\n",
       "</style>\n",
       "<p>1. Why do you think the people of the Thirteen Colonies would desire separation after seeing Quebec expand to the south?</p>\n",
       "<p>2. What is the Seigneurial System?</p>\n",
       "\n",
       "<input type=\"radio\" name=\"2\" value=\"A\"> A system where peasants/habitants/censitaires live and work on land owned directly by a seigneur/noble; similar to feudalism.<br>\n",
       "<input type=\"radio\" name=\"2\" value=\"B\"> A system where peasants/habitants/censitaires live and work on land owned directly by the French Crown; similar to feudalism.<br>\n",
       "<input type=\"radio\" name=\"2\" value=\"C\"> A system where seigneurs/nobles work to best provide product to the French Crown.\n",
       "<br>\n",
       "<input type=\"radio\" name=\"2\" value=\"D\"> A system like feudalism that distributed land based solely on status and amount paid to the Crown each year.<br>\n",
       "<input type=\"button\" width=\"300px\" height=\"100px\" value=\"Submit Answer\" onclick=\"ss_submit_answer()\">\n",
       "\n",
       "<div id=\"feedback-container\">\n",
       "    \n",
       "</div>\n",
       "\n",
       "<script>\n",
       "    function ss_submit_answer() {\n",
       "        inputs = $(\"input[type='radio']\");\n",
       "        let feedbackContainer = $(\"#feedback-container\");\n",
       "        if(inputs[0].checked) {\n",
       "            feedbackContainer.html('<p class=\"green\">Correct!</p>');\n",
       "        }\n",
       "        else {\n",
       "            feedbackContainer.html('<p class=\"red\">Wrong. Try again.</p>');\n",
       "        }\n",
       "    }\n",
       "</script>\n"
      ],
      "text/plain": [
       "<IPython.core.display.HTML object>"
      ]
     },
     "metadata": {},
     "output_type": "display_data"
    }
   ],
   "source": [
    "%%html\n",
    "\n",
    "<style>\n",
    "    input[type=\"radio\"] {\n",
    "        margin-left: 20px;\n",
    "        margin-top: 10px;\n",
    "    }\n",
    "\n",
    "    input[type=\"button\"] {\n",
    "        margin-top: 10px;\n",
    "    }\n",
    "    \n",
    "    #feedback-container {\n",
    "        margin-top: 20px;\n",
    "    }\n",
    "    \n",
    "    .green {\n",
    "        color: green;\n",
    "    }\n",
    "    \n",
    "    .red {\n",
    "        color: red;\n",
    "    }\n",
    "</style>\n",
    "<p>1. Why do you think the people of the Thirteen Colonies would desire separation after seeing Quebec expand to the south?</p>\n",
    "<p>2. What is the Seigneurial System?</p>\n",
    "\n",
    "<input type=\"radio\" name=\"2\" value=\"A\"> A system where peasants/habitants/censitaires live and work on land owned directly by a seigneur/noble; similar to feudalism.<br>\n",
    "<input type=\"radio\" name=\"2\" value=\"B\"> A system where peasants/habitants/censitaires live and work on land owned directly by the French Crown; similar to feudalism.<br>\n",
    "<input type=\"radio\" name=\"2\" value=\"C\"> A system where seigneurs/nobles work to best provide product to the French Crown.\n",
    "<br>\n",
    "<input type=\"radio\" name=\"2\" value=\"D\"> A system like feudalism that distributed land based solely on status and amount paid to the Crown each year.<br>\n",
    "<input type=\"button\" width=\"300px\" height=\"100px\" value=\"Submit Answer\" onclick=\"ss_submit_answer()\">\n",
    "\n",
    "<div id=\"feedback-container\">\n",
    "    \n",
    "</div>\n",
    "\n",
    "<script>\n",
    "    function ss_submit_answer() {\n",
    "        inputs = $(\"input[type='radio']\");\n",
    "        let feedbackContainer = $(\"#feedback-container\");\n",
    "        if(inputs[0].checked) {\n",
    "            feedbackContainer.html('<p class=\"green\">Correct!</p>');\n",
    "        }\n",
    "        else {\n",
    "            feedbackContainer.html('<p class=\"red\">Wrong. Try again.</p>');\n",
    "        }\n",
    "    }\n",
    "</script>"
   ]
  },
  {
   "cell_type": "markdown",
   "metadata": {},
   "source": [
    "## The Constitutional Act of 1791\n",
    "\n",
    "In 1776, following the American Revolution, those still loyal to the British Crown (Loyalists) fled the United States to settle in the British province of Quebec. These British citizens arrived in a province where francophones had many rights given to them by the British government that they would not be given in any other part of the British Empire. There was also a lack of parliamentary representation within the province; therefore, these new settlers demanded changes. \n",
    "\n",
    "In response to these demands in 1791, the Constitutional Act was adopted. It split the province of Quebec into two separate provinces: Upper Canada (now Ontario) and Lower Canada (now Québec). The British Loyalists from the United States reside mainly in Upper Canada while Lower Canada remained for the French-speaking people. This allowed Britain to retain British culture for the loyalists while not angering the still-majority French-Catholic population, maintaining a tenuous control over its still-new province. This is one of the first official recognitions of Canada as a French and English nation. \n",
    "\n",
    "<img src=\"./imgs/AfterCA1791.jpg\" width=\"400px\" height=\"300px\">"
   ]
  },
  {
   "cell_type": "markdown",
   "metadata": {},
   "source": [
    "[![logo](https://callysto.ca/wp-content/uploads/2018/07/Callysto-Notebook-Banner_Bottom_07.30.18.jpg)](https://callysto.ca/)"
   ]
  },
  {
   "cell_type": "code",
   "execution_count": null,
   "metadata": {},
   "outputs": [],
   "source": []
  }
 ],
 "metadata": {
  "kernelspec": {
   "display_name": "Python 3",
   "language": "python",
   "name": "python3"
  },
  "language_info": {
   "codemirror_mode": {
    "name": "ipython",
    "version": 3
   },
   "file_extension": ".py",
   "mimetype": "text/x-python",
   "name": "python",
   "nbconvert_exporter": "python",
   "pygments_lexer": "ipython3",
   "version": "3.6.8"
  }
 },
 "nbformat": 4,
 "nbformat_minor": 2
}
