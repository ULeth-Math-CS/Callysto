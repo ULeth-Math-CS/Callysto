{
 "cells": [
  {
   "cell_type": "markdown",
   "metadata": {},
   "source": [
    "# Britain Acquires New France\n",
    "\n",
    "### Introduction\n",
    "\n",
    "Canada’s confederation is often considered to be fairly uneventful in comparison with other nations - specifically our neighbours to the south. However, the confederation of Canada did not occur overnight, nor was it as peaceful as many assume given our record of striking deals rather than fighting. There were many points in our history that, had they turned out differently, Canada may not be as we know it today. Its formation was a complicated combination of the military, economic, and political events of various groups that drove the disparate colonies of British North America (BNA) together. \n",
    "\n",
    "The end of the Seven Years War marked a turning point for Canada. Whichever nation - Britain or France - won this war determined Canada’s governing empire. As is apparent from today’s Canada, the British were the nation to triumph in this conflict, and thus Canada was on the path to become what it is today. However, despite British victory, Canada was near-entirely composed of Francophone-Catholics - not British subjects."
   ]
  },
  {
   "cell_type": "code",
   "execution_count": 1,
   "metadata": {
    "scrolled": true
   },
   "outputs": [
    {
     "data": {
      "text/html": [
       "<script src=\"https://d3js.org/d3.v4.min.js\"></script>\n",
       "<img style=\"margin-top: 30px; width: 40%; float: left;\" src=\"imgs/newfrance1745_1.jpg\">\n",
       "<img style=\"width: 40%;float: right;\" src=\"imgs/populationgraphic1745.jpg\">"
      ],
      "text/plain": [
       "<IPython.core.display.HTML object>"
      ]
     },
     "metadata": {},
     "output_type": "display_data"
    }
   ],
   "source": [
    "%%html\n",
    "<script src=\"https://d3js.org/d3.v4.min.js\"></script>\n",
    "<img style=\"margin-top: 30px; width: 40%; float: left;\" src=\"imgs/newfrance1745_1.jpg\">\n",
    "<img style=\"width: 40%;float: right;\" src=\"imgs/populationgraphic1745.jpg\">"
   ]
  },
  {
   "cell_type": "markdown",
   "metadata": {},
   "source": [
    "## The Royal Proclamation of 1763\n",
    "\n",
    "The Royal Proclamation of 1763 was implemented after France ceded its control of New France (Canada), the Louisiana Purchase, and other assets in the Caribbean to British control in 1763 due to the Treaty of Paris. With this Proclamation, the British decided what would happen with Canada. They decided to create “Indian Territory” west of the Allegheny Mountains along with new governmental institutions for Quebec that promised elected assemblies but excluded Catholics from office. This means that most of the French living within Quebec were excluded from representing their own interests to their new Crown. The British also tried to make Quebec another colony of the Thirteen Colonies though the culture was so largely different from that of any of the Thirteen Colonies that this never ended up happening. Each of these policies enacted by the Proclamation was intended to attract British, Protestant settlers from English colonies to further the British influence over the culture that had not existed previously. However, why would the British government create “Indian Territory” after they had just come into control of essentially all of Eastern North America?\n",
    "\n",
    "\n",
    "Chief Pontiac, a warchief of the Ottawa and leader of the Pan-Native Confederacy during the Seven Years War had chosen to ally with the French. French and native alliances had been well-established by this point as the French were far fewer in number and less willing to expand. The French economy was also based mostly on trading with the natives in this area for furs, posing less of a threat. Pontiac’s goal, through this alliance, was to drive encroaching British settlers back to the Thirteen Colonies and out of native lands. As the French lost they were unable to obtain this objective through their alliance. Even after the battle ended, Pontiac did not quit, leading multiple attacks on the frontier of Mississippi and Ohio, killing around 2000 settlers. Because of the unwillingness to give into British rule despite victory against France, the British caught attention of Pontiac and, understanding their inability to control the First Nations, promised within the Proclamation to not colonize Native Territory without prior purchase and “consent of the affected hand.”\n",
    "\n",
    "### Critical Questions\n",
    "1. What does the creation of \"Indian Territory\" imply for the First Nations Confederacy of the Area?\n",
    "2. What does the creation of \"Indian Territory\" imply for the citizens of the Thirteen Colonies?\n",
    "3. Compare the British (Canadian) plan to deal with natives prior to acquiring territory to prior knowledge of later American and general western expansion. What key differences stand out? What do these differences suggest about each nation? (Discussion Topic)"
   ]
  },
  {
   "cell_type": "code",
   "execution_count": 4,
   "metadata": {},
   "outputs": [
    {
     "data": {
      "text/html": [
       "<style>\n",
       "    #solutions {\n",
       "        display: none;\n",
       "        margin-top: 20px;\n",
       "    }\n",
       "    #solutions li {\n",
       "        margin-top: 20px;\n",
       "    }\n",
       "</style>\n",
       "<input type=\"button\" value=\"Show Answers\" onclick=\"showAnswers()\">\n",
       "<div id=\"solutions\">\n",
       "    <ol>\n",
       "        <li>The British government recognized land that was officially under the control of various First Nations groups</li>\n",
       "        <li>The citizens of the 13 Colonies- of British control, were restrained from expanding west. \n",
       "    </ol>\n",
       "</div>\n",
       "<script>\n",
       "function showAnswers() {\n",
       "    $(\"#solutions\").show();\n",
       "}\n",
       "</script>"
      ],
      "text/plain": [
       "<IPython.core.display.HTML object>"
      ]
     },
     "metadata": {},
     "output_type": "display_data"
    }
   ],
   "source": [
    "%%html\n",
    "<style>\n",
    "    #solutions {\n",
    "        display: none;\n",
    "        margin-top: 20px;\n",
    "    }\n",
    "    #solutions li {\n",
    "        margin-top: 20px;\n",
    "    }\n",
    "</style>\n",
    "<input type=\"button\" value=\"Show Answers\" onclick=\"showAnswers()\">\n",
    "<div id=\"solutions\">\n",
    "    <ol>\n",
    "        <li>The British government recognized land that was officially under the control of various First Nations groups</li>\n",
    "        <li>The citizens of the 13 Colonies- of British control, were restrained from expanding west. \n",
    "    </ol>\n",
    "</div>\n",
    "<script>\n",
    "function showAnswers() {\n",
    "    $(\"#solutions\").show();\n",
    "}\n",
    "</script>"
   ]
  },
  {
   "cell_type": "markdown",
   "metadata": {},
   "source": [
    "## Quebec Act of 1774\n",
    "\n",
    "Despite setting up a new British rule through law, obtaining control proved much more difficult than the British foresaw. The population of Canada would not merely become British through legal occupation. The French living there were difficult to control without the established British culture that had been present in the Thirteen Colonies. The Quebec Act of 1774 officially allowed different rules and regulations for Quebec than the other Thirteen Colonies. It set up a constitution (a body of fundamental principles or established precedents according to which a state or other organization is acknowledged to be governed) of sorts, using British criminal law in combination with French civil law, the right to practice Roman Catholicism, and the right to continue practicing the Seigneurial System. This was done as the British simply did not have the power within the area to enforce traditional British regulations, so instead of causing problems among the French it worked to appease the new British citizens. The preservation of Roman Catholicism was especially noteworthy at the time as there was much fighting between religious groups at the time - especially Catholics and Protestants. It was illegal to be Catholic within British boundaries in every British land up until this point. However, the British still gave them government-appointed councillors instead of elected officials.\n",
    "\n",
    "The Quebec Act also expanded Quebec’s territory south past the Great Lakes and into what is now considered the midwestern US. As the French of Quebec had far better relations with the natives than the British of the Thirteen Colonies, this worked for the Crown, more than mere laws and proclamations, to prevent settlers from the Thirteen Colonies from moving in to what would be considered French, Catholic territory. However, many point to the Quebec Act as a reason many in the Thirteen Colonies desired to separate from Britain. \n",
    "\n",
    "### Exercises\n",
    "1. Why do you think the people of the Thirteen Colonies would desire separation after seeing Quebec expand to the south?\n"
   ]
  },
  {
   "cell_type": "code",
   "execution_count": null,
   "metadata": {},
   "outputs": [],
   "source": []
  }
 ],
 "metadata": {
  "kernelspec": {
   "display_name": "Python 3",
   "language": "python",
   "name": "python3"
  },
  "language_info": {
   "codemirror_mode": {
    "name": "ipython",
    "version": 3
   },
   "file_extension": ".py",
   "mimetype": "text/x-python",
   "name": "python",
   "nbconvert_exporter": "python",
   "pygments_lexer": "ipython3",
   "version": "3.6.5"
  }
 },
 "nbformat": 4,
 "nbformat_minor": 2
}
