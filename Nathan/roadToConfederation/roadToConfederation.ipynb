{
 "cells": [
  {
   "cell_type": "markdown",
   "metadata": {},
   "source": [
    "## Britain Acquires New France\n",
    "\n",
    "### Introduction\n",
    "\n",
    "Canada’s confederation is often considered to be fairly uneventful in comparison with other nations - specifically our neighbours to the south. However, the confederation of Canada did not occur overnight, nor was it as peaceful as many assume given our record of striking deals rather than fighting. There were many points in our history that, had they turned out differently, Canada may not be as we know it today. Its formation was a complicated combination of the military, economic, and political events of various groups that drove the disparate colonies of British North America (BNA) together. \n",
    "\n",
    "The end of the Seven Years War marked a turning point for Canada. Whichever nation - Britain or France - won this war determined Canada’s governing empire. As is apparent from today’s Canada, the British were the nation to triumph in this conflict, and thus Canada was on the path to become what it is today. However, despite British victory, Canada was near-entirely composed of Francophone-Catholics - not British subjects."
   ]
  },
  {
   "cell_type": "code",
   "execution_count": 6,
   "metadata": {},
   "outputs": [
    {
     "data": {
      "text/html": [
       "<script src=\"https://d3js.org/d3.v4.min.js\"></script>\n",
       "<img style=\"margin-top: 30px; width: 40%; float: left;\" src=\"imgs/newfrance1745_1.jpg\">\n",
       "<img style=\"width: 40%;float: right;\" src=\"imgs/populationgraphic1745.jpg\">"
      ],
      "text/plain": [
       "<IPython.core.display.HTML object>"
      ]
     },
     "metadata": {},
     "output_type": "display_data"
    }
   ],
   "source": [
    "%%html\n",
    "<script src=\"https://d3js.org/d3.v4.min.js\"></script>\n",
    "<img style=\"margin-top: 30px; width: 40%; float: left;\" src=\"imgs/newfrance1745_1.jpg\">\n",
    "<img style=\"width: 40%;float: right;\" src=\"imgs/populationgraphic1745.jpg\">"
   ]
  },
  {
   "cell_type": "markdown",
   "metadata": {},
   "source": [
    "## The Royal Proclamation of 1763\n",
    "\n",
    "The Royal Proclamation of 1763 was implemented after France ceded its control of New France (Canada), the Louisiana Purchase, and other assets in the Caribbean to British control in 1763 due to the Treaty of Paris. With this Proclamation, the British decided what would happen with Canada. They decided to create “Indian Territory” west of the Allegheny Mountains [potential link with the pic below (when hovering over mountains, show area)].along with new governmental institutions for Quebec that promised elected assemblies but excluded Catholics from office. This means that most of the French living within Quebec were excluded from representing their own interests to their new Crown. The British also tried to make Quebec another colony of the Thirteen Colonies though the culture was so largely different from that of any of the Thirteen Colonies that this never ended up happening. Each of these policies enacted by the Proclamation was intended to attract British, Protestant settlers from English colonies to further the British influence over the culture that had not existed previously. "
   ]
  },
  {
   "cell_type": "code",
   "execution_count": 4,
   "metadata": {},
   "outputs": [
    {
     "data": {
      "text/html": [
       "<script src=\"js/interactive-map.js\"></script>\n",
       "\n",
       "<div id=\"interactive=map-container\">\n",
       "\n",
       "</div>\n",
       "<script>generateMap()</script>"
      ],
      "text/plain": [
       "<IPython.core.display.HTML object>"
      ]
     },
     "metadata": {},
     "output_type": "display_data"
    }
   ],
   "source": [
    "%%html\n",
    "<script src=\"js/interactive-map.js\"></script>\n",
    "\n",
    "<div id=\"interactive=map-container\">\n",
    "\n",
    "</div>\n",
    "<script>generateMap()</script>"
   ]
  },
  {
   "cell_type": "code",
   "execution_count": null,
   "metadata": {},
   "outputs": [],
   "source": []
  }
 ],
 "metadata": {
  "kernelspec": {
   "display_name": "Python 3",
   "language": "python",
   "name": "python3"
  },
  "language_info": {
   "codemirror_mode": {
    "name": "ipython",
    "version": 3
   },
   "file_extension": ".py",
   "mimetype": "text/x-python",
   "name": "python",
   "nbconvert_exporter": "python",
   "pygments_lexer": "ipython3",
   "version": "3.6.5"
  }
 },
 "nbformat": 4,
 "nbformat_minor": 2
}
