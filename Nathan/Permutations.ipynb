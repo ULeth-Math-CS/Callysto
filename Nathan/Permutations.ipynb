{
 "cells": [
  {
   "cell_type": "markdown",
   "metadata": {},
   "source": [
    "<h1 style=\"text-align:center\">Permutations</h1>\n"
   ]
  },
  {
   "cell_type": "markdown",
   "metadata": {},
   "source": [
    "When we have a combination of items, and the order matters, we call this a permutation problem. In a permutation problem we want to solve how many different ways we can do something. As an example, think about the PIN on your cellphone. If you gave your phone to a stranger and asked them to try and crack your PIN, how many different solutions are there to your PIN?"
   ]
  },
  {
   "cell_type": "code",
   "execution_count": 1,
   "metadata": {
    "scrolled": false
   },
   "outputs": [
    {
     "data": {
      "text/html": [
       "<img src=\"https://github.com/ULeth-Math-CS/Callysto/blob/master/Nathan/pinpad.jpeg?raw=true\" style=\"margin-left:30%\" width=\"256\" height=\"256\" align=\"center\">\n",
       "<p style=\"margin-left:25%\">How many different solutions are there to your PIN?\n",
       "<input type=\"text\" style=\"width:50px;height:30px;margin-left:10px\" size=\"5\"</p>"
      ],
      "text/plain": [
       "<IPython.core.display.HTML object>"
      ]
     },
     "metadata": {},
     "output_type": "display_data"
    }
   ],
   "source": [
    "%%html\n",
    "<img src=\"https://github.com/ULeth-Math-CS/Callysto/blob/master/Nathan/pinpad.jpeg?raw=true\" style=\"margin-left:30%\" width=\"256\" height=\"256\" align=\"center\">\n",
    "<p style=\"margin-left:25%\">How many different solutions are there to your PIN?\n",
    "<input type=\"text\" style=\"width:50px;height:30px;margin-left:10px\" size=\"5\"</p>"
   ]
  },
  {
   "cell_type": "code",
   "execution_count": 2,
   "metadata": {},
   "outputs": [
    {
     "data": {
      "text/html": [
       "<script>\n",
       "function toggleDiv(x) {\n",
       "    if(x.style.display == \"none\") {\n",
       "        x.style.display = \"block\";\n",
       "    }\n",
       "    \n",
       "    else\n",
       "        x.style.display = \"none\";\n",
       "}"
      ],
      "text/plain": [
       "<IPython.core.display.HTML object>"
      ]
     },
     "metadata": {},
     "output_type": "display_data"
    }
   ],
   "source": [
    "%%html\n",
    "<script>\n",
    "function toggleDiv(x) {\n",
    "    if(x.style.display == \"none\") {\n",
    "        x.style.display = \"block\";\n",
    "    }\n",
    "    \n",
    "    else\n",
    "        x.style.display = \"none\";\n",
    "}"
   ]
  },
  {
   "cell_type": "code",
   "execution_count": 3,
   "metadata": {},
   "outputs": [
    {
     "data": {
      "text/html": [
       "\n",
       "<button type=\"button\" onclick=\"toggleDiv(document.getElementById('pin-solution'))\">Display Solution</button>\n",
       "<br><br>\n",
       "<div id=\"pin-solution\" style=\"display:none\">\n",
       "<p><em>Solution</em>: For the first number there are $10$ solutions since we have $10$ different digits in the decimal number system (${0,1,2,..., 9}$) \n",
       "For the second number, we have another $10$ possibilities for the next digit. This is a permutation with repetition. \n",
       "Therefore to solve a permutation with repetition, we can simply take the number of choices, $n$, and \n",
       "multiply the number by the number of slots we need to \"fill in\", $s$. Since this is a 4-PIN passcode and there are $10$ \n",
       "digits to choose from at each spot, $s=4$ & $n=10$, so we get $n^s = 10^4 = 10000$ different posibilites for a 4-PIN passcode.</p>\n",
       "</div>\n"
      ],
      "text/plain": [
       "<IPython.core.display.HTML object>"
      ]
     },
     "metadata": {},
     "output_type": "display_data"
    }
   ],
   "source": [
    "%%html\n",
    "\n",
    "<button type=\"button\" onclick=\"toggleDiv(document.getElementById('pin-solution'))\">Display Solution</button>\n",
    "<br><br>\n",
    "<div id=\"pin-solution\" style=\"display:none\">\n",
    "<p><em>Solution</em>: For the first number there are $10$ solutions since we have $10$ different digits in the decimal number system (${0,1,2,..., 9}$) \n",
    "For the second number, we have another $10$ possibilities for the next digit. This is a permutation with repetition. \n",
    "Therefore to solve a permutation with repetition, we can simply take the number of choices, $n$, and \n",
    "multiply the number by the number of slots we need to \"fill in\", $s$. Since this is a 4-PIN passcode and there are $10$ \n",
    "digits to choose from at each spot, $s=4$ & $n=10$, so we get $n^s = 10^4 = 10000$ different posibilites for a 4-PIN passcode.</p>\n",
    "</div>\n",
    "\n"
   ]
  },
  {
   "cell_type": "code",
   "execution_count": 4,
   "metadata": {
    "scrolled": false
   },
   "outputs": [
    {
     "data": {
      "text/html": [
       "<script>\n",
       " function code_toggle() {\n",
       "    \n",
       "   if (code_shown){\n",
       "     $('div.input').hide('500');\n",
       "     $('#toggleButton').val('Show Code')\n",
       "   } else {\n",
       "     $('div.input').show('500');\n",
       "     $('#toggleButton').val('Hide Code')\n",
       "   }\n",
       "   code_shown = !code_shown\n",
       " }\n",
       "\n",
       " $( document ).ready(function(){\n",
       "   code_shown=false;\n",
       "   $('div.input').hide()\n",
       " });\n",
       "</script>\n",
       "<form action=\"javascript:code_toggle()\"><input type=\"submit\" id=\"toggleButton\" value=\"Show Code\" style=\"text-align:center;\"></form>"
      ],
      "text/plain": [
       "<IPython.core.display.HTML object>"
      ]
     },
     "metadata": {},
     "output_type": "display_data"
    }
   ],
   "source": [
    "%%html\n",
    "<script>\n",
    " function code_toggle() {\n",
    "    \n",
    "   if (code_shown){\n",
    "     $('div.input').hide('500');\n",
    "     $('#toggleButton').val('Show Code')\n",
    "   } else {\n",
    "     $('div.input').show('500');\n",
    "     $('#toggleButton').val('Hide Code')\n",
    "   }\n",
    "   code_shown = !code_shown\n",
    " }\n",
    "\n",
    " $( document ).ready(function(){\n",
    "   code_shown=false;\n",
    "   $('div.input').hide()\n",
    " });\n",
    "</script>\n",
    "<form action=\"javascript:code_toggle()\"><input type=\"submit\" id=\"toggleButton\" value=\"Show Code\" style=\"text-align:center;\"></form>"
   ]
  },
  {
   "cell_type": "code",
   "execution_count": null,
   "metadata": {},
   "outputs": [],
   "source": []
  }
 ],
 "metadata": {
  "kernelspec": {
   "display_name": "Python 3",
   "language": "python",
   "name": "python3"
  },
  "language_info": {
   "codemirror_mode": {
    "name": "ipython",
    "version": 3
   },
   "file_extension": ".py",
   "mimetype": "text/x-python",
   "name": "python",
   "nbconvert_exporter": "python",
   "pygments_lexer": "ipython3",
   "version": "3.6.4"
  }
 },
 "nbformat": 4,
 "nbformat_minor": 2
}
