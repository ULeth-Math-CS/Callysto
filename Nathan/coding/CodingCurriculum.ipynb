{
 "cells": [
  {
   "cell_type": "code",
   "execution_count": 12,
   "metadata": {},
   "outputs": [
    {
     "data": {
      "text/html": [
       "\n",
       "<script src=\"https://cdnjs.cloudflare.com/ajax/libs/p5.js/0.4.6/p5.js\"></script>\n",
       "<script src=\"https://cdnjs.cloudflare.com/ajax/libs/p5.js/0.4.6/addons/p5.dom.js\"></script>\n",
       "<script src=\"https://cdnjs.cloudflare.com/ajax/libs/p5.js/0.4.6/addons/p5.sound.js\"></script>\n",
       "<script>\n",
       "    rows = 5,\n",
       "    cols = 5,\n",
       "    trafficControl = [\n",
       "                        [ 1, 0, 1, 0, 1, 0 ],\n",
       "                        [ 0, 1, 0, 1, 0, 1 ],\n",
       "                        [ 1, 0, 1, 0, 1, 0 ], \n",
       "                        [ 0, 1, 0, 1, 0, 1 ],\n",
       "                        [ 1, 0, 1, 0, 1, 0 ], \n",
       "                        [ 0, 1, 0, 1, 0, 1 ]\n",
       "</script>"
      ],
      "text/plain": [
       "<IPython.core.display.HTML object>"
      ]
     },
     "metadata": {},
     "output_type": "display_data"
    }
   ],
   "source": [
    "%%html\n",
    "\n",
    "<script src=\"https://cdnjs.cloudflare.com/ajax/libs/p5.js/0.4.6/p5.js\"></script>\n",
    "<script src=\"https://cdnjs.cloudflare.com/ajax/libs/p5.js/0.4.6/addons/p5.dom.js\"></script>\n",
    "<script src=\"https://cdnjs.cloudflare.com/ajax/libs/p5.js/0.4.6/addons/p5.sound.js\"></script>"
   ]
  },
  {
   "cell_type": "code",
   "execution_count": 14,
   "metadata": {
    "scrolled": false
   },
   "outputs": [
    {
     "data": {
      "text/html": [
       "<script>\n",
       "    var rows = 5,\n",
       "    cols = 5,\n",
       "    trafficControl = [\n",
       "                        [ 1, 0, 1, 0, 1, 0 ],\n",
       "                        [ 0, 1, 0, 1, 0, 1 ],\n",
       "                        [ 1, 0, 1, 0, 1, 0 ], \n",
       "                        [ 0, 1, 0, 1, 0, 1 ],\n",
       "                        [ 1, 0, 1, 0, 1, 0 ], \n",
       "                        [ 0, 1, 0, 1, 0, 1 ]\n",
       "    ];\n",
       "</script>\n",
       "\n",
       "<iframe src=\"index.html\" width=\"900px\" height=\"500px\"></iframe>"
      ],
      "text/plain": [
       "<IPython.core.display.HTML object>"
      ]
     },
     "metadata": {},
     "output_type": "display_data"
    }
   ],
   "source": [
    "%%html\n",
    "<script>\n",
    "    var rows = 5,\n",
    "    cols = 5,\n",
    "    trafficControl = [\n",
    "                        [ 1, 0, 1, 0, 1, 0 ],\n",
    "                        [ 0, 1, 0, 1, 0, 1 ],\n",
    "                        [ 1, 0, 1, 0, 1, 0 ], \n",
    "                        [ 0, 1, 0, 1, 0, 1 ],\n",
    "                        [ 1, 0, 1, 0, 1, 0 ], \n",
    "                        [ 0, 1, 0, 1, 0, 1 ]\n",
    "                    ];\n",
    "</script>\n",
    "\n",
    "<iframe src=\"index.html\" width=\"900px\" height=\"500px\"></iframe>"
   ]
  },
  {
   "cell_type": "code",
   "execution_count": null,
   "metadata": {},
   "outputs": [],
   "source": []
  }
 ],
 "metadata": {
  "kernelspec": {
   "display_name": "Python 3",
   "language": "python",
   "name": "python3"
  },
  "language_info": {
   "codemirror_mode": {
    "name": "ipython",
    "version": 3
   },
   "file_extension": ".py",
   "mimetype": "text/x-python",
   "name": "python",
   "nbconvert_exporter": "python",
   "pygments_lexer": "ipython3",
   "version": "3.6.5"
  }
 },
 "nbformat": 4,
 "nbformat_minor": 2
}
