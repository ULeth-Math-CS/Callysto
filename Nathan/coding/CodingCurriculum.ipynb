{
 "cells": [
  {
   "cell_type": "code",
   "execution_count": 25,
   "metadata": {},
   "outputs": [
    {
     "data": {
      "text/html": [
       "\n",
       "<script src=\"https://cdnjs.cloudflare.com/ajax/libs/p5.js/0.4.6/p5.js\"></script>\n",
       "<script src=\"https://cdnjs.cloudflare.com/ajax/libs/p5.js/0.4.6/addons/p5.dom.js\"></script>\n",
       "<script src=\"https://cdnjs.cloudflare.com/ajax/libs/p5.js/0.4.6/addons/p5.sound.js\"></script>\n",
       "<link rel=\"stylesheet\" type=\"text/css\" href=\"css/coding.css\">"
      ],
      "text/plain": [
       "<IPython.core.display.HTML object>"
      ]
     },
     "metadata": {},
     "output_type": "display_data"
    }
   ],
   "source": [
    "%%html\n",
    "\n",
    "<script src=\"https://cdnjs.cloudflare.com/ajax/libs/p5.js/0.4.6/p5.js\"></script>\n",
    "<script src=\"https://cdnjs.cloudflare.com/ajax/libs/p5.js/0.4.6/addons/p5.dom.js\"></script>\n",
    "<script src=\"https://cdnjs.cloudflare.com/ajax/libs/p5.js/0.4.6/addons/p5.sound.js\"></script>\n",
    "<link rel=\"stylesheet\" type=\"text/css\" href=\"css/coding.css\">"
   ]
  },
  {
   "cell_type": "code",
   "execution_count": 36,
   "metadata": {
    "scrolled": false
   },
   "outputs": [
    {
     "data": {
      "text/html": [
       "\n",
       "<script>\n",
       "    // Variables to change!!\n",
       "    var rows = 1,\n",
       "    cols = 10,\n",
       "    trafficControl = [\n",
       "                        [ 1, 0, 0, 1, 0, 0, 1, 0, 0, 1 ],\n",
       "                        [ 1, 0, 0, 1, 0, 0, 1, 0, 0, 1 ],\n",
       "                        [ 1, 0, 0, 1, 0, 0, 1, 0, 0, 1 ], \n",
       "                        [ 1, 0, 0, 1, 0, 0, 1, 0, 0, 1 ],\n",
       "                        [ 1, 0, 0, 1, 0, 0, 1, 0, 0, 1 ],\n",
       "                        [ 1, 0, 0, 1, 0, 0, 1, 0, 0, 1 ],\n",
       "                        [ 1, 0, 0, 1, 0, 0, 1, 0, 0, 1 ],\n",
       "                        [ 1, 0, 0, 1, 0, 0, 1, 0, 0, 1 ],\n",
       "                        [ 1, 0, 0, 1, 0, 0, 1, 0, 0, 1 ],\n",
       "                        [ 1, 0, 0, 1, 0, 0, 1, 0, 0, 1 ],\n",
       "                    ];\n",
       "    \n",
       "     function setUpFrame() {\n",
       "        var frame = window.frames[\"traffic-control\"];\n",
       "        frame.contentWindow.init(rows, cols, trafficControl);\n",
       "     }\n",
       "</script>\n",
       "\n",
       "<div id=\"btn-container\">\n",
       "    <input type=\"button\" value=\"Draw\" onclick=\"setUpFrame()\">\n",
       "</div>\n",
       "<div id=\"iframe-container\">\n",
       "    <iframe id=\"traffic-control\" src=\"index.html\" width=\"900px\" height=\"500px\"></iframe>\n",
       "</div>"
      ],
      "text/plain": [
       "<IPython.core.display.HTML object>"
      ]
     },
     "metadata": {},
     "output_type": "display_data"
    }
   ],
   "source": [
    "%%html\n",
    "\n",
    "<script>\n",
    "    // Variables to change!!\n",
    "    var rows = 1,\n",
    "    cols = 10,\n",
    "    trafficControl = [\n",
    "                        [ 1, 0, 0, 1, 0, 0, 1, 0, 0, 1 ],\n",
    "                        [ 1, 0, 0, 1, 0, 0, 1, 0, 0, 1 ],\n",
    "                        [ 1, 0, 0, 1, 0, 0, 1, 0, 0, 1 ], \n",
    "                        [ 1, 0, 0, 1, 0, 0, 1, 0, 0, 1 ],\n",
    "                        [ 1, 0, 0, 1, 0, 0, 1, 0, 0, 1 ],\n",
    "                        [ 1, 0, 0, 1, 0, 0, 1, 0, 0, 1 ],\n",
    "                        [ 1, 0, 0, 1, 0, 0, 1, 0, 0, 1 ],\n",
    "                        [ 1, 0, 0, 1, 0, 0, 1, 0, 0, 1 ],\n",
    "                        [ 1, 0, 0, 1, 0, 0, 1, 0, 0, 1 ],\n",
    "                        [ 1, 0, 0, 1, 0, 0, 1, 0, 0, 1 ],\n",
    "                    ];\n",
    "    \n",
    "     function setUpFrame() {\n",
    "        var frame = window.frames[\"traffic-control\"];\n",
    "        frame.contentWindow.init(rows, cols, trafficControl);\n",
    "     }\n",
    "</script>\n",
    "\n",
    "<div id=\"btn-container\">\n",
    "    <input type=\"button\" value=\"Draw\" onclick=\"setUpFrame()\">\n",
    "</div>\n",
    "<div id=\"iframe-container\">\n",
    "    <iframe id=\"traffic-control\" src=\"index.html\" width=\"900px\" height=\"500px\"></iframe>\n",
    "</div>"
   ]
  },
  {
   "cell_type": "code",
   "execution_count": null,
   "metadata": {},
   "outputs": [],
   "source": []
  }
 ],
 "metadata": {
  "kernelspec": {
   "display_name": "Python 3",
   "language": "python",
   "name": "python3"
  },
  "language_info": {
   "codemirror_mode": {
    "name": "ipython",
    "version": 3
   },
   "file_extension": ".py",
   "mimetype": "text/x-python",
   "name": "python",
   "nbconvert_exporter": "python",
   "pygments_lexer": "ipython3",
   "version": "3.6.5"
  }
 },
 "nbformat": 4,
 "nbformat_minor": 2
}
