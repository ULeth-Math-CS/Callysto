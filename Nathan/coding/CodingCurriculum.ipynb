{
 "cells": [
  {
   "cell_type": "code",
   "execution_count": 4,
   "metadata": {
    "scrolled": false
   },
   "outputs": [
    {
     "data": {
      "text/plain": [
       "<matplotlib.figure.Figure at 0x7f8be800e278>"
      ]
     },
     "metadata": {},
     "output_type": "display_data"
    }
   ],
   "source": [
    "%matplotlib notebook"
   ]
  },
  {
   "cell_type": "code",
   "execution_count": 66,
   "metadata": {},
   "outputs": [
    {
     "data": {
      "image/png": "[encoded data removed]",
      "text/plain": [
       "<matplotlib.figure.Figure at 0x7f8bcf47a828>"
      ]
     },
     "metadata": {},
     "output_type": "display_data"
    }
   ],
   "source": [
    "import matplotlib.pyplot as plt;\n",
    "import matplotlib.animation as animation;\n",
    "import random;\n",
    "\n",
    "class Intersection:\n",
    "    def __init__(self, x, y, flow):\n",
    "        self.flow = flow;\n",
    "        self.x = x;\n",
    "        self.y = y;\n",
    "    def __repr__(self):\n",
    "        return \"x: \" + str(self.x) + \" y: \" + str(self.y) + \" flow: \" + str(self.flow);\n",
    "    def __str__(self):\n",
    "        return \"x: \" + str(self.x) + \" y: \" + str(self.y) + \" flow: \" + str(self.flow);\n",
    "    \n",
    "class Vehicle:\n",
    "    def __init__(self, speed):\n",
    "        self.speed = speed;\n",
    "        \n",
    "    \n",
    "    \n",
    "def createIntersections(rows, cols=0, flow=[]):\n",
    "    if(rows < 1 and cols < 1):\n",
    "        return;\n",
    "    \n",
    "    if(rows > 10):\n",
    "        rows = 10;\n",
    "    if(cols > 10):\n",
    "        cols = 10;\n",
    "        \n",
    "    intersections = [];\n",
    "    random.seed();\n",
    "    \n",
    "    x = 1;\n",
    "    y = 1;\n",
    "    step = 2;\n",
    "    flowIndex = 0;\n",
    "    if(cols == 0):\n",
    "        cols = rows;\n",
    "        \n",
    "    for i in range(rows):\n",
    "        for j in range(cols):\n",
    "            if(len(flow) == 0):\n",
    "                intersections.append(Intersection(x, y, random.randint(0, 1)));\n",
    "            else:\n",
    "                intersections.append(Intersection(x, y, flow[flowIndex]));\n",
    "                flowIndex += 1;\n",
    "            x+=step;\n",
    "            \n",
    "        y+=step;\n",
    "        x = 1;\n",
    "        \n",
    "    return intersections;\n",
    "    \n",
    "def getIntersectionRows(intersections):\n",
    "    rows = 1;\n",
    "    y = intersections[0].y;\n",
    "    for i in range(len(intersections)):\n",
    "        if(intersections[i].y != y):\n",
    "            y = intersections[i].y;\n",
    "            rows+=1;\n",
    "    \n",
    "    return rows;\n",
    "    \n",
    "def getIntersectionColumns(intersections):\n",
    "    cols = 0;\n",
    "    x = 0;\n",
    "    for i in range(len(intersections)):\n",
    "        if(intersections[i].x >= x):\n",
    "            x = intersections[i].x;\n",
    "            cols+=1;\n",
    "        else:\n",
    "            break;\n",
    "            \n",
    "    return cols;\n",
    "    \n",
    "def plotIntersections(intersections):\n",
    "    xAxis = [];\n",
    "    yAxis = [];\n",
    "    \n",
    "    for i in range(len(intersections)):\n",
    "        xAxis.append(intersections[i].x);\n",
    "        yAxis.append(intersections[i].y);\n",
    "    \n",
    "    plt.plot(xAxis, yAxis, 'ro');\n",
    "    plt.axis([0, (intersections[len(intersections)-1].x) + 1, 0, (intersections[len(intersections)-1].y) + 1]);\n",
    "    \n",
    "def plotFlow(intersections):    \n",
    "    rows = getIntersectionRows(intersections);\n",
    "    cols = getIntersectionColumns(intersections);\n",
    "    \n",
    "    for i in range(len(intersections)):\n",
    "        currentRow = int(i / cols);\n",
    "        if(intersections[i].flow):\n",
    "            if(i + cols < len(intersections)):\n",
    "                plt.plot([intersections[i].x, intersections[i+cols].x], [intersections[i].y, (intersections[i].y + intersections[i+cols].y) / 2], \"g-\");\n",
    "            if(i - cols >= 0):\n",
    "                plt.plot([intersections[i].x, intersections[i-cols].x], [intersections[i].y, (intersections[i].y + intersections[i-cols].y) / 2], \"g-\");\n",
    "            if(i - (currentRow*cols) - 1 >= 0):\n",
    "                plt.plot([intersections[i].x, (intersections[i].x + intersections[i-1].x) / 2], [intersections[i].y, intersections[i-1].y], \"r-\");\n",
    "            if(i - (currentRow*cols) + 1 < cols):\n",
    "                plt.plot([intersections[i].x, (intersections[i].x + intersections[i+1].x) / 2], [intersections[i].y, intersections[i+1].y], \"r-\");\n",
    "        else:\n",
    "            if(i - (currentRow*cols) - 1 >= 0):\n",
    "                plt.plot([intersections[i].x, (intersections[i].x + intersections[i-1].x) / 2], [intersections[i].y, intersections[i-1].y], \"g-\");\n",
    "            if(i - (currentRow*cols) + 1 < cols):\n",
    "                plt.plot([intersections[i].x, (intersections[i].x + intersections[i+1].x) / 2], [intersections[i].y, intersections[i+1].y], \"g-\");     \n",
    "            if(i + cols < len(intersections)):\n",
    "                plt.plot([intersections[i].x, intersections[i+cols].x], [intersections[i].y, (intersections[i].y + intersections[i+cols].y) / 2], \"r-\");\n",
    "            if(i - cols >= 0):\n",
    "                plt.plot([intersections[i].x, intersections[i-cols].x], [intersections[i].y, (intersections[i].y + intersections[i-cols].y) / 2], \"r-\");\n",
    "            \n",
    "customFlow = [ 1, 0, 0, 0, 1, 0, 0, 0, 0, 0, 0, 0, 0, 0, 0, 0];\n",
    "intersections = createIntersections(4, 4, customFlow);\n",
    "plotIntersections(intersections);\n",
    "plotFlow(intersections);\n",
    "plt.show();"
   ]
  },
  {
   "cell_type": "code",
   "execution_count": null,
   "metadata": {},
   "outputs": [],
   "source": []
  }
 ],
 "metadata": {
  "kernelspec": {
   "display_name": "Python 3",
   "language": "python",
   "name": "python3"
  },
  "language_info": {
   "codemirror_mode": {
    "name": "ipython",
    "version": 3
   },
   "file_extension": ".py",
   "mimetype": "text/x-python",
   "name": "python",
   "nbconvert_exporter": "python",
   "pygments_lexer": "ipython3",
   "version": "3.6.5"
  }
 },
 "nbformat": 4,
 "nbformat_minor": 2
}
