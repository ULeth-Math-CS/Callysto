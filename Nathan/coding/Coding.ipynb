{
 "cells": [
  {
   "cell_type": "code",
   "execution_count": 6,
   "metadata": {},
   "outputs": [],
   "source": [
    "import requests\n",
    "import json\n",
    "\n",
    "url = \"https://opensky-network.org/api/states/all?lamin=48.946586&lomin=-140.853015&lamax=69.666097&lomax=-53.469185\"\n",
    "\n",
    "r = requests.get(url, auth=('ntipper', 'callysto'))\n",
    "\n",
    "with open(\"./data/air-traffic.json\", \"w\") as outfile:\n",
    "    json.dump(r.json(), outfile);"
   ]
  },
  {
   "cell_type": "code",
   "execution_count": 17,
   "metadata": {},
   "outputs": [
    {
     "data": {
      "text/html": [
       "<div id=\"map\">\n",
       "\n",
       "</div>"
      ],
      "text/plain": [
       "<IPython.core.display.HTML object>"
      ]
     },
     "metadata": {},
     "output_type": "display_data"
    },
    {
     "data": {
      "application/javascript": [
       "require.config({\n",
       "  paths: {\n",
       "    d3: \"https://d3js.org/d3.v4.min\",\n",
       "    d3geo: \"https://d3js.org/d3-geo.v1.min\",\n",
       "    array: \"https://d3js.org/d3-array.v1.min\",\n",
       "    config: \"/js/config.js\"\n",
       "  }\n",
       "});\n",
       "require(['d3'], function(d3) {\n",
       "    // define the width and height of the svg\n",
       "    let width = 1280,\n",
       "        height = 1000;\n",
       "\n",
       "    console.log(\"hello\");\n",
       "    // create the svg using d3.js\n",
       "    let canadaSVG = d3.select(\"#map\")\n",
       "        .append(\"svg\")\n",
       "          .attr(\"width\", width)\n",
       "          .attr(\"height\", height);\n",
       "\n",
       "    // append a grouping of drawings to the svg\n",
       "    var g = canadaSVG.append(\"g\");\n",
       "\n",
       "    // The scale at which we see the map. Modify if you wish the initial size to be smaller or larger.\n",
       "    var scalar = 300;\n",
       "\n",
       "    // Create zoom functionality.\n",
       "    var zoom = d3.zoom()\n",
       "    .scaleExtent([1, 8])\n",
       "    .on(\"zoom\", zoomed);\n",
       "\n",
       "    canadaSVG.call(zoom);\n",
       "\n",
       "    // Define the projection to use for the map of Canada\n",
       "    var projection = d3.geoMercator()\n",
       "                        .scale([scalar])\n",
       "                        .center([-45.5017, 73.5673])\n",
       "\n",
       "    // Translate the projection to the \"center\"\n",
       "    projection.translate([ (width / 2) + 100, (height / 2) - 100]);\n",
       "\n",
       "    // Push the projection we used to the generator to generate the paths needed\n",
       "    var geoGenerator = d3.geoPath()\n",
       "      .projection(projection);\n",
       "\n",
       "    // Create a tooltip which will show when hovering on a particular plane\n",
       "    var tooltip = d3.select(\"body\")\n",
       "                      .append(\"div\")\n",
       "                      .attr(\"class\", \"tooltip\")\n",
       "                      .style(\"opacity\", 0);\n",
       "\n",
       "    // Create the map using the json file provided\n",
       "    d3.json(\"./data/canada.json\", function(error, canada) {\n",
       "        if(error) return console.error(error);\n",
       "\n",
       "        // Draw the paths which make up Canada using the json data\n",
       "        g.selectAll(\"path\")\n",
       "          .data(canada.features)\n",
       "              .enter()\n",
       "                .append(\"path\")\n",
       "                  .attr(\"d\", geoGenerator)\n",
       "                    .style(\"fill\", \"#42f4b0\");\n",
       "\n",
       "        // Now, draw the plans on the map of Canada using the air traffic data\n",
       "        d3.json(\"./data/air-traffic.json\", function(error, airTraffic) {\n",
       "          if(error) return console.error(error);\n",
       "\n",
       "          g.selectAll(\"circle\")\n",
       "            .data(airTraffic.states)\n",
       "              .enter()\n",
       "                .append(\"circle\")\n",
       "                  .attr(\"cx\", function(d) {\n",
       "                    return projection([ d[5], d[6] ])[0];\n",
       "                  })\n",
       "                  .attr(\"cy\", function(d) {\n",
       "                    return projection([ d[5], d[6] ])[1];\n",
       "                  })\n",
       "                  .attr(\"r\", 2)\n",
       "                  .style(\"fill\", \"red\")\n",
       "                  .on(\"mouseover\", mouseOverHandler)\n",
       "                  .on(\"mouseout\", mouseOutHandler);\n",
       "\n",
       "          // Now we can filter some data using the configuration file that you edited.\n",
       "          g.selectAll(\"circle\").filter(function(d) {\n",
       "            if(d[8]) {\n",
       "              return true;\n",
       "            }\n",
       "          })\n",
       "          .style(\"fill\", \"green\")\n",
       "          .attr(\"r\", 5);\n",
       "        });\n",
       "    });\n",
       "\n",
       "    // The zoom function to allow use to zoom in and out of the map.\n",
       "    function zoomed() {\n",
       "      g.attr(\"transform\", d3.event.transform);\n",
       "    }\n",
       "\n",
       "    // mouseOverHandler is the functionality which makes the tooltip appear over a place.\n",
       "    function mouseOverHandler(d) {\n",
       "      tooltip.style(left)\n",
       "    }\n",
       "\n",
       "    // mouseOutHandler makes the tooltip disappear when you hover outside of a plane.\n",
       "    function mouseOutHandler(d) {\n",
       "\n",
       "    } \n",
       "});"
      ],
      "text/plain": [
       "<IPython.core.display.Javascript object>"
      ]
     },
     "metadata": {},
     "output_type": "display_data"
    }
   ],
   "source": [
    "from IPython.display import display, Javascript, HTML\n",
    "\n",
    "display(HTML(filename=\"./html/index.html\"))\n",
    "display(Javascript(filename=\"./js/air-traffic.js\"))"
   ]
  },
  {
   "cell_type": "code",
   "execution_count": null,
   "metadata": {},
   "outputs": [],
   "source": []
  }
 ],
 "metadata": {
  "kernelspec": {
   "display_name": "Python 3",
   "language": "python",
   "name": "python3"
  },
  "language_info": {
   "codemirror_mode": {
    "name": "ipython",
    "version": 3
   },
   "file_extension": ".py",
   "mimetype": "text/x-python",
   "name": "python",
   "nbconvert_exporter": "python",
   "pygments_lexer": "ipython3",
   "version": "3.6.5"
  }
 },
 "nbformat": 4,
 "nbformat_minor": 2
}
