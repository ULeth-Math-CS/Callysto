{
 "cells": [
  {
   "cell_type": "code",
   "execution_count": null,
   "metadata": {},
   "outputs": [],
   "source": [
    "%%html\n",
    "<script type = \"text/javascript\" src=\"https://d3js.org/d3.v3.min.js\"></script>\n",
    "<script src=\"https://ajax.googleapis.com/ajax/libs/jquery/3.3.1/jquery.min.js\"></script>\n",
    "<script type=\"text/x-mathjax-config\">\n",
    "    MathJax.Hub.Config({tex2jax: {inlineMath: [['$','$'], ['\\\\(','\\\\)']]}});\n",
    "</script>\n",
    "<script type=\"text/javascript\" async\n",
    "    src=\"https://cdnjs.cloudflare.com/ajax/libs/mathjax/2.7.4/MathJax.js?config=TeX-MML-AM_CHTML\">\n",
    "</script>"
   ]
  },
  {
   "cell_type": "markdown",
   "metadata": {},
   "source": [
    "# Permutations\n",
    "\n",
    "*by Nathan Tipper*\n",
    "\n",
    "In this Jupyter notebook, we will explore the concept of permutations, as they arise in certain types of counting problems. The types of questions that can be answered using permutations include:\n",
    "\n",
    "- \"How many 6-letter words can I form using letters of the alphabet?\" (Regardless of whether or not it's a dictionary word)\n",
    "- \"What if none of the 6 letters can be the same?\"\n",
    "- \"What if exactly one letter must be repeated?\"\n",
    "- \"What if two of the letters must be z, but they cannot be adjacent?\"\n",
    "\n",
    "We will explore permutations through a series of interactive visualizations involving coloured circles, starting with the simple problem of counting rearrangements, and building up to more complicated examples.\n",
    "\n",
    "## What is a permutation?\n",
    "A permutation is the act of rearranging the elements of a set in another order or sequence. A permutation can also refer to the act of choosing some number of elements from a larger set (i.e. a subset) and placing them in order. The most important feature of a permuation is that the order matters, as opposed to a combination, where we choose a subset from a larger set, but the order does not matter. Take the example below. We have a set in which we have 5 different circles, distinguished by their colour. We can consider this a set of circles. If we change the order of the circles in this set (or even if we do nothing at all!), then we have defined a permutation of the set."
   ]
  },
  {
   "cell_type": "code",
   "execution_count": null,
   "metadata": {},
   "outputs": [],
   "source": [
    "%%html\n",
    "<div>\n",
    "    <svg width=\"100%\" height=\"300px\">\n",
    "        <circle cx=\"40\" cy=\"100\" r=\"40\" fill=\"red\"></circle>\n",
    "        <circle cx=\"140\" cy=\"100\" r=\"40\" fill=\"blue\"></circle>\n",
    "        <circle cx=\"240\" cy=\"100\" r=\"40\" fill=\"green\"></circle>\n",
    "        <circle cx=\"340\" cy=\"100\" r=\"40\" fill=\"purple\"></circle>\n",
    "        <circle cx=\"440\" cy=\"100\" r=\"40\" fill=\"yellow\"></circle>\n",
    "    </svg>\n",
    "</div>"
   ]
  },
  {
   "cell_type": "markdown",
   "metadata": {},
   "source": [
    "#### A mathematical cautionary note on terminology\n",
    "\n",
    "A couple of words of caution are needed on a couple of the words we use in this notebook. \n",
    "\n",
    "- Set.\n",
    "\n",
    " The word \"set\" has a very precise meaning in mathematics, and it's one that we won't get into here. (In fact, there's a good chance that even if you major in mathematics in university, you won't see a precise definition!) But there are two commonly understood features of sets that do not correspond to what we're doing. First, the order of elements in a set doesn't matter. Second, repeating an element of a set does not change the set. (For example, the set $\\{1,2,3,3\\}$ would not be any different than the set $\\{1,2,3\\}$.)\n",
    "\n",
    " In the context of permutations, order matters, and we will sometimes want to allow repetitions. One could argue that what we call \"sets\" in this notebook should really be referred to as \"ordered lists\". But let's decide not to quibble.\n",
    "\n",
    "- Permutation.\n",
    "\n",
    " We should also warn you that to a mathematician, the word \"permutation\" refers to something much more restrictive than what we are considering. In university-level mathematics, only rearrangements where every element of a set is used, and used only once, are considered permutations. This type of permutation turns out to be very useful in higher mathematics, but it won't be enough for some of the counting problems we want to consider."
   ]
  },
  {
   "cell_type": "markdown",
   "metadata": {},
   "source": [
    "### Everyday Permutations\n",
    "Where do permutations arise in the real world? Permutations may be relevant whenever we're interested in sets where the order of the elemtents in that matters. Can you think of any examples of sets where the ordering of its elements matters? Let's say that a set is *affected by permutations* if the order of its elements is important. Consider the following possibilities:"
   ]
  },
  {
   "cell_type": "code",
   "execution_count": null,
   "metadata": {},
   "outputs": [],
   "source": [
    "%%html\n",
    "<script src=\"./scripts/is_a_permutation.js\"></script>\n",
    "\n",
    "<style>\n",
    "    li {\n",
    "        margin-top: 5px;\n",
    "    }\n",
    "    .booleanInput {\n",
    "        width: 30px;\n",
    "        margin-top: 10px;\n",
    "    }\n",
    "    .submit-boolean {\n",
    "        margin-left: 10px;\n",
    "    }\n",
    "    \n",
    "    .correct {\n",
    "        background-color: #33ff33;\n",
    "    }\n",
    "    \n",
    "    .incorrect {\n",
    "        background-color: #ff1a1a;\n",
    "    }\n",
    "    \n",
    "    .perm-answer {\n",
    "        margin-right: 50%;\n",
    "        margin-top: 5px;\n",
    "    }\n",
    "    \n",
    "    #is-permutation-feedback-container {\n",
    "        margin-top: 20px;\n",
    "        display: none;\n",
    "    }\n",
    "    \n",
    "    #perm-questions {\n",
    "        margin-top: 20px;\n",
    "    }\n",
    "    \n",
    "</style>\n",
    "\n",
    "<div id=\"perm-questions\">\n",
    "    <p>Check the box next to each set below if it is affected by permutations.</p>\n",
    "    <ol id=\"boolean-permutations\">\n",
    "        <li>The set of numbers in a 4-digit cell phone pass code<input class=\"booleanInput\" type=\"checkbox\"><span class=\"perm-answer\"></span></li><br>\n",
    "        <li>A set of 5 people you have chosen to go to dinner with<input class=\"booleanInput\" type=\"checkbox\"><span class=\"perm-answer\"></span></li><br>\n",
    "        <li>A set of 4 different fruits selected for a <a href=\"https://www.youtube.com/watch?v=LmR7G208ug4\" target=\"_blank\">fruit salad</a><input class=\"booleanInput\" type=\"checkbox\"><span class=\"perm-answer\"></span></li><br>\n",
    "        <li>A set of cars in the drive-thru at Tim Hortons<input class=\"booleanInput\" type=\"checkbox\"><span class=\"perm-answer\"></span></li><br>\n",
    "        <input type=\"button\" value=\"Submit answers\" onclick=\"isAPermutation()\">\n",
    "    </ol>\n",
    "</div>\n",
    "<div id=\"is-permutation-feedback-container\">\n",
    "<h3>Solutions</h3>\n",
    "</div>"
   ]
  },
  {
   "cell_type": "markdown",
   "metadata": {},
   "source": [
    "### An interactive example\n",
    "\n",
    "Now that we have an idea of what a permutation is, consider the example with circles below. These circles are like the ones you saw above, only now you can pick them up and put them in the hollow circles beneath them. Each placement of circles into the spaces provided creates a permutation of the circles. \n",
    "\n",
    "In this example, we're working with the mathematical definition of a permutation mentioned above. To define a permutation by placing the circles, you must:\n",
    "- Use all of the available circles\n",
    "- Avoid using the same circle more than once.\n",
    "\n",
    "Try placing the circles to create a permutation. In how many different ways can you permute the set?"
   ]
  },
  {
   "cell_type": "code",
   "execution_count": null,
   "metadata": {},
   "outputs": [],
   "source": [
    "%%html\n",
    "\n",
    "<link rel=\"stylesheet\" href=\"https://maxcdn.bootstrapcdn.com/bootstrap/3.3.7/css/bootstrap.min.css\">\n",
    "<link rel=\"stylesheet\" type=\"text/css\" href=\"./css/experimental_circles.css\">\n",
    "\n",
    "\n",
    "<div id=\"experiment-full\">\n",
    "<p>Adjust the slider to change the number of circles available.<br>\n",
    "    How many different permutations can you make with those circles?</p>\n",
    "</div>\n",
    "<div id=\"perm-range-container\">\n",
    "    <input class=\"slider\" id=\"perm-range-slider\" type=\"range\" min=\"2\" max=\"6\" value=\"3\"><span id=\"slider-output\"></span><br>\n",
    "</div>\n",
    "<div id=\"circles1-answer-container\">\n",
    "    <p id=\"circles1-answer\"></p>\n",
    "    <input id=\"reset-circles\" type=\"button\" value=\"Reset\" onclick=\"resetCircles(this)\">\n",
    "</div>\n",
    "<div class=\"clear-float\"></div>\n",
    "<div id=\"correct-permutations\" class=\"align-container\">\n",
    "    <table id=\"correct-permutations-table\">\n",
    "\n",
    "    </table>\n",
    "</div>\n",
    "<div class=\"clear-float\"></div>\n",
    "<div id=\"circles1-diff-permutations\"> \n",
    "</div>\n",
    "<script src=\"./scripts/circles.js\"></script>"
   ]
  },
  {
   "cell_type": "markdown",
   "metadata": {},
   "source": [
    "## Counting permutations\n",
    "\n",
    "In order to find out how many ways there are to permute a set, we need to think about how many different items we can place in a particular position. For instance, if we reset the above example we are looking at a set of three circles, { Red, Green, Blue}. Now, if we take all the items out and rearrage them, there are several possibilities, including { Green, Red, Blue}.\n",
    "\n",
    "But what we want to know is this: how many different permutations are possible? Suppose we have all three circles in the set, and someone tells us to rearrange them. How many different options do we have for what we place in the first blank circle? We still have all the circles in our original set, and we can put any of the circles in the first spot, so we have three choices. Let's say we choose Green. Now, how many options do we have for the second circle? We already put Green in the first spot, so now there are only two options left: red or blue. We started with three, now two. If we go one step further, we only have once choice left. Overall, we made $3\\times 2\\times 1 = 6$ choices.\n",
    "\n",
    "There is a pattern! Namely, if we have $n$ circles, where $n = 3$ in our case, then we have $n$ choices for the first, $n-1$ choices for the second, $n-2$ choices for the third and so on, until there is only one circle left. Overall, the number of choices is\n",
    "$$n(n-1)(n-2)\\cdots 2\\cdot 1 = n!.$$\n",
    "(Recall that the notation $n!$ is read as \"$n$ [factorial](https://en.wikipedia.org/wiki/Factorial)\".)\n",
    "\n",
    "\n",
    "## Permutations of a subset.\n",
    "\n",
    "In many cases, we aren't interested in rearranging the entire set of objects available, but only some subset of them. For example, we might have a total of five circles available, but we are going to choose only three of them and put them in order. What is the number of ways in which this can be done?\n",
    "\n",
    "The notation we use for this number $_nP_r$ (read as NPR -- like the radio station) where $r$ is the number of \"slots\" (that is, the number of objects chosen) and $n$ is the total number of circles we have to choose from.\n",
    "\n",
    "## Editorial note: add derivation of this formula\n",
    "The formula for calculuating the number of different permutations is $_nP_r = \\dfrac{n!}{(n-r)!}$. Remembering the rules of factorial, if n = r as in n-r=0, then the denominator is one since 0! = 1. Therefore, if n=r, we only compute n!. Since we have this scenario above, if we have three circles, the number of different permutations we can create are $3! = 3*2*1 = 6$.\n",
    "\n",
    "But what happens when we only have a subset of slots to put our circles into? What if r < n? Below is an example of when we have ordered set and how we can arrange a ordered subset. How many different ways can we express a subset?"
   ]
  },
  {
   "cell_type": "code",
   "execution_count": null,
   "metadata": {},
   "outputs": [],
   "source": [
    "%%html\n",
    "\n",
    "<div id=\"experiment-subset\">\n",
    "  \n",
    "</div>\n",
    "<div id=\"perm-subset-range-container\">\n",
    "    <input class=\"slider\"  id=\"perm-fullsubset-range-slider\" type=\"range\" min=\"4\" max=\"7\" value=\"5\"><p id=\"slider-full-output\"></p><br>\n",
    "    <input class=\"slider\"  id=\"perm-fillsubset-range-slider\" type=\"range\" min=\"2\" max=\"4\" value=\"3\"><p id=\"slider-fill-output\"></p><br>\n",
    "</div>\n",
    "<div class=\"clear-float\"></div>\n",
    "    <div id=\"circles-subset-answer-container\">\n",
    "          <p id=\"circles-subset-answer\"></p>\n",
    "          <input id=\"reset-circles-subset\" type=\"button\" value=\"Reset\" onclick=\"resetCircles_subset(this)\">\n",
    "    </div>\n",
    "</div>\n",
    "<div class=\"clear-float\"></div>\n",
    "<div id=\"correct-subset-permutations\" class=\"align-container\">\n",
    "    <table id=\"correct-subset-permutations-table\">\n",
    "\n",
    "    </table>\n",
    "</div>\n",
    "<script src=\"./scripts/circles_subset.js\"></script>"
   ]
  },
  {
   "cell_type": "markdown",
   "metadata": {},
   "source": [
    "Using the $_nP_r$ formula ($\\frac{n!}{(n-r)!}$), fill out the table below for the amount of circles we have (*n*) and the number of slots we have to put them in (*r*)."
   ]
  },
  {
   "cell_type": "code",
   "execution_count": null,
   "metadata": {},
   "outputs": [],
   "source": [
    "%%html\n",
    "\n",
    "<link rel=\"stylesheet\" type=\"text/css\" href=\"./css/perm_table.css\">\n",
    "<script src=\"./scripts/table_nchooser.js\"></script>\n",
    "\n",
    "<div id=\"table-container\">\n",
    "<table id=\"permutation-table\">\n",
    "</table>\n",
    "    <div id=\"table-button-container\">\n",
    "        <input id=\"submit-table-button\" type=\"button\" value=\"Submit Answers\" onclick=\"showFeedback()\">\n",
    "        <input id=\"show-solutions-button\" class=\"hidden\" type=\"button\" value=\"Show Solution\" onclick=\"showTableSolution()\">\n",
    "        <input id=\"unshow-solutions-button\" class=\"hidden\" type=\"button\" value=\"Unshow Solution\" onclick=\"unshowTableSolution()\">\n",
    "    </div>\n",
    "</div>"
   ]
  },
  {
   "cell_type": "markdown",
   "metadata": {},
   "source": [
    "## Restrictions\n",
    "\n",
    "Sometimes we have restrictions on permutations where certain items have to be arranged in a particular way. Let's look at an example:\n",
    "\n",
    "Rearrange the word BANANA such that no N's are adjacent.\n",
    "\n",
    "When we look at this problem, we need to look at how many ways we can arrange the word BANANA. We have six letters in the word and six slots to put them in, so therefore we have $6!$. However, we have 2 letters that have repetition. So we have to consider that two A's when rearranged in different ways spell out the exact same word. Since we have three A's and two N's, we must divide by the number of ways these letters would be arranged in the same way. Therefore we have: $\\frac{6!}{3!2!} = 60$. Now we have to think about the number of ways that we can arrange the word BANANA such that two N's are adjacent. We can see that if we take out the N's in BANANA we get BAAA which can we be arranged in 4 different ways since we have 4 letters with 3 repetitions we have $\\frac{4!}{3!}$. Now, if we consider all options where the N's are together then we can consider the two N's as a single letter. Therefore, the number of words we can make with repetitions of N are $\\frac{5!}{3!} = 20$ since we need to account for the 3 A's. Putting it together, we have the number of words we can make total with the 6 letters, 60, minus the number of words we can make with N being adjacent to each other, 20, then we get $60 - 20 = 40$ different ways we can rearrange BANANA such that no N's are adjacent.\n",
    "\n",
    "Here is a video with a good tutorial on permutations with restrictions:\n"
   ]
  },
  {
   "cell_type": "code",
   "execution_count": null,
   "metadata": {},
   "outputs": [],
   "source": [
    "%%html\n",
    "<iframe width=\"854\" height=\"480\" src=\"https://www.youtube.com/embed/zxxrR2oa0-M\" frameborder=\"0\" allow=\"autoplay; encrypted-media\" allowfullscreen></iframe>"
   ]
  },
  {
   "cell_type": "code",
   "execution_count": null,
   "metadata": {
    "scrolled": true
   },
   "outputs": [],
   "source": [
    "%%html\n",
    "\n",
    "<link rel=\"stylesheet\" type=\"text/css\" href=\"./css/restrictions.css\">\n",
    "<script src=\"./scripts/restrictions.js\"></script>\n",
    "\n",
    "<div id=\"restriction-questions-container\">\n",
    "    <h2>Exercises</h2>\n",
    "</div>\n",
    "<div id=\"restriction-solutions-container\" class=\"hidden\">\n",
    "    <h2>Solutions</h2>\n",
    "</div>\n"
   ]
  },
  {
   "cell_type": "code",
   "execution_count": null,
   "metadata": {},
   "outputs": [],
   "source": []
  }
 ],
 "metadata": {
  "kernelspec": {
   "display_name": "Python 3",
   "language": "python",
   "name": "python3"
  },
  "language_info": {
   "codemirror_mode": {
    "name": "ipython",
    "version": 3
   },
   "file_extension": ".py",
   "mimetype": "text/x-python",
   "name": "python",
   "nbconvert_exporter": "python",
   "pygments_lexer": "ipython3",
   "version": "3.6.5"
  }
 },
 "nbformat": 4,
 "nbformat_minor": 2
}
