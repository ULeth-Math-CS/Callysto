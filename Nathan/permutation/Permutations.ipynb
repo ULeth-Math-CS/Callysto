{
 "cells": [
  {
   "cell_type": "code",
   "execution_count": 17,
   "metadata": {},
   "outputs": [
    {
     "data": {
      "text/html": [
       "<script type = \"text/javascript\" src=\"https://d3js.org/d3.v3.min.js\"></script>\n",
       "<script src=\"https://ajax.googleapis.com/ajax/libs/jquery/3.3.1/jquery.min.js\"></script>\n",
       "<script type=\"text/x-mathjax-config\">\n",
       "    MathJax.Hub.Config({tex2jax: {inlineMath: [['$','$'], ['\\\\(','\\\\)']]}});\n",
       "</script>\n",
       "<script type=\"text/javascript\" async\n",
       "    src=\"https://cdnjs.cloudflare.com/ajax/libs/mathjax/2.7.4/MathJax.js?config=TeX-MML-AM_CHTML\">\n",
       "</script>"
      ],
      "text/plain": [
       "<IPython.core.display.HTML object>"
      ]
     },
     "metadata": {},
     "output_type": "display_data"
    }
   ],
   "source": [
    "%%html\n",
    "<script type = \"text/javascript\" src=\"https://d3js.org/d3.v3.min.js\"></script>\n",
    "<script src=\"https://ajax.googleapis.com/ajax/libs/jquery/3.3.1/jquery.min.js\"></script>\n",
    "<script type=\"text/x-mathjax-config\">\n",
    "    MathJax.Hub.Config({tex2jax: {inlineMath: [['$','$'], ['\\\\(','\\\\)']]}});\n",
    "</script>\n",
    "<script type=\"text/javascript\" async\n",
    "    src=\"https://cdnjs.cloudflare.com/ajax/libs/mathjax/2.7.4/MathJax.js?config=TeX-MML-AM_CHTML\">\n",
    "</script>"
   ]
  },
  {
   "cell_type": "markdown",
   "metadata": {},
   "source": [
    "# Permutations\n",
    "\n",
    "## What is a permutation?\n",
    "A permutation is the act of rearranging elements in a set into another order or sequence. A permutation is a rearrangement in which the order matters as opposed to a combination, where the order does not matter. Take the example below. We have a set in which we have 5 different circles. We can consider this a set of circles. If we wanted to reorder this set of circles, we would do what is called permuting the set. "
   ]
  },
  {
   "cell_type": "code",
   "execution_count": 18,
   "metadata": {},
   "outputs": [
    {
     "data": {
      "text/html": [
       "<div>\n",
       "    <svg width=\"100%\" height=\"300px\">\n",
       "        <circle cx=\"40\" cy=\"100\" r=\"40\" fill=\"red\"></circle>\n",
       "        <circle cx=\"140\" cy=\"100\" r=\"40\" fill=\"blue\"></circle>\n",
       "        <circle cx=\"240\" cy=\"100\" r=\"40\" fill=\"green\"></circle>\n",
       "        <circle cx=\"340\" cy=\"100\" r=\"40\" fill=\"purple\"></circle>\n",
       "        <circle cx=\"440\" cy=\"100\" r=\"40\" fill=\"yellow\"></circle>\n",
       "    </svg>\n",
       "</div>"
      ],
      "text/plain": [
       "<IPython.core.display.HTML object>"
      ]
     },
     "metadata": {},
     "output_type": "display_data"
    }
   ],
   "source": [
    "%%html\n",
    "<div>\n",
    "    <svg width=\"100%\" height=\"300px\">\n",
    "        <circle cx=\"40\" cy=\"100\" r=\"40\" fill=\"red\"></circle>\n",
    "        <circle cx=\"140\" cy=\"100\" r=\"40\" fill=\"blue\"></circle>\n",
    "        <circle cx=\"240\" cy=\"100\" r=\"40\" fill=\"green\"></circle>\n",
    "        <circle cx=\"340\" cy=\"100\" r=\"40\" fill=\"purple\"></circle>\n",
    "        <circle cx=\"440\" cy=\"100\" r=\"40\" fill=\"yellow\"></circle>\n",
    "    </svg>\n",
    "</div>"
   ]
  },
  {
   "cell_type": "markdown",
   "metadata": {},
   "source": [
    "So what are permutations in the real world? To emphasize, we are interested in sets where the order matters. Can you name any? Let's go through some:"
   ]
  },
  {
   "cell_type": "code",
   "execution_count": 19,
   "metadata": {},
   "outputs": [
    {
     "data": {
      "text/html": [
       "<script src=\"./scripts/is_a_permutation.js\"></script>\n",
       "\n",
       "<style>\n",
       "    li {\n",
       "        margin-top: 5px;\n",
       "    }\n",
       "    .booleanInput {\n",
       "        width: 30px;\n",
       "        margin-top: 10px;\n",
       "    }\n",
       "    .submit-boolean {\n",
       "        margin-left: 10px;\n",
       "    }\n",
       "    \n",
       "    .correct {\n",
       "        background-color: #33ff33;\n",
       "    }\n",
       "    \n",
       "    .incorrect {\n",
       "        background-color: #ff1a1a;\n",
       "    }\n",
       "    \n",
       "    .perm-answer {\n",
       "        margin-right: 50%;\n",
       "        margin-top: 5px;\n",
       "    }\n",
       "    \n",
       "    #is-permutation-feedback-container {\n",
       "        margin-top: 20px;\n",
       "        display: none;\n",
       "    }\n",
       "    \n",
       "    #perm-questions {\n",
       "        margin-top: 20px;\n",
       "    }\n",
       "    \n",
       "</style>\n",
       "\n",
       "<div id=\"perm-questions\">\n",
       "    <p>Check the following if they are permutations.</p>\n",
       "    <ol id=\"boolean-permutations\">\n",
       "        <li>Your 4-digit cell phone pass code?<input class=\"booleanInput\" type=\"checkbox\"><span class=\"perm-answer\"></span></li><br>\n",
       "        <li>Picking 5 people to go to dinner with?<input class=\"booleanInput\" type=\"checkbox\"><span class=\"perm-answer\"></span></li><br>\n",
       "        <li>Picking 4 different fruits to go in your salad?<input class=\"booleanInput\" type=\"checkbox\"><span class=\"perm-answer\"></span></li><br>\n",
       "        <li>A set of cars in the drive-thru at Tim Hortons?<input class=\"booleanInput\" type=\"checkbox\"><span class=\"perm-answer\"></span></li><br>\n",
       "        <input type=\"button\" value=\"Submit answers\" onclick=\"isAPermutation()\">\n",
       "    </ol>\n",
       "</div>\n",
       "<div id=\"is-permutation-feedback-container\">\n",
       "<h3>Solutions</h3>\n",
       "</div>"
      ],
      "text/plain": [
       "<IPython.core.display.HTML object>"
      ]
     },
     "metadata": {},
     "output_type": "display_data"
    }
   ],
   "source": [
    "%%html\n",
    "<script src=\"./scripts/is_a_permutation.js\"></script>\n",
    "\n",
    "<style>\n",
    "    li {\n",
    "        margin-top: 5px;\n",
    "    }\n",
    "    .booleanInput {\n",
    "        width: 30px;\n",
    "        margin-top: 10px;\n",
    "    }\n",
    "    .submit-boolean {\n",
    "        margin-left: 10px;\n",
    "    }\n",
    "    \n",
    "    .correct {\n",
    "        background-color: #33ff33;\n",
    "    }\n",
    "    \n",
    "    .incorrect {\n",
    "        background-color: #ff1a1a;\n",
    "    }\n",
    "    \n",
    "    .perm-answer {\n",
    "        margin-right: 50%;\n",
    "        margin-top: 5px;\n",
    "    }\n",
    "    \n",
    "    #is-permutation-feedback-container {\n",
    "        margin-top: 20px;\n",
    "        display: none;\n",
    "    }\n",
    "    \n",
    "    #perm-questions {\n",
    "        margin-top: 20px;\n",
    "    }\n",
    "    \n",
    "</style>\n",
    "\n",
    "<div id=\"perm-questions\">\n",
    "    <p>Check the following if they are permutations.</p>\n",
    "    <ol id=\"boolean-permutations\">\n",
    "        <li>Your 4-digit cell phone pass code?<input class=\"booleanInput\" type=\"checkbox\"><span class=\"perm-answer\"></span></li><br>\n",
    "        <li>Picking 5 people to go to dinner with?<input class=\"booleanInput\" type=\"checkbox\"><span class=\"perm-answer\"></span></li><br>\n",
    "        <li>Picking 4 different fruits to go in your salad?<input class=\"booleanInput\" type=\"checkbox\"><span class=\"perm-answer\"></span></li><br>\n",
    "        <li>A set of cars in the drive-thru at Tim Hortons?<input class=\"booleanInput\" type=\"checkbox\"><span class=\"perm-answer\"></span></li><br>\n",
    "        <input type=\"button\" value=\"Submit answers\" onclick=\"isAPermutation()\">\n",
    "    </ol>\n",
    "</div>\n",
    "<div id=\"is-permutation-feedback-container\">\n",
    "<h3>Solutions</h3>\n",
    "</div>"
   ]
  },
  {
   "cell_type": "markdown",
   "metadata": {},
   "source": [
    "Now we know what a permutation is, consider the below example of circles. They are like what you have seen above, only now you can pick them up and put them in the hollow circles below. As an exercise, permute the set below. How many different ways can you permute the set?"
   ]
  },
  {
   "cell_type": "code",
   "execution_count": 25,
   "metadata": {},
   "outputs": [
    {
     "data": {
      "text/html": [
       "\n",
       "<link rel=\"stylesheet\" href=\"https://maxcdn.bootstrapcdn.com/bootstrap/3.3.7/css/bootstrap.min.css\">\n",
       "<link rel=\"stylesheet\" type=\"text/css\" href=\"./css/experimental_circles.css\">\n",
       "\n",
       "\n",
       "<div id=\"experiment-full\">\n",
       "</div>\n",
       "<div id=\"perm-range-container\">\n",
       "    <input class=\"slider\" id=\"perm-range-slider\" type=\"range\" min=\"2\" max=\"6\" value=\"3\"><span id=\"slider-output\"></span><br>\n",
       "</div>\n",
       "<div id=\"circles1-answer-container\">\n",
       "    <p id=\"circles1-answer\"></p>\n",
       "    <input id=\"reset-circles\" type=\"button\" value=\"Reset\" onclick=\"resetCircles(this)\">\n",
       "</div>\n",
       "<div class=\"clear-float\"></div>\n",
       "<div id=\"correct-permutations\" class=\"align-container\">\n",
       "    <table id=\"correct-permutations-table\">\n",
       "\n",
       "    </table>\n",
       "</div>\n",
       "<div class=\"clear-float\"></div>\n",
       "<div id=\"circles1-diff-permutations\"> \n",
       "    <p>How many different permutations can you make with the above circles?</p>\n",
       "</div>\n",
       "<script src=\"./scripts/circles.js\"></script>"
      ],
      "text/plain": [
       "<IPython.core.display.HTML object>"
      ]
     },
     "metadata": {},
     "output_type": "display_data"
    }
   ],
   "source": [
    "%%html\n",
    "\n",
    "<link rel=\"stylesheet\" href=\"https://maxcdn.bootstrapcdn.com/bootstrap/3.3.7/css/bootstrap.min.css\">\n",
    "<link rel=\"stylesheet\" type=\"text/css\" href=\"./css/experimental_circles.css\">\n",
    "\n",
    "\n",
    "<div id=\"experiment-full\">\n",
    "</div>\n",
    "<div id=\"perm-range-container\">\n",
    "    <input class=\"slider\" id=\"perm-range-slider\" type=\"range\" min=\"2\" max=\"6\" value=\"3\"><span id=\"slider-output\"></span><br>\n",
    "</div>\n",
    "<div id=\"circles1-answer-container\">\n",
    "    <p id=\"circles1-answer\"></p>\n",
    "    <input id=\"reset-circles\" type=\"button\" value=\"Reset\" onclick=\"resetCircles(this)\">\n",
    "</div>\n",
    "<div class=\"clear-float\"></div>\n",
    "<div id=\"correct-permutations\" class=\"align-container\">\n",
    "    <table id=\"correct-permutations-table\">\n",
    "\n",
    "    </table>\n",
    "</div>\n",
    "<div class=\"clear-float\"></div>\n",
    "<div id=\"circles1-diff-permutations\"> \n",
    "    <p>How many different permutations can you make with the above circles?</p>\n",
    "</div>\n",
    "<script src=\"./scripts/circles.js\"></script>"
   ]
  },
  {
   "cell_type": "markdown",
   "metadata": {},
   "source": [
    "In order to find out how many ways there are to permute a set, we need to think about how many different items we can place in a particular position. For instance, if we reset the above example we are looking at a set of five circles, { Red, Green, Blue, Gray, Yellow }. Now, if I took all the items out and I wanted to rearrage them, I could do something like { Green, Red, Gray, Blue, Yellow }. But we want to know how many different solutions there are to the problem. If I take out all the items of the set, and someone tells me to rearrange them, how many different options do I have for the first circle? I have five. I can put any of the circles in the first spot. I choose Green. Now, how many options do I have for the second circle? I already put Green in the first spot, so now I only have four options. I started with five, now four. If we look one step further, we will see I only have three options. There is a pattern! Namely, if I have n circles, where n = 5 in our case, then I have n choices for the first, n-1 choices for the second, n-2 choices for the third and so on. So I have n(n-1)(n-2)...(n-k) where k = n+1 or what is n!. This can be expressed as $_nP_r$ where $r$ is the number of \"slots\" and $n$ is the total number of circles we have to put in those slots.\n",
    "The formula for calculuating the number of different permutations is $\\frac{n!}{(n-r)!}$. Remembering the rules of factorial, if n = r as in n-r=0, then the denominator is one since 0! = 1. Therefore, if n=r, we only compute n!. Since we have this scenario above, if we have three circles, the number of different permutations we can create are $3! = 3*2*1 = 6$.\n",
    "\n",
    "But what happens when we only have a subset of slots to put our circles into? What if r < n? Below is an example of when we have ordered set and how we can arrange a ordered subset. How many different ways can we express a subset?"
   ]
  },
  {
   "cell_type": "code",
   "execution_count": 26,
   "metadata": {},
   "outputs": [
    {
     "data": {
      "text/html": [
       "\n",
       "<div id=\"experiment-subset\">\n",
       "  \n",
       "</div>\n",
       "<div id=\"perm-subset-range-container\">\n",
       "    <input class=\"slider\"  id=\"perm-fullsubset-range-slider\" type=\"range\" min=\"4\" max=\"7\" value=\"5\"><p id=\"slider-full-output\"></p><br>\n",
       "    <input class=\"slider\"  id=\"perm-fillsubset-range-slider\" type=\"range\" min=\"2\" max=\"4\" value=\"3\"><p id=\"slider-fill-output\"></p><br>\n",
       "</div>\n",
       "<div class=\"clear-float\"></div>\n",
       "    <div id=\"circles-subset-answer-container\">\n",
       "          <p id=\"circles-subset-answer\"></p>\n",
       "          <input id=\"reset-circles-subset\" type=\"button\" value=\"Reset\" onclick=\"resetCircles_subset(this)\">\n",
       "    </div>\n",
       "</div>\n",
       "<div class=\"clear-float\"></div>\n",
       "<div id=\"correct-subset-permutations\" class=\"align-container\">\n",
       "    <table id=\"correct-subset-permutations-table\">\n",
       "\n",
       "    </table>\n",
       "</div>\n",
       "<script src=\"./scripts/circles_subset.js\"></script>"
      ],
      "text/plain": [
       "<IPython.core.display.HTML object>"
      ]
     },
     "metadata": {},
     "output_type": "display_data"
    }
   ],
   "source": [
    "%%html\n",
    "\n",
    "<div id=\"experiment-subset\">\n",
    "  \n",
    "</div>\n",
    "<div id=\"perm-subset-range-container\">\n",
    "    <input class=\"slider\"  id=\"perm-fullsubset-range-slider\" type=\"range\" min=\"4\" max=\"7\" value=\"5\"><p id=\"slider-full-output\"></p><br>\n",
    "    <input class=\"slider\"  id=\"perm-fillsubset-range-slider\" type=\"range\" min=\"2\" max=\"4\" value=\"3\"><p id=\"slider-fill-output\"></p><br>\n",
    "</div>\n",
    "<div class=\"clear-float\"></div>\n",
    "    <div id=\"circles-subset-answer-container\">\n",
    "          <p id=\"circles-subset-answer\"></p>\n",
    "          <input id=\"reset-circles-subset\" type=\"button\" value=\"Reset\" onclick=\"resetCircles_subset(this)\">\n",
    "    </div>\n",
    "</div>\n",
    "<div class=\"clear-float\"></div>\n",
    "<div id=\"correct-subset-permutations\" class=\"align-container\">\n",
    "    <table id=\"correct-subset-permutations-table\">\n",
    "\n",
    "    </table>\n",
    "</div>\n",
    "<script src=\"./scripts/circles_subset.js\"></script>"
   ]
  },
  {
   "cell_type": "markdown",
   "metadata": {},
   "source": [
    "Using the $_nP_r$ formula ($\\frac{n!}{(n-r)!}$), fill out the table below for the amount of circles we have (*n*) and the number of slots we have to put them in (*r*)."
   ]
  },
  {
   "cell_type": "code",
   "execution_count": 22,
   "metadata": {},
   "outputs": [
    {
     "data": {
      "text/html": [
       "\n",
       "<link rel=\"stylesheet\" type=\"text/css\" href=\"./css/perm_table.css\">\n",
       "<script src=\"./scripts/table_nchooser.js\"></script>\n",
       "\n",
       "<div id=\"table-container\">\n",
       "<table id=\"permutation-table\">\n",
       "</table>\n",
       "    <div id=\"table-button-container\">\n",
       "        <input id=\"submit-table-button\" type=\"button\" value=\"Submit Answers\" onclick=\"showFeedback()\">\n",
       "        <input id=\"show-solutions-button\" class=\"hidden\" type=\"button\" value=\"Show Solution\" onclick=\"showTableSolution()\">\n",
       "        <input id=\"unshow-solutions-button\" class=\"hidden\" type=\"button\" value=\"Unshow Solution\" onclick=\"unshowTableSolution()\">\n",
       "    </div>\n",
       "</div>"
      ],
      "text/plain": [
       "<IPython.core.display.HTML object>"
      ]
     },
     "metadata": {},
     "output_type": "display_data"
    }
   ],
   "source": [
    "%%html\n",
    "\n",
    "<link rel=\"stylesheet\" type=\"text/css\" href=\"./css/perm_table.css\">\n",
    "<script src=\"./scripts/table_nchooser.js\"></script>\n",
    "\n",
    "<div id=\"table-container\">\n",
    "<table id=\"permutation-table\">\n",
    "</table>\n",
    "    <div id=\"table-button-container\">\n",
    "        <input id=\"submit-table-button\" type=\"button\" value=\"Submit Answers\" onclick=\"showFeedback()\">\n",
    "        <input id=\"show-solutions-button\" class=\"hidden\" type=\"button\" value=\"Show Solution\" onclick=\"showTableSolution()\">\n",
    "        <input id=\"unshow-solutions-button\" class=\"hidden\" type=\"button\" value=\"Unshow Solution\" onclick=\"unshowTableSolution()\">\n",
    "    </div>\n",
    "</div>"
   ]
  },
  {
   "cell_type": "markdown",
   "metadata": {},
   "source": [
    "## Restrictions\n",
    "\n",
    "Sometimes we have restrictions on permutations where certain items have to be arranged in a particular way. Let's look at an example:\n",
    "\n",
    "Rearrange the word BANANA such that no N's are adjacent.\n",
    "\n",
    "When we look at this problem, we need to look at how many ways we can arrange the word BANANA. We have six letters in the word and six slots to put them in, so therefore we have $6!$. However, we have 2 letters that have repetition. So we have to consider that two A's when rearranged in different ways spell out the exact same word. Since we have three A's and two N's, we must divide by the number of ways these letters would be arranged in the same way. Therefore we have: $\\frac{6!}{3!2!} = 60$. Now we have to think about the number of ways that we can arrange the word BANANA such that two N's are adjacent. We can see that if we take out the N's in BANANA we get BAAA which can we be arranged in 4 different ways since we have 4 letters with 3 repetitions we have $\\frac{4!}{3!}$. Now, if we consider all options where the N's are together then we can consider the two N's as a single letter. Therefore, the number of words we can make with repetitions of N are $\\frac{5!}{3!} = 20$ since we need to account for the 3 A's. Putting it together, we have the number of words we can make total with the 6 letters, 60, minus the number of words we can make with N being adjacent to each other, 20, then we get $60 - 20 = 40$ different ways we can rearrange BANANA such that no N's are adjacent.\n",
    "\n",
    "Here is a video with a good tutorial on permutations with restrictions:\n"
   ]
  },
  {
   "cell_type": "code",
   "execution_count": 23,
   "metadata": {},
   "outputs": [
    {
     "data": {
      "text/html": [
       "<iframe width=\"854\" height=\"480\" src=\"https://www.youtube.com/embed/zxxrR2oa0-M\" frameborder=\"0\" allow=\"autoplay; encrypted-media\" allowfullscreen></iframe>"
      ],
      "text/plain": [
       "<IPython.core.display.HTML object>"
      ]
     },
     "metadata": {},
     "output_type": "display_data"
    }
   ],
   "source": [
    "%%html\n",
    "<iframe width=\"854\" height=\"480\" src=\"https://www.youtube.com/embed/zxxrR2oa0-M\" frameborder=\"0\" allow=\"autoplay; encrypted-media\" allowfullscreen></iframe>"
   ]
  },
  {
   "cell_type": "code",
   "execution_count": 24,
   "metadata": {
    "scrolled": true
   },
   "outputs": [
    {
     "data": {
      "text/html": [
       "\n",
       "<link rel=\"stylesheet\" type=\"text/css\" href=\"./css/restrictions.css\">\n",
       "<script src=\"./scripts/restrictions.js\"></script>\n",
       "\n",
       "<div id=\"restriction-questions-container\">\n",
       "    <h2>Exercises</h2>\n",
       "</div>\n",
       "<div id=\"restriction-solutions-container\" class=\"hidden\">\n",
       "    <h2>Solutions</h2>\n",
       "</div>"
      ],
      "text/plain": [
       "<IPython.core.display.HTML object>"
      ]
     },
     "metadata": {},
     "output_type": "display_data"
    }
   ],
   "source": [
    "%%html\n",
    "\n",
    "<link rel=\"stylesheet\" type=\"text/css\" href=\"./css/restrictions.css\">\n",
    "<script src=\"./scripts/restrictions.js\"></script>\n",
    "\n",
    "<div id=\"restriction-questions-container\">\n",
    "    <h2>Exercises</h2>\n",
    "</div>\n",
    "<div id=\"restriction-solutions-container\" class=\"hidden\">\n",
    "    <h2>Solutions</h2>\n",
    "</div>\n"
   ]
  },
  {
   "cell_type": "code",
   "execution_count": null,
   "metadata": {},
   "outputs": [],
   "source": []
  }
 ],
 "metadata": {
  "kernelspec": {
   "display_name": "Python 3",
   "language": "python",
   "name": "python3"
  },
  "language_info": {
   "codemirror_mode": {
    "name": "ipython",
    "version": 3
   },
   "file_extension": ".py",
   "mimetype": "text/x-python",
   "name": "python",
   "nbconvert_exporter": "python",
   "pygments_lexer": "ipython3",
   "version": "3.6.5"
  }
 },
 "nbformat": 4,
 "nbformat_minor": 2
}
