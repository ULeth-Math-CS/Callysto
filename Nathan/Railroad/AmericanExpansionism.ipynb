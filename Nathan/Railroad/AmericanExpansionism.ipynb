{
 "cells": [
  {
   "cell_type": "code",
   "execution_count": 35,
   "metadata": {},
   "outputs": [
    {
     "data": {
      "text/html": [
       "<link rel=\"stylesheet\" type=\"text/css\" href=\"./css/railroad.css\">\n",
       "<div class=\"book-card grid-parent-12\">\n",
       "  <h2 class=\"grid-item-1\">American Expansionism</h2>\n",
       "  <p class=\"grid-item-2\">At the time of Confederation, the United States was extending its territory westwards. \n",
       "    Between 1864 and 1890, nine new states were created, four of which were on the Canadian border. In 1867, \n",
       "    the United States purchased Alaska from Russia. The end of the American Civil War saw renewed investment \n",
       "    in land, in railway construction and in the exploitation of natural resources in the American west. At the \n",
       "    end of the 1860s, American merchants and colonists began to look at lands in the Canadian west as a place \n",
       "    where they could get established and the American government did not hide the fact that such a possibility \n",
       "    was attractive. The Civil War made Canada's defence a touchy subject. Great Britain was reluctant to \n",
       "    invest in such a major undertaking. Confederation of the British colonies seemed a more logical choice. It \n",
       "    would allow transferring the administration of the \"colonies\" to a new, duly constituted, state and would \n",
       "    put the brakes on the goals of the United States.</p>\n",
       "  <img class=\"grid-item-3\" src=\"imgs/mufasa.jpeg\">\n",
       "</div>\n",
       "<div class=\"book-card grid-parent-12\">\n",
       "    <h2 class=\"grid-item-1\">Significance</h2>\n",
       "    <p class=\"grid-item-2\">Manifest Destiny contributed to a growing sense of national identity, which culminated in the \n",
       "    Charlottetown Conference of 1864, and political efforts to unify British colonies in North America. \n",
       "    As the British Empire began to move toward a policy of free trade, the expense of defending and \n",
       "    administering colonial governments in North America became more and more untenable for the ageing empire. \n",
       "    The emergence of responsible government in the Canadas, the repeal of the Corn Laws in 1846 and the defeat \n",
       "    of the Confederate Army in the United States in 1865 complemented British desires to take a lesser role in \n",
       "    the governance of the Canadian provinces as they moved in the direction of Confederation in 1867. Alongside these developments, Manifest Destiny occupied an important place in the symbolic imagery of conquest and colonialism in 19th century North America. Consequently, it factored into efforts to push west and north, settling the Prairie Provinces and the Arctic, indicating the persistence of an expansionist urge on behalf of the Canadian state.\n",
       "    Manifest Destiny speaks to the shared pasts of Canada and the United States as governments that formed after \n",
       "    the British colonization of North America. It has come to represent a persistent theme in efforts to map \n",
       "    the similarities and differences between Canadians and Americans. In both national examples, the push \n",
       "    westward took the most drastic toll on Indigenous peoples of areas affected by these mutual expansionist \n",
       "    tendencies, who experienced forced dislocation and long ranging negative effects of the imposition of \n",
       "    foreign models of governance over their political sovereignty.\n",
       "</p>\n",
       "<img src=\"imgs/Silicon_valley_title.png\" class=\"grid-item-3\">\n",
       "</div>\n",
       "<input type=\"button\" id=\"continue-button\" value=\"Continue\" onclick=\"nextCard()\">\n",
       "<script src=\"./js/railroad.js\"></script>\n"
      ],
      "text/plain": [
       "<IPython.core.display.HTML object>"
      ]
     },
     "metadata": {},
     "output_type": "display_data"
    }
   ],
   "source": [
    "%%html\n",
    "<link rel=\"stylesheet\" type=\"text/css\" href=\"./css/railroad.css\">\n",
    "<div class=\"book-card grid-parent-12\">\n",
    "  <h2 class=\"grid-item-1\">American Expansionism</h2>\n",
    "  <p class=\"grid-item-2\">At the time of Confederation, the United States was extending its territory westwards. \n",
    "    Between 1864 and 1890, nine new states were created, four of which were on the Canadian border. In 1867, \n",
    "    the United States purchased Alaska from Russia. The end of the American Civil War saw renewed investment \n",
    "    in land, in railway construction and in the exploitation of natural resources in the American west. At the \n",
    "    end of the 1860s, American merchants and colonists began to look at lands in the Canadian west as a place \n",
    "    where they could get established and the American government did not hide the fact that such a possibility \n",
    "    was attractive. The Civil War made Canada's defence a touchy subject. Great Britain was reluctant to \n",
    "    invest in such a major undertaking. Confederation of the British colonies seemed a more logical choice. It \n",
    "    would allow transferring the administration of the \"colonies\" to a new, duly constituted, state and would \n",
    "    put the brakes on the goals of the United States.</p>\n",
    "  <img class=\"grid-item-3\" src=\"imgs/mufasa.jpeg\">\n",
    "</div>\n",
    "<div class=\"book-card grid-parent-12\">\n",
    "    <h2 class=\"grid-item-1\">Significance</h2>\n",
    "    <p class=\"grid-item-2\">Manifest Destiny contributed to a growing sense of national identity, which culminated in the \n",
    "    Charlottetown Conference of 1864, and political efforts to unify British colonies in North America. \n",
    "    As the British Empire began to move toward a policy of free trade, the expense of defending and \n",
    "    administering colonial governments in North America became more and more untenable for the ageing empire. \n",
    "    The emergence of responsible government in the Canadas, the repeal of the Corn Laws in 1846 and the defeat \n",
    "    of the Confederate Army in the United States in 1865 complemented British desires to take a lesser role in \n",
    "    the governance of the Canadian provinces as they moved in the direction of Confederation in 1867. Alongside these developments, Manifest Destiny occupied an important place in the symbolic imagery of conquest and colonialism in 19th century North America. Consequently, it factored into efforts to push west and north, settling the Prairie Provinces and the Arctic, indicating the persistence of an expansionist urge on behalf of the Canadian state.\n",
    "    Manifest Destiny speaks to the shared pasts of Canada and the United States as governments that formed after \n",
    "    the British colonization of North America. It has come to represent a persistent theme in efforts to map \n",
    "    the similarities and differences between Canadians and Americans. In both national examples, the push \n",
    "    westward took the most drastic toll on Indigenous peoples of areas affected by these mutual expansionist \n",
    "    tendencies, who experienced forced dislocation and long ranging negative effects of the imposition of \n",
    "    foreign models of governance over their political sovereignty.\n",
    "</p>\n",
    "<img src=\"imgs/Silicon_valley_title.png\" class=\"grid-item-3\">\n",
    "</div>\n",
    "<input type=\"button\" id=\"continue-button\" value=\"Continue\" onclick=\"nextCard()\">\n",
    "<script src=\"./js/railroad.js\"></script>"
   ]
  }
 ],
 "metadata": {
  "kernelspec": {
   "display_name": "Python 3",
   "language": "python",
   "name": "python3"
  },
  "language_info": {
   "codemirror_mode": {
    "name": "ipython",
    "version": 3
   },
   "file_extension": ".py",
   "mimetype": "text/x-python",
   "name": "python",
   "nbconvert_exporter": "python",
   "pygments_lexer": "ipython3",
   "version": "3.6.8"
  }
 },
 "nbformat": 4,
 "nbformat_minor": 2
}
