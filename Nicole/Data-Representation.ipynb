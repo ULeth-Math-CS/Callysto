{
 "cells": [
  {
   "cell_type": "markdown",
   "metadata": {},
   "source": [
    "![logo](https://callysto.ca/wp-content/uploads/2018/06/Callysto_Notebook-Banner_Top_06.06.18.jpg)"
   ]
  },
  {
   "cell_type": "code",
   "execution_count": null,
   "metadata": {},
   "outputs": [],
   "source": [
    "from IPython.display import HTML\n",
    "hide_me = ''\n",
    "HTML('''<script>\n",
    "code_show=true; \n",
    "function code_toggle() {\n",
    "  if (code_show) {\n",
    "    $('div.input').each(function(id) {\n",
    "      el = $(this).find('.cm-variable:first');\n",
    "      if (id == 0 || el.text() == 'hide_me') {\n",
    "        $(this).hide();\n",
    "      }\n",
    "    });\n",
    "    $('div.output_prompt').css('opacity', 0);\n",
    "  } else {\n",
    "    $('div.input').each(function(id) {\n",
    "      $(this).show();\n",
    "    });\n",
    "    $('div.output_prompt').css('opacity', 1);\n",
    "  }\n",
    "  code_show = !code_show\n",
    "} \n",
    "$( document ).ready(code_toggle);\n",
    "</script>\n",
    "<form action=\"javascript:code_toggle()\"><input style=\"opacity:1\" type=\"submit\" value=\"Click here to toggle on/off the raw code.\"></form>''')"
   ]
  },
  {
   "cell_type": "code",
   "execution_count": null,
   "metadata": {},
   "outputs": [],
   "source": [
    "hide_me\n",
    "\n",
    "from ipywidgets import interact\n",
    "import ipywidgets as widgets\n",
    "import IPython\n",
    "\n",
    "import matplotlib.pyplot as plt\n",
    "import numpy as np\n",
    "import math\n",
    "\n",
    "import plotly.plotly as py\n",
    "import plotly.graph_objs as go\n",
    "\n",
    "import pylab\n",
    "\n",
    "from IPython.display import Image\n",
    "from IPython.display import HTML"
   ]
  },
  {
   "cell_type": "markdown",
   "metadata": {},
   "source": [
    "# Data Representation in Graphs\n",
    "\n",
    "##### Created by Nicole Vachon"
   ]
  },
  {
   "cell_type": "markdown",
   "metadata": {},
   "source": [
    "We live in an increasingly data-driven society. Like it or not, we are faced with numerical information every day, and use it to make decisions. Should I be reassured that 9 out of 10 dentists recommend my toothpaste? What about the 10th? \n",
    "A new study says that going for a run at 5 am every morning reduces my risk of contracting some terrible disease by 15%. Is it worth getting out of bed?\n",
    "\n",
    "Most people don't easily digest raw numerical data, so we like to visualize it using graphs. Graphs are a great tool for visually representing numerical information, and they come in many forms. But not all graphs are created equal. Some do their jobs better than others. A good graph is an indespensible tool for understanding a problem. A bad graph can be confusing, or in some cases, intentionally misleading.\n",
    "\n",
    "Graphs are used every day by news media, politicians, and scientists to convey information. Some use them well, some do not. In this notebook, we'll explore good and bad examples of graphs. By working through the examples and exercises in this notebook, you'll learn how to:\n",
    "\n",
    "- Decide which type of graph is best for the information you want to convey.\n",
    "- How to identify flawed or misleading graphs.\n",
    "- How some of those flaws can be corrected.\n",
    "- Most importantly, how to read a graph, and use it to gain information you can use to guide yourself through everyday life.\n"
   ]
  },
  {
   "cell_type": "markdown",
   "metadata": {},
   "source": [
    "Many of the examples of bad graphs that you'll encounter below are taken from the media (and one media organization in particular). This notebook isn't intended as a critique of those organizations; they just happen to have provided us with a wealth of examples to choose from."
   ]
  },
  {
   "cell_type": "markdown",
   "metadata": {},
   "source": [
    "## What do we want in a good representation of data?\n",
    "\n",
    "First, and foremost, we want a graphic that allows a reader, at a glance, to obtain the information we wish to convey. Some basic ingredients to consider in any successful graph include:\n",
    "\n",
    "1. A title\n",
    "2. Labelled axes \n",
    "3. Axes start at zero if numerical \n",
    "4. Percentages add to 100%\n",
    "5. Easy to read\n",
    "6. Use of colours, *provided they convey information*, and are not just for show."
   ]
  },
  {
   "cell_type": "markdown",
   "metadata": {},
   "source": [
    "For a quick overview of different types of graphs, with simple examples, you might find the following \n",
    "[Math Is Fun](https://www.mathsisfun.com/data/pictographs.html) article useful. We'll look at some of these graphs below. Note that many of them are eye-catching, and also efficiently convey information about a topic.\n",
    "\n",
    "One of the contexts in which you'll find a lot of graphs is political coverage. The media (and many of their readers/viewers) love a good horse race. For example this [CBC federal poll tracking article](http://www.cbc.ca/news/politics/poll-tracker-federal-poll-averages-and-seat-projections-1.4171977) uses almost every type of graph you're about to encounter in this notebook.\n",
    "\n",
    "But as we'll also explore in this notebook, a graph can be used to [mislead someone](http://teachersinstitute.yale.edu/curriculum/units/2008/6/08.06.06.x.html). We hope this notebook will help you learn how to avoid using misleading graphs, as well as how to avoid being misled yourself.\n",
    "\n",
    "There even exists a [wall of shame](http://bcuchta.com/wall_of_shame/) of some of the worst graphs and charts!"
   ]
  },
  {
   "cell_type": "markdown",
   "metadata": {},
   "source": [
    "## Lets look at bar graphs\n",
    "\n",
    "### What is a bar graph?\n",
    "\n",
    "A bar graph is a graph where data that's separated into categories are shown as bars with different heights. It's a very useful graph, but also easily used to misrepresent data.\n",
    "\n",
    "![picture](https://www.mathsisfun.com/data/images/bar-graph-fruit.svg)\n",
    "\n",
    "### When are bar graphs good to use?\n",
    "\n",
    "Bar graphs are quite verstile, i.e. can be used in many ways, but is most common to show the same data collected from many groups or categories such as how many hours people work in different age brackets, or how many black shirts each girl in a class owns.\n",
    "\n",
    "### What might be some ways to misrepresent the data with bar graphs?\n",
    "\n",
    "1. Change the scale\n",
    "        a. This makes small changes look much bigger than they are\n",
    "2. Change the width of the bars to make one category look more important\n",
    "        a. This gives one bar more area, which looks like more data\n",
    "3. Putting the bars next to each other (that's a histogram)\n",
    "        a. Bar graphs are for discontinuous data while histograms are for continuous data"
   ]
  },
  {
   "cell_type": "markdown",
   "metadata": {},
   "source": [
    "**********\n",
    "## Here's a bad bar graph:\n",
    "![picture](http://mediamatters.org/static/images/item/fnc-an-20120809-welfarechart-2.jpg)\n",
    "\n",
    "\n",
    "It's likely the creators of this graph wanted to convince the viewer that welfare in the US is significantly rising.\n",
    "\n",
    "What can we do to make this a good graph?\n",
    "\n",
    "How does it look after we made some adjustments?\n",
    "\n",
    "Why might the original creators not want to use our new graph?\n",
    "\n",
    ">Slide the slider below to change the starting point of the $y$-axis. The initial position corresponds to the graph in the image above. As you move the slider to the left, the starting point for the $y$-axis is reduced to zero.\n",
    ">\n",
    ">Warning: This graph is slow to respond, please be patient with it."
   ]
  },
  {
   "cell_type": "code",
   "execution_count": null,
   "metadata": {},
   "outputs": [],
   "source": [
    "hide_me\n",
    "\n",
    "#points = [(1,97),(2,98),(3,99),(4,101),(5,104),(6,105),(7,106),(8,107),(9,107.5),(10,108)]\n",
    "#ax1.set_ylim((yaxis,110))\n",
    "#yaxis = widgets.IntSlider(20,0,110)\n",
    "\n",
    "\n",
    "columns = ['09-Q1', '09-Q2', '09-Q3', '09-Q4', '10-Q1', '10-Q2','10-Q3', '10-Q4', '11-Q1', '11-Q2']\n",
    "#fig, ax = plt.subplots()\n",
    "def plot(yaxis=94):\n",
    "    y = [97, 98, 99, 101, 104, 105, 106, 107, 107.5, 108]\n",
    "    x = np.arange(len(y))\n",
    "    fig, ax = plt.subplots(figsize=(10,4))\n",
    "    ax.bar(x, y, width=0.5)\n",
    "    ax.set_xticks(x)\n",
    "    ax.set_xticklabels(columns)\n",
    "    ax.set_ylim((yaxis,110))\n",
    "    ax.set_title(\"Federal Welfare Received in the US\")\n",
    "    \n",
    "interact(plot, yaxis=(0,90), continuous_update = True, wait = False)\n",
    "#plt.show()"
   ]
  },
  {
   "cell_type": "markdown",
   "metadata": {},
   "source": [
    "Some interesting things that are different about their graph:\n",
    "1. Their scale starts at 94 million insead of 0\n",
    "2. Their graph is in 3D, making it harder to read\n",
    "3. Their y-axis has 8 labels but there are 9 sections on the graph"
   ]
  },
  {
   "cell_type": "markdown",
   "metadata": {},
   "source": [
    "## Let's look at pictographs\n",
    "\n",
    "### What is a pictograph?\n",
    "\n",
    "A pictograph is a way to show data using images where each image represents a certin number of things that are being measured. They look a lot like bar graphs and they can be horizontal or vertical too.\n",
    "\n",
    "![picture](https://www.mathsisfun.com/data/images/pictograph-tennis.svg)\n",
    "\n",
    "### Why do people like to use pictographs?\n",
    "\n",
    "The main reason is because it's a simple visual that is generally helpul in showing amounts visually.\n",
    "\n",
    "If everything is easily convertible into a simple scale like this, then a pictograph might be the right choice to represent this data. Pictographs often work best with small numbers as the data.\n",
    "\n",
    "### What might be some drawbacks?\n",
    "\n",
    "In the example above, what if Sam played 46 games instead of 45? There's no way to show that on this pictogram so it might not be as acurate as another way to represent this data. "
   ]
  },
  {
   "cell_type": "markdown",
   "metadata": {},
   "source": [
    "### This is a bad pictograph. Why?\n",
    "\n",
    "![picture](http://teachersinstitute.yale.edu/curriculum/images/2008/6/08.06.06.11.jpg)\n",
    "\n",
    "At first is seems like a fine representation of how much candy each child recieved, but if we analyze this graph, we can notice that the creators are only using the height as the mesurement for the amount of candy, but as a viewer, we perceive the area of the candy corn as the value unintentionally, rather than the height, making it seem like one has much more candy than the other. Not only is the second candy corn twice as high, it's also twice as wide giving it four times the area as the first candy corn.\n",
    "\n",
    "Click this Display button below to show a better, more acurate representation on the same data:"
   ]
  },
  {
   "cell_type": "code",
   "execution_count": null,
   "metadata": {},
   "outputs": [],
   "source": [
    "hide_me\n",
    "\n",
    "pic = Image('http://teachersinstitute.yale.edu/curriculum/images/2008/6/08.06.06.10.jpg')\n",
    "clicker = widgets.Checkbox(value=False, description='Display', disabled=False)\n",
    "\n",
    "def checking(a):\n",
    "    if clicker.value == True:\n",
    "        IPython.display.display(pic)\n",
    "    else:\n",
    "        IPython.display.clear_output()\n",
    "        IPython.display.display(clicker)\n",
    "\n",
    "IPython.display.display(clicker)\n",
    "clicker.observe(checking, 'value')"
   ]
  },
  {
   "cell_type": "markdown",
   "metadata": {},
   "source": [
    "## Lets look at line graphs\n",
    "\n",
    "### What is a line graph?\n",
    "\n",
    "A line graph is a way to represent continuous data, data that is connected in some way, like a change over time. In fact, time is one of the most common variables with a line graph.\n",
    "\n",
    "![picture](https://www.mathsisfun.com/data/images/line-graph-example.svg)\n",
    "\n",
    "### Why are line graphs useful?\n",
    "\n",
    "They show a trend of something changing with a easily viewable line compared to just dots on a graph. They work best when the trend involves the change of one variable (jobs, temperature, debt) with respect to another (usually time).\n",
    "\n",
    "In some cases it can also be useful to plot multiple lines on one graph, usually using colour to distinguish the different variables. For example, one might plot polling results for different political parties over time, as with this graph from the CBC:\n",
    "\n",
    "![federal polling averages](http://www.cbc.ca/polopoly_fs/1.3265490!/fileImage/httpImage/image.jpg)\n",
    "\n",
    "\n",
    "### How can line graphs go wrong?\n",
    "\n",
    "A common error with these graphs is unlabelled axes. We might know that the line is sloping upwards, but we might not know what is growing or how fast. Many mistakes are also made by not using a consistent scale on an axis, but using consistent ticks to make it appear to be consistent spacing. Like this example:\n",
    "\n",
    "![Picture](http://onlinestatbook.com/2/graphing_distributions/graphics/graph2.png)"
   ]
  },
  {
   "cell_type": "code",
   "execution_count": null,
   "metadata": {},
   "outputs": [],
   "source": [
    "hide_me\n",
    "\n",
    "fix = widgets.SelectionSlider(options=['original', 'fixed'], value ='original', description='Slide to fix',\n",
    "    continuous_update=True, orientation='horizontal',)\n",
    "\n",
    "def fixing(a):\n",
    "    if fix.value == 'fixed':\n",
    "        IPython.display.clear_output()\n",
    "        IPython.display.display(fix)\n",
    "        f, ax1 = plt.subplots(1,1,figsize=(10,5))\n",
    "        ax1.set_title(\"Job Loss by Quarter\")\n",
    "        ax1.set_xlabel('Months from November 07',fontsize=15)\n",
    "        ax1.set_ylabel(\"Jobs Lost in Millions\",color='b',fontsize=15)\n",
    "        x1 = [1, 10, 16, 29]\n",
    "        y1 = [7,9,13.5,15]\n",
    "        ax1.plot(x1, y1,\"bo-\")\n",
    "        plt.legend()\n",
    "        plt.show()\n",
    "    else:\n",
    "        IPython.display.clear_output()\n",
    "        IPython.display.display(fix)\n",
    "        f, ax1 = plt.subplots(1,1,figsize=(10,5))\n",
    "        ax1.set_title(\"Job Loss by Quarter\")\n",
    "        ax1.set_xlabel('Months from November 07',fontsize=15)\n",
    "        ax1.set_ylabel(\"Jobs Lost in Millions\",color='b',fontsize=15)\n",
    "        x1 = [0,7,23,29]\n",
    "        y1 = [7,9,13.5,15]\n",
    "        ax1.plot(x1, y1,\"bo-\")\n",
    "        plt.legend()\n",
    "        plt.show()\n",
    "        \n",
    "IPython.display.display(fix)        \n",
    "fix.observe(fixing, 'value')\n",
    "\n",
    "IPython.display.clear_output()\n",
    "IPython.display.display(fix)\n",
    "f, ax1 = plt.subplots(1,1,figsize=(10,5))\n",
    "ax1.set_title(\"Job Loss by Quarter\")\n",
    "ax1.set_xlabel('Months from November 07',fontsize=15)\n",
    "ax1.set_ylabel(\"Jobs Lost in Millions\",color='b',fontsize=15)\n",
    "x1 = [0,7,23,29]\n",
    "y1 = [7,9,13.5,15]\n",
    "ax1.plot(x1, y1,\"bo-\")\n",
    "plt.legend()\n",
    "plt.show()"
   ]
  },
  {
   "cell_type": "markdown",
   "metadata": {},
   "source": [
    "## Lets look at circle graphs\n",
    "\n",
    "### What is a circle graph?\n",
    "\n",
    "Also know as a pie chart, It represents data as an area based on the percentage of the total amount of data. This is very useful for data that is already given as percentages, but most data can be made into percentages by dividing the section section by the total amount then multiplying by 360 degrees to get the area of the area of the circle that the portion covers.\n",
    "\n",
    "![picture](https://www.mathsisfun.com/data/images/pie-chart-movies.svg)\n",
    "\n",
    "### Why are circle graphs useful?\n",
    "\n",
    "It shows which section has the largest portion of the data quickly, by showing the amounts as an area.\n",
    "\n",
    "### Why might people not use circle graphs?\n",
    "\n",
    "All data must be calculated into percetnages then into areas of a circle, which is more work than most data represetnations require. It is also easy to mess up if they are not converted properly or at all. They are also hard to draw acurately on paper as you need a protractor to ensure your angles are right. Some people might even say that any situation that can have a circle graph, a bar graph would do better and the pie chart below is the only acceptable one.\n",
    "\n",
    "![picture](https://i1.wp.com/flowingdata.com/wp-content/uploads/2008/09/Pie-I-have-Eaten.jpg?fit=500%2C330&ssl=1)"
   ]
  },
  {
   "cell_type": "markdown",
   "metadata": {},
   "source": [
    "********************\n",
    "\n",
    "### What's wrong with these graphs?\n",
    "\n",
    "![Picture](https://amp.businessinsider.com/images/51cb26c469beddf14c000015-750-453.jpg)\n",
    "\n",
    "![Picture](http://flowingdata.com/wp-content/uploads/yapb_cache/app15725951258947184.acq6gmp0hf4sowckg80ssc8wg.2xne1totli0w8s8k0o44cs0wc.th.png)\n",
    "\n",
    "![Picture](https://i0.wp.com/flowingdata.com/wp-content/uploads/2013/03/130207SuperBowlPoll.jpg?fit=500%2C430&ssl=1)"
   ]
  },
  {
   "cell_type": "markdown",
   "metadata": {},
   "source": [
    "## What was wrong with these graphs?\n",
    "\n",
    "1. mislabeled/ missing axes\n",
    "2. misplotted\n",
    "3. hard to read\n",
    "4. Doesn't add to 100%\n",
    "5. Wrong data accumulated"
   ]
  },
  {
   "cell_type": "markdown",
   "metadata": {},
   "source": [
    "This video below goes through several exmaples of bad/misleading graphs, some shown in this notebook, and why they are not good representations of the original data."
   ]
  },
  {
   "cell_type": "code",
   "execution_count": null,
   "metadata": {},
   "outputs": [],
   "source": [
    "hide_me\n",
    "\n",
    "HTML('<iframe width=\"560\" height=\"315\" src=\"https://www.youtube.com/embed/1F7gm_BG0iQ?rel=0\" frameborder=\"0\" allow=\"autoplay; encrypted-media\" allowfullscreen></iframe>')"
   ]
  },
  {
   "cell_type": "markdown",
   "metadata": {},
   "source": [
    "*************\n",
    "\n",
    "## Practice Questions\n",
    "\n",
    "### Question 1\n",
    "\n",
    "Data has been collected of the percent of kids who do certain actions first when they get home. [source](http://www.ur.umich.edu/9900/Apr03_00/7.htm)\n",
    "\n",
    "| Activity        | Percent|\n",
    "|-----------------|-----|\n",
    "|   Eat           | 27% |\n",
    "|   Personal Care | 19% |\n",
    "|   Watch TV      | 15% |\n",
    "|   Study         | 13% |\n",
    "|   Play          | 9%  |\n",
    "|   Other         | 17% |"
   ]
  },
  {
   "cell_type": "code",
   "execution_count": null,
   "metadata": {},
   "outputs": [],
   "source": [
    "hide_me\n",
    "\n",
    "answer = widgets.RadioButtons(options=['','circle graph', 'line graph', 'bar graph', 'pictograph'],\n",
    "                              value='', description='Answer:')\n",
    "labels = ['Eat', 'Personal Care', 'Watch TV', 'Study', 'Play', 'Other']\n",
    "data = [0.27, 0.19, 0.15, 0.13, 0.09, 0.17]\n",
    "\n",
    "def display():\n",
    "    print('What would be the best graph to display this set of data?')\n",
    "    IPython.display.display(answer)\n",
    "\n",
    "def check(a):\n",
    "    IPython.display.clear_output(wait=False)\n",
    "    display()\n",
    "    if answer.value == 'circle graph':\n",
    "        print(\"Correct! Circle graphs are used for percentages.\")\n",
    "        print(\"Let's see this data in a circle graph.\")\n",
    "        patches, texts = plt.pie(data, labels=labels)\n",
    "        plt.axis('equal')\n",
    "        plt.tight_layout()\n",
    "        plt.show()\n",
    "    else:\n",
    "        if answer.value == 'bar graph':\n",
    "            print(\"A Bar graph would work, but there's a better option. Try again.\")\n",
    "        else:\n",
    "            if answer.value == 'line graph':\n",
    "                print(\"Line graphs are good for change over time, not percentages. Try again.\")\n",
    "            else:\n",
    "                print(\"A pictograph would work if the data was in amounts instead of percentages. Try again.\")\n",
    "\n",
    "display()\n",
    "answer.observe(check, 'value')"
   ]
  },
  {
   "cell_type": "markdown",
   "metadata": {},
   "source": [
    "### Question 2\n",
    "\n",
    "Data has been collected on the amount of time kids spend of activities after school. [source](http://www.ur.umich.edu/9900/Apr03_00/7.htm)\n",
    "\n",
    "| Activity        | Time spent - Minutes|\n",
    "|-----------------|-----|\n",
    "|   reading       | 30  |\n",
    "|  Chores         | 30  |\n",
    "|   Watch TV      | 100 |\n",
    "|   Study         | 60  |\n",
    "|   Play          | 74  |\n",
    "|   Sports        | 60  |"
   ]
  },
  {
   "cell_type": "code",
   "execution_count": null,
   "metadata": {},
   "outputs": [],
   "source": [
    "hide_me\n",
    "\n",
    "answer2 = widgets.RadioButtons(options=['','circle graph', 'line graph', 'bar graph', 'pictograph'],\n",
    "                              value='', description='Answer:')\n",
    "labels2 = ['Reading', 'Chores', 'Watch TV', 'Study', 'Play', 'Sports']\n",
    "data2 = [30, 30, 100, 60, 74, 60]\n",
    "x = np.arange(len(data2))\n",
    "\n",
    "def display2():\n",
    "    print('What would be the best graph to display this set of data?')\n",
    "    IPython.display.display(answer2)\n",
    "\n",
    "def check(a):\n",
    "    IPython.display.clear_output(wait=False)\n",
    "    display2()\n",
    "    if answer2.value == 'circle graph':\n",
    "        print(\"A circle graph is used for percentages. Try again.\")\n",
    "    else:\n",
    "        if answer2.value == 'bar graph':\n",
    "            print(\"Correct! A bar graph shows the relation between both parameters in an easy to read format.\")\n",
    "            print(\"Let's see what that looks like.\")\n",
    "            plt.bar(x, data2, width = .3)\n",
    "            plt.xticks(x, labels2)\n",
    "            plt.ylabel('Time in Minutes')\n",
    "            plt.title('Time Spent on Afterschool Activities')\n",
    "            plt.show()\n",
    "        else:\n",
    "            if answer2.value == 'line graph':\n",
    "                print(\"Line graphs are good for change over time. Try again.\")\n",
    "            else:\n",
    "                print(\"A pictograph would work, but there's a better option to be more accurate. Try again.\")\n",
    "\n",
    "display2()\n",
    "answer2.observe(check, 'value')"
   ]
  },
  {
   "cell_type": "markdown",
   "metadata": {},
   "source": [
    "Now that we have seen many examples of both good and bad graphs, let's try to figure out why this list of [worst graphs in science literature](https://www.biostat.wisc.edu/~kbroman/topten_worstgraphs/) are named so.\n",
    "\n",
    "You can click on a graph to enlarge it, see if you can identify the flaws in these graphs yourself before clicking the \"Discussion\" links to learn about what's wrong with each graph and why it made it to this list!"
   ]
  },
  {
   "cell_type": "markdown",
   "metadata": {},
   "source": [
    "Even top academic institutions are sometimes guilty of producing visualizations that, while they might look impressive, do very little to help us understand the numbers involved in an issue. Try to figure out what's wrong with these\n",
    "[inforgraphics from Princeton](http://www.princeton.edu/~ina/infographics/index.html) on your own."
   ]
  },
  {
   "cell_type": "markdown",
   "metadata": {},
   "source": [
    "![logo](https://callysto.ca/wp-content/uploads/2018/06/Callysto_Notebook-Banners_Bottom_06.06.18.jpg)"
   ]
  }
 ],
 "metadata": {
  "kernelspec": {
   "display_name": "Python 3",
   "language": "python",
   "name": "python3"
  },
  "language_info": {
   "codemirror_mode": {
    "name": "ipython",
    "version": 3
   },
   "file_extension": ".py",
   "mimetype": "text/x-python",
   "name": "python",
   "nbconvert_exporter": "python",
   "pygments_lexer": "ipython3",
   "version": "3.6.5"
  }
 },
 "nbformat": 4,
 "nbformat_minor": 2
}
