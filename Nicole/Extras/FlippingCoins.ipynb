{
 "cells": [
  {
   "cell_type": "code",
   "execution_count": 1,
   "metadata": {},
   "outputs": [
    {
     "data": {
      "text/html": [
       " \n",
       "<script>\n",
       "  function code_toggle() {\n",
       "    if (code_shown){\n",
       "      $('div.input').hide('500');\n",
       "      $('#toggleButton').val('Show Code')\n",
       "    } else {\n",
       "      $('div.input').show('500');\n",
       "      $('#toggleButton').val('Hide Code')\n",
       "    }\n",
       "    code_shown = !code_shown\n",
       "  }\n",
       "\n",
       "  $( document ).ready(function(){\n",
       "    code_shown=false;\n",
       "    $('div.input').hide()\n",
       "  });\n",
       "</script>\n",
       "<form action=\"javascript:code_toggle()\"><input type=\"submit\" id=\"toggleButton\" value=\"Show Code\"></form> "
      ],
      "text/plain": [
       "<IPython.core.display.HTML object>"
      ]
     },
     "execution_count": 1,
     "metadata": {},
     "output_type": "execute_result"
    }
   ],
   "source": [
    "from IPython.display import HTML\n",
    "HTML(''' \n",
    "<script>\n",
    "  function code_toggle() {\n",
    "    if (code_shown){\n",
    "      $('div.input').hide('500');\n",
    "      $('#toggleButton').val('Show Code')\n",
    "    } else {\n",
    "      $('div.input').show('500');\n",
    "      $('#toggleButton').val('Hide Code')\n",
    "    }\n",
    "    code_shown = !code_shown\n",
    "  }\n",
    "\n",
    "  $( document ).ready(function(){\n",
    "    code_shown=false;\n",
    "    $('div.input').hide()\n",
    "  });\n",
    "</script>\n",
    "<form action=\"javascript:code_toggle()\"><input type=\"submit\" id=\"toggleButton\" value=\"Show Code\"></form> ''')"
   ]
  },
  {
   "cell_type": "markdown",
   "metadata": {},
   "source": [
    "# Flipping Too Many Coins\n",
    "\n",
    "## Introduction\n",
    "\n",
    "A classic statistics experiment is simply counting how many \"heads\" and \"tails\" you observe when flipping a coin repeatedly. With a perfectly unbiased coin in a statistically perfect world, one might expect to count an equal number of heads and tails by flipping a coin hundreds of times. However, the world we live in is far from statistically perfect. The real world is plagued with **statistical fluctuations**, meaning that measured data are not always equal to what you would expect. For example, if you were to flip a coin 100 times, it is likely that you would measure something like 45 heads and 55 tails. The reason for this is most of our statistical expectations represent an upper boundary of probability. In other words, if we were to flip a coin infinitely many times, we would expect exactly half of those trials to be heads, and exactly half of those trials to be tails. Unfortunately (or fortunately depending on if you have hobbies or not), you cannot flip a coin infinitely many times. You can only flip a coin a given amount of times. In mathematical terms, the results of any coin flipping experiment will have a _discrete_ number of heads and a _discrete_ number of tails. Or, you'll have counted heads and tails from a set number of trials. \n",
    "\n",
    "This sort of statistical problem where you run a number of trials is easily simulated using Python. However, modeling trials of real world situations subject to statistical fluctuations requires something included in Python known as the **random number generator**. So, before we move on to how we can simulate statistical fluctuations, we introduce random numbers and the random number generator. \n",
    "\n",
    "# Random Numbers\n",
    "\n",
    "First, let's take a look at some of those \"random\" numbers."
   ]
  },
  {
   "cell_type": "code",
   "execution_count": 2,
   "metadata": {
    "scrolled": true
   },
   "outputs": [
    {
     "name": "stdout",
     "output_type": "stream",
     "text": [
      "0.9158097934372671\n",
      "0.9577474594156775\n",
      "0.7141241434721837\n",
      "0.29873700751595633\n",
      "0.5940079839055495\n",
      "0.7557634850988881\n",
      "0.9944249899937876\n",
      "0.011653973017453967\n",
      "0.9920702520521214\n",
      "0.7161840574084329\n"
     ]
    }
   ],
   "source": [
    "# This is the python module which contains the \n",
    "import random\n",
    "\n",
    "# This prints 10 random numbers\n",
    "\n",
    "for _ in range(10):\n",
    "    print(random.uniform(0,1))\n",
    "    "
   ]
  },
  {
   "cell_type": "markdown",
   "metadata": {},
   "source": [
    "Run the above cell a few times, are the numbers the same? They probably aren't. Is the fact that those numbers aren't the same enough to say they are random? Certainly they appear to be from looking at them. Unfortunately, this is math, meaning we need to understand and define the properties that random number should have in order to determine if the random numbers from Python satisfy these requirements.  \n",
    "\n",
    "### Properties of Random Numbers\n",
    "\n",
    "Suppose you have a sequence of $N$ random numbers $\\{R\\}$ with contents $\\{r_1, r_2, ... , r_N\\}$ where each element $r_i$ is a random number. What sort of properties should this sequence of numbers have? If this is truly a sequence of random numbers, it _must_ satisfy the following properties, which we will explain in greater detail: \n",
    "\n",
    "1. Drawing any $r_i$ is equally probable and independent. \n",
    "2. The sequence of random numbers is uniformly distributed. \n",
    "\n",
    "\"Drawing a value\" in this scope means we're picking a number from our sequence of random numbers, but not removing it from the sequence (the sequence remains unchanged, we're simply \"observing\" the random number). \n",
    "Let's look at these two properties in a little more detail. \n",
    "\n",
    "#### All Values Are Equally Probable and Independent\n",
    "\n",
    "What this means is that if you were to select (but not remove) a number from your sequence of random numbers $\\{r_1, r_2, ... , r_N\\}$ at random, the probability of drawing any of those numbers is\n",
    "\\begin{equation}\n",
    "p(r_i) = \\frac{1}{N}\n",
    "\\end{equation}\n",
    "where $p(r_i)$ is the probability of selecting a number $r_i$. This probability is identical for all numbers within your set. More explicitly:\n",
    "\\begin{equation}\n",
    "p(r_1) = p(r_2) = ... = p(r_N) = \\frac{1}{N}\n",
    "\\end{equation}\n",
    "\n",
    "The independence property means that the if you draw a number from the set, it does not affect the probability of drawing other numbers, or even itself at a later time. This is because the sequence remains unchanged after you draw (observe) a number. This property leads directly to the second important properties of random numbers, discussed below.\n",
    "\n",
    "#### The Numbers are Uniformly Distributed\n",
    "\n",
    "This simply means that there is no \"trend\" within the set of random numbers. If you were to plot the histogram of all your random numbers, they would produce a flat rectangle, or the uniform distribution:\n",
    "\\begin{equation}\n",
    "P(r)  = \\left\\{\n",
    "\\begin{matrix}\n",
    "p & a \\leq x \\leq b \\\\\n",
    "0 & \\text{otherwise}\n",
    "\\end{matrix}\n",
    "\\right.\n",
    "\\end{equation}\n",
    "\n",
    "where $P(r)$ is the probability _distribution_ and $p$ is the probability of drawing any number between $a$ and $b$. It is important to note that this probability $p$ is the **same** probability for all numbers between $a$ and $b$. This function simply defines a horizontal line -- meaning that all values from this distribution are equally probable. \n",
    "\n",
    "Alright, so we have some definitions of random numbers, let's test Python's random number generator to see if these \"random\" numbers satisfy our two requirements. Below is a python widget that you can use to visualize random numbers generated with Python. This widget will draw $N$ random numbers (that you get to define) and bin those values into a histogram. If you're unsure what a histogram is, think of it as a bar graph where the bars are defined by counting how many number land within a specific range or \"bin\". \n"
   ]
  },
  {
   "cell_type": "code",
   "execution_count": 3,
   "metadata": {},
   "outputs": [
    {
     "data": {
      "application/vnd.jupyter.widget-view+json": {
       "model_id": "27e63a62345c452aac3f19ba7ce43241",
       "version_major": 2,
       "version_minor": 0
      },
      "text/html": [
       "<p>Failed to display Jupyter Widget of type <code>IntSlider</code>.</p>\n",
       "<p>\n",
       "  If you're reading this message in the Jupyter Notebook or JupyterLab Notebook, it may mean\n",
       "  that the widgets JavaScript is still loading. If this message persists, it\n",
       "  likely means that the widgets JavaScript library is either not installed or\n",
       "  not enabled. See the <a href=\"https://ipywidgets.readthedocs.io/en/stable/user_install.html\">Jupyter\n",
       "  Widgets Documentation</a> for setup instructions.\n",
       "</p>\n",
       "<p>\n",
       "  If you're reading this message in another frontend (for example, a static\n",
       "  rendering on GitHub or <a href=\"https://nbviewer.jupyter.org/\">NBViewer</a>),\n",
       "  it may mean that your frontend doesn't currently support widgets.\n",
       "</p>\n"
      ],
      "text/plain": [
       "IntSlider(value=100, description='Size of set', max=75000, min=10)"
      ]
     },
     "metadata": {},
     "output_type": "display_data"
    },
    {
     "data": {
      "application/vnd.jupyter.widget-view+json": {
       "model_id": "5fed2e87029f4e679c4c472a10d7368c",
       "version_major": 2,
       "version_minor": 0
      },
      "text/html": [
       "<p>Failed to display Jupyter Widget of type <code>Button</code>.</p>\n",
       "<p>\n",
       "  If you're reading this message in the Jupyter Notebook or JupyterLab Notebook, it may mean\n",
       "  that the widgets JavaScript is still loading. If this message persists, it\n",
       "  likely means that the widgets JavaScript library is either not installed or\n",
       "  not enabled. See the <a href=\"https://ipywidgets.readthedocs.io/en/stable/user_install.html\">Jupyter\n",
       "  Widgets Documentation</a> for setup instructions.\n",
       "</p>\n",
       "<p>\n",
       "  If you're reading this message in another frontend (for example, a static\n",
       "  rendering on GitHub or <a href=\"https://nbviewer.jupyter.org/\">NBViewer</a>),\n",
       "  it may mean that your frontend doesn't currently support widgets.\n",
       "</p>\n"
      ],
      "text/plain": [
       "Button(description='Draw Numbers', style=ButtonStyle())"
      ]
     },
     "metadata": {},
     "output_type": "display_data"
    }
   ],
   "source": [
    "# this imports the random number generator \n",
    "import random\n",
    "%matplotlib inline\n",
    "import matplotlib as mpl\n",
    "import numpy as np\n",
    "import matplotlib.pyplot as plt \n",
    "import IPython\n",
    "from IPython import display \n",
    "from ipywidgets import widgets\n",
    "from ipywidgets import interactive\n",
    "\n",
    "\n",
    "def Random_Histogram(N):\n",
    "    fig = plt.gcf()\n",
    "    fig.show()\n",
    "    fig.canvas.draw()\n",
    "    plt.style.use('ggplot')\n",
    "    run = 0\n",
    "    \n",
    "    plot_step = 1\n",
    "    \n",
    "    random_numbers = []\n",
    "    \n",
    "    for i in range(N):\n",
    "        run += 1 \n",
    "        r = random.uniform(0,1)\n",
    "        random_numbers.append(r)\n",
    "        \n",
    "        if run >= plot_step or i == N-1:\n",
    "            # Speed the plot up as we go so we can\n",
    "            # see the variations at the beginning and cruise\n",
    "            # through the \"boring\" stuff. \n",
    "           \n",
    "            plot_step = i/2\n",
    "            \n",
    "            plt.gca().cla()\n",
    "            plt.ylabel('Probability')\n",
    "            plt.ylim([0,0.2])\n",
    "            plt.xlim([-0.05,1.05])\n",
    "            \n",
    "            # This is simply to scale our boxes from counts to probability\n",
    "            weights = np.ones_like(random_numbers)/float(len(random_numbers))\n",
    "            plt.hist(random_numbers,\n",
    "                     bins=10, \n",
    "                     weights=weights, \n",
    "                     label=\"Drawn Numbers\",\n",
    "                     edgecolor='black', linewidth=1.2)\n",
    "            \n",
    "            plt.title(\" \".join([str(i+1), \"Numbers From Set\"]))\n",
    "           \n",
    "            # Generally it's frowned upon to use 'magic numbers'\n",
    "            # such as the ones below. However, this is what defines \n",
    "            # our expected uniform distribution. The 0.1 limit for y comes \n",
    "            # from the fact that we have 10 bins in our histogram \n",
    "            # (10 bars in the bar graph). If each bin is equally probable, \n",
    "            # then they should each have a probability of 1/(number of bins), \n",
    "            # which is 1/10 for us. \n",
    "            plt.plot([0,0 ,1,1],[0,.1,.1,0], linewidth = 3, label = \"Expected\")\n",
    "            \n",
    "            plt.legend(loc='center left', bbox_to_anchor=(1, .8))\n",
    "              \n",
    " \n",
    "            # This helps us get ready for the creation of the new frame\n",
    "            display.clear_output(wait=True)\n",
    "            display.display(plt.gcf()) \n",
    "            # reset counter for if we want to plot or not\n",
    "            run = 0\n",
    "\n",
    "            \n",
    "    display.clear_output(wait=False)\n",
    "\n",
    "N = widgets.IntSlider(value = 100, min=10, max = 75000, description=\"Size of set\")\n",
    "start = widgets.Button(description = \"Draw Numbers\")\n",
    "\n",
    "    \n",
    "def PlotUniform(b):\n",
    "    Random_Histogram(N.value)\n",
    "    IPython.display.display(N, start)\n",
    "\n",
    "start.on_click(PlotUniform)\n",
    "\n",
    "IPython.display.display(N, start)\n",
    "        \n",
    "    "
   ]
  },
  {
   "cell_type": "markdown",
   "metadata": {},
   "source": [
    "To use the widget above select the size of the random number set, and click draw numbers. This will animate a histogram which fills with random numbers drawn from the set. The blue line shown in the plot is the \"expected\" output, a uniform distribution, that the random numbers should follow. \n",
    "\n",
    "#### Questions\n",
    "1. Does the histogram of random numbers line up with what you expect at when you draw 100 numbers? What about 75000? What about if you run the same number twice? \n",
    "2. If the numbers you draw don't line up with the expected distribution does that mean our random numbers don't fit the expected curve using a small number of random numbers, does that mean the random number generator isn't behaving correctly? What if it doesn't line up when you include lots of points? \n",
    "3. Define statistical variation in your own words and whether or not you see that in the animations above. \n",
    "4. Do the numbers returned from the random number generator satisfy our requirements for random numbers? Why or why not?\n",
    "\n",
    " \n",
    "\n",
    "### Relevance to Coin Flipping\n",
    "\n",
    "The connection between generating random numbers in Python and flipping a coin isn't necessarily obvious. Why do we need to generate random numbers to write a code that simulates flipping coins for us? Well, the answer is we need some metric in order to decide which \"coins\" are heads, and which are tails. Unfortunately to model a real world situation, we need statistical variation -- we can't just use our expected probabilities to decide the outcome of the coin toss. If we did that we would only be modeling the expected result after an infinite number of trials. \n",
    "\n",
    "So, the natural next question is how can we use these random numbers generated by Python in order to simulate something like a coin toss? T explain, it is important to keep the uniform distribution in mind. If you were to flip a fair coin, unbiased for heads or tails, there is a 50 % probability of observing heads, and a 50 % probability of observing tails after any given coin toss. In terms of the uniform distribution and the random number generator, we could make the following plot to describe a coin toss"
   ]
  },
  {
   "cell_type": "code",
   "execution_count": 4,
   "metadata": {},
   "outputs": [
    {
     "data": {
      "image/png": "[encoded data removed]",
      "text/plain": [
       "<matplotlib.figure.Figure at 0x7f4af27bf1d0>"
      ]
     },
     "metadata": {},
     "output_type": "display_data"
    }
   ],
   "source": [
    "plt.style.use('ggplot')\n",
    "\n",
    "plt.text(0.15, 5,\"Heads\",size=20)\n",
    "plt.text(0.65, 5,\"Tails\", size=20)\n",
    "plt.ylim([0,20])\n",
    "plt.ylabel(\"Probability (%)\", size=20)\n",
    "plt.xlabel(\"Random Number Value\",size=20)\n",
    "plt.plot([0,0 ,1,1],[0,10,10,0], linewidth = 3, label = \"Uniform Distribution\")\n",
    "plt.plot([0.5,0.5], [0,20], linewidth = 3, c='b') \n",
    "plt.tick_params(axis='both', which='major', labelsize=18)\n",
    "\n",
    "\n",
    "plt.show()\n",
    "\n"
   ]
  },
  {
   "cell_type": "markdown",
   "metadata": {},
   "source": [
    "Let's take a moment to understand this plot. On the $y$ axis we have probability, and on the $x$ axis we have \"Random Number Value\". What this plot means is that for a given random number between $[0,1]$ (the $x$ value), we simply need to look at which side of the blue line our random number is on. If it's on the left, our simulated coin toss returns heads, and if it's on the right our simulated coin toss returns tails. As all random numbers between zero and one are equally probable, this graph shows that we have a 50 % probability of either heads or tails, modeled well with the random number generator. \n",
    "\n",
    "This idea can also be used to model a _biased_ coin, or a coin that favors either heads or tails. For example, suppose we have a coin with a 60 % probability to land with heads facing up. Using the uniform distribution we would have a plot that looks similar to this: "
   ]
  },
  {
   "cell_type": "code",
   "execution_count": 5,
   "metadata": {},
   "outputs": [
    {
     "data": {
      "image/png": "[encoded data removed]",
      "text/plain": [
       "<matplotlib.figure.Figure at 0x7f4acc67ae10>"
      ]
     },
     "metadata": {},
     "output_type": "display_data"
    }
   ],
   "source": [
    "plt.style.use('ggplot')\n",
    "\n",
    "plt.text(0.15, 5,\"Heads\",size=20)\n",
    "plt.text(0.70, 5,\"Tails\", size=20)\n",
    "plt.ylim([0,20])\n",
    "plt.ylabel(\"Probability (%)\", size=20)\n",
    "plt.xlabel(\"Random Number Value\",size=20)\n",
    "plt.plot([0,0 ,1,1],[0,10,10,0], linewidth = 3, label = \"Uniform Distribution\")\n",
    "plt.plot([0.6,0.6], [0,20], linewidth = 3, c='b') \n",
    "plt.tick_params(axis='both', which='major', labelsize=18)\n",
    "\n",
    "\n",
    "plt.show()"
   ]
  },
  {
   "cell_type": "markdown",
   "metadata": {},
   "source": [
    "Where this plot is functionally identical to the one shown before it, however the probability of our simulated coin returning heads is 60 %, and the probability of our simulated coin returning tails is 40 %. \n",
    "\n",
    "Any biased or unbiased coin can be simulated this way and that's exactly what the Python code below does. We have a known probability of returning heads in the range $[0,1]$. We draw a random number $r$, and if that random number is less than the probability of heads we return heads, if it's greater we return tails. Done explicitly in the code snippet below."
   ]
  },
  {
   "cell_type": "code",
   "execution_count": 6,
   "metadata": {},
   "outputs": [
    {
     "data": {
      "text/plain": [
       "'tails'"
      ]
     },
     "execution_count": 6,
     "metadata": {},
     "output_type": "execute_result"
    }
   ],
   "source": [
    "def HeadsOrTails(prob_heads):\n",
    "    r = random.uniform(0,1)\n",
    "    if r > prob_heads:\n",
    "        return 'tails'\n",
    "    else:\n",
    "        return 'heads'\n",
    "    \n",
    "HeadsOrTails(0.5)"
   ]
  },
  {
   "cell_type": "markdown",
   "metadata": {},
   "source": [
    "Feel free to run the above code snippet as many times as you like for different coin tosses. Does it behave how you would expect? \n",
    "\n",
    "Certainly however, this gets more interesting as we begin flipping the coin many times and counting the results to see if the coin is behaving as we'd expect. Below is a Python code that does exactly that by counting the amount of heads and tails it returns in a loop, and animating the results of all the coin tosses in an interactive widget. While the code below looks more complicated, it is doing exactly the same thing as the snippet above, except now it's counting and plotting. "
   ]
  },
  {
   "cell_type": "code",
   "execution_count": 7,
   "metadata": {},
   "outputs": [],
   "source": [
    "\n",
    "        \n",
    "# Create buttons and widgets \n",
    "start_button = widgets.Button(description = \"Toss those coins\")\n",
    "\n",
    "flips = widgets.IntSlider(value = 100, min=10, max = 100000, description=\"Trials\")\n",
    "prob = widgets.FloatSlider(value = 0.5, min = 0.0, max = 1.0, description = \"Head Probability\")\n",
    "step = widgets.FloatSlider(value = 5, min = 5, max = 100000, description = \"Plot step\")\n",
    "                              \n",
    "# define a coin tossing function\n",
    "\n",
    "def CoinToss(flips, prob_heads):\n",
    "    # initialize plot\n",
    "    fig = plt.gcf()\n",
    "    fig.show()\n",
    "    fig.canvas.draw()\n",
    "    plt.style.use('ggplot')\n",
    "    \n",
    "    head_count = 0\n",
    "    tail_count = 0\n",
    "    run = 0\n",
    "    \n",
    "    # Don't want to animate every flip because it would take too long\n",
    "    # this way we only have to animate 100 frames, which is nice. \n",
    "    plot_step = 0.05 * flips\n",
    "   \n",
    "    for i in range(flips):\n",
    "        # Thhese five lines are identical to the \n",
    "        # snippet shown earlier, except now we're counting instead. \n",
    "        r = random.uniform(0,1)\n",
    "        if r > prob_heads:\n",
    "            tail_count += 1\n",
    "        else:\n",
    "            head_count += 1\n",
    "            \n",
    "        run += 1  \n",
    "        # Don't want to plot every frame because it would be\n",
    "        # way too slow. \"buffer\" it by only plotting so many \n",
    "        # and the last one \n",
    "        if run >= plot_step or i == flips-1:  \n",
    "            \n",
    "            # This is just for plotting, no actual coin flipping\n",
    "            # is done in this section. \n",
    "            plt.gca().cla() \n",
    "        \n",
    "            plt.ylim([0, flips*max(prob_heads, 1-prob_heads) + flips/4])\n",
    "            plt.ylabel(\"Count\")\n",
    "            plt.xticks(np.array([1,2]),[\"Heads\", \"Tails\"])\n",
    "            plt.bar([1,2],[head_count, tail_count],align='center')\n",
    "            plt.title(' '.join([\"Trial Number: \", str(i+1)]))\n",
    "            \n",
    "            # Put counts and percentages abouve the plot as its animated\n",
    "            plt.text(1-.2, head_count + .01*head_count, \n",
    "                     str(head_count)+ \" (\" + str(round(head_count/flips*100,2)) + \" %)\",\n",
    "                      fontweight='bold')\n",
    "            \n",
    "            plt.text(2-.2, tail_count + .01*tail_count, \n",
    "                     str(tail_count)+ \" (\" + str(round(tail_count/flips*100,2)) + \" %)\",\n",
    "                      fontweight='bold')\n",
    "            # This helps us get ready for the creation of the new frame\n",
    "            display.clear_output(wait=True)\n",
    "            display.display(plt.gcf()) \n",
    "            # reset counter for if we want to plot or not\n",
    "            run = 0\n",
    "\n",
    "\n",
    "    display.clear_output(wait=True)\n",
    "\n",
    "def PlotCase(b):\n",
    "    CoinToss(flips.value, prob.value)\n",
    "    IPython.display.display(flips,prob, start_button)\n",
    "\n",
    "\n",
    "\n",
    "start_button.on_click(PlotCase)\n",
    "        \n",
    "\n",
    "\n",
    "\n",
    "        \n"
   ]
  },
  {
   "cell_type": "code",
   "execution_count": 8,
   "metadata": {},
   "outputs": [
    {
     "data": {
      "application/vnd.jupyter.widget-view+json": {
       "model_id": "49a3a7ecc39c437f8dac4dbeaaa56177",
       "version_major": 2,
       "version_minor": 0
      },
      "text/html": [
       "<p>Failed to display Jupyter Widget of type <code>IntSlider</code>.</p>\n",
       "<p>\n",
       "  If you're reading this message in the Jupyter Notebook or JupyterLab Notebook, it may mean\n",
       "  that the widgets JavaScript is still loading. If this message persists, it\n",
       "  likely means that the widgets JavaScript library is either not installed or\n",
       "  not enabled. See the <a href=\"https://ipywidgets.readthedocs.io/en/stable/user_install.html\">Jupyter\n",
       "  Widgets Documentation</a> for setup instructions.\n",
       "</p>\n",
       "<p>\n",
       "  If you're reading this message in another frontend (for example, a static\n",
       "  rendering on GitHub or <a href=\"https://nbviewer.jupyter.org/\">NBViewer</a>),\n",
       "  it may mean that your frontend doesn't currently support widgets.\n",
       "</p>\n"
      ],
      "text/plain": [
       "IntSlider(value=100, description='Trials', max=100000, min=10)"
      ]
     },
     "metadata": {},
     "output_type": "display_data"
    },
    {
     "data": {
      "application/vnd.jupyter.widget-view+json": {
       "model_id": "2033a8944537467ab1c9d217b5813e23",
       "version_major": 2,
       "version_minor": 0
      },
      "text/html": [
       "<p>Failed to display Jupyter Widget of type <code>FloatSlider</code>.</p>\n",
       "<p>\n",
       "  If you're reading this message in the Jupyter Notebook or JupyterLab Notebook, it may mean\n",
       "  that the widgets JavaScript is still loading. If this message persists, it\n",
       "  likely means that the widgets JavaScript library is either not installed or\n",
       "  not enabled. See the <a href=\"https://ipywidgets.readthedocs.io/en/stable/user_install.html\">Jupyter\n",
       "  Widgets Documentation</a> for setup instructions.\n",
       "</p>\n",
       "<p>\n",
       "  If you're reading this message in another frontend (for example, a static\n",
       "  rendering on GitHub or <a href=\"https://nbviewer.jupyter.org/\">NBViewer</a>),\n",
       "  it may mean that your frontend doesn't currently support widgets.\n",
       "</p>\n"
      ],
      "text/plain": [
       "FloatSlider(value=0.5, description='Head Probability', max=1.0)"
      ]
     },
     "metadata": {},
     "output_type": "display_data"
    },
    {
     "data": {
      "application/vnd.jupyter.widget-view+json": {
       "model_id": "5f17244c532b4d908744362048b79a1a",
       "version_major": 2,
       "version_minor": 0
      },
      "text/html": [
       "<p>Failed to display Jupyter Widget of type <code>Button</code>.</p>\n",
       "<p>\n",
       "  If you're reading this message in the Jupyter Notebook or JupyterLab Notebook, it may mean\n",
       "  that the widgets JavaScript is still loading. If this message persists, it\n",
       "  likely means that the widgets JavaScript library is either not installed or\n",
       "  not enabled. See the <a href=\"https://ipywidgets.readthedocs.io/en/stable/user_install.html\">Jupyter\n",
       "  Widgets Documentation</a> for setup instructions.\n",
       "</p>\n",
       "<p>\n",
       "  If you're reading this message in another frontend (for example, a static\n",
       "  rendering on GitHub or <a href=\"https://nbviewer.jupyter.org/\">NBViewer</a>),\n",
       "  it may mean that your frontend doesn't currently support widgets.\n",
       "</p>\n"
      ],
      "text/plain": [
       "Button(description='Toss those coins', style=ButtonStyle())"
      ]
     },
     "metadata": {},
     "output_type": "display_data"
    }
   ],
   "source": [
    "IPython.display.display(flips, prob, start_button)"
   ]
  },
  {
   "cell_type": "markdown",
   "metadata": {},
   "source": [
    "With the above widget, click the \"Toss these coins\" button in order to view an animation of many simulated coin tosses. Adjusting the \"Trials\" slider will change how many times the coins are flipped, and the \"Head Prob...\" slider changes the probability of the coin flip resulting in heads.\n",
    "\n",
    "### Questions\n",
    "1. Simulate flipping an unbiased coin with:\n",
    "    - 10 trials\n",
    "    - approximately 100 trials\n",
    "    - approximately 10000 trials\n",
    "    - 75000 trials. \n",
    " \n",
    " Do you count the number of heads/tails you would expect? Why or why not? If there is a difference between the simulated value and your expected value, is that something to be concerned about? Why or why not?\n",
    "2. Repeat the above with a biased coin. \n",
    "\n",
    "\n",
    "### Conclusion\n",
    "\n",
    "In this notebook we covered the idea of statistical fluctuations and how we can use the random number generator to model those statistical fluctuations. In doing so, we created a simulation of coin tosses for both fair and biased coins and observed the difference in counting statistics between the two. We learned that while the probability of a fair coin is 50/50, the observed counting statistics may vary slightly from this. This sort of model can be applied to nearly any statistical process, and can act as a primer for the idea of statistical simulations and Monte Carlo methods. "
   ]
  },
  {
   "cell_type": "code",
   "execution_count": null,
   "metadata": {},
   "outputs": [],
   "source": []
  }
 ],
 "metadata": {
  "kernelspec": {
   "display_name": "Python 3",
   "language": "python",
   "name": "python3"
  },
  "language_info": {
   "codemirror_mode": {
    "name": "ipython",
    "version": 3
   },
   "file_extension": ".py",
   "mimetype": "text/x-python",
   "name": "python",
   "nbconvert_exporter": "python",
   "pygments_lexer": "ipython3",
   "version": "3.6.5"
  }
 },
 "nbformat": 4,
 "nbformat_minor": 2
}
