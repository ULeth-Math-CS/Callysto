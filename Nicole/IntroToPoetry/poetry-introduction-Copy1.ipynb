{
 "cells": [
  {
   "cell_type": "markdown",
   "metadata": {},
   "source": [
    "![topbanner](https://callysto.ca/wp-content/uploads/2018/06/Callysto_Notebook-Banner_Top_06.06.18.jpg)"
   ]
  },
  {
   "cell_type": "code",
   "execution_count": 1,
   "metadata": {},
   "outputs": [
    {
     "data": {
      "text/html": [
       "\n",
       "<script>\n",
       "  function code_toggle() {\n",
       "    if (code_shown){\n",
       "      $('div.input').hide('500');\n",
       "      $('#toggleButton').val('Show Code')\n",
       "    } else {\n",
       "      $('div.input').show('500');\n",
       "      $('#toggleButton').val('Hide Code')\n",
       "    }\n",
       "    code_shown = !code_shown\n",
       "  }\n",
       "\n",
       "  $( document ).ready(function(){\n",
       "    code_shown=false;\n",
       "    $('div.input').hide()\n",
       "  });\n",
       "</script>\n",
       "<form action=\"javascript:code_toggle()\"><input type=\"submit\" id=\"toggleButton\" value=\"Show Code\"></form>"
      ],
      "text/plain": [
       "<IPython.core.display.HTML object>"
      ]
     },
     "metadata": {},
     "output_type": "display_data"
    }
   ],
   "source": [
    "%%html\n",
    "\n",
    "<script>\n",
    "  function code_toggle() {\n",
    "    if (code_shown){\n",
    "      $('div.input').hide('500');\n",
    "      $('#toggleButton').val('Show Code')\n",
    "    } else {\n",
    "      $('div.input').show('500');\n",
    "      $('#toggleButton').val('Hide Code')\n",
    "    }\n",
    "    code_shown = !code_shown\n",
    "  }\n",
    "\n",
    "  $( document ).ready(function(){\n",
    "    code_shown=false;\n",
    "    $('div.input').hide()\n",
    "  });\n",
    "</script>\n",
    "<form action=\"javascript:code_toggle()\"><input type=\"submit\" id=\"toggleButton\" value=\"Show Code\"></form>"
   ]
  },
  {
   "cell_type": "code",
   "execution_count": 2,
   "metadata": {},
   "outputs": [
    {
     "name": "stdout",
     "output_type": "stream",
     "text": [
      "[nltk_data] Downloading package cmudict to /home/jupyter/nltk_data...\n",
      "[nltk_data]   Package cmudict is already up-to-date!\n"
     ]
    }
   ],
   "source": [
    "import curses \n",
    "from curses.ascii import isdigit \n",
    "import nltk\n",
    "nltk.download('cmudict')\n",
    "from nltk.corpus import cmudict \n",
    "d = cmudict.dict()"
   ]
  },
  {
   "cell_type": "markdown",
   "metadata": {},
   "source": [
    "Credit for [nlkt](https://www.nltk.org/) used in this notebook:\n",
    "\n",
    "Bird, Steven, Edward Loper and Ewan Klein (2009), Natural Language Processing with Python. O’Reilly Media Inc."
   ]
  },
  {
   "cell_type": "code",
   "execution_count": 3,
   "metadata": {},
   "outputs": [],
   "source": [
    "import ipywidgets as widgets\n",
    "import IPython\n",
    "import string"
   ]
  },
  {
   "cell_type": "markdown",
   "metadata": {},
   "source": [
    "# Introduction to Poetry\n",
    "\n",
    "##### Grade 5 curriculum\n",
    "\n",
    "There are lots of types of poetry. We will look at a haiku (hi-koo), a diamante (dee-a-mon-tay) poem, a limerick (limm-r-ik), and a cinquain (sin-kain). Each one has a structure that makes it unique. Some poems have a certain number of syllables. Some poems need to rhyme, though not all poems need to rhyme. \n",
    "\n",
    "#### Types of Poetry\n",
    "1. Shape poetry\n",
    "    - Makes a shape with the words in the poem\n",
    "    - This includes diamante and cinquain poems\n",
    "2. Rhyming poetry \n",
    "    - Has a rhyming pattern\n",
    "    - This includes limericks\n",
    "3. Haiku poetry\n",
    "    - Has a haiku form\n",
    "5. Narrative poetry\n",
    "    - A long poem telling a story\n",
    "4. Epic poetry\n",
    "    - A narrative poem about a hero on an adventure\n",
    "\n",
    "\n",
    "#### Syllables\n",
    "\n",
    "Syllables are parts of a word that are pronounced. For example, \"hello\" has 2 syllables: \"hel-lo\". \"Elephant\" has 3 syllables: \"el-e-phant\". Usually, every syllable has one vowel sound in it. Most vowels in words are not next to other vowels, so a single vowel, sometimes with consonants, is one syllable. Some vowel sounds are made with 2 vowels like \"pair\" which only has one syllable. There are some special words like naive (pronounced nI-Eve) has 2 vowel sounds next to each other. So \"naive\" has 2 syllables.\n",
    "\n",
    "There's different ways to tell how many syllables are in a word or sentence. \n",
    "1. How many times your mouth opens \n",
    "2. How a robot would speak \n",
    "3. Clapping with the syllables\n",
    "\n",
    "Check how these are done in this video:"
   ]
  },
  {
   "cell_type": "code",
   "execution_count": 4,
   "metadata": {},
   "outputs": [
    {
     "data": {
      "text/html": [
       "<iframe width=\"560\" height=\"315\" src=\"https://www.youtube.com/embed/TvcgVRULaWw\" frameborder=\"0\" allow=\"autoplay; encrypted-media\" allowfullscreen></iframe>"
      ],
      "text/plain": [
       "<IPython.core.display.HTML object>"
      ]
     },
     "execution_count": 4,
     "metadata": {},
     "output_type": "execute_result"
    }
   ],
   "source": [
    "from IPython.display import HTML\n",
    "HTML('<iframe width=\"560\" height=\"315\" src=\"https://www.youtube.com/embed/TvcgVRULaWw\" frameborder=\"0\" allow=\"autoplay; encrypted-media\" allowfullscreen></iframe>')"
   ]
  },
  {
   "cell_type": "markdown",
   "metadata": {},
   "source": [
    "## Haiku\n",
    "\n",
    "A haiku is a type of japanese style of poetry. It has a syllable structure that makes it unique. \n",
    "\n",
    "##### Topic\n",
    "The topic of a haiku can be anything, but all three lines should be about the same topic. Usually, a title is included to tell the reader what the topic of the haiku is.\n",
    "\n",
    "##### Structure\n",
    "Haikus have 3 lines. The **first** and **last** line must have 5 syllables. The second line must have 7 syllables. \n",
    "**We call this structure a 5-7-5 syllable structure.**\n",
    "None of the lines usually rhyme. Then the whole poem looks like this:\n",
    "> **Haikus**\n",
    ">\n",
    "> The first line has five.\n",
    ">\n",
    "> The second line has seven.\n",
    ">\n",
    "> The last has five too.\n",
    "\n",
    " This is a haiku about the structure of haikus!  \n",
    " \n",
    " ### Exercise\n",
    " Read the poem below. Does it have the structure of a haiku?\n",
    " > **Our ride**\n",
    " >\n",
    " > We go away\n",
    " >\n",
    " > On a hot air balloon.\n",
    " >\n",
    " > It's so much fun!"
   ]
  },
  {
   "cell_type": "code",
   "execution_count": 5,
   "metadata": {},
   "outputs": [
    {
     "data": {
      "application/vnd.jupyter.widget-view+json": {
       "model_id": "7afb7995d4a249fdacde5546e2ee9251",
       "version_major": 2,
       "version_minor": 0
      },
      "text/html": [
       "<p>Failed to display Jupyter Widget of type <code>RadioButtons</code>.</p>\n",
       "<p>\n",
       "  If you're reading this message in the Jupyter Notebook or JupyterLab Notebook, it may mean\n",
       "  that the widgets JavaScript is still loading. If this message persists, it\n",
       "  likely means that the widgets JavaScript library is either not installed or\n",
       "  not enabled. See the <a href=\"https://ipywidgets.readthedocs.io/en/stable/user_install.html\">Jupyter\n",
       "  Widgets Documentation</a> for setup instructions.\n",
       "</p>\n",
       "<p>\n",
       "  If you're reading this message in another frontend (for example, a static\n",
       "  rendering on GitHub or <a href=\"https://nbviewer.jupyter.org/\">NBViewer</a>),\n",
       "  it may mean that your frontend doesn't currently support widgets.\n",
       "</p>\n"
      ],
      "text/plain": [
       "RadioButtons(layout=Layout(width='600px'), options=('', 'Yes, \"Our ride\" follows the 5-7-5 syllable structure', 'No, \"Our ride\" does not follow the 5-7-5 syllable structure'), value='')"
      ]
     },
     "metadata": {},
     "output_type": "display_data"
    }
   ],
   "source": [
    "answer = widgets.RadioButtons(options=['','Yes, \"Our ride\" follows the 5-7-5 syllable structure', \n",
    "                                       'No, \"Our ride\" does not follow the 5-7-5 syllable structure'], \n",
    "                              layout={'width': '600px'}, value = '')\n",
    "truth = widgets.RadioButtons(options=['','Line 1 has 5. Line 2 has 7. Line 3 has 4.',\n",
    "                                      'Line 1 has 4. Line 2 has 6. Line 3 has 4.',\n",
    "                                      'Line 1 has 4. Line 2 has 7. Line 3 has 5.'], value = '')\n",
    "\n",
    "def displays():\n",
    "    IPython.display.clear_output()\n",
    "    IPython.display.display(answer)\n",
    "\n",
    "def check(a):\n",
    "    displays()\n",
    "    if answer.value == 'No, \"Our ride\" does not follow the 5-7-5 syllable structure':\n",
    "        print(\"You are right!\")\n",
    "    else:\n",
    "        print(\"Actually, this poem does not follow the 5-7-5 syllable structure.\")\n",
    "    print(\"How many syllables does each line have?\")\n",
    "    IPython.display.display(truth)\n",
    "        \n",
    "def check2(a):\n",
    "    displays()\n",
    "    IPython.display.display(truth)\n",
    "    if truth.value == 'Line 1 has 4. Line 2 has 6. Line 3 has 4.':\n",
    "        print(\"That's right! Haikus need the 5-7-5 syllable structure but this poem has a 4-6-4 structure.\")\n",
    "        print(\"That means this poem is not a haiku.\")\n",
    "    else:\n",
    "        print(\"That's not right, try counting the syllables of each line again.\")\n",
    "        \n",
    "displays()\n",
    "answer.observe(check, 'value')\n",
    "truth.observe(check2, 'value')"
   ]
  },
  {
   "cell_type": "markdown",
   "metadata": {},
   "source": [
    "### Try writing your own haiku!\n",
    "Write your haiku by typing each line of the poem on a new line. Don't include a title. Press submit when your poem is done."
   ]
  },
  {
   "cell_type": "code",
   "execution_count": 6,
   "metadata": {},
   "outputs": [
    {
     "data": {
      "application/vnd.jupyter.widget-view+json": {
       "model_id": "adb26621e2b54bf1a10cb6f8a548a4e3",
       "version_major": 2,
       "version_minor": 0
      },
      "text/html": [
       "<p>Failed to display Jupyter Widget of type <code>Textarea</code>.</p>\n",
       "<p>\n",
       "  If you're reading this message in the Jupyter Notebook or JupyterLab Notebook, it may mean\n",
       "  that the widgets JavaScript is still loading. If this message persists, it\n",
       "  likely means that the widgets JavaScript library is either not installed or\n",
       "  not enabled. See the <a href=\"https://ipywidgets.readthedocs.io/en/stable/user_install.html\">Jupyter\n",
       "  Widgets Documentation</a> for setup instructions.\n",
       "</p>\n",
       "<p>\n",
       "  If you're reading this message in another frontend (for example, a static\n",
       "  rendering on GitHub or <a href=\"https://nbviewer.jupyter.org/\">NBViewer</a>),\n",
       "  it may mean that your frontend doesn't currently support widgets.\n",
       "</p>\n"
      ],
      "text/plain": [
       "Textarea(value='', description='Haiku:', layout=Layout(height='100px', width='400px'))"
      ]
     },
     "metadata": {},
     "output_type": "display_data"
    },
    {
     "data": {
      "application/vnd.jupyter.widget-view+json": {
       "model_id": "f97cff06944c48a3b9fc61154f797c9d",
       "version_major": 2,
       "version_minor": 0
      },
      "text/html": [
       "<p>Failed to display Jupyter Widget of type <code>Button</code>.</p>\n",
       "<p>\n",
       "  If you're reading this message in the Jupyter Notebook or JupyterLab Notebook, it may mean\n",
       "  that the widgets JavaScript is still loading. If this message persists, it\n",
       "  likely means that the widgets JavaScript library is either not installed or\n",
       "  not enabled. See the <a href=\"https://ipywidgets.readthedocs.io/en/stable/user_install.html\">Jupyter\n",
       "  Widgets Documentation</a> for setup instructions.\n",
       "</p>\n",
       "<p>\n",
       "  If you're reading this message in another frontend (for example, a static\n",
       "  rendering on GitHub or <a href=\"https://nbviewer.jupyter.org/\">NBViewer</a>),\n",
       "  it may mean that your frontend doesn't currently support widgets.\n",
       "</p>\n"
      ],
      "text/plain": [
       "Button(button_style='success', description='Submit', style=ButtonStyle())"
      ]
     },
     "metadata": {},
     "output_type": "display_data"
    }
   ],
   "source": [
    "poem = widgets.Textarea(description='Haiku:', layout={'height': '100px', 'width': '400px'})\n",
    "submit = widgets.Button(description='Submit', button_style='success'\n",
    ")\n",
    "\n",
    "def syllables(word): \n",
    "    count = [0]\n",
    "    vowels = 'aeiouy'\n",
    "    word = word.lower()\n",
    "    if word[0] in vowels:\n",
    "        count[0] +=1\n",
    "    for index in range(1,len(word)):\n",
    "        if word[index] in vowels and word[index-1] not in vowels:\n",
    "            count[0] +=1\n",
    "    if word.endswith('e'):\n",
    "        count[0] -= 1\n",
    "    if word.endswith('le'):\n",
    "        count[0] +=1\n",
    "    if count[0] == 0:\n",
    "        count[0] +=1\n",
    "    return count\n",
    "\n",
    "def nsyl(word): \n",
    "    try:\n",
    "        return [len(list(y for y in x if isdigit(y[-1]))) for x in d[word.lower()]]\n",
    "    except KeyError:\n",
    "        if KeyError == ' ':\n",
    "            return [0]\n",
    "        else:\n",
    "            return syllables(word)\n",
    "        \n",
    "phrase = poem.value        \n",
    "#phrase = \"This is troubling , There is a dragon ahead , go run for your life\"\n",
    "def check(phrase):\n",
    "    syllables = []\n",
    "    for sentence in phrase.split(':'):\n",
    "        count = 0\n",
    "        for word in sentence.split():\n",
    "            wordcount = nsyl(word)\n",
    "            count += wordcount[0]\n",
    "        syllables.append(count)\n",
    "    if syllables == [5, 7, 5] or syllables == [5, 7, 5, 0]:\n",
    "        print(\"This is a haiku!\")\n",
    "    else:\n",
    "        print(\"This is not a haiku. If you think it is a haiku, it's best to double check with your teacher.\")\n",
    "        print(syllables)\n",
    "        \n",
    "def display(a):\n",
    "    IPython.display.clear_output(wait=False)\n",
    "    IPython.display.display(poem, submit)\n",
    "    phrase = poem.value\n",
    "    #phrase.translate(str.maketrans(\"\", \"\", string.punctuation))\n",
    "    for ch in string.punctuation:                                                                                                     \n",
    "        phrase = phrase.replace(ch, \"\") \n",
    "    phrase = phrase.replace(\"\\n\", \":\")\n",
    "    check(phrase)\n",
    "    \n",
    "IPython.display.display(poem, submit)    \n",
    "submit.on_click(display)    "
   ]
  },
  {
   "cell_type": "markdown",
   "metadata": {},
   "source": [
    "##### Are you wondering how the computer is counting the syllables you typed? \n",
    "\n",
    ">Many people have worked really hard to create a dictionary that the computer can call to look up how many syllables are in a certain word. But not all words exist in this dictionary, but there's some rules about how syllables are made that help the computer guess the right number of syllables. Sometimes its wrong though because english doesn't always follow easy rules."
   ]
  },
  {
   "cell_type": "markdown",
   "metadata": {},
   "source": [
    "## Diamante\n",
    "\n",
    "A diamante poem is a type of shape poetry that has rules for each line. Not all types of shape poetry need rules; some can be in the shape of the topic the poem is about.\n",
    "\n",
    "##### Topic\n",
    "A diamante is written about 2 topics, which can be similar or complete opposites. One topic is for the top of the diamond. The other topic if for the bottom of the diamond. This type of poem does not usually have a title because the first and line lines act as a title in telling the reader the topic.\n",
    "\n",
    "##### Structure\n",
    "A diamante poem is a type of shape poetry that is written in the shape of a diamond. It includes 7 lines. The first topic is for the first 3 lines. The other topic if for the last 3 lines. The middle line, or 4th line, is about both topics. None of the lines need to rhyme.\n",
    "\n",
    "Each line has a specific rule. Look at the picture below to see the rules.\n",
    "\n",
    "![structure](https://study.com/cimages/multimages/16/diamantepattern.jpg)\n",
    "[source](https://study.com/academy/lesson/diamante-poems-lesson-for-kids.html)\n",
    "\n",
    "An example of a diamante poem about opposites would be:\n",
    "\n",
    "> Day\n",
    ">\n",
    "> Light, colored\n",
    ">\n",
    "> Shining, seeing, doing\n",
    ">\n",
    "> Morning, Noon, Evening, Midnight\n",
    ">\n",
    "> Fading, sleeping, dreaming\n",
    ">\n",
    "> Dark, calm\n",
    ">\n",
    "> Night"
   ]
  },
  {
   "cell_type": "markdown",
   "metadata": {},
   "source": [
    "### Exercise\n",
    "\n",
    "What would be a good Topic 1 and Topic 2 for this diamente poem?\n",
    "\n",
    "> ---Topic 1---\n",
    ">\n",
    "> Striped, Hooved\n",
    ">\n",
    "> Graising, Drinking, Running\n",
    ">\n",
    "> One from Africa, one from Europe\n",
    ">\n",
    "> Galloping, Trotting, Neighing\n",
    ">\n",
    "> Majestic, Hairy\n",
    ">\n",
    "> ---Topic 2---\n",
    "\n",
    "Which 2 animals would best fit this poem?"
   ]
  },
  {
   "cell_type": "code",
   "execution_count": 7,
   "metadata": {},
   "outputs": [
    {
     "data": {
      "application/vnd.jupyter.widget-view+json": {
       "model_id": "2726e501d9e94a1882f45a55ad69b8ed",
       "version_major": 2,
       "version_minor": 0
      },
      "text/html": [
       "<p>Failed to display Jupyter Widget of type <code>RadioButtons</code>.</p>\n",
       "<p>\n",
       "  If you're reading this message in the Jupyter Notebook or JupyterLab Notebook, it may mean\n",
       "  that the widgets JavaScript is still loading. If this message persists, it\n",
       "  likely means that the widgets JavaScript library is either not installed or\n",
       "  not enabled. See the <a href=\"https://ipywidgets.readthedocs.io/en/stable/user_install.html\">Jupyter\n",
       "  Widgets Documentation</a> for setup instructions.\n",
       "</p>\n",
       "<p>\n",
       "  If you're reading this message in another frontend (for example, a static\n",
       "  rendering on GitHub or <a href=\"https://nbviewer.jupyter.org/\">NBViewer</a>),\n",
       "  it may mean that your frontend doesn't currently support widgets.\n",
       "</p>\n"
      ],
      "text/plain": [
       "RadioButtons(description='Topic 1', options=('', 'Tiger', 'Zebra', 'Cow', 'Giraffe'), value='')"
      ]
     },
     "metadata": {},
     "output_type": "display_data"
    }
   ],
   "source": [
    "topic1 = widgets.RadioButtons(options=['','Tiger', 'Zebra', 'Cow', 'Giraffe'], description='Topic 1', value = '')\n",
    "\n",
    "def display2():\n",
    "    IPython.display.clear_output()\n",
    "    IPython.display.display(topic1)\n",
    "\n",
    "def checks(a):\n",
    "    display2()\n",
    "    if topic1.value == 'Zebra':\n",
    "        print(\"That's a great choice! It fits all the descriptions of the first 3 lines.\")\n",
    "    else:\n",
    "        print(\"That choice might fit some of the descriptions of the first 3 lines, but not all of them. Try again.\")\n",
    "        \n",
    "display2()\n",
    "topic1.observe(checks, 'value')"
   ]
  },
  {
   "cell_type": "code",
   "execution_count": 8,
   "metadata": {},
   "outputs": [
    {
     "data": {
      "application/vnd.jupyter.widget-view+json": {
       "model_id": "96b75d9c79ff4d0180bb359334f4d211",
       "version_major": 2,
       "version_minor": 0
      },
      "text/html": [
       "<p>Failed to display Jupyter Widget of type <code>RadioButtons</code>.</p>\n",
       "<p>\n",
       "  If you're reading this message in the Jupyter Notebook or JupyterLab Notebook, it may mean\n",
       "  that the widgets JavaScript is still loading. If this message persists, it\n",
       "  likely means that the widgets JavaScript library is either not installed or\n",
       "  not enabled. See the <a href=\"https://ipywidgets.readthedocs.io/en/stable/user_install.html\">Jupyter\n",
       "  Widgets Documentation</a> for setup instructions.\n",
       "</p>\n",
       "<p>\n",
       "  If you're reading this message in another frontend (for example, a static\n",
       "  rendering on GitHub or <a href=\"https://nbviewer.jupyter.org/\">NBViewer</a>),\n",
       "  it may mean that your frontend doesn't currently support widgets.\n",
       "</p>\n"
      ],
      "text/plain": [
       "RadioButtons(description='Topic 2', options=('', 'Lion', 'Donkey', 'Horse', 'Pig'), value='')"
      ]
     },
     "metadata": {},
     "output_type": "display_data"
    }
   ],
   "source": [
    "topic2 = widgets.RadioButtons(options=['','Lion', 'Donkey', 'Horse', 'Pig'], description='Topic 2', value = '')\n",
    "\n",
    "def display3():\n",
    "    IPython.display.clear_output()\n",
    "    IPython.display.display(topic2)\n",
    "        \n",
    "def checks2(a):\n",
    "    display3()\n",
    "    if topic2.value == 'Horse':\n",
    "        print(\"Great choice! The last 3 lines decribe a horse!\")\n",
    "    else:\n",
    "        print(\"That choice might fit some of the descriptions of the last 3 lines, but not all of them. Try again.\")\n",
    "        \n",
    "display3()\n",
    "topic2.observe(checks2, 'value')"
   ]
  },
  {
   "cell_type": "markdown",
   "metadata": {},
   "source": [
    "## Limerick\n",
    "\n",
    "You have probably heard limerick before because they are used very often. Limericks are a lot of fun to say out loud because they have a rhyming pattern. \n",
    "\n",
    "##### Topic\n",
    "A limerick can be about anything. Like a haiku, all the lines are about the same topic. It's like a story that has a rhythm when you read it. Most limericks are nonsense stories. Most of them start with *\"There once was a ...\"* or *\"There was a ...\"*\n",
    "\n",
    "##### Structure\n",
    "Limericks have 5 lines and they rhyme in a specific pattern. Lines 1, 2, and 5 all have the same number of syllables and rhyme. They have between 8 and 11 syllables. Lines 3 and 4 have the same number of syllables and rhyme. They have between 5 and 7 syllables. Don't worry too much about the syllables though, it's more inportant that it's easy to read and rhymes in the right order.\n",
    "\n",
    "**Limericks have a AABBA rhyming structure.** Each letter stands for a line and the letters that are the same mean the lines rhyme. Like this:\n",
    "\n",
    ">(A) There once was a black cat named Jack,\n",
    ">\n",
    ">(A) Who had a large bag on his back.\n",
    ">\n",
    ">(B) He sat on a chair,\n",
    ">\n",
    ">(B) With nothing to wear,\n",
    ">\n",
    ">(A) Except his old dusty knap-sack.\n",
    "\n",
    "Listen to this limerick from an episode of SpongeBob:"
   ]
  },
  {
   "cell_type": "code",
   "execution_count": 9,
   "metadata": {},
   "outputs": [
    {
     "data": {
      "text/html": [
       "<iframe width=\"560\" height=\"315\" src=\"https://www.youtube.com/embed/GG19g9oiF-w\" frameborder=\"0\" allow=\"autoplay; encrypted-media\" allowfullscreen></iframe>"
      ],
      "text/plain": [
       "<IPython.core.display.HTML object>"
      ]
     },
     "execution_count": 9,
     "metadata": {},
     "output_type": "execute_result"
    }
   ],
   "source": [
    "from IPython.display import HTML\n",
    "HTML('<iframe width=\"560\" height=\"315\" src=\"https://www.youtube.com/embed/GG19g9oiF-w\" frameborder=\"0\" allow=\"autoplay; encrypted-media\" allowfullscreen></iframe>')"
   ]
  },
  {
   "cell_type": "markdown",
   "metadata": {},
   "source": [
    "This limerick tells a funny story about a man eating his shoe in his sleep. \n",
    "\n",
    "Lines 1, 2, and 5 had 8 syllables and all ended in the sound \"oo\". Lines 3 and 4 had 5 syllables and all ended in the sound \"ight\". Therefore it fits the structure of a limerick!"
   ]
  },
  {
   "cell_type": "markdown",
   "metadata": {},
   "source": [
    "#### Exercise\n",
    "\n",
    "Click the color then the last words that rhyme. Use a different color for each new sound that has a rhyme. If a line doesn't rhyme with any other line, then don't color it with either color."
   ]
  },
  {
   "cell_type": "code",
   "execution_count": 10,
   "metadata": {},
   "outputs": [
    {
     "data": {
      "text/html": [
       "\n",
       "<script type = \"text/javascript\" src=\"https://d3js.org/d3.v3.min.js\"></script>\n",
       "<script type = \"text/javascript\" src=\"sources/poemHighlight.js\"></script>"
      ],
      "text/plain": [
       "<IPython.core.display.HTML object>"
      ]
     },
     "metadata": {},
     "output_type": "display_data"
    }
   ],
   "source": [
    "%%html\n",
    "\n",
    "<script type = \"text/javascript\" src=\"https://d3js.org/d3.v3.min.js\"></script>\n",
    "<script type = \"text/javascript\" src=\"sources/poemHighlight.js\"></script>"
   ]
  },
  {
   "cell_type": "code",
   "execution_count": 11,
   "metadata": {},
   "outputs": [
    {
     "data": {
      "text/html": [
       "\n",
       "<div id=\"Highlight\">\n",
       "<input id=\"reset\" type=\"button\" value=\"Reset\" onclick=\"resetHL()\">\n",
       "</div>\n",
       "<div>\n",
       "<input id=\"submit\" type=\"button\" value=\"Submit\" onclick=\"submit()\"> \n",
       "<br />\n",
       "<text x=\"50\" y=\"300\" font-family=\"sans-serif\" font-size=\"15px\" id=\"result\"> </text>\n",
       "</div>\n",
       "\n",
       "<script>\n",
       "display();\n",
       "</script>"
      ],
      "text/plain": [
       "<IPython.core.display.HTML object>"
      ]
     },
     "metadata": {},
     "output_type": "display_data"
    }
   ],
   "source": [
    "%%html\n",
    "\n",
    "<div id=\"Highlight\">\n",
    "<input id=\"reset\" type=\"button\" value=\"Reset\" onclick=\"resetHL()\">\n",
    "</div>\n",
    "<div>\n",
    "<input id=\"submit\" type=\"button\" value=\"Submit\" onclick=\"submit()\"> \n",
    "<br />\n",
    "<text x=\"50\" y=\"300\" font-family=\"sans-serif\" font-size=\"15px\" id=\"result\"> </text>\n",
    "</div>\n",
    "\n",
    "<script>\n",
    "display();\n",
    "</script>"
   ]
  },
  {
   "cell_type": "code",
   "execution_count": 12,
   "metadata": {},
   "outputs": [
    {
     "name": "stdout",
     "output_type": "stream",
     "text": [
      "Does this pattern match the limericks rhyming pattern?\n"
     ]
    },
    {
     "data": {
      "application/vnd.jupyter.widget-view+json": {
       "model_id": "ba36b4e8a7ff40ada25971e19b3a9088",
       "version_major": 2,
       "version_minor": 0
      },
      "text/html": [
       "<p>Failed to display Jupyter Widget of type <code>RadioButtons</code>.</p>\n",
       "<p>\n",
       "  If you're reading this message in the Jupyter Notebook or JupyterLab Notebook, it may mean\n",
       "  that the widgets JavaScript is still loading. If this message persists, it\n",
       "  likely means that the widgets JavaScript library is either not installed or\n",
       "  not enabled. See the <a href=\"https://ipywidgets.readthedocs.io/en/stable/user_install.html\">Jupyter\n",
       "  Widgets Documentation</a> for setup instructions.\n",
       "</p>\n",
       "<p>\n",
       "  If you're reading this message in another frontend (for example, a static\n",
       "  rendering on GitHub or <a href=\"https://nbviewer.jupyter.org/\">NBViewer</a>),\n",
       "  it may mean that your frontend doesn't currently support widgets.\n",
       "</p>\n"
      ],
      "text/plain": [
       "RadioButtons(options=('', 'Yes, the two patterns match', 'No, the two patterns do not match'), value='')"
      ]
     },
     "metadata": {},
     "output_type": "display_data"
    }
   ],
   "source": [
    "pattern = widgets.RadioButtons(options=['','Yes, the two patterns match', 'No, the two patterns do not match'], value = '')\n",
    "\n",
    "def display4():\n",
    "    IPython.display.clear_output()\n",
    "    print(\"Does this pattern match the limericks rhyming pattern?\")\n",
    "    IPython.display.display(pattern)\n",
    "\n",
    "def check4(a):\n",
    "    display4()\n",
    "    if pattern.value == 'No, the two patterns do not match':\n",
    "        print(\"You are right!\")\n",
    "    else:\n",
    "        print(\"Actually, the two patterns don't match.\")\n",
    "    print(\"A limmerick's rhyming pattern is AABBA. This poem is close though, so most people do call this poem a limerick.\")\n",
    "        \n",
    "display4()\n",
    "pattern.observe(check4, 'value')"
   ]
  },
  {
   "cell_type": "markdown",
   "metadata": {},
   "source": [
    "## Cinquain\n",
    "\n",
    "A cinquain poem was named that because it's close to the latin word for \"five\". This is relevant because this poem has 5 lines. A cinquain is also a type of shape poetry like the diamante, but each line has different rules and the result is a different shape.\n",
    "\n",
    "##### Topic\n",
    "A cinquain can be about anything. All the lines are about the same topic. There usually isn't a title because the first and last lines act as a title by telling the reader the topic.\n",
    "\n",
    "##### Structure\n",
    "It has 5 lines. Each line has rules like the diamante poem. A cinquain poem has these rules:\n",
    "\n",
    "![cinquain](https://littlelearningangels.weebly.com/uploads/7/1/2/4/71241245/published/download-1.jpg?1512469267)\n",
    "[source](https://littlelearningangels.weebly.com/cinquain-poetry.html)\n",
    "\n",
    "Here's an example of a cinquain:\n",
    "\n",
    "> Flower\n",
    ">\n",
    "> Sweet, Beautiful\n",
    ">\n",
    "> Growing, Blooming, Smelling\n",
    ">\n",
    "> Has a lovely scent\n",
    ">\n",
    "> Rose"
   ]
  },
  {
   "cell_type": "markdown",
   "metadata": {},
   "source": [
    "### Extend your knowledge\n",
    "\n",
    "Take your favorite book and write a poem about its story. You can use any book and any style of poem from this notebook. Can you make one of each type of poem about the same story?"
   ]
  },
  {
   "cell_type": "markdown",
   "metadata": {},
   "source": [
    "## What did we learn?\n",
    "\n",
    "We learned that:\n",
    "* There are lots of types of poetry. Not all of them rhyme.\n",
    "* Haikus have a 5-7-5 syllable structure\n",
    "* Limericks have a AABBA rhyming structure\n",
    "* Diamantes and cinquains are shape poetry with rules for each line\n",
    "\n",
    "You can write many poems with all the things you learned in this notebook! Poems are a great way to tell a story with not only a few words."
   ]
  },
  {
   "cell_type": "markdown",
   "metadata": {},
   "source": [
    "If you want to read more poetry, go to your school or public library and look for:\n",
    "* Where the sidewalk ends by Shel Silverstein\n",
    "* A bad case of the giggles by Bruce Lansky\n",
    "* Vanishing Trick by Ros Asquith \n",
    "* Poetry for Young People by Emily Dickinson"
   ]
  },
  {
   "cell_type": "markdown",
   "metadata": {},
   "source": [
    "![bottombanner](https://callysto.ca/wp-content/uploads/2018/07/Callysto-Notebook-Banner_Bottom_07.30.18.jpg)"
   ]
  }
 ],
 "metadata": {
  "kernelspec": {
   "display_name": "Python 3",
   "language": "python",
   "name": "python3"
  },
  "language_info": {
   "codemirror_mode": {
    "name": "ipython",
    "version": 3
   },
   "file_extension": ".py",
   "mimetype": "text/x-python",
   "name": "python",
   "nbconvert_exporter": "python",
   "pygments_lexer": "ipython3",
   "version": "3.6.5"
  }
 },
 "nbformat": 4,
 "nbformat_minor": 2
}
