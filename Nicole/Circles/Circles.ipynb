{
 "cells": [
  {
   "cell_type": "markdown",
   "metadata": {},
   "source": [
    "![logo](https://callysto.ca/wp-content/uploads/2018/06/Callysto_Notebook-Banner_Top_06.06.18.jpg)"
   ]
  },
  {
   "cell_type": "code",
   "execution_count": 47,
   "metadata": {},
   "outputs": [
    {
     "data": {
      "text/html": [
       "\n",
       "<script>\n",
       "  function code_toggle() {\n",
       "    if (code_shown){\n",
       "      $('div.input').hide('500');\n",
       "      $('#toggleButton').val('Show Code')\n",
       "    } else {\n",
       "      $('div.input').show('500');\n",
       "      $('#toggleButton').val('Hide Code')\n",
       "    }\n",
       "    code_shown = !code_shown\n",
       "  }\n",
       "\n",
       "  $( document ).ready(function(){\n",
       "    code_shown=false;\n",
       "    $('div.input').hide()\n",
       "  });\n",
       "</script>\n",
       "<form action=\"javascript:code_toggle()\"><input type=\"submit\" id=\"toggleButton\" value=\"Show Code\"></form>\n"
      ],
      "text/plain": [
       "<IPython.core.display.HTML object>"
      ]
     },
     "metadata": {},
     "output_type": "display_data"
    }
   ],
   "source": [
    "%%html\n",
    "\n",
    "<script>\n",
    "  function code_toggle() {\n",
    "    if (code_shown){\n",
    "      $('div.input').hide('500');\n",
    "      $('#toggleButton').val('Show Code')\n",
    "    } else {\n",
    "      $('div.input').show('500');\n",
    "      $('#toggleButton').val('Hide Code')\n",
    "    }\n",
    "    code_shown = !code_shown\n",
    "  }\n",
    "\n",
    "  $( document ).ready(function(){\n",
    "    code_shown=false;\n",
    "    $('div.input').hide()\n",
    "  });\n",
    "</script>\n",
    "<form action=\"javascript:code_toggle()\"><input type=\"submit\" id=\"toggleButton\" value=\"Show Code\"></form>"
   ]
  },
  {
   "cell_type": "code",
   "execution_count": 48,
   "metadata": {},
   "outputs": [
    {
     "data": {
      "application/javascript": [
       "\n",
       "            require.config({\n",
       "                paths: {\n",
       "                    ggb: \"https://cdn.geogebra.org/apps/deployggb\"\n",
       "                }\n",
       "            });\n",
       "\n",
       "            require([\"ggb\"]);\n",
       "        "
      ],
      "text/plain": [
       "<IPython.core.display.Javascript object>"
      ]
     },
     "metadata": {},
     "output_type": "display_data"
    }
   ],
   "source": [
    "from ggb import *\n",
    "ggb = GGB()\n",
    "\n",
    "from IPython.display import Image\n",
    "import ipywidgets as widgets\n",
    "import IPython"
   ]
  },
  {
   "cell_type": "markdown",
   "metadata": {},
   "source": [
    "Strand: Shape and Space (Measurement) - Students will:\n",
    "\n",
    "• estimate and take accurate measurements using everyday metric (SI) and imperial units of measure\n",
    "• solve problems, using appropriate measuring devices (i.e., metric [SI] and imperial), strategies and technology in home, workplace and community contexts\n",
    "• communicate mathematically and investigate the application of measurement knowledge and skills in a variety of career and workplace situations, working individually or as members of a team\n",
    "• assess reasonableness of calculations and problem-solving strategies.\n",
    "\n",
    "Grade 8: General Outcome - Students will:\n",
    "\n",
    "• use measurement concepts, appropriate tools and results of measurements to solve problems in everyday contexts.\n",
    "\n",
    "Specific Outcomes - Students will:\n",
    "\n",
    "6. demonstrate the relationships among the circumference, radius and diameter of circles\n",
    "\n",
    "*Deliverable:*\n",
    "\n",
    "An interactive notebook to examine and visualize concepts and examples related to this curriculum outcome.\n",
    "\n",
    "*Data source:*\n",
    "\n",
    "[https://education.alberta.ca/media/3653318/kemath89.pdf]"
   ]
  },
  {
   "cell_type": "markdown",
   "metadata": {},
   "source": [
    "- move radius around center to show sameness\n",
    "- circumference/diameter = pi\n",
    "- implies 2rpi = circumference\n",
    "- because 2 radius = diameter \n",
    "- tell diameter versus radius\n",
    "- give radius, create circle, calculate circumference\n",
    "- round pi to 3.14 even though it goes on forever"
   ]
  },
  {
   "cell_type": "markdown",
   "metadata": {},
   "source": [
    "# All Things Circles\n",
    "\n",
    "##### Grade 8 Curriculum\n",
    "\n",
    "This notebook will cover some important things about circles, specifically:\n",
    "* radius\n",
    "* diameter\n",
    "* circumference\n",
    "* the relationship between these values\n",
    "\n",
    "This notebook will also give some practice questions along the way. But you'll need more practice to make sure you understand these concepts well. \n",
    "\n",
    "## A Little Review\n",
    "\n",
    "### Radius versus Diameter\n",
    "\n",
    "Before we can talk about circumference of a circle, we need to know the difference between the radius and the diameter of a circle.<br>\n",
    "The **radius** of a circle is the distance between the center of the circle to the edge, like this circle below. You can click on the purple dot on the outer edge of the circle and slide it around the circle to see the radius is the same all the way around a circle."
   ]
  },
  {
   "cell_type": "code",
   "execution_count": 49,
   "metadata": {},
   "outputs": [
    {
     "data": {
      "text/html": [
       "<div id=\"ggb_0_0e\"></div>"
      ],
      "text/plain": [
       "<IPython.core.display.HTML object>"
      ]
     },
     "metadata": {},
     "output_type": "display_data"
    },
    {
     "data": {
      "application/javascript": [
       "var ggb_0_0e = new GGBApplet({\"material_id\": \"j4xz4aj5\"}, \"ggb_0_0e\", false); ggb_0_0e.inject(); "
      ],
      "text/plain": [
       "<IPython.core.display.Javascript object>"
      ]
     },
     "metadata": {},
     "output_type": "display_data"
    }
   ],
   "source": [
    "ggb.material('j4xz4aj5').draw()"
   ]
  },
  {
   "cell_type": "markdown",
   "metadata": {},
   "source": [
    "The **diameter** of a circle is the distance between two points on opposite sides of the circle, creating a straight line through the center of the circle, like this:\n",
    "\n",
    "<img style=\"float: center;\" src=\"./images/Diameter.png\" width=\"400\" height=\"400\">\n",
    "\n",
    "#### What is the relationship between radius and diameter?\n",
    "\n",
    "If radius is from the center to the end and the diameter is from the edge, to the center, then back to the edge, then we can see that diameter is 2 times the radius. We can write this in a formula, where d represents the diameter, and r represents the radius: $ Diameter = 2 \\times Radius $\n",
    "\n",
    "### Test yourself:"
   ]
  },
  {
   "cell_type": "code",
   "execution_count": 50,
   "metadata": {},
   "outputs": [
    {
     "data": {
      "image/png": "[encoded data removed]",
      "text/plain": [
       "<IPython.core.display.Image object>"
      ]
     },
     "execution_count": 50,
     "metadata": {
      "image/png": {
       "width": 300
      }
     },
     "output_type": "execute_result"
    }
   ],
   "source": [
    "Image(filename = \"./images/RadiusDiameter.png\", width = 300)"
   ]
  },
  {
   "cell_type": "code",
   "execution_count": 51,
   "metadata": {},
   "outputs": [
    {
     "name": "stdout",
     "output_type": "stream",
     "text": [
      "What is the diameter of the circle above?\n"
     ]
    },
    {
     "data": {
      "application/vnd.jupyter.widget-view+json": {
       "model_id": "7336dea3a2c44c199abe15b372a78312",
       "version_major": 2,
       "version_minor": 0
      },
      "text/plain": [
       "Text(value='', continuous_update=False, description='Diameter =', placeholder='0', style=DescriptionStyle(desc…"
      ]
     },
     "metadata": {},
     "output_type": "display_data"
    }
   ],
   "source": [
    "style = {'description_width': 'initial'}\n",
    "answer = widgets.Text(value='',placeholder='0',description='Diameter =',continuous_update=False, style = style)\n",
    "\n",
    "def display():\n",
    "    print(\"What is the diameter of the circle above?\")\n",
    "    IPython.display.display(answer)\n",
    "\n",
    "def check(a):\n",
    "    IPython.display.clear_output(wait=True)\n",
    "    display()\n",
    "    if answer.value == '8.4 mm' or answer.value == '8.4mm':\n",
    "        print(\"Great job!\")\n",
    "    else:\n",
    "        if answer.value == '':\n",
    "            pass\n",
    "        if answer.value == '8.4':\n",
    "            print(\"Don't forget units!\")\n",
    "        else:\n",
    "            print(\"Not quite, don't forget the formula.\")\n",
    "\n",
    "display()\n",
    "answer.observe(check, 'value')"
   ]
  },
  {
   "cell_type": "markdown",
   "metadata": {},
   "source": [
    "## What is circumference?\n",
    "\n",
    "The circumference of a circle is the distance around the edge of the circle to get back to the original starting point. In the diagram below, we start measuring at the point, then go all the way around the circle until we reach the point again.\n",
    "\n",
    "<img style=\"float: center;\" src=\"./images/Circumference.png\" width=\"400\" height=\"400\">\n",
    "\n",
    "### But how do we measure circumference? \n",
    "\n",
    "We can't just take a ruler and mesure out chuncks then add it together. A circle is round and rulers are straight! We could try to wrap a string around the circle then measure out the string while straight. \n",
    "\n",
    "The diameter is much easier to measure so if there's a way to calculate the circumference from the diameter, that would be much easier.\n",
    "\n",
    "#### How are circumference and diameter related?\n",
    "\n",
    "Use the slider below to change to diameter and see what happens to the circumference and what the value of $\\frac{Circumference}{Diameter}$ is:\n"
   ]
  },
  {
   "cell_type": "code",
   "execution_count": 52,
   "metadata": {},
   "outputs": [
    {
     "data": {
      "text/html": [
       "<div id=\"ggb_1_0e\"></div>"
      ],
      "text/plain": [
       "<IPython.core.display.HTML object>"
      ]
     },
     "metadata": {},
     "output_type": "display_data"
    },
    {
     "data": {
      "application/javascript": [
       "var ggb_1_0e = new GGBApplet({\"material_id\": \"bwfcyyrs\"}, \"ggb_1_0e\", false); ggb_1_0e.inject(); "
      ],
      "text/plain": [
       "<IPython.core.display.Javascript object>"
      ]
     },
     "metadata": {},
     "output_type": "display_data"
    }
   ],
   "source": [
    "ggb.material('bwfcyyrs').draw()"
   ]
  },
  {
   "cell_type": "markdown",
   "metadata": {},
   "source": [
    "Does the value of $\\frac{Circumference}{Diameter}$ change? Do you recognize this value? What's special about the circumference when the diameter is 1?\n",
    "\n",
    "<img style=\"float: right;\" src=\"./images/pie.jpg\" width=\"200\" height=\"200\">\n",
    "\n",
    "## 3.14159265358779323846...\n",
    "\n",
    "The ratio between the circumference of a circle and it's diameter is the famous constant pi! <br>\n",
    "If you've seen the movie Wonderpark, they actually sing a song about pi on the bus to math camp. <br>\n",
    "Now math camp isn't for everyone, but pi should be. Pi is very important when it comes to circles.\n",
    "\n",
    "We represent pi or 3.14159... with this symbol: $ \\pi $\n",
    "\n",
    "Pi is an irrational number. That means the value of pi actually goes on forever! That's why we need a special symbol for it, but when doing calculations with it, using 3.14 is good enough for us. \n",
    "\n",
    "### Back to circumference\n",
    "\n",
    "Now that we know this relation between circumference and diameter, we can calculate circumference from knowing the diameter!\n",
    "\n",
    "Since $\\frac{Circumference}{Diameter} = \\pi$ if we multiply both sides by diameter, we get The formular for circumference:\n",
    "$$ Circumference = Diameter \\times \\pi $$\n",
    "\n",
    "Now about that special case where the diameter is equal to 1, the circumference is equal to 3.14 or pi! The gif below shows this:"
   ]
  },
  {
   "cell_type": "markdown",
   "metadata": {},
   "source": [
    "<p><a href=\"https://commons.wikimedia.org/wiki/File:Pi-unrolled-720.gif#/media/File:Pi-unrolled-720.gif\"><img src=\"https://upload.wikimedia.org/wikipedia/commons/2/2a/Pi-unrolled-720.gif\" alt=\"Pi-unrolled-720.gif\"></a><br>By <a href=\"https://en.wikipedia.org/wiki/User:John_Reid\" class=\"extiw\" title=\"en:User:John Reid\">John Reid</a> - Edited version of <a href=\"//commons.wikimedia.org/wiki/File:Pi-unrolled.gif\" title=\"File:Pi-unrolled.gif\">Image:Pi-unrolled.gif</a>., <a href=\"http://creativecommons.org/licenses/by-sa/3.0/\" title=\"Creative Commons Attribution-Share Alike 3.0\">CC BY-SA 3.0</a>, <a href=\"https://commons.wikimedia.org/w/index.php?curid=1268581\">Link</a></p>"
   ]
  },
  {
   "cell_type": "markdown",
   "metadata": {},
   "source": [
    "### Now let's try calculating circumference!\n",
    "\n",
    "Given the circle below, what is its circumference?"
   ]
  },
  {
   "cell_type": "code",
   "execution_count": 53,
   "metadata": {},
   "outputs": [
    {
     "data": {
      "image/png": "[encoded data removed]",
      "text/plain": [
       "<IPython.core.display.Image object>"
      ]
     },
     "execution_count": 53,
     "metadata": {
      "image/png": {
       "width": 300
      }
     },
     "output_type": "execute_result"
    }
   ],
   "source": [
    "Image(filename = \"./images/givenRadius.png\", width = 300)"
   ]
  },
  {
   "cell_type": "markdown",
   "metadata": {},
   "source": [
    "Let's first look at our formula: $Circumference = \\pi \\times Diameter$ <br>\n",
    "We aren't given diameter, only radius. But we know that $Diameter = 2 \\times Radius$ <br>\n",
    "So first let's find the daiameter of this circle: \n",
    "$$\\begin{align*}\n",
    "Diameter & = 2 \\times Radius\\\\\n",
    "Diameter & = 2 \\times 5 \\text{ cm} \\\\\n",
    "Diameter & = 10 \\text{ cm}\n",
    "\\end{align*}$$\n",
    "Now we can use this in our other formula:\n",
    "$$\\begin{align*}\n",
    "Circumference & = \\pi \\times Diameter\\\\\n",
    "Circumference & = 3.14 \\times 10 \\text{ cm}\\\\\n",
    "Circumference & = 31.4 \\text{ cm}\n",
    "\\end{align*}$$\n",
    "\n",
    "Now we have found the circumference of this circle to be 31.4 cm! And whe you give your answer, don't forget your units!\n",
    "\n",
    "From this problem that we solved, we can see that if we are given the radius and need the circumference, then we can replace diameter with $ 2 \\times radius$. So we can also do that with our formula:\n",
    "\n",
    "$$ Circumference = \\pi \\times 2 \\times Radius$$"
   ]
  },
  {
   "cell_type": "markdown",
   "metadata": {},
   "source": [
    "### Now you try:"
   ]
  },
  {
   "cell_type": "code",
   "execution_count": 54,
   "metadata": {},
   "outputs": [
    {
     "data": {
      "image/png": "[encoded data removed]",
      "text/plain": [
       "<IPython.core.display.Image object>"
      ]
     },
     "execution_count": 54,
     "metadata": {
      "image/png": {
       "width": 300
      }
     },
     "output_type": "execute_result"
    }
   ],
   "source": [
    "Image(filename = \"./images/givenDiameter.png\", width = 300)"
   ]
  },
  {
   "cell_type": "code",
   "execution_count": 55,
   "metadata": {},
   "outputs": [
    {
     "name": "stdout",
     "output_type": "stream",
     "text": [
      "What is the circumference of this circle? Round to 2 decimal places\n"
     ]
    },
    {
     "data": {
      "application/vnd.jupyter.widget-view+json": {
       "model_id": "7679a82672ed4e7d8faa7b6a04f6a8e9",
       "version_major": 2,
       "version_minor": 0
      },
      "text/plain": [
       "Text(value='', continuous_update=False, description='Circumference =', placeholder='0', style=DescriptionStyle…"
      ]
     },
     "metadata": {},
     "output_type": "display_data"
    }
   ],
   "source": [
    "style = {'description_width': 'initial'}\n",
    "answer1 = widgets.Text(value='',placeholder='0',description='Circumference =',continuous_update=False, style = style)\n",
    "\n",
    "def display1():\n",
    "    print(\"What is the circumference of this circle? Round to 2 decimal places\")\n",
    "    IPython.display.display(answer1)\n",
    "\n",
    "def check1(a):\n",
    "    IPython.display.clear_output(wait=True)\n",
    "    display1()\n",
    "    if answer1.value == '21.98 km' or answer1.value == '21.98km':\n",
    "        print(\"Great job!\")\n",
    "    else:\n",
    "        if answer1.value == '':\n",
    "            pass\n",
    "        if answer1.value == '21.98':\n",
    "            print(\"Don't forget units!\")\n",
    "        else:\n",
    "            print(\"Not quite, don't forget the formula.\")\n",
    "\n",
    "display1()\n",
    "answer1.observe(check1, 'value')"
   ]
  },
  {
   "cell_type": "markdown",
   "metadata": {},
   "source": [
    "-----\n",
    "\n",
    "## We can also find the diameter or radius\n",
    "\n",
    "If we're given the circumference of a circle, we can also find the diameter or radius with the same formulas!\n",
    "\n",
    "Let's find the radius of this circle below given the circumference:"
   ]
  },
  {
   "cell_type": "code",
   "execution_count": 56,
   "metadata": {},
   "outputs": [
    {
     "data": {
      "image/png": "[encoded data removed]",
      "text/plain": [
       "<IPython.core.display.Image object>"
      ]
     },
     "execution_count": 56,
     "metadata": {
      "image/png": {
       "width": 300
      }
     },
     "output_type": "execute_result"
    }
   ],
   "source": [
    "Image(filename = \"./images/findRadius2.png\", width = 300)"
   ]
  },
  {
   "cell_type": "markdown",
   "metadata": {},
   "source": [
    "Let's first look at our formula: $Circumference = \\pi \\times Diameter$ <br>\n",
    "We are given circumference so we can put it into our formula:\n",
    "$$\\begin{align*}\n",
    "Circumference & = \\pi \\times Diameter\\\\\n",
    "14 \\text{ cm} & = 3.14 \\times Diameter\\\\\n",
    "\\frac{14 \\text{ cm}}{3.14} & = \\frac{3.14 \\times Diameter}{3.14}\\\\\n",
    "4.46 \\text{ cm} & = Diameter\n",
    "\\end{align*}$$\n",
    "If the question asked 'what is the diameter?' then we could stop here and the answer would be 4.46 cm.<br>\n",
    "But since we want to know the radius, we have one more step to do, using our other formula:\n",
    "$$\\begin{align*}\n",
    "Diameter & = 2 \\times Radius\\\\\n",
    "4.46 \\text{ cm} & = 2 \\times Radius \\\\\n",
    "\\frac{4.46 \\text{ cm}}{2} & = \\frac{2 \\times Radius}{2} \\\\\n",
    "2.23 \\text{ cm} & = Radius\n",
    "\\end{align*}$$\n",
    "\n",
    "Now we have found the radius is 2.23 cm! Once again, don't forget your units!\n",
    "\n",
    "We could have also used our second circumference formula to figure this out:\n",
    "\n",
    "$$\\begin{align*} \n",
    "Circumference & = \\pi \\times 2 \\times Radius\\\\\n",
    "14 \\text{ cm} & = 3.14 \\times 2 \\times Radius\\\\\n",
    "\\frac{14 \\text{ cm}}{3.14 \\times 2} & = \\frac{3.14 \\times 2 \\times Radius}{3.14 \\times 2}\\\\\n",
    "2.23 \\text{ cm} & = Radius\n",
    "\\end{align*}$$"
   ]
  },
  {
   "cell_type": "markdown",
   "metadata": {},
   "source": [
    "### Now you try:"
   ]
  },
  {
   "cell_type": "code",
   "execution_count": 57,
   "metadata": {},
   "outputs": [
    {
     "data": {
      "image/png": "[encoded data removed]",
      "text/plain": [
       "<IPython.core.display.Image object>"
      ]
     },
     "execution_count": 57,
     "metadata": {
      "image/png": {
       "width": 300
      }
     },
     "output_type": "execute_result"
    }
   ],
   "source": [
    "Image(filename = \"./images/findDiameter.png\", width = 300)"
   ]
  },
  {
   "cell_type": "code",
   "execution_count": 58,
   "metadata": {},
   "outputs": [
    {
     "name": "stdout",
     "output_type": "stream",
     "text": [
      "What is the diameter of this circle?\n"
     ]
    },
    {
     "data": {
      "application/vnd.jupyter.widget-view+json": {
       "model_id": "0e795652b9694081b59396956f59a943",
       "version_major": 2,
       "version_minor": 0
      },
      "text/plain": [
       "RadioButtons(options=('5.00 mm', '4.77 mm', '7.50 mm', '2.38 mm'), value=None)"
      ]
     },
     "metadata": {},
     "output_type": "display_data"
    }
   ],
   "source": [
    "answer2 = widgets.RadioButtons(options=['5.00 mm','4.77 mm', '7.50 mm', '2.38 mm'],\n",
    "                              value=None)\n",
    "\n",
    "def check2(a):\n",
    "    IPython.display.clear_output()\n",
    "    print(\"What is the diameter of this circle?\")\n",
    "    IPython.display.display(answer2)\n",
    "    if answer2.value == '4.77 mm':\n",
    "        print(\"That's right! Good job!\")\n",
    "    else:\n",
    "        print(\"Not quite, try again.\")\n",
    "\n",
    "print(\"What is the diameter of this circle?\")\n",
    "IPython.display.display(answer2)\n",
    "answer2 .observe(check2, 'value')"
   ]
  },
  {
   "cell_type": "code",
   "execution_count": 59,
   "metadata": {},
   "outputs": [
    {
     "data": {
      "image/png": "[encoded data removed]",
      "text/plain": [
       "<IPython.core.display.Image object>"
      ]
     },
     "execution_count": 59,
     "metadata": {
      "image/png": {
       "width": 300
      }
     },
     "output_type": "execute_result"
    }
   ],
   "source": [
    "Image(filename = \"./images/findRadius.png\", width = 300)"
   ]
  },
  {
   "cell_type": "code",
   "execution_count": 60,
   "metadata": {},
   "outputs": [
    {
     "name": "stdout",
     "output_type": "stream",
     "text": [
      "What is the diameter of this circle?\n"
     ]
    },
    {
     "data": {
      "application/vnd.jupyter.widget-view+json": {
       "model_id": "d8883ded953d4a6babad0613f1f37403",
       "version_major": 2,
       "version_minor": 0
      },
      "text/plain": [
       "RadioButtons(options=('5.00 mm', '3.50 m', '1.75 m', '2.38 mm'), value=None)"
      ]
     },
     "metadata": {},
     "output_type": "display_data"
    }
   ],
   "source": [
    "answer2 = widgets.RadioButtons(options=['5.00 mm','3.50 m', '1.75 m', '2.38 mm'],\n",
    "                              value=None)\n",
    "\n",
    "def check2(a):\n",
    "    IPython.display.clear_output()\n",
    "    print(\"What is the diameter of this circle?\")\n",
    "    IPython.display.display(answer2)\n",
    "    if answer2.value == '4.77 mm':\n",
    "        print(\"That's right! Good job!\")\n",
    "    else:\n",
    "        print(\"Not quite, try again.\")\n",
    "\n",
    "print(\"What is the diameter of this circle?\")\n",
    "IPython.display.display(answer2)\n",
    "answer2 .observe(check2, 'value')"
   ]
  },
  {
   "cell_type": "markdown",
   "metadata": {},
   "source": [
    "### Conclusion\n",
    "\n",
    "What did we learn in this notebook?\n",
    "\n",
    "* **Radius** is the distance between the center of a circle and its edge\n",
    "* **Diameter** is twice the length of the radius\n",
    "* **Circumference** is the length of the outside of the circle\n",
    "* The ratio between the circumference and the diameter of a circle is always pi\n",
    "* **Pi** is an irrational number, but we round to 3.14 \n",
    "\n",
    "Make sure to keep practicing calculating circumference and diameter as this one notebook isn't enough!"
   ]
  },
  {
   "cell_type": "markdown",
   "metadata": {},
   "source": [
    "![logo](https://callysto.ca/wp-content/uploads/2018/07/Callysto-Notebook-Banner_Bottom_07.30.18.jpg)"
   ]
  }
 ],
 "metadata": {
  "kernelspec": {
   "display_name": "Python 3",
   "language": "python",
   "name": "python3"
  },
  "language_info": {
   "codemirror_mode": {
    "name": "ipython",
    "version": 3
   },
   "file_extension": ".py",
   "mimetype": "text/x-python",
   "name": "python",
   "nbconvert_exporter": "python",
   "pygments_lexer": "ipython3",
   "version": "3.6.8"
  }
 },
 "nbformat": 4,
 "nbformat_minor": 2
}
