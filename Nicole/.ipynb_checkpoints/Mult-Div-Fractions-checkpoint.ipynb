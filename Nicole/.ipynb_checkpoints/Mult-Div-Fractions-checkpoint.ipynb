{
 "cells": [
  {
   "cell_type": "code",
   "execution_count": 1,
   "metadata": {},
   "outputs": [
    {
     "data": {
      "text/html": [
       "\n",
       "<script>\n",
       "  function code_toggle() {\n",
       "    if (code_shown){\n",
       "      $('div.input').hide('500');\n",
       "      $('#toggleButton').val('Show Code')\n",
       "    } else {\n",
       "      $('div.input').show('500');\n",
       "      $('#toggleButton').val('Hide Code')\n",
       "    }\n",
       "    code_shown = !code_shown\n",
       "  }\n",
       "\n",
       "  $( document ).ready(function(){\n",
       "    code_shown=false;\n",
       "    $('div.input').hide()\n",
       "  });\n",
       "</script>\n",
       "<form action=\"javascript:code_toggle()\"><input type=\"submit\" id=\"toggleButton\" value=\"Show Code\"></form>"
      ],
      "text/plain": [
       "<IPython.core.display.HTML object>"
      ]
     },
     "metadata": {},
     "output_type": "display_data"
    }
   ],
   "source": [
    "%%html\n",
    "\n",
    "<script>\n",
    "  function code_toggle() {\n",
    "    if (code_shown){\n",
    "      $('div.input').hide('500');\n",
    "      $('#toggleButton').val('Show Code')\n",
    "    } else {\n",
    "      $('div.input').show('500');\n",
    "      $('#toggleButton').val('Hide Code')\n",
    "    }\n",
    "    code_shown = !code_shown\n",
    "  }\n",
    "\n",
    "  $( document ).ready(function(){\n",
    "    code_shown=false;\n",
    "    $('div.input').hide()\n",
    "  });\n",
    "</script>\n",
    "<form action=\"javascript:code_toggle()\"><input type=\"submit\" id=\"toggleButton\" value=\"Show Code\"></form>"
   ]
  },
  {
   "cell_type": "code",
   "execution_count": 2,
   "metadata": {},
   "outputs": [],
   "source": [
    "import matplotlib.pyplot as plt\n",
    "import ipywidgets as widgets\n",
    "import IPython"
   ]
  },
  {
   "cell_type": "markdown",
   "metadata": {},
   "source": [
    "# Multiplying Positive Fractions\n",
    "\n",
    "##### Created by Nicole Vachon\n",
    "\n",
    "If you want to grasp a visual understanding of multiplying fractions, go check out this notebook on visualization!\n",
    "\n",
    "To start off, multiplying fractions is similar to adding fractions with the same denominator, except for multiplication, it doesn't matter if they have the same denominator!\n",
    "\n",
    "Multiplying fractions is taking a small piece from an already small piece, for example we have half a bar of chocolate and want to eat half of what we have, but we want to know how much of the whole chocolate bar we are going to be eating. This word problem describes $\\frac{1}{2} \\times \\frac{1}{2}$ and we'll learn methods on how to solve this."
   ]
  },
  {
   "cell_type": "markdown",
   "metadata": {},
   "source": [
    "### Visualizing multiplication of fractions\n",
    "\n",
    "One way to visualize multiplying fractions is in a table like the ones below which shows $\\frac{1}{5}$ (in blue) $\\times \\frac{1}{2}$ (in yellow) which is $\\frac{1}{10}$ (in green). You can see that we're taking $\\frac{1}{5}$ in the first column from $\\frac{1}{2}$ in the first row in this first table."
   ]
  },
  {
   "cell_type": "code",
   "execution_count": 20,
   "metadata": {},
   "outputs": [
    {
     "data": {
      "image/png": "[encoded data removed]",
      "text/plain": [
       "<matplotlib.figure.Figure at 0x7faf016d7588>"
      ]
     },
     "metadata": {},
     "output_type": "display_data"
    }
   ],
   "source": [
    "fig = plt.figure(figsize=(5,1))\n",
    "\n",
    "t_data = (('','','','',''), ('','','','',''))\n",
    "colors = [[\"lime\",\"yellow\",\"yellow\",\"yellow\",\"yellow\"],[ \"b\",\"w\",\"w\",\"w\",\"w\"]]\n",
    "table = plt.table(cellText = t_data,cellColours=colors, loc='center')\n",
    "\n",
    "plt.axis('off')\n",
    "plt.grid('off')\n",
    "\n",
    "plt.show()"
   ]
  },
  {
   "cell_type": "markdown",
   "metadata": {},
   "source": [
    "Then in this sceond table we are taking $\\frac{1}{2}$ in the first column from the $\\frac{1}{5}$ in the first row."
   ]
  },
  {
   "cell_type": "code",
   "execution_count": 21,
   "metadata": {},
   "outputs": [
    {
     "data": {
      "image/png": "[encoded data removed]",
      "text/plain": [
       "<matplotlib.figure.Figure at 0x7faf016b3908>"
      ]
     },
     "metadata": {},
     "output_type": "display_data"
    }
   ],
   "source": [
    "fig2 = plt.figure(figsize=(2,2))\n",
    "\n",
    "t_data2 = (('',''), ('',''),('',''),('',''),('',''))\n",
    "colors2 = [[\"lime\",\"b\"],[ \"yellow\",\"w\"],[ \"yellow\",\"w\"],[ \"yellow\",\"w\"],[ \"yellow\",\"w\"]]\n",
    "table2 = plt.table(cellText = t_data2,cellColours=colors2, loc='center')\n",
    "\n",
    "plt.axis('off')\n",
    "plt.grid('off')\n",
    "\n",
    "plt.show()"
   ]
  },
  {
   "cell_type": "markdown",
   "metadata": {},
   "source": [
    "### The First Method\n",
    "\n",
    "##### Step 1:\n",
    "\n",
    "Multiply both numertors together to get the answer's numerator.\n",
    "\n",
    "##### Step 2:\n",
    "\n",
    "Multiply both denominators together to get the answer's denominator.\n",
    "\n",
    "##### Step 3:\n",
    "\n",
    "Reduce the fraction to the lowest terms by diving both the numerator and denominator by the greatest common factor (GCF).\n",
    "\n",
    "##### And You're Done!"
   ]
  },
  {
   "cell_type": "markdown",
   "metadata": {},
   "source": [
    "Example:\n",
    "\n",
    "$$\\begin{align*}\n",
    "\\frac{4}{7} \\times 7 & = \\frac{4}{7} \\times \\frac{7}{1} \\tag{Turn interger into fraction}\\\\\n",
    "\\frac{4}{7} \\times \\frac{7}{1} & = \\frac{28}{7} \\tag{Mulitply numerators and denominators}\\\\\n",
    "\\frac{28}{7} & = 4 \\tag{Reduce the fraction}\\\\\n",
    "\\end{align*}$$"
   ]
  },
  {
   "cell_type": "markdown",
   "metadata": {},
   "source": [
    "### The Second Method\n",
    "\n",
    "##### Step 1:\n",
    "\n",
    "Reduce fractions first, and you can reduce the numerator of one fraction with the denominator of the other by the same GCF.\n",
    "\n",
    "###### Step  2:\n",
    "\n",
    "Multiply both numerators together for the numerator and both denominators together for the denominator.\n",
    "\n",
    "##### Step 3:\n",
    "\n",
    "Though the fraction should already be reduced, check again incase it can be reduced again.\n",
    "\n",
    "##### And You're Done!"
   ]
  },
  {
   "cell_type": "markdown",
   "metadata": {},
   "source": [
    "Here's the same example from te first method but done using the second method:\n",
    "\n",
    "$$\\begin{align*}\n",
    "\\frac{4}{7} \\times 7 & = \\frac{4}{7} \\times \\frac{7}{1} \\tag{Turn interger into fraction}\\\\\n",
    "\\frac{4}{7\\!\\!\\!\\!\\!\\diagup} \\times \\frac{7\\!\\!\\!\\!\\!\\diagup}{1} & = \\frac{4}{1} \\times \\frac{1}{1} \\tag{Reduce numbers}\\\\\n",
    "\\frac{4}{1} \\times \\frac{1}{1} & = 4 \\tag{Mulitply numerators and denomitators}\n",
    "\\end{align*}$$"
   ]
  },
  {
   "cell_type": "markdown",
   "metadata": {},
   "source": [
    "Let's try another one:\n",
    "\n",
    "$$\\begin{align*}\n",
    "\\frac{4}{9} \\times \\frac{3}{5}\\\\\n",
    "\\frac{4}{9\\!\\!\\!\\!\\!\\diagup} \\times \\frac{3\\!\\!\\!\\!\\!\\diagup}{5} & = \\frac{4}{3} \\times \\frac{1}{5} \\tag{Reduce numbers}\\\\\n",
    "\\frac{4}{3} \\times \\frac{1}{5} & = \\frac{4}{15} \\tag{Mulitply numerators and denomitators}\n",
    "\\end{align*}$$"
   ]
  },
  {
   "cell_type": "markdown",
   "metadata": {},
   "source": [
    "#### Here's an animation showing the two methods on the same problem.\n",
    "\n",
    "![animation](http://privatekgsmaths.weebly.com/uploads/1/4/9/3/14935550/8741366_orig.gif)"
   ]
  },
  {
   "cell_type": "markdown",
   "metadata": {},
   "source": [
    "Fill in the missing numbers with integers, watch out for reductions.\n",
    "$$\\frac{2}{7} \\times \\frac{3}{5} = \\frac{6}{\\color{Red}{a}}$$"
   ]
  },
  {
   "cell_type": "code",
   "execution_count": 23,
   "metadata": {},
   "outputs": [
    {
     "data": {
      "application/vnd.jupyter.widget-view+json": {
       "model_id": "34d2c70c88a14f1d9e5e221c437332e9",
       "version_major": 2,
       "version_minor": 0
      },
      "text/html": [
       "<p>Failed to display Jupyter Widget of type <code>IntText</code>.</p>\n",
       "<p>\n",
       "  If you're reading this message in the Jupyter Notebook or JupyterLab Notebook, it may mean\n",
       "  that the widgets JavaScript is still loading. If this message persists, it\n",
       "  likely means that the widgets JavaScript library is either not installed or\n",
       "  not enabled. See the <a href=\"https://ipywidgets.readthedocs.io/en/stable/user_install.html\">Jupyter\n",
       "  Widgets Documentation</a> for setup instructions.\n",
       "</p>\n",
       "<p>\n",
       "  If you're reading this message in another frontend (for example, a static\n",
       "  rendering on GitHub or <a href=\"https://nbviewer.jupyter.org/\">NBViewer</a>),\n",
       "  it may mean that your frontend doesn't currently support widgets.\n",
       "</p>\n"
      ],
      "text/plain": [
       "IntText(value=0, description='a =')"
      ]
     },
     "metadata": {},
     "output_type": "display_data"
    }
   ],
   "source": [
    "a = widgets.IntText(value=0, description='a =', disabled=False)\n",
    "\n",
    "IPython.display.display(a)\n",
    "def check(q):\n",
    "    IPython.display.clear_output(wait=False)\n",
    "    IPython.display.display(a)\n",
    "    if a.value == 35:\n",
    "        print(\"That's right! Great work!\")\n",
    "    else:\n",
    "        if a.value == 0:\n",
    "            pass\n",
    "        else:\n",
    "            print(\"Sorry, try again (and it was not a reducing error)\")\n",
    "\n",
    "a.observe(check, 'value')"
   ]
  },
  {
   "cell_type": "markdown",
   "metadata": {},
   "source": [
    "$$\\frac{4}{9} \\times \\frac{1}{10} = \\frac{\\color{Blue}{b}}{45}$$"
   ]
  },
  {
   "cell_type": "code",
   "execution_count": 25,
   "metadata": {},
   "outputs": [
    {
     "data": {
      "application/vnd.jupyter.widget-view+json": {
       "model_id": "8ada3abd7d54483382447d492540ad8f",
       "version_major": 2,
       "version_minor": 0
      },
      "text/html": [
       "<p>Failed to display Jupyter Widget of type <code>IntText</code>.</p>\n",
       "<p>\n",
       "  If you're reading this message in the Jupyter Notebook or JupyterLab Notebook, it may mean\n",
       "  that the widgets JavaScript is still loading. If this message persists, it\n",
       "  likely means that the widgets JavaScript library is either not installed or\n",
       "  not enabled. See the <a href=\"https://ipywidgets.readthedocs.io/en/stable/user_install.html\">Jupyter\n",
       "  Widgets Documentation</a> for setup instructions.\n",
       "</p>\n",
       "<p>\n",
       "  If you're reading this message in another frontend (for example, a static\n",
       "  rendering on GitHub or <a href=\"https://nbviewer.jupyter.org/\">NBViewer</a>),\n",
       "  it may mean that your frontend doesn't currently support widgets.\n",
       "</p>\n"
      ],
      "text/plain": [
       "IntText(value=2, description='b =')"
      ]
     },
     "metadata": {},
     "output_type": "display_data"
    },
    {
     "name": "stdout",
     "output_type": "stream",
     "text": [
      "That's right! Great work!\n"
     ]
    }
   ],
   "source": [
    "b = widgets.IntText(value=0, description='b =', disabled=False)\n",
    "\n",
    "IPython.display.display(b)\n",
    "def check(q):\n",
    "    IPython.display.clear_output(wait=False)\n",
    "    IPython.display.display(b)\n",
    "    if b.value == 2:\n",
    "        print(\"That's right! Great work!\")\n",
    "    else:\n",
    "        if b.value == 0:\n",
    "            pass\n",
    "        if b.value == 4:\n",
    "            print(\"Not quite, don't forget to reduce.\")\n",
    "        else:\n",
    "            print(\"Sorry, try again (and it was not a reducing error)\")\n",
    "\n",
    "b.observe(check, 'value')"
   ]
  },
  {
   "cell_type": "markdown",
   "metadata": {},
   "source": [
    "$$\\frac{2}{3} \\times \\frac{9}{10} = \\frac{\\color{Yellow}{c}}{\\color{Green}{d}}$$"
   ]
  },
  {
   "cell_type": "code",
   "execution_count": 28,
   "metadata": {},
   "outputs": [
    {
     "data": {
      "application/vnd.jupyter.widget-view+json": {
       "model_id": "82e6582e4c51437d8e4c72a120f2758c",
       "version_major": 2,
       "version_minor": 0
      },
      "text/html": [
       "<p>Failed to display Jupyter Widget of type <code>IntText</code>.</p>\n",
       "<p>\n",
       "  If you're reading this message in the Jupyter Notebook or JupyterLab Notebook, it may mean\n",
       "  that the widgets JavaScript is still loading. If this message persists, it\n",
       "  likely means that the widgets JavaScript library is either not installed or\n",
       "  not enabled. See the <a href=\"https://ipywidgets.readthedocs.io/en/stable/user_install.html\">Jupyter\n",
       "  Widgets Documentation</a> for setup instructions.\n",
       "</p>\n",
       "<p>\n",
       "  If you're reading this message in another frontend (for example, a static\n",
       "  rendering on GitHub or <a href=\"https://nbviewer.jupyter.org/\">NBViewer</a>),\n",
       "  it may mean that your frontend doesn't currently support widgets.\n",
       "</p>\n"
      ],
      "text/plain": [
       "IntText(value=0, description='c =')"
      ]
     },
     "metadata": {},
     "output_type": "display_data"
    }
   ],
   "source": [
    "c = widgets.IntText(value=0, description='c =', disabled=False)\n",
    "\n",
    "IPython.display.display(c)\n",
    "def check(q):\n",
    "    IPython.display.clear_output(wait=False)\n",
    "    IPython.display.display(c)\n",
    "    if c.value == 3:\n",
    "        print(\"That's right! Great work!\")\n",
    "    else:\n",
    "        if c.value == 0:\n",
    "            pass\n",
    "        if c.value == 18 or c.value == 9 or c.value == 6:\n",
    "            print(\"Not quite, don't forget to reduce.\")\n",
    "        else:\n",
    "            print(\"Sorry, try again (and it was not a reducing error)\")\n",
    "\n",
    "c.observe(check, 'value')"
   ]
  },
  {
   "cell_type": "code",
   "execution_count": 29,
   "metadata": {},
   "outputs": [
    {
     "data": {
      "application/vnd.jupyter.widget-view+json": {
       "model_id": "f76a2b08078a47a6b7048055dad65a3d",
       "version_major": 2,
       "version_minor": 0
      },
      "text/html": [
       "<p>Failed to display Jupyter Widget of type <code>IntText</code>.</p>\n",
       "<p>\n",
       "  If you're reading this message in the Jupyter Notebook or JupyterLab Notebook, it may mean\n",
       "  that the widgets JavaScript is still loading. If this message persists, it\n",
       "  likely means that the widgets JavaScript library is either not installed or\n",
       "  not enabled. See the <a href=\"https://ipywidgets.readthedocs.io/en/stable/user_install.html\">Jupyter\n",
       "  Widgets Documentation</a> for setup instructions.\n",
       "</p>\n",
       "<p>\n",
       "  If you're reading this message in another frontend (for example, a static\n",
       "  rendering on GitHub or <a href=\"https://nbviewer.jupyter.org/\">NBViewer</a>),\n",
       "  it may mean that your frontend doesn't currently support widgets.\n",
       "</p>\n"
      ],
      "text/plain": [
       "IntText(value=0, description='d =')"
      ]
     },
     "metadata": {},
     "output_type": "display_data"
    }
   ],
   "source": [
    "d = widgets.IntText(value=0, description='d =', disabled=False)\n",
    "\n",
    "IPython.display.display(d)\n",
    "def check(q):\n",
    "    IPython.display.clear_output(wait=False)\n",
    "    IPython.display.display(d)\n",
    "    if d.value == 5:\n",
    "        print(\"That's right! Great work!\")\n",
    "    else:\n",
    "        if d.value == 0:\n",
    "            pass\n",
    "        if d.value == 30 or d.value == 15 or d.value == 10:\n",
    "            print(\"Not quite, don't forget to reduce.\")\n",
    "        else:\n",
    "            print(\"Sorry, try again (and it was not a reducing error)\")\n",
    "\n",
    "d.observe(check, 'value')"
   ]
  },
  {
   "cell_type": "markdown",
   "metadata": {},
   "source": [
    "# Dividing Positive Fractions\n",
    "\n",
    "### How do we divide using fractions?\n",
    "\n",
    "If you know how to multiply fractions, then you already know how to divide fractions!\n",
    "\n",
    "Let's go back to dividing integers. 10 divided by 2 is 5, because 10 split into 2 sections each has 5. This can be written as 10 times $\\frac{1}{2}$ which is still taking half of 10 which is 5. \n",
    "\n",
    "Do you see how 10 / 2 = 10$ \\times \\frac{1}{2}$ ? We inverted the second number ($\\frac{2}{1} \\rightarrow \\frac{1}{2}$) then changed the division to multiplication! \n",
    "\n",
    "That's how division with fractions works too, invert the divisor and then multiply.\n",
    "\n",
    "See that 10 $\\div \\frac{1}{3}$ is asking how many $\\frac{1}{3}$ pieces can fit into 10 or how many times $\\frac{1}{3}$ can fit into 10. Since it takes 3 $\\frac{1}{3}$s to make one and 10 ones to make 10, we need 10 $\\times$ 30 = 30 pieces of $\\frac{1}{3}$ to make 10, therefore 10 $\\div \\frac{1}{3}$ = 10 $\\times$ 3 = 30.\n",
    "\n",
    "#### Here's the steps\n",
    "\n",
    "##### Step 1:\n",
    "Invert the divisor by making the numerator the denominator and the denominator the numberator of the second fraction.\n",
    "\n",
    "##### Step 2:\n",
    "Follow the steps to multiply the fractions using either method mentioned earlier.\n",
    "\n",
    "##### And you're done!\n",
    "\n",
    "### But why does this work?\n",
    "\n",
    "We are undoing the multiplication of fractions. Let's look at the example 10 $\\times$ 4 = 40, so to undo the multiplication, we divide by 4: 40 $\\div$ 4 = 10 and we get back to the original number! Same goes for fractions: 20 $\\times \\frac{1}{2}$ = 10, then to undo the multiplication, we divide by $\\frac{1}{2}$ : 10 $\\div \\frac{1}{2}$ = 10 $\\times$ 2 = 20 and we get back to the original number!\n",
    "\n",
    "If dividing by 4 is equivalent to multiplying by $\\frac{1}{4}$, then it's true that dividing by $\\frac{1}{4}$ is equivalent to muliplying by 4. \n",
    "\n",
    "### But isn't division supposed to make the number smaller?\n",
    "\n",
    "How about thinking of division as repeated subtraction. 2 $\\div \\frac{1}{2}$ is asking how many times can we subtract $\\frac{1}{2}$ from 2? \n",
    "\n",
    ">2 - $\\frac{1}{2}$ = 1$\\frac{1}{2}$\n",
    ">\n",
    ">1$\\frac{1}{2}$ - $\\frac{1}{2}$ = 1\n",
    ">\n",
    ">1 - $\\frac{1}{2}$ = $\\frac{1}{2}$\n",
    ">\n",
    ">$\\frac{1}{2}$ - $\\frac{1}{2}$ = 0\n",
    "\n",
    "So it took 4 subtractions of $\\frac{1}{2}$ from 2 to reach 0, therefore 2 $\\div \\frac{1}{2}$ = 4\n",
    "\n",
    "This is because we are taking smaller portions out of the original number, which then needs more subtractions to get to zero."
   ]
  },
  {
   "cell_type": "markdown",
   "metadata": {},
   "source": [
    "![division picture](http://themayorsbacktoschoolfair.com/wp-content/uploads/2018/02/division-fractions-fractd3.gif)"
   ]
  },
  {
   "cell_type": "markdown",
   "metadata": {},
   "source": [
    "Still need another explanation? Here's a video that might help:"
   ]
  },
  {
   "cell_type": "code",
   "execution_count": 9,
   "metadata": {},
   "outputs": [
    {
     "data": {
      "text/html": [
       "<iframe width=\"560\" height=\"315\" src=\"https://www.youtube.com/embed/f3ySpxX9oeM?rel=0\" frameborder=\"0\" allow=\"autoplay; encrypted-media\" allowfullscreen></iframe>"
      ],
      "text/plain": [
       "<IPython.core.display.HTML object>"
      ]
     },
     "execution_count": 9,
     "metadata": {},
     "output_type": "execute_result"
    }
   ],
   "source": [
    "from IPython.display import HTML\n",
    "HTML('<iframe width=\"560\" height=\"315\" src=\"https://www.youtube.com/embed/f3ySpxX9oeM?rel=0\" frameborder=\"0\" allow=\"autoplay; encrypted-media\" allowfullscreen></iframe>')"
   ]
  },
  {
   "cell_type": "markdown",
   "metadata": {},
   "source": [
    "### Let's go through an example:\n",
    "\n",
    "$$\\begin{align*}\n",
    "\\color{blue}{\\frac{4}{5} \\div \\frac{2}{7}}\\\\\n",
    "\\frac{4}{5} \\div \\frac{2}{7} & = \\frac{4}{5} \\times \\frac{7}{2} \\tag{Invert the divisor}\\\\\n",
    "\\frac{4\\!\\!\\!\\!\\!\\diagup}{5} \\times \\frac{7}{2\\!\\!\\!\\!\\!\\diagup} & = \\frac{2}{5} \\times \\frac{7}{1} \\tag{Reduce numbers}\\\\\n",
    "\\frac{2}{5} \\times \\frac{7}{1} & = \\frac{14}{5} \\tag{Mulitply numerators and denomitators}\\\\\n",
    "\\frac{14}{5} & = 2 \\frac{4}{5} \\tag{Write as a mixed fraction}\n",
    "\\end{align*}$$"
   ]
  },
  {
   "cell_type": "markdown",
   "metadata": {},
   "source": [
    "Here's a fill in the blank question, please read which numbers need to be filled out correctly.\n",
    "\n",
    "$$\\frac{2}{3} \\div \\frac{5}{7} = \\frac{2}{3} \\times \\frac{\\color{Blue}{A}}{\\color{Green}{B}} = \\frac{\\color{Yellow}{C}}{\\color{Red}{D}}$$"
   ]
  },
  {
   "cell_type": "code",
   "execution_count": 31,
   "metadata": {},
   "outputs": [
    {
     "data": {
      "application/vnd.jupyter.widget-view+json": {
       "model_id": "57670590a7684a67a1a58acaa49c06ff",
       "version_major": 2,
       "version_minor": 0
      },
      "text/html": [
       "<p>Failed to display Jupyter Widget of type <code>IntText</code>.</p>\n",
       "<p>\n",
       "  If you're reading this message in the Jupyter Notebook or JupyterLab Notebook, it may mean\n",
       "  that the widgets JavaScript is still loading. If this message persists, it\n",
       "  likely means that the widgets JavaScript library is either not installed or\n",
       "  not enabled. See the <a href=\"https://ipywidgets.readthedocs.io/en/stable/user_install.html\">Jupyter\n",
       "  Widgets Documentation</a> for setup instructions.\n",
       "</p>\n",
       "<p>\n",
       "  If you're reading this message in another frontend (for example, a static\n",
       "  rendering on GitHub or <a href=\"https://nbviewer.jupyter.org/\">NBViewer</a>),\n",
       "  it may mean that your frontend doesn't currently support widgets.\n",
       "</p>\n"
      ],
      "text/plain": [
       "IntText(value=0, description='A =')"
      ]
     },
     "metadata": {},
     "output_type": "display_data"
    }
   ],
   "source": [
    "A = widgets.IntText(value=0, description='A =', disabled=False)\n",
    "\n",
    "def check(q):\n",
    "    IPython.display.clear_output(wait=False)\n",
    "    IPython.display.display(A)\n",
    "    if A.value == 7:\n",
    "        print(\"That's right! Great work!\")\n",
    "    else:\n",
    "        if A.value == 0:\n",
    "            pass\n",
    "        else:\n",
    "            print(\"Sorry, try again.\")\n",
    "            \n",
    "IPython.display.display(A) \n",
    "A.observe(check, 'value')"
   ]
  },
  {
   "cell_type": "code",
   "execution_count": 34,
   "metadata": {},
   "outputs": [
    {
     "data": {
      "application/vnd.jupyter.widget-view+json": {
       "model_id": "3c669f7030434f42b4a01486698f6e6d",
       "version_major": 2,
       "version_minor": 0
      },
      "text/html": [
       "<p>Failed to display Jupyter Widget of type <code>IntText</code>.</p>\n",
       "<p>\n",
       "  If you're reading this message in the Jupyter Notebook or JupyterLab Notebook, it may mean\n",
       "  that the widgets JavaScript is still loading. If this message persists, it\n",
       "  likely means that the widgets JavaScript library is either not installed or\n",
       "  not enabled. See the <a href=\"https://ipywidgets.readthedocs.io/en/stable/user_install.html\">Jupyter\n",
       "  Widgets Documentation</a> for setup instructions.\n",
       "</p>\n",
       "<p>\n",
       "  If you're reading this message in another frontend (for example, a static\n",
       "  rendering on GitHub or <a href=\"https://nbviewer.jupyter.org/\">NBViewer</a>),\n",
       "  it may mean that your frontend doesn't currently support widgets.\n",
       "</p>\n"
      ],
      "text/plain": [
       "IntText(value=10, description='B =')"
      ]
     },
     "metadata": {},
     "output_type": "display_data"
    },
    {
     "name": "stdout",
     "output_type": "stream",
     "text": [
      "Sorry, try again.\n"
     ]
    }
   ],
   "source": [
    "B = widgets.IntText(value=0, description='B =', disabled=False)\n",
    "\n",
    "def check(q):\n",
    "    IPython.display.clear_output(wait=False)\n",
    "    IPython.display.display(B)\n",
    "    if B.value == 5:\n",
    "        print(\"That's right! Great work!\")\n",
    "    else:\n",
    "        if B.value == 0:\n",
    "            pass\n",
    "        else:\n",
    "            print(\"Sorry, try again.\")\n",
    "            \n",
    "IPython.display.display(B)\n",
    "B.observe(check, 'value')"
   ]
  },
  {
   "cell_type": "code",
   "execution_count": 37,
   "metadata": {},
   "outputs": [
    {
     "data": {
      "application/vnd.jupyter.widget-view+json": {
       "model_id": "26627d9a1a5c4ffdad01914082144021",
       "version_major": 2,
       "version_minor": 0
      },
      "text/html": [
       "<p>Failed to display Jupyter Widget of type <code>IntText</code>.</p>\n",
       "<p>\n",
       "  If you're reading this message in the Jupyter Notebook or JupyterLab Notebook, it may mean\n",
       "  that the widgets JavaScript is still loading. If this message persists, it\n",
       "  likely means that the widgets JavaScript library is either not installed or\n",
       "  not enabled. See the <a href=\"https://ipywidgets.readthedocs.io/en/stable/user_install.html\">Jupyter\n",
       "  Widgets Documentation</a> for setup instructions.\n",
       "</p>\n",
       "<p>\n",
       "  If you're reading this message in another frontend (for example, a static\n",
       "  rendering on GitHub or <a href=\"https://nbviewer.jupyter.org/\">NBViewer</a>),\n",
       "  it may mean that your frontend doesn't currently support widgets.\n",
       "</p>\n"
      ],
      "text/plain": [
       "IntText(value=0, description='C =')"
      ]
     },
     "metadata": {},
     "output_type": "display_data"
    }
   ],
   "source": [
    "C = widgets.IntText(value=0, description='C =', disabled=False)\n",
    "\n",
    "def check(q):\n",
    "    IPython.display.clear_output(wait=False)\n",
    "    IPython.display.display(C)\n",
    "    if C.value == 14:\n",
    "        print(\"That's right! Great work!\")\n",
    "    else:\n",
    "        if C.value == 0:\n",
    "            pass\n",
    "        else:\n",
    "            print(\"Sorry, try again.\")\n",
    "            \n",
    "IPython.display.display(C)\n",
    "C.observe(check, 'value')"
   ]
  },
  {
   "cell_type": "code",
   "execution_count": 39,
   "metadata": {},
   "outputs": [
    {
     "data": {
      "application/vnd.jupyter.widget-view+json": {
       "model_id": "bd1edcfd71ec4a7d972eb3107297bbe5",
       "version_major": 2,
       "version_minor": 0
      },
      "text/html": [
       "<p>Failed to display Jupyter Widget of type <code>IntText</code>.</p>\n",
       "<p>\n",
       "  If you're reading this message in the Jupyter Notebook or JupyterLab Notebook, it may mean\n",
       "  that the widgets JavaScript is still loading. If this message persists, it\n",
       "  likely means that the widgets JavaScript library is either not installed or\n",
       "  not enabled. See the <a href=\"https://ipywidgets.readthedocs.io/en/stable/user_install.html\">Jupyter\n",
       "  Widgets Documentation</a> for setup instructions.\n",
       "</p>\n",
       "<p>\n",
       "  If you're reading this message in another frontend (for example, a static\n",
       "  rendering on GitHub or <a href=\"https://nbviewer.jupyter.org/\">NBViewer</a>),\n",
       "  it may mean that your frontend doesn't currently support widgets.\n",
       "</p>\n"
      ],
      "text/plain": [
       "IntText(value=0, description='D =')"
      ]
     },
     "metadata": {},
     "output_type": "display_data"
    }
   ],
   "source": [
    "D = widgets.IntText(value=0, description='D =', disabled=False)\n",
    "\n",
    "def check(q):\n",
    "    IPython.display.clear_output(wait=False)\n",
    "    IPython.display.display(D)\n",
    "    if D.value == 15:\n",
    "        print(\"That's right! Great work!\")\n",
    "    else:\n",
    "        if D.value == 0:\n",
    "            pass\n",
    "        else:\n",
    "            print(\"Sorry, try again.\")\n",
    "            \n",
    "IPython.display.display(D)\n",
    "D.observe(check, 'value')"
   ]
  },
  {
   "cell_type": "markdown",
   "metadata": {},
   "source": [
    "Here's a fill in the blank question, please read which numbers need to be filled out correctly, there is a reduction in this one!\n",
    "\n",
    "$$\\frac{4}{9} \\div \\frac{5}{3} = \\frac{4}{9} \\times \\frac{3}{5} = \\frac{4}{\\color{Blue}{E}} \\times \\frac{\\color{Green}{F}}{5} = \\frac{\\color{Yellow}{G}}{\\color{Red}{H}}$$"
   ]
  },
  {
   "cell_type": "code",
   "execution_count": 41,
   "metadata": {},
   "outputs": [
    {
     "data": {
      "application/vnd.jupyter.widget-view+json": {
       "model_id": "cac43c33971543fa91bef68bc5111e75",
       "version_major": 2,
       "version_minor": 0
      },
      "text/html": [
       "<p>Failed to display Jupyter Widget of type <code>IntText</code>.</p>\n",
       "<p>\n",
       "  If you're reading this message in the Jupyter Notebook or JupyterLab Notebook, it may mean\n",
       "  that the widgets JavaScript is still loading. If this message persists, it\n",
       "  likely means that the widgets JavaScript library is either not installed or\n",
       "  not enabled. See the <a href=\"https://ipywidgets.readthedocs.io/en/stable/user_install.html\">Jupyter\n",
       "  Widgets Documentation</a> for setup instructions.\n",
       "</p>\n",
       "<p>\n",
       "  If you're reading this message in another frontend (for example, a static\n",
       "  rendering on GitHub or <a href=\"https://nbviewer.jupyter.org/\">NBViewer</a>),\n",
       "  it may mean that your frontend doesn't currently support widgets.\n",
       "</p>\n"
      ],
      "text/plain": [
       "IntText(value=0, description='E =')"
      ]
     },
     "metadata": {},
     "output_type": "display_data"
    }
   ],
   "source": [
    "E = widgets.IntText(value=0, description='E =', disabled=False)\n",
    "\n",
    "def check(q):\n",
    "    IPython.display.clear_output(wait=False)\n",
    "    IPython.display.display(E)\n",
    "    if E.value == 3:\n",
    "        print(\"That's right! Great work!\")\n",
    "    else:\n",
    "        if E.value == 0:\n",
    "            pass\n",
    "        if E.value == 9:\n",
    "            print(\"Don't forget to reduce.\")\n",
    "        else:\n",
    "            print(\"Sorry, try again.\")\n",
    "            \n",
    "IPython.display.display(E) \n",
    "E.observe(check, 'value')"
   ]
  },
  {
   "cell_type": "code",
   "execution_count": 43,
   "metadata": {},
   "outputs": [
    {
     "data": {
      "application/vnd.jupyter.widget-view+json": {
       "model_id": "eeb2b1af66a44749996f18f696c6f003",
       "version_major": 2,
       "version_minor": 0
      },
      "text/html": [
       "<p>Failed to display Jupyter Widget of type <code>IntText</code>.</p>\n",
       "<p>\n",
       "  If you're reading this message in the Jupyter Notebook or JupyterLab Notebook, it may mean\n",
       "  that the widgets JavaScript is still loading. If this message persists, it\n",
       "  likely means that the widgets JavaScript library is either not installed or\n",
       "  not enabled. See the <a href=\"https://ipywidgets.readthedocs.io/en/stable/user_install.html\">Jupyter\n",
       "  Widgets Documentation</a> for setup instructions.\n",
       "</p>\n",
       "<p>\n",
       "  If you're reading this message in another frontend (for example, a static\n",
       "  rendering on GitHub or <a href=\"https://nbviewer.jupyter.org/\">NBViewer</a>),\n",
       "  it may mean that your frontend doesn't currently support widgets.\n",
       "</p>\n"
      ],
      "text/plain": [
       "IntText(value=0, description='F =')"
      ]
     },
     "metadata": {},
     "output_type": "display_data"
    }
   ],
   "source": [
    "F = widgets.IntText(value=0, description='F =', disabled=False)\n",
    "\n",
    "def check(q):\n",
    "    IPython.display.clear_output(wait=False)\n",
    "    IPython.display.display(F)\n",
    "    if F.value == 1:\n",
    "        print(\"That's right! Great work!\")\n",
    "    else:\n",
    "        if F.value == 0:\n",
    "            pass\n",
    "        if F.value == 3:\n",
    "            print(\"Don't forget to reduce.\")\n",
    "        else:\n",
    "            print(\"Sorry, try again.\")\n",
    "            \n",
    "IPython.display.display(F) \n",
    "F.observe(check, 'value')"
   ]
  },
  {
   "cell_type": "code",
   "execution_count": 47,
   "metadata": {},
   "outputs": [
    {
     "data": {
      "application/vnd.jupyter.widget-view+json": {
       "model_id": "74205b6f19684a60b5c13ac3d1c2d02d",
       "version_major": 2,
       "version_minor": 0
      },
      "text/html": [
       "<p>Failed to display Jupyter Widget of type <code>IntText</code>.</p>\n",
       "<p>\n",
       "  If you're reading this message in the Jupyter Notebook or JupyterLab Notebook, it may mean\n",
       "  that the widgets JavaScript is still loading. If this message persists, it\n",
       "  likely means that the widgets JavaScript library is either not installed or\n",
       "  not enabled. See the <a href=\"https://ipywidgets.readthedocs.io/en/stable/user_install.html\">Jupyter\n",
       "  Widgets Documentation</a> for setup instructions.\n",
       "</p>\n",
       "<p>\n",
       "  If you're reading this message in another frontend (for example, a static\n",
       "  rendering on GitHub or <a href=\"https://nbviewer.jupyter.org/\">NBViewer</a>),\n",
       "  it may mean that your frontend doesn't currently support widgets.\n",
       "</p>\n"
      ],
      "text/plain": [
       "IntText(value=4, description='G =')"
      ]
     },
     "metadata": {},
     "output_type": "display_data"
    },
    {
     "name": "stdout",
     "output_type": "stream",
     "text": [
      "That's right! Great work!\n"
     ]
    }
   ],
   "source": [
    "G = widgets.IntText(value=0, description='G =', disabled=False)\n",
    "\n",
    "def check(q):\n",
    "    IPython.display.clear_output(wait=False)\n",
    "    IPython.display.display(G)\n",
    "    if G.value == 4:\n",
    "        print(\"That's right! Great work!\")\n",
    "    else:\n",
    "        if G.value == 0:\n",
    "            pass\n",
    "        else:\n",
    "            print(\"Sorry, try again.\")\n",
    "            \n",
    "IPython.display.display(G) \n",
    "G.observe(check, 'value')"
   ]
  },
  {
   "cell_type": "code",
   "execution_count": 49,
   "metadata": {},
   "outputs": [
    {
     "data": {
      "application/vnd.jupyter.widget-view+json": {
       "model_id": "d592a607c6494ec191c41418a05b64e6",
       "version_major": 2,
       "version_minor": 0
      },
      "text/html": [
       "<p>Failed to display Jupyter Widget of type <code>IntText</code>.</p>\n",
       "<p>\n",
       "  If you're reading this message in the Jupyter Notebook or JupyterLab Notebook, it may mean\n",
       "  that the widgets JavaScript is still loading. If this message persists, it\n",
       "  likely means that the widgets JavaScript library is either not installed or\n",
       "  not enabled. See the <a href=\"https://ipywidgets.readthedocs.io/en/stable/user_install.html\">Jupyter\n",
       "  Widgets Documentation</a> for setup instructions.\n",
       "</p>\n",
       "<p>\n",
       "  If you're reading this message in another frontend (for example, a static\n",
       "  rendering on GitHub or <a href=\"https://nbviewer.jupyter.org/\">NBViewer</a>),\n",
       "  it may mean that your frontend doesn't currently support widgets.\n",
       "</p>\n"
      ],
      "text/plain": [
       "IntText(value=0, description='H =')"
      ]
     },
     "metadata": {},
     "output_type": "display_data"
    }
   ],
   "source": [
    "H = widgets.IntText(value=0, description='H =', disabled=False)\n",
    "\n",
    "def check(q):\n",
    "    IPython.display.clear_output(wait=False)\n",
    "    IPython.display.display(H)\n",
    "    if H.value == 15:\n",
    "        print(\"That's right! Great work!\")\n",
    "    else:\n",
    "        if H.value == 0:\n",
    "            pass\n",
    "        else:\n",
    "            print(\"Sorry, try again.\")\n",
    "            \n",
    "IPython.display.display(H) \n",
    "H.observe(check, 'value')"
   ]
  },
  {
   "cell_type": "markdown",
   "metadata": {},
   "source": [
    "## Multiplication and Division with Positive Mixed Fractions\n",
    "\n",
    "##### Step 1:\n",
    "$\\color{red}{\\textrm{Convert all mixed fractions into improper fractions.}}$\n",
    "\n",
    "##### Step 2:\n",
    "Multiply or divide as using the methods earlier.\n",
    "\n",
    "##### And you're done!\n",
    "\n",
    "### Let's do some examples\n",
    "\n",
    "$$\\begin{align*}\n",
    "\\color{blue}{2 \\frac{2}{3} \\times 1 \\frac{3}{4}}\\\\\n",
    "2 \\frac{2}{3} \\times 1 \\frac{3}{4} & = \\frac{8}{3} \\times \\frac{7}{4} \\tag{Convert to improper fractions}\\\\\n",
    "\\frac{8\\!\\!\\!\\!\\!\\diagup}{3} \\times \\frac{7}{4\\!\\!\\!\\!\\!\\diagup} & = \\frac{2}{3} \\times \\frac{7}{1} \\tag{Reduce numbers}\\\\\n",
    "\\frac{2}{3} \\times \\frac{7}{1} & = \\frac{14}{3} \\tag{Mulitply numerators and denomitators}\\\\\n",
    "\\frac{14}{3} & = 4 \\frac{2}{3} \\tag{Write as a mixed fraction}\n",
    "\\end{align*}$$\n",
    "\n",
    "#### Let's do a division with the same numbers\n",
    "\n",
    "$$\\begin{align*}\n",
    "\\color{blue}{2 \\frac{2}{3} \\div 1 \\frac{3}{4}}\\\\\n",
    "2 \\frac{2}{3} \\div 1 \\frac{3}{4} & = \\frac{8}{3} \\div \\frac{7}{4} \\tag{Convert to improper fractions}\\\\\n",
    "\\frac{8}{3} \\div \\frac{7}{4} & = \\frac{8}{3} \\times \\frac{4}{7} \\tag{Invert the divisor}\\\\\n",
    "\\frac{8}{3} \\times \\frac{4}{7} & = \\frac{32}{21} \\tag{Mulitply numerators and denomitators}\\\\\n",
    "\\frac{32}{21} & = 1 \\frac{11}{21} \\tag{Write as a mixed fraction}\n",
    "\\end{align*}$$\n",
    "\n",
    "#### Now a division example with reductions\n",
    "\n",
    "$$\\begin{align*}\n",
    "\\color{blue}{3 \\frac{1}{2} \\div 1 \\frac{1}{6}}\\\\\n",
    "3 \\frac{1}{2} \\div 1 \\frac{1}{6} & = \\frac{7}{2} \\div \\frac{7}{6} \\tag{Convert to improper fractions}\\\\\n",
    "\\frac{7}{2} \\div \\frac{7}{6} & = \\frac{7}{2} \\times \\frac{6}{7} \\tag{Invert the divisor}\\\\\n",
    "\\frac{7\\!\\!\\!\\!\\!\\diagup}{2} \\times \\frac{6}{7\\!\\!\\!\\!\\!\\diagup} & = \\frac{1}{2} \\times \\frac{6}{1} \\tag{Reduce numbers}\\\\\n",
    "\\frac{1}{2\\!\\!\\!\\!\\!\\diagup} \\times \\frac{6\\!\\!\\!\\!\\!\\diagup}{1} & = \\frac{1}{1} \\times \\frac{3}{1} \\tag{Reduce numbers again}\\\\\n",
    "\\frac{1}{1} \\times \\frac{3}{1} & = \\frac{3}{1} \\tag{Mulitply numerators and denomitators}\\\\\n",
    "\\frac{3}{1} & = 3 \\tag{Write as an integer}\n",
    "\\end{align*}$$"
   ]
  },
  {
   "cell_type": "markdown",
   "metadata": {},
   "source": [
    "### Practice Questions\n",
    "\n",
    "##### Question 1\n",
    "\n",
    "$2\\frac{1}{2} \\times 1\\frac{1}{2}$"
   ]
  },
  {
   "cell_type": "code",
   "execution_count": 53,
   "metadata": {},
   "outputs": [
    {
     "data": {
      "application/vnd.jupyter.widget-view+json": {
       "model_id": "b96f72c3ff2e4237981d2e2deee0a2ae",
       "version_major": 2,
       "version_minor": 0
      },
      "text/html": [
       "<p>Failed to display Jupyter Widget of type <code>RadioButtons</code>.</p>\n",
       "<p>\n",
       "  If you're reading this message in the Jupyter Notebook or JupyterLab Notebook, it may mean\n",
       "  that the widgets JavaScript is still loading. If this message persists, it\n",
       "  likely means that the widgets JavaScript library is either not installed or\n",
       "  not enabled. See the <a href=\"https://ipywidgets.readthedocs.io/en/stable/user_install.html\">Jupyter\n",
       "  Widgets Documentation</a> for setup instructions.\n",
       "</p>\n",
       "<p>\n",
       "  If you're reading this message in another frontend (for example, a static\n",
       "  rendering on GitHub or <a href=\"https://nbviewer.jupyter.org/\">NBViewer</a>),\n",
       "  it may mean that your frontend doesn't currently support widgets.\n",
       "</p>\n"
      ],
      "text/plain": [
       "RadioButtons(description='Answer', index=3, options=('', '3 3/4', '2 1/4', '4', '1 2/3'), value='4')"
      ]
     },
     "metadata": {},
     "output_type": "display_data"
    },
    {
     "name": "stdout",
     "output_type": "stream",
     "text": [
      "Sorry, that's not right, try again. Don't forget to convert the fraction to an improper fraction.\n"
     ]
    }
   ],
   "source": [
    "from fractions import Fraction\n",
    "\n",
    "answer = widgets.RadioButtons(options=['','3 3/4', '2 1/4','4','1 2/3'],\n",
    "                              value='', description= 'Answer')\n",
    "\n",
    "def check(a):\n",
    "    IPython.display.clear_output(wait=False)\n",
    "    IPython.display.display(answer)\n",
    "    if answer.value == '3 3/4':\n",
    "        print(\"Correct! Great job!\")\n",
    "    else:\n",
    "        if answer.value == '':\n",
    "            pass\n",
    "        else:\n",
    "            print(\"Sorry, that's not right, try again. Don't forget to convert the fraction to an improper fraction.\")\n",
    "\n",
    "IPython.display.display(answer)\n",
    "answer.observe(check, 'value')"
   ]
  },
  {
   "cell_type": "markdown",
   "metadata": {},
   "source": [
    "##### Question 2\n",
    "\n",
    "$3\\frac{1}{3} \\div 2\\frac{1}{6}$"
   ]
  },
  {
   "cell_type": "code",
   "execution_count": 52,
   "metadata": {},
   "outputs": [
    {
     "data": {
      "application/vnd.jupyter.widget-view+json": {
       "model_id": "31d0ee616c5f40e7abcc90595593e227",
       "version_major": 2,
       "version_minor": 0
      },
      "text/html": [
       "<p>Failed to display Jupyter Widget of type <code>RadioButtons</code>.</p>\n",
       "<p>\n",
       "  If you're reading this message in the Jupyter Notebook or JupyterLab Notebook, it may mean\n",
       "  that the widgets JavaScript is still loading. If this message persists, it\n",
       "  likely means that the widgets JavaScript library is either not installed or\n",
       "  not enabled. See the <a href=\"https://ipywidgets.readthedocs.io/en/stable/user_install.html\">Jupyter\n",
       "  Widgets Documentation</a> for setup instructions.\n",
       "</p>\n",
       "<p>\n",
       "  If you're reading this message in another frontend (for example, a static\n",
       "  rendering on GitHub or <a href=\"https://nbviewer.jupyter.org/\">NBViewer</a>),\n",
       "  it may mean that your frontend doesn't currently support widgets.\n",
       "</p>\n"
      ],
      "text/plain": [
       "RadioButtons(description='Answer', options=('', '7 2/9', '2 1/2', '1 7/13', '3 1/2'), value='')"
      ]
     },
     "metadata": {},
     "output_type": "display_data"
    }
   ],
   "source": [
    "answer2 = widgets.RadioButtons(options=['','7 2/9', '2 1/2','1 7/13','3 1/2'],\n",
    "                              value='', description= 'Answer')\n",
    "\n",
    "def check(a):\n",
    "    IPython.display.clear_output(wait=False)\n",
    "    IPython.display.display(answer2)\n",
    "    if answer2.value == '1 7/13':\n",
    "        print(\"Correct! Great job!\")\n",
    "    else:\n",
    "        if answer.value == '':\n",
    "            pass\n",
    "        else:\n",
    "            print(\"Sorry, that's not right, try again. Don't forget to convert the fraction to an improper fraction and invert the divisor.\")\n",
    "\n",
    "IPython.display.display(answer2)\n",
    "answer2.observe(check, 'value')"
   ]
  },
  {
   "cell_type": "code",
   "execution_count": null,
   "metadata": {},
   "outputs": [],
   "source": []
  }
 ],
 "metadata": {
  "kernelspec": {
   "display_name": "Python 3",
   "language": "python",
   "name": "python3"
  },
  "language_info": {
   "codemirror_mode": {
    "name": "ipython",
    "version": 3
   },
   "file_extension": ".py",
   "mimetype": "text/x-python",
   "name": "python",
   "nbconvert_exporter": "python",
   "pygments_lexer": "ipython3",
   "version": "3.6.5"
  }
 },
 "nbformat": 4,
 "nbformat_minor": 2
}
