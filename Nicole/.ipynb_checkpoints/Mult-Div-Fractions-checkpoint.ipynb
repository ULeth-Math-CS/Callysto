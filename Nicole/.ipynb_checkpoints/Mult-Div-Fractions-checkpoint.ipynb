{
 "cells": [
  {
   "cell_type": "markdown",
   "metadata": {},
   "source": [
    "![logo](https://callysto.ca/wp-content/uploads/2018/06/Callysto_Notebook-Banner_Top_06.06.18.jpg)"
   ]
  },
  {
   "cell_type": "code",
   "execution_count": 1,
   "metadata": {},
   "outputs": [
    {
     "data": {
      "text/html": [
       "\n",
       "<script>\n",
       "  function code_toggle() {\n",
       "    if (code_shown){\n",
       "      $('div.input').hide('500');\n",
       "      $('#toggleButton').val('Show Code')\n",
       "    } else {\n",
       "      $('div.input').show('500');\n",
       "      $('#toggleButton').val('Hide Code')\n",
       "    }\n",
       "    code_shown = !code_shown\n",
       "  }\n",
       "\n",
       "  $( document ).ready(function(){\n",
       "    code_shown=false;\n",
       "    $('div.input').hide()\n",
       "  });\n",
       "</script>\n",
       "<form action=\"javascript:code_toggle()\"><input type=\"submit\" id=\"toggleButton\" value=\"Show Code\"></form>"
      ],
      "text/plain": [
       "<IPython.core.display.HTML object>"
      ]
     },
     "metadata": {},
     "output_type": "display_data"
    }
   ],
   "source": [
    "%%html\n",
    "\n",
    "<script>\n",
    "  function code_toggle() {\n",
    "    if (code_shown){\n",
    "      $('div.input').hide('500');\n",
    "      $('#toggleButton').val('Show Code')\n",
    "    } else {\n",
    "      $('div.input').show('500');\n",
    "      $('#toggleButton').val('Hide Code')\n",
    "    }\n",
    "    code_shown = !code_shown\n",
    "  }\n",
    "\n",
    "  $( document ).ready(function(){\n",
    "    code_shown=false;\n",
    "    $('div.input').hide()\n",
    "  });\n",
    "</script>\n",
    "<form action=\"javascript:code_toggle()\"><input type=\"submit\" id=\"toggleButton\" value=\"Show Code\"></form>"
   ]
  },
  {
   "cell_type": "code",
   "execution_count": 44,
   "metadata": {},
   "outputs": [],
   "source": [
    "import matplotlib.pyplot as plt\n",
    "import ipywidgets as widgets\n",
    "import IPython"
   ]
  },
  {
   "cell_type": "markdown",
   "metadata": {},
   "source": [
    "# Multiplying Positive Fractions\n",
    "\n",
    "##### Created by Nicole Vachon\n",
    "\n",
    "This is a notebook on multiplication and division by fractions. In this notebook, our primary focus will be on the procedural mechanics of these operations, but we'll also stop along the way to address a few conceptual problems. For example, the intuition we've developed from integer arithmetic tells us that multiplication should make a number bigger, and division should make it smaller. But this depends on the number we're multiplying/dividing by! (In particular, it depends on whether that number is greater or less than 1. Remember that fractions allow us to create numbers between 0 and 1 -- see (eventual link to CC-62 notebook?).)\n",
    "\n",
    "This notebook will help you gain a conceptual understanding of the multiplication and division operations for fractions while developing mechanical proficiency in performing these operations. (But beware that one notebook is not enough! You will need plenty of practice before you master this topic.)\n",
    "\n",
    "You may find it helpful to review the visual and conceptual foundations of fraction multiplication before proceeding. If you have not already done so, take a few minutes to look at (eventual link to CC-83 notebook?).\n",
    "\n",
    "Recall that (unlike addition) to multiply two fractions, we do **not** need them to have common denominators. The basic rule for fraction multiplication is as follows: multiply the corresponding numerators, do the same for the denominators, and then reduce, if necessary. (*Exception to the rule:* as we'll see below, it's usually easier to reduce -- that is, cancel common factors -- *before* you multiply.)\n",
    "\n",
    "\n",
    "Multiplying fractions is taking a small piece from an already small piece, for example we have half a bar of chocolate and want to eat half of what we have, but we want to know how much of the whole chocolate bar we are going to be eating. This word problem describes $\\frac{1}{2} \\times \\frac{1}{2}$ and we'll learn methods on how to solve this.\n",
    "\n",
    "The rule for fraction multiplication is best understood by doing a few examples."
   ]
  },
  {
   "cell_type": "markdown",
   "metadata": {},
   "source": [
    "### Visualizing multiplication of fractions\n",
    "\n",
    "Suppose we want to compute the product $\\frac15\\times\\frac12$. The rule above corresponds to the following:\n",
    "$$\\frac15\\times\\frac12 = \\frac{1\\times 1}{5\\times 2} = \\frac{1}{10}.$$\n",
    "Let's try to understand visually what's going on.\n",
    "\n",
    "Below, we see two rectangles. The first shows us $\\frac15$: we have cut our first rectangle vertically into 5 equal pieces, and selected one of them (in blue). <br>\n",
    "The second shows us $\\frac12$: we have cut our rectangle horizontally into 2 equal pieces, and selected one of them (in yellow)."
   ]
  },
  {
   "cell_type": "code",
   "execution_count": 47,
   "metadata": {},
   "outputs": [
    {
     "data": {
      "image/png": "[encoded data removed]",
      "text/plain": [
       "<matplotlib.figure.Figure at 0x7f180696d780>"
      ]
     },
     "metadata": {},
     "output_type": "display_data"
    },
    {
     "data": {
      "image/png": "[encoded data removed]",
      "text/plain": [
       "<matplotlib.figure.Figure at 0x7f1806e0aa20>"
      ]
     },
     "metadata": {},
     "output_type": "display_data"
    }
   ],
   "source": [
    "fig01 = plt.figure(figsize=(5,1))\n",
    "\n",
    "t_data01 = [['','','','','']]\n",
    "colors01 = [[\"b\",\"w\",\"w\",\"w\",\"w\"]]\n",
    "table01 = plt.table(cellText = t_data01,cellColours=colors01, loc='center')\n",
    "table01.scale(1, 2)\n",
    "\n",
    "plt.axis('off')\n",
    "plt.grid('off')\n",
    "\n",
    "fig02 = plt.figure(figsize=(5,1))\n",
    "\n",
    "t_data02 = [[''],['']]\n",
    "colors02 = [[\"yellow\"],[ \"w\"]]\n",
    "table02 = plt.table(cellText = t_data02,cellColours=colors02, loc='center')\n",
    "\n",
    "plt.axis('off')\n",
    "plt.grid('off')\n",
    "\n",
    "plt.show()"
   ]
  },
  {
   "cell_type": "markdown",
   "metadata": {},
   "source": [
    "Notice that we included both horizontal and vertical divisions in both rectangles above. This gives us two ways to visualize the product, corresponding to the fact that there are two equivalent orders of multiplication:\n",
    "\n",
    "$\\frac12\\times \\frac15$ can be thought of as \"$\\frac12$ of $\\frac15$\": having selected a piece representing $\\frac15$ of the original rectangle, we then take $\\frac12$ of that piece.\n",
    "\n",
    "$\\frac15\\times\\frac12$ can be thought of as \"$\\frac15$ of $\\frac12$\": we first take a piece that's $\\frac12$ of the original rectangle, and then we take $\\frac15$ of that piece.\n",
    "\n",
    "Either way, the result can be obtained as follows: lay the two rectangles on top of each other. The portion where the two coloured regions overlap corresponds to the product. Combining the blue and yellow gives us green, as pictured below:"
   ]
  },
  {
   "cell_type": "code",
   "execution_count": 4,
   "metadata": {},
   "outputs": [
    {
     "data": {
      "image/png": "[encoded data removed]",
      "text/plain": [
       "<matplotlib.figure.Figure at 0x7f18070dc710>"
      ]
     },
     "metadata": {},
     "output_type": "display_data"
    }
   ],
   "source": [
    "fig = plt.figure(figsize=(5,1))\n",
    "\n",
    "t_data = (('','','','',''), ('','','','',''))\n",
    "colors = [[\"lime\",\"yellow\",\"yellow\",\"yellow\",\"yellow\"],[ \"b\",\"w\",\"w\",\"w\",\"w\"]]\n",
    "table = plt.table(cellText = t_data,cellColours=colors, loc='center')\n",
    "\n",
    "plt.axis('off')\n",
    "plt.grid('off')\n",
    "\n",
    "plt.show()"
   ]
  },
  {
   "cell_type": "markdown",
   "metadata": {},
   "source": [
    "Notice that our original rectangle has been divided into 10 equal pieces, and we're taking one of them (the one in green), giving us our result of $\\frac{1}{10}$"
   ]
  },
  {
   "cell_type": "markdown",
   "metadata": {},
   "source": [
    "The next image shows that if we had done things the other way around, using a vertical cut for $\\frac12$ and horizontal cuts for $\\frac15$, the result is the same. This gives us another way of visualizing the fact that the order in which we multiply our fractions does not matter."
   ]
  },
  {
   "cell_type": "code",
   "execution_count": 5,
   "metadata": {},
   "outputs": [
    {
     "data": {
      "image/png": "[encoded data removed]",
      "text/plain": [
       "<matplotlib.figure.Figure at 0x7f180706fba8>"
      ]
     },
     "metadata": {},
     "output_type": "display_data"
    }
   ],
   "source": [
    "fig2 = plt.figure(figsize=(2,2))\n",
    "\n",
    "t_data2 = (('',''), ('',''),('',''),('',''),('',''))\n",
    "colors2 = [[\"lime\",\"b\"],[ \"yellow\",\"w\"],[ \"yellow\",\"w\"],[ \"yellow\",\"w\"],[ \"yellow\",\"w\"]]\n",
    "table2 = plt.table(cellText = t_data2,cellColours=colors2, loc='center')\n",
    "\n",
    "plt.axis('off')\n",
    "plt.grid('off')\n",
    "\n",
    "plt.show()"
   ]
  },
  {
   "cell_type": "markdown",
   "metadata": {},
   "source": [
    "### Multiplying fractions, Method #1: sticking to the rules.\n",
    "\n",
    "In this example, we will work out the product of two fractions using the rule mentioned in the introduction: multiply the numerators, then the denominators, and then reduce.\n",
    "\n",
    "Suppose we want to compute the product $\\frac34\\times\\frac29$. Using our rule, we proceed as follows:\n",
    "\n",
    "##### Step 1:\n",
    "\n",
    "Multiply both numerators together to get the answer's numerator.\n",
    "\n",
    "   In our example, the numerators are 3 and 2, respectively, so we get $3\\times 2=6$ for the numerator of our product.\n",
    "\n",
    "##### Step 2:\n",
    "\n",
    "Multiply both denominators together to get the answer's denominator.\n",
    "\n",
    "   In our example, the denominators are 4 and 9, respectively, giving us $4\\times 9=36$ for the denominator.\n",
    "\n",
    "##### Step 3:\n",
    "\n",
    "Reduce the fraction to the lowest terms by diving both the numerator and denominator by the greatest common factor (GCF).\n",
    "\n",
    "   Our result is $\\frac34\\times \\frac29 = \\frac{6}{36}$. But this fraction is not in lowest terms, since $36=6\\times 6$. Dividing top and bottom by 6, we get our final answer of $\\frac16$.\n",
    "\n",
    "##### And You're Done!"
   ]
  },
  {
   "cell_type": "markdown",
   "metadata": {},
   "source": [
    "### Method #2: A little less work.\n",
    "\n",
    "The second approach relies on the fact that order of multipication doesn't matter, and that this is true not only for the product of the fractions, but for the products in the numerator and denominator as well! Observe:\n",
    "$$\\begin{align*}\n",
    "\\frac34\\times \\frac29 &= \\frac{3\\times 2}{4\\times 9} \\tag{Use the rule of Method \\#1}\\\\\n",
    "&= \\frac{2\\times 3}{4\\times 9} \\tag{Change the order of multiplication in the numerator}\\\\\n",
    "&= \\frac24\\times\\frac39 \\tag{The rule of Method\\#1, in reverse}\\\\\n",
    "&= \\frac12\\times\\frac13 \\tag{Reduce fractions}\\\\\n",
    "&= \\frac{1\\times 1}{2\\times 3} = \\frac16 \\tag{Multiplying one more time}\n",
    "\\end{align*}$$\n",
    "\n",
    "This might seem like more work (certainly, there are more steps), but what it tells us is that we can *cancel between fractions*. Let's repeat the above calculation, using this shortcut:\n",
    "$$\\large \\frac34\\times\\frac29 = \\frac{^{\\color{red}{1}}3\\!\\!\\!\\!\\diagup}{_{\\color{blue}{2}}\\,4\\!\\!\\!\\!\\diagup}\\times\\frac{2\\!\\!\\!\\!\\diagup^{\\,\\,\\color{blue}{1}}}{9\\!\\!\\!\\!\\diagup_{\\,\\,\\color{red}{3}}} = \\frac{1\\times 1}{2\\times 3}=\\frac16.$$\n",
    "\n",
    "What we've done here is cancel the 3 in $\\frac34$ with a factor of 3 in the $9=3\\times 3$ in $\\frac29$, and similarly, the 2 in $\\frac29$ with the 4 in $\\frac34$. The advantage of this approach is that the numbers we need to multiply are smaller, and (usually, if you were careful) no further reduction is needed. To recap:\n",
    "\n",
    "##### Step 1:\n",
    "\n",
    "Reduce fractions first, and you can reduce the numerator of one fraction with the denominator of the other by the same common factor.\n",
    "\n",
    "###### Step  2:\n",
    "\n",
    "Multiply both numerators together for the numerator and both denominators together for the denominator.\n",
    "\n",
    "##### Step 3:\n",
    "\n",
    "Though the fraction should already be reduced, check again in case it can be reduced again.\n",
    "\n",
    "##### And You're Done!"
   ]
  },
  {
   "cell_type": "markdown",
   "metadata": {},
   "source": [
    "Let's do one more example. This time, we multiply an integer by a fraction. Remember that any integer can be written as a fraction with denominator equal to 1. First, we apply Method #1.\n",
    "\n",
    "$$\\begin{align*}\n",
    "\\frac{4}{7} \\times 7 & = \\frac{4}{7} \\times \\frac{7}{1} \\tag{Turn interger into fraction}\\\\[5pt]\n",
    "\\frac{4}{7} \\times \\frac{7}{1} & = \\frac{28}{7} \\tag{Mulitply numerators and denominators}\\\\[5pt]\n",
    "\\frac{28}{7} & = 4 \\tag{Reduce the fraction}\\\\\n",
    "\\end{align*}$$"
   ]
  },
  {
   "cell_type": "markdown",
   "metadata": {},
   "source": [
    "Here's the same example again, but this time, using the second method:\n",
    "\n",
    "$$\\begin{align*}\n",
    "\\frac{4}{7} \\times 7 & = \\frac{4}{7} \\times \\frac{7}{1} \\tag{Turn interger into fraction}\\\\[5pt]\n",
    "\\frac{4}{7\\!\\!\\!\\!\\diagup} \\times \\frac{7\\!\\!\\!\\!\\diagup}{1} & = \\frac{4}{1} \\times \\frac{1}{1} \\tag{Reduce numbers}\\\\[5pt]\n",
    "\\frac{4}{1} \\times \\frac{1}{1} & = 4 \\tag{Mulitply numerators and denomitators}\n",
    "\\end{align*}$$"
   ]
  },
  {
   "cell_type": "markdown",
   "metadata": {},
   "source": [
    "Let's try one more example:\n",
    "\n",
    "$$\\begin{align*}\n",
    "\\frac{4}{9} \\times \\frac{3}{5}\\\\\n",
    "\\frac{4}{9\\!\\!\\!\\!\\diagup} \\times \\frac{3\\!\\!\\!\\!\\diagup}{5} & = \\frac{4}{3} \\times \\frac{1}{5} \\tag{Reduce numbers}\\\\\n",
    "\\frac{4}{3} \\times \\frac{1}{5} & = \\frac{4}{15} \\tag{Mulitply numerators and denomitators}\n",
    "\\end{align*}$$"
   ]
  },
  {
   "cell_type": "markdown",
   "metadata": {},
   "source": [
    "#### Here's an animation showing the two methods on the same problem.\n",
    "\n",
    "![animation](http://privatekgsmaths.weebly.com/uploads/1/4/9/3/14935550/8741366_orig.gif)"
   ]
  },
  {
   "cell_type": "markdown",
   "metadata": {},
   "source": [
    "## Practice with fraction multiplication\n",
    "\n",
    "It's time to try a few exercises. \n",
    "\n",
    "In the following problems, fill in the missing numbers with integers. Watch out for reductions!\n",
    "\n",
    "<br>\n",
    "$$\\frac{2}{7} \\times \\frac{3}{5} = \\frac{6}{\\color{Red}{a}}$$"
   ]
  },
  {
   "cell_type": "code",
   "execution_count": 6,
   "metadata": {},
   "outputs": [
    {
     "data": {
      "application/vnd.jupyter.widget-view+json": {
       "model_id": "2e105a834d024fef8a162c8a41492098",
       "version_major": 2,
       "version_minor": 0
      },
      "text/html": [
       "<p>Failed to display Jupyter Widget of type <code>IntText</code>.</p>\n",
       "<p>\n",
       "  If you're reading this message in the Jupyter Notebook or JupyterLab Notebook, it may mean\n",
       "  that the widgets JavaScript is still loading. If this message persists, it\n",
       "  likely means that the widgets JavaScript library is either not installed or\n",
       "  not enabled. See the <a href=\"https://ipywidgets.readthedocs.io/en/stable/user_install.html\">Jupyter\n",
       "  Widgets Documentation</a> for setup instructions.\n",
       "</p>\n",
       "<p>\n",
       "  If you're reading this message in another frontend (for example, a static\n",
       "  rendering on GitHub or <a href=\"https://nbviewer.jupyter.org/\">NBViewer</a>),\n",
       "  it may mean that your frontend doesn't currently support widgets.\n",
       "</p>\n"
      ],
      "text/plain": [
       "IntText(value=0, description='a =')"
      ]
     },
     "metadata": {},
     "output_type": "display_data"
    }
   ],
   "source": [
    "a = widgets.IntText(value=0, description='a =', disabled=False)\n",
    "\n",
    "IPython.display.display(a)\n",
    "def check(q):\n",
    "    IPython.display.clear_output(wait=False)\n",
    "    IPython.display.display(a)\n",
    "    if a.value == 35:\n",
    "        print(\"That's right! Great work!\")\n",
    "    else:\n",
    "        if a.value == 0:\n",
    "            pass\n",
    "        else:\n",
    "            print(\"Sorry, try again (and it was not a reducing error)\")\n",
    "\n",
    "a.observe(check, 'value')"
   ]
  },
  {
   "cell_type": "markdown",
   "metadata": {},
   "source": [
    "$$\\frac{4}{9} \\times \\frac{1}{10} = \\frac{\\color{Blue}{b}}{45}$$"
   ]
  },
  {
   "cell_type": "code",
   "execution_count": 7,
   "metadata": {},
   "outputs": [
    {
     "data": {
      "application/vnd.jupyter.widget-view+json": {
       "model_id": "7cd37fae8b8649a2be689dfa59b08431",
       "version_major": 2,
       "version_minor": 0
      },
      "text/html": [
       "<p>Failed to display Jupyter Widget of type <code>IntText</code>.</p>\n",
       "<p>\n",
       "  If you're reading this message in the Jupyter Notebook or JupyterLab Notebook, it may mean\n",
       "  that the widgets JavaScript is still loading. If this message persists, it\n",
       "  likely means that the widgets JavaScript library is either not installed or\n",
       "  not enabled. See the <a href=\"https://ipywidgets.readthedocs.io/en/stable/user_install.html\">Jupyter\n",
       "  Widgets Documentation</a> for setup instructions.\n",
       "</p>\n",
       "<p>\n",
       "  If you're reading this message in another frontend (for example, a static\n",
       "  rendering on GitHub or <a href=\"https://nbviewer.jupyter.org/\">NBViewer</a>),\n",
       "  it may mean that your frontend doesn't currently support widgets.\n",
       "</p>\n"
      ],
      "text/plain": [
       "IntText(value=0, description='b =')"
      ]
     },
     "metadata": {},
     "output_type": "display_data"
    }
   ],
   "source": [
    "b = widgets.IntText(value=0, description='b =', disabled=False)\n",
    "\n",
    "IPython.display.display(b)\n",
    "def check(q):\n",
    "    IPython.display.clear_output(wait=False)\n",
    "    IPython.display.display(b)\n",
    "    if b.value == 2:\n",
    "        print(\"That's right! Great work!\")\n",
    "    else:\n",
    "        if b.value == 0:\n",
    "            pass\n",
    "        if b.value == 4:\n",
    "            print(\"Not quite, don't forget to reduce.\")\n",
    "        else:\n",
    "            print(\"Sorry, try again (and it was not a reducing error)\")\n",
    "\n",
    "b.observe(check, 'value')"
   ]
  },
  {
   "cell_type": "markdown",
   "metadata": {},
   "source": [
    "$$\\frac{2}{3} \\times \\frac{9}{10} = \\frac{\\color{Yellow}{c}}{\\color{Green}{d}}$$"
   ]
  },
  {
   "cell_type": "code",
   "execution_count": 8,
   "metadata": {},
   "outputs": [
    {
     "data": {
      "application/vnd.jupyter.widget-view+json": {
       "model_id": "10375f2e899f4898bb4de581d30a81d7",
       "version_major": 2,
       "version_minor": 0
      },
      "text/html": [
       "<p>Failed to display Jupyter Widget of type <code>IntText</code>.</p>\n",
       "<p>\n",
       "  If you're reading this message in the Jupyter Notebook or JupyterLab Notebook, it may mean\n",
       "  that the widgets JavaScript is still loading. If this message persists, it\n",
       "  likely means that the widgets JavaScript library is either not installed or\n",
       "  not enabled. See the <a href=\"https://ipywidgets.readthedocs.io/en/stable/user_install.html\">Jupyter\n",
       "  Widgets Documentation</a> for setup instructions.\n",
       "</p>\n",
       "<p>\n",
       "  If you're reading this message in another frontend (for example, a static\n",
       "  rendering on GitHub or <a href=\"https://nbviewer.jupyter.org/\">NBViewer</a>),\n",
       "  it may mean that your frontend doesn't currently support widgets.\n",
       "</p>\n"
      ],
      "text/plain": [
       "IntText(value=0, description='c =')"
      ]
     },
     "metadata": {},
     "output_type": "display_data"
    }
   ],
   "source": [
    "c = widgets.IntText(value=0, description='c =', disabled=False)\n",
    "\n",
    "IPython.display.display(c)\n",
    "def check(q):\n",
    "    IPython.display.clear_output(wait=False)\n",
    "    IPython.display.display(c)\n",
    "    if c.value == 3:\n",
    "        print(\"That's right! Great work!\")\n",
    "    else:\n",
    "        if c.value == 0:\n",
    "            pass\n",
    "        if c.value == 18 or c.value == 9 or c.value == 6:\n",
    "            print(\"Not quite, don't forget to reduce.\")\n",
    "        else:\n",
    "            print(\"Sorry, try again (and it was not a reducing error)\")\n",
    "\n",
    "c.observe(check, 'value')"
   ]
  },
  {
   "cell_type": "code",
   "execution_count": 9,
   "metadata": {},
   "outputs": [
    {
     "data": {
      "application/vnd.jupyter.widget-view+json": {
       "model_id": "094d5a309d40413cb24eac3fc5f65c44",
       "version_major": 2,
       "version_minor": 0
      },
      "text/html": [
       "<p>Failed to display Jupyter Widget of type <code>IntText</code>.</p>\n",
       "<p>\n",
       "  If you're reading this message in the Jupyter Notebook or JupyterLab Notebook, it may mean\n",
       "  that the widgets JavaScript is still loading. If this message persists, it\n",
       "  likely means that the widgets JavaScript library is either not installed or\n",
       "  not enabled. See the <a href=\"https://ipywidgets.readthedocs.io/en/stable/user_install.html\">Jupyter\n",
       "  Widgets Documentation</a> for setup instructions.\n",
       "</p>\n",
       "<p>\n",
       "  If you're reading this message in another frontend (for example, a static\n",
       "  rendering on GitHub or <a href=\"https://nbviewer.jupyter.org/\">NBViewer</a>),\n",
       "  it may mean that your frontend doesn't currently support widgets.\n",
       "</p>\n"
      ],
      "text/plain": [
       "IntText(value=0, description='d =')"
      ]
     },
     "metadata": {},
     "output_type": "display_data"
    }
   ],
   "source": [
    "d = widgets.IntText(value=0, description='d =', disabled=False)\n",
    "\n",
    "IPython.display.display(d)\n",
    "def check(q):\n",
    "    IPython.display.clear_output(wait=False)\n",
    "    IPython.display.display(d)\n",
    "    if d.value == 5:\n",
    "        print(\"That's right! Great work!\")\n",
    "    else:\n",
    "        if d.value == 0:\n",
    "            pass\n",
    "        if d.value == 30 or d.value == 15 or d.value == 10:\n",
    "            print(\"Not quite, don't forget to reduce.\")\n",
    "        else:\n",
    "            print(\"Sorry, try again (and it was not a reducing error)\")\n",
    "\n",
    "d.observe(check, 'value')"
   ]
  },
  {
   "cell_type": "markdown",
   "metadata": {},
   "source": [
    "# Dividing Positive Fractions\n",
    "\n",
    "### How do we divide using fractions?\n",
    "\n",
    "If you know how to multiply fractions, then you already know how to divide fractions!\n",
    "\n",
    "Let's go back to dividing integers. We know that 10 divided by 2 is 5, because 10 can be split into 2 portions each of which has 5. Now notice that dividing 10 by 2 is the same as taking half of 10. That is,\n",
    "$$10\\div 2 = 10\\times \\frac12 = 5.$$\n",
    "\n",
    "\n",
    "Notice that in the equality $10 \\div 2 = 10\\times\\frac{1}{2}$, we took the reciprocal of the second number ($\\frac{2}{1} \\rightarrow \\frac{1}{2}$) then changed the division to multiplication! \n",
    "\n",
    "That's how division with fractions works too: flip the divisor and then multiply! This leads to:\n",
    "\n",
    "## The golden rule of division: *division is the same as multiplying by the reciprocal*\n",
    "\n",
    "For example, what is $10\\div \\frac{1}{3}$? If we apply the rule we just came up with, we find\n",
    "$$10\\div \\frac13 = 10\\times\\frac31 = 10\\times 3 = 30.$$\n",
    "\n",
    "Does this make sense? Recall that when we compute $10\\div 2=5$, what we're working out is the number of groups of 2 we need to make 10. Similarly, the expression $10\\div \\frac13$ is asking how many $\\frac{1}{3}$ pieces can fit into 10 pieces. Since it takes 3 $\\frac{1}{3}$s to make one and 10 ones to make 10, we need $3\\times 10 = 30$ pieces of size $\\frac{1}{3}$ to make 10, therefore $10 \\div \\frac{1}{3} = 10 \\times 3 = 30$.\n",
    "\n",
    "#### Here's the steps\n",
    "\n",
    "##### Step 1:\n",
    "Invert the divisor by making the numerator the denominator and the denominator the numberator of the second fraction.\n",
    "\n",
    "##### Step 2:\n",
    "Follow the steps to multiply the fractions using either method mentioned earlier.\n",
    "\n",
    "##### And you're done!\n",
    "\n",
    "### But why does this work?\n",
    "\n",
    "Remember that division is the opposite of multiplication: dividing by a number \"undoes\" multiplication by that same number. Here, we are interested in undoing multiplication by fractions. Let's start with an integer example. Consider the multiplication of 10 by 4: $10 \\times 4 = 40$. To undo the multiplication by 4, we divide by 4: $40 \\div 4 = 10$ and we get back to the original number! Same goes for fractions: consider the product $20 \\times \\frac{1}{2} = 10$. Dividing by $\\frac12$ should undo the multiplication. Our rule for division says that to divide by $\\frac{1}{2}$, we multiply by $\\frac21 = 2$: $10 \\div \\frac{1}{2} = 10\\times 2 = 20$. Once again, we get back to the original number!\n",
    "\n",
    "If dividing by 4 is equivalent to multiplying by $\\frac{1}{4}$, then it's true that dividing by $\\frac{1}{4}$ is equivalent to muliplying by 4. \n",
    "\n",
    "### But isn't division supposed to make the number smaller?\n",
    "\n",
    "The short answer is, \"Only if the number we're dividing by is bigger than 1.\" Try thinking of division as repeated subtraction: $2 \\div \\frac{1}{2}$ is asking how many times can we subtract $\\frac{1}{2}$ from 2. \n",
    "\n",
    "$$\\begin{align*}\n",
    "2 - \\frac{1}{2} &= 1\\frac{1}{2}\\tag{once}\\\\[5pt]\n",
    "1\\frac{1}{2} - \\frac{1}{2} &= 1\\tag{twice}\\\\[5pt]\n",
    "1 - \\frac{1}{2} &= \\frac{1}{2}\\tag{three times}\\\\[5pt]\n",
    "\\frac{1}{2} - \\frac{1}{2} &= 0\\tag{four times}\n",
    "\\end{align*}$$\n",
    "\n",
    "So it took 4 subtractions of $\\frac{1}{2}$ from 2 to reach 0, therefore $2 \\div \\frac{1}{2} = 4$.\n",
    "\n",
    "This is because we are taking smaller portions out of the original number, so we need more subtractions to get to zero."
   ]
  },
  {
   "cell_type": "markdown",
   "metadata": {},
   "source": [
    "Here's another example. In this example, we perform division by multiplying by the reciprocal, and we use Method #2, reducing our fractions before carrying out the multiplication.\n",
    "<br>\n",
    "$$\\large \\frac14\\div\\frac38 = \\frac14\\times\\frac83 = \\frac{1}{_{\\color{red}{1}}\\,4\\!\\!\\!\\!\\diagup}\\times\\frac{8\\!\\!\\!\\!\\diagup^{\\,\\,\\color{red}{2}}}{3} = \\frac23.$$"
   ]
  },
  {
   "cell_type": "markdown",
   "metadata": {},
   "source": [
    "Still need another explanation? Here's a video that might help:"
   ]
  },
  {
   "cell_type": "code",
   "execution_count": 10,
   "metadata": {},
   "outputs": [
    {
     "data": {
      "text/html": [
       "<iframe width=\"560\" height=\"315\" src=\"https://www.youtube.com/embed/f3ySpxX9oeM?rel=0\" frameborder=\"0\" allow=\"autoplay; encrypted-media\" allowfullscreen></iframe>"
      ],
      "text/plain": [
       "<IPython.core.display.HTML object>"
      ]
     },
     "execution_count": 10,
     "metadata": {},
     "output_type": "execute_result"
    }
   ],
   "source": [
    "from IPython.display import HTML\n",
    "HTML('<iframe width=\"560\" height=\"315\" src=\"https://www.youtube.com/embed/f3ySpxX9oeM?rel=0\" frameborder=\"0\" allow=\"autoplay; encrypted-media\" allowfullscreen></iframe>')"
   ]
  },
  {
   "cell_type": "markdown",
   "metadata": {},
   "source": [
    "### Let's go through an example:\n",
    "\n",
    "$$\\begin{align*}\n",
    "\\color{blue}{\\frac{4}{5} \\div \\frac{2}{7}}\\\\\n",
    "\\frac{4}{5} \\div \\frac{2}{7} & = \\frac{4}{5} \\times \\frac{7}{2} \\tag{Invert the divisor}\\\\\n",
    "\\frac{4\\!\\!\\!\\diagup}{5} \\times \\frac{7}{2\\!\\!\\!\\diagup} & = \\frac{2}{5} \\times \\frac{7}{1} \\tag{Reduce numbers}\\\\\n",
    "\\frac{2}{5} \\times \\frac{7}{1} & = \\frac{14}{5} \\tag{Mulitply numerators and denomitators}\\\\\n",
    "\\frac{14}{5} & = 2 \\frac{4}{5} \\tag{Write as a mixed fraction}\n",
    "\\end{align*}$$"
   ]
  },
  {
   "cell_type": "markdown",
   "metadata": {},
   "source": [
    "Here's a fill in the blank question. Please read which numbers need to be filled out correctly, and then enter the correct values below.\n",
    "\n",
    "$$\\frac{2}{3} \\div \\frac{5}{7} = \\frac{2}{3} \\times \\frac{\\color{Blue}{A}}{\\color{Green}{B}} = \\frac{\\color{Purple}{C}}{\\color{Red}{D}}$$"
   ]
  },
  {
   "cell_type": "code",
   "execution_count": 11,
   "metadata": {},
   "outputs": [
    {
     "data": {
      "application/vnd.jupyter.widget-view+json": {
       "model_id": "72b5f2091118470bb592a64de90c5df2",
       "version_major": 2,
       "version_minor": 0
      },
      "text/html": [
       "<p>Failed to display Jupyter Widget of type <code>IntText</code>.</p>\n",
       "<p>\n",
       "  If you're reading this message in the Jupyter Notebook or JupyterLab Notebook, it may mean\n",
       "  that the widgets JavaScript is still loading. If this message persists, it\n",
       "  likely means that the widgets JavaScript library is either not installed or\n",
       "  not enabled. See the <a href=\"https://ipywidgets.readthedocs.io/en/stable/user_install.html\">Jupyter\n",
       "  Widgets Documentation</a> for setup instructions.\n",
       "</p>\n",
       "<p>\n",
       "  If you're reading this message in another frontend (for example, a static\n",
       "  rendering on GitHub or <a href=\"https://nbviewer.jupyter.org/\">NBViewer</a>),\n",
       "  it may mean that your frontend doesn't currently support widgets.\n",
       "</p>\n"
      ],
      "text/plain": [
       "IntText(value=0, description='A =')"
      ]
     },
     "metadata": {},
     "output_type": "display_data"
    }
   ],
   "source": [
    "A = widgets.IntText(value=0, description='A =', disabled=False)\n",
    "\n",
    "def check(q):\n",
    "    IPython.display.clear_output(wait=False)\n",
    "    IPython.display.display(A)\n",
    "    if A.value == 7:\n",
    "        print(\"That's right! Great work!\")\n",
    "    else:\n",
    "        if A.value == 0:\n",
    "            pass\n",
    "        else:\n",
    "            print(\"Sorry, try again.\")\n",
    "            \n",
    "IPython.display.display(A) \n",
    "A.observe(check, 'value')"
   ]
  },
  {
   "cell_type": "code",
   "execution_count": 12,
   "metadata": {},
   "outputs": [
    {
     "data": {
      "application/vnd.jupyter.widget-view+json": {
       "model_id": "204e490e1740447e92c8267a9f4be58f",
       "version_major": 2,
       "version_minor": 0
      },
      "text/html": [
       "<p>Failed to display Jupyter Widget of type <code>IntText</code>.</p>\n",
       "<p>\n",
       "  If you're reading this message in the Jupyter Notebook or JupyterLab Notebook, it may mean\n",
       "  that the widgets JavaScript is still loading. If this message persists, it\n",
       "  likely means that the widgets JavaScript library is either not installed or\n",
       "  not enabled. See the <a href=\"https://ipywidgets.readthedocs.io/en/stable/user_install.html\">Jupyter\n",
       "  Widgets Documentation</a> for setup instructions.\n",
       "</p>\n",
       "<p>\n",
       "  If you're reading this message in another frontend (for example, a static\n",
       "  rendering on GitHub or <a href=\"https://nbviewer.jupyter.org/\">NBViewer</a>),\n",
       "  it may mean that your frontend doesn't currently support widgets.\n",
       "</p>\n"
      ],
      "text/plain": [
       "IntText(value=0, description='B =')"
      ]
     },
     "metadata": {},
     "output_type": "display_data"
    }
   ],
   "source": [
    "B = widgets.IntText(value=0, description='B =', disabled=False)\n",
    "\n",
    "def check(q):\n",
    "    IPython.display.clear_output(wait=False)\n",
    "    IPython.display.display(B)\n",
    "    if B.value == 5:\n",
    "        print(\"That's right! Great work!\")\n",
    "    else:\n",
    "        if B.value == 0:\n",
    "            pass\n",
    "        else:\n",
    "            print(\"Sorry, try again.\")\n",
    "            \n",
    "IPython.display.display(B)\n",
    "B.observe(check, 'value')"
   ]
  },
  {
   "cell_type": "code",
   "execution_count": 13,
   "metadata": {},
   "outputs": [
    {
     "data": {
      "application/vnd.jupyter.widget-view+json": {
       "model_id": "4abb882dd62e48d7a74377d3a1bf05ec",
       "version_major": 2,
       "version_minor": 0
      },
      "text/html": [
       "<p>Failed to display Jupyter Widget of type <code>IntText</code>.</p>\n",
       "<p>\n",
       "  If you're reading this message in the Jupyter Notebook or JupyterLab Notebook, it may mean\n",
       "  that the widgets JavaScript is still loading. If this message persists, it\n",
       "  likely means that the widgets JavaScript library is either not installed or\n",
       "  not enabled. See the <a href=\"https://ipywidgets.readthedocs.io/en/stable/user_install.html\">Jupyter\n",
       "  Widgets Documentation</a> for setup instructions.\n",
       "</p>\n",
       "<p>\n",
       "  If you're reading this message in another frontend (for example, a static\n",
       "  rendering on GitHub or <a href=\"https://nbviewer.jupyter.org/\">NBViewer</a>),\n",
       "  it may mean that your frontend doesn't currently support widgets.\n",
       "</p>\n"
      ],
      "text/plain": [
       "IntText(value=0, description='C =')"
      ]
     },
     "metadata": {},
     "output_type": "display_data"
    }
   ],
   "source": [
    "C = widgets.IntText(value=0, description='C =', disabled=False)\n",
    "\n",
    "def check(q):\n",
    "    IPython.display.clear_output(wait=False)\n",
    "    IPython.display.display(C)\n",
    "    if C.value == 14:\n",
    "        print(\"That's right! Great work!\")\n",
    "    else:\n",
    "        if C.value == 0:\n",
    "            pass\n",
    "        else:\n",
    "            print(\"Sorry, try again.\")\n",
    "            \n",
    "IPython.display.display(C)\n",
    "C.observe(check, 'value')"
   ]
  },
  {
   "cell_type": "code",
   "execution_count": 14,
   "metadata": {},
   "outputs": [
    {
     "data": {
      "application/vnd.jupyter.widget-view+json": {
       "model_id": "03f4c9688cea40009483be90d146b2db",
       "version_major": 2,
       "version_minor": 0
      },
      "text/html": [
       "<p>Failed to display Jupyter Widget of type <code>IntText</code>.</p>\n",
       "<p>\n",
       "  If you're reading this message in the Jupyter Notebook or JupyterLab Notebook, it may mean\n",
       "  that the widgets JavaScript is still loading. If this message persists, it\n",
       "  likely means that the widgets JavaScript library is either not installed or\n",
       "  not enabled. See the <a href=\"https://ipywidgets.readthedocs.io/en/stable/user_install.html\">Jupyter\n",
       "  Widgets Documentation</a> for setup instructions.\n",
       "</p>\n",
       "<p>\n",
       "  If you're reading this message in another frontend (for example, a static\n",
       "  rendering on GitHub or <a href=\"https://nbviewer.jupyter.org/\">NBViewer</a>),\n",
       "  it may mean that your frontend doesn't currently support widgets.\n",
       "</p>\n"
      ],
      "text/plain": [
       "IntText(value=0, description='D =')"
      ]
     },
     "metadata": {},
     "output_type": "display_data"
    }
   ],
   "source": [
    "D = widgets.IntText(value=0, description='D =', disabled=False)\n",
    "\n",
    "def check(q):\n",
    "    IPython.display.clear_output(wait=False)\n",
    "    IPython.display.display(D)\n",
    "    if D.value == 15:\n",
    "        print(\"That's right! Great work!\")\n",
    "    else:\n",
    "        if D.value == 0:\n",
    "            pass\n",
    "        else:\n",
    "            print(\"Sorry, try again.\")\n",
    "            \n",
    "IPython.display.display(D)\n",
    "D.observe(check, 'value')"
   ]
  },
  {
   "cell_type": "markdown",
   "metadata": {},
   "source": [
    "Here's another fill in the blank question. Please read which numbers need to be filled out correctly. <br>\n",
    "Note: there is a reduction in this one!\n",
    "\n",
    "$$\\frac{4}{9} \\div \\frac{5}{3} = \\frac{4}{9} \\times \\frac{3}{5} = \\frac{4}{\\color{Blue}{E}} \\times \\frac{\\color{Green}{F}}{5} = \\frac{\\color{Purple}{G}}{\\color{Red}{H}}$$"
   ]
  },
  {
   "cell_type": "code",
   "execution_count": 15,
   "metadata": {},
   "outputs": [
    {
     "data": {
      "application/vnd.jupyter.widget-view+json": {
       "model_id": "1365b2ef800f4a14845b676376c4ae01",
       "version_major": 2,
       "version_minor": 0
      },
      "text/html": [
       "<p>Failed to display Jupyter Widget of type <code>IntText</code>.</p>\n",
       "<p>\n",
       "  If you're reading this message in the Jupyter Notebook or JupyterLab Notebook, it may mean\n",
       "  that the widgets JavaScript is still loading. If this message persists, it\n",
       "  likely means that the widgets JavaScript library is either not installed or\n",
       "  not enabled. See the <a href=\"https://ipywidgets.readthedocs.io/en/stable/user_install.html\">Jupyter\n",
       "  Widgets Documentation</a> for setup instructions.\n",
       "</p>\n",
       "<p>\n",
       "  If you're reading this message in another frontend (for example, a static\n",
       "  rendering on GitHub or <a href=\"https://nbviewer.jupyter.org/\">NBViewer</a>),\n",
       "  it may mean that your frontend doesn't currently support widgets.\n",
       "</p>\n"
      ],
      "text/plain": [
       "IntText(value=0, description='E =')"
      ]
     },
     "metadata": {},
     "output_type": "display_data"
    }
   ],
   "source": [
    "E = widgets.IntText(value=0, description='E =', disabled=False)\n",
    "\n",
    "def check(q):\n",
    "    IPython.display.clear_output(wait=False)\n",
    "    IPython.display.display(E)\n",
    "    if E.value == 3:\n",
    "        print(\"That's right! Great work!\")\n",
    "    else:\n",
    "        if E.value == 0:\n",
    "            pass\n",
    "        if E.value == 9:\n",
    "            print(\"Don't forget to reduce.\")\n",
    "        else:\n",
    "            print(\"Sorry, try again.\")\n",
    "            \n",
    "IPython.display.display(E) \n",
    "E.observe(check, 'value')"
   ]
  },
  {
   "cell_type": "code",
   "execution_count": 16,
   "metadata": {},
   "outputs": [
    {
     "data": {
      "application/vnd.jupyter.widget-view+json": {
       "model_id": "da6aab1c40d844bcb87461a78c29fdfe",
       "version_major": 2,
       "version_minor": 0
      },
      "text/html": [
       "<p>Failed to display Jupyter Widget of type <code>IntText</code>.</p>\n",
       "<p>\n",
       "  If you're reading this message in the Jupyter Notebook or JupyterLab Notebook, it may mean\n",
       "  that the widgets JavaScript is still loading. If this message persists, it\n",
       "  likely means that the widgets JavaScript library is either not installed or\n",
       "  not enabled. See the <a href=\"https://ipywidgets.readthedocs.io/en/stable/user_install.html\">Jupyter\n",
       "  Widgets Documentation</a> for setup instructions.\n",
       "</p>\n",
       "<p>\n",
       "  If you're reading this message in another frontend (for example, a static\n",
       "  rendering on GitHub or <a href=\"https://nbviewer.jupyter.org/\">NBViewer</a>),\n",
       "  it may mean that your frontend doesn't currently support widgets.\n",
       "</p>\n"
      ],
      "text/plain": [
       "IntText(value=0, description='F =')"
      ]
     },
     "metadata": {},
     "output_type": "display_data"
    }
   ],
   "source": [
    "F = widgets.IntText(value=0, description='F =', disabled=False)\n",
    "\n",
    "def check(q):\n",
    "    IPython.display.clear_output(wait=False)\n",
    "    IPython.display.display(F)\n",
    "    if F.value == 1:\n",
    "        print(\"That's right! Great work!\")\n",
    "    else:\n",
    "        if F.value == 0:\n",
    "            pass\n",
    "        if F.value == 3:\n",
    "            print(\"Don't forget to reduce.\")\n",
    "        else:\n",
    "            print(\"Sorry, try again.\")\n",
    "            \n",
    "IPython.display.display(F) \n",
    "F.observe(check, 'value')"
   ]
  },
  {
   "cell_type": "code",
   "execution_count": 17,
   "metadata": {},
   "outputs": [
    {
     "data": {
      "application/vnd.jupyter.widget-view+json": {
       "model_id": "07d266bb0c0d439ea84d14c89c07fff0",
       "version_major": 2,
       "version_minor": 0
      },
      "text/html": [
       "<p>Failed to display Jupyter Widget of type <code>IntText</code>.</p>\n",
       "<p>\n",
       "  If you're reading this message in the Jupyter Notebook or JupyterLab Notebook, it may mean\n",
       "  that the widgets JavaScript is still loading. If this message persists, it\n",
       "  likely means that the widgets JavaScript library is either not installed or\n",
       "  not enabled. See the <a href=\"https://ipywidgets.readthedocs.io/en/stable/user_install.html\">Jupyter\n",
       "  Widgets Documentation</a> for setup instructions.\n",
       "</p>\n",
       "<p>\n",
       "  If you're reading this message in another frontend (for example, a static\n",
       "  rendering on GitHub or <a href=\"https://nbviewer.jupyter.org/\">NBViewer</a>),\n",
       "  it may mean that your frontend doesn't currently support widgets.\n",
       "</p>\n"
      ],
      "text/plain": [
       "IntText(value=0, description='G =')"
      ]
     },
     "metadata": {},
     "output_type": "display_data"
    }
   ],
   "source": [
    "G = widgets.IntText(value=0, description='G =', disabled=False)\n",
    "\n",
    "def check(q):\n",
    "    IPython.display.clear_output(wait=False)\n",
    "    IPython.display.display(G)\n",
    "    if G.value == 4:\n",
    "        print(\"That's right! Great work!\")\n",
    "    else:\n",
    "        if G.value == 0:\n",
    "            pass\n",
    "        else:\n",
    "            print(\"Sorry, try again.\")\n",
    "            \n",
    "IPython.display.display(G) \n",
    "G.observe(check, 'value')"
   ]
  },
  {
   "cell_type": "code",
   "execution_count": 18,
   "metadata": {},
   "outputs": [
    {
     "data": {
      "application/vnd.jupyter.widget-view+json": {
       "model_id": "dde38cb8f5144db8b6d905227a7acebb",
       "version_major": 2,
       "version_minor": 0
      },
      "text/html": [
       "<p>Failed to display Jupyter Widget of type <code>IntText</code>.</p>\n",
       "<p>\n",
       "  If you're reading this message in the Jupyter Notebook or JupyterLab Notebook, it may mean\n",
       "  that the widgets JavaScript is still loading. If this message persists, it\n",
       "  likely means that the widgets JavaScript library is either not installed or\n",
       "  not enabled. See the <a href=\"https://ipywidgets.readthedocs.io/en/stable/user_install.html\">Jupyter\n",
       "  Widgets Documentation</a> for setup instructions.\n",
       "</p>\n",
       "<p>\n",
       "  If you're reading this message in another frontend (for example, a static\n",
       "  rendering on GitHub or <a href=\"https://nbviewer.jupyter.org/\">NBViewer</a>),\n",
       "  it may mean that your frontend doesn't currently support widgets.\n",
       "</p>\n"
      ],
      "text/plain": [
       "IntText(value=0, description='H =')"
      ]
     },
     "metadata": {},
     "output_type": "display_data"
    }
   ],
   "source": [
    "H = widgets.IntText(value=0, description='H =', disabled=False)\n",
    "\n",
    "def check(q):\n",
    "    IPython.display.clear_output(wait=False)\n",
    "    IPython.display.display(H)\n",
    "    if H.value == 15:\n",
    "        print(\"That's right! Great work!\")\n",
    "    else:\n",
    "        if H.value == 0:\n",
    "            pass\n",
    "        else:\n",
    "            print(\"Sorry, try again.\")\n",
    "            \n",
    "IPython.display.display(H) \n",
    "H.observe(check, 'value')"
   ]
  },
  {
   "cell_type": "markdown",
   "metadata": {},
   "source": [
    "## Multiplication and Division with Positive Mixed Fractions\n",
    "\n",
    "With mixed numbers, we have to do a little more work, but it's only one more step:\n",
    "\n",
    "### For multiplication and division, all mixed numbers must be converted to improper fractions.\n",
    "\n",
    "For example, consider the product $\\frac45\\times 3\\frac14$. Mixed number notation is really shorthand for the sum of an integer and a fraction: $3\\frac14$ is really $3+\\frac14$. So one way to carry out the product is to use the distributive property:\n",
    "$$\\frac45 \\times 3\\frac14 = \\frac45(3+\\frac14) = \\frac45\\times 3+\\frac45\\times\\frac14 = \\frac{12}{5}+\\frac15 = \\frac{13}{5}=2\\frac35.$$\n",
    "(Note that we've made use of two skills practised above, without explicitly writing them down: we multiplied by 3 by thinking of it as the fraction $\\frac31$, and we cancelled the fours in the product $\\frac45\\times \\frac14$.)\n",
    "\n",
    "But that was quite a bit of work. The more efficient approach is as follows. First, we convert our mixed number to an improper fraction:\n",
    "$$3\\frac14 = 3+\\frac14 = 3\\times\\frac44+\\frac14 = \\frac{12}{4}+\\frac{1}{4} = \\frac{13}{4}.$$\n",
    "Next, we multiply using the methods we learned above:\n",
    "$$\\frac45\\times 3\\frac14 = \\frac45\\times\\frac{13}{4} = \\frac15\\times\\frac{13}{1}=\\frac{13}{5},$$\n",
    "as before. If specified in the problem (or by your teacher), you can take one more step and convert the improper fraction $\\frac{13}{5}$ into the mixed number $2\\frac35$.\n",
    "<br>\n",
    "\n",
    "Let's review the steps:\n",
    "\n",
    "##### Step 1:\n",
    "$\\color{red}{\\textrm{Convert all mixed fractions into improper fractions.}}$\n",
    "\n",
    "##### Step 2:\n",
    "Multiply or divide as using the methods earlier.\n",
    "\n",
    "##### Step 3: (Optional?)\n",
    "If the result is an improper fraction, convert it back to a mixed number.\n",
    "\n",
    "##### And you're done!\n",
    "\n",
    "### Let's do some examples\n",
    "\n",
    "$$\\begin{align*}\n",
    "\\color{blue}{2 \\frac{2}{3} \\times 1 \\frac{3}{4}}\\\\\n",
    "2 \\frac{2}{3} \\times 1 \\frac{3}{4} & = \\frac{8}{3} \\times \\frac{7}{4} \\tag{Convert to improper fractions}\\\\\n",
    "\\frac{8\\!\\!\\!\\diagup}{3} \\times \\frac{7}{4\\!\\!\\!\\diagup} & = \\frac{2}{3} \\times \\frac{7}{1} \\tag{Reduce numbers}\\\\\n",
    "\\frac{2}{3} \\times \\frac{7}{1} & = \\frac{14}{3} \\tag{Mulitply numerators and denomitators}\\\\\n",
    "\\frac{14}{3} & = 4 \\frac{2}{3} \\tag{Write as a mixed fraction}\n",
    "\\end{align*}$$\n",
    "\n",
    "#### Let's do a division with the same numbers\n",
    "\n",
    "$$\\begin{align*}\n",
    "\\color{blue}{2 \\frac{2}{3} \\div 1 \\frac{3}{4}}\\\\\n",
    "2 \\frac{2}{3} \\div 1 \\frac{3}{4} & = \\frac{8}{3} \\div \\frac{7}{4} \\tag{Convert to improper fractions}\\\\\n",
    "\\frac{8}{3} \\div \\frac{7}{4} & = \\frac{8}{3} \\times \\frac{4}{7} \\tag{Invert the divisor}\\\\\n",
    "\\frac{8}{3} \\times \\frac{4}{7} & = \\frac{32}{21} \\tag{Mulitply numerators and denomitators}\\\\\n",
    "\\frac{32}{21} & = 1 \\frac{11}{21} \\tag{Write as a mixed fraction}\n",
    "\\end{align*}$$\n",
    "\n",
    "#### Now a division example with reductions\n",
    "\n",
    "$$\\begin{align*}\n",
    "\\color{blue}{3 \\frac{1}{2} \\div 1 \\frac{1}{6}}\\\\\n",
    "3 \\frac{1}{2} \\div 1 \\frac{1}{6} & = \\frac{7}{2} \\div \\frac{7}{6} \\tag{Convert to improper fractions}\\\\\n",
    "\\frac{7}{2} \\div \\frac{7}{6} & = \\frac{7}{2} \\times \\frac{6}{7} \\tag{Invert the divisor}\\\\\n",
    "\\frac{7\\!\\!\\!\\diagup}{2} \\times \\frac{6}{7\\!\\!\\!\\diagup} & = \\frac{1}{2} \\times \\frac{6}{1} \\tag{Reduce numbers}\\\\\n",
    "\\frac{1}{2\\!\\!\\!\\diagup} \\times \\frac{6\\!\\!\\!\\diagup}{1} & = \\frac{1}{1} \\times \\frac{3}{1} \\tag{Reduce numbers again}\\\\\n",
    "\\frac{1}{1} \\times \\frac{3}{1} & = \\frac{3}{1} \\tag{Mulitply numerators and denomitators}\\\\\n",
    "\\frac{3}{1} & = 3 \\tag{Write as an integer}\n",
    "\\end{align*}$$"
   ]
  },
  {
   "cell_type": "markdown",
   "metadata": {},
   "source": [
    "### Practice Questions\n",
    "\n",
    "Now that you've seen a few examples, it's time to try some on your own. But remember: two problems worth of practice is not enough to master this skill. Make sure you take the time to work through additional problems from your teacher or textbook.\n",
    "\n",
    "##### Question 1\n",
    "\n",
    "$2\\frac{1}{2} \\times 1\\frac{1}{2}$"
   ]
  },
  {
   "cell_type": "code",
   "execution_count": 19,
   "metadata": {},
   "outputs": [
    {
     "data": {
      "application/vnd.jupyter.widget-view+json": {
       "model_id": "38ebd1fff34a4907889e2e8e26d27bb6",
       "version_major": 2,
       "version_minor": 0
      },
      "text/html": [
       "<p>Failed to display Jupyter Widget of type <code>RadioButtons</code>.</p>\n",
       "<p>\n",
       "  If you're reading this message in the Jupyter Notebook or JupyterLab Notebook, it may mean\n",
       "  that the widgets JavaScript is still loading. If this message persists, it\n",
       "  likely means that the widgets JavaScript library is either not installed or\n",
       "  not enabled. See the <a href=\"https://ipywidgets.readthedocs.io/en/stable/user_install.html\">Jupyter\n",
       "  Widgets Documentation</a> for setup instructions.\n",
       "</p>\n",
       "<p>\n",
       "  If you're reading this message in another frontend (for example, a static\n",
       "  rendering on GitHub or <a href=\"https://nbviewer.jupyter.org/\">NBViewer</a>),\n",
       "  it may mean that your frontend doesn't currently support widgets.\n",
       "</p>\n"
      ],
      "text/plain": [
       "RadioButtons(description='Answer', options=('', '3 3/4', '2 1/4', '4', '1 2/3'), value='')"
      ]
     },
     "metadata": {},
     "output_type": "display_data"
    }
   ],
   "source": [
    "from fractions import Fraction\n",
    "\n",
    "answer = widgets.RadioButtons(options=['','3 3/4', '2 1/4','4','1 2/3'],\n",
    "                              value='', description= 'Answer')\n",
    "\n",
    "def check(a):\n",
    "    IPython.display.clear_output(wait=False)\n",
    "    IPython.display.display(answer)\n",
    "    if answer.value == '3 3/4':\n",
    "        print(\"Correct! Great job!\")\n",
    "    else:\n",
    "        if answer.value == '':\n",
    "            pass\n",
    "        else:\n",
    "            print(\"Sorry, that's not right, try again. Don't forget to convert the fraction to an improper fraction.\")\n",
    "\n",
    "IPython.display.display(answer)\n",
    "answer.observe(check, 'value')"
   ]
  },
  {
   "cell_type": "markdown",
   "metadata": {},
   "source": [
    "##### Question 2\n",
    "\n",
    "$3\\frac{1}{3} \\div 2\\frac{1}{6}$"
   ]
  },
  {
   "cell_type": "code",
   "execution_count": 20,
   "metadata": {},
   "outputs": [
    {
     "data": {
      "application/vnd.jupyter.widget-view+json": {
       "model_id": "eef22c33f924409ea2eef8df17a09a63",
       "version_major": 2,
       "version_minor": 0
      },
      "text/html": [
       "<p>Failed to display Jupyter Widget of type <code>RadioButtons</code>.</p>\n",
       "<p>\n",
       "  If you're reading this message in the Jupyter Notebook or JupyterLab Notebook, it may mean\n",
       "  that the widgets JavaScript is still loading. If this message persists, it\n",
       "  likely means that the widgets JavaScript library is either not installed or\n",
       "  not enabled. See the <a href=\"https://ipywidgets.readthedocs.io/en/stable/user_install.html\">Jupyter\n",
       "  Widgets Documentation</a> for setup instructions.\n",
       "</p>\n",
       "<p>\n",
       "  If you're reading this message in another frontend (for example, a static\n",
       "  rendering on GitHub or <a href=\"https://nbviewer.jupyter.org/\">NBViewer</a>),\n",
       "  it may mean that your frontend doesn't currently support widgets.\n",
       "</p>\n"
      ],
      "text/plain": [
       "RadioButtons(description='Answer', options=('', '7 2/9', '2 1/2', '1 7/13', '3 1/2'), value='')"
      ]
     },
     "metadata": {},
     "output_type": "display_data"
    }
   ],
   "source": [
    "answer2 = widgets.RadioButtons(options=['','7 2/9', '2 1/2','1 7/13','3 1/2'],\n",
    "                              value='', description= 'Answer')\n",
    "\n",
    "def check(a):\n",
    "    IPython.display.clear_output(wait=False)\n",
    "    IPython.display.display(answer2)\n",
    "    if answer2.value == '1 7/13':\n",
    "        print(\"Correct! Great job!\")\n",
    "    else:\n",
    "        if answer.value == '':\n",
    "            pass\n",
    "        else:\n",
    "            print(\"Sorry, that's not right, try again. Don't forget to convert the fraction to an improper fraction and invert the divisor.\")\n",
    "\n",
    "IPython.display.display(answer2)\n",
    "answer2.observe(check, 'value')"
   ]
  },
  {
   "cell_type": "markdown",
   "metadata": {},
   "source": [
    "## Summary\n",
    "\n",
    "Let's review what we've learned in this notebook.\n",
    "\n",
    "- Unlike addition, multiplication of fractions does *not* require common denominators. (As a result, many people find multiplication easier than addition when it comes to fractions!)\n",
    "- To multiply to fractions, simlply multiply the corresponding numerators and denominators, and then reduce if necessary.\n",
    "- The arithmetic is often simpler if you cancel common factors prior to multiplication.\n",
    "- Division is easily converted into multiplication. Remember the Golden Rule: division is the same as multiplying by the reciprocal!\n",
    "- Multiplication and division involving mixed numbers is most easily performed by first converting any mixed numbers to improper fractions.\n",
    "\n",
    "Take the time to master your fraction arithmetic. It may not seem like it now, but this is an essential skill that you'll rely on for the rest of your mathematical career. As always in mathematics, the more you practice, the easier it gets!"
   ]
  },
  {
   "cell_type": "markdown",
   "metadata": {},
   "source": [
    "![logo](https://callysto.ca/wp-content/uploads/2018/06/Callysto_Notebook-Banners_Bottom_06.06.18.jpg)"
   ]
  }
 ],
 "metadata": {
  "kernelspec": {
   "display_name": "Python 3",
   "language": "python",
   "name": "python3"
  },
  "language_info": {
   "codemirror_mode": {
    "name": "ipython",
    "version": 3
   },
   "file_extension": ".py",
   "mimetype": "text/x-python",
   "name": "python",
   "nbconvert_exporter": "python",
   "pygments_lexer": "ipython3",
   "version": "3.6.5"
  }
 },
 "nbformat": 4,
 "nbformat_minor": 2
}
