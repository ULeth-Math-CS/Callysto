{
 "cells": [
  {
   "cell_type": "markdown",
   "metadata": {},
   "source": [
    "# Order of Operations\n",
    "\n",
    "### Needs more content\n",
    "\n",
    "##### Created by Nicole Vachon\n",
    "\n",
    "This is not complete, or in a proper order, it is simply a collection of ideas for examples and practice questions."
   ]
  },
  {
   "cell_type": "markdown",
   "metadata": {},
   "source": [
    "The Order of Operations is:\n",
    "\n",
    "* **B**rackets\n",
    "* **E**xponents\n",
    "* **D**ivision\n",
    "* **M**ultiplication\n",
    "* **A**ddition\n",
    "* **S**ubtraction\n",
    "\n",
    "Where Division and Multiplication are done left to right if theres mulitple and so is Addition and Subtraction. It can be visualized as a pyramid.\n",
    "\n",
    "![Pyramid](http://4.bp.blogspot.com/-zfTGFH6aoZw/VU1oBBlxVVI/AAAAAAAACM0/kBKeNwlnMd0/s1600/Slide1.png)"
   ]
  },
  {
   "cell_type": "markdown",
   "metadata": {},
   "source": [
    "If you want to type your expressions into an input box, the operators are:\n",
    "* Brackets: `(` and `)`\n",
    "* Exponents: `**`\n",
    "* Division: `/`\n",
    "* Multiplication: `*`\n",
    "* Addition: `+`\n",
    "* Subtraction: `-`"
   ]
  },
  {
   "cell_type": "markdown",
   "metadata": {},
   "source": [
    "Let's try inputting 3 + 5 * 6 into python:"
   ]
  },
  {
   "cell_type": "code",
   "execution_count": 2,
   "metadata": {},
   "outputs": [
    {
     "data": {
      "text/plain": [
       "33"
      ]
     },
     "execution_count": 2,
     "metadata": {},
     "output_type": "execute_result"
    }
   ],
   "source": [
    "3 + 5 * 6"
   ]
  },
  {
   "cell_type": "markdown",
   "metadata": {},
   "source": [
    "Now see the difference when the input is (3 + 5) * 6:"
   ]
  },
  {
   "cell_type": "code",
   "execution_count": 3,
   "metadata": {},
   "outputs": [
    {
     "data": {
      "text/plain": [
       "48"
      ]
     },
     "execution_count": 3,
     "metadata": {},
     "output_type": "execute_result"
    }
   ],
   "source": [
    "(3 + 5) * 6"
   ]
  },
  {
   "cell_type": "markdown",
   "metadata": {},
   "source": [
    "Now lets see when the input is 3 + (5 * 6):"
   ]
  },
  {
   "cell_type": "code",
   "execution_count": 4,
   "metadata": {},
   "outputs": [
    {
     "data": {
      "text/plain": [
       "33"
      ]
     },
     "execution_count": 4,
     "metadata": {},
     "output_type": "execute_result"
    }
   ],
   "source": [
    "3 + (5 * 6)"
   ]
  },
  {
   "cell_type": "markdown",
   "metadata": {},
   "source": [
    "We can see that the computer runs the second one when no brackets are added. What comclusion can we draw from this?"
   ]
  },
  {
   "cell_type": "markdown",
   "metadata": {},
   "source": [
    "example walk-through:\n",
    "\n",
    ">2^3 * **(4 + 8)**\n",
    ">\n",
    ">**2^3** * 12\n",
    ">\n",
    "> **8  * 12**\n",
    ">\n",
    ">   96"
   ]
  },
  {
   "cell_type": "markdown",
   "metadata": {},
   "source": [
    "how about 2^3 * (4 + 8) on the computer:"
   ]
  },
  {
   "cell_type": "code",
   "execution_count": 5,
   "metadata": {},
   "outputs": [
    {
     "data": {
      "text/plain": [
       "96"
      ]
     },
     "execution_count": 5,
     "metadata": {},
     "output_type": "execute_result"
    }
   ],
   "source": [
    "2**3 * (4 + 8)"
   ]
  },
  {
   "cell_type": "markdown",
   "metadata": {},
   "source": [
    "Try a few Practice Questions:"
   ]
  },
  {
   "cell_type": "code",
   "execution_count": 13,
   "metadata": {},
   "outputs": [
    {
     "data": {
      "application/vnd.jupyter.widget-view+json": {
       "model_id": "b7b2a019b56d459fa908fd9c60ba34d6",
       "version_major": 2,
       "version_minor": 0
      },
      "text/html": [
       "<p>Failed to display Jupyter Widget of type <code>Dropdown</code>.</p>\n",
       "<p>\n",
       "  If you're reading this message in the Jupyter Notebook or JupyterLab Notebook, it may mean\n",
       "  that the widgets JavaScript is still loading. If this message persists, it\n",
       "  likely means that the widgets JavaScript library is either not installed or\n",
       "  not enabled. See the <a href=\"https://ipywidgets.readthedocs.io/en/stable/user_install.html\">Jupyter\n",
       "  Widgets Documentation</a> for setup instructions.\n",
       "</p>\n",
       "<p>\n",
       "  If you're reading this message in another frontend (for example, a static\n",
       "  rendering on GitHub or <a href=\"https://nbviewer.jupyter.org/\">NBViewer</a>),\n",
       "  it may mean that your frontend doesn't currently support widgets.\n",
       "</p>\n"
      ],
      "text/plain": [
       "Dropdown(description='Difficulty:', options=('Medium', 'Easy', 'Hard'), value='Medium')"
      ]
     },
     "metadata": {},
     "output_type": "display_data"
    },
    {
     "data": {
      "application/vnd.jupyter.widget-view+json": {
       "model_id": "14187d3c03c94dd4ad6d99c0bf5db120",
       "version_major": 2,
       "version_minor": 0
      },
      "text/html": [
       "<p>Failed to display Jupyter Widget of type <code>Button</code>.</p>\n",
       "<p>\n",
       "  If you're reading this message in the Jupyter Notebook or JupyterLab Notebook, it may mean\n",
       "  that the widgets JavaScript is still loading. If this message persists, it\n",
       "  likely means that the widgets JavaScript library is either not installed or\n",
       "  not enabled. See the <a href=\"https://ipywidgets.readthedocs.io/en/stable/user_install.html\">Jupyter\n",
       "  Widgets Documentation</a> for setup instructions.\n",
       "</p>\n",
       "<p>\n",
       "  If you're reading this message in another frontend (for example, a static\n",
       "  rendering on GitHub or <a href=\"https://nbviewer.jupyter.org/\">NBViewer</a>),\n",
       "  it may mean that your frontend doesn't currently support widgets.\n",
       "</p>\n"
      ],
      "text/plain": [
       "Button(description='Start', style=ButtonStyle())"
      ]
     },
     "metadata": {},
     "output_type": "display_data"
    },
    {
     "data": {
      "text/html": [
       "<script>\n",
       "code_show=true; \n",
       "function code_toggle() {\n",
       "    if (code_show){\n",
       "        $('div.cell.code_cell.rendered.selected div.input').hide();\n",
       "    } else {\n",
       "        $('div.cell.code_cell.rendered.selected div.input').show();\n",
       "    }\n",
       "    code_show = !code_show\n",
       "} \n",
       "\n",
       "$( document ).ready(code_toggle);\n",
       "</script>\n",
       "\n",
       "To show/hide this cell's raw code input, click <a href=\"javascript:code_toggle()\">here</a>."
      ],
      "text/plain": [
       "<IPython.core.display.HTML object>"
      ]
     },
     "execution_count": 13,
     "metadata": {},
     "output_type": "execute_result"
    }
   ],
   "source": [
    "import ipywidgets as widgets\n",
    "import IPython\n",
    "from IPython.display import HTML\n",
    "\n",
    "choice = widgets.Dropdown(\n",
    "    options={'Easy', 'Medium', 'Hard'},\n",
    "    description='Difficulty:',\n",
    ")\n",
    "Start = widgets.Button(description = \"Start\")\n",
    "ans = widgets.Button(description = \"Answer\")\n",
    "\n",
    "def reveal(choice):\n",
    "    click = False\n",
    "    if choice=='Easy':\n",
    "        print(\"2*5+3\")\n",
    "        print(\"10+3\")\n",
    "        print(\"13\")\n",
    "    else:\n",
    "        if choice=='Medium':\n",
    "            print(\"(1+6)*5+3\")\n",
    "            print(\"(7)*5+3\")\n",
    "            print(\"35+3\")\n",
    "            print(\"38\")\n",
    "        else:\n",
    "            print(\"(4^2-2)/2*3^2\")\n",
    "            print(\"(16-2)/2*3^2\")\n",
    "            print(\"(14)/2*3^2\")\n",
    "            print(\"(14)/2*9\")\n",
    "            print(\"7*9\")\n",
    "            print(\"63\") \n",
    "\n",
    "def create(choice):\n",
    "    #click = True\n",
    "    if choice=='Easy':\n",
    "        print(\"2*5+3\")\n",
    "    else:\n",
    "        if choice=='Medium':\n",
    "            print(\"(1+6)*5+3\")\n",
    "        else:\n",
    "            print(\"(4^2-2)/2*3^2\")\n",
    "            \n",
    "def on_button(a):\n",
    "    IPython.display.clear_output(wait=False)\n",
    "    IPython.display.display(choice, Start, ans)\n",
    "    reveal(choice.value)\n",
    "    \n",
    "            \n",
    "def display(b):\n",
    "    IPython.display.clear_output(wait=False)\n",
    "    IPython.display.display(choice, Start)\n",
    "    create(choice.value)\n",
    "    IPython.display.display(ans)\n",
    "    ans.on_click(on_button)\n",
    "    \n",
    "    \n",
    "IPython.display.display(choice, Start)\n",
    "Start.on_click(display)\n",
    "\n",
    "HTML('''<script>\n",
    "code_show=true; \n",
    "function code_toggle() {\n",
    "    if (code_show){\n",
    "        $('div.cell.code_cell.rendered.selected div.input').hide();\n",
    "    } else {\n",
    "        $('div.cell.code_cell.rendered.selected div.input').show();\n",
    "    }\n",
    "    code_show = !code_show\n",
    "} \n",
    "\n",
    "$( document ).ready(code_toggle);\n",
    "</script>\n",
    "\n",
    "To show/hide this cell's raw code input, click <a href=\"javascript:code_toggle()\">here</a>.''')"
   ]
  },
  {
   "cell_type": "code",
   "execution_count": 7,
   "metadata": {},
   "outputs": [
    {
     "data": {
      "text/html": [
       "<iframe width=\"560\" height=\"315\" src=\"https://www.youtube.com/embed/Y3CZ_JBQ0do?rel=0&amp;start=17\" frameborder=\"0\" allow=\"autoplay; encrypted-media\" allowfullscreen></iframe>"
      ],
      "text/plain": [
       "<IPython.core.display.HTML object>"
      ]
     },
     "execution_count": 7,
     "metadata": {},
     "output_type": "execute_result"
    }
   ],
   "source": [
    "from IPython.display import HTML\n",
    "\n",
    "# Youtube\n",
    "HTML('<iframe width=\"560\" height=\"315\" src=\"https://www.youtube.com/embed/Y3CZ_JBQ0do?rel=0&amp;start=17\" frameborder=\"0\" allow=\"autoplay; encrypted-media\" allowfullscreen></iframe>')"
   ]
  },
  {
   "cell_type": "markdown",
   "metadata": {},
   "source": [
    "[Walk through video](https://www.youtube.com/watch?v=Y3CZ_JBQ0do)"
   ]
  },
  {
   "cell_type": "markdown",
   "metadata": {},
   "source": [
    "Let us start with a number and 3 operations that can be applied to the number:\n",
    "\n",
    ">5\n",
    ">\n",
    ">_*4\n",
    ">\n",
    ">_+7\n",
    ">\n",
    ">_^2"
   ]
  },
  {
   "cell_type": "markdown",
   "metadata": {},
   "source": [
    "What output do we get by doing the addition then the exponent then the multiplication?\n",
    "\n",
    "5+7 = 12\n",
    "\n",
    "12^2 = 144\n",
    "\n",
    "144*4 = 576\n",
    "\n",
    "How can we write all these expressions in one line to get this output?"
   ]
  },
  {
   "cell_type": "code",
   "execution_count": 8,
   "metadata": {},
   "outputs": [
    {
     "data": {
      "text/plain": [
       "576"
      ]
     },
     "execution_count": 8,
     "metadata": {},
     "output_type": "execute_result"
    }
   ],
   "source": [
    "(5+7)**2*4"
   ]
  },
  {
   "cell_type": "markdown",
   "metadata": {},
   "source": [
    "What output do we get by doing exponent then addition then mulitplication?\n",
    "\n",
    "5^2 = 25\n",
    "\n",
    "25+7 = 32\n",
    "\n",
    "32*4 = 128\n",
    "\n",
    "How can we write these expressions in one line to get this output?"
   ]
  },
  {
   "cell_type": "code",
   "execution_count": 9,
   "metadata": {},
   "outputs": [
    {
     "data": {
      "text/plain": [
       "128"
      ]
     },
     "execution_count": 9,
     "metadata": {},
     "output_type": "execute_result"
    }
   ],
   "source": [
    "(5**2+7)*4"
   ]
  },
  {
   "cell_type": "markdown",
   "metadata": {},
   "source": [
    "Why can't these expressions be written as 5+7^2x4 and 5^2+7x4 respectively?\n",
    "what do these expressions output?"
   ]
  },
  {
   "cell_type": "code",
   "execution_count": 10,
   "metadata": {},
   "outputs": [
    {
     "data": {
      "text/plain": [
       "201"
      ]
     },
     "execution_count": 10,
     "metadata": {},
     "output_type": "execute_result"
    }
   ],
   "source": [
    "5+7**2*4"
   ]
  },
  {
   "cell_type": "code",
   "execution_count": 11,
   "metadata": {},
   "outputs": [
    {
     "data": {
      "text/plain": [
       "53"
      ]
     },
     "execution_count": 11,
     "metadata": {},
     "output_type": "execute_result"
    }
   ],
   "source": [
    "5**2+7*4"
   ]
  },
  {
   "cell_type": "markdown",
   "metadata": {},
   "source": [
    "Can you think of another order to write these operations that give a different output?"
   ]
  },
  {
   "cell_type": "code",
   "execution_count": null,
   "metadata": {},
   "outputs": [],
   "source": []
  }
 ],
 "metadata": {
  "kernelspec": {
   "display_name": "Python 3",
   "language": "python",
   "name": "python3"
  },
  "language_info": {
   "codemirror_mode": {
    "name": "ipython",
    "version": 3
   },
   "file_extension": ".py",
   "mimetype": "text/x-python",
   "name": "python",
   "nbconvert_exporter": "python",
   "pygments_lexer": "ipython3",
   "version": "3.6.5"
  }
 },
 "nbformat": 4,
 "nbformat_minor": 2
}
