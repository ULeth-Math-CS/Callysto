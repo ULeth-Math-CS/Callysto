{
 "cells": [
  {
   "cell_type": "markdown",
   "metadata": {},
   "source": [
    "![alt text][top-banner]\n",
    "\n",
    "[top-banner]: ./callysto-top-banner.jpg"
   ]
  },
  {
   "cell_type": "code",
   "execution_count": 41,
   "metadata": {},
   "outputs": [
    {
     "data": {
      "text/html": [
       "\n",
       "<script>\n",
       "  function code_toggle() {\n",
       "    if (code_shown){\n",
       "      $('div.input').hide('500');\n",
       "      $('#toggleButton').val('Show Code')\n",
       "    } else {\n",
       "      $('div.input').show('500');\n",
       "      $('#toggleButton').val('Hide Code')\n",
       "    }\n",
       "    code_shown = !code_shown\n",
       "  }\n",
       "\n",
       "  $( document ).ready(function(){\n",
       "    code_shown=false;\n",
       "    $('div.input').hide()\n",
       "  });\n",
       "</script>\n",
       "<form action=\"javascript:code_toggle()\"><input type=\"submit\" id=\"toggleButton\" value=\"Show Code\"></form>\n"
      ],
      "text/plain": [
       "<IPython.core.display.HTML object>"
      ]
     },
     "metadata": {},
     "output_type": "display_data"
    }
   ],
   "source": [
    "%%html\n",
    "\n",
    "<script>\n",
    "  function code_toggle() {\n",
    "    if (code_shown){\n",
    "      $('div.input').hide('500');\n",
    "      $('#toggleButton').val('Show Code')\n",
    "    } else {\n",
    "      $('div.input').show('500');\n",
    "      $('#toggleButton').val('Hide Code')\n",
    "    }\n",
    "    code_shown = !code_shown\n",
    "  }\n",
    "\n",
    "  $( document ).ready(function(){\n",
    "    code_shown=false;\n",
    "    $('div.input').hide()\n",
    "  });\n",
    "</script>\n",
    "<form action=\"javascript:code_toggle()\"><input type=\"submit\" id=\"toggleButton\" value=\"Show Code\"></form>"
   ]
  },
  {
   "cell_type": "code",
   "execution_count": 42,
   "metadata": {},
   "outputs": [],
   "source": [
    "import numpy as np\n",
    "import matplotlib.mlab as mlab\n",
    "import matplotlib.pyplot as plt\n",
    "from ipywidgets import interact, widgets, Button, Layout\n",
    "from scipy import stats\n",
    "from collections import Counter\n",
    "from array import array\n",
    "from statistics import mode\n",
    "import IPython\n",
    "import pandas\n",
    "import sys\n",
    "from astropy.table import Table\n",
    "import tkinter\n",
    "import csv\n",
    "import pandas as pd\n",
    "from pandas import DataFrame"
   ]
  },
  {
   "cell_type": "markdown",
   "metadata": {},
   "source": [
    "# Effect of Outliers on Central Tendency\n",
    "\n",
    "This notebook focuses on what an outlier is and how it affects central tendency. Remember central tendency means the mean, median, and mode of some data. If you need review on central tendency, check out this previous notebook.\n",
    "\n",
    "Things you will learn in this notebook:\n",
    "* What an outlier is\n",
    "* How an outlier affects mean\n",
    "* How an outlier affects median\n",
    "* How an outlier affects mode\n",
    "* Why outliers can be a problem"
   ]
  },
  {
   "cell_type": "markdown",
   "metadata": {},
   "source": [
    "<img style=\"float: right;\" src=\"CC66_materials/PunnyOutlier.jpg\" width=\"400\" height=\"300\">\n",
    "\n",
    "## What is an outlier?\n",
    "\n",
    "An outlier is a value that \"lies outside\" (is much smaller or larger than) most of the other values in a set of data.\n",
    "\n",
    "Let's look at an example: <br>\n",
    "Here is a data set: $26, 23, 27, 25, 28, 29, 24, 99 $ <br>\n",
    "Lets put it in order: $23, 24, 25, 26, 27, 28, 29, 99$ <br> \n",
    "$99$ is larger than all the other data, by a lot. <br> \n",
    "Therefore, we can call $99$ an outlier."
   ]
  },
  {
   "cell_type": "markdown",
   "metadata": {
    "slideshow": {
     "slide_type": "subslide"
    }
   },
   "source": [
    "## Central tendency\n",
    "\n",
    "First let's look at the central tendency of the example above. \n",
    "\n",
    "Mean = $\\frac{23+24+25+26+27+28+29+99}{8} = \\frac{281}{8} = 35.125$. <br>\n",
    "The median is found between 26 and 27, so the median is 26.5. <br>\n",
    "There is no mode because none are repeated more than once.\n",
    "\n",
    "Then we will remove the outlier (99) and recalculate the central tendency.\n",
    "\n",
    "Mean = $\\frac{23+24+25+26+27+28+29}{7} = \\frac{182}{7} = 26$. <br>\n",
    "The median is the middle number so the median is 26. <br>\n",
    "There is no mode because none are repeated more than once.\n",
    "\n",
    "What changes do you notice? What changed the most?"
   ]
  },
  {
   "cell_type": "markdown",
   "metadata": {},
   "source": [
    "### Try it yourself\n",
    "\n",
    "Here are the ratings of a new restaurant out of 10:\n",
    "\n",
    "$4.5, 7, 15, 3.5, 6, 5, 9, 10, 1$"
   ]
  },
  {
   "cell_type": "code",
   "execution_count": 56,
   "metadata": {},
   "outputs": [
    {
     "name": "stdout",
     "output_type": "stream",
     "text": [
      "Is there an outlier?\n"
     ]
    },
    {
     "data": {
      "application/vnd.jupyter.widget-view+json": {
       "model_id": "83bc88eaf67545fbbcfefbb12db7a15c",
       "version_major": 2,
       "version_minor": 0
      },
      "text/plain": [
       "RadioButtons(options=('Yes', 'No'), value=None)"
      ]
     },
     "metadata": {},
     "output_type": "display_data"
    }
   ],
   "source": [
    "answer622 = widgets.RadioButtons(options=['Yes', 'No'], value = None)\n",
    "answernext = widgets.RadioButtons(options=['1', '10', '15', '-1'], value = None)\n",
    "\n",
    "question622 = 'Is there an outlier?'\n",
    "questionnext = 'Which value is the outlier?'\n",
    "\n",
    "def checknext(d):\n",
    "    IPython.display.clear_output(wait=False)\n",
    "    display(question622, answer622)\n",
    "    display(questionnext, answernext)\n",
    "    if answernext.value == '15':\n",
    "        print(\"You're right! 15 is an outlier because the ratings are only supposed to be out of 10.\")\n",
    "    else:\n",
    "        print(\"Not quite, try again.\")\n",
    "\n",
    "\n",
    "def check622(d):\n",
    "    IPython.display.clear_output(wait=False)\n",
    "    display(question622, answer622)\n",
    "    if answer622.value == 'Yes':\n",
    "        print(\"Correct!\")\n",
    "    else:\n",
    "        print(\"Actually there is an outlier.\")\n",
    "    display(questionnext, answernext)\n",
    "    answernext.observe(checknext, 'value')\n",
    "        \n",
    "IPython.display.clear_output(wait=False)\n",
    "display(question622,answer622 )\n",
    "answer622.observe(check622, 'value')"
   ]
  },
  {
   "cell_type": "code",
   "execution_count": 57,
   "metadata": {},
   "outputs": [
    {
     "data": {
      "text/html": [
       "<html>\n",
       "<head>\n",
       "<script type=\"text/javascript\">\n",
       "<!--\n",
       "function toggle(id) {\n",
       "var e = document.getElementById(id);\n",
       "if(e.style.display == 'none')\n",
       "e.style.display = 'block';\n",
       "else\n",
       "e.style.display = 'none';\n",
       "}\n",
       "//-->\n",
       "</script>\n",
       "</head>\n",
       "\n",
       "<body>\n",
       "<div id=\"question622\">\n",
       " <button id = \"622\"\n",
       "onclick=\"toggle('answer622');\">Solution</button> \n",
       "</div>\n",
       "<div style=\"display:none\" id=\"answer622\">\n",
       "An outlier is a value that does not seem to fit with the rest of the data. <br/>\n",
       "In this case, we are looking at ratings that should be between 0 and 10. <br/>\n",
       "All the values in this data set are within that range except for 15. <br/>\n",
       "So 15 must be the outlier. <br/>\n",
       "\n",
       "Also -1 would be an outlier if it was in the data set, but because it's not then it's not the right answer. <br/>\n",
       "\n",
       "</div>\n",
       "\n",
       "</body>\n",
       "</html>\n"
      ],
      "text/plain": [
       "<IPython.core.display.HTML object>"
      ]
     },
     "metadata": {},
     "output_type": "display_data"
    }
   ],
   "source": [
    "%%html\n",
    "<html>\n",
    "<head>\n",
    "<script type=\"text/javascript\">\n",
    "<!--\n",
    "function toggle(id) {\n",
    "var e = document.getElementById(id);\n",
    "if(e.style.display == 'none')\n",
    "e.style.display = 'block';\n",
    "else\n",
    "e.style.display = 'none';\n",
    "}\n",
    "//-->\n",
    "</script>\n",
    "</head>\n",
    "\n",
    "<body>\n",
    "<div id=\"question622\">\n",
    " <button id = \"622\"\n",
    "onclick=\"toggle('answer622');\">Solution</button> \n",
    "</div>\n",
    "<div style=\"display:none\" id=\"answer622\">\n",
    "An outlier is a value that does not seem to fit with the rest of the data. <br/>\n",
    "In this case, we are looking at ratings that should be between 0 and 10. <br/>\n",
    "All the values in this data set are within that range except for 15. <br/>\n",
    "So 15 must be the outlier. <br/>\n",
    "\n",
    "Also -1 would be an outlier if it was in the data set, but because it's not then it's not the right answer. <br/>\n",
    "\n",
    "</div>\n",
    "\n",
    "</body>\n",
    "</html>"
   ]
  },
  {
   "cell_type": "markdown",
   "metadata": {},
   "source": [
    "## A bigger set of data\n",
    "\n",
    "Let's look at some data about the sodium content (amount of salt) in different common foods. Let's also put the data on a number line. Is there an outlier?"
   ]
  },
  {
   "cell_type": "code",
   "execution_count": 43,
   "metadata": {},
   "outputs": [
    {
     "name": "stdout",
     "output_type": "stream",
     "text": [
      "                             Product   Sodium content\n",
      "0             Tomato sauce (Brand A)              871\n",
      "1             Tomato sauce (Brand B)             1250\n",
      "2                          Soy sauce             6458\n",
      "3                    Tinned tomatoes              270\n",
      "4                      Four bean mix              250\n",
      "5                       Corn kernels              205\n",
      "6                 Mushrooms (tinned)              340\n",
      "7                       Tomato paste              843\n",
      "8                 Chunky pasta sauce              482\n",
      "9                      Chicken stock              521\n",
      "10                        Beef stock              450\n",
      "11                           Peanuts              360\n",
      "12               Beef strogonoff mix              780\n",
      "13            Dry roasted macadamias              340\n",
      "14                           Cashews              510\n",
      "15                            Butter              460\n",
      "16                  Sunflower spread              380\n",
      "17                       Baked beans              290\n",
      "18                     Peanut butter              458\n",
      "19                 French onion soup              335\n",
      "20               Chicken noodle soup              355\n",
      "21                Margarine original              590\n",
      "22                       Pink salmon              600\n",
      "23                 Gravy mix supreme              595\n",
      "24                   Vegetable stock              547\n",
      "25                    Precooked meat             1036\n",
      "26                         Spaghetti              410\n",
      "27  Mixed nuts with green pistachios              190\n",
      "28                        Red salmon              530\n"
     ]
    }
   ],
   "source": [
    "df = pd.read_csv('CC66_materials/exampleDataSource.csv')\n",
    "print(df)"
   ]
  },
  {
   "cell_type": "code",
   "execution_count": 44,
   "metadata": {},
   "outputs": [],
   "source": [
    "data = []\n",
    "with open('CC66_materials/exampleData.csv', 'r') as f:\n",
    "    reader = csv.reader(f)\n",
    "    for row in reader:\n",
    "        data.append(int(row[1]))"
   ]
  },
  {
   "cell_type": "markdown",
   "metadata": {},
   "source": [
    "Now let's calculate the mean, median, and mode using the computer."
   ]
  },
  {
   "cell_type": "code",
   "execution_count": 45,
   "metadata": {},
   "outputs": [
    {
     "name": "stdout",
     "output_type": "stream",
     "text": [
      "Mean:  508.857\n",
      "Median:  459.0\n",
      "Mode: 340 (appeared 2 times.)\n"
     ]
    }
   ],
   "source": [
    "def computeCenTendency(dataset):\n",
    "    \n",
    "    #mean value\n",
    "    mean= np.mean(dataset)\n",
    "    print(\"Mean: \", round(mean,3))\n",
    "\n",
    "    #median value\n",
    "    # First we need to sort the data in ascending order\n",
    "    dataset.sort()\n",
    "    median = np.median(dataset)\n",
    "    print(\"Median: \", round(median,3))\n",
    "    \n",
    "    # Mode\n",
    "    hits = []\n",
    "    for item in dataset:\n",
    "        tally = dataset.count(item)\n",
    "        #Makes a tuple that is the number of huts paired with the relevant number\n",
    "        values = (tally, item)\n",
    "        # Only add one entry for each number in the set\n",
    "        if values not in hits:\n",
    "            hits.append(values)\n",
    "    hits.sort(reverse=True)\n",
    "    if hits[0][0]>hits[1][0]:\n",
    "        print(\"Mode:\", round(hits[0][1],3), \"(appeared\", hits[0][0], \"times.)\")\n",
    "    else:\n",
    "        print(\"There is no mode\")\n",
    "\n",
    "    Counter(dataset)\n",
    "    return mean, median, hits[0][1]\n",
    "\n",
    "centralTendency = []\n",
    "centralTendency = computeCenTendency(data)"
   ]
  },
  {
   "cell_type": "markdown",
   "metadata": {},
   "source": [
    "Now let's show this data in a graph. But not just any graph. We will display it in a histogram. This way we can group together foods that have a similar sodium content into \"bins\". We can change this graph to show how changing the number of bins changes the detail we see on the graph.\n",
    "\n",
    "Can you tell if there's an outlier when there's only a couple bins? How about when there's a lot of bins?"
   ]
  },
  {
   "cell_type": "code",
   "execution_count": 46,
   "metadata": {},
   "outputs": [
    {
     "data": {
      "application/vnd.jupyter.widget-view+json": {
       "model_id": "7f1752f82e2c44ab97a4d022a1310951",
       "version_major": 2,
       "version_minor": 0
      },
      "text/plain": [
       "interactive(children=(IntSlider(value=50, description='num_bins'), Output()), _dom_classes=('widget-interact',…"
      ]
     },
     "metadata": {},
     "output_type": "display_data"
    }
   ],
   "source": [
    "def plotHistogram(x_values, num_bins, xLabel, yLabel, histTitle):\n",
    "    n, bins, patches = plt.hist(x_values, num_bins, facecolor='blue', alpha=0.5)\n",
    "\n",
    "    plt.xlabel(xLabel)\n",
    "    plt.ylabel(yLabel)\n",
    "    plt.title(histTitle)\n",
    "    plt.show()\n",
    "    \n",
    "def callPlottingFunction(num_bins):\n",
    "    print(\"Generating... plot for :\", num_bins)\n",
    "    plotHistogram(data, num_bins , 'Sodium Content', 'values', 'Histogram of 30 products in Australian supermarkets')\n",
    "\n",
    "interact(callPlottingFunction, num_bins=widgets.IntSlider(min=0,max=100,step=1,value=50));"
   ]
  },
  {
   "cell_type": "markdown",
   "metadata": {},
   "source": [
    "When there are a lot of bins, it's really easy to see that there's an outlier. If we look at the data, we know that's soy sauce. So let's remove it and see how the central tendency is affected."
   ]
  },
  {
   "cell_type": "code",
   "execution_count": 47,
   "metadata": {},
   "outputs": [
    {
     "name": "stdout",
     "output_type": "stream",
     "text": [
      "Sodium content read from the file:  [871, 1250, 270, 250, 205, 340, 843, 482, 521, 450, 360, 780, 340, 510, 460, 380, 290, 458, 335, 355, 590, 600, 595, 547, 1036, 410, 190, 530]\n",
      "Mean:  508.857\n",
      "Median:  459.0\n",
      "Mode: 340 (appeared 2 times.)\n"
     ]
    },
    {
     "data": {
      "application/vnd.jupyter.widget-view+json": {
       "model_id": "bf3f0fe02f3b46b68e568881e3320d19",
       "version_major": 2,
       "version_minor": 0
      },
      "text/plain": [
       "interactive(children=(IntSlider(value=50, description='num_bins'), Output()), _dom_classes=('widget-interact',…"
      ]
     },
     "metadata": {},
     "output_type": "display_data"
    }
   ],
   "source": [
    "dataWithoutOutlier = []\n",
    "with open('CC66_materials/exampleData_NoOutlier.csv', 'r') as f:\n",
    "    reader = csv.reader(f)\n",
    "    for row in reader:\n",
    "        dataWithoutOutlier.append(int(row[1]))\n",
    "print(\"Sodium content read from the file: \", dataWithoutOutlier)\n",
    "\n",
    "centralTendencyWithoutOutlier = []\n",
    "centralTendencyWithoutOutlier = computeCenTendency(dataWithoutOutlier)\n",
    "\n",
    "def callPlottingFunctionNoOutlier(num_bins):\n",
    "    print(\"Generating... plot for :\", num_bins)\n",
    "    plotHistogram(dataWithoutOutlier, num_bins , 'Sodium Content', 'values', 'Histogram of 30 products in Australian supermarkets')\n",
    "\n",
    "interact(callPlottingFunctionNoOutlier, num_bins=widgets.IntSlider(min=0,max=100,step=1,value=50));"
   ]
  },
  {
   "cell_type": "markdown",
   "metadata": {},
   "source": [
    "Should soy sauce be excluded though? It is a common food that many people own, so it's not out of place in the data. It's just very salty."
   ]
  },
  {
   "cell_type": "markdown",
   "metadata": {},
   "source": [
    "Now try adding your own data points into this set. Try adding really big and/or really small numbers. You can also add many repeating numbers to change the mode. Just press the button below to add a new outlier. You can add as many as you want."
   ]
  },
  {
   "cell_type": "code",
   "execution_count": 48,
   "metadata": {},
   "outputs": [
    {
     "data": {
      "application/vnd.jupyter.widget-view+json": {
       "model_id": "fd843297ec6149e08c6ea654370f2bb3",
       "version_major": 2,
       "version_minor": 0
      },
      "text/plain": [
       "Button(description='Add Outlier', style=ButtonStyle())"
      ]
     },
     "metadata": {},
     "output_type": "display_data"
    }
   ],
   "source": [
    "global datasetWithOutlier\n",
    "datasetWithOutlier = dataWithoutOutlier\n",
    "\n",
    "add = widgets.Button(description='Add Outlier',disabled=False,button_style='')\n",
    "outlier = widgets.IntText(value=None,description='Outlier:',disabled=False)\n",
    "\n",
    "def addOutlier(a):\n",
    "    global datasetWithOutlier\n",
    "    IPython.display.clear_output()\n",
    "    IPython.display.display(add)\n",
    "    IPython.display.display(outlier)\n",
    "    datasetWithOutlier.append(outlier.value)\n",
    "    print(datasetWithOutlier)\n",
    "    print(\"You can press the button Add Outlier again to add even more outliers!\")\n",
    "\n",
    "def showOutlier(a):\n",
    "    IPython.display.clear_output()\n",
    "    IPython.display.display(add)\n",
    "    IPython.display.display(outlier)\n",
    "    outlier.observe(addOutlier, 'value')\n",
    "    \n",
    "\n",
    "IPython.display.display(add)\n",
    "add.on_click(showOutlier)"
   ]
  },
  {
   "cell_type": "markdown",
   "metadata": {},
   "source": [
    "Now we will compute the central tendency and produce histogram of the dataset with outlier."
   ]
  },
  {
   "cell_type": "code",
   "execution_count": 49,
   "metadata": {},
   "outputs": [
    {
     "data": {
      "application/vnd.jupyter.widget-view+json": {
       "model_id": "a72e609d7e9443d48b230572c1cd78c6",
       "version_major": 2,
       "version_minor": 0
      },
      "text/plain": [
       "Button(description='Calculate', style=ButtonStyle())"
      ]
     },
     "metadata": {},
     "output_type": "display_data"
    }
   ],
   "source": [
    "compute = widgets.Button(description='Calculate',disabled=False,button_style='')\n",
    "global centralTendencyWithOutlier\n",
    "\n",
    "def callPlottingFunctionWithOutlier(num_bins):\n",
    "    print(\"Generating... plot for :\", num_bins)\n",
    "    plotHistogram(datasetWithOutlier, num_bins, 'Sodium Content', 'values', 'Histogram with Outliers')\n",
    "\n",
    "def calculate(a):\n",
    "    global centralTendencyWithOutlier\n",
    "    centralTendencyWithOutlier = computeCenTendency(datasetWithOutlier)\n",
    "    print(centralTendencyWithOutlier)\n",
    "    interact(callPlottingFunctionWithOutlier, num_bins=widgets.IntSlider(min=0,max=100,step=1,value=50));\n",
    "    \n",
    "IPython.display.display(compute)\n",
    "compute.on_click(calculate)"
   ]
  },
  {
   "cell_type": "markdown",
   "metadata": {},
   "source": [
    "**Effects of Outliers :** \n",
    "\n",
    "From the above results and histogram, we see that adding outliers can change the mean dramatically.<br>\n",
    "This is because we need to add all the values to determine the mean value.<br>\n",
    "Outliers are often values that are much larger or smaller than the other values.<br>\n",
    "When we add these values to the sum, the average can change significantly.\n",
    "\n",
    "For the median, we need to consider the middle number(s).<br>\n",
    "Adding an outlier adds a data point at the far end of our data set, and everything else shifts over only one spot.\n",
    "\n",
    "The mode is very unlikely to update, because we define mode by the repetition of values.<br>\n",
    "Input a very large number as an outlier and observe the histogram. <br>\n",
    "You will notice all regular data should be in one particular area and the inputted value is far away. Consider the following table to get the clear idea of the effect of outliers on mean, median and mode."
   ]
  },
  {
   "cell_type": "code",
   "execution_count": 50,
   "metadata": {},
   "outputs": [
    {
     "data": {
      "application/vnd.jupyter.widget-view+json": {
       "model_id": "aa28f6def4334d3795792022329ef239",
       "version_major": 2,
       "version_minor": 0
      },
      "text/plain": [
       "Button(description='Compare', style=ButtonStyle())"
      ]
     },
     "metadata": {},
     "output_type": "display_data"
    }
   ],
   "source": [
    "compare = widgets.Button(description='Compare',disabled=False,button_style='')\n",
    "\n",
    "def compareTendencies(a):\n",
    "    centralTendencyWithoutOutlierArray = np.around(np.asarray(centralTendencyWithoutOutlier), 3)\n",
    "    centralTendencyWithOutlierArray = np.around(np.asarray(centralTendencyWithOutlier), 3) \n",
    "    arr = { 'Central Tendency ':  np.array(['Mean','Median','Mode' ]),\n",
    "            'Before adding outlier ':  np.array([centralTendencyWithoutOutlierArray[0],  centralTendencyWithoutOutlierArray[1], \n",
    "                                            centralTendencyWithoutOutlierArray[2] ]),\n",
    "            'After adding outlier ': np.array([centralTendencyWithOutlierArray[0], centralTendencyWithOutlierArray[1],\n",
    "                                           centralTendencyWithOutlierArray[2]])}\n",
    "    print(Table(arr))\n",
    "    \n",
    "IPython.display.display(compare)\n",
    "compare.on_click(compareTendencies)"
   ]
  },
  {
   "cell_type": "markdown",
   "metadata": {},
   "source": [
    "##  <font color='Blue'>  Section 6 </font> \n",
    "## Test yourself "
   ]
  },
  {
   "cell_type": "markdown",
   "metadata": {},
   "source": [
    "### 6.1 Practice Problem : Easy\n",
    "Consider the following GPAs of\tstudents\tfrom two\tsemesters\tof\tStat-0000 course: \n",
    "<br>\n",
    "Semester $1: 3.1, 3.2, 2.8,  2.9, 3.0, 3.4,\t2.3, 3.2, 2.1,\t3.5$ <br>\n",
    "Semester $2: 2.2, 4.1,\t2.6, 2.7, 3.8, 2.8,\t2.4, 3.2, 2.7,\t2.9$\n"
   ]
  },
  {
   "cell_type": "code",
   "execution_count": 51,
   "metadata": {},
   "outputs": [],
   "source": [
    "def display(question, answerList):\n",
    "    print(question)\n",
    "    IPython.display.display(answerList)"
   ]
  },
  {
   "cell_type": "code",
   "execution_count": 52,
   "metadata": {},
   "outputs": [
    {
     "name": "stdout",
     "output_type": "stream",
     "text": [
      "What will be the mean of semester 1?\n"
     ]
    },
    {
     "data": {
      "application/vnd.jupyter.widget-view+json": {
       "model_id": "d96231228e7d45afbaa5fcf2f59186b5",
       "version_major": 2,
       "version_minor": 0
      },
      "text/plain": [
       "RadioButtons(description='Choices:', options=('2.95', '3', '3.05', '3.10', 'None of the above'), value=None)"
      ]
     },
     "metadata": {},
     "output_type": "display_data"
    }
   ],
   "source": [
    "question611 = \"What will be the mean of semester 1?\"\n",
    "answer611 = widgets.RadioButtons(options=['2.95', '3', '3.05', '3.10', 'None of the above'],\n",
    "                             value= None, description='Choices:')\n",
    "\n",
    "\n",
    "def checkAnswer(a):\n",
    "    IPython.display.clear_output(wait=False)\n",
    "    display(question611, answer611)\n",
    "    if answer611.value == '3.05':\n",
    "        print(\"Correct Answer!\")\n",
    "    else:\n",
    "        print(\"Wrong answer! Try again.\")\n",
    "\n",
    "display(question611, answer611)\n",
    "\n",
    "answer611.observe(checkAnswer, 'value')"
   ]
  },
  {
   "cell_type": "code",
   "execution_count": 53,
   "metadata": {},
   "outputs": [
    {
     "data": {
      "text/html": [
       "<html>\n",
       "<head>\n",
       "<script type=\"text/javascript\">\n",
       "\n",
       "<!--\n",
       "function toggle(id) {\n",
       "var e = document.getElementById(id);\n",
       "if(e.style.display == 'none')\n",
       "e.style.display = 'block';\n",
       "else\n",
       "e.style.display = 'none';\n",
       "}\n",
       "//-->\n",
       "</script>\n",
       "</head>\n",
       "\n",
       "<body>\n",
       "<div id=\"question611\">\n",
       " <button id = \"611\"\n",
       "onclick=\"toggle('answer611');\">Solution</button> \n",
       "</div>\n",
       "<div style=\"display:none\" id=\"answer611\">\n",
       "To find out the mean of semester 1 we divide the sum of all data by the numbers of data.<br/>\n",
       "Therefore, Mean $=  \\frac{3.1 + 3.2 + 2.8 + 2.9 + 3.0 + 3.4 + 2.3 + 3.2 + 2.1 + 3.5}{10} = 3.05$ <br/>\n",
       "\n",
       "\n",
       "</div>\n",
       "\n",
       "</body>\n",
       "</html>\n"
      ],
      "text/plain": [
       "<IPython.core.display.HTML object>"
      ]
     },
     "metadata": {},
     "output_type": "display_data"
    }
   ],
   "source": [
    "%%HTML\n",
    "<html>\n",
    "<head>\n",
    "<script type=\"text/javascript\">\n",
    "\n",
    "<!--\n",
    "function toggle(id) {\n",
    "var e = document.getElementById(id);\n",
    "if(e.style.display == 'none')\n",
    "e.style.display = 'block';\n",
    "else\n",
    "e.style.display = 'none';\n",
    "}\n",
    "//-->\n",
    "</script>\n",
    "</head>\n",
    "\n",
    "<body>\n",
    "<div id=\"question611\">\n",
    " <button id = \"611\"\n",
    "onclick=\"toggle('answer611');\">Solution</button> \n",
    "</div>\n",
    "<div style=\"display:none\" id=\"answer611\">\n",
    "To find out the mean of semester 1 we divide the sum of all data by the numbers of data.<br/>\n",
    "Therefore, Mean $=  \\frac{3.1 + 3.2 + 2.8 + 2.9 + 3.0 + 3.4 + 2.3 + 3.2 + 2.1 + 3.5}{10} = 3.05$ <br/>\n",
    "\n",
    "\n",
    "</div>\n",
    "\n",
    "</body>\n",
    "</html>"
   ]
  },
  {
   "cell_type": "code",
   "execution_count": 54,
   "metadata": {},
   "outputs": [
    {
     "name": "stdout",
     "output_type": "stream",
     "text": [
      " What will be the median of semester 2? \n"
     ]
    },
    {
     "data": {
      "application/vnd.jupyter.widget-view+json": {
       "model_id": "c63f7808c1f64d5bacf83958984bdd4e",
       "version_major": 2,
       "version_minor": 0
      },
      "text/plain": [
       "RadioButtons(description='Choices:', options=('2.43', '2.5', '2.67', '2.75', 'None of the above'), value=None)"
      ]
     },
     "metadata": {},
     "output_type": "display_data"
    }
   ],
   "source": [
    "question612 = \" What will be the median of semester 2? \"\n",
    "\n",
    "answer612 = widgets.RadioButtons(options=['2.43', '2.5', '2.67', '2.75', 'None of the above'],\n",
    "                              value = None, description='Choices:')\n",
    "\n",
    "def check612(b):\n",
    "    IPython.display.clear_output(wait=False)\n",
    "    display(question612, answer612)\n",
    "    if answer612.value == '2.75':\n",
    "        print(\"Correct Answer!\")\n",
    "    else:\n",
    "         print(\"Wrong answer! Try again.\")\n",
    "\n",
    "IPython.display.clear_output(wait=False)\n",
    "display(question612, answer612)\n",
    "answer612.observe(check612, 'value')"
   ]
  },
  {
   "cell_type": "code",
   "execution_count": 55,
   "metadata": {},
   "outputs": [
    {
     "data": {
      "text/html": [
       "<html>\n",
       "<head>\n",
       "<script type=\"text/javascript\">\n",
       "<!--\n",
       "function toggle(id) {\n",
       "var e = document.getElementById(id);\n",
       "if(e.style.display == 'none')\n",
       "e.style.display = 'block';\n",
       "else\n",
       "e.style.display = 'none';\n",
       "}\n",
       "//-->\n",
       "</script>\n",
       "</head>\n",
       "\n",
       "<body>\n",
       "<div id=\"question612\">\n",
       " <button id = \"612\"\n",
       "onclick=\"toggle('answer612');\">Solution</button> \n",
       "</div>\n",
       "<div style=\"display:none\" id=\"answer612\">\n",
       "To determine the median at first we need to sort the data. <br/>\n",
       "Sorted data,<br/>\n",
       "Semester  $2: 2.2,2.4,2.6,2.7,2.7,2.8,2.9,3.2,3.8,4.1$ <br/>\n",
       "There are $10$ numbers in the data set, so the average of $5^{th}$ and $6^{th}$ will be the median. <br/>\n",
       "So, the Median $= \\frac{2.7 + 2.8}{2} = 2.75$ <br/>\n",
       "\n",
       "\n",
       "</div>\n",
       "\n",
       "</body>\n",
       "</html>\n"
      ],
      "text/plain": [
       "<IPython.core.display.HTML object>"
      ]
     },
     "metadata": {},
     "output_type": "display_data"
    }
   ],
   "source": [
    "%%html\n",
    "<html>\n",
    "<head>\n",
    "<script type=\"text/javascript\">\n",
    "<!--\n",
    "function toggle(id) {\n",
    "var e = document.getElementById(id);\n",
    "if(e.style.display == 'none')\n",
    "e.style.display = 'block';\n",
    "else\n",
    "e.style.display = 'none';\n",
    "}\n",
    "//-->\n",
    "</script>\n",
    "</head>\n",
    "\n",
    "<body>\n",
    "<div id=\"question612\">\n",
    " <button id = \"612\"\n",
    "onclick=\"toggle('answer612');\">Solution</button> \n",
    "</div>\n",
    "<div style=\"display:none\" id=\"answer612\">\n",
    "To determine the median at first we need to sort the data. <br/>\n",
    "Sorted data,<br/>\n",
    "Semester  $2: 2.2,2.4,2.6,2.7,2.7,2.8,2.9,3.2,3.8,4.1$ <br/>\n",
    "There are $10$ numbers in the data set, so the average of $5^{th}$ and $6^{th}$ will be the median. <br/>\n",
    "So, the Median $= \\frac{2.7 + 2.8}{2} = 2.75$ <br/>\n",
    "\n",
    "\n",
    "</div>\n",
    "\n",
    "</body>\n",
    "</html>"
   ]
  },
  {
   "cell_type": "markdown",
   "metadata": {},
   "source": [
    "### 6.2 Practice Problem : Medium\n"
   ]
  },
  {
   "cell_type": "markdown",
   "metadata": {},
   "source": [
    "### 6.3 Practice Problem : Hard\n",
    "A student has gotten the following marks on his tests: 87, 95, 76, and 88. He wants an 85 or better overall."
   ]
  },
  {
   "cell_type": "code",
   "execution_count": 58,
   "metadata": {},
   "outputs": [
    {
     "name": "stdout",
     "output_type": "stream",
     "text": [
      "6.3.1 What is the minimum mark he must get on the last test in order to achieve that average?\n"
     ]
    },
    {
     "data": {
      "application/vnd.jupyter.widget-view+json": {
       "model_id": "29778ea80fb24382b2bf1f526b9e2ed7",
       "version_major": 2,
       "version_minor": 0
      },
      "text/plain": [
       "RadioButtons(description='Choices:', options=('78', '78.5', '79', '80', 'None of the above'), value=None)"
      ]
     },
     "metadata": {},
     "output_type": "display_data"
    }
   ],
   "source": [
    "answer631 = widgets.RadioButtons(options=['78', '78.5', '79', '80', 'None of the above'],\n",
    "                             value =None, description='Choices:')\n",
    "\n",
    "question631 = \"6.3.1 What is the minimum mark he must get on the last test in order to achieve that average?\"\n",
    "\n",
    "def check631(e):\n",
    "    IPython.display.clear_output(wait=False)\n",
    "    display(question631, answer631)\n",
    "    if answer631.value == '79':\n",
    "        print(\"Correct Answer!\")\n",
    "    else:\n",
    "        print(\"Wrong answer! Try again.\")\n",
    "        \n",
    "IPython.display.clear_output(wait=False)\n",
    "display(question631, answer631)\n",
    "answer631.observe(check631, 'value')"
   ]
  },
  {
   "cell_type": "code",
   "execution_count": 59,
   "metadata": {},
   "outputs": [
    {
     "data": {
      "text/html": [
       "<html>\n",
       "<head>\n",
       "<script type=\"text/javascript\">\n",
       "<!--\n",
       "function toggle(id) {\n",
       "var e = document.getElementById(id);\n",
       "if(e.style.display == 'none')\n",
       "e.style.display = 'block';\n",
       "else\n",
       "e.style.display = 'none';\n",
       "}\n",
       "//-->\n",
       "</script>\n",
       "</head>\n",
       "\n",
       "<body>\n",
       "<div id=\"question631\">\n",
       " <button id = \"631\"\n",
       "onclick=\"toggle('answer631');\">Solution</button> \n",
       "</div>\n",
       "<div style=\"display:none\" id=\"answer631\">\n",
       "The minimum mark is what we need to find. To find the average of all his marks (the known ones, plus the unknown one), \n",
       "we have to add up all the grades, and then divide by the number of marks. Since we do not have a score for the last test yet, \n",
       "we will use a variable to stand for this unknown value: \"x\". Then computation to find the desired average is: <br />\n",
       "\n",
       "the first step : (87 + 95 + 76 + 88 + x) ÷ 5 = 85 <br />\n",
       "Multiplying through by 5 and simplifying, we get: <br/>\n",
       "the next step : 87 + 95 + 76 + 88 + x = 425 <br />\n",
       "the next step : 346 + x = 425 <br />\n",
       "the final step : x = 79 <br />\n",
       "so, he needs to get at least a 79 on the last test.\n",
       "</div>\n",
       "\n",
       "</body>\n",
       "</html>\n"
      ],
      "text/plain": [
       "<IPython.core.display.HTML object>"
      ]
     },
     "metadata": {},
     "output_type": "display_data"
    }
   ],
   "source": [
    "%%html\n",
    "<html>\n",
    "<head>\n",
    "<script type=\"text/javascript\">\n",
    "<!--\n",
    "function toggle(id) {\n",
    "var e = document.getElementById(id);\n",
    "if(e.style.display == 'none')\n",
    "e.style.display = 'block';\n",
    "else\n",
    "e.style.display = 'none';\n",
    "}\n",
    "//-->\n",
    "</script>\n",
    "</head>\n",
    "\n",
    "<body>\n",
    "<div id=\"question631\">\n",
    " <button id = \"631\"\n",
    "onclick=\"toggle('answer631');\">Solution</button> \n",
    "</div>\n",
    "<div style=\"display:none\" id=\"answer631\">\n",
    "The minimum mark is what we need to find. To find the average of all his marks (the known ones, plus the unknown one), \n",
    "we have to add up all the grades, and then divide by the number of marks. Since we do not have a score for the last test yet, \n",
    "we will use a variable to stand for this unknown value: \"x\". Then computation to find the desired average is: <br />\n",
    "\n",
    "the first step : (87 + 95 + 76 + 88 + x) ÷ 5 = 85 <br />\n",
    "Multiplying through by 5 and simplifying, we get: <br/>\n",
    "the next step : 87 + 95 + 76 + 88 + x = 425 <br />\n",
    "the next step : 346 + x = 425 <br />\n",
    "the final step : x = 79 <br />\n",
    "so, he needs to get at least a 79 on the last test.\n",
    "</div>\n",
    "\n",
    "</body>\n",
    "</html>"
   ]
  },
  {
   "cell_type": "code",
   "execution_count": 60,
   "metadata": {},
   "outputs": [
    {
     "name": "stdout",
     "output_type": "stream",
     "text": [
      "6.4.1 What is the lower and upper limit of outliers of semester 2?\n"
     ]
    },
    {
     "data": {
      "application/vnd.jupyter.widget-view+json": {
       "model_id": "bccf91d46b1042dd99655b82b073207d",
       "version_major": 2,
       "version_minor": 0
      },
      "text/plain": [
       "RadioButtons(description='Choices:', options=('1.6 and 4.1', '1.7 and 3.9', '2.2 and 3.8', '1.7 and 4.1', 'Non…"
      ]
     },
     "metadata": {},
     "output_type": "display_data"
    }
   ],
   "source": [
    "answer641 = widgets.RadioButtons(options=['1.6 and 4.1', '1.7 and 3.9', '2.2 and 3.8', '1.7 and 4.1', 'None of the above'],\n",
    "                              value=None,description='Choices:')\n",
    "\n",
    "question641 = \"6.4.1 What is the lower and upper limit of outliers of semester 2?\"\n",
    "\n",
    "\n",
    "def checkAnswer641(f):\n",
    "    IPython.display.clear_output(wait=False)\n",
    "    display(question641, answer641 )\n",
    "    if answer641.value == '1.7 and 4.1':\n",
    "        print(\"Correct Answer!\")\n",
    "    else:\n",
    "        print(\"Wrong answer! Try again.\")\n",
    "\n",
    "IPython.display.clear_output(wait=False)\n",
    "display(question641, answer641)\n",
    "answer641.observe(checkAnswer641, 'value')"
   ]
  },
  {
   "cell_type": "code",
   "execution_count": 61,
   "metadata": {},
   "outputs": [
    {
     "data": {
      "text/html": [
       "<html>\n",
       "<head>\n",
       "<script type=\"text/javascript\">\n",
       "<!--\n",
       "function toggle(id) {\n",
       "var e = document.getElementById(id);\n",
       "if(e.style.display == 'none')\n",
       "e.style.display = 'block';\n",
       "else\n",
       "e.style.display = 'none';\n",
       "}\n",
       "//-->\n",
       "</script>\n",
       "</head>\n",
       "\n",
       "<body>\n",
       "<div id=\"question641\">\n",
       " <button id = \"641\"\n",
       "onclick=\"toggle('answer641');\">Solution</button> \n",
       "</div>\n",
       "<div style=\"display:none\" id=\"answer641\">\n",
       "At first we have to determine the first median$(M_1)$ and third median $(M_3)$ of semester 2.<br/> \n",
       "Data for first Median :  2.2, 2.4, 2.6, 2.7, 2.7 <br/>\n",
       "    So the first median or first quartile is 2.6 <br/>\n",
       "Similarly, $M_3$ is 3.2 <br/>\n",
       "So, the inter median/quartile range (IQR) = 3.2 - 2.6 = 0.6 <br/>\n",
       "Now we can compute the limits for outliers. <br/>\n",
       "\n",
       "Lower limit : $M_1 - 1.5\\times IQR = 2.6 - 1.5 \\times 0.6 = 1.7$ <br/>\n",
       "Similarly, using second equation we can determine the upper limit, <br/>\n",
       "Upper limit : $ 3.2 + 1.5 \\times 0.6 = 4.1$\n",
       "</div>\n",
       "\n",
       "</body>\n",
       "</html>\n"
      ],
      "text/plain": [
       "<IPython.core.display.HTML object>"
      ]
     },
     "metadata": {},
     "output_type": "display_data"
    }
   ],
   "source": [
    "%%html\n",
    "<html>\n",
    "<head>\n",
    "<script type=\"text/javascript\">\n",
    "<!--\n",
    "function toggle(id) {\n",
    "var e = document.getElementById(id);\n",
    "if(e.style.display == 'none')\n",
    "e.style.display = 'block';\n",
    "else\n",
    "e.style.display = 'none';\n",
    "}\n",
    "//-->\n",
    "</script>\n",
    "</head>\n",
    "\n",
    "<body>\n",
    "<div id=\"question641\">\n",
    " <button id = \"641\"\n",
    "onclick=\"toggle('answer641');\">Solution</button> \n",
    "</div>\n",
    "<div style=\"display:none\" id=\"answer641\">\n",
    "At first we have to determine the first median$(M_1)$ and third median $(M_3)$ of semester 2.<br/> \n",
    "Data for first Median :  2.2, 2.4, 2.6, 2.7, 2.7 <br/>\n",
    "    So the first median or first quartile is 2.6 <br/>\n",
    "Similarly, $M_3$ is 3.2 <br/>\n",
    "So, the inter median/quartile range (IQR) = 3.2 - 2.6 = 0.6 <br/>\n",
    "Now we can compute the limits for outliers. <br/>\n",
    "\n",
    "Lower limit : $M_1 - 1.5\\times IQR = 2.6 - 1.5 \\times 0.6 = 1.7$ <br/>\n",
    "Similarly, using second equation we can determine the upper limit, <br/>\n",
    "Upper limit : $ 3.2 + 1.5 \\times 0.6 = 4.1$\n",
    "</div>\n",
    "\n",
    "</body>\n",
    "</html>"
   ]
  },
  {
   "cell_type": "code",
   "execution_count": 62,
   "metadata": {},
   "outputs": [
    {
     "name": "stdout",
     "output_type": "stream",
     "text": [
      "6.4.2 What is the Potential outliers  of semester 1?\n"
     ]
    },
    {
     "data": {
      "application/vnd.jupyter.widget-view+json": {
       "model_id": "50d3725f8ec546249d3525f745b1cb59",
       "version_major": 2,
       "version_minor": 0
      },
      "text/plain": [
       "RadioButtons(description='Choices:', options=('2.2', '3.8', '1.7', '2.1', 'None of the above'), value=None)"
      ]
     },
     "metadata": {},
     "output_type": "display_data"
    }
   ],
   "source": [
    "answer642 = widgets.RadioButtons(options=['2.2', '3.8', '1.7', '2.1', 'None of the above'],\n",
    "                             value = None,  description='Choices:')\n",
    "\n",
    "question642 = \"6.4.2 What is the Potential outliers  of semester 1?\"\n",
    "\n",
    "def check642(g):\n",
    "    IPython.display.clear_output(wait=False)\n",
    "    display(question642, answer642)\n",
    "    if answer642.value == '2.1':\n",
    "        print(\"Correct Answer!\")\n",
    "    else:\n",
    "        print(\"Wrong answer! Try again.\")\n",
    "\n",
    "IPython.display.clear_output(wait=False)\n",
    "display(question642, answer642)\n",
    "answer642.observe(check642, 'value')"
   ]
  },
  {
   "cell_type": "code",
   "execution_count": 63,
   "metadata": {},
   "outputs": [
    {
     "data": {
      "text/html": [
       "<html>\n",
       "<head>\n",
       "<script type=\"text/javascript\">\n",
       "<!--\n",
       "function toggle(id) {\n",
       "var e = document.getElementById(id);\n",
       "if(e.style.display == 'none')\n",
       "e.style.display = 'block';\n",
       "else\n",
       "e.style.display = 'none';\n",
       "}\n",
       "//-->\n",
       "</script>\n",
       "</head>\n",
       "\n",
       "<body>\n",
       "<div id=\"question642\">\n",
       " <button id = \"642\"\n",
       "onclick=\"toggle('answer642');\">Solution</button> \n",
       "</div>\n",
       "<div style=\"display:none\" id=\"answer642\">\n",
       "In our previous question we determined the lower and upper limit of semester 2. Similarly if we calculate the limits for semester 1 \n",
       "we find that the lower and upper limits are 2.2 and 3.8 respectively. So as per the definition of outliers, the numbers that are \n",
       "lower than the lower limit and higher than the upper limit should be the potential outliers.<br />\n",
       "\n",
       "So from the given data of semester 1 we can find that 2.1 is less than the lower limit (2.2)and all other GPAs are in between lower\n",
       "and upper limit.  <br/>Hence, 2.1 is potential outlier.\n",
       "</div>\n",
       "\n",
       "</body>\n",
       "</html>\n"
      ],
      "text/plain": [
       "<IPython.core.display.HTML object>"
      ]
     },
     "metadata": {},
     "output_type": "display_data"
    }
   ],
   "source": [
    "%%html\n",
    "<html>\n",
    "<head>\n",
    "<script type=\"text/javascript\">\n",
    "<!--\n",
    "function toggle(id) {\n",
    "var e = document.getElementById(id);\n",
    "if(e.style.display == 'none')\n",
    "e.style.display = 'block';\n",
    "else\n",
    "e.style.display = 'none';\n",
    "}\n",
    "//-->\n",
    "</script>\n",
    "</head>\n",
    "\n",
    "<body>\n",
    "<div id=\"question642\">\n",
    " <button id = \"642\"\n",
    "onclick=\"toggle('answer642');\">Solution</button> \n",
    "</div>\n",
    "<div style=\"display:none\" id=\"answer642\">\n",
    "In our previous question we determined the lower and upper limit of semester 2. Similarly if we calculate the limits for semester 1 \n",
    "we find that the lower and upper limits are 2.2 and 3.8 respectively. So as per the definition of outliers, the numbers that are \n",
    "lower than the lower limit and higher than the upper limit should be the potential outliers.<br />\n",
    "\n",
    "So from the given data of semester 1 we can find that 2.1 is less than the lower limit (2.2)and all other GPAs are in between lower\n",
    "and upper limit.  <br/>Hence, 2.1 is potential outlier.\n",
    "</div>\n",
    "\n",
    "</body>\n",
    "</html>"
   ]
  },
  {
   "cell_type": "markdown",
   "metadata": {},
   "source": [
    "## Conclusion\n",
    "\n",
    "In this notebook, we learned how an outlier affects central tendency. \n",
    "\n",
    "When an outlier is added to (or removed from) a data set:\n",
    "* Mean changes the most \n",
    "* Median changes a little bit\n",
    "* Mode doesn't change unless there are multiple outliers with the same value\n",
    "\n",
    "Also, not all larger or smaller values should be called outliers and excluded from data. That depends more on context. "
   ]
  },
  {
   "cell_type": "markdown",
   "metadata": {},
   "source": [
    "![alt text][bottom-banner]\n",
    "\n",
    "[bottom-banner]: ./callysto-bottom-banner.jpg"
   ]
  }
 ],
 "metadata": {
  "kernelspec": {
   "display_name": "Python 3",
   "language": "python",
   "name": "python3"
  },
  "language_info": {
   "codemirror_mode": {
    "name": "ipython",
    "version": 3
   },
   "file_extension": ".py",
   "mimetype": "text/x-python",
   "name": "python",
   "nbconvert_exporter": "python",
   "pygments_lexer": "ipython3",
   "version": "3.6.8"
  }
 },
 "nbformat": 4,
 "nbformat_minor": 2
}
