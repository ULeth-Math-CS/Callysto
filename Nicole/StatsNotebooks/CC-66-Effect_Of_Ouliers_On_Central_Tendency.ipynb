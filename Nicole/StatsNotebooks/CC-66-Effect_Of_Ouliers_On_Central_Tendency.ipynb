{
 "cells": [
  {
   "cell_type": "markdown",
   "metadata": {},
   "source": [
    "![alt text][top-banner]\n",
    "\n",
    "[top-banner]: ./callysto-top-banner.jpg"
   ]
  },
  {
   "cell_type": "code",
   "execution_count": 37,
   "metadata": {},
   "outputs": [
    {
     "data": {
      "text/html": [
       "\n",
       "<script>\n",
       "  function code_toggle() {\n",
       "    if (code_shown){\n",
       "      $('div.input').hide('500');\n",
       "      $('#toggleButton').val('Show Code')\n",
       "    } else {\n",
       "      $('div.input').show('500');\n",
       "      $('#toggleButton').val('Hide Code')\n",
       "    }\n",
       "    code_shown = !code_shown\n",
       "  }\n",
       "\n",
       "  $( document ).ready(function(){\n",
       "    code_shown=false;\n",
       "    $('div.input').hide()\n",
       "  });\n",
       "</script>\n",
       "<form action=\"javascript:code_toggle()\"><input type=\"submit\" id=\"toggleButton\" value=\"Show Code\"></form>\n"
      ],
      "text/plain": [
       "<IPython.core.display.HTML object>"
      ]
     },
     "metadata": {},
     "output_type": "display_data"
    }
   ],
   "source": [
    "%%html\n",
    "\n",
    "<script>\n",
    "  function code_toggle() {\n",
    "    if (code_shown){\n",
    "      $('div.input').hide('500');\n",
    "      $('#toggleButton').val('Show Code')\n",
    "    } else {\n",
    "      $('div.input').show('500');\n",
    "      $('#toggleButton').val('Hide Code')\n",
    "    }\n",
    "    code_shown = !code_shown\n",
    "  }\n",
    "\n",
    "  $( document ).ready(function(){\n",
    "    code_shown=false;\n",
    "    $('div.input').hide()\n",
    "  });\n",
    "</script>\n",
    "<form action=\"javascript:code_toggle()\"><input type=\"submit\" id=\"toggleButton\" value=\"Show Code\"></form>"
   ]
  },
  {
   "cell_type": "code",
   "execution_count": 38,
   "metadata": {},
   "outputs": [],
   "source": [
    "import numpy as np\n",
    "import matplotlib.mlab as mlab\n",
    "import matplotlib.pyplot as plt\n",
    "from ipywidgets import interact, widgets, Button, Layout\n",
    "from scipy import stats\n",
    "from collections import Counter\n",
    "from array import array\n",
    "from statistics import mode\n",
    "import IPython\n",
    "import pandas\n",
    "import sys\n",
    "from astropy.table import Table\n",
    "import tkinter\n",
    "import csv\n",
    "import pandas as pd\n",
    "from pandas import DataFrame"
   ]
  },
  {
   "cell_type": "markdown",
   "metadata": {},
   "source": [
    "# Effect of Outliers on Central Tendency\n",
    "\n",
    "This notebook focuses on what an outlier is and how it affects central tendency. Remember central tendency means the mean, median, and mode of some data. If you need review on central tendency, check out this previous notebook.\n",
    "\n",
    "Things you will learn in this notebook:\n",
    "* What an outlier is\n",
    "* How an outlier affects mean\n",
    "* How an outlier affects median\n",
    "* How an outlier affects mode\n",
    "* Why outliers can be a problem"
   ]
  },
  {
   "cell_type": "markdown",
   "metadata": {},
   "source": [
    "<img style=\"float: right;\" src=\"CC66_materials/PunnyOutlier.jpg\" width=\"400\" height=\"300\">\n",
    "\n",
    "## What is an outlier?\n",
    "\n",
    "An outlier is a value that \"lies outside\" (is much smaller or larger than) most of the other values in a set of data.\n",
    "\n",
    "Let's look at an example: <br>\n",
    "Here is a data set: $26, 23, 27, 25, 28, 29, 24, 99 $ <br>\n",
    "Lets put it in order: $23, 24, 25, 26, 27, 28, 29, 99$ <br> \n",
    "$99$ is larger than all the other data, by a lot. <br> \n",
    "Therefore, we can call $99$ an outlier.\n",
    "\n",
    "An outlier is also data that is out of place, or that might be a mistake when it was collected."
   ]
  },
  {
   "cell_type": "markdown",
   "metadata": {
    "slideshow": {
     "slide_type": "subslide"
    }
   },
   "source": [
    "## Central tendency\n",
    "\n",
    "First let's look at the central tendency of the example above. \n",
    "\n",
    "Mean = $\\frac{23+24+25+26+27+28+29+99}{8} = \\frac{281}{8} = 35.125$. <br>\n",
    "The median is found between 26 and 27, so the median is 26.5. <br>\n",
    "There is no mode because none are repeated more than once.\n",
    "\n",
    "Then we will remove the outlier (99) and recalculate the central tendency.\n",
    "\n",
    "Mean = $\\frac{23+24+25+26+27+28+29}{7} = \\frac{182}{7} = 26$. <br>\n",
    "The median is the middle number so the median is 26. <br>\n",
    "There is no mode because none are repeated more than once.\n",
    "\n",
    "What changes do you notice? What changed the most?"
   ]
  },
  {
   "cell_type": "markdown",
   "metadata": {},
   "source": [
    "### Try it yourself\n",
    "\n",
    "Here are the ratings of a new restaurant out of 10:\n",
    "\n",
    "$4.5, 7, 15, 3.5, 6, 5, 9, 10, 1$"
   ]
  },
  {
   "cell_type": "code",
   "execution_count": 39,
   "metadata": {},
   "outputs": [
    {
     "name": "stdout",
     "output_type": "stream",
     "text": [
      "Is there an outlier?\n"
     ]
    },
    {
     "data": {
      "application/vnd.jupyter.widget-view+json": {
       "model_id": "97ae7fc849454b69850ab8be5c58e4ae",
       "version_major": 2,
       "version_minor": 0
      },
      "text/plain": [
       "RadioButtons(options=('Yes', 'No'), value=None)"
      ]
     },
     "metadata": {},
     "output_type": "display_data"
    }
   ],
   "source": [
    "answer622 = widgets.RadioButtons(options=['Yes', 'No'], value = None)\n",
    "answernext = widgets.RadioButtons(options=['1', '10', '15', '-1'], value = None)\n",
    "\n",
    "question622 = 'Is there an outlier?'\n",
    "questionnext = 'Which value is the outlier?'\n",
    "\n",
    "def checknext(d):\n",
    "    IPython.display.clear_output(wait=False)\n",
    "    display(question622, answer622)\n",
    "    display(questionnext, answernext)\n",
    "    if answernext.value == '15':\n",
    "        print(\"You're right! 15 is an outlier because the ratings are only supposed to be out of 10.\")\n",
    "    else:\n",
    "        print(\"Not quite, try again.\")\n",
    "\n",
    "\n",
    "def check622(d):\n",
    "    IPython.display.clear_output(wait=False)\n",
    "    display(question622, answer622)\n",
    "    if answer622.value == 'Yes':\n",
    "        print(\"Correct!\")\n",
    "    else:\n",
    "        print(\"Actually there is an outlier.\")\n",
    "    display(questionnext, answernext)\n",
    "    answernext.observe(checknext, 'value')\n",
    "        \n",
    "IPython.display.clear_output(wait=False)\n",
    "display(question622,answer622 )\n",
    "answer622.observe(check622, 'value')"
   ]
  },
  {
   "cell_type": "code",
   "execution_count": 40,
   "metadata": {},
   "outputs": [
    {
     "data": {
      "text/html": [
       "<html>\n",
       "<head>\n",
       "<script type=\"text/javascript\">\n",
       "<!--\n",
       "function toggle(id) {\n",
       "var e = document.getElementById(id);\n",
       "if(e.style.display == 'none')\n",
       "e.style.display = 'block';\n",
       "else\n",
       "e.style.display = 'none';\n",
       "}\n",
       "//-->\n",
       "</script>\n",
       "</head>\n",
       "\n",
       "<body>\n",
       "<div id=\"question622\">\n",
       " <button id = \"622\"\n",
       "onclick=\"toggle('answer622');\">Solution</button> \n",
       "</div>\n",
       "<div style=\"display:none\" id=\"answer622\">\n",
       "An outlier is a value that does not seem to fit with the rest of the data. <br/>\n",
       "In this case, we are looking at ratings that should be between 0 and 10. <br/>\n",
       "All the values in this data set are within that range except for 15. <br/>\n",
       "So 15 must be the outlier. <br/>\n",
       "\n",
       "Also -1 would be an outlier if it was in the data set, but because it's not then it's not the right answer. <br/>\n",
       "\n",
       "</div>\n",
       "\n",
       "</body>\n",
       "</html>\n"
      ],
      "text/plain": [
       "<IPython.core.display.HTML object>"
      ]
     },
     "metadata": {},
     "output_type": "display_data"
    }
   ],
   "source": [
    "%%html\n",
    "<html>\n",
    "<head>\n",
    "<script type=\"text/javascript\">\n",
    "<!--\n",
    "function toggle(id) {\n",
    "var e = document.getElementById(id);\n",
    "if(e.style.display == 'none')\n",
    "e.style.display = 'block';\n",
    "else\n",
    "e.style.display = 'none';\n",
    "}\n",
    "//-->\n",
    "</script>\n",
    "</head>\n",
    "\n",
    "<body>\n",
    "<div id=\"question622\">\n",
    " <button id = \"622\"\n",
    "onclick=\"toggle('answer622');\">Solution</button> \n",
    "</div>\n",
    "<div style=\"display:none\" id=\"answer622\">\n",
    "An outlier is a value that does not seem to fit with the rest of the data. <br/>\n",
    "In this case, we are looking at ratings that should be between 0 and 10. <br/>\n",
    "All the values in this data set are within that range except for 15. <br/>\n",
    "So 15 must be the outlier. <br/>\n",
    "\n",
    "Also -1 would be an outlier if it was in the data set, but because it's not then it's not the right answer. <br/>\n",
    "\n",
    "</div>\n",
    "\n",
    "</body>\n",
    "</html>"
   ]
  },
  {
   "cell_type": "markdown",
   "metadata": {},
   "source": [
    "## A bigger set of data\n",
    "\n",
    "Let's look at some data about the sodium content (amount of salt) in different common foods. Is there an outlier?\n",
    "\n",
    "<img style=\"float: center;\" src=\"CC66_materials/walking-food.jpg\" width=\"500\" height=\"200\">"
   ]
  },
  {
   "cell_type": "code",
   "execution_count": 41,
   "metadata": {},
   "outputs": [
    {
     "name": "stdout",
     "output_type": "stream",
     "text": [
      "                             Product   Sodium content\n",
      "0             Tomato sauce (Brand A)              871\n",
      "1             Tomato sauce (Brand B)             1250\n",
      "2                          Soy sauce             6458\n",
      "3                    Tinned tomatoes              270\n",
      "4                      Four bean mix              250\n",
      "5                       Corn kernels              205\n",
      "6                 Mushrooms (tinned)              340\n",
      "7                       Tomato paste              843\n",
      "8                 Chunky pasta sauce              482\n",
      "9                      Chicken stock              521\n",
      "10                        Beef stock              450\n",
      "11                           Peanuts              360\n",
      "12               Beef strogonoff mix              780\n",
      "13            Dry roasted macadamias              340\n",
      "14                           Cashews              510\n",
      "15                            Butter              460\n",
      "16                  Sunflower spread              380\n",
      "17                       Baked beans              290\n",
      "18                     Peanut butter              458\n",
      "19                 French onion soup              335\n",
      "20               Chicken noodle soup              355\n",
      "21                Margarine original              590\n",
      "22                       Pink salmon              600\n",
      "23                 Gravy mix supreme              595\n",
      "24                   Vegetable stock              547\n",
      "25                    Precooked meat             1036\n",
      "26                         Spaghetti              410\n",
      "27  Mixed nuts with green pistachios              190\n",
      "28                        Red salmon              530\n"
     ]
    }
   ],
   "source": [
    "df = pd.read_csv('CC66_materials/exampleDataSource.csv')\n",
    "print(df)"
   ]
  },
  {
   "cell_type": "code",
   "execution_count": 42,
   "metadata": {},
   "outputs": [],
   "source": [
    "data = []\n",
    "with open('CC66_materials/exampleData.csv', 'r') as f:\n",
    "    reader = csv.reader(f)\n",
    "    for row in reader:\n",
    "        data.append(int(row[1]))"
   ]
  },
  {
   "cell_type": "markdown",
   "metadata": {},
   "source": [
    "Now let's calculate the mean, median, and mode using the computer."
   ]
  },
  {
   "cell_type": "code",
   "execution_count": 43,
   "metadata": {},
   "outputs": [
    {
     "name": "stdout",
     "output_type": "stream",
     "text": [
      "Mean:  508.857\n",
      "Median:  459.0\n",
      "Mode: 340 (appeared 2 times.)\n"
     ]
    }
   ],
   "source": [
    "def computeCenTendency(dataset):\n",
    "    \n",
    "    #mean value\n",
    "    mean= np.mean(dataset)\n",
    "    print(\"Mean: \", round(mean,3))\n",
    "\n",
    "    #median value\n",
    "    # First we need to sort the data in ascending order\n",
    "    dataset.sort()\n",
    "    median = np.median(dataset)\n",
    "    print(\"Median: \", round(median,3))\n",
    "    \n",
    "    # Mode\n",
    "    hits = []\n",
    "    for item in dataset:\n",
    "        tally = dataset.count(item)\n",
    "        #Makes a tuple that is the number of huts paired with the relevant number\n",
    "        values = (tally, item)\n",
    "        # Only add one entry for each number in the set\n",
    "        if values not in hits:\n",
    "            hits.append(values)\n",
    "    hits.sort(reverse=True)\n",
    "    if hits[0][0]>hits[1][0]:\n",
    "        print(\"Mode:\", round(hits[0][1],3), \"(appeared\", hits[0][0], \"times.)\")\n",
    "    else:\n",
    "        print(\"There is no mode\")\n",
    "\n",
    "    Counter(dataset)\n",
    "    return mean, median, hits[0][1]\n",
    "\n",
    "centralTendency = []\n",
    "centralTendency = computeCenTendency(data)"
   ]
  },
  {
   "cell_type": "markdown",
   "metadata": {},
   "source": [
    "Now let's show this data in a graph. But not just any graph. We will display it in a histogram. This way we can group together foods that have a similar sodium content into \"bins\". You can control how many bins are on the graph by using the slider below. Look how the graph changes.\n",
    "\n",
    "Can you tell if there's an outlier when there's only a couple bins? How about when there's a lot of bins?"
   ]
  },
  {
   "cell_type": "code",
   "execution_count": 44,
   "metadata": {},
   "outputs": [
    {
     "data": {
      "application/vnd.jupyter.widget-view+json": {
       "model_id": "326b807bed6a418796c13a425372fa82",
       "version_major": 2,
       "version_minor": 0
      },
      "text/plain": [
       "interactive(children=(IntSlider(value=50, description='num_bins'), Output()), _dom_classes=('widget-interact',…"
      ]
     },
     "metadata": {},
     "output_type": "display_data"
    }
   ],
   "source": [
    "def plotHistogram(x_values, num_bins, xLabel, yLabel, histTitle):\n",
    "    n, bins, patches = plt.hist(x_values, num_bins, facecolor='blue', alpha=0.5)\n",
    "\n",
    "    plt.xlabel(xLabel)\n",
    "    plt.ylabel(yLabel)\n",
    "    plt.title(histTitle)\n",
    "    plt.show()\n",
    "    \n",
    "def callPlottingFunction(num_bins):\n",
    "    print(\"Generating... plot for :\", num_bins)\n",
    "    plotHistogram(data, num_bins , 'Sodium Content', 'values', 'Histogram of 30 products in Australian supermarkets')\n",
    "\n",
    "interact(callPlottingFunction, num_bins=widgets.IntSlider(min=0,max=100,step=1,value=50));"
   ]
  },
  {
   "cell_type": "markdown",
   "metadata": {},
   "source": [
    "When there are a lot of bins, it's really easy to see that there's an outlier. If we look at the data, we know that's soy sauce. So let's remove it and see how the central tendency is affected."
   ]
  },
  {
   "cell_type": "code",
   "execution_count": 45,
   "metadata": {},
   "outputs": [
    {
     "name": "stdout",
     "output_type": "stream",
     "text": [
      "Sodium content read from the file:  [871, 1250, 270, 250, 205, 340, 843, 482, 521, 450, 360, 780, 340, 510, 460, 380, 290, 458, 335, 355, 590, 600, 595, 547, 1036, 410, 190, 530]\n",
      "Mean:  508.857\n",
      "Median:  459.0\n",
      "Mode: 340 (appeared 2 times.)\n"
     ]
    },
    {
     "data": {
      "application/vnd.jupyter.widget-view+json": {
       "model_id": "0b3c39c8e866458b895e3b0271e72433",
       "version_major": 2,
       "version_minor": 0
      },
      "text/plain": [
       "interactive(children=(IntSlider(value=50, description='num_bins'), Output()), _dom_classes=('widget-interact',…"
      ]
     },
     "metadata": {},
     "output_type": "display_data"
    }
   ],
   "source": [
    "dataWithoutOutlier = []\n",
    "with open('CC66_materials/exampleData_NoOutlier.csv', 'r') as f:\n",
    "    reader = csv.reader(f)\n",
    "    for row in reader:\n",
    "        dataWithoutOutlier.append(int(row[1]))\n",
    "print(\"Sodium content read from the file: \", dataWithoutOutlier)\n",
    "\n",
    "centralTendencyWithoutOutlier = []\n",
    "centralTendencyWithoutOutlier = computeCenTendency(dataWithoutOutlier)\n",
    "\n",
    "def callPlottingFunctionNoOutlier(num_bins):\n",
    "    print(\"Generating... plot for :\", num_bins)\n",
    "    plotHistogram(dataWithoutOutlier, num_bins , 'Sodium Content', 'values', 'Histogram of 30 products in Australian supermarkets')\n",
    "\n",
    "interact(callPlottingFunctionNoOutlier, num_bins=widgets.IntSlider(min=0,max=100,step=1,value=50));"
   ]
  },
  {
   "cell_type": "markdown",
   "metadata": {},
   "source": [
    "Should soy sauce be excluded though? It is a common food that many people own, so it's not out of place in the data. It's just very salty.\n",
    "\n",
    "**An outlier should really be out of place in your data set, not just a large or small value.**\n",
    "\n",
    "-------"
   ]
  },
  {
   "cell_type": "markdown",
   "metadata": {},
   "source": [
    "#### Now try adding your own data points into this set. \n",
    "\n",
    "Try adding really big and/or really small numbers. You can also add many repeating numbers to change the mode. Just press the button below to add a new outlier. You can add as many as you want."
   ]
  },
  {
   "cell_type": "code",
   "execution_count": 46,
   "metadata": {},
   "outputs": [
    {
     "data": {
      "application/vnd.jupyter.widget-view+json": {
       "model_id": "bf8bad6b45294eb0bd53ea38b80f816d",
       "version_major": 2,
       "version_minor": 0
      },
      "text/plain": [
       "Button(description='Add Outlier', style=ButtonStyle())"
      ]
     },
     "metadata": {},
     "output_type": "display_data"
    }
   ],
   "source": [
    "global datasetWithOutlier\n",
    "datasetWithOutlier = dataWithoutOutlier\n",
    "\n",
    "add = widgets.Button(description='Add Outlier',disabled=False,button_style='')\n",
    "outlier = widgets.IntText(value=None,description='Outlier:',disabled=False)\n",
    "\n",
    "def addOutlier(a):\n",
    "    global datasetWithOutlier\n",
    "    IPython.display.clear_output()\n",
    "    IPython.display.display(add)\n",
    "    IPython.display.display(outlier)\n",
    "    datasetWithOutlier.append(outlier.value)\n",
    "    print(datasetWithOutlier)\n",
    "    print(\"You can press the button Add Outlier again to add even more outliers!\")\n",
    "\n",
    "def showOutlier(a):\n",
    "    IPython.display.clear_output()\n",
    "    IPython.display.display(add)\n",
    "    IPython.display.display(outlier)\n",
    "    outlier.observe(addOutlier, 'value')\n",
    "    \n",
    "\n",
    "IPython.display.display(add)\n",
    "add.on_click(showOutlier)"
   ]
  },
  {
   "cell_type": "markdown",
   "metadata": {},
   "source": [
    "Now we will compute the central tendency and produce histogram of the dataset with outlier."
   ]
  },
  {
   "cell_type": "code",
   "execution_count": 47,
   "metadata": {},
   "outputs": [
    {
     "data": {
      "application/vnd.jupyter.widget-view+json": {
       "model_id": "39273c321d4a4ce68e9137c7d214aeff",
       "version_major": 2,
       "version_minor": 0
      },
      "text/plain": [
       "Button(description='Calculate', style=ButtonStyle())"
      ]
     },
     "metadata": {},
     "output_type": "display_data"
    }
   ],
   "source": [
    "compute = widgets.Button(description='Calculate',disabled=False,button_style='')\n",
    "global centralTendencyWithOutlier\n",
    "\n",
    "def callPlottingFunctionWithOutlier(num_bins):\n",
    "    print(\"Generating... plot for :\", num_bins)\n",
    "    plotHistogram(datasetWithOutlier, num_bins, 'Sodium Content', 'values', 'Histogram with Outliers')\n",
    "\n",
    "def calculate(a):\n",
    "    global centralTendencyWithOutlier\n",
    "    centralTendencyWithOutlier = computeCenTendency(datasetWithOutlier)\n",
    "    print(centralTendencyWithOutlier)\n",
    "    interact(callPlottingFunctionWithOutlier, num_bins=widgets.IntSlider(min=0,max=100,step=1,value=50));\n",
    "    \n",
    "IPython.display.display(compute)\n",
    "compute.on_click(calculate)"
   ]
  },
  {
   "cell_type": "markdown",
   "metadata": {},
   "source": [
    "Click the button compare to see the central tendency before your outliers next to the central tendency after your outliers are added. How do your outliers change the central thendency?"
   ]
  },
  {
   "cell_type": "code",
   "execution_count": 48,
   "metadata": {},
   "outputs": [
    {
     "data": {
      "application/vnd.jupyter.widget-view+json": {
       "model_id": "43f38816890d41f59aa98515adedb69b",
       "version_major": 2,
       "version_minor": 0
      },
      "text/plain": [
       "Button(description='Compare', style=ButtonStyle())"
      ]
     },
     "metadata": {},
     "output_type": "display_data"
    }
   ],
   "source": [
    "compare = widgets.Button(description='Compare',disabled=False,button_style='')\n",
    "\n",
    "def compareTendencies(a):\n",
    "    centralTendencyWithoutOutlierArray = np.around(np.asarray(centralTendencyWithoutOutlier), 3)\n",
    "    centralTendencyWithOutlierArray = np.around(np.asarray(centralTendencyWithOutlier), 3) \n",
    "    arr = { 'Central Tendency ':  np.array(['Mean','Median','Mode' ]),\n",
    "            'Before adding outlier ':  np.array([centralTendencyWithoutOutlierArray[0],  centralTendencyWithoutOutlierArray[1], \n",
    "                                            centralTendencyWithoutOutlierArray[2] ]),\n",
    "            'After adding outlier ': np.array([centralTendencyWithOutlierArray[0], centralTendencyWithOutlierArray[1],\n",
    "                                           centralTendencyWithOutlierArray[2]])}\n",
    "    print(Table(arr))\n",
    "    \n",
    "IPython.display.display(compare)\n",
    "compare.on_click(compareTendencies)"
   ]
  },
  {
   "cell_type": "markdown",
   "metadata": {},
   "source": [
    "*Please note that if you press these buttons out of order, you might get errors.<br>\n",
    "If that happens, just select the box with the error then press 'shift' and 'enter' at the same time.*"
   ]
  },
  {
   "cell_type": "markdown",
   "metadata": {},
   "source": [
    "### Effects of Outliers \n",
    "\n",
    "##### Mean\n",
    "From the above results and histogram, we see that adding outliers can change the mean dramatically.<br>\n",
    "This is because we need to add all the values to determine the mean value.<br>\n",
    "Outliers are often values that are much larger or smaller than the other values.<br>\n",
    "When we add these values to the sum, the average can change a lot.\n",
    "\n",
    "##### Median\n",
    "For the median, we need to consider the middle number(s).<br>\n",
    "Adding one outlier adds a single point at the far end of our data set, so everything else shifts over only one spot. <br>\n",
    "The median might change or might not.\n",
    "\n",
    "##### Mode\n",
    "The mode is very unlikely to change, because mode is the most repeated value.<br>\n",
    "Unless you add many outliers, all with the same value, the mode probably won't change."
   ]
  },
  {
   "cell_type": "markdown",
   "metadata": {},
   "source": [
    "-------------- \n",
    "\n",
    "## Test yourself "
   ]
  },
  {
   "cell_type": "markdown",
   "metadata": {},
   "source": [
    "### Question 1\n",
    "\n",
    "The purple tornades played 8 games this season and these are their scores.<br>\n",
    "15, 10, 18, 11, 1, 18, 25, 12"
   ]
  },
  {
   "cell_type": "code",
   "execution_count": 49,
   "metadata": {},
   "outputs": [
    {
     "name": "stdout",
     "output_type": "stream",
     "text": [
      "Which of these values could be outliers?\n"
     ]
    },
    {
     "data": {
      "application/vnd.jupyter.widget-view+json": {
       "model_id": "504b5f86c3594aadb48bee933058ae33",
       "version_major": 2,
       "version_minor": 0
      },
      "text/plain": [
       "RadioButtons(description='Choices:', options=('25 and 18', '1', '25 and 1', '1 and 10', '25', 'None of these')…"
      ]
     },
     "metadata": {},
     "output_type": "display_data"
    }
   ],
   "source": [
    "answer642 = widgets.RadioButtons(options=['25 and 18', '1', '25 and 1', '1 and 10', '25', 'None of these'],\n",
    "                             value = None,  description='Choices:')\n",
    "\n",
    "question642 = \"Which of these values could be outliers?\"\n",
    "\n",
    "def check642(g):\n",
    "    IPython.display.clear_output(wait=False)\n",
    "    display(question642, answer642)\n",
    "    if answer642.value == '25 and 1':\n",
    "        print(\"That's right!\")\n",
    "    else:\n",
    "        print(\"Not quite. Try again.\")\n",
    "\n",
    "IPython.display.clear_output(wait=False)\n",
    "display(question642, answer642)\n",
    "answer642.observe(check642, 'value')"
   ]
  },
  {
   "cell_type": "code",
   "execution_count": 50,
   "metadata": {},
   "outputs": [
    {
     "data": {
      "text/html": [
       "<html>\n",
       "<head>\n",
       "<script type=\"text/javascript\">\n",
       "<!--\n",
       "function toggle(id) {\n",
       "var e = document.getElementById(id);\n",
       "if(e.style.display == 'none')\n",
       "e.style.display = 'block';\n",
       "else\n",
       "e.style.display = 'none';\n",
       "}\n",
       "//-->\n",
       "</script>\n",
       "</head>\n",
       "\n",
       "<body>\n",
       "<div id=\"question642\">\n",
       " <button id = \"642\"\n",
       "onclick=\"toggle('answer642');\">Solution</button> \n",
       "</div>\n",
       "<div style=\"display:none\" id=\"answer642\">\n",
       "Outliers are values which are much bigger or smaller than the rest of the data.<br />\n",
       "Since there is only one value in the 20s, which is 25, that might be an outlier.<br/>\n",
       "Also there is only one value less than 10, which is 1, so that might also be an outlier.<br/>\n",
       "\n",
       "Everything else is pretty close together.<br>\n",
       "<br>\n",
       "We do not know for sure if these are real outliers, but they could be, so we call them potential outliers. <br>\n",
       "\n",
       "</div>\n",
       "\n",
       "</body>\n",
       "</html>\n"
      ],
      "text/plain": [
       "<IPython.core.display.HTML object>"
      ]
     },
     "metadata": {},
     "output_type": "display_data"
    }
   ],
   "source": [
    "%%html\n",
    "<html>\n",
    "<head>\n",
    "<script type=\"text/javascript\">\n",
    "<!--\n",
    "function toggle(id) {\n",
    "var e = document.getElementById(id);\n",
    "if(e.style.display == 'none')\n",
    "e.style.display = 'block';\n",
    "else\n",
    "e.style.display = 'none';\n",
    "}\n",
    "//-->\n",
    "</script>\n",
    "</head>\n",
    "\n",
    "<body>\n",
    "<div id=\"question642\">\n",
    " <button id = \"642\"\n",
    "onclick=\"toggle('answer642');\">Solution</button> \n",
    "</div>\n",
    "<div style=\"display:none\" id=\"answer642\">\n",
    "Outliers are values which are much bigger or smaller than the rest of the data.<br />\n",
    "Since there is only one value in the 20s, which is 25, that might be an outlier.<br/>\n",
    "Also there is only one value less than 10, which is 1, so that might also be an outlier.<br/>\n",
    "\n",
    "Everything else is pretty close together.<br>\n",
    "<br>\n",
    "We do not know for sure if these are real outliers, but they could be, so we call them potential outliers. <br>\n",
    "\n",
    "</div>\n",
    "\n",
    "</body>\n",
    "</html>"
   ]
  },
  {
   "cell_type": "markdown",
   "metadata": {},
   "source": [
    "### Question 2\n",
    "\n",
    "Sam's class recorded the height of 10 the students in the class in centimeters. This is the data they got:<br>\n",
    "120, 125, 133, 146, 180, 152, 154, 138, 122, 140<br>\n",
    "The current mean height of these 10 students is 141 cm.<br>\n",
    "The current median height is 139 cm. <br>"
   ]
  },
  {
   "cell_type": "code",
   "execution_count": 51,
   "metadata": {},
   "outputs": [],
   "source": [
    "def display(question, answerList):\n",
    "    print(question)\n",
    "    IPython.display.display(answerList)"
   ]
  },
  {
   "cell_type": "code",
   "execution_count": 52,
   "metadata": {},
   "outputs": [
    {
     "name": "stdout",
     "output_type": "stream",
     "text": [
      " If we say that 180 cm is an outlier, what will happen to the central tendency?\n"
     ]
    },
    {
     "data": {
      "application/vnd.jupyter.widget-view+json": {
       "model_id": "8058e3a7dc2345069d322c4574df43f1",
       "version_major": 2,
       "version_minor": 0
      },
      "text/plain": [
       "RadioButtons(description='Choices:', options=('mean will increase', 'median will stay the same', 'mean will de…"
      ]
     },
     "metadata": {},
     "output_type": "display_data"
    }
   ],
   "source": [
    "question611 = \" If we say that 180 cm is an outlier, what will happen to the central tendency?\"\n",
    "answer611 = widgets.RadioButtons(options=['mean will increase', 'median will stay the same', 'mean will decrease', 'None of the above'],\n",
    "                             value= None, description='Choices:')\n",
    "\n",
    "\n",
    "def checkAnswer(a):\n",
    "    IPython.display.clear_output(wait=False)\n",
    "    display(question611, answer611)\n",
    "    if answer611.value == 'mean will decrease':\n",
    "        print(\"Correct Answer!\")\n",
    "    else:\n",
    "        print(\"Sorry, that's not right! Try again.\")\n",
    "\n",
    "display(question611, answer611)\n",
    "\n",
    "answer611.observe(checkAnswer, 'value')"
   ]
  },
  {
   "cell_type": "code",
   "execution_count": 53,
   "metadata": {},
   "outputs": [
    {
     "data": {
      "text/html": [
       "<html>\n",
       "<head>\n",
       "<script type=\"text/javascript\">\n",
       "\n",
       "<!--\n",
       "function toggle(id) {\n",
       "var e = document.getElementById(id);\n",
       "if(e.style.display == 'none')\n",
       "e.style.display = 'block';\n",
       "else\n",
       "e.style.display = 'none';\n",
       "}\n",
       "//-->\n",
       "</script>\n",
       "</head>\n",
       "\n",
       "<body>\n",
       "<div id=\"question611\">\n",
       " <button id = \"611\"\n",
       "onclick=\"toggle('answer611');\">Solution</button> \n",
       "</div>\n",
       "<div style=\"display:none\" id=\"answer611\">\n",
       "Since we are saying that the outlier is 180 cm and that is larger than the rest of the data, the mean will decrease.  <br/>\n",
       "If the outlier was smaller than the rest of the data, the mean would increase. <br/>\n",
       "<br/>\n",
       "Since there was 10 values, the median was the average between the 5th and 6th values when the list is sorted. <br/>\n",
       "But if we remove one value, then the median will become the 5th value which is smaller than the average of the 5th and 6th values. <br/>\n",
       "This is only because those 2 values are not the same number, or else the median would stay the same.\n",
       "\n",
       "\n",
       "</div>\n",
       "\n",
       "</body>\n",
       "</html>\n"
      ],
      "text/plain": [
       "<IPython.core.display.HTML object>"
      ]
     },
     "metadata": {},
     "output_type": "display_data"
    }
   ],
   "source": [
    "%%HTML\n",
    "<html>\n",
    "<head>\n",
    "<script type=\"text/javascript\">\n",
    "\n",
    "<!--\n",
    "function toggle(id) {\n",
    "var e = document.getElementById(id);\n",
    "if(e.style.display == 'none')\n",
    "e.style.display = 'block';\n",
    "else\n",
    "e.style.display = 'none';\n",
    "}\n",
    "//-->\n",
    "</script>\n",
    "</head>\n",
    "\n",
    "<body>\n",
    "<div id=\"question611\">\n",
    " <button id = \"611\"\n",
    "onclick=\"toggle('answer611');\">Solution</button> \n",
    "</div>\n",
    "<div style=\"display:none\" id=\"answer611\">\n",
    "Since we are saying that the outlier is 180 cm and that is larger than the rest of the data, the mean will decrease.  <br/>\n",
    "If the outlier was smaller than the rest of the data, the mean would increase. <br/>\n",
    "<br/>\n",
    "Since there was 10 values, the median was the average between the 5th and 6th values when the list is sorted. <br/>\n",
    "But if we remove one value, then the median will become the 5th value which is smaller than the average of the 5th and 6th values. <br/>\n",
    "This is only because those 2 values are not the same number, or else the median would stay the same.\n",
    "\n",
    "\n",
    "</div>\n",
    "\n",
    "</body>\n",
    "</html>"
   ]
  },
  {
   "cell_type": "markdown",
   "metadata": {},
   "source": [
    "### Question 3\n",
    "\n",
    "A teacher collected the grades of one test and these are the results:\n",
    "100, 78, 98, 78, 78, 75, 55, 86, 100\n",
    "Also 4 students missed the test so they got a grade of zero for that test."
   ]
  },
  {
   "cell_type": "code",
   "execution_count": 54,
   "metadata": {},
   "outputs": [
    {
     "name": "stdout",
     "output_type": "stream",
     "text": [
      " What is the mode grade for all the students in the test? \n"
     ]
    },
    {
     "data": {
      "application/vnd.jupyter.widget-view+json": {
       "model_id": "74c2113e639f4cbca73e7b4d76eb17e6",
       "version_major": 2,
       "version_minor": 0
      },
      "text/plain": [
       "RadioButtons(description='Choices:', options=('78', '100', '0', '78 and 100', 'There is none'), value=None)"
      ]
     },
     "metadata": {},
     "output_type": "display_data"
    }
   ],
   "source": [
    "question612 = \" What is the mode grade for all the students in the test? \"\n",
    "\n",
    "answer612 = widgets.RadioButtons(options=['78', '100', '0', '78 and 100', 'There is none'],\n",
    "                              value = None, description='Choices:')\n",
    "\n",
    "def check612(b):\n",
    "    IPython.display.clear_output(wait=False)\n",
    "    display(question612, answer612)\n",
    "    if answer612.value == '0':\n",
    "        print(\"That's right!\")\n",
    "    else:\n",
    "         print(\"Sorry, that's not right, try again. Don't forget the mode is the value that repeats the most.\")\n",
    "\n",
    "IPython.display.clear_output(wait=False)\n",
    "display(question612, answer612)\n",
    "answer612.observe(check612, 'value')"
   ]
  },
  {
   "cell_type": "code",
   "execution_count": 55,
   "metadata": {},
   "outputs": [
    {
     "data": {
      "text/html": [
       "<html>\n",
       "<head>\n",
       "<script type=\"text/javascript\">\n",
       "<!--\n",
       "function toggle(id) {\n",
       "var e = document.getElementById(id);\n",
       "if(e.style.display == 'none')\n",
       "e.style.display = 'block';\n",
       "else\n",
       "e.style.display = 'none';\n",
       "}\n",
       "//-->\n",
       "</script>\n",
       "</head>\n",
       "\n",
       "<body>\n",
       "<div id=\"question612\">\n",
       " <button id = \"612\"\n",
       "onclick=\"toggle('answer612');\">Solution</button> \n",
       "</div>\n",
       "<div style=\"display:none\" id=\"answer612\">\n",
       "Since there is 3 78s, you might think that 78 would be the mode. <br/>\n",
       "But we are also counting the 4 studetns who got a zero. <br/>\n",
       "Therefore theres 4 zeros in the dataset, so the mode is 0. <br/>\n",
       "\n",
       "\n",
       "</div>\n",
       "\n",
       "</body>\n",
       "</html>\n"
      ],
      "text/plain": [
       "<IPython.core.display.HTML object>"
      ]
     },
     "metadata": {},
     "output_type": "display_data"
    }
   ],
   "source": [
    "%%html\n",
    "<html>\n",
    "<head>\n",
    "<script type=\"text/javascript\">\n",
    "<!--\n",
    "function toggle(id) {\n",
    "var e = document.getElementById(id);\n",
    "if(e.style.display == 'none')\n",
    "e.style.display = 'block';\n",
    "else\n",
    "e.style.display = 'none';\n",
    "}\n",
    "//-->\n",
    "</script>\n",
    "</head>\n",
    "\n",
    "<body>\n",
    "<div id=\"question612\">\n",
    " <button id = \"612\"\n",
    "onclick=\"toggle('answer612');\">Solution</button> \n",
    "</div>\n",
    "<div style=\"display:none\" id=\"answer612\">\n",
    "Since there is 3 78s, you might think that 78 would be the mode. <br/>\n",
    "But we are also counting the 4 studetns who got a zero. <br/>\n",
    "Therefore theres 4 zeros in the dataset, so the mode is 0. <br/>\n",
    "\n",
    "\n",
    "</div>\n",
    "\n",
    "</body>\n",
    "</html>"
   ]
  },
  {
   "cell_type": "code",
   "execution_count": 60,
   "metadata": {},
   "outputs": [
    {
     "name": "stdout",
     "output_type": "stream",
     "text": [
      "If we don't count the students who missed the test, does the mode change? If so, to what?\n"
     ]
    },
    {
     "data": {
      "application/vnd.jupyter.widget-view+json": {
       "model_id": "bb11a0f512084cb1a30f57b43066b0b2",
       "version_major": 2,
       "version_minor": 0
      },
      "text/plain": [
       "RadioButtons(description='Choices:', options=('Yes, to 100', 'Yes, to 78', 'Yes, to 0', 'No, it stays the same…"
      ]
     },
     "metadata": {},
     "output_type": "display_data"
    }
   ],
   "source": [
    "answer613 = widgets.RadioButtons(options=['Yes, to 100', 'Yes, to 78', 'Yes, to 0', 'No, it stays the same'],\n",
    "                             value =None, description='Choices:')\n",
    "\n",
    "question613 = \"If we don't count the students who missed the test, does the mode change? If so, to what?\"\n",
    "\n",
    "def check613(e):\n",
    "    IPython.display.clear_output(wait=False)\n",
    "    display(question613, answer613)\n",
    "    if answer613.value == 'Yes, to 78':\n",
    "        print(\"You are correct!\")\n",
    "    else:\n",
    "        print(\"Not quite, Try again.\")\n",
    "        \n",
    "IPython.display.clear_output(wait=False)\n",
    "display(question613, answer613)\n",
    "answer613.observe(check613, 'value')"
   ]
  },
  {
   "cell_type": "code",
   "execution_count": 57,
   "metadata": {},
   "outputs": [
    {
     "data": {
      "text/html": [
       "<html>\n",
       "<head>\n",
       "<script type=\"text/javascript\">\n",
       "<!--\n",
       "function toggle(id) {\n",
       "var e = document.getElementById(id);\n",
       "if(e.style.display == 'none')\n",
       "e.style.display = 'block';\n",
       "else\n",
       "e.style.display = 'none';\n",
       "}\n",
       "//-->\n",
       "</script>\n",
       "</head>\n",
       "\n",
       "<body>\n",
       "<div id=\"question613\">\n",
       " <button id = \"613\"\n",
       "onclick=\"toggle('answer613');\">Solution</button> \n",
       "</div>\n",
       "<div style=\"display:none\" id=\"answer613\">\n",
       "\n",
       "When we remove the students who missed the test, since they made the mode 0, the mode will definitely change. <br />\n",
       "Since there is 3 78s and only 2 100s, the new mode will be 78. <br/>\n",
       "If there were 3 100s, then the mode would change to 78 and 100.\n",
       "\n",
       "</div>\n",
       "\n",
       "</body>\n",
       "</html>\n"
      ],
      "text/plain": [
       "<IPython.core.display.HTML object>"
      ]
     },
     "metadata": {},
     "output_type": "display_data"
    }
   ],
   "source": [
    "%%html\n",
    "<html>\n",
    "<head>\n",
    "<script type=\"text/javascript\">\n",
    "<!--\n",
    "function toggle(id) {\n",
    "var e = document.getElementById(id);\n",
    "if(e.style.display == 'none')\n",
    "e.style.display = 'block';\n",
    "else\n",
    "e.style.display = 'none';\n",
    "}\n",
    "//-->\n",
    "</script>\n",
    "</head>\n",
    "\n",
    "<body>\n",
    "<div id=\"question613\">\n",
    " <button id = \"613\"\n",
    "onclick=\"toggle('answer613');\">Solution</button> \n",
    "</div>\n",
    "<div style=\"display:none\" id=\"answer613\">\n",
    "\n",
    "When we remove the students who missed the test, since they made the mode 0, the mode will definitely change. <br />\n",
    "Since there is 3 78s and only 2 100s, the new mode will be 78. <br/>\n",
    "If there were 3 100s, then the mode would change to 78 and 100.\n",
    "\n",
    "</div>\n",
    "\n",
    "</body>\n",
    "</html>"
   ]
  },
  {
   "cell_type": "markdown",
   "metadata": {},
   "source": [
    "### Extra Hard Question\n",
    "\n",
    "A student has gotten the following marks on his tests: 87, 95, 76, and 88. He wants a mean that is at least 85 and only has one more test."
   ]
  },
  {
   "cell_type": "code",
   "execution_count": 58,
   "metadata": {},
   "outputs": [
    {
     "name": "stdout",
     "output_type": "stream",
     "text": [
      "What is the minimum mark he must get on the last test in order to achieve that average?\n"
     ]
    },
    {
     "data": {
      "application/vnd.jupyter.widget-view+json": {
       "model_id": "e670c20de15d40208ebf7220c2241255",
       "version_major": 2,
       "version_minor": 0
      },
      "text/plain": [
       "RadioButtons(description='Choices:', options=('78', '78.5', '79', '80', 'None of the above'), value=None)"
      ]
     },
     "metadata": {},
     "output_type": "display_data"
    }
   ],
   "source": [
    "answer631 = widgets.RadioButtons(options=['78', '78.5', '79', '80', 'None of the above'],\n",
    "                             value =None, description='Choices:')\n",
    "\n",
    "question631 = \"What is the minimum mark he must get on the last test in order to achieve that average?\"\n",
    "\n",
    "def check631(e):\n",
    "    IPython.display.clear_output(wait=False)\n",
    "    display(question631, answer631)\n",
    "    if answer631.value == '79':\n",
    "        print(\"Correct Answer!\")\n",
    "    else:\n",
    "        print(\"Wrong answer! Try again.\")\n",
    "        \n",
    "IPython.display.clear_output(wait=False)\n",
    "display(question631, answer631)\n",
    "answer631.observe(check631, 'value')"
   ]
  },
  {
   "cell_type": "code",
   "execution_count": 59,
   "metadata": {},
   "outputs": [
    {
     "data": {
      "text/html": [
       "<html>\n",
       "<head>\n",
       "<script type=\"text/javascript\">\n",
       "<!--\n",
       "function toggle(id) {\n",
       "var e = document.getElementById(id);\n",
       "if(e.style.display == 'none')\n",
       "e.style.display = 'block';\n",
       "else\n",
       "e.style.display = 'none';\n",
       "}\n",
       "//-->\n",
       "</script>\n",
       "</head>\n",
       "\n",
       "<body>\n",
       "<div id=\"question631\">\n",
       " <button id = \"631\"\n",
       "onclick=\"toggle('answer631');\">Solution</button> \n",
       "</div>\n",
       "<div style=\"display:none\" id=\"answer631\">\n",
       "The minimum mark is what we need to find. To find the average of all his marks (the known ones, plus the unknown one), \n",
       "we have to add up all the grades, and then divide by the number of marks. Since we do not have a score for the last test yet, \n",
       "we will use a variable to stand for this unknown value: \"x\". Then computation to find the desired average is: <br />\n",
       "\n",
       "the first step : (87 + 95 + 76 + 88 + x) ÷ 5 = 85 <br />\n",
       "Multiplying through by 5 and simplifying, we get: <br/>\n",
       "the next step : 87 + 95 + 76 + 88 + x = 425 <br />\n",
       "the next step : 346 + x = 425 <br />\n",
       "the final step : x = 79 <br />\n",
       "so, he needs to get at least a 79 on the last test.\n",
       "</div>\n",
       "\n",
       "</body>\n",
       "</html>\n"
      ],
      "text/plain": [
       "<IPython.core.display.HTML object>"
      ]
     },
     "metadata": {},
     "output_type": "display_data"
    }
   ],
   "source": [
    "%%html\n",
    "<html>\n",
    "<head>\n",
    "<script type=\"text/javascript\">\n",
    "<!--\n",
    "function toggle(id) {\n",
    "var e = document.getElementById(id);\n",
    "if(e.style.display == 'none')\n",
    "e.style.display = 'block';\n",
    "else\n",
    "e.style.display = 'none';\n",
    "}\n",
    "//-->\n",
    "</script>\n",
    "</head>\n",
    "\n",
    "<body>\n",
    "<div id=\"question631\">\n",
    " <button id = \"631\"\n",
    "onclick=\"toggle('answer631');\">Solution</button> \n",
    "</div>\n",
    "<div style=\"display:none\" id=\"answer631\">\n",
    "The minimum mark is what we need to find. To find the average of all his marks (the known ones, plus the unknown one), \n",
    "we have to add up all the grades, and then divide by the number of marks. Since we do not have a score for the last test yet, \n",
    "we will use a variable to stand for this unknown value: \"x\". Then computation to find the desired average is: <br />\n",
    "\n",
    "the first step : (87 + 95 + 76 + 88 + x) ÷ 5 = 85 <br />\n",
    "Multiplying through by 5 and simplifying, we get: <br/>\n",
    "the next step : 87 + 95 + 76 + 88 + x = 425 <br />\n",
    "the next step : 346 + x = 425 <br />\n",
    "the final step : x = 79 <br />\n",
    "so, he needs to get at least a 79 on the last test.\n",
    "</div>\n",
    "\n",
    "</body>\n",
    "</html>"
   ]
  },
  {
   "cell_type": "markdown",
   "metadata": {},
   "source": [
    "## Conclusion\n",
    "\n",
    "In this notebook, we learned how an outlier affects central tendency. \n",
    "\n",
    "When an outlier is added to (or removed from) a data set:\n",
    "* Mean changes the most \n",
    "* Median changes a little bit\n",
    "* Mode doesn't change unless there are multiple outliers with the same value\n",
    "\n",
    "Also, not all larger or smaller values should be called outliers and excluded from data. That depends more on context. "
   ]
  },
  {
   "cell_type": "markdown",
   "metadata": {},
   "source": [
    "![alt text][bottom-banner]\n",
    "\n",
    "[bottom-banner]: ./callysto-bottom-banner.jpg"
   ]
  }
 ],
 "metadata": {
  "kernelspec": {
   "display_name": "Python 3",
   "language": "python",
   "name": "python3"
  },
  "language_info": {
   "codemirror_mode": {
    "name": "ipython",
    "version": 3
   },
   "file_extension": ".py",
   "mimetype": "text/x-python",
   "name": "python",
   "nbconvert_exporter": "python",
   "pygments_lexer": "ipython3",
   "version": "3.6.8"
  }
 },
 "nbformat": 4,
 "nbformat_minor": 2
}
