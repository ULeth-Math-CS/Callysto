{
 "cells": [
  {
   "cell_type": "markdown",
   "metadata": {},
   "source": [
    "![alt text][top-banner]\n",
    "\n",
    "[top-banner]: ./callysto-top-banner.jpg"
   ]
  },
  {
   "cell_type": "code",
   "execution_count": null,
   "metadata": {},
   "outputs": [],
   "source": [
    "%%html\n",
    "\n",
    "<script>\n",
    " function code_toggle() {\n",
    "   if (code_shown){\n",
    "     $('div.input').hide('500');\n",
    "     $('#toggleButton').val('Show Code')\n",
    "   } else {\n",
    "     $('div.input').show('500');\n",
    "     $('#toggleButton').val('Hide Code')\n",
    "   }\n",
    "   code_shown = !code_shown\n",
    " }\n",
    "\n",
    " $( document ).ready(function(){\n",
    "   code_shown=false;\n",
    "   $('div.input').hide()\n",
    " });\n",
    "</script>\n",
    "<form action=\"javascript:code_toggle()\"><input type=\"submit\" id=\"toggleButton\" value=\"Show Code\"></form>"
   ]
  },
  {
   "cell_type": "code",
   "execution_count": 5,
   "metadata": {},
   "outputs": [],
   "source": [
    "import numpy as np\n",
    "import matplotlib.mlab as mlab\n",
    "import matplotlib.pyplot as plt\n",
    "from ipywidgets import interact, widgets, Button, Layout\n",
    "\n",
    "from scipy import stats\n",
    "from collections import Counter\n",
    "from array import array\n",
    "from statistics import mode\n",
    "import IPython\n",
    "import pandas"
   ]
  },
  {
   "cell_type": "markdown",
   "metadata": {},
   "source": [
    "# Data Analysis: Mean, Median, and Mode\n",
    "\n",
    "##### Grade 7 Statistics \n",
    "\n",
    "This notebook will cover 3 important statistics: mean, median, and mode. These three statistics are known as the measures of central tendency because they tell us where data is centered or clustered together. \n",
    "Here are a few questions this notebook will answer:\n",
    "* What is mean? \n",
    "* What is median? \n",
    "* What is mode?\n",
    "* When do we use each of these statistics?\n",
    "\n",
    "If you want a good summary of this topic, check out [this website for Australian junior high students](https://www.mathsteacher.com.au/year8/ch17_stat/02_mean/mean.htm)."
   ]
  },
  {
   "cell_type": "markdown",
   "metadata": {},
   "source": [
    "## 1. Definitions\n",
    "\n",
    "### What is 'mean'?\n",
    "\n",
    "No, we don't mean being rude to other people. A **mean (sometimes called an average)** of a set of numbers is the sum of all the values divided by the number of number of values. \n",
    "\n",
    "##### Example 1\n",
    "Here is a data set: $2, 6, 3, 7, 5, 3, 9$\n",
    "<br> Number of elements in this data set: $7$\n",
    "<br>So the mean is:\n",
    "$$\\text{mean} = \\frac{2 + 6 + 3 + 7 + 5 + 3 + 9}{7} = \\frac{35}{7} = 5 $$\n",
    "\n",
    "Now these are just numbers, let's see where the mean applies in real life. \n",
    "\n",
    "##### Example 2\n",
    "In Rose Middle School, there's 3 classes of 8th graders. The first one has 25 students, the second has 18 students, and the third has 20 students. What is the average number of students in one class?\n",
    "<br> **Remember that average is the same as mean**\n",
    "\n",
    "Our set of data is $(25, 18, 20)$ and there is $3$ elements in this set. Now we can calculate the mean.\n",
    "\n",
    "$$\\text{mean} = \\frac{25 + 18 + 20}{3} = \\frac{63}{3} = 21 $$\n",
    "\n",
    "That means that 8th graders in Rose Middle School have an average of 21 students per class."
   ]
  },
  {
   "cell_type": "markdown",
   "metadata": {},
   "source": [
    "##### Example 2 : Never average averages\n",
    "**If Tommy averaged $20$ points for $3$ basketball games and $30$ points in next two, what was his average for all five games?**\n",
    "###### Solution:\n",
    "Total points for first three games: $20 \\times 3 = 60$\n",
    "<br>Points for next two games: $30 \\times 2 = 60 $\n",
    "<br>Total number of games: $3 + 2 = 5$\n",
    "<br>Therefore the mean is $\\dfrac{60+60}{5} = 24$\n",
    "\n",
    "You might have been tempted to take the average of 20 and 30, but these two averages occur over a different number of games!<br>\n",
    "In a situation like this, we first \"work backward\" from the average.<br>\n",
    "The averages do not tell us how many points Tommy scored in each game.<br>\n",
    "However, we know that one set of scores that produce our averages is $20, 20, 20, 30, 30$.<br>\n",
    "Averaging these gives us our result.\n",
    "\n",
    "**Note:** there is a way to correctly \"average averages,\" but it's beyond the level of this notebook.<br>\n",
    "If you're curious, you can read online about how to calculated a [weighted mean](https://en.wikipedia.org/wiki/Weighted_arithmetic_mean)."
   ]
  },
  {
   "cell_type": "markdown",
   "metadata": {},
   "source": [
    "As we will see in [our next notebook](CC66-Effect_Of_Outliers_On_Central_Tendency.ipynb), the mean of a dataset is sensitive to extreme values (outliers).<br>\n",
    "This can be useful in situations where we want to take those values into account.<br>\n",
    "For example, if we include the cost of home heating in a household budget, the average cost of our heating bill will give the best measure of heating's impact on our budget over the course of a year."
   ]
  },
  {
   "cell_type": "markdown",
   "metadata": {},
   "source": [
    "### What is median?\n",
    "\n",
    "Don't play in the MEDIAN at home kids! Oh wait, wrong median!\n",
    "The **median** is the middle number in a sequence of numbers.To compute the median, the set needs to be ordered from smallest to largest. Then it's easy to find the middle number!<br>\n",
    "\n",
    "##### Example 1\n",
    "Data set: $2, 6, 3, 7, 5, 3, 9$\n",
    "<br> Now if we sort the data set: $2, 3, 3, 5, 6, 7, 9$\n",
    "<br> So, median will be $5$ because it's 4 numbers in from both sides\n",
    "\n",
    "Did you notice that this data set has an odd number of values? What is the problem if there's an even number of values in a set? How can we figure out the median? We still want the middle number, so we can't choose one closer to either the left or the right side. We can average the two numbers closest to the middle to get a true middle number for the whole set!\n",
    "\n",
    "##### Example 2\n",
    "Data set: $2, 6, 3, 7, 5, 3, 9, 4 $ <br>\n",
    "**Notice how there's 8 values in this set**\n",
    "<br> Sorted data set: $2, 3, 3, 4, 5, 6, 7, 9$\n",
    "<br> There two middle numbers are $4$ and $5$\n",
    "<br> Therefore, the median will be $\\frac{(4+5)}{2} = 4.5$"
   ]
  },
  {
   "cell_type": "markdown",
   "metadata": {},
   "source": [
    "The median is a useful statistic because it is **not** as sensitive to extreme values.<br>\n",
    "(You will see this for yourself in [the sequel to this notebook](CC66-Effect_Of_Outliers_On_Central_Tendency.ipynb).)<br>\n",
    "For example, businesses -- or city planners -- are more interested in median income than mean income when making decisions on where to locate a business or service.<br>\n",
    "One very wealthy person moving to an area will increase the mean income in that area, but not the median."
   ]
  },
  {
   "cell_type": "markdown",
   "metadata": {},
   "source": [
    "### What is mode?\n",
    "\n",
    "The **mode** for a data set is the element that occurs the most often.<br>\n",
    "It's possible for a data set to have no modes, one mode, two modes (bimodal), or even three modes (trimodal)!<br>\n",
    "To find the mode, you don't have to sort the set, but it is very helpful to sort it as the mode(s) will be where a number is repeated and that's easier to see when they are next to each other.\n",
    "\n",
    "##### Example 1\n",
    "Data set: $2, 6, 3, 7, 5, 3, 9$\n",
    "<br> Sorted data set: $2, 3, 3, 5, 6, 7, 9$\n",
    "<br> Here, only the value $3$ repeats and all other values only appear once. \n",
    "<br>So, mode will be $3$.\n",
    "\n",
    "##### Example 2\n",
    "Data set: $2, 6, 3, 7, 5, 3, 9, 5, 3, 5, 6 $\n",
    "<br> Sorted data set: $2, 3, 3, 3,  5, 5, 5,  6, 6, 7, 9$\n",
    "<br> Values $3$ and $5$ have same number of repetitions. \n",
    "<br> Notice how $6$ is also repeated but it is not as many times as $3$ or $5$ so it is not part of the mode.\n",
    "<br>So, the mode will be, $3, 5$\n",
    "\n",
    "##### Example 3 \n",
    "Data set: $2, 6, 3, 7, 5, 8, 9, 4 $\n",
    "<br> Sorted data set: $2, 3, 4, 5, 6, 7, 8, 9$\n",
    "<br>There are no value that repeats. \n",
    "<br> So, there is no mode."
   ]
  },
  {
   "cell_type": "markdown",
   "metadata": {},
   "source": [
    "## 2. Interactive bar graph\n",
    "Now you can play with a bar graph and examine how to calculate mean, median, and mode by changing values of the dataset. \n",
    "\n",
    "### Instructions: \n",
    "* Step 1: enter how many data points you have in \"Enter the numbers of the dataset.\" **Max of 10** <br>\n",
    "  * based on your input in step 1, sliders will be available (one for each data point). <br>\n",
    "* Step 2: change the value of sliders and see the associated changes in the bar graph.<br>\n",
    "* Step 3: to show the breakdown for calculating mean check the box Mean, for median check Median and so on.<br>"
   ]
  },
  {
   "cell_type": "code",
   "execution_count": null,
   "metadata": {},
   "outputs": [],
   "source": [
    "!pip install --upgrade --force-reinstall --user git+git://github.com/callysto/nbplus.git ; #egg=geogebra\\&subdirectory=geogebra "
   ]
  },
  {
   "cell_type": "code",
   "execution_count": null,
   "metadata": {
    "scrolled": true
   },
   "outputs": [],
   "source": [
    "from geogebra import *\n",
    "ggb = GGB()\n",
    "ggb.file('CC65_materials/centralTendency.ggb').draw()"
   ]
  },
  {
   "cell_type": "markdown",
   "metadata": {},
   "source": [
    "### 2.2 Drawbacks of bar graph\n",
    "* Additional information is needed to describe the dataset. \n",
    "* Data patterns, critical features of data cannot be readily assumed.  "
   ]
  },
  {
   "cell_type": "markdown",
   "metadata": {},
   "source": [
    "## Example Using A Large Dataset\n",
    "\n",
    "We will be using a computer to calculate the mean, median, and mode for both the x values and y vaues of this graph."
   ]
  },
  {
   "cell_type": "markdown",
   "metadata": {},
   "source": [
    "<img src=\"CC65_materials/JustTRex.png\" width=\"400\" height=\"400\" align=\"center\"/>"
   ]
  },
  {
   "cell_type": "markdown",
   "metadata": {},
   "source": [
    "There's 142 values in this dataset! If you want to compute mean, median, or mode by hand, feel free to display the whole dataset using the button below."
   ]
  },
  {
   "cell_type": "code",
   "execution_count": 37,
   "metadata": {},
   "outputs": [],
   "source": [
    "dataset = pandas.read_csv(\"CC65_materials/Datasaurus.csv\")"
   ]
  },
  {
   "cell_type": "code",
   "execution_count": 38,
   "metadata": {},
   "outputs": [
    {
     "data": {
      "application/vnd.jupyter.widget-view+json": {
       "model_id": "764e7fcbf52d4669a2862735e0cde532",
       "version_major": 2,
       "version_minor": 0
      },
      "text/html": [
       "<p>Failed to display Jupyter Widget of type <code>ToggleButton</code>.</p>\n",
       "<p>\n",
       "  If you're reading this message in the Jupyter Notebook or JupyterLab Notebook, it may mean\n",
       "  that the widgets JavaScript is still loading. If this message persists, it\n",
       "  likely means that the widgets JavaScript library is either not installed or\n",
       "  not enabled. See the <a href=\"https://ipywidgets.readthedocs.io/en/stable/user_install.html\">Jupyter\n",
       "  Widgets Documentation</a> for setup instructions.\n",
       "</p>\n",
       "<p>\n",
       "  If you're reading this message in another frontend (for example, a static\n",
       "  rendering on GitHub or <a href=\"https://nbviewer.jupyter.org/\">NBViewer</a>),\n",
       "  it may mean that your frontend doesn't currently support widgets.\n",
       "</p>\n"
      ],
      "text/plain": [
       "ToggleButton(value=False, description='Show dataset')"
      ]
     },
     "metadata": {},
     "output_type": "display_data"
    }
   ],
   "source": [
    "show = widgets.ToggleButton(value=False,description='Show dataset',disabled=False)\n",
    "\n",
    "def display(a):\n",
    "    if show.value == True:\n",
    "        print(round(dataset.head(142),3))\n",
    "    else:\n",
    "        IPython.display.clear_output()\n",
    "        IPython.display.display(show)\n",
    "\n",
    "IPython.display.display(show)\n",
    "show.observe(display, 'value')"
   ]
  },
  {
   "cell_type": "markdown",
   "metadata": {},
   "source": [
    "### Mean"
   ]
  },
  {
   "cell_type": "code",
   "execution_count": 39,
   "metadata": {
    "scrolled": true
   },
   "outputs": [
    {
     "name": "stdout",
     "output_type": "stream",
     "text": [
      "x    54.263\n",
      "y    47.832\n",
      "dtype: float64\n"
     ]
    }
   ],
   "source": [
    "#Mean \n",
    "fullDataframeMean = []\n",
    "fullDataframeMean = dataset.mean()\n",
    "print(round(fullDataframeMean.head(2),3))"
   ]
  },
  {
   "cell_type": "markdown",
   "metadata": {},
   "source": [
    "### Median"
   ]
  },
  {
   "cell_type": "code",
   "execution_count": 40,
   "metadata": {},
   "outputs": [
    {
     "name": "stdout",
     "output_type": "stream",
     "text": [
      "x    53.333\n",
      "y    46.026\n",
      "dtype: float64\n"
     ]
    }
   ],
   "source": [
    "#Median\n",
    "fullDataframeMedian = []\n",
    "fullDataframeMedian = dataset.median()\n",
    "print(round(fullDataframeMedian.head(2),3))"
   ]
  },
  {
   "cell_type": "markdown",
   "metadata": {},
   "source": [
    "### Mode"
   ]
  },
  {
   "cell_type": "code",
   "execution_count": 41,
   "metadata": {
    "scrolled": true
   },
   "outputs": [
    {
     "name": "stdout",
     "output_type": "stream",
     "text": [
      "  dataset       x       y\n",
      "0    dino  29.744  10.641\n"
     ]
    }
   ],
   "source": [
    "#Mode\n",
    "fullDataFrameMode = []\n",
    "fullDataFrameMode = dataset.mode()\n",
    "print(round(fullDataFrameMode.head(1),3))"
   ]
  },
  {
   "cell_type": "markdown",
   "metadata": {},
   "source": [
    "**************\n",
    "## Test yourself"
   ]
  },
  {
   "cell_type": "markdown",
   "metadata": {},
   "source": [
    "## Easy"
   ]
  },
  {
   "cell_type": "code",
   "execution_count": null,
   "metadata": {},
   "outputs": [],
   "source": [
    "def display(question, answerList):\n",
    "    print(question)\n",
    "    IPython.display.display(answerList)"
   ]
  },
  {
   "cell_type": "code",
   "execution_count": null,
   "metadata": {},
   "outputs": [],
   "source": [
    "question611 = \"1. What number would you divide by to calculate the mean of 3, 4, 5, and 6?\"\n",
    "\n",
    "answer611 = widgets.RadioButtons(options=['Select best one','3', '4', '4.5', '5', 'None of the above'],\n",
    "                             value= 'Select best one', description='Choices:')\n",
    "\n",
    "\n",
    "def checkAnswer(a):\n",
    "    IPython.display.clear_output(wait=False)\n",
    "    display(question611, answer611)\n",
    "    if answer611.value == '4':\n",
    "        print(\"Correct Answer!\")\n",
    "    else:\n",
    "        if answer611.value == 'Select best one':\n",
    "            pass\n",
    "        else:\n",
    "            print(\"Wrong answer! Try again.\")\n",
    "\n",
    "display(question611, answer611)\n",
    "\n",
    "answer611.observe(checkAnswer, 'value')\n",
    "\n"
   ]
  },
  {
   "cell_type": "code",
   "execution_count": null,
   "metadata": {},
   "outputs": [],
   "source": [
    "%%html\n",
    "<html>\n",
    "<head>\n",
    "<script type=\"text/javascript\">\n",
    "<!--\n",
    "function toggle(id) {\n",
    "var e = document.getElementById(id);\n",
    "if(e.style.display == 'none')\n",
    "e.style.display = 'block';\n",
    "else\n",
    "e.style.display = 'none';\n",
    "}\n",
    "//-->\n",
    "</script>\n",
    "</head>\n",
    "\n",
    "<body>\n",
    "<div id=\"question611\">\n",
    " <button id = \"611\"\n",
    "onclick=\"toggle('answer611');\">Solution</button> \n",
    "</div>\n",
    "<div style=\"display:none\" id=\"answer611\">\n",
    "From the definition of mean, we know that we have to divide by the total number of elements in the data set.<br/>\n",
    "In this case, that number is 4. <br/>\n",
    "So, to compute the mean, we have to divide the sum of the data set by 4. <br/>\n",
    "\n",
    "</div>\n",
    "\n",
    "</body>\n",
    "</html>"
   ]
  },
  {
   "cell_type": "code",
   "execution_count": null,
   "metadata": {},
   "outputs": [],
   "source": [
    "question612 = \"2. What is the mean of the following numbers? \\n 10, 91, 39, 71, 17,  39, 76, 37, 25\"\n",
    "\n",
    "answer612 = widgets.RadioButtons(options=['Select best one','45', '45.11', '43.67', '46', 'None of the above'],\n",
    "                             value= 'Select best one', description='Choices:')\n",
    "\n",
    "def check612(b):\n",
    "    IPython.display.clear_output(wait=False)\n",
    "    display(question612, answer612)\n",
    "    if answer612.value == '45':\n",
    "        print(\"Correct Answer!\")\n",
    "    else:\n",
    "        if answer612.value == 'Select best one':\n",
    "            pass\n",
    "        else:\n",
    "            print(\"Wrong answer! Try again.\")\n",
    "\n",
    "IPython.display.clear_output(wait=False)\n",
    "display(question612, answer612)\n",
    "answer612.observe(check612, 'value')"
   ]
  },
  {
   "cell_type": "code",
   "execution_count": null,
   "metadata": {},
   "outputs": [],
   "source": [
    "%%html\n",
    "<html>\n",
    "<head>\n",
    "<script type=\"text/javascript\">\n",
    "<!--\n",
    "function toggle(id) {\n",
    "var e = document.getElementById(id);\n",
    "if(e.style.display == 'none')\n",
    "e.style.display = 'block';\n",
    "else\n",
    "e.style.display = 'none';\n",
    "}\n",
    "//-->\n",
    "</script>\n",
    "</head>\n",
    "\n",
    "<body>\n",
    "<div id=\"question612\">\n",
    " <button id = \"612\"\n",
    "onclick=\"toggle('answer612');\">Solution</button> \n",
    "</div>\n",
    "<div style=\"display:none\" id=\"answer612\">\n",
    "To find out the mean of semester 1 we divide the sum of all data by the numbers of data.<br/>\n",
    "Therefore, Mean $=  \\frac{10 + 91 +  39 + 71 + 17 +  39 + 76 + 37 + 25}{9} = 45$ <br/>\n",
    "\n",
    "\n",
    "</div>\n",
    "\n",
    "</body>\n",
    "</html>"
   ]
  },
  {
   "cell_type": "markdown",
   "metadata": {},
   "source": [
    "## Medium"
   ]
  },
  {
   "cell_type": "code",
   "execution_count": null,
   "metadata": {},
   "outputs": [],
   "source": [
    "question621 = \"3. The mean of four numbers is 71.5. If three of the numbers are 58, 76, and 88, what is the value of the fourth number?\"\n",
    "\n",
    "answer621 = widgets.RadioButtons(options=['Select best one', '62', '73.37', '64', '74',  'None of the above'],\n",
    "                              value = 'Select best one', description='Choices:')\n",
    "\n",
    "def check621(c):\n",
    "    IPython.display.clear_output(wait=False)\n",
    "    display(question621, answer621)\n",
    "    if answer621.value == '64':\n",
    "        print(\"Correct Answer!\")\n",
    "    else:\n",
    "        if answer621.value == 'Select best one':\n",
    "            pass\n",
    "        else:\n",
    "            print(\"Wrong answer! Try again.\")\n",
    "        \n",
    "IPython.display.clear_output(wait=False)\n",
    "display(question621, answer621)\n",
    "answer621.observe(check621, 'value')"
   ]
  },
  {
   "cell_type": "code",
   "execution_count": null,
   "metadata": {},
   "outputs": [],
   "source": [
    "%%html\n",
    "<html>\n",
    "<head>\n",
    "<script type=\"text/javascript\">\n",
    "<!--\n",
    "function toggle(id) {\n",
    "var e = document.getElementById(id);\n",
    "if(e.style.display == 'none')\n",
    "e.style.display = 'block';\n",
    "else\n",
    "e.style.display = 'none';\n",
    "}\n",
    "//-->\n",
    "</script>\n",
    "</head>\n",
    "\n",
    "<body>\n",
    "<div id=\"question621\">\n",
    " <button id = \"621\"\n",
    "onclick=\"toggle('answer621');\">Solution</button> \n",
    "</div>\n",
    "<div style=\"display:none\" id=\"answer621\">\n",
    "We are given three numbers but told the mean of four numbers is 71.5. Let assume the fourth number is x. <br/>\n",
    "So, by the definition of mean, we can write <br>\n",
    "$\\frac{58 + 76 + 88 + x}{4} = 71.5 $ <br/>\n",
    "\n",
    "or, $222 + x = 71.5 \\times 4 $ <br/>\n",
    "\n",
    "or, $x = 286 - 222 $ <br/>\n",
    "\n",
    "or, $x = 64 $ <br/>\n",
    "\n",
    "Therefore, the fourth number is 64. <br/>\n",
    "\n",
    "\n",
    "</div>\n",
    "\n",
    "</body>\n",
    "</html>"
   ]
  },
  {
   "cell_type": "code",
   "execution_count": null,
   "metadata": {},
   "outputs": [],
   "source": [
    "answer622 = widgets.RadioButtons(options=[  'Select best one','1', '23', '11.5', '13', \n",
    "                                          'None of the above'],\n",
    "                             value = 'Select best one', description='Choices:')\n",
    "\n",
    "question622 = \"4. Suppose, the front row in your classroom has 23 seats. If you were asked to sit in the seat \\n that occupied the median position, in which seat would you have to sit?\"\n",
    "\n",
    "\n",
    "def check622(d):\n",
    "    IPython.display.clear_output(wait=False)\n",
    "    display(question622, answer622)\n",
    "    if answer622.value == 'None of the above':\n",
    "        print(\"Correct Answer!\")\n",
    "    else:\n",
    "        if answer622.value == 'Select best one':\n",
    "            pass\n",
    "        else:\n",
    "            print(\"Wrong answer! Try again.\")\n",
    "        \n",
    "IPython.display.clear_output(wait=False)\n",
    "display(question622,answer622 )\n",
    "answer622.observe(check622, 'value')"
   ]
  },
  {
   "cell_type": "code",
   "execution_count": null,
   "metadata": {},
   "outputs": [],
   "source": [
    "%%html\n",
    "<html>\n",
    "<head>\n",
    "<script type=\"text/javascript\">\n",
    "<!--\n",
    "function toggle(id) {\n",
    "var e = document.getElementById(id);\n",
    "if(e.style.display == 'none')\n",
    "e.style.display = 'block';\n",
    "else\n",
    "e.style.display = 'none';\n",
    "}\n",
    "//-->\n",
    "</script>\n",
    "</head>\n",
    "\n",
    "<body>\n",
    "<div id=\"question622\">\n",
    " <button id = \"622\"\n",
    "onclick=\"toggle('answer622');\">Solution</button> \n",
    "</div>\n",
    "<div style=\"display:none\" id=\"answer622\">\n",
    "Let consider the arrangement of the seats are as follows: \n",
    "<img src=\"seatsArrangement.jpg\" alt=\"Empty Classrrom\" width=\"500\" height=\"333\">\n",
    "    <br/> \n",
    "    The number of seats is odd (23). To find out the median of the seats we need to divide <br/>\n",
    "    the total number of seats by 2 and we get 11.5. So, 12-th seat is in the median position <br/>\n",
    "    in the first row. But in the given choices there is no option for 12.<br/>\n",
    "    <b> Therefore the correct answer is 'None of the above.' </b>\n",
    "\n",
    "</div>\n",
    "\n",
    "</body>\n",
    "</html>"
   ]
  },
  {
   "cell_type": "markdown",
   "metadata": {},
   "source": [
    "## Hard \n",
    "Sara tried to compute the mean average of her 8 test scores. She mistakenly divided the correct sum of all her test scores by 7, which yields 96."
   ]
  },
  {
   "cell_type": "code",
   "execution_count": null,
   "metadata": {},
   "outputs": [],
   "source": [
    "answer631 = widgets.RadioButtons(options=[ 'Select best one','78', '83.5', '100', '84', 'None of the above'],\n",
    "                             value = 'Select best one', description='Choices:')\n",
    "\n",
    "question631 = \"5. What is Sara's mean test score? (Source: dummies)\"\n",
    "\n",
    "def check631(e):\n",
    "    IPython.display.clear_output(wait=False)\n",
    "    display(question631, answer631)\n",
    "    if answer631.value == '84':\n",
    "        print(\"Correct Answer!\")\n",
    "    else:\n",
    "        if answer631.value == 'Select best one':\n",
    "            pass\n",
    "        else:\n",
    "            print(\"Wrong answer! Try again.\")\n",
    "        \n",
    "IPython.display.clear_output(wait=False)\n",
    "display(question631, answer631)\n",
    "answer631.observe(check631, 'value')"
   ]
  },
  {
   "cell_type": "code",
   "execution_count": null,
   "metadata": {},
   "outputs": [],
   "source": [
    "%%html\n",
    "<html>\n",
    "<head>\n",
    "<script type=\"text/javascript\">\n",
    "<!--\n",
    "function toggle(id) {\n",
    "var e = document.getElementById(id);\n",
    "if(e.style.display == 'none')\n",
    "e.style.display = 'block';\n",
    "else\n",
    "e.style.display = 'none';\n",
    "}\n",
    "//-->\n",
    "</script>\n",
    "</head>\n",
    "\n",
    "<body>\n",
    "<div id=\"question631\">\n",
    " <button id = \"631\"\n",
    "onclick=\"toggle('answer631');\">Solution</button> \n",
    "</div>\n",
    "<div style=\"display:none\" id=\"answer631\">\n",
    "You know the test score mean of Sara when divided by 7, you can determine the sum of her scores. This information will then allow you\n",
    "to determine her mean average over eight tests.<br/>\n",
    "\n",
    "Apply the average formula to her wrong calculation. <br/>\n",
    "\n",
    "96 = sum of scores ÷ 7 <br/>\n",
    "\n",
    "96 × 7 = sum of scores <br/>\n",
    "\n",
    "672 = sum of scores <br/> \n",
    "\n",
    "Now that you know her test score sum, you can figure her true mean average.<br/> \n",
    "\n",
    "Mean average = 672 ÷ 8 <br/>\n",
    "\n",
    "Mean average = 84 <br/>\n",
    "\n",
    "So, the correct answer is D. <br/>\n",
    "\n",
    "</div>\n",
    "\n",
    "</body>\n",
    "</html>"
   ]
  },
  {
   "cell_type": "code",
   "execution_count": null,
   "metadata": {},
   "outputs": [],
   "source": [
    "answer632 = widgets.RadioButtons(options=[ 'Select best one','32, 34, 35, 36', '32, 35, 36, 41', '32, 34, 40, 44', '32, 32, 38, 38', 'None of the above'],\n",
    "                             value = 'Select best one', description='Choices:')\n",
    "\n",
    "question632 = \"6. A set of four numbers that begins with the number 32 is arranged from smallest to largest.\\n If the median is 35, which of the following could be the set of numbers?\"\n",
    "\n",
    "def check632(e):\n",
    "    IPython.display.clear_output(wait=False)\n",
    "    display(question632, answer632)\n",
    "    if answer632.value == '32, 32, 38, 38':\n",
    "        print(\"Correct Answer!\")\n",
    "    else:\n",
    "        if answer632.value == 'Select best one':\n",
    "            pass\n",
    "        else:\n",
    "            print(\"Wrong answer! Try again.\")\n",
    "        \n",
    "IPython.display.clear_output(wait=False)\n",
    "display(question632, answer632)\n",
    "answer632.observe(check632, 'value')"
   ]
  },
  {
   "cell_type": "code",
   "execution_count": null,
   "metadata": {},
   "outputs": [],
   "source": [
    "%%html\n",
    "<html>\n",
    "<head>\n",
    "<script type=\"text/javascript\">\n",
    "<!--\n",
    "function toggle(id) {\n",
    "var e = document.getElementById(id);\n",
    "if(e.style.display == 'none')\n",
    "e.style.display = 'block';\n",
    "else\n",
    "e.style.display = 'none';\n",
    "}\n",
    "//-->\n",
    "</script>\n",
    "</head>\n",
    "\n",
    "<body>\n",
    "<div id=\"question632\">\n",
    " <button id = \"632\"\n",
    "onclick=\"toggle('answer632');\">Solution</button> \n",
    "</div>\n",
    "<div style=\"display:none\" id=\"answer632\">\n",
    "We are given the median of four numbers 35. We can imply from the given information is that the sum <br/> \n",
    "of the numbers is 140. Now we check all the choices one by one. We add all the numbers of the first choice and get 137. <br/>\n",
    "So it is not our correct answer. <br/>\n",
    "Similarly, for the next choices we get 144, 150, and 140 for second, third and fourth choices, respectively, <br/>\n",
    "Therefore, the correct series is: 32, 32, 38, 38.<br/>\n",
    "\n",
    "</div>\n",
    "\n",
    "</body>\n",
    "</html>\n"
   ]
  },
  {
   "cell_type": "markdown",
   "metadata": {},
   "source": [
    "A student recorded her scores on weekly math quizzes that were marked out of a possible 10 points. Her scores were as follows: <br> \n",
    "8, 5, 8, 5, 7, 6, 7, 7, 5, 7, 5, 5, 6, 6, 9, 8, 9, 7, 9, 9, 6, 8, 6, 6, 7"
   ]
  },
  {
   "cell_type": "code",
   "execution_count": null,
   "metadata": {},
   "outputs": [],
   "source": [
    "answer641 = widgets.RadioButtons(options=['Select best one','6', ' 7', '6 and 7', '8 and 9', 'None of the above'],\n",
    "                              value='Select best one',description='Choices:')\n",
    "\n",
    "question641 = \"7. What is/are the mode of her records?\"\n",
    "\n",
    "\n",
    "def checkAnswer641(f):\n",
    "    IPython.display.clear_output(wait=False)\n",
    "    display(question641, answer641 )\n",
    "    if answer641.value == '6 and 7':\n",
    "        print(\"Correct Answer!\")\n",
    "    else:\n",
    "        if answer641.value == 'Select best one':\n",
    "            pass\n",
    "        else:\n",
    "            print(\"Wrong answer! Try again.\")\n",
    "\n",
    "IPython.display.clear_output(wait=False)\n",
    "display(question641, answer641)\n",
    "answer641.observe(checkAnswer641, 'value')"
   ]
  },
  {
   "cell_type": "code",
   "execution_count": null,
   "metadata": {},
   "outputs": [],
   "source": [
    "%%html\n",
    "<html>\n",
    "<head>\n",
    "<script type=\"text/javascript\">\n",
    "<!--\n",
    "function toggle(id) {\n",
    "var e = document.getElementById(id);\n",
    "if(e.style.display == 'none')\n",
    "e.style.display = 'block';\n",
    "else\n",
    "e.style.display = 'none';\n",
    "}\n",
    "//-->\n",
    "</script>\n",
    "</head>\n",
    "\n",
    "<body>\n",
    "<div id=\"question641\">\n",
    " <button id = \"641\"\n",
    "onclick=\"toggle('answer641');\">Solution</button> \n",
    "</div>\n",
    "<div style=\"display:none\" id=\"answer641\">\n",
    "At first, let sort the scores on weekly math quizzes: <br/>\n",
    "    $ 5, 5, 5, 5, 5, 6, 6, 6, 6, 6, 6, 7, 7, 7, 7, 7, 7, 8, 8, 8, 8, 9, 9, 9, 9$ <br/>\n",
    "From the sorted points, we can imply, <br/>\n",
    "The repetitions of 5 is: five <br/>\n",
    "    6 and 7 repeat six times and 8 and 9 repeat four times.<br/> \n",
    "    Therefore, the mode of her scores are: 6 and 7 <br/>\n",
    "   \n",
    "</div>\n",
    "\n",
    "</body>\n",
    "</html>"
   ]
  },
  {
   "cell_type": "code",
   "execution_count": null,
   "metadata": {},
   "outputs": [],
   "source": [
    "answer642 = widgets.RadioButtons(options=['Select best one', '1', '2', '4', '19', 'None of the above'],\n",
    "                             value = 'Select best one',  description='Choices:')\n",
    "\n",
    "question642 = \"8. The average of five positive integers is less than 20. What is the smallest possible median of this set?\"\n",
    "\n",
    "def check642(g):\n",
    "    IPython.display.clear_output(wait=False)\n",
    "    display(question642, answer642)\n",
    "    if answer642.value == '1':\n",
    "        print(\"Correct Answer!\")\n",
    "    else:\n",
    "        if answer642.value == 'Select best one':\n",
    "            pass\n",
    "        else:\n",
    "            print(\"Wrong answer! Try again.\")\n",
    "\n",
    "IPython.display.clear_output(wait=False)\n",
    "display(question642, answer642)\n",
    "answer642.observe(check642, 'value')"
   ]
  },
  {
   "cell_type": "code",
   "execution_count": null,
   "metadata": {},
   "outputs": [],
   "source": [
    "%%html\n",
    "<html>\n",
    "<head>\n",
    "<script type=\"text/javascript\">\n",
    "<!--\n",
    "function toggle(id) {\n",
    "var e = document.getElementById(id);\n",
    "if(e.style.display == 'none')\n",
    "e.style.display = 'block';\n",
    "else\n",
    "e.style.display = 'none';\n",
    "}\n",
    "//-->\n",
    "</script>\n",
    "</head>\n",
    "\n",
    "<body>\n",
    "<div id=\"question642\">\n",
    " <button id = \"642\"\n",
    "onclick=\"toggle('answer642');\">Solution</button> \n",
    "</div>\n",
    "<div style=\"display:none\" id=\"answer642\">\n",
    "As we are given that the numbers are positive integers that means all numbers should be\n",
    "<br/>greater than or equal 1. Let assume the five numbers are 1, 1, 1, 1, 16. The sum is equal\n",
    "<br/>to 20, and the average is 20/5 = 4 which is less than 20. All given conditions are satisfied. \n",
    "<br > <b>Therefore, the smallest possible median is 1. <b> <br/>\n",
    "\n",
    "</div>\n",
    "\n",
    "</body>\n",
    "</html>"
   ]
  },
  {
   "cell_type": "markdown",
   "metadata": {},
   "source": [
    "![alt text][bottom-banner]\n",
    "\n",
    "[bottom-banner]: ./callysto-bottom-banner.jpg"
   ]
  }
 ],
 "metadata": {
  "kernelspec": {
   "display_name": "Python 3",
   "language": "python",
   "name": "python3"
  }
 },
 "nbformat": 4,
 "nbformat_minor": 2
}
