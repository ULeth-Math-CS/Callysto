{
 "cells": [
  {
   "cell_type": "markdown",
   "metadata": {},
   "source": [
    "# Area of a Parallelogram\n",
    "\n",
    "### Recall what a Parallelogram is\n",
    "\n",
    "A parallelogram is a four sided shape where both pair of sides and parallel like this\n",
    "\n",
    "![picture](https://www.mathsisfun.com/images/quadrilateral-parallelogram.gif)\n",
    "\n",
    "It's also important to note that a rectangle and a square are also types of parallelograms.\n",
    "\n",
    "### How to find the area\n",
    "\n",
    "Since we know a rectangle is a type of parallelogram, let's recall the area of a rectangle: $$base \\times height$$\n",
    "Can we just use this formula for all parallelograms? Actually, yes we can! This is because of the fact that parallelograms have to have parallel sides, therefore "
   ]
  },
  {
   "cell_type": "markdown",
   "metadata": {},
   "source": [
    "![animation](https://upload.wikimedia.org/wikipedia/commons/2/27/Parallelogram_area_animated.gif)"
   ]
  },
  {
   "cell_type": "code",
   "execution_count": null,
   "metadata": {},
   "outputs": [],
   "source": []
  }
 ],
 "metadata": {
  "kernelspec": {
   "display_name": "Python 3",
   "language": "python",
   "name": "python3"
  },
  "language_info": {
   "codemirror_mode": {
    "name": "ipython",
    "version": 3
   },
   "file_extension": ".py",
   "mimetype": "text/x-python",
   "name": "python",
   "nbconvert_exporter": "python",
   "pygments_lexer": "ipython3",
   "version": "3.6.5"
  }
 },
 "nbformat": 4,
 "nbformat_minor": 2
}
