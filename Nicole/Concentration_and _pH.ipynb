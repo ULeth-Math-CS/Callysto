{
 "cells": [
  {
   "cell_type": "markdown",
   "metadata": {},
   "source": [
    "Target Audience: G9 Science, Unit C Environmental Chemistry (Social and Environmental Emphasis)\n",
    "h3. Related Curriculum Outcome:\n",
    "9C2. Identify processes for measuring the quantity of different substances in the environment and for monitoring air and water quality.\n",
    "\n",
    "Specific Learning Objective 1\n",
    " * Apply and interpret measures of chemical concentration in parts per million, billion or trillion\n",
    "\n",
    "Specific Learning Objective 2\n",
    " * Identify acids, bases and neutral substances, based on measures of their pH (e.g., use indicator solutions or pH meters to measure the pH of water samples)"
   ]
  },
  {
   "cell_type": "markdown",
   "metadata": {},
   "source": [
    "# Concentration and pH\n",
    "\n",
    "##### Grade 9 curriculum\n",
    "\n",
    "This is a notebook about how to measure the quantity of different substances in the environment. This includes measuring air and water quality. This notebook will focus on what the concentration and pH of different substances means for the environment. You will be able to:\n",
    "* apply and interpret meausres of cemical concentration\n",
    "* ind the pH of a solution using idicator solutions, litmus paper, or a pH meter\n",
    "* identify acids, bases, and neutral substances based on pH\n",
    "* apply this knowledge to help determine the health of an environment"
   ]
  },
  {
   "cell_type": "markdown",
   "metadata": {},
   "source": [
    "### Concentration\n",
    "\n",
    "For many of the products that you use or buy, the standard way of indicating how much of a substance is present is to show the percentage (%) of weight or volume it represents. This are often found on foods or cleaners. Let's take milk for example. 1% milk means that 1% of the milk is milk fat, or in every 100ml of milk, there's 1ml of milk fat. That means if you have 1000ml or 1L of milk, then it contains 10ml of milk fat. \n",
    "\n",
    "Percentage is actually decribing \"parts per hundred\". 10% is the same as 10 parts per hundred or $\\frac{10}{100}$. This is very helpful for many everyday solutions, but some solutions are in much smaller concentrations than 1%. We could say that it has a concentration of 0.00001%, but there's a simpler way to show this. This percentage represents $\\frac{1}{1,000,000}$ which scientists use a unit to show this amount called parts per million (ppm). If you've already studied a pesticide called DDT, it's concentration is measured in parts per billion (ppb) because it can be deadly in even smaller concentrations.\n",
    "\n",
    "    Just like how 1000 g is equal to 1 kg, 1 ppm is equal to 1 mg/kg (milligram per kilogram). Theres 1000 milligrams in \n",
    "    a gram and 1000 grams in a kilogram, so there's 1,000,000 milligrams in a kilogram, making one milligram per \n",
    "    kilogram one part per million. \n",
    "    \n",
    "    When the substance is in water, 1 ppm is equal to 1 mg/L (milligram per litre). This only works for water because \n",
    "    water's density is 1 kg/L. Other liquids have different densities, so the concentration needs to be calculated \n",
    "    differently in other solutions.\n",
    "\n",
    "Let's look at an example of how to calculate ppm of a substance.\n",
    "\n",
    "Example:\n",
    "If the nutritional information label on a container of yogurt specifies that each 125 g serving contains 7 mg of cholesterol, what is the concentration of cholesterol in a serving of yogurt in parts per million (ppm)? [source](https://drive.google.com/file/d/1YJUpQYN2QlrzM0obSWKjdnMeFASNcKQb/view)\n",
    "\n",
    "Solution:\n",
    "1. First, state your information as a ratio.\n",
    "\n",
    "    $\\frac{7 \\text{ mg cholesterol}}{125 \\text{ g yogurt}} = 0.056 \\text{ mg/g}$\n",
    "    \n",
    "\n",
    "2. Second, express that ratio in the form of mg/kg\n",
    "\n",
    "    $ 0.056 \\text{ mg/g} \\times 1000 \\text{ g/kg} = 56 \\text{ mg/kg}$\n",
    "\n",
    "Since mg/kg is equivalent to ppm, there are 56 ppm of cholesterol in each serving of this yogurt."
   ]
  },
  {
   "cell_type": "markdown",
   "metadata": {},
   "source": [
    "### Why is this important?\n",
    "\n",
    "There are many substances that are toxic, meaning they are able to cause harm to organisms. They cause harm, not by how an organism is exposed to it, nor how long, but how much enters the organism. But it's hard to determine the concentration of the substance which is toxic because many factors influence it. Body mass and metabolism are two factors that affect when the concentration is considered toxic. It is easier to say what concentration would likely kill 50% of the population to which it's aplied. This is called the **lethal dose 50** or **LD50**.\n",
    "\n",
    "Many scientists have done studies on what concentrations are harmful to humans. One of the first to do this was Paracelsus during the Renaissance. One of his famous quotes is *\"only the dose makes the poison\"*. \n",
    "\n",
    "Here is a table of the LD50 of different chemicals for humans\n",
    "\n",
    "| Chemical        | Source | Concentration (ppm)|\n",
    "|-----------------|--------|--------------------|\n",
    "|botulinum toxin A|Clostridium botulinum bacterium|0.00000003|\n",
    "|   dioxin |contaminant in some herbicides and in PCBs|0.03|\n",
    "|  nicotine  |cigarette smoke|0.86|\n",
    "|  solanine  |green parts of potatoes|6.0|\n",
    "|  caffeine  |coffee, tea, chocolate|150-200|\n",
    "| NaCl | table salt | 12,357 |\n",
    "| glucose | sugar | 30,000 *(for rats)*|\n",
    "| H<sub>2</sub>O | water | 90,000 *(for rats)*|\n",
    "*Most of these are extrapolated from data of LD50 of rats or from observational data*\n",
    "\n",
    "You might notice that some things in this table you consume every day. Or you see other people consume these. Turns out, too much of anything can kill an organism. 90,000 ppm of water is around 6 litres for a healthy average adult. 200 ppm of caffiene is about 100 cups of coffee for that same adult. It's very difficult to get that kind of concentration within our bodies, so we consider that an **acceptable risk**."
   ]
  },
  {
   "cell_type": "markdown",
   "metadata": {},
   "source": [
    "## page 24\n",
    "\n",
    "•\tAn acid is a compound that dissolves in water and forms a solution with pH <7.  Acids are sour and react with bases.  They contain H+ ions. Include vinegar (acetic acid), lemon juice (citric acid). \n",
    "•\tA base is a compound that dissolves in water and forms a solution with pH >7.  Bases are bitter, slippery and react with acids.  They contain OH- ions. Include household cleaners, hair conditioner, antacids.\n",
    "•\tpH scale is a logarithmic scale designed to measure acidity of a solution.  That means that each number is 10 times greater or less than the one next to it.  For example, a pH of 2 is 10 times more acidic than pH 3 and 100 times more acidic than pH 4.\n",
    "•\tThe scale tells you the relative acidity (how strong the acid) and alkalinity (how strong the base).\n",
    "\n",
    "\n",
    "pH is a measure of the concentration of hydrogen ions in a solution. It means the “power of hydrogen” and refers to the formation of hydrogen atoms that have lost an electron (ions). The more concentrated the hydrogen ions are in a solution, the more acidic the solution is.\n",
    "\n",
    "https://colgan-science9.weebly.com/acids-and-bases.html"
   ]
  }
 ],
 "metadata": {
  "kernelspec": {
   "display_name": "Python 3",
   "language": "python",
   "name": "python3"
  },
  "language_info": {
   "codemirror_mode": {
    "name": "ipython",
    "version": 3
   },
   "file_extension": ".py",
   "mimetype": "text/x-python",
   "name": "python",
   "nbconvert_exporter": "python",
   "pygments_lexer": "ipython3",
   "version": "3.6.5"
  }
 },
 "nbformat": 4,
 "nbformat_minor": 2
}
