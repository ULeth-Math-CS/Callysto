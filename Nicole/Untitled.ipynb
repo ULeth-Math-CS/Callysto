{
 "cells": [
  {
   "cell_type": "code",
   "execution_count": 2,
   "metadata": {},
   "outputs": [
    {
     "data": {
      "text/html": [
       "\n",
       "<script type = \"text/javascript\" src=\"https://d3js.org/d3.v3.min.js\"></script>\n",
       "<script type = \"text/javascript\" src=\"pH_Animation/animation2.js\"></script>"
      ],
      "text/plain": [
       "<IPython.core.display.HTML object>"
      ]
     },
     "metadata": {},
     "output_type": "display_data"
    }
   ],
   "source": [
    "%%html\n",
    "\n",
    "<script type = \"text/javascript\" src=\"https://d3js.org/d3.v3.min.js\"></script>\n",
    "<script type = \"text/javascript\" src=\"pH_Animation/animation2.js\"></script>"
   ]
  },
  {
   "cell_type": "code",
   "execution_count": 5,
   "metadata": {},
   "outputs": [
    {
     "data": {
      "text/html": [
       "\n",
       "<div id=\"animation\"></div>\n",
       "\n",
       "<script>\n",
       "display(10);\n",
       "</script>"
      ],
      "text/plain": [
       "<IPython.core.display.HTML object>"
      ]
     },
     "metadata": {},
     "output_type": "display_data"
    }
   ],
   "source": [
    "%%html\n",
    "\n",
    "<div id=\"animation\"></div>\n",
    "\n",
    "<script>\n",
    "display(10);\n",
    "</script>"
   ]
  },
  {
   "cell_type": "code",
   "execution_count": 4,
   "metadata": {},
   "outputs": [
    {
     "data": {
      "text/html": [
       "\n",
       "<div id=\"animation\"></div>\n",
       "\n",
       "<script>\n",
       "display(3);\n",
       "</script>"
      ],
      "text/plain": [
       "<IPython.core.display.HTML object>"
      ]
     },
     "metadata": {},
     "output_type": "display_data"
    }
   ],
   "source": [
    "%%html\n",
    "\n",
    "<div id=\"animation\"></div>\n",
    "\n",
    "<script>\n",
    "display(3);\n",
    "</script>"
   ]
  },
  {
   "cell_type": "code",
   "execution_count": 16,
   "metadata": {},
   "outputs": [
    {
     "name": "stdout",
     "output_type": "stream",
     "text": [
      "[nltk_data] Downloading package cmudict to /home/n.vachon/nltk_data...\n",
      "[nltk_data]   Package cmudict is already up-to-date!\n",
      "[3, 2]\n"
     ]
    }
   ],
   "source": [
    "import curses \n",
    "from curses.ascii import isdigit \n",
    "import nltk\n",
    "nltk.download('cmudict')\n",
    "from nltk.corpus import cmudict \n",
    "d = cmudict.dict() \n",
    "def nsyl(word): \n",
    "    if word == ' ':\n",
    "        pass\n",
    "    return [len(list(y for y in x if isdigit(y[-1]))) for x in d[word.lower()]]\n",
    "\n",
    "print(nsyl(''))"
   ]
  },
  {
   "cell_type": "code",
   "execution_count": 61,
   "metadata": {},
   "outputs": [],
   "source": [
    "from nltk.corpus import cmudict \n",
    "d = cmudict.dict() "
   ]
  },
  {
   "cell_type": "code",
   "execution_count": 62,
   "metadata": {},
   "outputs": [],
   "source": [
    "def nsyl(word): \n",
    "    try:\n",
    "        return [len(list(y for y in x if isdigit(y[-1]))) for x in d[word.lower()]]\n",
    "    except KeyError:\n",
    "        if KeyError == ' ':\n",
    "            return [0]\n",
    "        else:\n",
    "            print(\"do not recognize word\")\n",
    "            return [0]"
   ]
  },
  {
   "cell_type": "code",
   "execution_count": 63,
   "metadata": {},
   "outputs": [
    {
     "name": "stdout",
     "output_type": "stream",
     "text": [
      "[5, 7, 5]\n",
      "This is a haiku!\n"
     ]
    }
   ],
   "source": [
    "phrase = \"This is troubling , There is a dragon ahead , go run for your life\"\n",
    "\n",
    "syllables = []\n",
    "for sentence in phrase.split(' , '):\n",
    "    count = 0\n",
    "    for word in sentence.split():\n",
    "        wordcount = nsyl(word)\n",
    "        count += wordcount[0]\n",
    "    syllables.append(count)\n",
    "print(syllables)\n",
    "\n",
    "if syllables == [5, 7, 5]:\n",
    "    print(\"This is a haiku!\")\n",
    "else:\n",
    "    print(\"This is not a haiku.\")"
   ]
  },
  {
   "cell_type": "code",
   "execution_count": 49,
   "metadata": {},
   "outputs": [
    {
     "name": "stdout",
     "output_type": "stream",
     "text": [
      "3\n"
     ]
    }
   ],
   "source": [
    "print(nsyl('troubling')[0])"
   ]
  },
  {
   "cell_type": "code",
   "execution_count": null,
   "metadata": {},
   "outputs": [],
   "source": []
  }
 ],
 "metadata": {
  "kernelspec": {
   "display_name": "Python 3",
   "language": "python",
   "name": "python3"
  },
  "language_info": {
   "codemirror_mode": {
    "name": "ipython",
    "version": 3
   },
   "file_extension": ".py",
   "mimetype": "text/x-python",
   "name": "python",
   "nbconvert_exporter": "python",
   "pygments_lexer": "ipython3",
   "version": "3.6.5"
  }
 },
 "nbformat": 4,
 "nbformat_minor": 2
}
