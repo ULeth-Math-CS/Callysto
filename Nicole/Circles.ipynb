{
 "cells": [
  {
   "cell_type": "markdown",
   "metadata": {},
   "source": [
    "![logo](https://callysto.ca/wp-content/uploads/2018/06/Callysto_Notebook-Banner_Top_06.06.18.jpg)"
   ]
  },
  {
   "cell_type": "markdown",
   "metadata": {},
   "source": [
    "Strand: Shape and Space (Measurement) - Students will:\n",
    "\n",
    "• estimate and take accurate measurements using everyday metric (SI) and imperial units of measure\n",
    "• solve problems, using appropriate measuring devices (i.e., metric [SI] and imperial), strategies and technology in home, workplace and community contexts\n",
    "• communicate mathematically and investigate the application of measurement knowledge and skills in a variety of career and workplace situations, working individually or as members of a team\n",
    "• assess reasonableness of calculations and problem-solving strategies.\n",
    "\n",
    "Grade 8: General Outcome - Students will:\n",
    "\n",
    "• use measurement concepts, appropriate tools and results of measurements to solve problems in everyday contexts.\n",
    "\n",
    "Specific Outcomes - Students will:\n",
    "\n",
    "6. demonstrate the relationships among the circumference, radius and diameter of circles\n",
    "\n",
    "*Deliverable:*\n",
    "\n",
    "An interactive notebook to examine and visualize concepts and examples related to this curriculum outcome.\n",
    "\n",
    "*Data source:*\n",
    "\n",
    "[https://education.alberta.ca/media/3653318/kemath89.pdf]"
   ]
  },
  {
   "cell_type": "markdown",
   "metadata": {},
   "source": [
    "- move radius around center to show sameness\n",
    "- circumference/diameter = pi\n",
    "- implies 2rpi = circumference\n",
    "- because 2 radius = diameter \n",
    "- tell diameter versus radius\n",
    "- give radius, create circle, calculate circumference\n",
    "- round pi to 3.14 even though it goes on forever"
   ]
  },
  {
   "cell_type": "markdown",
   "metadata": {},
   "source": [
    "# All Things Circles\n",
    "\n",
    "##### Grade 8 Curriculum\n",
    "\n",
    "This notebook will cover some important things about circles, specifically:\n",
    "* radius\n",
    "* diameter\n",
    "* circumference\n",
    "* the relationship between these values\n",
    "\n",
    "This notebook will also give some practice questions along the way. But you'll need more practice to make sure you understand these concepts well. \n",
    "\n",
    "## A Little Review\n",
    "\n",
    "### Radius versus Diameter\n",
    "\n",
    "Before we can talk about circumference of a circle, we need to know the difference between the radius and the diameter of a circle.<br>\n",
    "The **radius** of a circle is the distance between the center of the circle to the edge, like this:\n",
    "\n",
    "![insert picture]\n",
    "\n",
    "The **diameter** of a circle is the distance between two points on opposite sides of the circle, creating a straight line through the center of the circle, like this:\n",
    "\n",
    "![insert picture]\n",
    "\n",
    "#### What is the relationship between radius and diameter?\n",
    "\n",
    "If radius is from the center to the end and the diameter is from the edge, to the center, then back to the edge, then we can see that diameter is 2 times the radius. We can write this in a formula, where d represents the diameter, and r represents the radius: **d = 2r**"
   ]
  },
  {
   "cell_type": "code",
   "execution_count": 1,
   "metadata": {},
   "outputs": [],
   "source": [
    "#insert practice question about diameter vs radius"
   ]
  },
  {
   "cell_type": "markdown",
   "metadata": {},
   "source": [
    "## What is circumference?\n",
    "\n",
    "The circumference of a circle is the distance around the edge of the circle to get back to the original starting point. In the diagram below, we start measuring at the point, then go all the way around the circle until we reach the point again.\n",
    "\n",
    "![insert picture]\n",
    "\n",
    "### But how do we measure circumference? \n",
    "\n",
    "We can't just take a ruler and mesure out chucks then add it together. A circle is round and rulers are straight!\n"
   ]
  },
  {
   "cell_type": "markdown",
   "metadata": {},
   "source": [
    "<p><a href=\"https://commons.wikimedia.org/wiki/File:Pi-unrolled-720.gif#/media/File:Pi-unrolled-720.gif\"><img src=\"https://upload.wikimedia.org/wikipedia/commons/2/2a/Pi-unrolled-720.gif\" alt=\"Pi-unrolled-720.gif\"></a><br>By <a href=\"https://en.wikipedia.org/wiki/User:John_Reid\" class=\"extiw\" title=\"en:User:John Reid\">John Reid</a> - Edited version of <a href=\"//commons.wikimedia.org/wiki/File:Pi-unrolled.gif\" title=\"File:Pi-unrolled.gif\">Image:Pi-unrolled.gif</a>., <a href=\"http://creativecommons.org/licenses/by-sa/3.0/\" title=\"Creative Commons Attribution-Share Alike 3.0\">CC BY-SA 3.0</a>, <a href=\"https://commons.wikimedia.org/w/index.php?curid=1268581\">Link</a></p>"
   ]
  },
  {
   "cell_type": "markdown",
   "metadata": {},
   "source": [
    "![logo](https://callysto.ca/wp-content/uploads/2018/07/Callysto-Notebook-Banner_Bottom_07.30.18.jpg)"
   ]
  }
 ],
 "metadata": {
  "kernelspec": {
   "display_name": "Python 3",
   "language": "python",
   "name": "python3"
  },
  "language_info": {
   "codemirror_mode": {
    "name": "ipython",
    "version": 3
   },
   "file_extension": ".py",
   "mimetype": "text/x-python",
   "name": "python",
   "nbconvert_exporter": "python",
   "pygments_lexer": "ipython3",
   "version": "3.6.8"
  }
 },
 "nbformat": 4,
 "nbformat_minor": 2
}
