{
 "cells": [
  {
   "cell_type": "markdown",
   "metadata": {},
   "source": [
    "![logo](https://callysto.ca/wp-content/uploads/2018/06/Callysto_Notebook-Banner_Top_06.06.18.jpg)"
   ]
  },
  {
   "cell_type": "code",
   "execution_count": 2,
   "metadata": {},
   "outputs": [
    {
     "data": {
      "application/javascript": [
       "\n",
       "            require.config({\n",
       "                paths: {\n",
       "                    ggb: \"https://cdn.geogebra.org/apps/deployggb\"\n",
       "                }\n",
       "            });\n",
       "\n",
       "            require([\"ggb\"]);\n",
       "        "
      ],
      "text/plain": [
       "<IPython.core.display.Javascript object>"
      ]
     },
     "metadata": {},
     "output_type": "display_data"
    }
   ],
   "source": [
    "from ggb import *\n",
    "ggb = GGB()"
   ]
  },
  {
   "cell_type": "markdown",
   "metadata": {},
   "source": [
    "Strand: Shape and Space (Measurement) - Students will:\n",
    "\n",
    "• estimate and take accurate measurements using everyday metric (SI) and imperial units of measure\n",
    "• solve problems, using appropriate measuring devices (i.e., metric [SI] and imperial), strategies and technology in home, workplace and community contexts\n",
    "• communicate mathematically and investigate the application of measurement knowledge and skills in a variety of career and workplace situations, working individually or as members of a team\n",
    "• assess reasonableness of calculations and problem-solving strategies.\n",
    "\n",
    "Grade 8: General Outcome - Students will:\n",
    "\n",
    "• use measurement concepts, appropriate tools and results of measurements to solve problems in everyday contexts.\n",
    "\n",
    "Specific Outcomes - Students will:\n",
    "\n",
    "6. demonstrate the relationships among the circumference, radius and diameter of circles\n",
    "\n",
    "*Deliverable:*\n",
    "\n",
    "An interactive notebook to examine and visualize concepts and examples related to this curriculum outcome.\n",
    "\n",
    "*Data source:*\n",
    "\n",
    "[https://education.alberta.ca/media/3653318/kemath89.pdf]"
   ]
  },
  {
   "cell_type": "markdown",
   "metadata": {},
   "source": [
    "- move radius around center to show sameness\n",
    "- circumference/diameter = pi\n",
    "- implies 2rpi = circumference\n",
    "- because 2 radius = diameter \n",
    "- tell diameter versus radius\n",
    "- give radius, create circle, calculate circumference\n",
    "- round pi to 3.14 even though it goes on forever"
   ]
  },
  {
   "cell_type": "markdown",
   "metadata": {},
   "source": [
    "# All Things Circles\n",
    "\n",
    "##### Grade 8 Curriculum\n",
    "\n",
    "This notebook will cover some important things about circles, specifically:\n",
    "* radius\n",
    "* diameter\n",
    "* circumference\n",
    "* the relationship between these values\n",
    "\n",
    "This notebook will also give some practice questions along the way. But you'll need more practice to make sure you understand these concepts well. \n",
    "\n",
    "## A Little Review\n",
    "\n",
    "### Radius versus Diameter\n",
    "\n",
    "Before we can talk about circumference of a circle, we need to know the difference between the radius and the diameter of a circle.<br>\n",
    "The **radius** of a circle is the distance between the center of the circle to the edge, like this:\n",
    "\n",
    "![insert picture]\n",
    "\n",
    "The **diameter** of a circle is the distance between two points on opposite sides of the circle, creating a straight line through the center of the circle, like this:\n",
    "\n",
    "![insert picture]\n",
    "\n",
    "#### What is the relationship between radius and diameter?\n",
    "\n",
    "If radius is from the center to the end and the diameter is from the edge, to the center, then back to the edge, then we can see that diameter is 2 times the radius. We can write this in a formula, where d represents the diameter, and r represents the radius: **d = 2r**"
   ]
  },
  {
   "cell_type": "code",
   "execution_count": 1,
   "metadata": {},
   "outputs": [],
   "source": [
    "#insert practice question about diameter vs radius"
   ]
  },
  {
   "cell_type": "markdown",
   "metadata": {},
   "source": [
    "## What is circumference?\n",
    "\n",
    "The circumference of a circle is the distance around the edge of the circle to get back to the original starting point. In the diagram below, we start measuring at the point, then go all the way around the circle until we reach the point again.\n",
    "\n",
    "![insert picture]\n",
    "\n",
    "### But how do we measure circumference? \n",
    "\n",
    "We can't just take a ruler and mesure out chuncks then add it together. A circle is round and rulers are straight! We could try to wrap a string around the circle then measure out the string while straight. \n",
    "\n",
    "The diameter is much easier to measure so if there's a way to calculate the circumference from the diameter, that would be much easier.\n",
    "\n",
    "#### How are circumference and diameter related?\n",
    "\n",
    "Use the slider below to change to diameter and see what happens to the circumference and what the value of $\\frac{Circumference}{Diameter}$ is:\n"
   ]
  },
  {
   "cell_type": "code",
   "execution_count": 4,
   "metadata": {},
   "outputs": [
    {
     "data": {
      "text/html": [
       "<div id=\"ggb_1_0e\"></div>"
      ],
      "text/plain": [
       "<IPython.core.display.HTML object>"
      ]
     },
     "metadata": {},
     "output_type": "display_data"
    },
    {
     "data": {
      "application/javascript": [
       "var ggb_1_0e = new GGBApplet({\"material_id\": \"bwfcyyrs\"}, \"ggb_1_0e\", false); ggb_1_0e.inject(); "
      ],
      "text/plain": [
       "<IPython.core.display.Javascript object>"
      ]
     },
     "metadata": {},
     "output_type": "display_data"
    }
   ],
   "source": [
    "ggb.material('bwfcyyrs').draw()"
   ]
  },
  {
   "cell_type": "markdown",
   "metadata": {},
   "source": [
    "Does the value of $\\frac{Circumference}{Diameter}$ change? Do you recognize this value? What's special about the circumference when the diameter is 1?\n",
    "\n",
    "## 3.14159265358779323846...\n",
    "\n",
    "The ratio between the circumference of a circle and it's diameter is the famous constant pi! <br>\n",
    "If you've seen the movie Wonderpark, they actually sing a song about pi on the bus to math camp. <br>\n",
    "Now math camp isn't for everyone, but pi should be. Pi is very important when it comes to circles.\n",
    "\n",
    "We represent pi or 3.14159... with this symbol: $ \\pi $\n",
    "\n",
    "### Back to circumference\n",
    "\n",
    "Now that we know this relation between circumference and diameter, we can calculate circumference from knowing the diameter!\n",
    "$$ Circumference = Diameter \\times \\pi $$\n"
   ]
  },
  {
   "cell_type": "markdown",
   "metadata": {},
   "source": [
    "<p><a href=\"https://commons.wikimedia.org/wiki/File:Pi-unrolled-720.gif#/media/File:Pi-unrolled-720.gif\"><img src=\"https://upload.wikimedia.org/wikipedia/commons/2/2a/Pi-unrolled-720.gif\" alt=\"Pi-unrolled-720.gif\"></a><br>By <a href=\"https://en.wikipedia.org/wiki/User:John_Reid\" class=\"extiw\" title=\"en:User:John Reid\">John Reid</a> - Edited version of <a href=\"//commons.wikimedia.org/wiki/File:Pi-unrolled.gif\" title=\"File:Pi-unrolled.gif\">Image:Pi-unrolled.gif</a>., <a href=\"http://creativecommons.org/licenses/by-sa/3.0/\" title=\"Creative Commons Attribution-Share Alike 3.0\">CC BY-SA 3.0</a>, <a href=\"https://commons.wikimedia.org/w/index.php?curid=1268581\">Link</a></p>"
   ]
  },
  {
   "cell_type": "markdown",
   "metadata": {},
   "source": [
    "![logo](https://callysto.ca/wp-content/uploads/2018/07/Callysto-Notebook-Banner_Bottom_07.30.18.jpg)"
   ]
  }
 ],
 "metadata": {
  "kernelspec": {
   "display_name": "Python 3",
   "language": "python",
   "name": "python3"
  },
  "language_info": {
   "codemirror_mode": {
    "name": "ipython",
    "version": 3
   },
   "file_extension": ".py",
   "mimetype": "text/x-python",
   "name": "python",
   "nbconvert_exporter": "python",
   "pygments_lexer": "ipython3",
   "version": "3.6.8"
  }
 },
 "nbformat": 4,
 "nbformat_minor": 2
}
