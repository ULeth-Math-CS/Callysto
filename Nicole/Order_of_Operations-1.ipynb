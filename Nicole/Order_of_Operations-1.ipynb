{
 "cells": [
  {
   "cell_type": "markdown",
   "metadata": {},
   "source": [
    "## From the menu above, select Cell $\\rightarrow$ Run All to start the notebook"
   ]
  },
  {
   "cell_type": "code",
   "execution_count": 1,
   "metadata": {},
   "outputs": [
    {
     "data": {
      "text/html": [
       " \n",
       "<script>\n",
       "  function code_toggle() {\n",
       "    if (code_shown){\n",
       "      $('div.input').hide('500');\n",
       "      $('#toggleButton').val('Show Code')\n",
       "    } else {\n",
       "      $('div.input').show('500');\n",
       "      $('#toggleButton').val('Hide Code')\n",
       "    }\n",
       "    code_shown = !code_shown\n",
       "  }\n",
       "\n",
       "  $( document ).ready(function(){\n",
       "    code_shown=false;\n",
       "    $('div.input').hide()\n",
       "  });\n",
       "</script>\n",
       "<form action=\"javascript:code_toggle()\"><input type=\"submit\" id=\"toggleButton\" value=\"Show Code\"></form> "
      ],
      "text/plain": [
       "<IPython.core.display.HTML object>"
      ]
     },
     "execution_count": 1,
     "metadata": {},
     "output_type": "execute_result"
    }
   ],
   "source": [
    "from IPython.display import HTML\n",
    "HTML(''' \n",
    "<script>\n",
    "  function code_toggle() {\n",
    "    if (code_shown){\n",
    "      $('div.input').hide('500');\n",
    "      $('#toggleButton').val('Show Code')\n",
    "    } else {\n",
    "      $('div.input').show('500');\n",
    "      $('#toggleButton').val('Hide Code')\n",
    "    }\n",
    "    code_shown = !code_shown\n",
    "  }\n",
    "\n",
    "  $( document ).ready(function(){\n",
    "    code_shown=false;\n",
    "    $('div.input').hide()\n",
    "  });\n",
    "</script>\n",
    "<form action=\"javascript:code_toggle()\"><input type=\"submit\" id=\"toggleButton\" value=\"Show Code\"></form> ''')"
   ]
  },
  {
   "cell_type": "code",
   "execution_count": 13,
   "metadata": {},
   "outputs": [
    {
     "data": {
      "text/html": [
       "<script>\n",
       "    // AUTORUN ALL CELLS WHEN NOTEBOOK IS OPEN!\n",
       "    require(\n",
       "        ['base/js/namespace', 'jquery'], \n",
       "        function(jupyter, $) {\n",
       "            $(jupyter.events).on(\"kernel_ready.Kernel\", function () {\n",
       "                console.log(\"Auto-running all cells-below...\");\n",
       "                jupyter.actions.call('jupyter-notebook:run-all-cells-below');\n",
       "                jupyter.actions.call('jupyter-notebook:save-notebook');\n",
       "            });\n",
       "        }\n",
       "    );\n",
       "</script>\n",
       "\n",
       "<script>\n",
       "    display='block';\n",
       "</script>"
      ],
      "text/plain": [
       "<IPython.core.display.HTML object>"
      ]
     },
     "metadata": {},
     "output_type": "display_data"
    }
   ],
   "source": [
    "%%html\n",
    "<script>\n",
    "    // AUTORUN ALL CELLS WHEN NOTEBOOK IS OPEN!\n",
    "    require(\n",
    "        ['base/js/namespace', 'jquery'], \n",
    "        function(jupyter, $) {\n",
    "            $(jupyter.events).on(\"kernel_ready.Kernel\", function () {\n",
    "                console.log(\"Auto-running all cells-below...\");\n",
    "                jupyter.actions.call('jupyter-notebook:run-all-cells-below');\n",
    "                jupyter.actions.call('jupyter-notebook:save-notebook');\n",
    "            });\n",
    "        }\n",
    "    );\n",
    "</script>\n",
    "\n",
    "<script>\n",
    "    display='block';\n",
    "</script>"
   ]
  },
  {
   "cell_type": "markdown",
   "metadata": {},
   "source": [
    "***\n",
    "\n",
    "# Order of Operations\n",
    "\n",
    "#### *Created by Nicole Vachon*\n",
    "\n",
    "A Jupyter notebook to explore order of operations conventions for arithmetic operations."
   ]
  },
  {
   "cell_type": "markdown",
   "metadata": {},
   "source": [
    "## Introduction\n",
    "\n",
    "In elementary Mathematics, we have two basic arithmetic operations: addition and multiplication. Each of these operations comes with an \"opposite\" (a mathematician might say *inverse*) operation. The opposite of addition is subtraction, and the opposite of multiplications is division.\n",
    "\n",
    "When there is a single operation to perform, we all know what to do, including the computer. For example, we could have the computer calculate the sum $3+7$ or the product $9\\cdot 3$:"
   ]
  },
  {
   "cell_type": "code",
   "execution_count": 14,
   "metadata": {},
   "outputs": [
    {
     "data": {
      "text/plain": [
       "10"
      ]
     },
     "execution_count": 14,
     "metadata": {},
     "output_type": "execute_result"
    }
   ],
   "source": [
    "3+7"
   ]
  },
  {
   "cell_type": "code",
   "execution_count": 15,
   "metadata": {},
   "outputs": [
    {
     "data": {
      "text/plain": [
       "27"
      ]
     },
     "execution_count": 15,
     "metadata": {},
     "output_type": "execute_result"
    }
   ],
   "source": [
    "9*3"
   ]
  },
  {
   "cell_type": "markdown",
   "metadata": {},
   "source": [
    "**Note:** all code in Jupyter is *live*, and *editable*. Feel free to go back to the last two lines and change the numbers. To get the computer to do the calculation, hit Shift+Enter on your keyboard.\n",
    "\n",
    "If we wanted to undo either the addition or the multiplication, we can use their opposites:"
   ]
  },
  {
   "cell_type": "code",
   "execution_count": 16,
   "metadata": {},
   "outputs": [
    {
     "data": {
      "text/plain": [
       "3"
      ]
     },
     "execution_count": 16,
     "metadata": {},
     "output_type": "execute_result"
    }
   ],
   "source": [
    "10-7"
   ]
  },
  {
   "cell_type": "code",
   "execution_count": 17,
   "metadata": {},
   "outputs": [
    {
     "data": {
      "text/plain": [
       "9.0"
      ]
     },
     "execution_count": 17,
     "metadata": {},
     "output_type": "execute_result"
    }
   ],
   "source": [
    "27/3"
   ]
  },
  {
   "cell_type": "markdown",
   "metadata": {},
   "source": [
    "You might be wondering why there is a decimal in the last output. Whenever division is performed, the computer uses [floating point arithmetic](https://en.wikipedia.org/wiki/Floating-point_arithmetic), and it is allowing for the fact that division doesn't always return a whole number.\n",
    "\n",
    "\n",
    "Now, if we need to add a whole bunch of numbers, or multiply them, we can do so unambiguously thanks to a property of arithmetic called *associativity*. If we want to compute the sum $5+9+7$, it doesn't matter if we first do $5+9$, and then add 7, or if we do $9+7$ and then add 5. To distinguish between the two (identical) sums, we use parentheses:\n",
    "\n",
    "$$(5+9)+7 = 5+(9+7)$$\n",
    "\n",
    "In mathematics, the presence of brackets (parentheses) is a shorthand notation that says, \"Do this first!\"\n",
    "\n",
    "Go ahead and try this for yourself. Then, let the computer confirm it for you. We've entered the left-hand side of the above equality for you. To try the right-hand side, click on the $+$ sign in the tool bar at the top to add a new cell. Type in the right-hand side yourself, and again hit Shift+Enter to confirm the result."
   ]
  },
  {
   "cell_type": "code",
   "execution_count": null,
   "metadata": {},
   "outputs": [],
   "source": [
    "(5+9)+7"
   ]
  },
  {
   "cell_type": "markdown",
   "metadata": {},
   "source": [
    "The same thing works for multiplication. For example, $(2\\cdot 4)\\cdot 5 = 40 = 2\\cdot (4\\cdot 5)$. And of course, as well as being able to put brackets wherever we want, we can also change the order without affecting the answer.\n",
    "\n",
    "Things get more complicated if we want to combine addition and multiplication in a single calculation, or if we want to bring subtraction or division into the picture. Consider the expression\n",
    "\n",
    "$$3+7\\times 4.$$\n",
    "\n",
    "Which operation should we do first? The addition, or the multiplication? One way to make things clear is to use parentheses; as noted above, we always do the operation between the brackets first. We see the result in the two cells below:"
   ]
  },
  {
   "cell_type": "code",
   "execution_count": 19,
   "metadata": {},
   "outputs": [
    {
     "data": {
      "text/plain": [
       "40"
      ]
     },
     "execution_count": 19,
     "metadata": {},
     "output_type": "execute_result"
    }
   ],
   "source": [
    "(3+7)*4"
   ]
  },
  {
   "cell_type": "code",
   "execution_count": 20,
   "metadata": {},
   "outputs": [
    {
     "data": {
      "text/plain": [
       "31"
      ]
     },
     "execution_count": 20,
     "metadata": {},
     "output_type": "execute_result"
    }
   ],
   "source": [
    "3+(7*4)"
   ]
  },
  {
   "cell_type": "markdown",
   "metadata": {},
   "source": [
    "Interesting! Order doesn't matter when there's a single operation involved, but as soon as we combine the two, the order (and hence, the placement of brackets) makes a difference.\n",
    "\n",
    "## Exercise\n",
    "\n",
    "Does order matter for subtraction or division? What about bracketing? In the code cells below, try a few examples to see what happens. We've done a couple for you to demonstrate the syntax. Note that you can do  more than one calculation in a cell by using a comma to separate them."
   ]
  },
  {
   "cell_type": "code",
   "execution_count": 22,
   "metadata": {},
   "outputs": [
    {
     "data": {
      "text/plain": [
       "(2, 12)"
      ]
     },
     "execution_count": 22,
     "metadata": {},
     "output_type": "execute_result"
    }
   ],
   "source": [
    "(10-3)-5, 10-(3-5)"
   ]
  },
  {
   "cell_type": "code",
   "execution_count": 23,
   "metadata": {},
   "outputs": [
    {
     "data": {
      "text/plain": [
       "(1.0, 4.0)"
      ]
     },
     "execution_count": 23,
     "metadata": {},
     "output_type": "execute_result"
    }
   ],
   "source": [
    "(12/6)/2, 12/(6/2)"
   ]
  },
  {
   "cell_type": "code",
   "execution_count": null,
   "metadata": {},
   "outputs": [],
   "source": []
  },
  {
   "cell_type": "code",
   "execution_count": null,
   "metadata": {},
   "outputs": [],
   "source": []
  },
  {
   "cell_type": "markdown",
   "metadata": {},
   "source": [
    "## The Problem\n",
    "\n",
    "How do we (or a computer) figure out the answer to a really complicated expression like this??\n",
    "\n",
    "$$8 + 5/3^{2} \\times (7 - 4)/(6 + 9)$$\n",
    "    \n",
    "The answer is the same for both humans and computers: we need to\n",
    "\n",
    "1. Break the problem down into simpler steps\n",
    "2. Determine the order in which those steps should be performed.\n",
    "\n",
    "We know what the simpler steps should be; these are simply the individual arithmetic operations. How do we determine the order? The short answer is that there is an agreed-upon convention. (In other words, everybody agrees to follow the same order, so that we can all agree on the answer.)\n"
   ]
  },
  {
   "cell_type": "markdown",
   "metadata": {},
   "source": [
    "### The Order of Operations is:\n",
    "\n",
    "* **B**rackets\n",
    "* **E**xponents\n",
    "* **D**ivision\n",
    "* **M**ultiplication\n",
    "* **A**ddition\n",
    "* **S**ubtraction\n",
    "\n",
    "Division and Multiplication are done left to right if there are mulitple operations and the same is true for Addition and Subtraction. It can be visualized as a pyramid.\n",
    "\n",
    "This is commonly remembered by the word **BEDMAS** or **PEDMAS** (if one uses the word paratheses instead of brackets) or **BODMAS** (if one uses the word order instead of exponents). Some people also remember this order by the phrase **P**lease **E**xcuse **M**y **D**ear **A**unt **S**ally.\n",
    "\n",
    "![Pyramid](http://4.bp.blogspot.com/-zfTGFH6aoZw/VU1oBBlxVVI/AAAAAAAACM0/kBKeNwlnMd0/s1600/Slide1.png)"
   ]
  },
  {
   "cell_type": "markdown",
   "metadata": {},
   "source": [
    "#### What happens if there are multiple operations on the same level of the pyramid?? \n",
    "\n",
    "They're done in order from left to right! (As long as there are no brackets)"
   ]
  },
  {
   "cell_type": "markdown",
   "metadata": {},
   "source": [
    "### But why do we have the order of operations? Why not another order?\n",
    "\n",
    "The short answer is because there are the base operations, addition and subtraction, which then make up all the other operations so we want to do the most complex operations first before moving onto the simpler operations. The brackets are then added to show extra meaning that couldn't be written another way, which is why they must be done first. \n",
    "\n",
    "The long answer can be found here: http://mathforum.org/library/drmath/view/52582.html"
   ]
  },
  {
   "cell_type": "markdown",
   "metadata": {},
   "source": [
    "******\n",
    "\n",
    "### What do computers do?\n",
    "\n",
    "If you want to type your expressions into an input box, the operators are:\n",
    "* Brackets: `(` and `)`\n",
    "* Exponents: `**`\n",
    "* Division: `/`\n",
    "* Multiplication: `*`\n",
    "* Addition: `+`\n",
    "* Subtraction: `-`"
   ]
  },
  {
   "cell_type": "markdown",
   "metadata": {},
   "source": [
    "Let's try a simple calculation with two operations. If we want to explicitly tell the computer which operation to perform first, we can use brackets. First, we try doing the addition first:"
   ]
  },
  {
   "cell_type": "code",
   "execution_count": 4,
   "metadata": {},
   "outputs": [
    {
     "data": {
      "text/plain": [
       "48"
      ]
     },
     "execution_count": 4,
     "metadata": {},
     "output_type": "execute_result"
    }
   ],
   "source": [
    "(3 + 5) * 6"
   ]
  },
  {
   "cell_type": "markdown",
   "metadata": {},
   "source": [
    "Next, let's see what we get if we do the multiplication first:"
   ]
  },
  {
   "cell_type": "code",
   "execution_count": 5,
   "metadata": {},
   "outputs": [
    {
     "data": {
      "text/plain": [
       "33"
      ]
     },
     "execution_count": 5,
     "metadata": {},
     "output_type": "execute_result"
    }
   ],
   "source": [
    "3 + (5 * 6)"
   ]
  },
  {
   "cell_type": "markdown",
   "metadata": {},
   "source": [
    "Finally, let's input the expression without any brackets, and let the computer choose the order."
   ]
  },
  {
   "cell_type": "code",
   "execution_count": 3,
   "metadata": {},
   "outputs": [
    {
     "data": {
      "text/plain": [
       "33"
      ]
     },
     "execution_count": 3,
     "metadata": {},
     "output_type": "execute_result"
    }
   ],
   "source": [
    "3 + 5 * 6"
   ]
  },
  {
   "cell_type": "markdown",
   "metadata": {},
   "source": [
    "What was the result? Did it match either of the calcuations above it? Based on this example, does it appear as though the computer is obeying the order of operations convention?"
   ]
  },
  {
   "cell_type": "markdown",
   "metadata": {},
   "source": [
    "Are all computer programs created equal? Here are two calculators, from the same company, with the same input, but different outputs! Based on the BEDMAS order, which answer is right?\n",
    "<div style=\"width: 300px;\">![Picture](https://saravanderwerf.com/wp-content/uploads/2018/04/order-of-operations-on-calc.jpg)</div>\n",
    "\n",
    "Can you figure out how to add additional brackets to reproduce each result?"
   ]
  },
  {
   "cell_type": "markdown",
   "metadata": {},
   "source": [
    "## Example.\n",
    "\n",
    "How do we exvaluate the expression $2^3 \\times (4 + 8)$?\n",
    "\n",
    "### Solution\n",
    "\n",
    "Here is a step-by-step walk-through of the calcuation:\n",
    "\n",
    "$$\\begin{align*}\n",
    "2^3 \\times \\mathbf{(4+8)} & = 2^3\\times 12 \\tag{Brackets first!}\\\\\n",
    "\\mathbf{2^3}\\times 12 & = 8\\times 12 \\tag{Exponents come next}\\\\\n",
    "8\\times 12 & = 96 \\tag{Finally, the multiplication}\n",
    "\\end{align*}$$\n",
    "\n",
    "On the computer, we expect that the following steps are carried out:\n",
    "\n",
    ">2^3 x **(4 + 8)**\n",
    ">\n",
    ">**2^3** x 12\n",
    ">\n",
    "> **8  x 12**\n",
    ">\n",
    ">   96"
   ]
  },
  {
   "cell_type": "markdown",
   "metadata": {},
   "source": [
    "Let's confirm that this is the case."
   ]
  },
  {
   "cell_type": "code",
   "execution_count": 6,
   "metadata": {},
   "outputs": [
    {
     "data": {
      "text/plain": [
       "96"
      ]
     },
     "execution_count": 6,
     "metadata": {},
     "output_type": "execute_result"
    }
   ],
   "source": [
    "2**3 * (4 + 8)"
   ]
  },
  {
   "cell_type": "markdown",
   "metadata": {},
   "source": [
    "Want to see another example? Watch this [![Order of Operations Video](http://img.youtube.com/vi/Y3CZ_JBQ0do/0.jpg)](http://www.youtube.com/watch?v=Y3CZ_JBQ0do) and try to solve it before they get to the solution!"
   ]
  },
  {
   "cell_type": "markdown",
   "metadata": {},
   "source": [
    "*****\n",
    "\n",
    "### Mixing things up\n",
    "\n",
    "Let us start with a number and 3 operations that can be applied to the number:\n",
    "\n",
    ">5\n",
    ">\n",
    ">_*4\n",
    ">\n",
    ">_+7\n",
    ">\n",
    ">_^2"
   ]
  },
  {
   "cell_type": "markdown",
   "metadata": {},
   "source": [
    "What output do we get by doing the addition, then the exponent, then the multiplication?\n",
    "\n",
    "5 + 7 = <font color='green'>12</font>\n",
    "<font color='green'>12</font>^2 = <font color='blue'>144</font>\n",
    "<font color='blue'>144</font> * 4 = 576\n",
    "\n",
    "If we enter these operations in left-to-right order, what do we get?"
   ]
  },
  {
   "cell_type": "code",
   "execution_count": 24,
   "metadata": {},
   "outputs": [
    {
     "data": {
      "text/plain": [
       "201"
      ]
     },
     "execution_count": 24,
     "metadata": {},
     "output_type": "execute_result"
    }
   ],
   "source": [
    "5+7**2*4"
   ]
  },
  {
   "cell_type": "markdown",
   "metadata": {},
   "source": [
    "That isn't right! But we shouldn't expect it to be: order of operations requires that the addition be performed last, not first!\n",
    "\n",
    "### Exercise:\n",
    "Re-enter the above expression in the cell below, and then add brackets as needed to get the correct order of operations. Be sure that your output matches the correct answer!"
   ]
  },
  {
   "cell_type": "code",
   "execution_count": null,
   "metadata": {},
   "outputs": [],
   "source": []
  },
  {
   "cell_type": "markdown",
   "metadata": {},
   "source": [
    "What output do we get by doing the exponent, then the addition, then the mulitplication?\n",
    "\n",
    "5^2 = <font color='green'>25</font>\n",
    "<font color='green'>25</font> + 7 = <font color='blue'>32</font>\n",
    "<font color='blue'>32</font> * 4 = 128\n",
    "\n",
    "How can we write these expressions in one line to get this output?"
   ]
  },
  {
   "cell_type": "code",
   "execution_count": null,
   "metadata": {},
   "outputs": [],
   "source": []
  },
  {
   "cell_type": "markdown",
   "metadata": {},
   "source": [
    "Were you able to get 128 as your answer? Again, we see that the brackets are necessary. If we leave them out, the computer follows the order of operations convention, and we get the following:"
   ]
  },
  {
   "cell_type": "code",
   "execution_count": 10,
   "metadata": {},
   "outputs": [
    {
     "data": {
      "text/plain": [
       "53"
      ]
     },
     "execution_count": 10,
     "metadata": {},
     "output_type": "execute_result"
    }
   ],
   "source": [
    "5**2+7*4"
   ]
  },
  {
   "cell_type": "markdown",
   "metadata": {},
   "source": [
    "Can you think of another order to write these operations that give a different output? \n",
    "\n",
    "Try typing it in the block below then press *Shift+Enter* to run the block to see its output."
   ]
  },
  {
   "cell_type": "code",
   "execution_count": null,
   "metadata": {},
   "outputs": [],
   "source": []
  },
  {
   "cell_type": "markdown",
   "metadata": {},
   "source": [
    "*********\n",
    "\n",
    "### Try a few Practice Questions"
   ]
  },
  {
   "cell_type": "markdown",
   "metadata": {},
   "source": [
    "### Try solving this"
   ]
  },
  {
   "cell_type": "code",
   "execution_count": 14,
   "metadata": {},
   "outputs": [
    {
     "name": "stdout",
     "output_type": "stream",
     "text": [
      "Remember division and multiplication are done left to right when there's no brackets and before addition and subtraction.\n",
      "Try the question again\n",
      "Solve 7 * (9 - 4)/2 + 3 using the order of operations and write your answer below:\n"
     ]
    },
    {
     "data": {
      "application/vnd.jupyter.widget-view+json": {
       "model_id": "c17998af1050437d891e5845d790e86d",
       "version_major": 2,
       "version_minor": 0
      },
      "text/html": [
       "<p>Failed to display Jupyter Widget of type <code>FloatText</code>.</p>\n",
       "<p>\n",
       "  If you're reading this message in the Jupyter Notebook or JupyterLab Notebook, it may mean\n",
       "  that the widgets JavaScript is still loading. If this message persists, it\n",
       "  likely means that the widgets JavaScript library is either not installed or\n",
       "  not enabled. See the <a href=\"https://ipywidgets.readthedocs.io/en/stable/user_install.html\">Jupyter\n",
       "  Widgets Documentation</a> for setup instructions.\n",
       "</p>\n",
       "<p>\n",
       "  If you're reading this message in another frontend (for example, a static\n",
       "  rendering on GitHub or <a href=\"https://nbviewer.jupyter.org/\">NBViewer</a>),\n",
       "  it may mean that your frontend doesn't currently support widgets.\n",
       "</p>\n"
      ],
      "text/plain": [
       "FloatText(value=7.0, description='Your Answer')"
      ]
     },
     "metadata": {},
     "output_type": "display_data"
    },
    {
     "name": "stdout",
     "output_type": "stream",
     "text": [
      "You are correct!\n"
     ]
    }
   ],
   "source": [
    "answer = widgets.FloatText(value = 0, description='Your Answer',contiuous_update = False)\n",
    "op1 = widgets.Dropdown(value='', options={'Addition', 'Multiplication', 'Division', 'Brackets',''}, \n",
    "                         description='First Operation:',)\n",
    "op2 = widgets.Dropdown(value='', options={'Addition', 'Multiplication', 'Division',''}, \n",
    "                         description='Second Operation:',)\n",
    "op3 = widgets.Dropdown(value='', options={'Addition', 'Division',''}, \n",
    "                         description='Third Operation:',)\n",
    "def display():\n",
    "    print(\"Solve 7 * (9 - 4)/2 + 3 using the order of operations and write your answer below:\")\n",
    "    IPython.display.display(answer)\n",
    "def check2(b):\n",
    "    if op1.value == 'Brackets':\n",
    "        print(\"Great! What did you do next?\")\n",
    "        IPython.display.display(op2)\n",
    "    else:\n",
    "        IPython.display.clear_output(wait=False)\n",
    "        print(\"Remember the B in BEDMAS is for brackets, try the question again.\")\n",
    "        display()\n",
    "        \n",
    "def check3(c):\n",
    "    if op2.value == 'Multiplication':\n",
    "        print(\"Awesome! What did you do next?\")\n",
    "        IPython.display.display(op3)\n",
    "    else:\n",
    "        IPython.display.clear_output(wait=False)\n",
    "        print(\"Remember division and multiplication are done left to right when there's no brackets and before addition and subtraction.\\nTry the question again\")\n",
    "        display()\n",
    "        \n",
    "def check4(d):\n",
    "    if op3.value == 'Division':\n",
    "        print(\"Well done! If you did not get 9.5, it must have been a calculation error, try each step again.\")\n",
    "    else:\n",
    "        IPython.display.clear_output(wait=False)\n",
    "        print(\"Remember division and multiplication are done before addition and subtraction, try the question again.\")\n",
    "        display()\n",
    "        \n",
    "def check(a):\n",
    "    if answer.value == 9.5:\n",
    "        print(\"You are correct!\")\n",
    "    else:\n",
    "        print(\"Sorry, that's not the right answer. Which operation did you do first?\")\n",
    "        IPython.display.display(op1)\n",
    "\n",
    "display()\n",
    "answer.observe(check, 'value')\n",
    "op1.observe(check2, 'value')\n",
    "op2.observe(check3, 'value')\n",
    "op3.observe(check4, 'value')"
   ]
  },
  {
   "cell_type": "markdown",
   "metadata": {},
   "source": [
    "### A few more questions"
   ]
  },
  {
   "cell_type": "code",
   "execution_count": 11,
   "metadata": {},
   "outputs": [
    {
     "data": {
      "application/vnd.jupyter.widget-view+json": {
       "model_id": "7c0f59589eb74c42af93bc4e7a06a20d",
       "version_major": 2,
       "version_minor": 0
      },
      "text/html": [
       "<p>Failed to display Jupyter Widget of type <code>Dropdown</code>.</p>\n",
       "<p>\n",
       "  If you're reading this message in the Jupyter Notebook or JupyterLab Notebook, it may mean\n",
       "  that the widgets JavaScript is still loading. If this message persists, it\n",
       "  likely means that the widgets JavaScript library is either not installed or\n",
       "  not enabled. See the <a href=\"https://ipywidgets.readthedocs.io/en/stable/user_install.html\">Jupyter\n",
       "  Widgets Documentation</a> for setup instructions.\n",
       "</p>\n",
       "<p>\n",
       "  If you're reading this message in another frontend (for example, a static\n",
       "  rendering on GitHub or <a href=\"https://nbviewer.jupyter.org/\">NBViewer</a>),\n",
       "  it may mean that your frontend doesn't currently support widgets.\n",
       "</p>\n"
      ],
      "text/plain": [
       "Dropdown(description='Difficulty:', options=('Hard', 'Easy', 'Medium'), value='Hard')"
      ]
     },
     "metadata": {},
     "output_type": "display_data"
    },
    {
     "data": {
      "application/vnd.jupyter.widget-view+json": {
       "model_id": "92b06a114282429db86320f2307562d9",
       "version_major": 2,
       "version_minor": 0
      },
      "text/html": [
       "<p>Failed to display Jupyter Widget of type <code>Button</code>.</p>\n",
       "<p>\n",
       "  If you're reading this message in the Jupyter Notebook or JupyterLab Notebook, it may mean\n",
       "  that the widgets JavaScript is still loading. If this message persists, it\n",
       "  likely means that the widgets JavaScript library is either not installed or\n",
       "  not enabled. See the <a href=\"https://ipywidgets.readthedocs.io/en/stable/user_install.html\">Jupyter\n",
       "  Widgets Documentation</a> for setup instructions.\n",
       "</p>\n",
       "<p>\n",
       "  If you're reading this message in another frontend (for example, a static\n",
       "  rendering on GitHub or <a href=\"https://nbviewer.jupyter.org/\">NBViewer</a>),\n",
       "  it may mean that your frontend doesn't currently support widgets.\n",
       "</p>\n"
      ],
      "text/plain": [
       "Button(description='Start', style=ButtonStyle())"
      ]
     },
     "metadata": {},
     "output_type": "display_data"
    }
   ],
   "source": [
    "import ipywidgets as widgets\n",
    "import IPython\n",
    "from IPython.display import HTML\n",
    "\n",
    "choice = widgets.Dropdown(\n",
    "    options={'Easy', 'Medium', 'Hard'},\n",
    "    description='Difficulty:',\n",
    ")\n",
    "Start = widgets.Button(description = \"Start\")\n",
    "ans = widgets.Button(description = \"Answer\")\n",
    "\n",
    "def reveal(choice):\n",
    "    click = False\n",
    "    if choice=='Easy':\n",
    "        print(\"2*5+3\")\n",
    "        print(\"10+3\")\n",
    "        print(\"13\")\n",
    "    else:\n",
    "        if choice=='Medium':\n",
    "            print(\"(1+6)*5+3\")\n",
    "            print(\"(7)*5+3\")\n",
    "            print(\"35+3\")\n",
    "            print(\"38\")\n",
    "        else:\n",
    "            print(\"(4^2-2)/2*3^2\")\n",
    "            print(\"(16-2)/2*3^2\")\n",
    "            print(\"(14)/2*3^2\")\n",
    "            print(\"(14)/2*9\")\n",
    "            print(\"7*9\")\n",
    "            print(\"63\") \n",
    "\n",
    "def create(choice):\n",
    "    #click = True\n",
    "    if choice=='Easy':\n",
    "        print(\"2*5+3\")\n",
    "    else:\n",
    "        if choice=='Medium':\n",
    "            print(\"(1+6)*5+3\")\n",
    "        else:\n",
    "            print(\"(4^2-2)/2*3^2\")\n",
    "            \n",
    "def on_button(a):\n",
    "    IPython.display.clear_output(wait=False)\n",
    "    IPython.display.display(choice, Start, ans)\n",
    "    reveal(choice.value)\n",
    "    \n",
    "            \n",
    "def display(b):\n",
    "    IPython.display.clear_output(wait=False)\n",
    "    IPython.display.display(choice, Start)\n",
    "    create(choice.value)\n",
    "    IPython.display.display(ans)\n",
    "    ans.on_click(on_button)\n",
    "    \n",
    "    \n",
    "IPython.display.display(choice, Start)\n",
    "Start.on_click(display)"
   ]
  },
  {
   "cell_type": "markdown",
   "metadata": {},
   "source": [
    "### Back to our first Problem\n",
    "\n",
    "Now that you have some examples under your belt, let us go back to the hard expression at the beginning of this notebook\n",
    "\n",
    "     8 + 5 / 3^2 x (7 - 4) / (6 + 9)\n",
    "     \n",
    "What part of this problem do we do first?\n",
    "\n",
    "Can you write all the steps to solve this problem in order?\n",
    "\n",
    "What was your final answer?"
   ]
  }
 ],
 "metadata": {
  "kernelspec": {
   "display_name": "Python 3",
   "language": "python",
   "name": "python3"
  },
  "language_info": {
   "codemirror_mode": {
    "name": "ipython",
    "version": 3
   },
   "file_extension": ".py",
   "mimetype": "text/x-python",
   "name": "python",
   "nbconvert_exporter": "python",
   "pygments_lexer": "ipython3",
   "version": "3.6.5"
  }
 },
 "nbformat": 4,
 "nbformat_minor": 2
}
