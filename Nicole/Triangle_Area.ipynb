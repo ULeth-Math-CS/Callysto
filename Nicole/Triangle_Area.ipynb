{
 "cells": [
  {
   "cell_type": "markdown",
   "metadata": {},
   "source": [
    "![logo](https://callysto.ca/wp-content/uploads/2018/06/Callysto_Notebook-Banner_Top_06.06.18.jpg)"
   ]
  },
  {
   "cell_type": "code",
   "execution_count": 1,
   "metadata": {},
   "outputs": [
    {
     "data": {
      "text/html": [
       "\n",
       "<script>\n",
       "  function code_toggle() {\n",
       "    if (code_shown){\n",
       "      $('div.input').hide('500');\n",
       "      $('#toggleButton').val('Show Code')\n",
       "    } else {\n",
       "      $('div.input').show('500');\n",
       "      $('#toggleButton').val('Hide Code')\n",
       "    }\n",
       "    code_shown = !code_shown\n",
       "  }\n",
       "\n",
       "  $( document ).ready(function(){\n",
       "    code_shown=false;\n",
       "    $('div.input').hide()\n",
       "  });\n",
       "</script>\n",
       "<form action=\"javascript:code_toggle()\"><input type=\"submit\" id=\"toggleButton\" value=\"Show Code\"></form>"
      ],
      "text/plain": [
       "<IPython.core.display.HTML object>"
      ]
     },
     "metadata": {},
     "output_type": "display_data"
    }
   ],
   "source": [
    "%%html\n",
    "\n",
    "<script>\n",
    "  function code_toggle() {\n",
    "    if (code_shown){\n",
    "      $('div.input').hide('500');\n",
    "      $('#toggleButton').val('Show Code')\n",
    "    } else {\n",
    "      $('div.input').show('500');\n",
    "      $('#toggleButton').val('Hide Code')\n",
    "    }\n",
    "    code_shown = !code_shown\n",
    "  }\n",
    "\n",
    "  $( document ).ready(function(){\n",
    "    code_shown=false;\n",
    "    $('div.input').hide()\n",
    "  });\n",
    "</script>\n",
    "<form action=\"javascript:code_toggle()\"><input type=\"submit\" id=\"toggleButton\" value=\"Show Code\"></form>"
   ]
  },
  {
   "cell_type": "code",
   "execution_count": 2,
   "metadata": {},
   "outputs": [
    {
     "data": {
      "application/javascript": [
       "\n",
       "            require.config({\n",
       "                paths: {\n",
       "                    ggb: \"https://cdn.geogebra.org/apps/deployggb\"\n",
       "                }\n",
       "            });\n",
       "\n",
       "            require([\"ggb\"]);\n",
       "        "
      ],
      "text/plain": [
       "<IPython.core.display.Javascript object>"
      ]
     },
     "metadata": {},
     "output_type": "display_data"
    }
   ],
   "source": [
    "from ggb import *\n",
    "ggb = GGB()\n",
    "\n",
    "from IPython.display import Image\n",
    "\n",
    "import ipywidgets as widgets\n",
    "import IPython"
   ]
  },
  {
   "cell_type": "markdown",
   "metadata": {},
   "source": [
    "# Area of a Triangle\n",
    "\n",
    "## Introduction\n",
    "\n",
    "### What is a triangle?\n",
    "\n",
    "A triangle is defined as a 2D shape with 3 straight sides and 3 angles, which can take many forms:\n",
    "\n",
    "![picture](https://www.onlinemathlearning.com/image-files/xtypes-triangles-sides-angles.png.pagespeed.ic.LLzsGQR2vg.png) onlinemathlearning.com\n",
    "\n",
    "### How to find the area\n",
    "\n",
    "Finding the area of a trianlge seems a little more tricky than finding the area of a rectangle, but there's an easy way to visualize it.\n",
    "\n",
    "As you can see in the picture below, a right angle triangle is created by cutting a rectangle diagonally in half, therefore the area of the triangle is half of the area of the rectangle. Since the area of a rectangle is $base \\times height$, the area of a triangle would be $\\frac{base \\times height}{2}$ or sometimes written as $\\frac{1}{2} \\times base \\times height$ though they both mean the same thing.\n",
    "\n",
    "![picture2](https://www.homeschoolmath.net/teaching/g/area/area_right_triangl4.gif) homeschoolmath.net\n",
    "\n",
    "### What about non-right angle triangles?\n",
    "\n",
    "If non-right angle triangles aren't created out of rectangles, then how can we calculate their area?\n",
    "\n",
    "Although non-right angled triangles look like they aren't created out of cutting a rectangle, it is still possible to double the triangle to get a parallelogram which we know from the [Area of a Parallelogram notebook](Parallelogram_Area.ipynb) has the same area as a rectangle, like this:\n",
    "\n",
    "![animation with words](https://i.gifer.com/9VFS.gif) Tom Richmond\n",
    "\n",
    "We can also create rectangles out of non-right angle triangles by doubling the triangle then moving the extended bit to the other side like this:\n",
    "\n",
    "![animation](https://upload.wikimedia.org/wikipedia/commons/6/6d/Triangle_area.gif) wikimedia.org\n",
    "\n",
    "Or if you don't want to double the triangle in the first place and only work with the original area, we can create a rectangle by folding up the points on either side in like this:\n",
    "\n",
    "![animation3](http://people.wku.edu/tom.richmond/triangle.gif) Tom Richmond\n",
    "\n",
    "### Formula\n",
    "\n",
    "So we can see that no matter what kind of triangle you're faced with, as long as we know the base and the height, the area of the triangle will be $$\\frac{ base \\times height}{2}$$\n",
    "\n",
    "We are going to write base as b and height as h in the practice questions."
   ]
  },
  {
   "cell_type": "markdown",
   "metadata": {},
   "source": [
    "### Still not conviced? \n",
    "\n",
    "Choose a length for the base and height then slide point P back and forth on the triangle below and watch the area to see if it changes based on the triangle you make. Try making an obtuse triangle, a right-angle triangle, and an acute triangle."
   ]
  },
  {
   "cell_type": "code",
   "execution_count": 3,
   "metadata": {},
   "outputs": [
    {
     "data": {
      "text/html": [
       "<div id=\"ggb_0_0e\"></div>"
      ],
      "text/plain": [
       "<IPython.core.display.HTML object>"
      ]
     },
     "metadata": {},
     "output_type": "display_data"
    },
    {
     "data": {
      "application/javascript": [
       "var ggb_0_0e = new GGBApplet({\"material_id\": \"QgWDn3pt\"}, \"ggb_0_0e\", false); ggb_0_0e.inject(); "
      ],
      "text/plain": [
       "<IPython.core.display.Javascript object>"
      ]
     },
     "metadata": {},
     "output_type": "display_data"
    }
   ],
   "source": [
    "ggb.material('QgWDn3pt').draw()"
   ]
  },
  {
   "cell_type": "markdown",
   "metadata": {},
   "source": [
    "### Let's try it with some numbers\n",
    "\n",
    "Let's look at this triangle:"
   ]
  },
  {
   "cell_type": "code",
   "execution_count": 4,
   "metadata": {},
   "outputs": [
    {
     "data": {
      "image/png": "[encoded data removed]",
      "text/plain": [
       "<IPython.core.display.Image object>"
      ]
     },
     "execution_count": 4,
     "metadata": {
      "image/png": {
       "height": 400,
       "width": 300
      }
     },
     "output_type": "execute_result"
    }
   ],
   "source": [
    "Image('TriFiles/TWT3.png',width=300,height=400)"
   ]
  },
  {
   "cell_type": "markdown",
   "metadata": {},
   "source": [
    "We can see that the height is 2 cm and the base is 3.4 cm. Let's duplicate this triangle and create a rectangle out of both triangles:"
   ]
  },
  {
   "cell_type": "code",
   "execution_count": 5,
   "metadata": {},
   "outputs": [
    {
     "data": {
      "image/png": "[encoded data removed]",
      "text/plain": [
       "<IPython.core.display.Image object>"
      ]
     },
     "execution_count": 5,
     "metadata": {
      "image/png": {
       "height": 400,
       "width": 300
      }
     },
     "output_type": "execute_result"
    }
   ],
   "source": [
    "Image('TriFiles/TWT5.png',width=300,height=400)"
   ]
  },
  {
   "cell_type": "markdown",
   "metadata": {},
   "source": [
    "Now we have a rectangle, which we know how to calculate the area for using the formula \n",
    "$$\\begin{align*}\n",
    "\\text{Area of rectangle} & = base \\times height\\\\\n",
    "\\text{Area of rectangle} & = 2 cm \\times 3.4 cm\\\\\n",
    "\\text{Area of rectangle} & = 6.8 cm^2\n",
    "\\end{align*}$$\n",
    "\n",
    "Since the triangle makes up only half of this rectangle, we have to divide the area in half as well.\n",
    "$$\\begin{align*}\n",
    "\\text{Area of triangle} & = \\text{Area of rectangle} \\div 2\\\\\n",
    "\\text{Area of triangle} & = 6.8 cm^2 \\div 2\\\\\n",
    "\\text{Area of triangle} & = 3.4 cm^2\n",
    "\\end{align*}$$\n",
    "\n",
    "Therefore the area of the triangle by itself is $3.4 cm^2$"
   ]
  },
  {
   "cell_type": "markdown",
   "metadata": {},
   "source": [
    "##### Now let's use our formula!\n",
    "\n",
    "$$\\begin{align*}\n",
    "\\text{Area of triangle} & = \\frac{ base \\times height}{2}\\\\\n",
    "\\text{Area of triangle} & = \\frac{3.4 cm \\times 2 cm}{2}\\\\\n",
    "\\text{Area of triangle} & = \\frac{6.8 cm^2}{2}\\\\\n",
    "\\text{Area of triangle} & = 3.4 cm^2\n",
    "\\end{align*}$$\n",
    "\n",
    "As you can see, we get the same answer!"
   ]
  },
  {
   "cell_type": "markdown",
   "metadata": {},
   "source": [
    "### Question 1"
   ]
  },
  {
   "cell_type": "code",
   "execution_count": 6,
   "metadata": {},
   "outputs": [
    {
     "data": {
      "image/png": "[encoded data removed]",
      "text/plain": [
       "<IPython.core.display.Image object>"
      ]
     },
     "execution_count": 6,
     "metadata": {
      "image/png": {
       "height": 400,
       "width": 300
      }
     },
     "output_type": "execute_result"
    }
   ],
   "source": [
    "Image('TriFiles/TriEx1.png',width=300,height=400)"
   ]
  },
  {
   "cell_type": "code",
   "execution_count": 7,
   "metadata": {},
   "outputs": [
    {
     "name": "stdout",
     "output_type": "stream",
     "text": [
      "What is the area of this triangle?\n"
     ]
    },
    {
     "data": {
      "application/vnd.jupyter.widget-view+json": {
       "model_id": "eb09a2470ce346439a79d5a46521ce06",
       "version_major": 2,
       "version_minor": 0
      },
      "text/html": [
       "<p>Failed to display Jupyter Widget of type <code>Text</code>.</p>\n",
       "<p>\n",
       "  If you're reading this message in the Jupyter Notebook or JupyterLab Notebook, it may mean\n",
       "  that the widgets JavaScript is still loading. If this message persists, it\n",
       "  likely means that the widgets JavaScript library is either not installed or\n",
       "  not enabled. See the <a href=\"https://ipywidgets.readthedocs.io/en/stable/user_install.html\">Jupyter\n",
       "  Widgets Documentation</a> for setup instructions.\n",
       "</p>\n",
       "<p>\n",
       "  If you're reading this message in another frontend (for example, a static\n",
       "  rendering on GitHub or <a href=\"https://nbviewer.jupyter.org/\">NBViewer</a>),\n",
       "  it may mean that your frontend doesn't currently support widgets.\n",
       "</p>\n"
      ],
      "text/plain": [
       "Text(value='10 m^2', continuous_update=False, description='Area=', placeholder='0')"
      ]
     },
     "metadata": {},
     "output_type": "display_data"
    },
    {
     "name": "stdout",
     "output_type": "stream",
     "text": [
      "Great job!\n"
     ]
    }
   ],
   "source": [
    "ans = widgets.Text(value='',placeholder='0',description='Area=',continuous_update=False)\n",
    "\n",
    "def display():\n",
    "    print(\"What is the area of this triangle?\")\n",
    "    IPython.display.display(ans)\n",
    "\n",
    "def check(a):\n",
    "    IPython.display.clear_output(wait=True)\n",
    "    display()\n",
    "    if ans.value == '10m^2' or ans.value == '10 m^2':\n",
    "        print(\"Great job!\")\n",
    "    else:\n",
    "        if ans.value == '':\n",
    "            pass\n",
    "        if ans.value == '10':\n",
    "            print(\"Don't forget units!\")\n",
    "        else:\n",
    "            print(\"Not quite, don't forget the formula.\")\n",
    "\n",
    "display()\n",
    "ans.observe(check, 'value')"
   ]
  },
  {
   "cell_type": "markdown",
   "metadata": {},
   "source": [
    "### Question 2"
   ]
  },
  {
   "cell_type": "code",
   "execution_count": 8,
   "metadata": {},
   "outputs": [
    {
     "data": {
      "image/png": "[encoded data removed]",
      "text/plain": [
       "<IPython.core.display.Image object>"
      ]
     },
     "execution_count": 8,
     "metadata": {
      "image/png": {
       "height": 400,
       "width": 300
      }
     },
     "output_type": "execute_result"
    }
   ],
   "source": [
    "Image('TriFiles/TriEx2.png',width=300,height=400)"
   ]
  },
  {
   "cell_type": "code",
   "execution_count": 9,
   "metadata": {},
   "outputs": [
    {
     "name": "stdout",
     "output_type": "stream",
     "text": [
      "What is the area of this triangle?\n"
     ]
    },
    {
     "data": {
      "application/vnd.jupyter.widget-view+json": {
       "model_id": "8fe97d9d88f74d428fa670047f44c93b",
       "version_major": 2,
       "version_minor": 0
      },
      "text/html": [
       "<p>Failed to display Jupyter Widget of type <code>Text</code>.</p>\n",
       "<p>\n",
       "  If you're reading this message in the Jupyter Notebook or JupyterLab Notebook, it may mean\n",
       "  that the widgets JavaScript is still loading. If this message persists, it\n",
       "  likely means that the widgets JavaScript library is either not installed or\n",
       "  not enabled. See the <a href=\"https://ipywidgets.readthedocs.io/en/stable/user_install.html\">Jupyter\n",
       "  Widgets Documentation</a> for setup instructions.\n",
       "</p>\n",
       "<p>\n",
       "  If you're reading this message in another frontend (for example, a static\n",
       "  rendering on GitHub or <a href=\"https://nbviewer.jupyter.org/\">NBViewer</a>),\n",
       "  it may mean that your frontend doesn't currently support widgets.\n",
       "</p>\n"
      ],
      "text/plain": [
       "Text(value='', continuous_update=False, description='Area=', placeholder='0')"
      ]
     },
     "metadata": {},
     "output_type": "display_data"
    }
   ],
   "source": [
    "ans2 = widgets.Text(value='',placeholder='0',description='Area=',continuous_update=False)\n",
    "\n",
    "def display2():\n",
    "    print(\"What is the area of this triangle?\")\n",
    "    IPython.display.display(ans2)\n",
    "\n",
    "def check2(a):\n",
    "    IPython.display.clear_output(wait=True)\n",
    "    display2()\n",
    "    if ans2.value == '9.6 cm^2' or ans2.value == '9.6cm^2':\n",
    "        print(\"Great job!\")\n",
    "    else:\n",
    "        if ans2.value == '':\n",
    "            pass\n",
    "        if ans2.value == '9.6':\n",
    "            print(\"Don't forget units!\")\n",
    "        else:\n",
    "            print(\"Not quite, don't forget the formula.\")\n",
    "\n",
    "display2()\n",
    "ans2.observe(check2, 'value')"
   ]
  },
  {
   "cell_type": "code",
   "execution_count": 10,
   "metadata": {},
   "outputs": [
    {
     "data": {
      "image/png": "[encoded data removed]",
      "text/plain": [
       "<IPython.core.display.Image object>"
      ]
     },
     "execution_count": 10,
     "metadata": {
      "image/png": {
       "height": 500,
       "width": 400
      }
     },
     "output_type": "execute_result"
    }
   ],
   "source": [
    "Image('TriFiles/TriEx3.png',width=400,height=500)"
   ]
  },
  {
   "cell_type": "code",
   "execution_count": 11,
   "metadata": {},
   "outputs": [
    {
     "name": "stdout",
     "output_type": "stream",
     "text": [
      "What is the area of this triangle?\n"
     ]
    },
    {
     "data": {
      "application/vnd.jupyter.widget-view+json": {
       "model_id": "42fbbd98bfcc4a57b0f6e92b29b87e74",
       "version_major": 2,
       "version_minor": 0
      },
      "text/html": [
       "<p>Failed to display Jupyter Widget of type <code>Text</code>.</p>\n",
       "<p>\n",
       "  If you're reading this message in the Jupyter Notebook or JupyterLab Notebook, it may mean\n",
       "  that the widgets JavaScript is still loading. If this message persists, it\n",
       "  likely means that the widgets JavaScript library is either not installed or\n",
       "  not enabled. See the <a href=\"https://ipywidgets.readthedocs.io/en/stable/user_install.html\">Jupyter\n",
       "  Widgets Documentation</a> for setup instructions.\n",
       "</p>\n",
       "<p>\n",
       "  If you're reading this message in another frontend (for example, a static\n",
       "  rendering on GitHub or <a href=\"https://nbviewer.jupyter.org/\">NBViewer</a>),\n",
       "  it may mean that your frontend doesn't currently support widgets.\n",
       "</p>\n"
      ],
      "text/plain": [
       "Text(value='', continuous_update=False, description='Area=', placeholder='0')"
      ]
     },
     "metadata": {},
     "output_type": "display_data"
    }
   ],
   "source": [
    "ans3 = widgets.Text(value='',placeholder='0',description='Area=',continuous_update=False)\n",
    "\n",
    "def display3():\n",
    "    print(\"What is the area of this triangle?\")\n",
    "    IPython.display.display(ans3)\n",
    "\n",
    "def check3(a):\n",
    "    IPython.display.clear_output(wait=True)\n",
    "    display3()\n",
    "    if ans3.value == '7.52m' or ans3.value == '7.52 m':\n",
    "        print(\"Great job!\")\n",
    "    else:\n",
    "        if ans3.value == '':\n",
    "            pass\n",
    "        if ans3.value == '7.52':\n",
    "            print(\"Don't forget units!\")\n",
    "        else:\n",
    "            print(\"Not quite, don't forget the formula.\")\n",
    "\n",
    "display3()\n",
    "ans3.observe(check3, 'value')"
   ]
  },
  {
   "cell_type": "markdown",
   "metadata": {},
   "source": [
    "### How does a change in height affect the area?\n",
    "\n",
    "Let's take the first triangle from the example we went through where the base is 3.4 cm and the height is 2 cm which we figured out the area is $3.4 cm^2$. What do you think would happen to the area if we doubled the height to 4 cm? \n",
    "Let's calculate it:\n",
    "$$\\begin{align*}\n",
    "\\text{Area of triangle} & = \\frac{base \\times height}{2}\\\\\n",
    "\\text{Area of Triangle} & = \\frac{3.4 cm \\times 4 cm}{2}\\\\\n",
    "\\text{Area of Triangle} & = \\frac{13.6 cm^2}{2}\\\\\n",
    "\\text{Area of Triangle} & = 6.8 cm^2\n",
    "\\end{align*}$$\n",
    "\n",
    "Interesting. The new area, $6.8 cm^2$ is double the amount of the old area, $3.4 cm^2$. Perhaps that was just a coincidence? There's a slider over the next triangle labelled height, slide it to double the current height and look at what happens to the area. Can we generalize that when the height is doubled then the area is doubled?\n",
    "\n",
    "### How does a change in base affect the area?\n",
    "\n",
    "Now instead of changing the height, let's double the base of the triangle in the first example to 6.8 cm and keep the height at 2 cm. How will this new area compare to the old area? How will it compare to the area when we changed the height?\n",
    "Let's calculate it:\n",
    "$$\\begin{align*}\n",
    "\\text{Area of triangle} & = \\frac{base \\times height}{2}\\\\\n",
    "\\text{Area of triangle} & = \\frac{6.8 cm \\times 2 cm}{2}\\\\\n",
    "\\text{Area of triangle} & = \\frac{13.6 cm^2}{2}\\\\\n",
    "\\text{Area of triangle} & = 6.8 cm^2\n",
    "\\end{align*}$$\n",
    "\n",
    "Look at that! This new area is the same as when we doubled the height! Let's confirm that doubling the base doubles the area by using the slider labelled base over the triangle below to double the base length and watch what happens to the area.\n",
    "\n",
    "**Note:** you can slide P back and forth to create right-angle, obtuse, and acute triangles!"
   ]
  },
  {
   "cell_type": "code",
   "execution_count": 12,
   "metadata": {},
   "outputs": [
    {
     "data": {
      "text/html": [
       "<div id=\"ggb_1_0e\"></div>"
      ],
      "text/plain": [
       "<IPython.core.display.HTML object>"
      ]
     },
     "metadata": {},
     "output_type": "display_data"
    },
    {
     "data": {
      "application/javascript": [
       "var ggb_1_0e = new GGBApplet({\"material_id\": \"QgWDn3pt\"}, \"ggb_1_0e\", false); ggb_1_0e.inject(); "
      ],
      "text/plain": [
       "<IPython.core.display.Javascript object>"
      ]
     },
     "metadata": {},
     "output_type": "display_data"
    }
   ],
   "source": [
    "ggb.material('QgWDn3pt').draw()"
   ]
  },
  {
   "cell_type": "markdown",
   "metadata": {},
   "source": [
    "### What conclusion can we draw?\n",
    "\n",
    "By trying different values for base and height of the triangle above, we can safely conclude that doubling the base or doubling the height will double the area. \n",
    "\n",
    "Let's extend this conclusion: \n",
    ">What would happen to the area if the base or the height were halved?\n",
    "\n",
    "Go back to the triangle above and try it!"
   ]
  },
  {
   "cell_type": "markdown",
   "metadata": {},
   "source": [
    "## Practice\n",
    "\n",
    "Lets use what you've learned to answer these questions:\n",
    "\n",
    "#### Question 1\n",
    "\n",
    "What is the area of a right-angled triangle with a base length of 3.2 m and a height of 4 m?\n",
    "\n",
    "#### Question 2\n",
    "\n",
    "What is the area of the triangle in question 1 if the height is halved?\n",
    "\n",
    "#### Question 3\n",
    "\n",
    "What is the area of the triangle in question 1 if the base is halved and the height is doubled?\n",
    "\n",
    "#### Question 4\n",
    "\n",
    "If the triangle in question 1 was an acute triangle instead of right angle triangle would the area be greater than, equal to, or less than the area as a right angle triangle?"
   ]
  },
  {
   "cell_type": "markdown",
   "metadata": {},
   "source": [
    "### What if you have other information other than the base and height?\n",
    "\n",
    "There are lots of ways to calculate the area of a triangle with different information given to you, some even require knowing an angle or two in the triangle, but thats coming in the future. If you want to learn a little bit about another way to calculate area, this time knowing the length of all three sides, but not the height, then look at the article on [Heron's formula](http://www.mathwarehouse.com/geometry/triangles/area/herons-formula-triangle-area.php) but you don't have to know this yet."
   ]
  },
  {
   "cell_type": "markdown",
   "metadata": {},
   "source": [
    "## Conclusion"
   ]
  },
  {
   "cell_type": "markdown",
   "metadata": {},
   "source": [
    "![logo](https://callysto.ca/wp-content/uploads/2018/06/Callysto_Notebook-Banners_Bottom_06.06.18.jpg)"
   ]
  }
 ],
 "metadata": {
  "kernelspec": {
   "display_name": "Python 3",
   "language": "python",
   "name": "python3"
  },
  "language_info": {
   "codemirror_mode": {
    "name": "ipython",
    "version": 3
   },
   "file_extension": ".py",
   "mimetype": "text/x-python",
   "name": "python",
   "nbconvert_exporter": "python",
   "pygments_lexer": "ipython3",
   "version": "3.6.5"
  }
 },
 "nbformat": 4,
 "nbformat_minor": 2
}
