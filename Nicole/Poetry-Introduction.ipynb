{
 "cells": [
  {
   "cell_type": "markdown",
   "metadata": {},
   "source": [
    "![topbanner](https://callysto.ca/wp-content/uploads/2018/06/Callysto_Notebook-Banner_Top_06.06.18.jpg)"
   ]
  },
  {
   "cell_type": "markdown",
   "metadata": {},
   "source": [
    "https://www.teachervision.com/lesson/poetry-lessons-worksheets-gallery-activities-grades-3-5\n",
    "\n",
    "https://betterlesson.com/community/unit/13173/poetry"
   ]
  },
  {
   "cell_type": "markdown",
   "metadata": {},
   "source": [
    "Target Audience:\n",
    "Grades 4-6\n",
    "\n",
    "Goal\n",
    "Develop a notebook to introduce poetry concepts such as:\n",
    "\n",
    "1. Haiku\n",
    "2. A diamante poem idea \n",
    "3. Limerick \n",
    "\n",
    "In terms of exercises, one exercise can be where the student inputs their (5 7 5 syllable) Haiku poem and it is assessed on whether or not it matches the proper syllable format. Other exercises can be related to the specific curriculum outcomes listed below.\n",
    "\n",
    "Related Curriculum Outcome\n",
    "English Language Arts\n",
    "General Outcome 2 (Gr. 5): Students will listen, speak, read, write, view and represent to comprehend and respond personally and critically to oral, print and other media texts.\n",
    "\n",
    "Specific Outcome: 2.2 Respond to Texts\n",
    "- experience oral, print and other media texts from a variety of cultural traditions and genres, such as poetry\n",
    "- express points of view about oral, print and other media texts\n",
    "- make connections between fictional texts and historical events\n",
    "- describe and discuss new places, times, characters and events encountered in oral, print and other media texts\n",
    "- write or represent the meaning of texts in different forms"
   ]
  },
  {
   "cell_type": "code",
   "execution_count": 1,
   "metadata": {},
   "outputs": [
    {
     "data": {
      "text/html": [
       "<iframe width=\"560\" height=\"315\" src=\"https://www.youtube.com/embed/GG19g9oiF-w\" frameborder=\"0\" allow=\"autoplay; encrypted-media\" allowfullscreen></iframe>"
      ],
      "text/plain": [
       "<IPython.core.display.HTML object>"
      ]
     },
     "execution_count": 1,
     "metadata": {},
     "output_type": "execute_result"
    }
   ],
   "source": [
    "from IPython.display import HTML\n",
    "HTML('<iframe width=\"560\" height=\"315\" src=\"https://www.youtube.com/embed/GG19g9oiF-w\" frameborder=\"0\" allow=\"autoplay; encrypted-media\" allowfullscreen></iframe>')"
   ]
  },
  {
   "cell_type": "markdown",
   "metadata": {},
   "source": [
    "![diamante](https://img.haikudeck.com/mi/a1f84c4c054797e79fc0a42c168e1c1a.png)"
   ]
  },
  {
   "cell_type": "markdown",
   "metadata": {},
   "source": [
    "![structure](https://study.com/cimages/multimages/16/diamantepattern.jpg)"
   ]
  },
  {
   "cell_type": "markdown",
   "metadata": {},
   "source": [
    "![bottombanner](https://callysto.ca/wp-content/uploads/2018/07/Callysto-Notebook-Banner_Bottom_07.30.18.jpg)"
   ]
  }
 ],
 "metadata": {
  "kernelspec": {
   "display_name": "Python 3",
   "language": "python",
   "name": "python3"
  },
  "language_info": {
   "codemirror_mode": {
    "name": "ipython",
    "version": 3
   },
   "file_extension": ".py",
   "mimetype": "text/x-python",
   "name": "python",
   "nbconvert_exporter": "python",
   "pygments_lexer": "ipython3",
   "version": "3.6.5"
  }
 },
 "nbformat": 4,
 "nbformat_minor": 2
}
