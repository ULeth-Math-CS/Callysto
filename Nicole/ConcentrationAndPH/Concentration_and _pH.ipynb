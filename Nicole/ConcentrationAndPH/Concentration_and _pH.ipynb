{
 "cells": [
  {
   "cell_type": "markdown",
   "metadata": {},
   "source": [
    "![logo](https://callysto.ca/wp-content/uploads/2018/06/Callysto_Notebook-Banner_Top_06.06.18.jpg)"
   ]
  },
  {
   "cell_type": "markdown",
   "metadata": {},
   "source": [
    "Target Audience: G9 Science, Unit C Environmental Chemistry (Social and Environmental Emphasis)\n",
    "h3. Related Curriculum Outcome:\n",
    "9C2. Identify processes for measuring the quantity of different substances in the environment and for monitoring air and water quality.\n",
    "\n",
    "Specific Learning Objective 1\n",
    " * Apply and interpret measures of chemical concentration in parts per million, billion or trillion\n",
    "\n",
    "Specific Learning Objective 2\n",
    " * Identify acids, bases and neutral substances, based on measures of their pH (e.g., use indicator solutions or pH meters to measure the pH of water samples)"
   ]
  },
  {
   "cell_type": "code",
   "execution_count": 1,
   "metadata": {},
   "outputs": [
    {
     "data": {
      "text/html": [
       "\n",
       "<script>\n",
       "  function code_toggle() {\n",
       "    if (code_shown){\n",
       "      $('div.input').hide('500');\n",
       "      $('#toggleButton').val('Show Code')\n",
       "    } else {\n",
       "      $('div.input').show('500');\n",
       "      $('#toggleButton').val('Hide Code')\n",
       "    }\n",
       "    code_shown = !code_shown\n",
       "  }\n",
       "\n",
       "  $( document ).ready(function(){\n",
       "    code_shown=false;\n",
       "    $('div.input').hide()\n",
       "  });\n",
       "</script>\n",
       "<form action=\"javascript:code_toggle()\"><input type=\"submit\" id=\"toggleButton\" value=\"Show Code\"></form>"
      ],
      "text/plain": [
       "<IPython.core.display.HTML object>"
      ]
     },
     "metadata": {},
     "output_type": "display_data"
    }
   ],
   "source": [
    "%%html\n",
    "\n",
    "<script>\n",
    "  function code_toggle() {\n",
    "    if (code_shown){\n",
    "      $('div.input').hide('500');\n",
    "      $('#toggleButton').val('Show Code')\n",
    "    } else {\n",
    "      $('div.input').show('500');\n",
    "      $('#toggleButton').val('Hide Code')\n",
    "    }\n",
    "    code_shown = !code_shown\n",
    "  }\n",
    "\n",
    "  $( document ).ready(function(){\n",
    "    code_shown=false;\n",
    "    $('div.input').hide()\n",
    "  });\n",
    "</script>\n",
    "<form action=\"javascript:code_toggle()\"><input type=\"submit\" id=\"toggleButton\" value=\"Show Code\"></form>"
   ]
  },
  {
   "cell_type": "code",
   "execution_count": 17,
   "metadata": {},
   "outputs": [],
   "source": [
    "import ipywidgets as widgets\n",
    "import IPython"
   ]
  },
  {
   "cell_type": "markdown",
   "metadata": {},
   "source": [
    "# Concentration and pH\n",
    "\n",
    "##### Grade 9 curriculum\n",
    "\n",
    "This is a notebook about how to measure the quantity of different substances in the environment. This includes measuring air and water quality. This notebook will focus on what the concentration and pH of different substances means for the environment. You will be able to:\n",
    "* apply and interpret meausres of cemical concentration\n",
    "* ind the pH of a solution using idicator solutions, litmus paper, or a pH meter\n",
    "* identify acids, bases, and neutral substances based on pH\n",
    "* apply this knowledge to help determine the health of an environment"
   ]
  },
  {
   "cell_type": "markdown",
   "metadata": {},
   "source": [
    "### Concentration\n",
    "\n",
    "For many of the products that you use or buy, the standard way of indicating how much of a substance is present is to show the percentage (%) of weight or volume it represents. This are often found on foods or cleaners. Let's take milk for example. 1% milk means that 1% of the milk is milk fat, or in every 100ml of milk, there's 1ml of milk fat. That means if you have 1000ml or 1L of milk, then it contains 10ml of milk fat. \n",
    "\n",
    "![milk](https://www.healthyeating.org/portals/0/Gallery/Album/Milk-Dairy/MD_types-of-milk.png)\n",
    "[source](https://www.healthyeating.org/Milk-Dairy/Dairy-Facts/Types-of-Milk)\n",
    "\n",
    "Percentage is actually decribing \"parts per hundred\". 10% is the same as 10 parts per hundred or $\\frac{10}{100}$. This is very helpful for many everyday solutions, but some solutions are in much smaller concentrations than 1%. We could say that it has a concentration of 0.00001%, but there's a simpler way to show this. This percentage represents $\\frac{1}{1,000,000}$ which scientists use a unit to show this amount called parts per million (ppm). If you've already studied a pesticide called DDT, it's concentration is measured in parts per billion (ppb) because it can be deadly in even smaller concentrations.\n",
    "\n",
    "    Just like how 1000 g is equal to 1 kg, 1 ppm is equal to 1 mg/kg (milligram per kilogram). Theres 1000 milligrams in \n",
    "    a gram and 1000 grams in a kilogram, so there's 1,000,000 milligrams in a kilogram, making one milligram per \n",
    "    kilogram one part per million. \n",
    "    \n",
    "    When the substance is in water, 1 ppm is equal to 1 mg/L (milligram per litre). This only works for water because \n",
    "    water's density is 1 kg/L. Other liquids have different densities, so the concentration needs to be calculated \n",
    "    differently in other solutions.\n",
    "\n",
    "### Let's look at an example of how to calculate ppm of a substance.\n",
    "\n",
    "Example:\n",
    "If the nutritional information label on a container of yogurt specifies that each 125 g serving contains 7 mg of cholesterol, what is the concentration of cholesterol in a serving of yogurt in parts per million (ppm)? [source](https://drive.google.com/file/d/1YJUpQYN2QlrzM0obSWKjdnMeFASNcKQb/view)\n",
    "\n",
    "Solution:\n",
    "1. First, state your information as a ratio.\n",
    "\n",
    "    $\\frac{7 \\text{ mg cholesterol}}{125 \\text{ g yogurt}} = 0.056 \\text{ mg/g}$\n",
    "    \n",
    "\n",
    "2. Second, express that ratio in the form of mg/kg\n",
    "\n",
    "    $ 0.056 \\text{ mg/g} \\times 1000 \\text{ g/kg} = 56 \\text{ mg/kg}$\n",
    "\n",
    "Since mg/kg is equivalent to ppm, there are 56 ppm of cholesterol in each serving of this yogurt."
   ]
  },
  {
   "cell_type": "markdown",
   "metadata": {},
   "source": [
    "### Why is this important?\n",
    "\n",
    "There are many substances that are toxic, meaning they are able to cause harm to organisms. They cause harm, not by how an organism is exposed to it, nor how long, but how much enters the organism. But it's hard to determine the concentration of the substance which is toxic because many factors influence it. Body mass and metabolism are two factors that affect when the concentration is considered toxic. It is easier to say what concentration would likely kill 50% of the population to which it's aplied. This is called the **lethal dose 50** or **LD50**.\n",
    "\n",
    "Many scientists have done studies on what concentrations are harmful to humans. One of the first to do this was Paracelsus during the Renaissance. One of his famous quotes is *\"only the dose makes the poison\"*. \n",
    "\n",
    "Here is a table of the LD50 of different chemicals for humans\n",
    "\n",
    "| Chemical        | Source | Concentration (ppm)|\n",
    "|-----------------|--------|--------------------|\n",
    "|botulinum toxin A|Clostridium botulinum bacterium|0.00000003|\n",
    "|   dioxin |contaminant in some herbicides and in PCBs|0.03|\n",
    "|  nicotine  |cigarette smoke|0.86|\n",
    "|  solanine  |green parts of potatoes|6.0|\n",
    "|  caffeine  |coffee, tea, chocolate|150-200|\n",
    "| NaCl | table salt | 12,357 |\n",
    "| glucose | sugar | 30,000 *(for rats)*|\n",
    "| H<sub>2</sub>O | water | 90,000 *(for rats)*|\n",
    "*Most of these are extrapolated from data of LD50 of rats or from observational data*\n",
    "\n",
    "You might notice that some things in this table you consume every day. Or you see other people consume these. Turns out, too much of anything can kill an organism. 90,000 ppm of water is around 6 litres for a healthy average adult. 200 ppm of caffiene is about 100 cups of coffee for that same adult. It's very difficult to get that kind of concentration within our bodies, so we consider that an **acceptable risk**."
   ]
  },
  {
   "cell_type": "markdown",
   "metadata": {},
   "source": [
    "Biomagnification\n",
    "increase in concentration of a chemical or element as it moves up the food chain\n",
    "\n",
    "bioaccumulation\n",
    "the process whereby chemicals accumulate in the tissues of organisms along the food chain"
   ]
  },
  {
   "cell_type": "markdown",
   "metadata": {},
   "source": [
    "<img style=\"float: right;\" src=\"http://myriverside.sd43.bc.ca/fatimay2014/files/2015/11/ddt-biomagnification-20t5iak.jpg\" width=\"300\" height=\"700\">\n",
    "### Case Study: DDT\n",
    "DDT or dichlorodiphenyltrichloroethane, is a pesticide originally created to kill lice which spread the disease typhus. It was so effective that they also used it to kill mosquitoes to reduce malaria. But what they didn't know when they were using it, was that this pesticide is persistent in the environment, ie. stays in the environment for really long periods or time. Then they decided to use it to control insect damage on crops. Then DDT gets into water supplies and eventually into the ocean in very small concentrations. But then small sea life such as zooplankton consume it. Instead of it being digested, this pestiside stays within their system and accumulates as they consume it. Then the small fish that eat plankton consume the DDT as well, and accumulate an even higher concentration within their fat cells. This goes all the way up the food chain, increasing the concentration in each organism, which is called **biomagnification**. And each step in the food chain, some of these organisms die because they consumed too much DDT and couldn't digest it. Humans have even been found to have small concentrations of DDT in our systems. We track the spread of DDT by calculating the concentration of DDT in certain areas and species."
   ]
  },
  {
   "cell_type": "markdown",
   "metadata": {},
   "source": [
    "## page 24\n",
    "\n",
    "# Acids and Bases\n",
    "\n",
    "The main factor that defines an acid or a base is it's pH. pH stands for \"power of hydrogen\", and it measures the concentration of hydrogen ions (H+) in a solution. The more hydrogen ions are in a solution, the more acidic a solution is. The pH scale is from 0 to 14 to indicate how strong or weak an acid or base is.\n",
    "\n",
    ">A solution with a pH between 0 and 6 is considered an acid. \n",
    ">\n",
    ">A pH of 7 is considered neutral.\n",
    ">\n",
    ">A solution with a pH between 8 and 14 is considered a base. \n",
    " \n",
    "\n",
    "This scale is a logarithmic scale, meaning each number is 10 times stronger or weaker than the number next to it. For example: a pH of 3 is 10 times stronger than a pH of 4.\n",
    "\n",
    "## Acids\n",
    "\n",
    "An acid is a compound that dissolves in water and forms a solution with pH less than 7. Acids are **sour** and react with bases, neutralizing both to a pH around 7. Acids can be strong like stomach acid, or weak like citric acid (found in sour fruits). You can turn a strong acidic solution into a weak acidic solution by diluting the solution with pure or distilled water (which is a neutral solution)."
   ]
  },
  {
   "cell_type": "code",
   "execution_count": 19,
   "metadata": {},
   "outputs": [
    {
     "name": "stdout",
     "output_type": "stream",
     "text": [
      "Which of these household substances do you think contain an acid?\n",
      "You can select more than one by holding 'crtl' while selecting.\n"
     ]
    },
    {
     "data": {
      "application/vnd.jupyter.widget-view+json": {
       "model_id": "53707b0ee5f44862b48618cd9812bc98",
       "version_major": 2,
       "version_minor": 0
      },
      "text/html": [
       "<p>Failed to display Jupyter Widget of type <code>SelectMultiple</code>.</p>\n",
       "<p>\n",
       "  If you're reading this message in the Jupyter Notebook or JupyterLab Notebook, it may mean\n",
       "  that the widgets JavaScript is still loading. If this message persists, it\n",
       "  likely means that the widgets JavaScript library is either not installed or\n",
       "  not enabled. See the <a href=\"https://ipywidgets.readthedocs.io/en/stable/user_install.html\">Jupyter\n",
       "  Widgets Documentation</a> for setup instructions.\n",
       "</p>\n",
       "<p>\n",
       "  If you're reading this message in another frontend (for example, a static\n",
       "  rendering on GitHub or <a href=\"https://nbviewer.jupyter.org/\">NBViewer</a>),\n",
       "  it may mean that your frontend doesn't currently support widgets.\n",
       "</p>\n"
      ],
      "text/plain": [
       "SelectMultiple(description='Substances', options=('Vinegar', 'Tums/Antacids', 'Pure Water', 'Tomatoes', 'Soap'), value=())"
      ]
     },
     "metadata": {},
     "output_type": "display_data"
    }
   ],
   "source": [
    "answers = widgets.SelectMultiple(options=['Vinegar', 'Tums/Antacids', 'Pure Water', 'Tomatoes', 'Soap'],\n",
    "            value=[], description='Substances')\n",
    "\n",
    "def display():\n",
    "    print(\"Which of these household substances do you think contain an acid?\")\n",
    "    print(\"You can select more than one by holding 'crtl' while selecting.\")\n",
    "    IPython.display.display(answers)\n",
    "    \n",
    "def check(a):\n",
    "    IPython.display.clear_output()\n",
    "    display()\n",
    "    if answers.value == ():\n",
    "        pass\n",
    "    if answers.value == ('Vinegar', 'Tomatoes'):\n",
    "        print(\"Awesome! You found the acids!\")\n",
    "        print(\"Vinegar has acetic acid in it, making it sour.\")\n",
    "        print(\"Tomatoes have citric acid in them, also making them a little sour.\")\n",
    "    else:\n",
    "        if answers.value == ('Vinegar',) or answers.value == ('Tomatoes',):\n",
    "            print(\"You're right, but there's one more that contains an acid. Look at the definition again.\")\n",
    "        else:\n",
    "            print(answers.value)\n",
    "            print(\"You've selected at least one substance that is not an acid. Look at the definition again.\")\n",
    "        \n",
    "display()\n",
    "answers.observe(check, 'value')"
   ]
  },
  {
   "cell_type": "markdown",
   "metadata": {},
   "source": [
    "## Bases\n",
    "\n",
    "A base is a compound that dissolves in water and forms a solution with pH greater than 7. Bases are **bitter and slippery** and react with acids, neutralizing both to a pH around 7. Bases can be strong like many household cleaners such as bleach, or weak like baking soda (used in baking and cleaning). You can turn a strong basic solution into a weak basic solution by diluting the solution with pure or distilled water (which is a neutral solution)."
   ]
  },
  {
   "cell_type": "code",
   "execution_count": 4,
   "metadata": {},
   "outputs": [
    {
     "name": "stdout",
     "output_type": "stream",
     "text": [
      "From the same list as above, which of these household substances do you think contain a base?\n",
      "Once again, you can select more than one by holding down 'crtl' while selecting.\n"
     ]
    },
    {
     "data": {
      "application/vnd.jupyter.widget-view+json": {
       "model_id": "66a0b7823c09483586793fa8d85d553d",
       "version_major": 2,
       "version_minor": 0
      },
      "text/html": [
       "<p>Failed to display Jupyter Widget of type <code>SelectMultiple</code>.</p>\n",
       "<p>\n",
       "  If you're reading this message in the Jupyter Notebook or JupyterLab Notebook, it may mean\n",
       "  that the widgets JavaScript is still loading. If this message persists, it\n",
       "  likely means that the widgets JavaScript library is either not installed or\n",
       "  not enabled. See the <a href=\"https://ipywidgets.readthedocs.io/en/stable/user_install.html\">Jupyter\n",
       "  Widgets Documentation</a> for setup instructions.\n",
       "</p>\n",
       "<p>\n",
       "  If you're reading this message in another frontend (for example, a static\n",
       "  rendering on GitHub or <a href=\"https://nbviewer.jupyter.org/\">NBViewer</a>),\n",
       "  it may mean that your frontend doesn't currently support widgets.\n",
       "</p>\n"
      ],
      "text/plain": [
       "SelectMultiple(description='Substances', options=('Vinegar', 'Tums/Antacids', 'Pure Water', 'Tomatoes', 'Soap'), value=())"
      ]
     },
     "metadata": {},
     "output_type": "display_data"
    }
   ],
   "source": [
    "answers2 = widgets.SelectMultiple(options=['Vinegar', 'Tums/Antacids', 'Pure Water', 'Tomatoes', 'Soap'],\n",
    "            value=[], description='Substances')\n",
    "\n",
    "def display2():\n",
    "    print(\"From the same list as above, which of these household substances do you think contain a base?\")\n",
    "    print(\"Once again, you can select more than one by holding down 'crtl' while selecting.\")\n",
    "    IPython.display.display(answers2)\n",
    "    \n",
    "def check2(a):\n",
    "    IPython.display.clear_output()\n",
    "    display2()\n",
    "    if answers2.value == ():\n",
    "        pass\n",
    "    if answers2.value == ('Tums/Antacids','Soap'):\n",
    "        print(\"Well done! You found the substances that contain a base!\")\n",
    "        print(\"When you eat an antacid, it neutralizes the stomach acid that's giving you heart burn.\")\n",
    "        print(\"Soap contains a small amount of base to make it slippery and able to clean well.\")\n",
    "    else:\n",
    "        if answers2.value == ('Tums/Antacids',) or answers2.value == ('Soap',):\n",
    "            print(\"You're right, but there's another substance that contains a base. Look at the definition again.\")\n",
    "        else:\n",
    "            print(\"You've selected one or more substances that do not contain a base. Look at the definition again.\")\n",
    "\n",
    "display2()\n",
    "answers2.observe(check2, 'value')"
   ]
  },
  {
   "cell_type": "markdown",
   "metadata": {},
   "source": [
    "### Apply your knowledge\n",
    "\n",
    "Answer the questions below about whether each substance is an acid, a base, or neutral based on their pH."
   ]
  },
  {
   "cell_type": "code",
   "execution_count": 5,
   "metadata": {},
   "outputs": [
    {
     "name": "stdout",
     "output_type": "stream",
     "text": [
      "Orange juice has a pH around 3. What is it?\n"
     ]
    },
    {
     "data": {
      "application/vnd.jupyter.widget-view+json": {
       "model_id": "fef4896557654f60817e26d7bb2f8574",
       "version_major": 2,
       "version_minor": 0
      },
      "text/html": [
       "<p>Failed to display Jupyter Widget of type <code>RadioButtons</code>.</p>\n",
       "<p>\n",
       "  If you're reading this message in the Jupyter Notebook or JupyterLab Notebook, it may mean\n",
       "  that the widgets JavaScript is still loading. If this message persists, it\n",
       "  likely means that the widgets JavaScript library is either not installed or\n",
       "  not enabled. See the <a href=\"https://ipywidgets.readthedocs.io/en/stable/user_install.html\">Jupyter\n",
       "  Widgets Documentation</a> for setup instructions.\n",
       "</p>\n",
       "<p>\n",
       "  If you're reading this message in another frontend (for example, a static\n",
       "  rendering on GitHub or <a href=\"https://nbviewer.jupyter.org/\">NBViewer</a>),\n",
       "  it may mean that your frontend doesn't currently support widgets.\n",
       "</p>\n"
      ],
      "text/plain": [
       "RadioButtons(options=('', 'An acid', 'A base', 'Neutral'), value='')"
      ]
     },
     "metadata": {},
     "output_type": "display_data"
    }
   ],
   "source": [
    "answers3 = widgets.RadioButtons(options=['','An acid', 'A base', 'Neutral'],\n",
    "            value='')\n",
    "\n",
    "def display3():\n",
    "    print(\"Orange juice has a pH around 3. What is it?\")\n",
    "    IPython.display.display(answers3)\n",
    "    \n",
    "def check3(a):\n",
    "    IPython.display.clear_output()\n",
    "    display3()\n",
    "    if answers3.value == '':\n",
    "        pass\n",
    "    if answers3.value == 'An acid':\n",
    "        print(\"Great job! Because the pH is less than 7, it's an acid!\")\n",
    "    else:\n",
    "        print(\"That's not right, remember what the definitions of acids and bases are.\")\n",
    "\n",
    "display3()\n",
    "answers3.observe(check3, 'value')"
   ]
  },
  {
   "cell_type": "code",
   "execution_count": 6,
   "metadata": {},
   "outputs": [
    {
     "name": "stdout",
     "output_type": "stream",
     "text": [
      "Baking soda has a pH around 9. What is it?\n"
     ]
    },
    {
     "data": {
      "application/vnd.jupyter.widget-view+json": {
       "model_id": "de2bee4f152746209a9ba6ca718e8b01",
       "version_major": 2,
       "version_minor": 0
      },
      "text/html": [
       "<p>Failed to display Jupyter Widget of type <code>RadioButtons</code>.</p>\n",
       "<p>\n",
       "  If you're reading this message in the Jupyter Notebook or JupyterLab Notebook, it may mean\n",
       "  that the widgets JavaScript is still loading. If this message persists, it\n",
       "  likely means that the widgets JavaScript library is either not installed or\n",
       "  not enabled. See the <a href=\"https://ipywidgets.readthedocs.io/en/stable/user_install.html\">Jupyter\n",
       "  Widgets Documentation</a> for setup instructions.\n",
       "</p>\n",
       "<p>\n",
       "  If you're reading this message in another frontend (for example, a static\n",
       "  rendering on GitHub or <a href=\"https://nbviewer.jupyter.org/\">NBViewer</a>),\n",
       "  it may mean that your frontend doesn't currently support widgets.\n",
       "</p>\n"
      ],
      "text/plain": [
       "RadioButtons(options=('', 'An acid', 'A base', 'Neutral'), value='')"
      ]
     },
     "metadata": {},
     "output_type": "display_data"
    }
   ],
   "source": [
    "answers5 = widgets.RadioButtons(options=['','An acid', 'A base', 'Neutral'],\n",
    "            value='')\n",
    "\n",
    "def display5():\n",
    "    print(\"Baking soda has a pH around 9. What is it?\")\n",
    "    IPython.display.display(answers5)\n",
    "    \n",
    "def check5(a):\n",
    "    IPython.display.clear_output()\n",
    "    display5()\n",
    "    if answers5.value == '':\n",
    "        pass\n",
    "    if answers5.value == 'A base':\n",
    "        print(\"That's right! Because the pH is bigger than 7, it's a base!\")\n",
    "    else:\n",
    "        print(\"That's not right, remember what the definitions of acids and bases are.\")\n",
    "\n",
    "display5()\n",
    "answers5.observe(check5, 'value')"
   ]
  },
  {
   "cell_type": "markdown",
   "metadata": {},
   "source": [
    "### Environment\n",
    "\n",
    "Now that we know a few acids and bases that you can find in your house, let's extend this to the environment. Normal rain has a pH of around 5.6, while pure water has a pH around 7, and ocean water has a pH around 8. But sometimes air pollutants can create more acid when it reacts with water in the air, creating acid rain. Acid rain has a pH less than 5.6 and is not healthy for the health of the environment. This video from National Geographic explains acin rain, its effects, and what we can do to help."
   ]
  },
  {
   "cell_type": "code",
   "execution_count": 7,
   "metadata": {},
   "outputs": [
    {
     "data": {
      "text/html": [
       "<iframe width=\"560\" height=\"315\" src=\"https://www.youtube.com/embed/1PDjVDIrFec\" frameborder=\"0\" allow=\"autoplay; encrypted-media\" allowfullscreen></iframe>"
      ],
      "text/plain": [
       "<IPython.core.display.HTML object>"
      ]
     },
     "execution_count": 7,
     "metadata": {},
     "output_type": "execute_result"
    }
   ],
   "source": [
    "from IPython.display import HTML\n",
    "HTML('<iframe width=\"560\" height=\"315\" src=\"https://www.youtube.com/embed/1PDjVDIrFec\" frameborder=\"0\" allow=\"autoplay; encrypted-media\" allowfullscreen></iframe>')"
   ]
  },
  {
   "cell_type": "code",
   "execution_count": 8,
   "metadata": {},
   "outputs": [
    {
     "name": "stdout",
     "output_type": "stream",
     "text": [
      "Which type of water has a neutral pH? (A pH around 7)\n"
     ]
    },
    {
     "data": {
      "application/vnd.jupyter.widget-view+json": {
       "model_id": "fa7ac98f3e814f57a49754a5f05b06eb",
       "version_major": 2,
       "version_minor": 0
      },
      "text/html": [
       "<p>Failed to display Jupyter Widget of type <code>RadioButtons</code>.</p>\n",
       "<p>\n",
       "  If you're reading this message in the Jupyter Notebook or JupyterLab Notebook, it may mean\n",
       "  that the widgets JavaScript is still loading. If this message persists, it\n",
       "  likely means that the widgets JavaScript library is either not installed or\n",
       "  not enabled. See the <a href=\"https://ipywidgets.readthedocs.io/en/stable/user_install.html\">Jupyter\n",
       "  Widgets Documentation</a> for setup instructions.\n",
       "</p>\n",
       "<p>\n",
       "  If you're reading this message in another frontend (for example, a static\n",
       "  rendering on GitHub or <a href=\"https://nbviewer.jupyter.org/\">NBViewer</a>),\n",
       "  it may mean that your frontend doesn't currently support widgets.\n",
       "</p>\n"
      ],
      "text/plain": [
       "RadioButtons(options=('', 'Sea water', 'Fresh water', 'Pure/distilled water', 'Acid rain'), value='')"
      ]
     },
     "metadata": {},
     "output_type": "display_data"
    }
   ],
   "source": [
    "answers4 = widgets.RadioButtons(options=['','Sea water', 'Fresh water', 'Pure/distilled water', 'Acid rain'],\n",
    "            value='')\n",
    "\n",
    "def display4():\n",
    "    print(\"Which type of water has a neutral pH? (A pH around 7)\")\n",
    "    IPython.display.display(answers4)\n",
    "    \n",
    "def check4(a):\n",
    "    IPython.display.clear_output()\n",
    "    display4()\n",
    "    if answers4.value == '':\n",
    "        pass\n",
    "    if answers4.value == 'Pure/distilled water':\n",
    "        print(\"That's right! pure water or distilled water has a pH close to 7. That makes it neither a base, nor an acid.\")\n",
    "    else:\n",
    "        print(\"That's not right, look back at the last block of text.\")\n",
    "\n",
    "display4()\n",
    "answers4.observe(check4, 'value')"
   ]
  },
  {
   "cell_type": "markdown",
   "metadata": {},
   "source": [
    "### How does changing the pH affect the enviroment?\n",
    "\n",
    "Every substance has a pH. If this pH is changed, it affects organisms that use or consume the substance by changing their pH. Changing an organism's pH will affect how it functions. For example by making soil more acidic, it detroys nutrients, making plants unable to grow healthy. Acidic water can poison fish as well as their eggs which prevents them from hatching. "
   ]
  },
  {
   "cell_type": "markdown",
   "metadata": {},
   "source": [
    "### The full scale\n",
    "\n",
    "<img src=\"http://phhsbiology.weebly.com/uploads/3/0/1/0/30101179/ph_scale.jpg\" width=\"500\" height=\"600\">\n",
    "\n",
    "### How do we measure pH?\n",
    "\n",
    "There's lots of ways to meausre pH. There's even a meter that records the pH of a slution digitally, but those are expensive. There are lots of cheaper indicators that change color when the pH changes past a specific limit. If you want to know if something is acidic or basic, but not the exact pH, there is a test called litmus paper. Litmus paper comes in blue and red. The blue litmus paper turns red if it's dipped in an acid. The red litmus paper turns blue if it's dipped in a base. There's also a universal indicator solution which changes color at different pHs between 2 and 10. There's many more indicators such as phenolthalein, phenol red, bromothymol blue, and even cabbage juice. These all change color at different points on the pH scale."
   ]
  },
  {
   "cell_type": "markdown",
   "metadata": {},
   "source": [
    "## Lab\n",
    "\n",
    "Let's test a mystery solution with litmus paper to determine if it's an acid or a base. Drag the red and blue litmus paper strips into the liquid in the beaker one at a time. \n",
    "\n",
    "Remember, if the red litmus paper turns blue on the end that was dipped, it's a base. If the blue litmus paper turns red on the end that was dipped, it's an acid. If neither change color when dipped, then it's neutral."
   ]
  },
  {
   "cell_type": "code",
   "execution_count": 9,
   "metadata": {},
   "outputs": [
    {
     "data": {
      "text/html": [
       "\n",
       "<script type = \"text/javascript\" src=\"https://d3js.org/d3.v3.min.js\"></script>\n",
       "<script type = \"text/javascript\" src=\"sources/animation2.js\"></script>"
      ],
      "text/plain": [
       "<IPython.core.display.HTML object>"
      ]
     },
     "metadata": {},
     "output_type": "display_data"
    }
   ],
   "source": [
    "%%html\n",
    "\n",
    "<script type = \"text/javascript\" src=\"https://d3js.org/d3.v3.min.js\"></script>\n",
    "<script type = \"text/javascript\" src=\"sources/animation2.js\"></script>"
   ]
  },
  {
   "cell_type": "code",
   "execution_count": 10,
   "metadata": {},
   "outputs": [
    {
     "data": {
      "text/html": [
       "\n",
       "<div id=\"animation\"></div>\n",
       "\n",
       "<script>\n",
       "display(10); \n",
       "</script>\n",
       "\n",
       "# 10 represents the pH of the solution in the beaker. \n",
       "#If this is changed then the question below the lab might not have the right answer."
      ],
      "text/plain": [
       "<IPython.core.display.HTML object>"
      ]
     },
     "metadata": {},
     "output_type": "display_data"
    }
   ],
   "source": [
    "%%html\n",
    "\n",
    "<div id=\"animation\"></div>\n",
    "\n",
    "<script>\n",
    "display(10); \n",
    "</script>\n",
    "\n",
    "# 10 represents the pH of the solution in the beaker. \n",
    "#If this is changed then the question below the lab might not have the right answer."
   ]
  },
  {
   "cell_type": "code",
   "execution_count": 16,
   "metadata": {},
   "outputs": [
    {
     "name": "stdout",
     "output_type": "stream",
     "text": [
      "Is the solution in the beaker an acid, a base, or neutral?\n"
     ]
    },
    {
     "data": {
      "application/vnd.jupyter.widget-view+json": {
       "model_id": "24a624cc451548a1bb2e632c973f506d",
       "version_major": 2,
       "version_minor": 0
      },
      "text/html": [
       "<p>Failed to display Jupyter Widget of type <code>RadioButtons</code>.</p>\n",
       "<p>\n",
       "  If you're reading this message in the Jupyter Notebook or JupyterLab Notebook, it may mean\n",
       "  that the widgets JavaScript is still loading. If this message persists, it\n",
       "  likely means that the widgets JavaScript library is either not installed or\n",
       "  not enabled. See the <a href=\"https://ipywidgets.readthedocs.io/en/stable/user_install.html\">Jupyter\n",
       "  Widgets Documentation</a> for setup instructions.\n",
       "</p>\n",
       "<p>\n",
       "  If you're reading this message in another frontend (for example, a static\n",
       "  rendering on GitHub or <a href=\"https://nbviewer.jupyter.org/\">NBViewer</a>),\n",
       "  it may mean that your frontend doesn't currently support widgets.\n",
       "</p>\n"
      ],
      "text/plain": [
       "RadioButtons(options=('', 'An acid', 'A base', 'Neutral'), value='')"
      ]
     },
     "metadata": {},
     "output_type": "display_data"
    }
   ],
   "source": [
    "answers6 = widgets.RadioButtons(options=['','An acid', 'A base', 'Neutral'],\n",
    "            value='')\n",
    "\n",
    "def display6():\n",
    "    print(\"Is the solution in the beaker an acid, a base, or neutral?\")\n",
    "    IPython.display.display(answers6)\n",
    "    \n",
    "def check6(a):\n",
    "    IPython.display.clear_output()\n",
    "    display6()\n",
    "    if answers6.value == '':\n",
    "        pass\n",
    "    if answers6.value == 'A base': # Here's where it checks for the right answer\n",
    "        print(\"Great job! Because the red litmus paper turned blue on the end, it's a base!\")\n",
    "    else:\n",
    "        print(\"That's not right. Look at what the litmus paper tells you again.\")\n",
    "\n",
    "display6()\n",
    "answers6.observe(check6, 'value')"
   ]
  },
  {
   "cell_type": "markdown",
   "metadata": {},
   "source": [
    "### Universal indicator solution\n",
    "\n",
    "Universal indicator can come on paper like the litmus tests, or it can be in a solution that it put into the solution being tested. If you're using paper then the paper changes color with respect to the scale below depending on the pH. If you use the solution in a dropper, then the whole solution changes color with respect to the scale below depending on the solutions pH!\n",
    "\n",
    "![indicator](http://www.middleschoolchemistry.com/img/content/lessons/6.8/universal_indicator_chart.jpg)\n",
    "\n",
    "##### Instructions\n",
    "Slide the slider to change the pH of the solution in the beaker. Then add the universal indicator solution in the dropper over top the beaker. Then watch what color the solution in the beaker changes to! If you want to try another pH, press the reset button, pick a new pH and drag the dropper over the beaker again!"
   ]
  },
  {
   "cell_type": "code",
   "execution_count": 12,
   "metadata": {},
   "outputs": [
    {
     "data": {
      "text/html": [
       "\n",
       "<link rel=\"stylesheet\" type=\"text/css\" href=\"sources/dropperstyle.css\">\n",
       "<script type = \"text/javascript\" src=\"sources/dropperAnimation.js\"></script>"
      ],
      "text/plain": [
       "<IPython.core.display.HTML object>"
      ]
     },
     "metadata": {},
     "output_type": "display_data"
    }
   ],
   "source": [
    "%%html\n",
    "\n",
    "<link rel=\"stylesheet\" type=\"text/css\" href=\"sources/dropperstyle.css\">\n",
    "<script type = \"text/javascript\" src=\"sources/dropperAnimation.js\"></script>"
   ]
  },
  {
   "cell_type": "code",
   "execution_count": 13,
   "metadata": {},
   "outputs": [
    {
     "data": {
      "text/html": [
       "\n",
       "<div id=\"slider\"></div>\n",
       "<div id=\"beaker\">\n",
       "<input id=\"reset\" type=\"button\" value=\"Reset\" onclick=\"reset_liquid()\">\n",
       "</div>\n",
       "\n",
       "<script>\n",
       "display2(7);\n",
       "</script>"
      ],
      "text/plain": [
       "<IPython.core.display.HTML object>"
      ]
     },
     "metadata": {},
     "output_type": "display_data"
    }
   ],
   "source": [
    "%%html\n",
    "\n",
    "<div id=\"slider\"></div>\n",
    "<div id=\"beaker\">\n",
    "<input id=\"reset\" type=\"button\" value=\"Reset\" onclick=\"reset_liquid()\">\n",
    "</div>\n",
    "\n",
    "<script>\n",
    "display2(7);\n",
    "</script>"
   ]
  },
  {
   "cell_type": "markdown",
   "metadata": {},
   "source": [
    "### How to measure water quality\n",
    "\n",
    "There are many factors that go into determining the quality of water, including acidity (pH), color, concentration of disolved oxygen, and turbidity (the amount of suspended particles in the water). Let's apply our knowledge of concentration and pH to measuring water quality.\n",
    "\n",
    "Good quality fresh water usually has a pH around 6-7, and a concentration of dissolved oxygen around 9-10 ppm. Good quality sea water has a pH around 7-8, and a concentration of dissolved oxygen around 7-8 ppm. These measurements are taken at room temperature, as the temperature of water affects the amount of dissolved oxygen that can be found in water. [source](https://www.engineeringtoolbox.com/oxygen-solubility-water-d_841.html)"
   ]
  },
  {
   "cell_type": "code",
   "execution_count": 14,
   "metadata": {},
   "outputs": [
    {
     "name": "stdout",
     "output_type": "stream",
     "text": [
      "What will happen to the pH of a pond if acid rain falls into it?\n"
     ]
    },
    {
     "data": {
      "application/vnd.jupyter.widget-view+json": {
       "model_id": "f628be7a249a49ada7961a0b0dc0fe92",
       "version_major": 2,
       "version_minor": 0
      },
      "text/html": [
       "<p>Failed to display Jupyter Widget of type <code>RadioButtons</code>.</p>\n",
       "<p>\n",
       "  If you're reading this message in the Jupyter Notebook or JupyterLab Notebook, it may mean\n",
       "  that the widgets JavaScript is still loading. If this message persists, it\n",
       "  likely means that the widgets JavaScript library is either not installed or\n",
       "  not enabled. See the <a href=\"https://ipywidgets.readthedocs.io/en/stable/user_install.html\">Jupyter\n",
       "  Widgets Documentation</a> for setup instructions.\n",
       "</p>\n",
       "<p>\n",
       "  If you're reading this message in another frontend (for example, a static\n",
       "  rendering on GitHub or <a href=\"https://nbviewer.jupyter.org/\">NBViewer</a>),\n",
       "  it may mean that your frontend doesn't currently support widgets.\n",
       "</p>\n"
      ],
      "text/plain": [
       "RadioButtons(options=('', 'pH will increase towards 14', 'pH will decrease towards 1', 'pH will because neutral (7)', 'pH will stay the same'), value='')"
      ]
     },
     "metadata": {},
     "output_type": "display_data"
    }
   ],
   "source": [
    "answers7 = widgets.RadioButtons(options=['','pH will increase towards 14',\n",
    "                                         'pH will decrease towards 1',\n",
    "                                         'pH will because neutral (7)',\n",
    "                                         'pH will stay the same'],\n",
    "            value='')\n",
    "\n",
    "def display7():\n",
    "    print(\"What will happen to the pH of a pond if acid rain falls into it?\")\n",
    "    IPython.display.display(answers7)\n",
    "    \n",
    "def check7(a):\n",
    "    IPython.display.clear_output()\n",
    "    display7()\n",
    "    if answers7.value == '':\n",
    "        pass\n",
    "    if answers7.value == 'pH will decrease towards 1':\n",
    "        print(\"That's right! Acid rain makes the pond more acidic, meaning it's pH is closer to 1.\")\n",
    "    else:\n",
    "        print(\"Sorry, try again. Remember what acid rain is.\")\n",
    "\n",
    "display7()\n",
    "answers7.observe(check7, 'value')"
   ]
  },
  {
   "cell_type": "markdown",
   "metadata": {},
   "source": [
    "### How to measure air quality\n",
    "\n",
    "The video below is a company in Victoria, Australia that measures the air quality. Try to find all the substances they meausre the concentration of."
   ]
  },
  {
   "cell_type": "code",
   "execution_count": 15,
   "metadata": {},
   "outputs": [
    {
     "data": {
      "text/html": [
       "<iframe width=\"560\" height=\"315\" src=\"https://www.youtube.com/embed/mp3kztZy7ow?start=19\" frameborder=\"0\" allow=\"autoplay; encrypted-media\" allowfullscreen></iframe>"
      ],
      "text/plain": [
       "<IPython.core.display.HTML object>"
      ]
     },
     "execution_count": 15,
     "metadata": {},
     "output_type": "execute_result"
    }
   ],
   "source": [
    "HTML('<iframe width=\"560\" height=\"315\" src=\"https://www.youtube.com/embed/mp3kztZy7ow?start=19\" frameborder=\"0\" allow=\"autoplay; encrypted-media\" allowfullscreen></iframe>')"
   ]
  },
  {
   "cell_type": "markdown",
   "metadata": {},
   "source": [
    "They measure the concentration of carbon monoxide (from car exhaust) which is harmful in large amounts. They also measure the amount of ozone close to the earth. Ozone is good for us when it's 6-10 miles from the ground as it protects us from the sun's ultraviolet rays. But near the ground, ozone reacts with other chemicals to create harmful substances. If you've ever seen smog, ozone is one of its main components.\n",
    "\n",
    "Ozone at ground level naturally occurs in concentrations around 10 ppb, but becomes a health concern for sensitive organisms at concentrations higher than 85 ppb.\n",
    "\n",
    "Look at the graph below. Is the ozone concentration average in Canada a concern?\n",
    "\n",
    "![cananda grpah](https://www.canada.ca/content/canadasite/en/environment-climate-change/services/environmental-indicators/air-quality/ambient-levels-ozone/_jcr_content/par/img_0_0/image.img.gif/1506365720554.gif)\n",
    "\n",
    "If you want to see more trends of air quality in Canada visit [www.cananda.ca](https://www.canada.ca/en/environment-climate-change/services/environmental-indicators/air-quality/ambient-levels-ozone.html) and scroll to the bottom and look under \"Related Indicators\"."
   ]
  },
  {
   "cell_type": "markdown",
   "metadata": {},
   "source": [
    "## Conclusion\n",
    "\n",
    "Let's summarize what we've learned in this notebook. We have learned:\n",
    "\n",
    "* Concentration is in ppm, ppb, or ppt\n",
    "* LD50 is what concentration kills 50% of organisms that consume \n",
    "* DDT is an example of biomagnification\n",
    "* Acids are sour and have a pH less than 7\n",
    "* Bases are bitter and slippery and have a pH greater than 7\n",
    "* Concentration and pH are used to check the quality or water and air\n",
    "\n",
    "This notebook has a lot of content in it, you might need to go through it a few more times to really remember all the details. If you want some more resources on this topic, check out these websites:\n",
    "\n",
    "https://colgan-science9.weebly.com/acids-and-bases.html\n",
    "\n",
    "http://www.k12science.org/materials/k12/science/environmental-science/"
   ]
  },
  {
   "cell_type": "markdown",
   "metadata": {},
   "source": [
    "![logo](https://callysto.ca/wp-content/uploads/2018/07/Callysto-Notebook-Banner_Bottom_07.30.18.jpg)"
   ]
  }
 ],
 "metadata": {
  "kernelspec": {
   "display_name": "Python 3",
   "language": "python",
   "name": "python3"
  },
  "language_info": {
   "codemirror_mode": {
    "name": "ipython",
    "version": 3
   },
   "file_extension": ".py",
   "mimetype": "text/x-python",
   "name": "python",
   "nbconvert_exporter": "python",
   "pygments_lexer": "ipython3",
   "version": "3.6.5"
  }
 },
 "nbformat": 4,
 "nbformat_minor": 2
}
