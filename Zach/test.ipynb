{
 "cells": [
  {
   "cell_type": "code",
   "execution_count": 6,
   "metadata": {},
   "outputs": [],
   "source": [
    "\n",
    "class MyExecutePreprocessor(proc.ExecutePreprocessor):\n",
    "    def preprocess_cell(self, cell, resources, index):\n",
    "        # Execute the cell normally\n",
    "        cell, resources = super().preprocess_cell(cell, resources, index)\n",
    "        # Add your magic here\n",
    "        cell.metadata['widgets'] = {'stuff':'that is cool'}\n",
    "        return cell, resources\n"
   ]
  },
  {
   "cell_type": "code",
   "execution_count": 5,
   "metadata": {},
   "outputs": [],
   "source": [
    "import nbconvert.preprocessors as proc"
   ]
  },
  {
   "cell_type": "code",
   "execution_count": 9,
   "metadata": {},
   "outputs": [
    {
     "name": "stdout",
     "output_type": "stream",
     "text": [
      "<__main__.MyExecutePreprocessor object at 0x7f03a921f630>\n"
     ]
    }
   ],
   "source": [
    "e = MyExecutePreprocessor()\n",
    "print(e)"
   ]
  },
  {
   "cell_type": "code",
   "execution_count": 22,
   "metadata": {},
   "outputs": [],
   "source": [
    "import ipykernel.connect as c\n",
    "import sys"
   ]
  },
  {
   "cell_type": "code",
   "execution_count": 24,
   "metadata": {},
   "outputs": [
    {
     "name": "stdout",
     "output_type": "stream",
     "text": [
      "JSON (JavaScript Object Notation) <http://json.org> is a subset of\n",
      "JavaScript syntax (ECMA-262 3rd edition) used as a lightweight data\n",
      "interchange format.\n",
      "\n",
      ":mod:`json` exposes an API familiar to users of the standard library\n",
      ":mod:`marshal` and :mod:`pickle` modules.  It is derived from a\n",
      "version of the externally maintained simplejson library.\n",
      "\n",
      "Encoding basic Python object hierarchies::\n",
      "\n",
      "    >>> import json\n",
      "    >>> json.dumps(['foo', {'bar': ('baz', None, 1.0, 2)}])\n",
      "    '[\"foo\", {\"bar\": [\"baz\", null, 1.0, 2]}]'\n",
      "    >>> print(json.dumps(\"\\\"foo\\bar\"))\n",
      "    \"\\\"foo\\bar\"\n",
      "    >>> print(json.dumps('\\u1234'))\n",
      "    \"\\u1234\"\n",
      "    >>> print(json.dumps('\\\\'))\n",
      "    \"\\\\\"\n",
      "    >>> print(json.dumps({\"c\": 0, \"b\": 0, \"a\": 0}, sort_keys=True))\n",
      "    {\"a\": 0, \"b\": 0, \"c\": 0}\n",
      "    >>> from io import StringIO\n",
      "    >>> io = StringIO()\n",
      "    >>> json.dump(['streaming API'], io)\n",
      "    >>> io.getvalue()\n",
      "    '[\"streaming API\"]'\n",
      "\n",
      "Compact encoding::\n",
      "\n",
      "    >>> import json\n",
      "    >>> from collections import OrderedDict\n",
      "    >>> mydict = OrderedDict([('4', 5), ('6', 7)])\n",
      "    >>> json.dumps([1,2,3,mydict], separators=(',', ':'))\n",
      "    '[1,2,3,{\"4\":5,\"6\":7}]'\n",
      "\n",
      "Pretty printing::\n",
      "\n",
      "    >>> import json\n",
      "    >>> print(json.dumps({'4': 5, '6': 7}, sort_keys=True, indent=4))\n",
      "    {\n",
      "        \"4\": 5,\n",
      "        \"6\": 7\n",
      "    }\n",
      "\n",
      "Decoding JSON::\n",
      "\n",
      "    >>> import json\n",
      "    >>> obj = ['foo', {'bar': ['baz', None, 1.0, 2]}]\n",
      "    >>> json.loads('[\"foo\", {\"bar\":[\"baz\", null, 1.0, 2]}]') == obj\n",
      "    True\n",
      "    >>> json.loads('\"\\\\\"foo\\\\bar\"') == '\"foo\\x08ar'\n",
      "    True\n",
      "    >>> from io import StringIO\n",
      "    >>> io = StringIO('[\"streaming API\"]')\n",
      "    >>> json.load(io)[0] == 'streaming API'\n",
      "    True\n",
      "\n",
      "Specializing JSON object decoding::\n",
      "\n",
      "    >>> import json\n",
      "    >>> def as_complex(dct):\n",
      "    ...     if '__complex__' in dct:\n",
      "    ...         return complex(dct['real'], dct['imag'])\n",
      "    ...     return dct\n",
      "    ...\n",
      "    >>> json.loads('{\"__complex__\": true, \"real\": 1, \"imag\": 2}',\n",
      "    ...     object_hook=as_complex)\n",
      "    (1+2j)\n",
      "    >>> from decimal import Decimal\n",
      "    >>> json.loads('1.1', parse_float=Decimal) == Decimal('1.1')\n",
      "    True\n",
      "\n",
      "Specializing JSON object encoding::\n",
      "\n",
      "    >>> import json\n",
      "    >>> def encode_complex(obj):\n",
      "    ...     if isinstance(obj, complex):\n",
      "    ...         return [obj.real, obj.imag]\n",
      "    ...     raise TypeError(repr(obj) + \" is not JSON serializable\")\n",
      "    ...\n",
      "    >>> json.dumps(2 + 1j, default=encode_complex)\n",
      "    '[2.0, 1.0]'\n",
      "    >>> json.JSONEncoder(default=encode_complex).encode(2 + 1j)\n",
      "    '[2.0, 1.0]'\n",
      "    >>> ''.join(json.JSONEncoder(default=encode_complex).iterencode(2 + 1j))\n",
      "    '[2.0, 1.0]'\n",
      "\n",
      "\n",
      "Using json.tool from the shell to validate and pretty-print::\n",
      "\n",
      "    $ echo '{\"json\":\"obj\"}' | python -m json.tool\n",
      "    {\n",
      "        \"json\": \"obj\"\n",
      "    }\n",
      "    $ echo '{ 1.2:3.4}' | python -m json.tool\n",
      "    Expecting property name enclosed in double quotes: line 1 column 3 (char 2)\n",
      "\n"
     ]
    }
   ],
   "source": [
    "print(c.json.)"
   ]
  },
  {
   "cell_type": "code",
   "execution_count": 17,
   "metadata": {},
   "outputs": [],
   "source": [
    "import ipykernel.heartbeat as hb"
   ]
  },
  {
   "cell_type": "code",
   "execution_count": 18,
   "metadata": {},
   "outputs": [
    {
     "data": {
      "text/plain": [
       "'The client and server for a basic ping-pong style heartbeat.\\n'"
      ]
     },
     "execution_count": 18,
     "metadata": {},
     "output_type": "execute_result"
    }
   ],
   "source": [
    "hb.__doc__"
   ]
  }
 ],
 "metadata": {
  "kernelspec": {
   "display_name": "Python 3",
   "language": "python",
   "name": "python3"
  },
  "language_info": {
   "codemirror_mode": {
    "name": "ipython",
    "version": 3
   },
   "file_extension": ".py",
   "mimetype": "text/x-python",
   "name": "python",
   "nbconvert_exporter": "python",
   "pygments_lexer": "ipython3",
   "version": "3.6.5"
  }
 },
 "nbformat": 4,
 "nbformat_minor": 2
}
