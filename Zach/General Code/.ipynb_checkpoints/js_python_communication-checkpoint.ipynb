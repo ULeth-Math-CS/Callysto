{
 "cells": [
  {
   "cell_type": "code",
   "execution_count": null,
   "metadata": {},
   "outputs": [],
   "source": [
    "HTML_TEMP = '''<html>\n",
    "<script type=\"text/Javascript\">\n",
    "    function hello() \n",
    "    {\n",
    "        var command = \"hello = 'world'\"\n",
    "        console.log(\"Executing Command: \" + command);\n",
    "        var kernel = IPython.notebook.kernel;\n",
    "        kernel.execute(command);    \n",
    "    }\n",
    "\n",
    "    function comm() \n",
    "    {\n",
    "        comm = Jupyter.notebook.kernel.comm_manager.new_comm(\"_button_\");\n",
    "        comm.send({\"msg\": \"pressed\"});\n",
    "    }\n",
    "\n",
    "</script>\n",
    "\n",
    "<button type='button' onclick='hello()'>Execute</button>\n",
    "<button type='button1' onclick='comm()'>Comm</button>\n",
    "\n",
    "\n",
    "</html>'''"
   ]
  },
  {
   "cell_type": "code",
   "execution_count": null,
   "metadata": {},
   "outputs": [],
   "source": [
    "from ipykernel.comm import Comm\n",
    "from ipywidgets import Label\n",
    "\n",
    "class communication:\n",
    "    def __init__(self):\n",
    "        self.comm = None\n",
    "        self.open_comm(\"_button_\")\n",
    "        \n",
    "        self.msg = Label()\n",
    "        self.msg.value = \"not pressed\"\n",
    "    \n",
    "    def open_comm(self, label):\n",
    "        get_ipython().kernel.comm_manager.register_target(label, self.comm_handler)\n",
    "    \n",
    "    def comm_handler(self, comm, msg):\n",
    "        @comm.on_msg\n",
    "        def _recv(msg):\n",
    "            self.comm = msg\n",
    "            self.set_msg()\n",
    "      \n",
    "    def set_msg(self):\n",
    "        self.msg.value = self.comm['content']['data']['msg']\n",
    "        \n",
    "    def print_label(self):\n",
    "        display(self.msg)\n",
    "            \n",
    "c = communication()"
   ]
  },
  {
   "cell_type": "code",
   "execution_count": null,
   "metadata": {},
   "outputs": [],
   "source": [
    "c.print_label()"
   ]
  },
  {
   "cell_type": "code",
   "execution_count": null,
   "metadata": {},
   "outputs": [],
   "source": [
    "from IPython.display import HTML\n",
    "\n",
    "HTML(HTML_TEMP)"
   ]
  },
  {
   "cell_type": "code",
   "execution_count": null,
   "metadata": {},
   "outputs": [],
   "source": [
    "# Don't push the \"Execute\" button\n",
    "print(hello)"
   ]
  },
  {
   "cell_type": "code",
   "execution_count": null,
   "metadata": {},
   "outputs": [],
   "source": [
    "# Now press the \"Execute\" button\n",
    "print(hello)"
   ]
  }
 ],
 "metadata": {
  "kernelspec": {
   "display_name": "Python 3",
   "language": "python",
   "name": "python3"
  },
  "language_info": {
   "codemirror_mode": {
    "name": "ipython",
    "version": 3
   },
   "file_extension": ".py",
   "mimetype": "text/x-python",
   "name": "python",
   "nbconvert_exporter": "python",
   "pygments_lexer": "ipython3",
   "version": "3.6.5"
  }
 },
 "nbformat": 4,
 "nbformat_minor": 2
}
