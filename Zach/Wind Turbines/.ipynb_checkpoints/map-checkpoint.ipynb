{
 "cells": [
  {
   "cell_type": "code",
   "execution_count": 1,
   "metadata": {},
   "outputs": [
    {
     "ename": "ModuleNotFoundError",
     "evalue": "No module named 'Events'",
     "output_type": "error",
     "traceback": [
      "\u001b[0;31m---------------------------------------------------------------------------\u001b[0m",
      "\u001b[0;31mModuleNotFoundError\u001b[0m                       Traceback (most recent call last)",
      "\u001b[0;32m<ipython-input-1-a4ecc62d56f7>\u001b[0m in \u001b[0;36m<module>\u001b[0;34m()\u001b[0m\n\u001b[1;32m      5\u001b[0m \u001b[0;31m# !pip install ipyleaflet --user\u001b[0m\u001b[0;34m\u001b[0m\u001b[0;34m\u001b[0m\u001b[0m\n\u001b[1;32m      6\u001b[0m \u001b[0;31m# !jupyter nbextension enable --py --user ipyleaflet\u001b[0m\u001b[0;34m\u001b[0m\u001b[0;34m\u001b[0m\u001b[0m\n\u001b[0;32m----> 7\u001b[0;31m \u001b[0;32mimport\u001b[0m \u001b[0mEvents\u001b[0m\u001b[0;34m\u001b[0m\u001b[0m\n\u001b[0m",
      "\u001b[0;31mModuleNotFoundError\u001b[0m: No module named 'Events'"
     ]
    }
   ],
   "source": [
    "# # Dependencies\n",
    "# !pip install requests --user\n",
    "# !pip install beautifulsoup4 --user\n",
    "# !pip install tqdm --user\n",
    "# !pip install ipyleaflet --user\n",
    "# !jupyter nbextension enable --py --user ipyleaflet"
   ]
  },
  {
   "cell_type": "code",
   "execution_count": null,
   "metadata": {},
   "outputs": [],
   "source": [
    "import time\n",
    "from shared import *\n",
    "from WeatherMap import WeatherMap"
   ]
  },
  {
   "cell_type": "code",
   "execution_count": null,
   "metadata": {},
   "outputs": [],
   "source": [
    "alberta = WeatherMap()\n",
    "alberta.build('alberta_stations.txt')"
   ]
  },
  {
   "cell_type": "code",
   "execution_count": null,
   "metadata": {},
   "outputs": [],
   "source": []
  },
  {
   "cell_type": "code",
   "execution_count": null,
   "metadata": {},
   "outputs": [],
   "source": [
    "#         self.events = {\n",
    "#             'click': self.null_event,\n",
    "#             'mouseover': self.null_event,\n",
    "#             'dblclick': self.null_event,\n",
    "#             'mousedown': self.null_event,\n",
    "#             'mouseup': self.null_event,\n",
    "#             'mousemove': self.null_event,\n",
    "#             'interaction': self.null_event\n",
    "#         }"
   ]
  },
  {
   "cell_type": "code",
   "execution_count": null,
   "metadata": {},
   "outputs": [],
   "source": [
    "# class Events():\n",
    "#     def __init__(self, Map):\n",
    "#         self.map = Map\n",
    "#         self.click = self.null_event\n",
    "#         self.mouseup = self.null_event\n",
    "#         self.dblclick = self.null_event\n",
    "#         self.mousemove = self.null_event\n",
    "#         self.mouseover = self.null_event        \n",
    "#         self.mousedown = self.null_event\n",
    "#         self.interaction = self.null_event\n",
    "#         self.map.on_interation(self.callback)\n",
    "#         self._events = {\n",
    "#             'click': self.click,\n",
    "#             'mouseup': self.mouseup,\n",
    "#             'dblclick': self.dbleclick,\n",
    "#             'mousemove': self.mousemove,            \n",
    "#             'mouseover': self.mouseover,\n",
    "#             'mousedown': self.mousedown,            \n",
    "#             'interaction': self.interaction\n",
    "#         }\n",
    "        \n",
    "#     def callback(self, type, event, coordinates):\n",
    "#         self._events[event](type=type, event=event, coordinates=coodinates)\n",
    "        \n",
    "#     def null_event(type, event, coordinates):\n",
    "#         print('pass')"
   ]
  },
  {
   "cell_type": "code",
   "execution_count": null,
   "metadata": {},
   "outputs": [],
   "source": [
    "#### TODO Move this into a class\n",
    "\n",
    "# Define the callback function that will be used\n",
    "# current_time = lambda: int(round(time.time() * 1000))\n",
    "# last_time = current_time()\n",
    "# blacklist = ['mouseover', 'click', 'dblclick', 'mousedown']\n",
    "\n",
    "# def update_info(type, event, coordinates):\n",
    "#     if type in blacklist:\n",
    "#         pass\n",
    "#     elif type == 'mousemove':\n",
    "#         global last_time, alberta\n",
    "        \n",
    "#         # Only updates once in every 0.05 sec\n",
    "#         if current_time()-last_time > 50:\n",
    "#             alberta.station_find(coordinates)\n",
    "#             last_time = current_time()\n",
    "\n",
    "# def mouse_move(type, event, coordinates):\n",
    "#     alberta.station_find(coordinates)\n",
    "    \n",
    "# alberta.events['mousemove'] = mouse_move\n",
    "#alberta.events['mousemove'](\"hello\")\n",
    "#alberta.build('alberta_stations.txt')    \n",
    "#alberta.map.on_interaction(update_info)"
   ]
  },
  {
   "cell_type": "code",
   "execution_count": null,
   "metadata": {},
   "outputs": [],
   "source": []
  },
  {
   "cell_type": "code",
   "execution_count": null,
   "metadata": {},
   "outputs": [],
   "source": [
    "alberta.table"
   ]
  },
  {
   "cell_type": "code",
   "execution_count": null,
   "metadata": {
    "scrolled": false
   },
   "outputs": [],
   "source": [
    "alberta.map"
   ]
  },
  {
   "cell_type": "code",
   "execution_count": null,
   "metadata": {},
   "outputs": [],
   "source": [
    "alberta.comm"
   ]
  },
  {
   "cell_type": "code",
   "execution_count": null,
   "metadata": {
    "scrolled": false
   },
   "outputs": [],
   "source": [
    "print(coordinates=\"hello\")"
   ]
  },
  {
   "cell_type": "code",
   "execution_count": null,
   "metadata": {},
   "outputs": [],
   "source": [
    "tuvalabs.com"
   ]
  }
 ],
 "metadata": {
  "kernelspec": {
   "display_name": "Python 3",
   "language": "python",
   "name": "python3"
  },
  "language_info": {
   "codemirror_mode": {
    "name": "ipython",
    "version": 3
   },
   "file_extension": ".py",
   "mimetype": "text/x-python",
   "name": "python",
   "nbconvert_exporter": "python",
   "pygments_lexer": "ipython3",
   "version": "3.6.5"
  }
 },
 "nbformat": 4,
 "nbformat_minor": 2
}
