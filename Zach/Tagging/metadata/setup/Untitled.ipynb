{
 "cells": [
  {
   "cell_type": "code",
   "execution_count": 7,
   "metadata": {},
   "outputs": [
    {
     "name": "stdout",
     "output_type": "stream",
     "text": [
      "Symlinking: /home/zachary.selk/.local/share/jupyter/nbextensions/metadata -> /home/zachary.selk/git/Callysto/Zach/Tagging/metadata\n",
      "\n",
      "    To initialize this nbextension in the browser every time the notebook (or other app) loads:\n",
      "    \n",
      "          jupyter nbextension enable <the entry point> --user\n",
      "    \n",
      "Enabling notebook extension metadata/metadata...\n",
      "      - Validating: problems found:\n",
      "        - require? \u001b[31m X\u001b[0m metadata/metadata\n"
     ]
    }
   ],
   "source": [
    "# Activate \n",
    "!cd ../../ && jupyter nbextension install metadata/ --user --symlink && jupyter nbextension enable metadata/metadata --user"
   ]
  },
  {
   "cell_type": "code",
   "execution_count": 1,
   "metadata": {},
   "outputs": [
    {
     "name": "stdout",
     "output_type": "stream",
     "text": [
      "Disabling notebook extension metadata/metadata...\n",
      "      - Validating: \u001b[32mOK\u001b[0m\n"
     ]
    }
   ],
   "source": [
    "# Deactivate\n",
    "!cd ../../ && jupyter nbextension disable metadata/metadata --user"
   ]
  }
 ],
 "metadata": {
  "kernelspec": {
   "display_name": "Python 3",
   "language": "python",
   "name": "python3"
  },
  "language_info": {
   "codemirror_mode": {
    "name": "ipython",
    "version": 3
   },
   "file_extension": ".py",
   "mimetype": "text/x-python",
   "name": "python",
   "nbconvert_exporter": "python",
   "pygments_lexer": "ipython3",
   "version": "3.6.5"
  }
 },
 "nbformat": 4,
 "nbformat_minor": 2
}
