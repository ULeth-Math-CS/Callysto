{
 "cells": [
  {
   "cell_type": "markdown",
   "metadata": {},
   "source": [
    "<div class=\"hideMe\">\n",
    "Hello"
   ]
  },
  {
   "cell_type": "code",
   "execution_count": 35,
   "metadata": {},
   "outputs": [
    {
     "data": {
      "text/html": [
       "                    <button onclick='toggleMore()'>More</button>\n",
       "                    <script>\n",
       "                    function toggleMore() {\n",
       "                      setTimeout(function() {\n",
       "                        var index = 0;\n",
       "                        var cells = document.getElementById('notebook-container');\n",
       "                        for (var cell of cells.childNodes) {\n",
       "                            if ($(cell).hasClass('selected'))\n",
       "                                break;\n",
       "                            index++;\n",
       "                        }\n",
       "                        $(cells.childNodes[index - 1]).toggle('500');\n",
       "                        }, 100);\n",
       "                    }\n",
       "                    </script>"
      ],
      "text/plain": [
       "<IPython.core.display.HTML object>"
      ]
     },
     "metadata": {},
     "output_type": "display_data"
    }
   ],
   "source": [
    "import myMagics\n",
    "%toggleMore"
   ]
  },
  {
   "cell_type": "code",
   "execution_count": 1,
   "metadata": {
    "scrolled": true
   },
   "outputs": [
    {
     "data": {
      "text/html": [
       "<p>Hello i am html</p>"
      ],
      "text/plain": [
       "<IPython.core.display.HTML object>"
      ]
     },
     "metadata": {},
     "output_type": "display_data"
    }
   ],
   "source": [
    "%%html\n",
    "<p>Hello i am html</p>"
   ]
  },
  {
   "cell_type": "markdown",
   "metadata": {},
   "source": [
    "hide me"
   ]
  },
  {
   "cell_type": "code",
   "execution_count": 36,
   "metadata": {},
   "outputs": [
    {
     "data": {
      "text/html": [
       "<button id=\"more1\" onclick='toggleMore()'>More</button>\n",
       "\n",
       "<script>\n",
       "\n",
       "function toggleMore() {\n",
       "  setTimeout(function() {\n",
       "    var index = 0;\n",
       "    var cells = document.getElementById('notebook-container');\n",
       "    for (var cell of cells.childNodes) {\n",
       "        if ($(cell).hasClass('selected'))\n",
       "            break;\n",
       "        index++;\n",
       "    }\n",
       "    $(cells.childNodes[index - 1]).toggle('500');\n",
       "    }, 100);\n",
       "}\n",
       "</script>"
      ],
      "text/plain": [
       "<IPython.core.display.HTML object>"
      ]
     },
     "metadata": {},
     "output_type": "display_data"
    }
   ],
   "source": [
    "%%html\n",
    "<button id=\"more1\" onclick='toggleMore()'>More</button>\n",
    "\n",
    "<script>\n",
    "\n",
    "function toggleMore() {\n",
    "  setTimeout(function() {\n",
    "    var index = 0;\n",
    "    var cells = document.getElementById('notebook-container');\n",
    "    for (var cell of cells.childNodes) {\n",
    "        if ($(cell).hasClass('selected'))\n",
    "            break;\n",
    "        index++;\n",
    "    }\n",
    "    $(cells.childNodes[index - 1]).toggle('500');\n",
    "    }, 100);\n",
    "}\n",
    "</script>"
   ]
  },
  {
   "cell_type": "markdown",
   "metadata": {},
   "source": [
    "There"
   ]
  },
  {
   "cell_type": "code",
   "execution_count": null,
   "metadata": {},
   "outputs": [],
   "source": []
  },
  {
   "cell_type": "code",
   "execution_count": 45,
   "metadata": {},
   "outputs": [
    {
     "data": {
      "text/html": [
       "<script>\n",
       "    var cells = document.getElementById('notebook-container');\n",
       "    $(cells).find('.hideMe').closest('div.cell').hide('0');\n",
       "</script>"
      ],
      "text/plain": [
       "<IPython.core.display.HTML object>"
      ]
     },
     "metadata": {},
     "output_type": "display_data"
    }
   ],
   "source": [
    "%%html\n",
    "<script>\n",
    "    var cells = document.getElementById('notebook-container');\n",
    "    $(cells).find('.hideMe').closest('div.cell').hide('0');\n",
    "</script>"
   ]
  },
  {
   "cell_type": "code",
   "execution_count": null,
   "metadata": {},
   "outputs": [],
   "source": []
  }
 ],
 "metadata": {
  "kernelspec": {
   "display_name": "Python 3",
   "language": "python",
   "name": "python3"
  },
  "language_info": {
   "codemirror_mode": {
    "name": "ipython",
    "version": 3
   },
   "file_extension": ".py",
   "mimetype": "text/x-python",
   "name": "python",
   "nbconvert_exporter": "python",
   "pygments_lexer": "ipython3",
   "version": "3.6.5"
  }
 },
 "nbformat": 4,
 "nbformat_minor": 2
}
