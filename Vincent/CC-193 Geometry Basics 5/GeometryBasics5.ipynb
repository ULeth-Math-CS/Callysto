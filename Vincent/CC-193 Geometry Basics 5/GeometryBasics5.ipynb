{
 "cells": [
  {
   "cell_type": "markdown",
   "metadata": {},
   "source": [
    "[![logo](https://callysto.ca/wp-content/uploads/2018/06/Callysto_Notebook-Banner_Top_06.06.18.jpg)](https://callysto.ca)"
   ]
  },
  {
   "cell_type": "code",
   "execution_count": null,
   "metadata": {},
   "outputs": [],
   "source": [
    "import myMagics\n",
    "%uiButtons"
   ]
  },
  {
   "cell_type": "markdown",
   "metadata": {},
   "source": [
    "Target Audience: Grade 8\n",
    "\n",
    "Related Curriculum Outcome:\n",
    "\n",
    "Strand: Shape and Space (Measurement) - Students will:\n",
    "\n",
    "- estimate and take accurate measurements using everyday metric (SI) and imperial units of measure\n",
    "- solve problems, using appropriate measuring devices (i.e., metric [SI] and imperial), strategies and technology in home, workplace and community contexts\n",
    "- communicate mathematically and investigate the application of measurement knowledge and skills in a variety of career and workplace situations, working individually or as members of a team\n",
    "- assess reasonableness of calculations and problem-solving strategies.\n",
    "\n",
    "Grade 8: General Outcome - Students will:\n",
    "\n",
    "- use measurement concepts, appropriate tools and results of measurements to solve problems in everyday contexts.\n",
    "\n",
    "Specific Outcomes - Students will:\n",
    "\n",
    "10. recognize the relationships among seconds, minutes, hours, days, weeks, months, years, centuries and millennia, using a variety of tools; e.g., calendars and technology\n",
    "11. estimate and measure time on 12-hour and 24-hour clocks, using digital and analog timepieces\n",
    "12. convert between hours and minutes and between minutes and seconds, as required in everyday contexts\n",
    "\n",
    "Deliverable:\n",
    "\n",
    "An interactive notebook to examine and visualize concepts and examples related to this curriculum outcome."
   ]
  },
  {
   "cell_type": "markdown",
   "metadata": {},
   "source": [
    "# Geomatry - Basics\n"
   ]
  },
  {
   "cell_type": "code",
   "execution_count": null,
   "metadata": {},
   "outputs": [],
   "source": [
    "%%html\n",
    "<style>\n",
    "    #clock {\n",
    "        border-radius: 40px;\n",
    "        padding: 0;\n",
    "        margin: auto;\n",
    "        display: block;\n",
    "    }\n",
    "</style>\n",
    "<body>\n",
    "    <canvas id=\"clock\"></canvas>\n",
    "    <script>\n",
    "    var canvas = document.getElementById('clock');\n",
    "    var ctx = canvas.getContext('2d');\n",
    "\n",
    "    canvas.width = 800;\n",
    "    canvas.height = 700;\n",
    "    var x = canvas.width / 2;\n",
    "    var y = canvas.height / 2;\n",
    "    var radius = 50;\n",
    "    var lineWidth = 45;\n",
    "\n",
    "    function animate() {\n",
    "        requestAnimationFrame(animate);\n",
    "        ctx.clearRect(0, 0, canvas.width, canvas.height);\n",
    "        ctx.fillStyle = \"#090909\";\n",
    "        ctx.fillRect(0, 0, canvas.width, canvas.height);\n",
    "        var date = new Date();\n",
    "\n",
    "        var sec = new TimeCircle(x, y, radius, lineWidth, 1, ((Math.PI * 2 / 60) * date.getSeconds() +  Math.PI * 3 / 2), '#329652');\n",
    "        var min = new TimeCircle(x, y, radius, lineWidth, 2, ((Math.PI * 2 / 60) * date.getMinutes() +  Math.PI * 3 / 2), '#c551ab');\n",
    "        var hour = new TimeCircle(x, y, radius, lineWidth, 3, ((Math.PI * 2 / 12) * (date.getHours() % 12) +  Math.PI * 3 / 2), '#5369c6');\n",
    "        var day = new TimeCircle(x, y, radius, lineWidth, 4, ((Math.PI * 2 / monthDivider(date.getMonth(), date.getFullYear())) * date.getDate() +  Math.PI * 3 / 2), '#d6d483');\n",
    "        var month = new TimeCircle(x, y, radius, lineWidth, 5, ((Math.PI * 2 / 12) * date.getMonth() +  Math.PI * 3 / 2), '#e2c2eb');\n",
    "    \n",
    "        sec.draw();\n",
    "        min.draw();\n",
    "        hour.draw();\n",
    "        day.draw();\n",
    "        month.draw();\n",
    "\n",
    "        var time = (date.getHours() < 10 ? \"0\" + date.getHours() : date.getHours()) + \n",
    "            \":\" + (date.getMinutes() < 10 ? \"0\" + date.getMinutes() : date.getMinutes()) +\n",
    "            \":\" + (date.getSeconds() < 10 ? \"0\" + date.getSeconds() : date.getSeconds());\n",
    "        ctx.fillStyle = \"white\";\n",
    "        ctx.font =\"30px Arial\";\n",
    "        ctx.fillText(time, x - 58, y + 10);\n",
    "        ctx.fillText(date.getSeconds(), x - 10, y - radius - 30 );\n",
    "        ctx.fillText(date.getMinutes(), x - 10, y - (radius * 2) - 30 );\n",
    "        ctx.fillText(date.getHours(), x - 10, y - (radius * 3) - 30 );\n",
    "        ctx.fillText(date.getDate(), x - 10, y - (radius * 4) - 30 );\n",
    "        ctx.fillText(date.getMonth(), x - 10, y - (radius * 5) - 30 );\n",
    "    }\n",
    "\n",
    "    animate();\n",
    "\n",
    "    function TimeCircle(x, y, radius, strokeWidth, radiusMultiplyer, end, colour) {\n",
    "        this.x = x;\n",
    "        this.y = y;\n",
    "        this.radiusMultiplyer = radiusMultiplyer;\n",
    "        this.start = Math.PI * 3 / 2;\n",
    "        this.end = end;\n",
    "        this.radius = radius + (strokeWidth * radiusMultiplyer);\n",
    "        this.strokeWidth = strokeWidth;\n",
    "        this.colour = colour;\n",
    "    \n",
    "        this.draw = function() {\n",
    "            ctx.beginPath(x, y);\n",
    "            ctx.arc(this.x, this.y, this.radius, this.start, this.end, this.false);\n",
    "            ctx.lineWidth = this.strokeWidth;\n",
    "            ctx.strokeStyle = this.colour;\n",
    "            ctx.lineCap = 'round';\n",
    "            ctx.stroke();\n",
    "        }\n",
    "    }\n",
    "\n",
    "    function monthDivider(month, year) {\n",
    "        switch (month) {\n",
    "            case 0 : case 2 : case 4 : case 6 : case 7 : case 9 : case 11 : \n",
    "                return 31;\n",
    "            case 3 : case 5 : case 8 : case 10 : \n",
    "                return 30;\n",
    "            case 1 : if (((year % 4 == 0) && (year % 100 != 0)) || (year % 400 == 0)) { return 29}\n",
    "                else {return 28};\n",
    "            default : return 31;\n",
    "        }\n",
    "    }\n",
    "    </script>\n",
    "</body>"
   ]
  },
  {
   "cell_type": "markdown",
   "metadata": {},
   "source": [
    "[![logo](https://callysto.ca/wp-content/uploads/2018/07/Callysto-Notebook-Banner_Bottom_07.30.18.jpg)](https://callysto.ca/)"
   ]
  },
  {
   "cell_type": "code",
   "execution_count": null,
   "metadata": {},
   "outputs": [],
   "source": []
  }
 ],
 "metadata": {
  "kernelspec": {
   "display_name": "Python 3",
   "language": "python",
   "name": "python3"
  },
  "language_info": {
   "codemirror_mode": {
    "name": "ipython",
    "version": 3
   },
   "file_extension": ".py",
   "mimetype": "text/x-python",
   "name": "python",
   "nbconvert_exporter": "python",
   "pygments_lexer": "ipython3",
   "version": "3.6.5"
  }
 },
 "nbformat": 4,
 "nbformat_minor": 2
}
