{
 "cells": [
  {
   "cell_type": "code",
   "execution_count": 1,
   "metadata": {},
   "outputs": [
    {
     "data": {
      "text/html": [
       "<link href=\"http://mathbook.pugetsound.edu/beta/mathbook-content.css\" rel=\"stylesheet\" type=\"text/css\" />\n",
       "<link href=\"https://aimath.org/mathbook/mathbook-add-on.css\" rel=\"stylesheet\" type=\"text/css\" />\n",
       "<style>.subtitle {font-size:medium; display:block}</style>\n",
       "<link href=\"https://fonts.googleapis.com/css?family=Open+Sans:400,400italic,600,600italic\" rel=\"stylesheet\" type=\"text/css\" />\n",
       "<link href=\"https://fonts.googleapis.com/css?family=Inconsolata:400,700&subset=latin,latin-ext\" rel=\"stylesheet\" type=\"text/css\" /><!-- Hide this cell. -->\n",
       "<script>\n",
       "var cell = $(\".container .cell\").eq(0), ia = cell.find(\".input_area\")\n",
       "if (cell.find(\".toggle-button\").length == 0) {\n",
       "ia.after(\n",
       "    $('<button class=\"toggle-button\">Toggle hidden code</button>').click(\n",
       "        function (){ ia.toggle() }\n",
       "        )\n",
       "    )\n",
       "ia.hide()\n",
       "}\n",
       "</script>"
      ],
      "text/plain": [
       "<IPython.core.display.HTML object>"
      ]
     },
     "metadata": {},
     "output_type": "display_data"
    }
   ],
   "source": [
    "%%html\n",
    "<link href=\"http://mathbook.pugetsound.edu/beta/mathbook-content.css\" rel=\"stylesheet\" type=\"text/css\" />\n",
    "<link href=\"https://aimath.org/mathbook/mathbook-add-on.css\" rel=\"stylesheet\" type=\"text/css\" />\n",
    "<style>.subtitle {font-size:medium; display:block}</style>\n",
    "<link href=\"https://fonts.googleapis.com/css?family=Open+Sans:400,400italic,600,600italic\" rel=\"stylesheet\" type=\"text/css\" />\n",
    "<link href=\"https://fonts.googleapis.com/css?family=Inconsolata:400,700&subset=latin,latin-ext\" rel=\"stylesheet\" type=\"text/css\" /><!-- Hide this cell. -->\n",
    "<script>\n",
    "var cell = $(\".container .cell\").eq(0), ia = cell.find(\".input_area\")\n",
    "if (cell.find(\".toggle-button\").length == 0) {\n",
    "ia.after(\n",
    "    $('<button class=\"toggle-button\">Toggle hidden code</button>').click(\n",
    "        function (){ ia.toggle() }\n",
    "        )\n",
    "    )\n",
    "ia.hide()\n",
    "}\n",
    "</script>\n"
   ]
  },
  {
   "cell_type": "markdown",
   "metadata": {},
   "source": [
    "**Important:** to view this notebook properly you will need to execute the cell above, which assumes you have an Internet connection.  It should already be selected, or place your cursor anywhere above to select.  Then press the \"Run\" button in the menu bar above (the right-pointing arrowhead), or press Shift-Enter on your keyboard."
   ]
  },
  {
   "cell_type": "markdown",
   "metadata": {},
   "source": [
    "$\\newcommand{\\identity}{\\mathrm{id}}\n",
    "\\newcommand{\\notdivide}{{\\not{\\mid}}}\n",
    "\\newcommand{\\notsubset}{\\not\\subset}\n",
    "\\newcommand{\\lcm}{\\operatorname{lcm}}\n",
    "\\newcommand{\\gf}{\\operatorname{GF}}\n",
    "\\newcommand{\\inn}{\\operatorname{Inn}}\n",
    "\\newcommand{\\aut}{\\operatorname{Aut}}\n",
    "\\newcommand{\\Hom}{\\operatorname{Hom}}\n",
    "\\newcommand{\\cis}{\\operatorname{cis}}\n",
    "\\newcommand{\\chr}{\\operatorname{char}}\n",
    "\\newcommand{\\Null}{\\operatorname{Null}}\n",
    "\\newcommand{\\lt}{<}\n",
    "\\newcommand{\\gt}{>}\n",
    "\\newcommand{\\amp}{&}\n",
    "$"
   ]
  },
  {
   "cell_type": "markdown",
   "metadata": {},
   "source": [
    "<div class=\"mathbook-content\"><nav class=\"summary-links\"><li><a href=\"front-colophon.ipynb\"><span class=\"title\">Colophon</span></a></li><li><a href=\"author-bio-TWJ.ipynb\"><span class=\"title\">Author Biography</span></a></li><li><a href=\"author-bio-RAB.ipynb\"><span class=\"title\">About Robert A. Beezer</span></a></li><li><a href=\"dedication.ipynb\"><span class=\"title\">Dedication</span></a></li><li><a href=\"acknowledgement.ipynb\"><span class=\"title\">Acknowledgements</span></a></li><li><a href=\"preface.ipynb\"><span class=\"title\">Preface</span></a></li><li><a href=\"contributors.ipynb\"><span class=\"title\">Contributors to the 4$^\\mathrm{th}$ Edition</span></a></li></nav></div>"
   ]
  }
 ],
 "metadata": {
  "kernelspec": {
   "display_name": "Python 3",
   "language": "python",
   "name": "python3"
  },
  "language_info": {
   "codemirror_mode": {
    "name": "ipython",
    "version": 3
   },
   "file_extension": ".py",
   "mimetype": "text/x-python",
   "name": "python",
   "nbconvert_exporter": "python",
   "pygments_lexer": "ipython3",
   "version": "3.6.4"
  },
  "name": "index.ipynb"
 },
 "nbformat": 4,
 "nbformat_minor": 1
}
