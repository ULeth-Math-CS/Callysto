{
 "cells": [
  {
   "cell_type": "code",
   "execution_count": 5,
   "metadata": {},
   "outputs": [
    {
     "data": {
      "text/html": [
       "<link href=\"http://mathbook.pugetsound.edu/beta/mathbook-content.css\" rel=\"stylesheet\" type=\"text/css\" />\n",
       "<link href=\"https://aimath.org/mathbook/mathbook-add-on.css\" rel=\"stylesheet\" type=\"text/css\" />\n",
       "<link href=\"https://fonts.googleapis.com/css?family=Open+Sans:400,400italic,600,600italic\" rel=\"stylesheet\" type=\"text/css\" />\n",
       "<link href=\"https://fonts.googleapis.com/css?family=Inconsolata:400,700&subset=latin,latin-ext\" rel=\"stylesheet\" type=\"text/css\" /><!-- Hide this cell. -->\n",
       "<script>\n",
       "var cell = $(\".container .cell\").eq(0), ia = cell.find(\".input_area\")\n",
       "if (cell.find(\".toggle-button\").length == 0) {\n",
       "ia.after(\n",
       "    $('<button class=\"toggle-button\">Toggle hidden code</button>').click(\n",
       "        function (){ ia.toggle() }\n",
       "        )\n",
       "    )\n",
       "ia.hide()\n",
       "}\n",
       "</script>"
      ],
      "text/plain": [
       "<IPython.core.display.HTML object>"
      ]
     },
     "metadata": {},
     "output_type": "display_data"
    }
   ],
   "source": [
    "%%html\n",
    "<link href=\"http://mathbook.pugetsound.edu/beta/mathbook-content.css\" rel=\"stylesheet\" type=\"text/css\" />\n",
    "<link href=\"https://aimath.org/mathbook/mathbook-add-on.css\" rel=\"stylesheet\" type=\"text/css\" />\n",
    "<link href=\"https://fonts.googleapis.com/css?family=Open+Sans:400,400italic,600,600italic\" rel=\"stylesheet\" type=\"text/css\" />\n",
    "<link href=\"https://fonts.googleapis.com/css?family=Inconsolata:400,700&subset=latin,latin-ext\" rel=\"stylesheet\" type=\"text/css\" /><!-- Hide this cell. -->\n",
    "<script>\n",
    "var cell = $(\".container .cell\").eq(0), ia = cell.find(\".input_area\")\n",
    "if (cell.find(\".toggle-button\").length == 0) {\n",
    "ia.after(\n",
    "    $('<button class=\"toggle-button\">Toggle hidden code</button>').click(\n",
    "        function (){ ia.toggle() }\n",
    "        )\n",
    "    )\n",
    "ia.hide()\n",
    "}\n",
    "</script>\n"
   ]
  },
  {
   "cell_type": "markdown",
   "metadata": {},
   "source": [
    "**Important:** to view this notebook properly you will need to execute the cell above, which assumes you have an Internet connection.  It should already be selected, or place your cursor anywhere above to select.  Then press the \"Run\" button in the menu bar above (the right-pointing arrowhead), or press Shift-Enter on your keyboard."
   ]
  },
  {
   "cell_type": "markdown",
   "metadata": {},
   "source": [
    "$\n",
    "\\newcommand{\\lt}{<}\n",
    "\\newcommand{\\gt}{>}\n",
    "\\newcommand{\\amp}{&}\n",
    "$"
   ]
  },
  {
   "cell_type": "markdown",
   "metadata": {},
   "source": [
    "<div class=\"mathbook-content\" id=\"foo\"><h2 class=\"heading hide-type\" alt=\"Section 1 Properties of Logarithms\"><span class=\"type\">Section</span><span class=\"codenumber\">1</span><span class=\"title\">Properties of Logarithms</span></h2><a href=\"LogProperties.ipynb\" class=\"permalink\">¶</a></div>"
   ]
  },
  {
   "cell_type": "markdown",
   "metadata": {},
   "source": [
    "<div class=\"mathbook-content\"></div>"
   ]
  },
  {
   "cell_type": "markdown",
   "metadata": {},
   "source": [
    "<div class=\"mathbook-content\"><p id=\"p-1\">In <a href=\"#\" class=\"xref\" alt=\"\" title=\"\">Section </a>, we introduced the logarithmic functions as inverses of exponential functions and discussed a few of their functional properties from that perspective. In this section, we explore the algebraic properties of logarithms. Historically, these have played a huge role in the scientific development of our society since, among other things, they were used to develop analog computing devices called <a class=\"url\" href=\"http://en.wikipedia.org/wiki/Slide_rule\" target=\"_blank\"><em class=\"emphasis\">slide rules</em></a> which enabled scientists and engineers to perform accurate calculations leading to such things as space travel and the <a class=\"url\" href=\"http://www.redorbit.com/news/space/73297/nasa_marks_35th_anniversary_of_first_moon_landing/\" target=\"_blank\"><em class=\"emphasis\">moon landing</em></a>. As we shall see shortly, logs inherit analogs of all of the properties of exponents you learned in Elementary and Intermediate Algebra. We first extract two properties from <a href=\"\" class=\"xref\" alt=\"\" title=\"\">Theorem </a> to remind us of the definition of a logarithm as the inverse of an exponential function.</p></div>"
   ]
  },
  {
   "cell_type": "markdown",
   "metadata": {},
   "source": [
    "<div class=\"mathbook-content\" name=\"foo\"><h4 class=\"heading hide-type\" alt=\"Section 1.1 Inverse Properties of Exponential and Logarithmic Functions\"><span class=\"type\">Section</span><span class=\"codenumber\">1.1</span><span class=\"title\">Inverse Properties of Exponential and Logarithmic Functions</span></h4><a href=\"LogProperties.ipynb#invpropslogs\" class=\"permalink\">¶</a></div>"
   ]
  },
  {
   "cell_type": "markdown",
   "metadata": {},
   "source": [
    "<div class=\"mathbook-content\"><p id=\"p-2\">Let $b > 0\\text{,}$ $b \\neq 1\\text{.}$  </p><ul class=\"disc\"><li id=\"li-1\"><p id=\"p-3\">$b^{a} = c$ if and only if $\\log_{b}(c) = a$</p></li><li id=\"li-2\"><p id=\"p-4\">$\\log_{b} \\left(b^{x}\\right) = x$ for all $x$ and $b^{\\log_{b}(x)} = x$ for all $x > 0$</p></li></ul></div>"
   ]
  },
  {
   "cell_type": "markdown",
   "metadata": {},
   "source": [
    "<div class=\"mathbook-content\"><p id=\"p-5\">Next, we spell out what it means for exponential and logarithmic functions to be one-to-one.</p></div>"
   ]
  },
  {
   "cell_type": "markdown",
   "metadata": {},
   "source": [
    "<div class=\"mathbook-content\"><h4 class=\"heading hide-type\" alt=\"Section 1.2 One-to-one Properties of Exponential and Logarithmic Functions\"><span class=\"type\">Section</span><span class=\"codenumber\">1.2</span><span class=\"title\">One-to-one Properties of Exponential and Logarithmic Functions</span></h4><a href=\"LogProperties.ipynb#explogsonetoone\" class=\"permalink\">¶</a></div>"
   ]
  },
  {
   "cell_type": "markdown",
   "metadata": {},
   "source": [
    "<div class=\"mathbook-content\"><p id=\"p-6\">Let $f(x) = b^{x}$ and $g(x) = \\log_{b}(x)$ where $b>0\\text{,}$ $b\\neq 1\\text{.}$ Then $f$ and $g$ are one-to-one and  </p><ul class=\"disc\"><li id=\"li-3\"><p id=\"p-7\">$b^{u} = b^{w}$ if and only if $u=w$ for all real numbers $u$ and $w\\text{.}$</p></li><li id=\"li-4\"><p id=\"p-8\">$\\log_{b}(u) = \\log_{b}(w)$ if and only if $u=w$ for all real numbers $u > 0\\text{,}$ $w > 0\\text{.}$</p></li></ul></div>"
   ]
  },
  {
   "cell_type": "markdown",
   "metadata": {},
   "source": [
    "<div class=\"mathbook-content\"><p id=\"p-9\">We now state the algebraic properties of exponential functions which will serve as a basis for the properties of logarithms. While these properties may look identical to the ones you learned in Elementary and Intermediate Algebra, they apply to real number exponents, not just rational exponents. Note that in the theorem that follows, we are interested in the properties of exponential functions, so the base $b$ is restricted to $b > 0\\text{,}$ $b \\neq 1\\text{.}$</p></div>"
   ]
  },
  {
   "cell_type": "markdown",
   "metadata": {},
   "source": [
    "<div class=\"mathbook-content\"><h4 class=\"heading hide-type\" alt=\"Section 1.3 Algebraic Properties of Exponential Functions\"><span class=\"type\">Section</span><span class=\"codenumber\">1.3</span><span class=\"title\">Algebraic Properties of Exponential Functions</span></h4><a href=\"LogProperties.ipynb#algpropexpfcns\" class=\"permalink\">¶</a></div>"
   ]
  },
  {
   "cell_type": "markdown",
   "metadata": {},
   "source": [
    "<div class=\"mathbook-content\"><p id=\"p-10\">Let $f(x) = b^{x}$ be an exponential function ($b > 0\\text{,}$ $b\\neq 1$) and let $u$ and $w$ be real numbers.  </p><ul class=\"disc\"><li id=\"li-5\"><p id=\"p-11\"><em class=\"emphasis\">Product Rule:</em>  $f(u+w) = f(u) f(w)\\text{.}$ In other words, $b^{u+w} = b^{u} b^{w}$</p></li><li id=\"li-6\"><p id=\"p-12\"><em class=\"emphasis\">Quotient Rule:</em>  $f(u-w) = \\dfrac{f(u)}{f(w)}\\text{.}$ In other words, $b^{u-w} = \\dfrac{b^{u}}{b^{w}}$</p></li><li id=\"li-7\"><p id=\"p-13\"><em class=\"emphasis\">Power Rule:</em>  $\\left(f(u)\\right)^w = f(uw)\\text{.}$ In other words, $\\left(b^{u}\\right)^{w} = b^{uw}$</p></li></ul></div>"
   ]
  },
  {
   "cell_type": "markdown",
   "metadata": {},
   "source": [
    "<div class=\"mathbook-content\"><p id=\"p-14\">While the properties listed in <a href=\"LogProperties.ipynb#algpropexpfcns\" class=\"xref\" alt=\"Section 1.3 Algebraic Properties of Exponential Functions\" title=\"Section 1.3 Algebraic Properties of Exponential Functions\">Theorem 1.3</a> are certainly believable based on similar properties of integer and rational exponents, the full proofs require Calculus. To each of these properties of exponential functions corresponds an analogous property of logarithmic functions. We list these below in our next theorem.</p></div>"
   ]
  },
  {
   "cell_type": "markdown",
   "metadata": {},
   "source": [
    "<div class=\"mathbook-content\"><h4 class=\"heading hide-type\" alt=\"Section 1.4 Algebraic Properties of Logarithmic Functions\"><span class=\"type\">Section</span><span class=\"codenumber\">1.4</span><span class=\"title\">Algebraic Properties of Logarithmic Functions</span></h4><a href=\"LogProperties.ipynb#algproplogfcns\" class=\"permalink\">¶</a></div>"
   ]
  },
  {
   "cell_type": "markdown",
   "metadata": {},
   "source": [
    "<div class=\"mathbook-content\"><p id=\"p-15\">Let $g(x) =\\log_{b}(x)$ be a logarithmic function ($b > 0\\text{,}$ $b\\neq 1$) and let $u>0$ and $w>0$ be real numbers.  </p><ul class=\"disc\"><li id=\"li-8\"><p id=\"p-16\"><em class=\"emphasis\">Product Rule:</em>  $g(uw) = g(u)+ g(w)\\text{.}$ In other words, $\\log_{b}(uw) = \\log_{b}(u) + \\log_{b}(w)$</p></li><li id=\"li-9\"><p id=\"p-17\"><em class=\"emphasis\">Quotient Rule:</em>  $g\\left(\\dfrac{u}{w} \\right) = g(u) - g(w)\\text{.}$ In other words, $\\log_{b} \\left( \\dfrac{u}{w} \\right) = \\log_{b}(u) - \\log_{b}(w)$</p></li><li id=\"li-10\"><p id=\"p-18\"><em class=\"emphasis\">Power Rule:</em>  $g\\left(u^{w}\\right) =w g(u)\\text{.}$ In other words, $\\log_{b}\\left(u^{w}\\right) = w \\log_{b}(u)$</p></li></ul></div>"
   ]
  },
  {
   "cell_type": "markdown",
   "metadata": {},
   "source": [
    "<div class=\"mathbook-content\"><p id=\"p-19\">There are a couple of different ways to understand why <a href=\"LogProperties.ipynb#algproplogfcns\" class=\"xref\" alt=\"Section 1.4 Algebraic Properties of Logarithmic Functions\" title=\"Section 1.4 Algebraic Properties of Logarithmic Functions\">Theorem 1.4</a> is true. Consider the product rule: $\\log_{b}(uw) = \\log_{b}(u) + \\log_{b}(w)\\text{.}$ Let $a = \\log_{b}(uw)\\text{,}$ $c = \\log_{b}(u)\\text{,}$ and $d = \\log_{b}(w)\\text{.}$ Then, by definition, $b^{a} = uw\\text{,}$ $b^{c} = u$ and $b^{d} = w\\text{.}$ Hence, $b^{a} = uw = b^{c} b^{d} = b^{c+d}\\text{,}$ so that $b^{a} = b^{c+d}\\text{.}$ By the one-to-one property of $b^{x}\\text{,}$ we have $a = c+d\\text{.}$ In other words, $\\log_{b}(uw) = \\log_{b}(u) + \\log_{b}(w)\\text{.}$ The remaining properties are proved similarly. From a purely functional approach, we can see the properties in <a href=\"LogProperties.ipynb#algproplogfcns\" class=\"xref\" alt=\"Section 1.4 Algebraic Properties of Logarithmic Functions\" title=\"Section 1.4 Algebraic Properties of Logarithmic Functions\">Theorem 1.4</a> as an example of how inverse functions interchange the roles of inputs in outputs. For instance, the Product Rule for exponential functions given in <a href=\"LogProperties.ipynb#algpropexpfcns\" class=\"xref\" alt=\"Section 1.3 Algebraic Properties of Exponential Functions\" title=\"Section 1.3 Algebraic Properties of Exponential Functions\">Theorem 1.3</a>, $f(u+w) = f(u)f(w)\\text{,}$ says that adding inputs results in multiplying outputs. Hence, whatever $f^{-1}$ is, it must take the products of outputs from $f$ and return them to the sum of their respective inputs. Since the outputs from $f$ are the inputs to $f^{-1}$ and vice-versa, we have that that $f^{-1}$ must take products of its inputs to the sum of their respective outputs. This is precisely what the Product Rule for Logarithmic functions states in <a href=\"LogProperties.ipynb#algproplogfcns\" class=\"xref\" alt=\"Section 1.4 Algebraic Properties of Logarithmic Functions\" title=\"Section 1.4 Algebraic Properties of Logarithmic Functions\">Theorem 1.4</a>: $g(uw) = g(u) + g(w)\\text{.}$ The reader is encouraged to view the remaining properties listed in <a href=\"LogProperties.ipynb#algproplogfcns\" class=\"xref\" alt=\"Section 1.4 Algebraic Properties of Logarithmic Functions\" title=\"Section 1.4 Algebraic Properties of Logarithmic Functions\">Theorem 1.4</a> similarly. The following examples help build familiarity with these properties. In our first example, we are asked to “expand” the logarithms. This means that we read the properties in <a href=\"LogProperties.ipynb#algproplogfcns\" class=\"xref\" alt=\"Section 1.4 Algebraic Properties of Logarithmic Functions\" title=\"Section 1.4 Algebraic Properties of Logarithmic Functions\">Theorem 1.4</a> from left to right and rewrite products inside the log as sums outside the log, quotients inside the log as differences outside the log, and powers inside the log as factors outside the log.</p></div>"
   ]
  },
  {
   "cell_type": "markdown",
   "metadata": {},
   "source": [
    "<div class=\"mathbook-content\"><article class=\"example-like\" id=\"expandlogex\"><h6 class=\"heading\"><span class=\"type\">Example</span><span class=\"codenumber\">1.1</span><span class=\"title\">Expanding logarithmic expressions</span></h6><p id=\"p-20\">Expand the following using the properties of logarithms and simplify. Assume when necessary that all quantities represent positive real numbers.</p><article class=\"aside-like\" id=\"aside-1\"><p id=\"p-21\">Interestingly enough, expanding logarithms is the exact <em class=\"emphasis\">opposite</em> process (which we will practice later) that is most useful in Algebra. The utility of expanding logarithms becomes apparent in Calculus.</p></article><ol class=\"decimal\"><li id=\"li-11\"><p id=\"p-22\">$\\log_{2}\\left(\\dfrac{8}{x}\\right)$</p></li><li id=\"li-12\"><p id=\"p-23\">$\\log_{0.1} \\left(10 x^2 \\right)$</p></li><li id=\"li-13\"><p id=\"p-24\">$\\ln \\left(\\dfrac{3}{ex}\\right)^2$</p></li><li id=\"li-14\"><p id=\"p-25\">$\\log \\sqrt[3]{\\dfrac{100 x^2}{yz^5}}$</p></li><li id=\"li-15\"><p id=\"p-26\">$\\log_{117}\\left(x^2 - 4\\right)$</p></li></ol><div class=\"solutions\"><span class=\"solution\"><a knowl=\"\" class=\"id-ref\" refid=\"hk-solution-1\" id=\"solution-1\"><span class=\"type\">Solution</span></a></span><div id=\"hk-solution-1\" class=\"hidden-content tex2jax_ignore\"><span class=\"solution\"><ol id=\"p-27\" class=\"decimal\"><li id=\"li-16\"><p id=\"p-28\">To expand $\\log_{2}\\left(\\frac{8}{x}\\right)\\text{,}$ we use the Quotient Rule identifying $u = 8$ and $w=x$ and simplify.</p><div class=\"displaymath\">\n",
    "\\begin{align*}\n",
    "\\log_{2}\\left(\\dfrac{8}{x}\\right) \\amp  =   \\log_{2}(8) - \\log_{2}(x) \\tag{Quotient Rule}\\\\\n",
    "\\amp  =   3 - \\log_{2}(x)  \\tag{Since $2^{3} = 8$}\\\\\n",
    "\\amp  =  - \\log_{2}(x) + 3\n",
    "\\end{align*}\n",
    "</div></li><li id=\"li-17\"><p id=\"p-29\">In the expression $\\log_{0.1} \\left(10 x^2 \\right)\\text{,}$ we have a power (the $x^2$) and a product. In order to use the Product Rule, the <em class=\"emphasis\">entire</em> quantity inside the logarithm must be raised to the same exponent. Since the exponent $2$ applies only to the $x\\text{,}$ we first apply the Product Rule with $u=10$ and $w=x^2\\text{.}$ Once we get the $x^2$ by itself inside the log, we may apply the Power Rule with $u=x$ and $w=2$ and simplify.</p><div class=\"displaymath\">\n",
    "\\begin{align*}\n",
    "\\log_{0.1} \\left(10 x^2 \\right) \\amp  =   \\log_{0.1} (10) +  \\log_{0.1} \\left(x^2 \\right) \\tag{Product Rule}\\\\\n",
    "\\amp  =   \\log_{0.1} (10)+ 2 \\log_{0.1} (x)  \\tag{Power Rule}\\\\\n",
    "\\amp  =   -1 + 2 \\log_{0.1} (x)  \\tag{Since $(0.1)^{-1} = 10$}\\\\\n",
    "\\amp  =   2 \\log_{0.1} (x) - 1\n",
    "\\end{align*}\n",
    "</div></li><li id=\"li-18\"><p id=\"p-30\">We have a power, quotient and product occurring in $\\ln \\left(\\frac{3}{ex}\\right)^2\\text{.}$ Since the exponent $2$ applies to the entire quantity inside the logarithm, we begin with the Power Rule with $u=\\frac{3}{ex}$ and $w = 2\\text{.}$ Next, we see the Quotient Rule is applicable, with $u=3$ and $w=ex\\text{,}$ so we replace $\\ln\\left(\\frac{3}{ex}\\right)$  with the quantity $\\ln(3) - \\ln(ex)\\text{.}$ Since $\\ln \\left(\\frac{3}{ex}\\right)$ is being multiplied by $2\\text{,}$ the entire quantity $\\ln(3) - \\ln(ex)$ is multiplied by $2\\text{.}$ Finally, we apply the Product Rule with $u=e$ and $w=x\\text{,}$ and replace $\\ln(ex)$ with the quantity $\\ln(e) + \\ln(x)\\text{,}$ and simplify, keeping in mind that the natural log is log base $e\\text{.}$</p><div class=\"displaymath\">\n",
    "\\begin{align*}\n",
    "\\ln \\left(\\dfrac{3}{ex}\\right)^2 \\amp  =  2 \\ln \\left(\\dfrac{3}{ex}\\right)  \\tag{Power Rule}\\\\\n",
    "\\amp  =  2 \\left[ \\ln(3) - \\ln(ex) \\right]  \\tag{Quotient Rule}\\\\\n",
    "\\amp  =  2 \\ln(3) - 2\\ln(ex)\\\\\n",
    "\\amp  =  2 \\ln(3) - 2\\left[\\ln(e) + \\ln(x)\\right]  \\tag{Product Rule}\\\\\n",
    "\\amp  =  2 \\ln(3) - 2\\ln(e) - 2 \\ln(x)\\\\\n",
    "\\amp  =  2\\ln(3) - 2 - 2 \\ln(x)  \\tag{Since $e^{1} = e$}\\\\\n",
    "\\amp  =  - 2 \\ln(x) + 2\\ln(3) - 2\n",
    "\\end{align*}\n",
    "</div></li><li id=\"li-19\"><p id=\"p-31\">In <a href=\"LogProperties.ipynb#algproplogfcns\" class=\"xref\" alt=\"Section 1.4 Algebraic Properties of Logarithmic Functions\" title=\"Section 1.4 Algebraic Properties of Logarithmic Functions\">Theorem 1.4</a>, there is no mention of how to deal with radicals. However, thinking back to <a href=\"\" class=\"xref\" alt=\"\" title=\"\">Definition </a>, we can rewrite the cube root as a $\\frac{1}{3}$ exponent. We begin by using the Power Rule, and we keep in mind that the common log is log base $10\\text{.}$ <article class=\"aside-like\" id=\"aside-2\"><p id=\"p-32\">At this point in the text, the reader is encouraged to carefully read through each step and think of which quantity is playing the role of $u$ and which is playing the role of $w$ as we apply each property.</p></article></p><div class=\"displaymath\">\n",
    "\\begin{align*}\n",
    "\\log \\sqrt[3]{\\dfrac{100 x^2}{yz^5}} \\amp  =  \\log \\left(\\dfrac{100 x^2}{yz^5}\\right)^{1/3}\\\\\n",
    "\\amp  =  \\frac{1}{3} \\log\\left(\\dfrac{100 x^2}{yz^5}\\right)  \\tag{Power Rule}\\\\\n",
    "\\amp  =  \\frac{1}{3} \\left[ \\log\\left(100x^2\\right) - \\log\\left(yz^5\\right) \\right]  \\tag{Quotient Rule}\\\\\n",
    "\\amp  = \\frac{1}{3}\\log\\left(100x^2\\right) - \\frac{1}{3}\\log\\left(yz^5\\right)\\\\\n",
    "\\amp  =  \\frac{1}{3}\\left[ \\log(100) + \\log\\left(x^2\\right)\\right] - \\frac{1}{3} \\left[ \\log(y) + \\log\\left(z^5\\right) \\right]  \\tag{Product Rule}\\\\\n",
    "\\amp  = \\frac{1}{3} \\log(100) + \\frac{1}{3} \\log\\left(x^2\\right) - \\frac{1}{3} \\log(y) - \\frac{1}{3} \\log\\left(z^5\\right)\\\\\n",
    "\\amp  =  \\frac{1}{3} \\log(100) + \\frac{2}{3} \\log(x) - \\frac{1}{3} \\log(y) - \\frac{5}{3} \\log(z)  \\tag{Power Rule}\\\\\n",
    "\\amp  =  \\frac{2}{3} + \\frac{2}{3} \\log(x) - \\frac{1}{3} \\log(y) - \\frac{5}{3} \\log(z)  \\tag{Since $10^2=100$}\\\\\n",
    "\\amp  =   \\frac{2}{3} \\log(x) - \\frac{1}{3} \\log(y) - \\frac{5}{3} \\log(z) + \\frac{2}{3}\n",
    "\\end{align*}\n",
    "</div></li><li id=\"li-20\"><p id=\"p-33\">At first it seems as if we have no means of simplifying $\\log_{117}\\left(x^2-4\\right)\\text{,}$ since none of the properties of logs addresses the issue of expanding a difference <em class=\"emphasis\">inside</em> the logarithm. However, we may factor $x^2 - 4 = (x+2)(x-2)$ thereby introducing a product which gives us license to use the Product Rule.</p><div class=\"displaymath\">\n",
    "\\begin{align*}\n",
    "\\log_{117}\\left(x^2-4\\right) \\amp  =  \\log_{117} \\left[(x+2)(x-2)\\right]  \\tag{Factor}\\\\\n",
    "\\amp  =  \\log_{117}(x+2) + \\log_{117}(x-2)  \\tag{Product Rule}\n",
    "\\end{align*}\n",
    "</div></li></ol></span></div></div></article></div>"
   ]
  },
  {
   "cell_type": "markdown",
   "metadata": {},
   "source": [
    "<div class=\"mathbook-content\"><p id=\"p-34\">A couple of remarks about <a href=\"LogProperties.ipynb#expandlogex\" class=\"xref\" alt=\"Example 1.1 Expanding logarithmic expressions\" title=\"Example 1.1 Expanding logarithmic expressions\">Example 1.1</a> are in order. First, while not explicitly stated in the above example, a general rule of thumb to determine which log property to apply first to a complicated problem is “reverse order of operations.” For example, if we were to substitute a number for $x$ into the expression $\\log_{0.1} \\left(10 x^2 \\right)\\text{,}$ we would first square the $x\\text{,}$ then multiply by $10\\text{.}$ The last step is the multiplication, which tells us the first log property to apply is the Product Rule. In a multi-step problem, this rule can give the required guidance on which log property to apply at each step. The reader is encouraged to look through the solutions to <a href=\"LogProperties.ipynb#expandlogex\" class=\"xref\" alt=\"Example 1.1 Expanding logarithmic expressions\" title=\"Example 1.1 Expanding logarithmic expressions\">Example 1.1</a> to see this rule in action. Second, while we were instructed to assume when necessary that all quantities represented positive real numbers, the authors would be committing a sin of omission if we failed to point out that, for instance, the functions $f(x) = \\log_{117}\\left(x^2-4\\right)$ and $g(x) = \\log_{117}(x+2) + \\log_{117}(x-2)$ have different domains, and, hence, are different functions. We leave it to the reader to verify the domain of $f$ is $(-\\infty, -2) \\cup (2,\\infty)$ whereas the domain of $g$ is $(2,\\infty)\\text{.}$ In general, when using log properties to expand a logarithm, we may very well be restricting the domain as we do so. One last comment before we move to reassembling logs from their various bits and pieces. The authors are well aware of the propensity for some students to become overexcited and invent their own properties of logs like $\\log_{117}\\left(x^2-4\\right) = \\log_{117}\\left(x^2\\right) - \\log_{117}(4)\\text{,}$ which simply isn't true, in general. The unwritten (the authors relish the irony involved in writing what follows) property of logarithms is that if it isn't written in a textbook, it probably isn't true.</p></div>"
   ]
  },
  {
   "cell_type": "markdown",
   "metadata": {},
   "source": [
    "<div class=\"mathbook-content\"><article class=\"example-like\" id=\"contractlogex\"><h6 class=\"heading\"><span class=\"type\">Example</span><span class=\"codenumber\">1.2</span><span class=\"title\">Combining logarithmic expressions</span></h6><p id=\"p-35\">Use the properties of logarithms to write the following as a single logarithm. </p><ol class=\"decimal cols2\"><li id=\"li-21\"><p id=\"p-36\">$\\log_{3}(x-1) - \\log_{3}(x+1)$</p></li><li id=\"li-22\"><p id=\"p-37\">$\\log(x) + 2\\log(y) - \\log(z)$ \\setcounter{HW}{\\value{enumi}}</p></li><li id=\"li-23\"><p id=\"p-38\">$4\\log_{2}(x) + 3$</p></li><li id=\"li-24\"><p id=\"p-39\">$-\\ln(x) - \\frac{1}{2}$</p></li></ol><div class=\"solutions\"><span class=\"solution\"><a knowl=\"\" class=\"id-ref\" refid=\"hk-solution-2\" id=\"solution-2\"><span class=\"type\">Solution</span></a></span><div id=\"hk-solution-2\" class=\"hidden-content tex2jax_ignore\"><span class=\"solution\"><p id=\"p-40\">Whereas in <a href=\"LogProperties.ipynb#expandlogex\" class=\"xref\" alt=\"Example 1.1 Expanding logarithmic expressions\" title=\"Example 1.1 Expanding logarithmic expressions\">Example 1.1</a> we read the properties in <a href=\"LogProperties.ipynb#algproplogfcns\" class=\"xref\" alt=\"Section 1.4 Algebraic Properties of Logarithmic Functions\" title=\"Section 1.4 Algebraic Properties of Logarithmic Functions\">Theorem 1.4</a> from left to right to expand logarithms, in this example we read them from right to left. </p><ol class=\"decimal\"><li id=\"li-25\"><p id=\"p-41\">The difference of logarithms requires the Quotient Rule: $\\log_{3}(x-1) - \\log_{3}(x+1) = \\log_{3}\\left(\\frac{x-1}{x+1}\\right)\\text{.}$</p></li><li id=\"li-26\"><p id=\"p-42\">In the expression, $\\log(x) + 2\\log(y) - \\log(z)\\text{,}$ we have both a sum and difference of logarithms. However, before we use the product rule to combine $\\log(x) + 2\\log(y)\\text{,}$ we note that we need to somehow deal with the coefficient $2$ on $\\log(y)\\text{.}$ This can be handled using the Power Rule. We can then apply the Product and Quotient Rules as we move from left to right. Putting it all together, we have</p><div class=\"displaymath\">\n",
    "\\begin{align*}\n",
    "\\log(x) + 2\\log(y) - \\log(z) \\amp  =  \\log(x) + \\log\\left(y^2\\right) - \\log(z)  \\tag{Power Rule}\\\\\n",
    "\\amp  =  \\log\\left(xy^2\\right) - \\log(z)  \\tag{Product Rule}\\\\\n",
    "\\amp  =  \\log\\left( \\dfrac{xy^2}{z}\\right)  \\tag{Quotient Rule}\n",
    "\\end{align*}\n",
    "</div></li><li id=\"li-27\"><p id=\"p-43\">We can certainly get started rewriting $4\\log_{2}(x) + 3$ by applying the Power Rule to $4\\log_{2}(x)$ to obtain $\\log_{2}\\left(x^4\\right)\\text{,}$ but in order to use the Product Rule to handle the addition, we need to rewrite $3$ as a logarithm base $2\\text{.}$ From <a href=\"LogProperties.ipynb#invpropslogs\" class=\"xref\" alt=\"Section 1.1 Inverse Properties of Exponential and Logarithmic Functions\" title=\"Section 1.1 Inverse Properties of Exponential and Logarithmic Functions\">Theorem 1.1</a>, we know $3 = \\log_{2}\\left(2^3\\right)\\text{,}$ so we get</p><div class=\"displaymath\">\n",
    "\\begin{align*}\n",
    "4\\log_{2}(x) + 3 \\amp  =  \\log_{2}\\left(x^4\\right) + 3   \\tag{Power Rule}\\\\\n",
    "\\amp  =  \\log_{2}\\left(x^4\\right) + \\log_{2}\\left(2^3\\right) \\tag{Since $3 = \\log_{2}\\left(2^3\\right)$}\\\\\n",
    "\\amp  =  \\log_{2}\\left(x^4\\right) + \\log_{2}(8)\\\\\n",
    "\\amp  =  \\log_{2}\\left( 8x^4\\right)  \\tag{Product Rule}\n",
    "\\end{align*}\n",
    "</div></li><li id=\"li-28\"><p id=\"p-44\">To get started with $-\\ln(x) - \\frac{1}{2}\\text{,}$ we rewrite  $-\\ln(x)$ as $(-1) \\ln(x)\\text{.}$ We can then use the Power Rule to obtain $(-1)\\ln(x) = \\ln\\left(x^{-1}\\right)\\text{.}$ In order to use the Quotient Rule, we need to write $\\frac{1}{2}$ as a natural logarithm. <a href=\"LogProperties.ipynb#invpropslogs\" class=\"xref\" alt=\"Section 1.1 Inverse Properties of Exponential and Logarithmic Functions\" title=\"Section 1.1 Inverse Properties of Exponential and Logarithmic Functions\">Theorem 1.1</a> gives us $\\frac{1}{2} = \\ln\\left(e^{1/2}\\right) = \\ln\\left(\\sqrt{e}\\right)\\text{.}$ We have</p><div class=\"displaymath\">\n",
    "\\begin{align*}\n",
    "-\\ln(x) - \\frac{1}{2} \\amp  =  (-1)\\ln(x) - \\frac{1}{2}\\\\\n",
    "\\amp  =  \\ln\\left(x^{-1}\\right) - \\frac{1}{2}  \\tag{Power Rule}\\\\\n",
    "\\amp  =  \\ln\\left(x^{-1}\\right) - \\ln\\left(e^{1/2}\\right) \\tag{Since $\\frac{1}{2} = \\ln\\left(e^{1/2}\\right)$}\\\\\n",
    "\\amp  =  \\ln\\left(x^{-1}\\right) - \\ln\\left(\\sqrt{e} \\right)\\\\\n",
    "\\amp  =  \\ln\\left(\\dfrac{x^{-1}}{\\sqrt{e}}\\right)  \\tag{Quotient Rule}\\\\\n",
    "\\amp  =  \\ln\\left(\\dfrac{1}{x\\sqrt{e}}\\right)\n",
    "\\end{align*}\n",
    "</div></li></ol></span></div></div></article></div>"
   ]
  },
  {
   "cell_type": "markdown",
   "metadata": {},
   "source": [
    "<div class=\"mathbook-content\"><p id=\"p-45\">As we would expect, the rule of thumb for re-assembling logarithms is the opposite of what it was for dismantling them. That is, if we are interested in rewriting an expression as a single logarithm, we apply log properties following the usual order of operations: deal with multiples of logs first with the Power Rule, then deal with addition and subtraction using the Product and Quotient Rules, respectively. Additionally, we find that using log properties in this fashion can increase the domain of the expression. For example, we leave it to the reader to verify the domain of $f(x) = \\log_{3}(x-1) - \\log_{3}(x+1)$ is $(1,\\infty)$ but the domain of $g(x) = \\log_{3}\\left(\\frac{x-1}{x+1}\\right)$ is $(-\\infty, -1) \\cup (1, \\infty)\\text{.}$</p></div>"
   ]
  },
  {
   "cell_type": "markdown",
   "metadata": {},
   "source": [
    "<div class=\"mathbook-content\"><p id=\"p-46\">The two logarithm buttons commonly found on calculators are the “LOG” and “LN” buttons which correspond to the common and natural logs, respectively. Suppose we wanted an approximation to $\\log_{2}(7)\\text{.}$ The answer should be a little less than $3\\text{,}$ (Can you explain why?) but how do we coerce the calculator into telling us a more accurate answer? We need the following theorem.</p></div>"
   ]
  },
  {
   "cell_type": "markdown",
   "metadata": {},
   "source": [
    "<div class=\"mathbook-content\"><h4 class=\"heading hide-type\" alt=\"Section 1.5 Change of Base Formulas\"><span class=\"type\">Section</span><span class=\"codenumber\">1.5</span><span class=\"title\">Change of Base Formulas</span></h4><a href=\"LogProperties.ipynb#changeofbase\" class=\"permalink\">¶</a></div>"
   ]
  },
  {
   "cell_type": "markdown",
   "metadata": {},
   "source": [
    "<div class=\"mathbook-content\"><p id=\"p-47\">Let $a,b >0\\text{,}$ $a,b \\neq 1\\text{.}$    </p><ul class=\"disc\"><li id=\"li-29\"><p id=\"p-48\">$a^{x} = b^{x \\log_{b}(a)}$ for all real numbers $x\\text{.}$</p></li><li id=\"li-30\"><p id=\"p-49\">$\\log_{a}(x) = \\dfrac{\\log_{b}(x)}{\\log_{b}(a)}$ for all real numbers $x > 0\\text{.}$</p></li></ul></div>"
   ]
  },
  {
   "cell_type": "markdown",
   "metadata": {},
   "source": [
    "<div class=\"mathbook-content\"><p id=\"p-50\">The proofs of the Change of Base formulas are a result of the other properties studied in this section. If we start with $b^{x \\log_{b}(a)}$ and use the Power Rule in the exponent to rewrite $x \\log_{b}(a)$ as $\\log_{b}\\left(a^{x}\\right)$ and then apply one of the Inverse Properties in <a href=\"LogProperties.ipynb#invpropslogs\" class=\"xref\" alt=\"Section 1.1 Inverse Properties of Exponential and Logarithmic Functions\" title=\"Section 1.1 Inverse Properties of Exponential and Logarithmic Functions\">Theorem 1.1</a>, we get</p><div class=\"displaymath\">\n",
    "\\begin{equation*}\n",
    "b^{x \\log_{b}(a)} = b^{\\log_{b}\\left(a^{x}\\right)} = a^{x}\\text{,}\n",
    "\\end{equation*}\n",
    "</div><p>as required. To verify the logarithmic form of the property, we also use the Power Rule and an Inverse Property. We note that</p><div class=\"displaymath\">\n",
    "\\begin{equation*}\n",
    "\\log_{a}(x) \\cdot \\log_{b}(a) =  \\log_{b} \\left(a^{\\log_{a}(x)}\\right) = \\log_{b}(x)\\text{,}\n",
    "\\end{equation*}\n",
    "</div><p>and we get the result by dividing through by $\\log_{b}(a)\\text{.}$ Of course, the authors can't help but point out the inverse relationship between these two change of base formulas. To change the base of an exponential expression, we <em class=\"emphasis\">multiply</em> the <em class=\"emphasis\">input</em> by the factor $\\log_{b}(a)\\text{.}$ To change the base of a logarithmic expression, we <em class=\"emphasis\">divide</em> the <em class=\"emphasis\">output</em> by the factor $\\log_{b}(a)\\text{.}$ What <a href=\"LogProperties.ipynb#changeofbase\" class=\"xref\" alt=\"Section 1.5 Change of Base Formulas\" title=\"Section 1.5 Change of Base Formulas\">Theorem 1.5</a> really tells us is that all exponential and logarithmic functions are just scalings of one another. Not only does this explain why their graphs have similar shapes, but it also tells us that we could do all of mathematics with a single base - be it $10\\text{,}$ $e\\text{,}$ $42\\text{,}$ or $117\\text{.}$</p></div>"
   ]
  },
  {
   "cell_type": "markdown",
   "metadata": {},
   "source": [
    "<div class=\"mathbook-content\"><article class=\"aside-like\" id=\"aside-3\"><p id=\"p-51\">While, in the grand scheme of things, both change of base formulas are really saying the same thing, the logarithmic form is the one usually encountered in Algebra while the exponential form isn't usually introduced until Calculus. The authors feel so strongly about showing students that every property of logarithms comes from and corresponds to a property of exponents that we have broken tradition with the vast majority of other authors in this field. This isn't the first time this happened, and it certainly won't be the last.</p></article></div>"
   ]
  },
  {
   "cell_type": "markdown",
   "metadata": {},
   "source": [
    "<div class=\"mathbook-content\"><article class=\"example-like\" id=\"ex_basechange\"><h6 class=\"heading\"><span class=\"type\">Example</span><span class=\"codenumber\">1.1</span><span class=\"title\">Using change of base formulas</span></h6><p id=\"p-52\">Use an appropriate change of base formula to convert the following expressions to ones with the indicated base. Verify your answers using a computer or calculator, as appropriate. </p><ol class=\"decimal\"><li id=\"li-31\"><p id=\"p-53\">$3^{2}$ to base $10$</p></li><li id=\"li-32\"><p id=\"p-54\">$2^{x}$ to base $e$</p></li><li id=\"li-33\"><p id=\"p-55\">$\\log_{4}(5)$ to base $e$</p></li><li id=\"li-34\"><p id=\"p-56\">$\\ln(x)$ to base $10$</p></li></ol><ol id=\"p-57\" class=\"decimal\"><li id=\"li-35\"><p id=\"p-58\">We apply the Change of Base formula with $a=3$ and $b=10$ to obtain $3^2 = 10^{2 \\log(3)}\\text{.}$ Typing the latter in the calculator produces an answer of $9$ as required.</p></li><li id=\"li-36\"><p id=\"p-59\">Here, $a=2$ and $b = e$ so we have $2^{x} = e^{x \\ln(2)}\\text{.}$ To verify this on our calculator, we can graph $f(x) = 2^x$ (in red) and $g(x) = e^{x \\ln(2)}$ (in blue). Their graphs are indistinguishable which provides evidence that they are the same function: see <a href=\"LogProperties.ipynb#fig_logprop1\" class=\"xref\" alt=\"Figure 1.2 \" title=\"Figure 1.2 \">Figure 1.2</a>. <figure class=\"figure-like\" id=\"fig_logprop1\"><img width=\"100%\" src=\"ExpLogs03.png\" alt=\"\" /><figcaption><span class=\"type\">Figure</span><span class=\"codenumber\">1.2</span>$y=f(x)=2^x$ and $y=g(x)=e^{x\\ln(2)}$</figcaption></figure></p></li><li id=\"li-37\"><p id=\"p-60\">Applying the change of base with $a=4$ and $b=e$ leads us to write $\\log_{4}(5) = \\frac{\\ln(5)}{\\ln(4)}\\text{.}$ Evaluating this in the calculator gives $\\frac{\\ln(5)}{\\ln(4)} \\approx 1.16\\text{.}$ How do we check this really is the value of $\\log_{4}(5)\\text{?}$ By definition, $\\log_{4}(5)$ is the exponent we put on $4$ to get $5\\text{.}$ The plot from GeoGebra in <a href=\"LogProperties.ipynb#fig_logprop2\" class=\"xref\" alt=\"Figure 1.3 \" title=\"Figure 1.3 \">Figure 1.3</a> confirms this. (Which means if it is lying to us about the first answer it gave us, at least it is being consistent.)</p></li><li id=\"li-38\"><p id=\"p-61\">We write $\\ln(x) = \\log_{e}(x) = \\frac{\\log(x)}{\\log(e)}\\text{.}$ We graph both $f(x) = \\ln(x)$ and $g(x) = \\frac{\\log(x)}{\\log(e)}$ and find both graphs appear to be identical. <figure class=\"figure-like\" id=\"fig_logprop2\"><img width=\"100%\" src=\"ExpLogs04.png\" alt=\"\" /><figcaption><span class=\"type\">Figure</span><span class=\"codenumber\">1.3</span>$y=f(x)=2^x$ and $y=g(x)=e^{x\\ln(2)}$</figcaption></figure></p></li></ol></article></div>"
   ]
  },
  {
   "cell_type": "markdown",
   "metadata": {},
   "source": [
    "\n",
    "<a href=\"#foo\">Foo</a>"
   ]
  },
  {
   "cell_type": "code",
   "execution_count": null,
   "metadata": {},
   "outputs": [],
   "source": []
  }
 ],
 "metadata": {
  "kernelspec": {
   "display_name": "Python 3",
   "language": "python",
   "name": "python3"
  },
  "language_info": {
   "codemirror_mode": {
    "name": "ipython",
    "version": 3
   },
   "file_extension": ".py",
   "mimetype": "text/x-python",
   "name": "python",
   "nbconvert_exporter": "python",
   "pygments_lexer": "ipython3",
   "version": "3.6.4"
  },
  "name": "LogProperties.ipynb"
 },
 "nbformat": 4,
 "nbformat_minor": 1
}
