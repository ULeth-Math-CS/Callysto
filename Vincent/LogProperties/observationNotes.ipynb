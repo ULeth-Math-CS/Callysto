{
 "cells": [
  {
   "cell_type": "markdown",
   "metadata": {},
   "source": [
    "# Observations when converting PreTeXt to Jupyter"
   ]
  },
  {
   "cell_type": "markdown",
   "metadata": {},
   "source": [
    "I managed to convert the LogPorperties example into a <a href=\"Log_Properties.ipynb\">working notebook</a> (it actually created 2 for this example, linked is the top level)."
   ]
  },
  {
   "cell_type": "markdown",
   "metadata": {},
   "source": [
    "**Here are some of my observations:**\n",
    "- Make sure the top level of the xml doc wraps with `<mathbook>` and `<article>` tags.\n",
    "- Links to containing theorem simply reopens a new instance of the same notebook (not desirable).\n",
    "- Most headers also create links which reopens the same notebook, these links should proably be removed or ignored.\n",
    "- Images tags must be `<image source=\"\">` format in the xml file. `<img src=\"\">` gets ignored when converting.\n",
    "- The image source has to be relative to where the final notebook will be.\n",
    "- `<solution>` tags create a dead hyperlink, can not reveal or show the solution. Needs to be turned into a `<statement>` to view.\n",
    "- `<aside>` tags do not show up, they are added to the html cells but do not show up when rendered.\n",
    "- There are most likely more tags that I have not encountered that also require extra attention."
   ]
  },
  {
   "cell_type": "markdown",
   "metadata": {},
   "source": [
    "Overall it seems to give a decent body to start with but definitely requires more work to make sure all the information is added to the notebook. Extra formatting is required with the current script build."
   ]
  },
  {
   "cell_type": "code",
   "execution_count": null,
   "metadata": {},
   "outputs": [],
   "source": []
  }
 ],
 "metadata": {
  "kernelspec": {
   "display_name": "Python 3",
   "language": "python",
   "name": "python3"
  },
  "language_info": {
   "codemirror_mode": {
    "name": "ipython",
    "version": 3
   },
   "file_extension": ".py",
   "mimetype": "text/x-python",
   "name": "python",
   "nbconvert_exporter": "python",
   "pygments_lexer": "ipython3",
   "version": "3.6.4"
  }
 },
 "nbformat": 4,
 "nbformat_minor": 2
}
