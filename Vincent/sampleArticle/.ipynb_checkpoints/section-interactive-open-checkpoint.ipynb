{
 "cells": [
  {
   "cell_type": "code",
   "execution_count": 3,
   "metadata": {},
   "outputs": [
    {
     "data": {
      "text/html": [
       "<link href=\"http://mathbook.pugetsound.edu/beta/mathbook-content.css\" rel=\"stylesheet\" type=\"text/css\" />\n",
       "<link href=\"https://aimath.org/mathbook/mathbook-add-on.css\" rel=\"stylesheet\" type=\"text/css\" />\n",
       "<style>.subtitle {font-size:medium; display:block}</style>\n",
       "<link href=\"https://fonts.googleapis.com/css?family=Open+Sans:400,400italic,600,600italic\" rel=\"stylesheet\" type=\"text/css\" />\n",
       "<link href=\"https://fonts.googleapis.com/css?family=Inconsolata:400,700&subset=latin,latin-ext\" rel=\"stylesheet\" type=\"text/css\" /><!-- Hide this cell. -->\n",
       "<script>\n",
       "var cell = $(\".container .cell\").eq(0), ia = cell.find(\".input_area\")\n",
       "if (cell.find(\".toggle-button\").length == 0) {\n",
       "ia.after(\n",
       "    $('<button class=\"toggle-button\">Toggle hidden code</button>').click(\n",
       "        function (){ ia.toggle() }\n",
       "        )\n",
       "    )\n",
       "ia.hide()\n",
       "}\n",
       "</script>"
      ],
      "text/plain": [
       "<IPython.core.display.HTML object>"
      ]
     },
     "metadata": {},
     "output_type": "display_data"
    }
   ],
   "source": [
    "%%html\n",
    "<link href=\"http://mathbook.pugetsound.edu/beta/mathbook-content.css\" rel=\"stylesheet\" type=\"text/css\" />\n",
    "<link href=\"https://aimath.org/mathbook/mathbook-add-on.css\" rel=\"stylesheet\" type=\"text/css\" />\n",
    "<style>.subtitle {font-size:medium; display:block}</style>\n",
    "<link href=\"https://fonts.googleapis.com/css?family=Open+Sans:400,400italic,600,600italic\" rel=\"stylesheet\" type=\"text/css\" />\n",
    "<link href=\"https://fonts.googleapis.com/css?family=Inconsolata:400,700&subset=latin,latin-ext\" rel=\"stylesheet\" type=\"text/css\" /><!-- Hide this cell. -->\n",
    "<script>\n",
    "var cell = $(\".container .cell\").eq(0), ia = cell.find(\".input_area\")\n",
    "if (cell.find(\".toggle-button\").length == 0) {\n",
    "ia.after(\n",
    "    $('<button class=\"toggle-button\">Toggle hidden code</button>').click(\n",
    "        function (){ ia.toggle() }\n",
    "        )\n",
    "    )\n",
    "ia.hide()\n",
    "}\n",
    "</script>\n"
   ]
  },
  {
   "cell_type": "markdown",
   "metadata": {},
   "source": [
    "**Important:** to view this notebook properly you will need to execute the cell above, which assumes you have an Internet connection.  It should already be selected, or place your cursor anywhere above to select.  Then press the \"Run\" button in the menu bar above (the right-pointing arrowhead), or press Shift-Enter on your keyboard."
   ]
  },
  {
   "cell_type": "markdown",
   "metadata": {},
   "source": [
    "$\\require{cancel}\\newcommand{\\definiteintegral}[4]{\\int_{#1}^{#2}\\,#3\\,d#4} \n",
    "\\newcommand{\\myequation}[2]{#1\\amp =#2} \n",
    "\\newcommand{\\indefiniteintegral}[2]{\\int#1\\,d#2}\n",
    "\\newcommand{\\testingescapedpercent}{ \\% } \n",
    "\\newcommand{\\lt}{<}\n",
    "\\newcommand{\\gt}{>}\n",
    "\\newcommand{\\amp}{&}\n",
    "$"
   ]
  },
  {
   "cell_type": "markdown",
   "metadata": {},
   "source": [
    "<div class=\"mathbook-content\"><h2 class=\"heading hide-type\" alt=\"Section 14 Open Interactive Elements\"><span class=\"type\">Section</span><span class=\"codenumber\">14</span><span class=\"title\">Open Interactive Elements</span></h2><a href=\"section-interactive-open.ipynb\" class=\"permalink\">¶</a></div>"
   ]
  },
  {
   "cell_type": "markdown",
   "metadata": {},
   "source": [
    "<div class=\"mathbook-content\"></div>"
   ]
  },
  {
   "cell_type": "markdown",
   "metadata": {},
   "source": [
    "<div class=\"mathbook-content\"><p id=\"p-497\">When outputting Web page versions, it is possible to embed a variety of dynamic interactive elements.  In a <span class=\"latex-logo\">L<span class=\"A\">a</span>T<span class=\"E\">e</span>X</span>/PDF version, these will necessarily need to be replaced by some static substitute, such as a screenshot.  See <a href=\"section-sage-cells.ipynb\" class=\"xref\" alt=\"Section 3 Computing Integrals with Sage ($\\int$)\" title=\"Section 3 Computing Integrals with Sage ($\\int$)\">Section 3</a> for the specifics of embedding instances of the Sage Cell Server, which is more elaborate, and not entirely similar.</p></div>"
   ]
  },
  {
   "cell_type": "markdown",
   "metadata": {},
   "source": [
    "<div class=\"mathbook-content\"><p id=\"p-498\">Interactives in this section are generally unencumbered from copyright or licensing restrictions.  See <a href=\"section-interactive-free.ipynb\" class=\"xref\" alt=\"Section 15 Free Interactive Elements\" title=\"Section 15 Free Interactive Elements\">Section 15</a> for more interactives that are not as open.</p></div>"
   ]
  },
  {
   "cell_type": "markdown",
   "metadata": {},
   "source": [
    "<div class=\"mathbook-content\"><p id=\"p-499\">(2018-03-05) Almost everything in this section is under active development and not stable yet.  Feel free to experiment and make suggestions and requests.  This page takes a while to completely load, so be patient.</p></div>"
   ]
  },
  {
   "cell_type": "markdown",
   "metadata": {},
   "source": [
    "<div class=\"mathbook-content\"><h3 class=\"heading hide-type\" alt=\"Subsection 14.1 HTML5 Canvas\"><span class=\"type\">Subsection</span><span class=\"codenumber\">14.1</span><span class=\"title\">HTML5 Canvas</span></h3></div>"
   ]
  },
  {
   "cell_type": "markdown",
   "metadata": {},
   "source": [
    "<div class=\"mathbook-content\"><p id=\"p-500\"><abbr class=\"initialism\">HTML5</abbr> introduced the <code class=\"code-inline tex2jax_ignore\"><canvas></code> element, which can be thought of a blank slate, a place to draw or write on.  So PreTeXt has the <code class=\"code-inline tex2jax_ignore\"><slate></code> element for a similar purpose.  Generally, but not exclusively, <abbr class=\"initialism\">HTML5</abbr> writes on a <code class=\"code-inline tex2jax_ignore\"><canvas></code> using the Javascript language.  We demonstrate this approach to interactive diagrams in this subsection.</p></div>"
   ]
  },
  {
   "cell_type": "markdown",
   "metadata": {},
   "source": [
    "<div class=\"mathbook-content\"><p id=\"p-501\">The following examples are from David Austin's excellent <a class=\"url\" href=\"http://merganser.math.gvsu.edu/david/linear.algebra/ula/index.html\" target=\"_blank\"><span class=\"booktitle\">Understanding Linear Algebra</span></a> textbook, which can be found at</p><pre class=\"code-block tex2jax_ignore\">merganser.math.gvsu.edu/david/linear.algebra/ula/index.html\n",
    "</pre><p>David's contribution of examples, and assistance designing the PreTeXt elements is greatly appreciated.  Alright, let's learn some linear algebra.  Yes, there are some learning opportunities in this subsection.</p></div>"
   ]
  },
  {
   "cell_type": "markdown",
   "metadata": {},
   "source": [
    "<div class=\"mathbook-content\"><figure class=\"figure-like\" id=\"figure-simple-eigenvector\"><div style=\"width:360px;\"><p id=\"p-502\">Let $\\vec{x}$ be represented by the red arrow, and $A\\vec{x}$ by the grey arrow, for some particular $2\\times 2$ matrix $A\\text{.}$  Drag the <em class=\"emphasis\">tip</em> of the red arrow to see the grey arrow change.</p></div><iframe id=\"interactive-simple-eigenvector\" width=\"360px;\" height=\"360px;\" src=\"interactive-simple-eigenvector-if.html\" /><figcaption><span class=\"type\">Figure</span><span class=\"codenumber\">14.1</span>A simple eigenvector demonstration</figcaption></figure></div>"
   ]
  },
  {
   "cell_type": "markdown",
   "metadata": {},
   "source": [
    "<div class=\"mathbook-content\"><article class=\"exercise-like\"><a knowl=\"\" class=\"id-ref\" refid=\"hk-exercise-20\" id=\"exercise-20\"><h6 class=\"heading\"><span class=\"type\">Checkpoint</span><span class=\"codenumber\">14.2</span></h6></a></article><div id=\"hk-exercise-20\" class=\"hidden-content tex2jax_ignore\"><article class=\"exercise-like\"><p id=\"p-503\">The interactive in <a href=\"section-interactive-open.ipynb#figure-simple-eigenvector\" class=\"xref\" alt=\"Figure 14.1 \" title=\"Figure 14.1 \">Figure 14.1</a> shows a vector $\\vec{x}$ in red, and the matrix-vector product $A\\vec{x}$ in grey, for a particular $2\\times 2$ matrix $A\\text{.}$  The four entries of the matrix $A$ are coded into the interactive.  Can you deduce $A$ simply by using the interactive?  Which theorem is the key?</p></article></div></div>"
   ]
  },
  {
   "cell_type": "markdown",
   "metadata": {},
   "source": [
    "<div class=\"mathbook-content\"><figure class=\"figure-like\" id=\"figure-eigenvectors\"><div style=\"width:540px;\"><p id=\"p-504\">Let $\\vec{x}$ be represented by the red arrow, and $A\\vec{x}$ by the grey arrow, for a $2\\times 2$ matrix $A\\text{.}$  Drag the <em class=\"emphasis\">tip</em> of the red arrow to see the grey arrow change.  Or drag the blue sliders to change the numerical values of the four entries of the $2\\times 2$ matrix $A\\text{.}$  You will not see the grey vector until you change the matrix using one of the two sliders on the left.  Why is that?  What are the eigenvectors of the initial matrix?</p></div><iframe id=\"interactive-eigenvectors\" width=\"540px;\" height=\"675px;\" src=\"interactive-eigenvectors-if.html\" /><figcaption><span class=\"type\">Figure</span><span class=\"codenumber\">14.3</span>Eigenvector demonstration</figcaption></figure></div>"
   ]
  },
  {
   "cell_type": "markdown",
   "metadata": {},
   "source": [
    "<div class=\"mathbook-content\"><p id=\"p-505\">The next example has ten <code class=\"code-inline tex2jax_ignore\"><slate></code> elements communicating with each other, and arranged with the layout features of a <code class=\"code-inline tex2jax_ignore\"><sidebyside></code> (see <a href=\"section-side-by-side.ipynb\" class=\"xref\" alt=\"Section 22 Side-By-Side Panels\" title=\"Section 22 Side-By-Side Panels\">Section 22</a>).</p></div>"
   ]
  },
  {
   "cell_type": "markdown",
   "metadata": {},
   "source": [
    "<div class=\"mathbook-content\"><figure class=\"figure-like\" id=\"figure-animation\"><div style=\"width:600px;\"><p id=\"p-506\">Parameters $a\\text{,}$ $b\\text{,}$ $d\\text{,}$ and $e\\text{,}$ form a $2\\times 2$ matrix $A\\text{,}$ while $c$ and $f$ form a vector $\\vec{b}\\text{.}$  The two views of Woody shows the effect of the mapping</p><div class=\"displaymath\">\n",
    "\\begin{equation*}\n",
    "\\vec{x}\\mapsto A\\vec{x} + \\vec{b}\\text{.}\n",
    "\\end{equation*}\n",
    "</div></div><iframe id=\"interactive-animation\" width=\"600px;\" height=\"500px;\" src=\"interactive-animation-if.html\" /><figcaption><span class=\"type\">Figure</span><span class=\"codenumber\">14.4</span>Affine Transformations</figcaption></figure></div>"
   ]
  },
  {
   "cell_type": "markdown",
   "metadata": {},
   "source": [
    "<div class=\"mathbook-content\"><h3 class=\"heading hide-type\" alt=\"Subsection 14.2 JSXGraph\"><span class=\"type\">Subsection</span><span class=\"codenumber\">14.2</span><span class=\"title\">JSXGraph</span></h3></div>"
   ]
  },
  {
   "cell_type": "markdown",
   "metadata": {},
   "source": [
    "<div class=\"mathbook-content\"><p id=\"p-507\"><a class=\"url\" href=\"http://jsxgraph.uni-bayreuth.de/wp/index.html\" target=\"_blank\">JSXGraph</a> is a “cross-browser JavaScript library for interactive geometry, function plotting, charting, and data visualization in the web browser.”  Now a <code class=\"code-inline tex2jax_ignore\"><slate></code> will be what JSXGraph calls a <dfn class=\"terminology\">board</dfn>.  Again, you use Javascript to write onto a <code class=\"code-inline tex2jax_ignore\"><slate></code>, but have some powerful shortcuts available from the JSXGraph library.  For this reason, PreTeXt calls JSXGraph a “language”, similar in may respects to how Sage is a language, but is really a Python library.  So realize that the syntax for using JSXGraph is that of Javascript.</p></div>"
   ]
  },
  {
   "cell_type": "markdown",
   "metadata": {},
   "source": [
    "<div class=\"mathbook-content\"><p id=\"p-508\">Place Javascript inside a file that is specified with the <code class=\"code-inline tex2jax_ignore\">@source</code> attribute of the <code class=\"code-inline tex2jax_ignore\"><interactive></code> element.  Then just be certain that <code class=\"code-inline tex2jax_ignore\">@xml:id</code> of the <code class=\"code-inline tex2jax_ignore\"><interactive></code> element is passed as the <abbr class=\"initialism\">HTML</abbr> <code class=\"code-inline tex2jax_ignore\">id</code> in an (early) call to JSXGraph's <code class=\"code-inline tex2jax_ignore\">initBoard()</code> method.</p></div>"
   ]
  },
  {
   "cell_type": "markdown",
   "metadata": {},
   "source": [
    "<div class=\"mathbook-content\"><p id=\"p-509\">The plot below is the curve $r=a+b\\theta$ in polar coordinates, for $0\\leq\\theta\\leq 8\\pi\\text{.}$  It may be manipulated with the sliders to control the shape of the curve.  Point $A$ is contrained to the curve, but may be dragged to a new location. At $A$ the tangent line and normal line are plotted as dashed red lines.  Use the controls in the lower left to adjust the viewing window.  This <a class=\"url\" href=\"http://jsxgraph.uni-bayreuth.de/wiki/index.php/Archimedean_spiral\" target=\"_blank\">example</a> is taken from the JSXGraph <a class=\"url\" href=\"http://jsxgraph.uni-bayreuth.de/wiki/index.php/Category:Examples\" target=\"_blank\">example wiki</a>.  The code could be written in 7 lines.  Width is 80% and aspect ratio is 4:3.</p></div>"
   ]
  },
  {
   "cell_type": "markdown",
   "metadata": {},
   "source": [
    "<div class=\"mathbook-content\"><figure class=\"figure-like\" id=\"figure-22\"><div style=\"width:480px;\"><p id=\"p-510\">Drag the sliders to change the parameters $a$ and $b\\text{.}$  Controls in the lower-right will adjust the viewing window.</p></div><iframe id=\"interactive-archimedian-spiral\" width=\"480px;\" height=\"360px;\" src=\"interactive-archimedian-spiral-if.html\" /><figcaption><span class=\"type\">Figure</span><span class=\"codenumber\">14.5</span>The Archimedian Spiral $r = a + b\\theta\\text{,}$ $0\\leq\\theta\\leq 8\\pi$</figcaption></figure></div>"
   ]
  },
  {
   "cell_type": "markdown",
   "metadata": {},
   "source": [
    "<div class=\"mathbook-content\"><p id=\"p-511\">Here is a more elaborate example, from the <a class=\"url\" href=\"http://jsxgraph.uni-bayreuth.de/showcase/\" target=\"_blank\">JSXGraph Showcase</a>, titled <a class=\"url\" href=\"http://jsxgraph.uni-bayreuth.de/showcase/infinity.html\" target=\"_blank\">Infinity</a>.</p></div>"
   ]
  },
  {
   "cell_type": "markdown",
   "metadata": {},
   "source": [
    "<div class=\"mathbook-content\"><p id=\"p-512\">There are two active sliders to control the shape and shading of the graphic, and hovering the mouse near one of the edges will highlight the entirety of one of the 30 quadrangles.  Finally, each of the four red corners may be dragged to a new location.  Code is 47 lines.  Width is 60% and aspect ratio is the default, 1:1, i.e. a square.</p></div>"
   ]
  },
  {
   "cell_type": "markdown",
   "metadata": {},
   "source": [
    "<div class=\"mathbook-content\"><figure class=\"figure-like\" id=\"figure-23\"><div style=\"width:360px;\"><p id=\"p-513\">Drag the sliders to change the pattern, and drag any of the four red corners to change the overall shape.</p></div><iframe id=\"interactive-infinity\" width=\"360px;\" height=\"360px;\" src=\"interactive-infinity-if.html\" /><figcaption><span class=\"type\">Figure</span><span class=\"codenumber\">14.6</span>Infinity, from the JSXGraph Showcase</figcaption></figure></div>"
   ]
  },
  {
   "cell_type": "markdown",
   "metadata": {},
   "source": [
    "<div class=\"mathbook-content\"><p id=\"p-514\">Here are the two new examples.  They have been included in a <code class=\"code-inline tex2jax_ignore\">sidebyside</code> layout element with equal widths (see <a href=\"section-side-by-side.ipynb\" class=\"xref\" alt=\"Section 22 Side-By-Side Panels\" title=\"Section 22 Side-By-Side Panels\">Section 22</a>) so they can be placed horizontally across the page.  They are not wrapped as figures, so cannot be cross-referenced.  These are again from the <a class=\"url\" href=\"http://jsxgraph.uni-bayreuth.de/wiki/index.php/Category:Examples\" target=\"_blank\">example wiki</a>, the left being Fermat's Spiral and the right being a demonstration of B-splines.</p></div>"
   ]
  },
  {
   "cell_type": "markdown",
   "metadata": {},
   "source": [
    "<div class=\"mathbook-content\"><div class=\"sidebyside\" id=\"sidebyside-14\"><div class=\"sbsrow\" style=\"margin-left:5%;margin-right:5%;\"><div class=\"sbspanel\" style=\"width:44.4444444444444%;justify-content:flex-start;\"><div style=\"width:240px;\"><p id=\"p-515\">Drag the slider to change the curve.</p></div><iframe id=\"interactive-fermats-spiral\" width=\"240px;\" height=\"240px;\" src=\"interactive-fermats-spiral-if.html\" /></div><div class=\"sbspanel\" style=\"width:44.4444444444444%;justify-content:flex-start;\"><div style=\"width:240px;\"><p id=\"p-516\">Any of the 8 red control points may be moved anywhere.</p></div><iframe id=\"interactive-bspline\" width=\"240px;\" height=\"240px;\" src=\"interactive-bspline-if.html\" /></div></div></div></div>"
   ]
  },
  {
   "cell_type": "markdown",
   "metadata": {},
   "source": [
    "<div class=\"mathbook-content\"><p id=\"p-517\">Finally, a piecewise function you can control, with traces of the domain values and range values in two other JSXGraph boards.  Boards and <abbr class=\"initialism\">HTML</abbr> buttons have been laid out using the <code class=\"code-inline tex2jax_ignore\">sidebyside</code> layout element.</p></div>"
   ]
  },
  {
   "cell_type": "markdown",
   "metadata": {},
   "source": [
    "<div class=\"mathbook-content\"><figure class=\"figure-like\" id=\"figure-24\"><div style=\"width:600px;\"><p id=\"p-518\">The slider of the left panel will trace out the piecewise function.  Simultaneously, the domain will be traced in the middle panel, and the range in the right panel.</p></div><iframe id=\"interactive-piecewise\" width=\"600px;\" height=\"240px;\" src=\"interactive-piecewise-if.html\" /><figcaption><span class=\"type\">Figure</span><span class=\"codenumber\">14.7</span>Piecewise Function</figcaption></figure></div>"
   ]
  },
  {
   "cell_type": "markdown",
   "metadata": {},
   "source": [
    "<div class=\"mathbook-content\"><p id=\"p-519\">Generally, we load an interactive into an HTML <code class=\"code-inline tex2jax_ignore\">iframe</code> to sandbox (isolate) it from other interactives.  We does this for your own protection.  So, for example, one interactive cannot talk to another.  If two <code class=\"code-inline tex2jax_ignore\"><slate></code> need to communicate, then they are related, and should be placed into a single <code class=\"code-inline tex2jax_ignore\"><interactive></code>, allowed to layout themselves, or grouped within a <code class=\"code-inline tex2jax_ignore\"><sidebyside></code> allowing finer control.  Even if we have this under control, you might still enjoy reading <a class=\"url\" href=\"http://mikecavaliere.com/your-js-is-a-mess-javascript-namespacing/\" target=\"_blank\">Your JS is a Mess</a> at <code class=\"code-inline tex2jax_ignore\">mikecavaliere.com/your-js-is-a-mess-javascript-namespacing/</code>.</p></div>"
   ]
  },
  {
   "cell_type": "markdown",
   "metadata": {},
   "source": [
    "<div class=\"mathbook-content\"><h3 class=\"heading hide-type\" alt=\"Subsection 14.3 CalcPlot3D\"><span class=\"type\">Subsection</span><span class=\"codenumber\">14.3</span><span class=\"title\">CalcPlot3D</span></h3></div>"
   ]
  },
  {
   "cell_type": "markdown",
   "metadata": {},
   "source": [
    "<div class=\"mathbook-content\"><p id=\"p-520\">CalcPlot3D is a Javascript application for creating, visualizing, and understanding plots of 3D surfaces.  So it would be an ideal companion to a book on multivariate calculus, but should be useful in other courses of study.</p></div>"
   ]
  },
  {
   "cell_type": "markdown",
   "metadata": {},
   "source": [
    "<div class=\"mathbook-content\"><p id=\"p-521\">To use it, find find the <a class=\"url\" href=\"http://www.monroecc.edu/faculty/paulseeburger/calcnsf/CalcPlot3D/\" target=\"_blank\">online app version</a> at</p><pre class=\"code-block tex2jax_ignore\">http://www.monroecc.edu/faculty/paulseeburger/calcnsf/CalcPlot3D/</pre><p>Create a plot and adjust the image to a viewpoint and scale you like.  Then, click the menu icon in the upper-left and choose <code class=\"code-inline tex2jax_ignore\">File</code>.  From here you can save a <abbr class=\"initialism\">PNG</abbr> image for the static version, but you also want to select <code class=\"code-inline tex2jax_ignore\">Encode View in URL</code>.  Now your browser address bar is filled with a query string (<em class=\"emphasis\">all</em> the stuff <em class=\"emphasis\">after</em> the question-mark) that has all the information necessary to reproduce your plot (and view).  Copy everything after the first question-mark to the <code class=\"code-inline tex2jax_ignore\">interactive/code</code> element.  Be sure to replace any ampersands by <code class=\"code-inline tex2jax_ignore\">&amp;</code> (see the Author's Guide for more about certain characters in <abbr class=\"initialism\">URL</abbr>s).  Examine the source for the examples below to see how they are authored.</p></div>"
   ]
  },
  {
   "cell_type": "markdown",
   "metadata": {},
   "source": [
    "<div class=\"mathbook-content\"><figure class=\"figure-like\" id=\"figure-25\"><iframe src=\"https://www.monroecc.edu/faculty/paulseeburger/CalcPlot3D/dynamicFigure/?type=implicit;equation=2x-y+z~0;cubes=16;visible=true;xmin=-2;xmax=2;ymin=-2;ymax=2;zmin=-2;zmax=2;alpha=-1;format=constant;constcol=rgb(61,133,198)&type=parametric;parametric=2;x=-(u+v)/2;y=(u-v)/2;z=v;visible=true;umin=-3;umax=3;usteps=30;vmin=-2;vmax=2;vsteps=15;alpha=193;format=constant;constcol=rgb(255,161,114)&type=text;text=x%20%2B%20y%20%2B%20z%20~%200;visible=true;point=(.5,-2.5,2.1);color=rgb(0,0,0);font=Times%20New%20Roman;fontsize=14pt;bold=false;italic=false;fontmath=true;align=Upper-right&type=text;text=2x%20-%20y%20%2B%20z%20~%200;visible=true;point=(2,2.2,-1.25);color=rgb(0,0,0);font=Times%20New%20Roman;fontsize=14pt;bold=false;italic=false;fontmath=true;align=Upper-right&type=window;hsrmode=0;anaglyph=-1;center=7.006292692220367,5.09036960455127,4.999999999999999,1;focus=0,0,0,1;up=-0.3290568564833397,-0.23907380036690282,0.9135454576426009,1;transparent=true;alpha=140;edgeson=false;faceson=true;showbox=false;showaxes=true;showticks=true;perspective=true;centerxpercent=0.5;centerypercent=0.5;rotationsteps=30;autospin=true;xygrid=false;yzgrid=false;xzgrid=false;gridsonbox=true;gridplanes=false;gridcolor=rgb(128,128,128);xmin=-2;xmax=2;ymin=-2;ymax=2;zmin=-2;zmax=2;xscale=1;yscale=1;zscale=1;zcmin=-4;zcmax=4;zoom=0.655294;xscalefactor=1;yscalefactor=1;zscalefactor=1\" style=\"display:block;\" width=\"480px;\" height=\"480px;\" /><figcaption><span class=\"type\">Figure</span><span class=\"codenumber\">14.8</span>Intersection of two planes (minimal embedding)</figcaption></figure></div>"
   ]
  },
  {
   "cell_type": "markdown",
   "metadata": {},
   "source": [
    "<div class=\"mathbook-content\"><figure class=\"figure-like\" id=\"figure-26\"><iframe src=\"https://www.monroecc.edu/faculty/paulseeburger/CalcPlot3D/dynamicFigureWCP/?type=jaxlabel;position=middle;math=%255Cpsi_%257Bn_x%252Cn_y%257D(x%252Cy);textonly=false&type=z;z=sin(api*x)sin(bpi*y);visible=true;umin=0;umax=1;vmin=0;vmax=1;grid=50;format=normal;alpha=200;constcol=rgb(255,0,0);view=0;contourcolor=rgb(255,0,0);contourplot=true;showcontourplot=true;firstvalue=-1;stepsize=0.2;numlevels=11;xnum=75;ynum=75;show2d=false;hidesurface=false;hidelabels=false;showprojections=false;surfacecontours=true;projectioncolor=rgba(51,153,0,1);showxygrid=false;showxygridonbox=false&type=slider;slider=a;value=1;steps=2;pmin=1;pmax=3;repeat=true;bounce=true;waittime=40;careful=true;noanimate=true;name=n_x&type=slider;slider=b;value=1;steps=2;pmin=1;pmax=3;repeat=true;bounce=true;waittime=40;careful=true;noanimate=true;name=n_y&type=text;text=0;visible=true;point=(0,0,0);color=rgb(0,0,0);font=Times%20New%20Roman;fontsize=15pt;bold=true;italic=false;fontmath=true;align=Center-left&type=text;text=L;visible=true;point=(1,-0.025,0);color=rgb(0,0,0);font=Times%20New%20Roman;fontsize=14pt;bold=true;italic=false;fontmath=true;align=Center&type=text;text=L;visible=true;point=(-0.05,1,0);color=rgb(0,0,0);font=Times%20New%20Roman;fontsize=14pt;bold=true;italic=false;fontmath=true;align=Center&type=text;text=x;visible=true;point=(0.5,-0.07,0);color=rgb(0,0,0);font=Times%20New%20Roman;fontsize=14pt;bold=true;italic=false;fontmath=true;align=Center&type=text;text=y;visible=true;point=(-0.08,0.5,0);color=rgb(0,0,0);font=Times%20New%20Roman;fontsize=14pt;bold=true;italic=false;fontmath=true;align=Center&type=window;hsrmode=3;anaglyph=-1;center=-7.447051206708178,-2.790794355991455,3.71998429905919,1;focus=0.5,0.5,0.5,1;up=0.39804763218685024,0.14521777837291014,0.9057979241281567,1;transparent=true;alpha=140;twoviews=false;unlinkviews=false;axisextension=0;xaxislabel=%20;yaxislabel=%20;zaxislabel=%20;edgeson=false;faceson=true;showbox=false;showaxes=false;showticks=false;perspective=true;centerxpercent=0.5;centerypercent=0.4;rotationsteps=30;autospin=true;xygrid=false;yzgrid=false;xzgrid=false;gridsonbox=false;gridplanes=true;gridcolor=rgb(128,128,128);xmin=0;xmax=1;ymin=0;ymax=1;zmin=0;zmax=1;xscale=1;yscale=1;zscale=1;zcmin=-4;zcmax=4;zoom=3.543529;xscalefactor=1;yscalefactor=1;zscalefactor=0.5;hidexysliders=true;hidetracevalue=true\n",
    "                        \" style=\"display:block;\" width=\"570px;\" height=\"1140px;\" /><figcaption><span class=\"type\">Figure</span><span class=\"codenumber\">14.9</span>Probability wavefunction with contours (includes controls)</figcaption></figure></div>"
   ]
  },
  {
   "cell_type": "markdown",
   "metadata": {},
   "source": [
    "<div class=\"mathbook-content\"><figure class=\"figure-like\" id=\"figure-27\"><iframe src=\"https://www.monroecc.edu/faculty/paulseeburger/calcnsf/CalcPlot3D/?type=z;z=1/(y-x^2);visible=true;umin=-2;umax=2;vmin=-2;vmax=2;grid=30;format=normal;alpha=-1;constcol=rgb(255,0,0);contourcolor=red&type=window;hsrmode=3;anaglyph=-1;center=5.529712854135209,7.349875454071844,3.9244880634856956,1;focus=0,0,0,1;up=-0.26875302682986874,-0.2884991397174344,0.9189886054528014,1;transparent=true;alpha=140;edgeson=true;faceson=true;showbox=true;showaxes=true;showticks=true;perspective=true;centerxpercent=0.5;centerypercent=0.5;rotationsteps=30;autospin=true;xygrid=false;yzgrid=false;xzgrid=false;gridsonbox=true;gridplanes=false;gridcolor=rgb(128,128,128);xmin=-2;xmax=2;ymin=-2;ymax=2;zmin=-4;zmax=4;xscale=1;yscale=1;zscale=1;zcmin=-4;zcmax=4;zoom=0.468667;xscalefactor=1;yscalefactor=1;zscalefactor=1\" style=\"display:block;\" width=\"570px;\" height=\"741px;\" /><figcaption><span class=\"type\">Figure</span><span class=\"codenumber\">14.10</span>Plot of $f(x,y)=\\dfrac{1}{y-x^2}$ on $[-2,2]\\times[-2,2] (full application)$</figcaption></figure></div>"
   ]
  }
 ],
 "metadata": {
  "kernelspec": {
   "display_name": "Python 3",
   "language": "python",
   "name": "python3"
  },
  "language_info": {
   "codemirror_mode": {
    "name": "ipython",
    "version": 3
   },
   "file_extension": ".py",
   "mimetype": "text/x-python",
   "name": "python",
   "nbconvert_exporter": "python",
   "pygments_lexer": "ipython3",
   "version": "3.6.4"
  },
  "name": "section-interactive-open.ipynb"
 },
 "nbformat": 4,
 "nbformat_minor": 1
}
