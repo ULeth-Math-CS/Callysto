{
 "cells": [
  {
   "cell_type": "code",
   "execution_count": 1,
   "metadata": {},
   "outputs": [
    {
     "data": {
      "text/html": [
       "<link href=\"http://mathbook.pugetsound.edu/beta/mathbook-content.css\" rel=\"stylesheet\" type=\"text/css\" />\n",
       "<link href=\"https://aimath.org/mathbook/mathbook-add-on.css\" rel=\"stylesheet\" type=\"text/css\" />\n",
       "<style>.subtitle {font-size:medium; display:block}</style>\n",
       "<link href=\"https://fonts.googleapis.com/css?family=Open+Sans:400,400italic,600,600italic\" rel=\"stylesheet\" type=\"text/css\" />\n",
       "<link href=\"https://fonts.googleapis.com/css?family=Inconsolata:400,700&subset=latin,latin-ext\" rel=\"stylesheet\" type=\"text/css\" /><!-- Hide this cell. -->\n",
       "<script>\n",
       "var cell = $(\".container .cell\").eq(0), ia = cell.find(\".input_area\")\n",
       "if (cell.find(\".toggle-button\").length == 0) {\n",
       "ia.after(\n",
       "    $('<button class=\"toggle-button\">Toggle hidden code</button>').click(\n",
       "        function (){ ia.toggle() }\n",
       "        )\n",
       "    )\n",
       "ia.hide()\n",
       "}\n",
       "</script>"
      ],
      "text/plain": [
       "<IPython.core.display.HTML object>"
      ]
     },
     "metadata": {},
     "output_type": "display_data"
    }
   ],
   "source": [
    "%%html\n",
    "<link href=\"http://mathbook.pugetsound.edu/beta/mathbook-content.css\" rel=\"stylesheet\" type=\"text/css\" />\n",
    "<link href=\"https://aimath.org/mathbook/mathbook-add-on.css\" rel=\"stylesheet\" type=\"text/css\" />\n",
    "<style>.subtitle {font-size:medium; display:block}</style>\n",
    "<link href=\"https://fonts.googleapis.com/css?family=Open+Sans:400,400italic,600,600italic\" rel=\"stylesheet\" type=\"text/css\" />\n",
    "<link href=\"https://fonts.googleapis.com/css?family=Inconsolata:400,700&subset=latin,latin-ext\" rel=\"stylesheet\" type=\"text/css\" /><!-- Hide this cell. -->\n",
    "<script>\n",
    "var cell = $(\".container .cell\").eq(0), ia = cell.find(\".input_area\")\n",
    "if (cell.find(\".toggle-button\").length == 0) {\n",
    "ia.after(\n",
    "    $('<button class=\"toggle-button\">Toggle hidden code</button>').click(\n",
    "        function (){ ia.toggle() }\n",
    "        )\n",
    "    )\n",
    "ia.hide()\n",
    "}\n",
    "</script>\n"
   ]
  },
  {
   "cell_type": "markdown",
   "metadata": {},
   "source": [
    "**Important:** to view this notebook properly you will need to execute the cell above, which assumes you have an Internet connection.  It should already be selected, or place your cursor anywhere above to select.  Then press the \"Run\" button in the menu bar above (the right-pointing arrowhead), or press Shift-Enter on your keyboard."
   ]
  },
  {
   "cell_type": "markdown",
   "metadata": {},
   "source": [
    "$\\require{cancel}\\newcommand{\\definiteintegral}[4]{\\int_{#1}^{#2}\\,#3\\,d#4} \n",
    "\\newcommand{\\myequation}[2]{#1\\amp =#2} \n",
    "\\newcommand{\\indefiniteintegral}[2]{\\int#1\\,d#2}\n",
    "\\newcommand{\\testingescapedpercent}{ \\% } \n",
    "\\newcommand{\\lt}{<}\n",
    "\\newcommand{\\gt}{>}\n",
    "\\newcommand{\\amp}{&}\n",
    "$"
   ]
  },
  {
   "cell_type": "markdown",
   "metadata": {},
   "source": [
    "<div class=\"mathbook-content\"><h2 class=\"heading hide-type\" alt=\"Section 2 The Fundamental Theorem\"><span class=\"type\">Section</span><span class=\"codenumber\">2</span><span class=\"title\">The Fundamental Theorem</span></h2><a href=\"section-fundamental-theorem.ipynb\" class=\"permalink\">¶</a></div>"
   ]
  },
  {
   "cell_type": "markdown",
   "metadata": {},
   "source": [
    "<div class=\"mathbook-content\"><p id=\"p-4\">There is a remarkable theorem:<span class=\"footnote\"><a knowl=\"\" class=\"id-ref\" refid=\"hk-footnote-fermat\" id=\"footnote-fermat\"><sup> 1 </sup></a></span><span id=\"hk-footnote-fermat\" class=\"hidden-content tex2jax_ignore\"><span class=\"footnote\">And fortunately we do not need to try to write it in the margin!</span></span></p></div>"
   ]
  },
  {
   "cell_type": "markdown",
   "metadata": {},
   "source": [
    "<div class=\"mathbook-content\"><article class=\"theorem-like\" id=\"theorem-FTC\"><h6 class=\"heading\"><span class=\"type\">Theorem</span><span class=\"codenumber\">2.1</span><span class=\"title\">The Fundamental Theorem of Calculus</span></h6><p id=\"p-5\">If $f(x)$ is continuous, and the derivative of $F(x)$ is $f(x)\\text{,}$ then</p><div class=\"displaymath\">\n",
    "\\begin{equation*}\n",
    "\\definiteintegral{a}{b}{f(x)}{x}=F(b)-F(a)\n",
    "\\end{equation*}\n",
    "</div></article><article class=\"proof\" id=\"proof-1\"><h6 class=\"heading\"><span class=\"type\">Proof</span></h6><p id=\"p-6\">Left to the reader.</p></article></div>"
   ]
  },
  {
   "cell_type": "markdown",
   "metadata": {},
   "source": [
    "<div class=\"mathbook-content\"><p id=\"p-7\">You will find almost nothing about all this in the article <a href=\"references-5.ipynb#biblio-lay-article\" class=\"xref\" alt=\"Bibliographic Entry 2 Subspaces and Echelon Forms\" title=\"Bibliographic Entry 2 Subspaces and Echelon Forms\">[2]</a>, nor in the book <a href=\"references-5.ipynb#biblio-judson-AATA\" class=\"xref\" alt=\"Bibliographic Entry 1 Abstract Algebra: Theory and Applications\" title=\"Bibliographic Entry 1 Abstract Algebra: Theory and Applications\">[1]</a>, since they belong in some other article, but we can cite them out-of-order for practice anyway.</p></div>"
   ]
  },
  {
   "cell_type": "markdown",
   "metadata": {},
   "source": [
    "<div class=\"mathbook-content\"><p id=\"p-8\">When we are writing we do not always know what we want to cite, or just where subsequent material will end up.  For example, we might want a citation to  or we might want to reference a later .</p></div>"
   ]
  },
  {
   "cell_type": "markdown",
   "metadata": {},
   "source": [
    "<div class=\"mathbook-content\"><p id=\"p-9\">We can also embed “todo”s in the source, and selectively display them, so you may not see the one here in the output you are looking at now.  Or maybe you do see it?</p></div>"
   ]
  },
  {
   "cell_type": "markdown",
   "metadata": {},
   "source": [
    "<div class=\"mathbook-content\"></div>"
   ]
  },
  {
   "cell_type": "markdown",
   "metadata": {},
   "source": [
    "<div class=\"mathbook-content\"><p id=\"p-10\">Because a definite integral can be computed using an antiderivative, we have the following definition.</p></div>"
   ]
  },
  {
   "cell_type": "markdown",
   "metadata": {},
   "source": [
    "<div class=\"mathbook-content\"><article class=\"definition-like\" id=\"definition-indefinite-integral\"><h6 class=\"heading\"><span class=\"type\">Definition</span><span class=\"codenumber\">2.2</span></h6><p id=\"p-11\">Suppose that $\\frac{d}{dx}F(x)=f(x)\\text{.}$  Then the <dfn class=\"terminology\">indefinite integral</dfn> of $f(x)$ is $F(x)$ and is written as</p><div class=\"displaymath\">\n",
    "\\begin{equation*}\n",
    "\\int\\,f(x)\\,dx=F(x)\\text{.}\n",
    "\\end{equation*}\n",
    "</div></article></div>"
   ]
  }
 ],
 "metadata": {
  "kernelspec": {
   "display_name": "Python 3",
   "language": "python",
   "name": "python3"
  },
  "language_info": {
   "codemirror_mode": {
    "name": "ipython",
    "version": 3
   },
   "file_extension": ".py",
   "mimetype": "text/x-python",
   "name": "python",
   "nbconvert_exporter": "python",
   "pygments_lexer": "ipython3",
   "version": "3.6.4"
  },
  "name": "section-fundamental-theorem.ipynb"
 },
 "nbformat": 4,
 "nbformat_minor": 1
}
