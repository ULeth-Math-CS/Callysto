{
 "cells": [
  {
   "cell_type": "code",
   "execution_count": 1,
   "metadata": {},
   "outputs": [
    {
     "data": {
      "text/html": [
       "<script>\n",
       "    document.getElementById('toggleButton').onclick = function () {\n",
       "        if (code_shown) {\n",
       "            $('div.input').hide('500');\n",
       "            $('#toggleButton').val('Show Code')\n",
       "        } else {\n",
       "            $('div.input').show('500');\n",
       "            $('#toggleButton').val('Hide Code')\n",
       "        }\n",
       "        code_shown = !code_shown\n",
       "    }\n",
       "\n",
       "    document.getElementById('init').onclick = function () {\n",
       "        runAll = document.getElementById('run_all_cells_below').childNodes[1]\n",
       "        runAll.click();\n",
       "    }\n",
       "\n",
       "    $(document).ready(function () {\n",
       "        code_shown = true;\n",
       "        $('div.input').hide();\n",
       "    });\n",
       "</script>\n",
       "<input type=\"submit\" id=\"toggleButton\" value=\"Show Code\">\n",
       "<input id=\"init\" type=\"submit\" value=\"Initialize\">"
      ],
      "text/plain": [
       "<IPython.core.display.HTML object>"
      ]
     },
     "metadata": {},
     "output_type": "display_data"
    }
   ],
   "source": [
    "%%html\n",
    "<script>\n",
    "    document.getElementById('toggleButton').onclick = function () {\n",
    "        if (code_shown) {\n",
    "            $('div.input').hide('500');\n",
    "            $('#toggleButton').val('Show Code')\n",
    "        } else {\n",
    "            $('div.input').show('500');\n",
    "            $('#toggleButton').val('Hide Code')\n",
    "        }\n",
    "        code_shown = !code_shown\n",
    "    }\n",
    "\n",
    "    document.getElementById('init').onclick = function () {\n",
    "        runAll = document.getElementById('run_all_cells_below').childNodes[1]\n",
    "        runAll.click();\n",
    "    }\n",
    "\n",
    "    $(document).ready(function () {\n",
    "        code_shown = true;\n",
    "        $('div.input').hide();\n",
    "    });\n",
    "</script>\n",
    "<input type=\"submit\" id=\"toggleButton\" value=\"Show Code\">\n",
    "<input id=\"init\" type=\"submit\" value=\"Initialize\">"
   ]
  },
  {
   "cell_type": "code",
   "execution_count": 1,
   "metadata": {},
   "outputs": [
    {
     "data": {
      "text/html": [
       "<script src=\"https://d3js.org/d3.v3.min.js\"></script>"
      ],
      "text/plain": [
       "<IPython.core.display.HTML object>"
      ]
     },
     "metadata": {},
     "output_type": "display_data"
    }
   ],
   "source": [
    "%%html\n",
    "<script src=\"https://d3js.org/d3.v3.min.js\"></script>"
   ]
  },
  {
   "cell_type": "code",
   "execution_count": 2,
   "metadata": {
    "scrolled": true
   },
   "outputs": [
    {
     "data": {
      "text/html": [
       "    <style>\n",
       "        svg {\n",
       "            border: 1px black solid;\n",
       "            box-shadow: 6px 6px 8px 1px #aaaaaa;\n",
       "        }\n",
       "        button {\n",
       "            margin: 10px 0 10px 0;\n",
       "        }\n",
       "    </style>"
      ],
      "text/plain": [
       "<IPython.core.display.HTML object>"
      ]
     },
     "metadata": {},
     "output_type": "display_data"
    }
   ],
   "source": [
    "%%html\n",
    "    <style>\n",
    "        svg {\n",
    "            border: 1px black solid;\n",
    "            box-shadow: 6px 6px 8px 1px #aaaaaa;\n",
    "        }\n",
    "        button {\n",
    "            margin: 10px 0 10px 0;\n",
    "        }\n",
    "    </style>"
   ]
  },
  {
   "cell_type": "markdown",
   "metadata": {},
   "source": [
    "# How many clicks to fill each box?\n",
    "In this example we have a 3 pairs of boxes, one small and one large. In fact the large one is 4 times bigger then the small one. You can see this by the area displayed inside the boxes ($65,536\\times4 = 262,144$). Each box has buttons to interact with it. You will also notice that each box also has a (much) smaller cube in the top left corner, this small cube has an area of 64 ($width=8, height=8,  width\\times height=Area=64$). In this notebook we will experiment different ways to fill up the larger boxes with the small cube."
   ]
  },
  {
   "cell_type": "markdown",
   "metadata": {},
   "source": [
    "### Fill by adding more cubes\n",
    "Our first approach will be to simply add (many) more $8\\times8$ boxes until we completely fill up the larger boxes. To do this we can click on the \"Add Box\" button, this will add a new $8\\times8$. You will also see there is a counter to keep track of how many times you've added a new box. Before you start, can you calculate how many $8\\times8$ boxes will be required to fill up the $256\\times256$ box or the $512\\times512$? When you think you have the answer add boxes to see if you are correct!\n",
    "\n",
    "*Hint: you will probably want to finish it with the \"Auto-Complete\" button"
   ]
  },
  {
   "cell_type": "code",
   "execution_count": 3,
   "metadata": {},
   "outputs": [
    {
     "data": {
      "text/html": [
       "<div>\n",
       "    <div style=\"float:left; padding-right: 10px\">\n",
       "        <svg width=\"256\" height=\"256\" id=\"smAddCanvas\">\n",
       "            <rect id=\"smAddSquare\" width=\"8\" height=\"8\" fill=\"Purple\"></rect>\n",
       "            <text x=\"10\" y=\"30\" ont-family=\"Verdana\" font-size=\"25\">256 X 256</text>\n",
       "        </svg>\n",
       "        <div>\n",
       "            <button id=\"smAddBtn\">Add Box</button>\n",
       "            <button id=\"smAddResetBtn\">Reset</button>\n",
       "            <button id=\"smAutoComplete\">Auto-Complete</button>\n",
       "            <span><p>Number of clicks: <b id=\"smAddNumOfClicks\">0</b></p></span>\n",
       "        </div>\n",
       "    </div>\n",
       "</div>"
      ],
      "text/plain": [
       "<IPython.core.display.HTML object>"
      ]
     },
     "metadata": {},
     "output_type": "display_data"
    }
   ],
   "source": [
    "%%html\n",
    "<div>\n",
    "    <div style=\"float:left; padding-right: 10px\">\n",
    "        <svg width=\"256\" height=\"256\" id=\"smAddCanvas\">\n",
    "            <rect id=\"smAddSquare\" width=\"8\" height=\"8\" fill=\"Purple\"></rect>\n",
    "            <text x=\"10\" y=\"30\" ont-family=\"Verdana\" font-size=\"25\">256 X 256</text>\n",
    "        </svg>\n",
    "        <div>\n",
    "            <button id=\"smAddBtn\">Add Box</button>\n",
    "            <button id=\"smAddResetBtn\">Reset</button>\n",
    "            <button id=\"smAutoComplete\">Auto-Complete</button>\n",
    "            <span><p>Number of clicks: <b id=\"smAddNumOfClicks\">0</b></p></span>\n",
    "        </div>\n",
    "    </div>\n",
    "</div>"
   ]
  },
  {
   "cell_type": "markdown",
   "metadata": {},
   "source": [
    "Wow that’s a lot of new boxes! I sure hope you did not click the button $1024$ times!! Did you figure out how many clicks would be needed before testing it out? To figure out how many new boxes we needed we first need to know the area of the space we are trying to fill: $Area=Width \\times Height$, in our case $A=256\\times256=65,536$. In order to find out how many of our small box we need we should also find its area $A=8\\times8=64$. So we know that the area we are trying to cover is $65,536$ and out small box has an area of $64$. to find how many of our small boxes will be required we can use the following formula: $A_{1}\\div A_{2} = x$ where $A_{1}$ is the large area we are trying to cover, $A_{2}$ is the area of our small box and $x$ is the number of boxes required. So $x=65,536\\div64=1024$ boxes. Can you calculate how many is required for a $512\\times512$ box?"
   ]
  },
  {
   "cell_type": "markdown",
   "metadata": {},
   "source": [
    "### Fill by \"unfolding\" the box\n",
    "Ok so the last approach was note the most efficient, it took over 1000 new boxes to fill out the small area, I think we can do better. For the next experiment we will \"unfold\" the box over and over until we can fill out the area. Think of a piece of paper folded in half repeatedly then unfolding this paper. \n",
    "\n",
    "With this approach we will essentially double the $length$ on one click then double the $width$ with the next click and repeated this process until the box is filled. Can we safely assume that this approach will be faster then our first one? How many times do you think we will need to \"unfold\" our box to fill up the area? When you have a number in mind test it out and see!"
   ]
  },
  {
   "cell_type": "code",
   "execution_count": 4,
   "metadata": {},
   "outputs": [
    {
     "data": {
      "text/html": [
       "<div>\n",
       "    <div style=\"float:left; padding-right: 20px\">\n",
       "        <svg width=\"256\" height=\"256\" id=\"smCopyCanvas\">\n",
       "            <rect id=\"smCopySquare\" width=\"8\" height=\"8\" fill=\"Purple\"></rect>\n",
       "            <text x=\"10\" y=\"30\" ont-family=\"Verdana\" font-size=\"25\">256 X 256</text>\n",
       "        </svg>\n",
       "        <div>\n",
       "            <button id=\"smCopyBtn\">Unfold</button>\n",
       "            <button id=\"smCopyResetBtn\">Reset</button>\n",
       "            <span><p>Number of clicks: <b id=\"smCopyNumOfClicks\">0</b></p></span>\n",
       "        </div>\n",
       "    </div>\n",
       "</div>"
      ],
      "text/plain": [
       "<IPython.core.display.HTML object>"
      ]
     },
     "metadata": {},
     "output_type": "display_data"
    }
   ],
   "source": [
    "%%html\n",
    "<div>\n",
    "    <div style=\"float:left; padding-right: 20px\">\n",
    "        <svg width=\"256\" height=\"256\" id=\"smCopyCanvas\">\n",
    "            <rect id=\"smCopySquare\" width=\"8\" height=\"8\" fill=\"Purple\"></rect>\n",
    "            <text x=\"10\" y=\"30\" ont-family=\"Verdana\" font-size=\"25\">256 X 256</text>\n",
    "        </svg>\n",
    "        <div>\n",
    "            <button id=\"smCopyBtn\">Unfold</button>\n",
    "            <button id=\"smCopyResetBtn\">Reset</button>\n",
    "            <span><p>Number of clicks: <b id=\"smCopyNumOfClicks\">0</b></p></span>\n",
    "        </div>\n",
    "    </div>\n",
    "</div>"
   ]
  },
  {
   "cell_type": "markdown",
   "metadata": {},
   "source": [
    "### Fill by doubling the height and width\n",
    "So it turns out that by doubling the width and the height on each turn drastically improved out efficiency. We managed to fill up the area in 10 clicks over 1024. Can you think of a way to double our efficiency? \n",
    "\n",
    "For this example, instead of unfolding the box we will double both the $width$ and the $height$. Using what we have learned so far, calculate how many clicks you think will be needed. Each click we do the following: $(width \\times2)\\times(height\\times2)$."
   ]
  },
  {
   "cell_type": "code",
   "execution_count": 5,
   "metadata": {},
   "outputs": [
    {
     "data": {
      "text/html": [
       "<div>\n",
       "    <div style=\"float:left; padding-right: 20px\">\n",
       "        <svg width=\"256\" height=\"256\" id=\"smDoubleCanvas\">\n",
       "            <rect id=\"smDoubleSquare\" width=\"8\" height=\"8\" fill=\"Purple\"></rect>\n",
       "            <text x=\"10\" y=\"30\" ont-family=\"Verdana\" font-size=\"25\">256 X 256</text>\n",
       "        </svg>\n",
       "        <div>\n",
       "            <button id=\"smDoubleBtn\">Double</button>\n",
       "            <button id=\"smDoubleResetBtn\">Reset</button>\n",
       "            <span><p>Number of clicks: <b id=\"smDoubleNumOfClicks\">0</b></p></span>\n",
       "        </div>\n",
       "    </div>\n",
       "</div>"
      ],
      "text/plain": [
       "<IPython.core.display.HTML object>"
      ]
     },
     "metadata": {},
     "output_type": "display_data"
    }
   ],
   "source": [
    "%%html\n",
    "<div>\n",
    "    <div style=\"float:left; padding-right: 20px\">\n",
    "        <svg width=\"256\" height=\"256\" id=\"smDoubleCanvas\">\n",
    "            <rect id=\"smDoubleSquare\" width=\"8\" height=\"8\" fill=\"Purple\"></rect>\n",
    "            <text x=\"10\" y=\"30\" ont-family=\"Verdana\" font-size=\"25\">256 X 256</text>\n",
    "        </svg>\n",
    "        <div>\n",
    "            <button id=\"smDoubleBtn\">Double</button>\n",
    "            <button id=\"smDoubleResetBtn\">Reset</button>\n",
    "            <span><p>Number of clicks: <b id=\"smDoubleNumOfClicks\">0</b></p></span>\n",
    "        </div>\n",
    "    </div>\n",
    "</div>"
   ]
  },
  {
   "cell_type": "markdown",
   "metadata": {},
   "source": [
    "As we can see, we went from 10 clicks to 5 clicks simply by doubling both sides on each click. Now for the last question, if we doubled the size of the area ($512\\times512$), how many clicks will we need?"
   ]
  },
  {
   "cell_type": "code",
   "execution_count": 6,
   "metadata": {},
   "outputs": [
    {
     "data": {
      "text/html": [
       "<div>\n",
       "    <div style=\"float:left\">\n",
       "        <svg width=\"512\" height=\"512\" id=\"lgDoubleCanvas\">\n",
       "            <rect id=\"lgDoubleSquare\" width=\"8\" height=\"8\" fill=\"Green\"></rect>\n",
       "            <text x=\"10\" y=\"30\" ont-family=\"Verdana\" font-size=\"25\">512 X 512</text>\n",
       "        </svg>\n",
       "        <div>\n",
       "            <button id=\"lgDoubleBtn\">Double</button>\n",
       "            <button id=\"lgDoubleResetBtn\">Reset</button>\n",
       "            <span><p>Number of clicks: <b id=\"lgDoubleNumOfClicks\">0</b></p></span>\n",
       "        </div>\n",
       "    </div>\n",
       "</div>"
      ],
      "text/plain": [
       "<IPython.core.display.HTML object>"
      ]
     },
     "metadata": {},
     "output_type": "display_data"
    }
   ],
   "source": [
    "%%html\n",
    "<div>\n",
    "    <div style=\"float:left\">\n",
    "        <svg width=\"512\" height=\"512\" id=\"lgDoubleCanvas\">\n",
    "            <rect id=\"lgDoubleSquare\" width=\"8\" height=\"8\" fill=\"Green\"></rect>\n",
    "            <text x=\"10\" y=\"30\" ont-family=\"Verdana\" font-size=\"25\">512 X 512</text>\n",
    "        </svg>\n",
    "        <div>\n",
    "            <button id=\"lgDoubleBtn\">Double</button>\n",
    "            <button id=\"lgDoubleResetBtn\">Reset</button>\n",
    "            <span><p>Number of clicks: <b id=\"lgDoubleNumOfClicks\">0</b></p></span>\n",
    "        </div>\n",
    "    </div>\n",
    "</div>"
   ]
  },
  {
   "cell_type": "code",
   "execution_count": 7,
   "metadata": {},
   "outputs": [
    {
     "data": {
      "text/html": [
       "    <div>\n",
       "        <svg width=\"512\" height=\"512\" id=\"circCanvas\">\n",
       "            <circle r=\"8\" cx=\"256\" cy=\"256\" fill=\"#000000\" id=\"doubleCirc\"></circle>\n",
       "            <line id=\"radiusLine\" x1=\"256\" y1=\"256\" x2=\"264\" y2=\"256\" style=\"stroke:#000000;stroke-width:2\"></line>\n",
       "            <text id=\"radiusTxt\" x=\"210\" y=\"260\" font-family=\"Verdana\" font-size=\"12\">8</text>\n",
       "        </svg>\n",
       "        <div>\n",
       "            <button id=\"doubleCircBtn\">Double Radius</button>\n",
       "            <button id=\"doubleCircResetBtn\">Reset</button>\n",
       "            <span><p>Number of clicks: <b id=\"doubleCircNumOfClicks\">0</b></p></span>\n",
       "        </div>\n",
       "    </div>"
      ],
      "text/plain": [
       "<IPython.core.display.HTML object>"
      ]
     },
     "metadata": {},
     "output_type": "display_data"
    }
   ],
   "source": [
    "%%html\n",
    "    <div>\n",
    "        <svg width=\"512\" height=\"512\" id=\"circCanvas\">\n",
    "            <circle r=\"8\" cx=\"256\" cy=\"256\" fill=\"#000000\" id=\"doubleCirc\"></circle>\n",
    "            <line id=\"radiusLine\" x1=\"256\" y1=\"256\" x2=\"264\" y2=\"256\" style=\"stroke:#000000;stroke-width:2\"></line>\n",
    "            <text id=\"radiusTxt\" x=\"210\" y=\"260\" font-family=\"Verdana\" font-size=\"12\">8</text>\n",
    "        </svg>\n",
    "        <div>\n",
    "            <button id=\"doubleCircBtn\">Double Radius</button>\n",
    "            <button id=\"doubleCircResetBtn\">Reset</button>\n",
    "            <span><p>Number of clicks: <b id=\"doubleCircNumOfClicks\">0</b></p></span>\n",
    "        </div>\n",
    "    </div>"
   ]
  },
  {
   "cell_type": "code",
   "execution_count": 8,
   "metadata": {
    "scrolled": true
   },
   "outputs": [
    {
     "data": {
      "text/html": [
       "<script>\n",
       "     let xPos = 0;\n",
       "    let yPos = 0;\n",
       "    let isAutoComplete = false;\n",
       "    let R, G, B;\n",
       "\n",
       "    let copySquare = function (id, btnId) {\n",
       "        let x = d3.select('#' + id).attr('width');\n",
       "        let y = d3.select('#' + id).attr('height');\n",
       "        if(Number(x) > Number(y)) {\n",
       "            y = y * 2;\n",
       "        } else {\n",
       "            x = x * 2;\n",
       "        }\n",
       "        d3.select('#' + id).transition().delay(function (d, i) {\n",
       "            return i * 300;\n",
       "        }).duration(300)\n",
       "            .attr('height', y)\n",
       "            .attr('width', x)\n",
       "            .style('fill', getColour())\n",
       "            .each('end', function () {\n",
       "                d3.select('#' + btnId).property('disabled', false);\n",
       "            });\n",
       "    };\n",
       "\n",
       "    let doubleSquare = function (id, btnId) {\n",
       "        let x = d3.select('#' + id).attr('width');\n",
       "        let y = d3.select('#' + id).attr('height');\n",
       "        d3.select('#' + id).transition().delay(function (d, i) {\n",
       "            return i * 300;\n",
       "        }).duration(300).attr('height', y * 2)\n",
       "            .attr('width', x * 2)\n",
       "            .style('fill', getColour())\n",
       "            .each('end', function () {\n",
       "                d3.select('#' + btnId).property('disabled', false);\n",
       "            });\n",
       "    };\n",
       "\n",
       "    let addSquare = function (id, btnId) {\n",
       "        let node = d3.select('#' + id);\n",
       "        if(xPos >= node.attr('width') - 8) {\n",
       "            xPos = 0;\n",
       "            yPos += 8;\n",
       "        } else {\n",
       "            xPos += 8;\n",
       "        }\n",
       "        node.append('rect').transition().delay(function (d, i) {\n",
       "            return i * 300;\n",
       "        }).duration(1)\n",
       "            .attr('class', 'appended')\n",
       "            .attr('width', 8)\n",
       "            .attr('height', 8)\n",
       "            .attr('x', xPos)\n",
       "            .attr('y', yPos)\n",
       "            .style(\"fill\", getColour())\n",
       "            .each('end', function () {\n",
       "                if(yPos < node.attr('height') && isAutoComplete) {\n",
       "                    document.getElementById(btnId).click();\n",
       "                } else {\n",
       "                    isAutoComplete = false;\n",
       "                }\n",
       "            });\n",
       "    };\n",
       "\n",
       "    let doubleRadius = function (id, btnId) {\n",
       "        let r = d3.select('#' + id).attr('r');\n",
       "        d3.select('#' + id).transition().delay(function (d, i) {\n",
       "            return i * 300;\n",
       "        }).duration(300).attr('r', r * 2)\n",
       "            .style('fill', getColour())\n",
       "            .each('end', function () {\n",
       "                d3.select('#' + btnId).property('disabled', false);\n",
       "            });\n",
       "\n",
       "        d3.select('#radiusLine').transition().delay(function (d, i) {\n",
       "            return i * 300;\n",
       "        }).duration(300).attr('x2', 256 + (r * 2));\n",
       "\n",
       "        d3.select('#radiusTxt').transition().delay(function (d, i) {\n",
       "            return i * 300;\n",
       "        }).duration(300).text(r * 2);\n",
       "    };\n",
       "\n",
       "    let resetBtn = function(boxId, textId) {\n",
       "        d3.select('#' + boxId).transition().delay(function (d, i) {\n",
       "            return i * 300;\n",
       "        })\n",
       "            .duration(300).attr('height', 8).attr('width', 8).attr('r', 8).style('fill', getColour());\n",
       "        d3.select('#' + textId).text('0');\n",
       "        d3.select('#radiusTxt').text('8');\n",
       "        d3.select('#radiusLine').attr('x2', 256);\n",
       "    };\n",
       "\n",
       "    let updateClick = function (textId) {\n",
       "        let clicks = d3.select('#' + textId).text();\n",
       "        clicks = Number(clicks) + 1;\n",
       "        d3.select('#' + textId).text(clicks)\n",
       "    };\n",
       "\n",
       "    let getColour = function () {\n",
       "        R = Math.random() * 255;\n",
       "        G = Math.random() * 255;\n",
       "        B = Math.random() * 255;\n",
       "        return \"rgb(\" + R + \",\" + G + \",\" + B + \")\";\n",
       "    };\n",
       "\n",
       "    document.getElementById('smCopyBtn').onclick = function () {\n",
       "        d3.select('#smCopyBtn').property('disabled', true);\n",
       "        copySquare('smCopySquare', 'smCopyBtn');\n",
       "        updateClick('smCopyNumOfClicks');\n",
       "    };\n",
       "\n",
       "    document.getElementById('smCopyResetBtn').onclick = function () {\n",
       "        resetBtn('smCopySquare', 'smCopyNumOfClicks');\n",
       "    };\n",
       "\n",
       "    document.getElementById('smDoubleBtn').onclick = function () {\n",
       "        d3.select('#smDoubleBtn').property('disabled', true);\n",
       "        doubleSquare('smDoubleSquare', 'smDoubleBtn');\n",
       "        updateClick('smDoubleNumOfClicks');\n",
       "    };\n",
       "\n",
       "    document.getElementById('smDoubleResetBtn').onclick = function () {\n",
       "        resetBtn('smDoubleSquare', 'smDoubleNumOfClicks');\n",
       "    };\n",
       "    \n",
       "    document.getElementById('lgDoubleBtn').onclick = function () {\n",
       "        d3.select('#lgDoubleBtn').property('disabled', true);\n",
       "        doubleSquare('lgDoubleSquare', 'lgDoubleBtn');\n",
       "        updateClick('lgDoubleNumOfClicks');\n",
       "    };\n",
       "\n",
       "    document.getElementById('lgDoubleResetBtn').onclick = function () {\n",
       "        resetBtn('lgDoubleSquare', 'lgDoubleNumOfClicks');\n",
       "    };\n",
       "\n",
       "    document.getElementById('smAddBtn').onclick = function () {\n",
       "        addSquare('smAddCanvas', 'smAddBtn');\n",
       "        updateClick('smAddNumOfClicks')\n",
       "    };\n",
       "\n",
       "    document.getElementById('smAddResetBtn').onclick = function () {\n",
       "        if(isAutoComplete) {\n",
       "            isAutoComplete = false;\n",
       "            window.setTimeout(function () {\n",
       "               document.getElementById('smAddResetBtn').click();\n",
       "            },20);\n",
       "        }\n",
       "        isAutoComplete = false;\n",
       "        resetBtn('null', 'smAddNumOfClicks');\n",
       "        d3.selectAll('rect.appended').remove();\n",
       "        xPos = 0;\n",
       "        yPos = 0;\n",
       "    };\n",
       "\n",
       "    document.getElementById('smAutoComplete').onclick = function () {\n",
       "        document.getElementById('smAddBtn').click();\n",
       "        isAutoComplete = true;\n",
       "    };\n",
       "    \n",
       "    document.getElementById('doubleCircBtn').onclick = function () {\n",
       "        d3.select('#doubleCircBtn').property('disabled', true);\n",
       "        doubleRadius('doubleCirc', 'doubleCircBtn');\n",
       "        updateClick('doubleCircNumOfClicks');\n",
       "    };\n",
       "\n",
       "    document.getElementById('doubleCircResetBtn').onclick = function () {\n",
       "        resetBtn('doubleCirc', 'doubleCircNumOfClicks');\n",
       "    };\n",
       "</script>"
      ],
      "text/plain": [
       "<IPython.core.display.HTML object>"
      ]
     },
     "metadata": {},
     "output_type": "display_data"
    }
   ],
   "source": [
    "%%html\n",
    "<script>\n",
    "     let xPos = 0;\n",
    "    let yPos = 0;\n",
    "    let isAutoComplete = false;\n",
    "    let R, G, B;\n",
    "\n",
    "    let copySquare = function (id, btnId) {\n",
    "        let x = d3.select('#' + id).attr('width');\n",
    "        let y = d3.select('#' + id).attr('height');\n",
    "        if(Number(x) > Number(y)) {\n",
    "            y = y * 2;\n",
    "        } else {\n",
    "            x = x * 2;\n",
    "        }\n",
    "        d3.select('#' + id).transition().delay(function (d, i) {\n",
    "            return i * 300;\n",
    "        }).duration(300)\n",
    "            .attr('height', y)\n",
    "            .attr('width', x)\n",
    "            .style('fill', getColour())\n",
    "            .each('end', function () {\n",
    "                d3.select('#' + btnId).property('disabled', false);\n",
    "            });\n",
    "    };\n",
    "\n",
    "    let doubleSquare = function (id, btnId) {\n",
    "        let x = d3.select('#' + id).attr('width');\n",
    "        let y = d3.select('#' + id).attr('height');\n",
    "        d3.select('#' + id).transition().delay(function (d, i) {\n",
    "            return i * 300;\n",
    "        }).duration(300).attr('height', y * 2)\n",
    "            .attr('width', x * 2)\n",
    "            .style('fill', getColour())\n",
    "            .each('end', function () {\n",
    "                d3.select('#' + btnId).property('disabled', false);\n",
    "            });\n",
    "    };\n",
    "\n",
    "    let addSquare = function (id, btnId) {\n",
    "        let node = d3.select('#' + id);\n",
    "        if(xPos >= node.attr('width') - 8) {\n",
    "            xPos = 0;\n",
    "            yPos += 8;\n",
    "        } else {\n",
    "            xPos += 8;\n",
    "        }\n",
    "        node.append('rect').transition().delay(function (d, i) {\n",
    "            return i * 300;\n",
    "        }).duration(1)\n",
    "            .attr('class', 'appended')\n",
    "            .attr('width', 8)\n",
    "            .attr('height', 8)\n",
    "            .attr('x', xPos)\n",
    "            .attr('y', yPos)\n",
    "            .style(\"fill\", getColour())\n",
    "            .each('end', function () {\n",
    "                if(yPos < node.attr('height') && isAutoComplete) {\n",
    "                    document.getElementById(btnId).click();\n",
    "                } else {\n",
    "                    isAutoComplete = false;\n",
    "                }\n",
    "            });\n",
    "    };\n",
    "\n",
    "    let doubleRadius = function (id, btnId) {\n",
    "        let r = d3.select('#' + id).attr('r');\n",
    "        d3.select('#' + id).transition().delay(function (d, i) {\n",
    "            return i * 300;\n",
    "        }).duration(300).attr('r', r * 2)\n",
    "            .style('fill', getColour())\n",
    "            .each('end', function () {\n",
    "                d3.select('#' + btnId).property('disabled', false);\n",
    "            });\n",
    "\n",
    "        d3.select('#radiusLine').transition().delay(function (d, i) {\n",
    "            return i * 300;\n",
    "        }).duration(300).attr('x2', 256 + (r * 2));\n",
    "\n",
    "        d3.select('#radiusTxt').transition().delay(function (d, i) {\n",
    "            return i * 300;\n",
    "        }).duration(300).text(r * 2);\n",
    "    };\n",
    "\n",
    "    let resetBtn = function(boxId, textId) {\n",
    "        d3.select('#' + boxId).transition().delay(function (d, i) {\n",
    "            return i * 300;\n",
    "        })\n",
    "            .duration(300).attr('height', 8).attr('width', 8).attr('r', 8).style('fill', getColour());\n",
    "        d3.select('#' + textId).text('0');\n",
    "        d3.select('#radiusTxt').text('8');\n",
    "        d3.select('#radiusLine').attr('x2', 256);\n",
    "    };\n",
    "\n",
    "    let updateClick = function (textId) {\n",
    "        let clicks = d3.select('#' + textId).text();\n",
    "        clicks = Number(clicks) + 1;\n",
    "        d3.select('#' + textId).text(clicks)\n",
    "    };\n",
    "\n",
    "    let getColour = function () {\n",
    "        R = Math.random() * 255;\n",
    "        G = Math.random() * 255;\n",
    "        B = Math.random() * 255;\n",
    "        return \"rgb(\" + R + \",\" + G + \",\" + B + \")\";\n",
    "    };\n",
    "\n",
    "    document.getElementById('smCopyBtn').onclick = function () {\n",
    "        d3.select('#smCopyBtn').property('disabled', true);\n",
    "        copySquare('smCopySquare', 'smCopyBtn');\n",
    "        updateClick('smCopyNumOfClicks');\n",
    "    };\n",
    "\n",
    "    document.getElementById('smCopyResetBtn').onclick = function () {\n",
    "        resetBtn('smCopySquare', 'smCopyNumOfClicks');\n",
    "    };\n",
    "\n",
    "    document.getElementById('smDoubleBtn').onclick = function () {\n",
    "        d3.select('#smDoubleBtn').property('disabled', true);\n",
    "        doubleSquare('smDoubleSquare', 'smDoubleBtn');\n",
    "        updateClick('smDoubleNumOfClicks');\n",
    "    };\n",
    "\n",
    "    document.getElementById('smDoubleResetBtn').onclick = function () {\n",
    "        resetBtn('smDoubleSquare', 'smDoubleNumOfClicks');\n",
    "    };\n",
    "    \n",
    "    document.getElementById('lgDoubleBtn').onclick = function () {\n",
    "        d3.select('#lgDoubleBtn').property('disabled', true);\n",
    "        doubleSquare('lgDoubleSquare', 'lgDoubleBtn');\n",
    "        updateClick('lgDoubleNumOfClicks');\n",
    "    };\n",
    "\n",
    "    document.getElementById('lgDoubleResetBtn').onclick = function () {\n",
    "        resetBtn('lgDoubleSquare', 'lgDoubleNumOfClicks');\n",
    "    };\n",
    "\n",
    "    document.getElementById('smAddBtn').onclick = function () {\n",
    "        addSquare('smAddCanvas', 'smAddBtn');\n",
    "        updateClick('smAddNumOfClicks')\n",
    "    };\n",
    "\n",
    "    document.getElementById('smAddResetBtn').onclick = function () {\n",
    "        if(isAutoComplete) {\n",
    "            isAutoComplete = false;\n",
    "            window.setTimeout(function () {\n",
    "               document.getElementById('smAddResetBtn').click();\n",
    "            },20);\n",
    "        }\n",
    "        isAutoComplete = false;\n",
    "        resetBtn('null', 'smAddNumOfClicks');\n",
    "        d3.selectAll('rect.appended').remove();\n",
    "        xPos = 0;\n",
    "        yPos = 0;\n",
    "    };\n",
    "\n",
    "    document.getElementById('smAutoComplete').onclick = function () {\n",
    "        document.getElementById('smAddBtn').click();\n",
    "        isAutoComplete = true;\n",
    "    };\n",
    "    \n",
    "    document.getElementById('doubleCircBtn').onclick = function () {\n",
    "        d3.select('#doubleCircBtn').property('disabled', true);\n",
    "        doubleRadius('doubleCirc', 'doubleCircBtn');\n",
    "        updateClick('doubleCircNumOfClicks');\n",
    "    };\n",
    "\n",
    "    document.getElementById('doubleCircResetBtn').onclick = function () {\n",
    "        resetBtn('doubleCirc', 'doubleCircNumOfClicks');\n",
    "    };\n",
    "</script>"
   ]
  },
  {
   "cell_type": "code",
   "execution_count": null,
   "metadata": {},
   "outputs": [],
   "source": []
  }
 ],
 "metadata": {
  "kernelspec": {
   "display_name": "Python 3",
   "language": "python",
   "name": "python3"
  },
  "language_info": {
   "codemirror_mode": {
    "name": "ipython",
    "version": 3
   },
   "file_extension": ".py",
   "mimetype": "text/x-python",
   "name": "python",
   "nbconvert_exporter": "python",
   "pygments_lexer": "ipython3",
   "version": "3.6.5"
  }
 },
 "nbformat": 4,
 "nbformat_minor": 2
}
