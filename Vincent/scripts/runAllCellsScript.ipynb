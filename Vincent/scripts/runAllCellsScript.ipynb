{
 "cells": [
  {
   "cell_type": "code",
   "execution_count": 1,
   "metadata": {},
   "outputs": [
    {
     "data": {
      "text/html": [
       "<script>\n",
       "    document.getElementById('toggleButton').onclick = function () {\n",
       "        if (code_shown) {\n",
       "            $('div.input').hide('500');\n",
       "            $('#toggleButton').val('Show Code')\n",
       "        } else {\n",
       "            $('div.input').show('500');\n",
       "            $('#toggleButton').val('Hide Code')\n",
       "        }\n",
       "        code_shown = !code_shown\n",
       "    }\n",
       "\n",
       "    document.getElementById('init').onclick = function () {\n",
       "        runAll = document.getElementById('run_all_cells_below').childNodes[1]\n",
       "        runAll.click()\n",
       "    }\n",
       "\n",
       "    $(document).ready(function () {\n",
       "        code_shown = false;\n",
       "        $('div.input').hide()\n",
       "    });\n",
       "</script>\n",
       "<input type=\"submit\" id=\"toggleButton\" value=\"Show Code\">\n",
       "<input id=\"init\" type=\"submit\" value=\"Initialize\">"
      ],
      "text/plain": [
       "<IPython.core.display.HTML object>"
      ]
     },
     "metadata": {},
     "output_type": "display_data"
    }
   ],
   "source": [
    "%%html\n",
    "<script>\n",
    "    document.getElementById('toggleButton').onclick = function () {\n",
    "        if (code_shown) {\n",
    "            $('div.input').hide('500');\n",
    "            $('#toggleButton').val('Show Code')\n",
    "        } else {\n",
    "            $('div.input').show('500');\n",
    "            $('#toggleButton').val('Hide Code')\n",
    "        }\n",
    "        code_shown = !code_shown\n",
    "    }\n",
    "\n",
    "    document.getElementById('init').onclick = function () {\n",
    "        runAll = document.getElementById('run_all_cells_below').childNodes[1]\n",
    "        runAll.click()\n",
    "    }\n",
    "\n",
    "    $(document).ready(function () {\n",
    "        code_shown = false;\n",
    "        $('div.input').hide()\n",
    "    });\n",
    "</script>\n",
    "<input type=\"submit\" id=\"toggleButton\" value=\"Show Code\">\n",
    "<input id=\"init\" type=\"submit\" value=\"Initialize\">"
   ]
  },
  {
   "cell_type": "code",
   "execution_count": null,
   "metadata": {},
   "outputs": [],
   "source": [
    "print('This cell runs right away')"
   ]
  },
  {
   "cell_type": "code",
   "execution_count": null,
   "metadata": {},
   "outputs": [],
   "source": [
    "print('This cell is waiting for an input, cells below will wait for this input to be entered before running')\n",
    "i = input('Enter your name: ')"
   ]
  },
  {
   "cell_type": "code",
   "execution_count": null,
   "metadata": {},
   "outputs": [],
   "source": [
    "print('Hello '+i)"
   ]
  },
  {
   "cell_type": "code",
   "execution_count": null,
   "metadata": {},
   "outputs": [],
   "source": [
    "print('and now this cell runs since the input cell is complete')"
   ]
  }
 ],
 "metadata": {
  "kernelspec": {
   "display_name": "Python 3",
   "language": "python",
   "name": "python3"
  },
  "language_info": {
   "codemirror_mode": {
    "name": "ipython",
    "version": 3
   },
   "file_extension": ".py",
   "mimetype": "text/x-python",
   "name": "python",
   "nbconvert_exporter": "python",
   "pygments_lexer": "ipython3",
   "version": "3.6.5"
  }
 },
 "nbformat": 4,
 "nbformat_minor": 2
}
