{
 "cells": [
  {
   "cell_type": "code",
   "execution_count": null,
   "metadata": {},
   "outputs": [],
   "source": [
    "%%html\n",
    "<script>\n",
    "  function code_toggle() {\n",
    "    if (code_shown){\n",
    "      $('div.input').hide('500');\n",
    "      $('#toggleButton').val('Show Code')\n",
    "    } else {\n",
    "      $('div.input').show('500');\n",
    "      $('#toggleButton').val('Hide Code')\n",
    "    }\n",
    "    code_shown = !code_shown\n",
    "  }\n",
    "\n",
    "  $( document ).ready(function(){\n",
    "    code_shown=false;\n",
    "    answer_shown = false;\n",
    "    myId = document.getElementById('Answer').parentElement.style.display = \"none\"\n",
    "    $('div.input').hide()  \n",
    "  });\n",
    "</script>\n",
    "<form action=\"javascript:code_toggle()\"><input type=\"submit\" id=\"toggleButton\" value=\"Show Code\"></form>"
   ]
  },
  {
   "cell_type": "markdown",
   "metadata": {},
   "source": [
    "# Toggle Solution Example"
   ]
  },
  {
   "cell_type": "markdown",
   "metadata": {},
   "source": [
    "Solve for $x$ \n",
    "\n",
    "$2 + 2 = x$"
   ]
  },
  {
   "cell_type": "code",
   "execution_count": 2,
   "metadata": {},
   "outputs": [
    {
     "data": {
      "text/html": [
       "<script>\n",
       "var answerCell = $(\".container .cell\").eq(4);\n",
       "    function answer_toggle() {\n",
       "        if(answer_shown) {\n",
       "            answerCell.hide();\n",
       "        } else {\n",
       "            answerCell.show();\n",
       "        }\n",
       "        answer_shown = !answer_shown;\n",
       "    }\n",
       "    myId = document.getElementById('Answer').parentElement\n",
       "    myId.style.display = \"block\"\n",
       "    console.log(document.getElementById('Answer').parentElement)\n",
       "    console.log(answerCell)\n",
       "</script>\n",
       "<form action=\"javascript:answer_toggle()\"><input type=\"submit\" id=\"answerToggle\" value=\"Answer\"></form>"
      ],
      "text/plain": [
       "<IPython.core.display.HTML object>"
      ]
     },
     "metadata": {},
     "output_type": "display_data"
    }
   ],
   "source": [
    "%%html\n",
    "<script>\n",
    "var answerCell = $(\".container .cell\").eq(4);\n",
    "    function answer_toggle() {\n",
    "        if(answer_shown) {\n",
    "            answerCell.hide();\n",
    "        } else {\n",
    "            answerCell.show();\n",
    "        }\n",
    "        answer_shown = !answer_shown;\n",
    "    }\n",
    "    myId = document.getElementById('Answer').parentElement\n",
    "    myId.style.display = \"block\"\n",
    "    console.log(document.getElementById('Answer').parentElement)\n",
    "    console.log(answerCell)\n",
    "</script>\n",
    "<form action=\"javascript:answer_toggle()\"><input type=\"submit\" id=\"answerToggle\" value=\"Answer\"></form>"
   ]
  },
  {
   "cell_type": "markdown",
   "metadata": {},
   "source": [
    "#### Answer\n",
    "since $2+2=4$, $x=4$"
   ]
  },
  {
   "cell_type": "code",
   "execution_count": 1,
   "metadata": {},
   "outputs": [
    {
     "data": {
      "text/html": [
       "<script>\n",
       "    myId = document.getElementById('Answer').parentElement\n",
       "    function answer_toggle() {\n",
       "        if(myId.style.display === \"none\") {\n",
       "            myId.style.display = \"block\"\n",
       "        } else {\n",
       "            myId.style.display = \"none\";\n",
       "        }\n",
       "    }\n",
       "   \n",
       "</script>\n",
       "<form action=\"javascript:answer_toggle()\"><input type=\"submit\" id=\"answerToggle\" value=\"Answer\"></form>"
      ],
      "text/plain": [
       "<IPython.core.display.HTML object>"
      ]
     },
     "metadata": {},
     "output_type": "display_data"
    }
   ],
   "source": [
    "%%html\n",
    "<script>\n",
    "    myId = document.getElementById('Answer').parentElement\n",
    "    function answer_toggle() {\n",
    "        if(myId.style.display === \"none\") {\n",
    "            myId.style.display = \"block\"\n",
    "        } else {\n",
    "            myId.style.display = \"none\";\n",
    "        }\n",
    "    }\n",
    "   \n",
    "</script>\n",
    "<form action=\"javascript:answer_toggle()\"><input type=\"submit\" id=\"answerToggle\" value=\"Answer\"></form>"
   ]
  },
  {
   "cell_type": "code",
   "execution_count": null,
   "metadata": {},
   "outputs": [],
   "source": []
  },
  {
   "cell_type": "code",
   "execution_count": null,
   "metadata": {},
   "outputs": [],
   "source": []
  }
 ],
 "metadata": {
  "kernelspec": {
   "display_name": "Python 3",
   "language": "python",
   "name": "python3"
  },
  "language_info": {
   "codemirror_mode": {
    "name": "ipython",
    "version": 3
   },
   "file_extension": ".py",
   "mimetype": "text/x-python",
   "name": "python",
   "nbconvert_exporter": "python",
   "pygments_lexer": "ipython3",
   "version": "3.6.4"
  }
 },
 "nbformat": 4,
 "nbformat_minor": 2
}
