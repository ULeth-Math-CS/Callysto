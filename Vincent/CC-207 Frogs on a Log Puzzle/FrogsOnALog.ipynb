{
 "cells": [
  {
   "cell_type": "markdown",
   "metadata": {},
   "source": [
    "[![logo](https://callysto.ca/wp-content/uploads/2018/06/Callysto_Notebook-Banner_Top_06.06.18.jpg)](https://callysto.ca)"
   ]
  },
  {
   "cell_type": "code",
   "execution_count": null,
   "metadata": {},
   "outputs": [],
   "source": [
    "import myMagics\n",
    "%uiButtons"
   ]
  },
  {
   "cell_type": "code",
   "execution_count": null,
   "metadata": {
    "scrolled": false
   },
   "outputs": [],
   "source": [
    "%%html\n",
    "<link rel=\"stylesheet\" href=\"style.css\">\n",
    "    <div class=\"mainGrid\">\n",
    "        <ul id=\"frogList\" class=\"frogGrid\">\n",
    "            <li class=\"frog\" id=\"pos0\"><img class=\"clickable\" src=\"imgs/frogRed.png\" alt=\"red frog\"></li>\n",
    "            <li class=\"frog\" id=\"pos1\"><img class=\"clickable\" src=\"imgs/frogRed.png\" alt=\"red frog\"></li>\n",
    "            <li class=\"frog\" id=\"pos2\"><img class=\"clickable\" src=\"imgs/frogRed.png\" alt=\"red frog\"></li>\n",
    "            <li class=\"frog\" id=\"pos3\"><img src=\"imgs/blankSpace.png\" alt=\"\"></li>\n",
    "            <li class=\"frog\" id=\"pos4\"><img class=\"clickable\" src=\"imgs/frogGreen.png\" alt=\"green frog\"></li>\n",
    "            <li class=\"frog\" id=\"pos5\"><img class=\"clickable\" src=\"imgs/frogGreen.png\" alt=\"green frog\"></li>\n",
    "            <li class=\"frog\" id=\"pos6\"><img class=\"clickable\" src=\"imgs/frogGreen.png\" alt=\"green frog\"></li>\n",
    "            <li class=\"btns\" onclick=\"resetFrogs()\"><span>Reset</span></li>\n",
    "            <li class=\"btns\" onclick=\"undo()\"><span>Undo</span></li>\n",
    "            <li class=\"moveCounter\">Your moves: <span id=\"counter\">0</span></li>\n",
    "        </ul>\n",
    "    </div>\n",
    "\n",
    "    <script src=\"https://code.jquery.com/jquery-3.3.1.slim.min.js\" integrity=\"sha256-3edrmyuQ0w65f8gfBsqowzjJe2iM6n0nKciPUp8y+7E=\"\n",
    "        crossorigin=\"anonymous\"></script>\n",
    "    <script src=\"main.js\"></script>"
   ]
  },
  {
   "cell_type": "markdown",
   "metadata": {},
   "source": [
    "[![logo](https://callysto.ca/wp-content/uploads/2018/07/Callysto-Notebook-Banner_Bottom_07.30.18.jpg)](https://callysto.ca/)"
   ]
  }
 ],
 "metadata": {
  "kernelspec": {
   "display_name": "Python 3",
   "language": "python",
   "name": "python3"
  },
  "language_info": {
   "codemirror_mode": {
    "name": "ipython",
    "version": 3
   },
   "file_extension": ".py",
   "mimetype": "text/x-python",
   "name": "python",
   "nbconvert_exporter": "python",
   "pygments_lexer": "ipython3",
   "version": "3.6.7"
  }
 },
 "nbformat": 4,
 "nbformat_minor": 2
}
