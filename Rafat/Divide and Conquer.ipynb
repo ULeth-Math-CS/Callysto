{
 "cells": [
  {
   "cell_type": "markdown",
   "metadata": {},
   "source": [
    "![alt text][top-banner]\n",
    "\n",
    "[top-banner]: ./callysto-top-banner.jpg"
   ]
  },
  {
   "cell_type": "code",
   "execution_count": 1,
   "metadata": {},
   "outputs": [
    {
     "data": {
      "text/html": [
       "<script>\n",
       "code_show=true; \n",
       "function code_toggle() {\n",
       "  if (code_show) {\n",
       "    $('div.input').each(function(id) {\n",
       "      el = $(this).find('.cm-variable:first');\n",
       "      if (id == 0 || el.text() == 'hide_me') {\n",
       "        $(this).hide();\n",
       "      }\n",
       "    });\n",
       "    $('div.output_prompt').css('opacity', 0);\n",
       "  } else {\n",
       "    $('div.input').each(function(id) {\n",
       "      $(this).show();\n",
       "    });\n",
       "    $('div.output_prompt').css('opacity', 1);\n",
       "  }\n",
       "  code_show = !code_show\n",
       "} \n",
       "$( document ).ready(code_toggle);\n",
       "</script>\n",
       "<form action=\"javascript:code_toggle()\"><input style=\"opacity:1\" type=\"submit\" value=\"Click here to toggle on/off the raw code.\"></form>"
      ],
      "text/plain": [
       "<IPython.core.display.HTML object>"
      ]
     },
     "execution_count": 1,
     "metadata": {},
     "output_type": "execute_result"
    }
   ],
   "source": [
    "from IPython.display import HTML\n",
    "hide_me = ''\n",
    "HTML('''<script>\n",
    "code_show=true; \n",
    "function code_toggle() {\n",
    "  if (code_show) {\n",
    "    $('div.input').each(function(id) {\n",
    "      el = $(this).find('.cm-variable:first');\n",
    "      if (id == 0 || el.text() == 'hide_me') {\n",
    "        $(this).hide();\n",
    "      }\n",
    "    });\n",
    "    $('div.output_prompt').css('opacity', 0);\n",
    "  } else {\n",
    "    $('div.input').each(function(id) {\n",
    "      $(this).show();\n",
    "    });\n",
    "    $('div.output_prompt').css('opacity', 1);\n",
    "  }\n",
    "  code_show = !code_show\n",
    "} \n",
    "$( document ).ready(code_toggle);\n",
    "</script>\n",
    "<form action=\"javascript:code_toggle()\"><input style=\"opacity:1\" type=\"submit\" value=\"Click here to toggle on/off the raw code.\"></form>''')"
   ]
  },
  {
   "cell_type": "markdown",
   "metadata": {},
   "source": [
    "## Introduction\n",
    "\n",
    "Divide and conquer is a highly versatile technique that generally lends itself very well to parallel algorithms design. You probably have seen the divide-and-conquer technique many times before this, but this is such an important technique that it is worth seeing it over and over again. It is particularly suited for “thinking parallel” because it offers a natural way of creating parallel tasks. In this notebook Students will learn to deal with sub problem and lead to an optimum solution."
   ]
  },
  {
   "cell_type": "markdown",
   "metadata": {},
   "source": [
    "## Knowledge Areas\n",
    "\n",
    "* the engineering design process,\n",
    "* scientific consensus,\n",
    "* the scientific method,\n",
    "* systems thinking,\n",
    "* user-centered design\n",
    "\n",
    "\n",
    "## Big Ideas\n",
    "* This technique yields elegant, simple and quite often very efficient algorithms.\n",
    "* It is used in several renowned algorithms.\n",
    "* Divide a bigger problem into smaller problems, solve them individually and merge the solutions.\n",
    "\n",
    "## Specific Expectations:\n",
    "Learn the idea that sometimes smaller solutions can lead into a solution of a bigger problems."
   ]
  },
  {
   "cell_type": "markdown",
   "metadata": {},
   "source": [
    "## Theory & Background Information\n",
    "\n",
    "### Algorithm: \n",
    "\n",
    "Step by step solution of a problem with a definite goal.\n",
    "\n",
    "### Divide and conquer Definition: \n",
    "\n",
    "An algorithmic technique. To solve a problem on an instance of size n, a solution is found either directly because solving that instance is easy (typically, because the instance is small) or the instance is separated into two or more smaller instances. Each of these smaller instances is solved and the solutions are combined to produce a solution for the original instance. The name divide and conquer is because the problem is conquered by dividing it into several smaller problems.\n",
    "\n",
    "### Sub-Problem: \n",
    "\n",
    "a problem that is contingent on or forms a part of another more inclusive problem.\n",
    "### Recursion: \n",
    "\n",
    "Recursion is the process of defining a problem (or the solution to a problem) in terms of (a simpler version of) itself.\n",
    "For example, we can define the operation \"find your way home\" as:\n",
    "\n",
    "1. If you are at home, stop moving.\n",
    "\n",
    "2. Take one step toward home.\n",
    "\n",
    "3. \"Find your way home\".\n",
    "\n",
    "Here the solution to finding your way home is two steps (three steps). First, we don't go home if we are already home. Secondly, we do a very simple action that makes our situation simpler to solve. Finally, we redo the entire algorithm."
   ]
  },
  {
   "cell_type": "markdown",
   "metadata": {},
   "source": [
    "## Essence of Divide and Conquer\n",
    "\n",
    "1. Divide problem into several smaller subproblems.\n",
    " * Normally, the subproblems are similar to the original\n",
    " \n",
    "\n",
    "2. Conquer the subproblems by solving them recursively\n",
    " * Base case: solve small enough problems by brute force\n",
    "\n",
    "\n",
    "3. Combine the solutions to get a solution to the subproblems\n",
    "\n",
    "And finally a solution to the orginal problem\n",
    "\n",
    "**Divide and Conquer algorithms are normally recursive**\n"
   ]
  },
  {
   "cell_type": "markdown",
   "metadata": {},
   "source": [
    "\n",
    "## Visualizing the Algortihm with Santa's Dirty Socks problem"
   ]
  },
  {
   "cell_type": "code",
   "execution_count": 3,
   "metadata": {},
   "outputs": [
    {
     "data": {
      "text/html": [
       "<<iframe width=\"560\" height=\"315\" src=\"https://www.youtube.com/embed/wVPCT1VjySA\" frameborder=\"0\" allow=\"autoplay; encrypted-media\" allowfullscreen></iframe>"
      ],
      "text/plain": [
       "<IPython.core.display.HTML object>"
      ]
     },
     "execution_count": 3,
     "metadata": {},
     "output_type": "execute_result"
    }
   ],
   "source": [
    "hide_me\n",
    "\n",
    "HTML('<<iframe width=\"560\" height=\"315\" src=\"https://www.youtube.com/embed/wVPCT1VjySA\" frameborder=\"0\" allow=\"autoplay; encrypted-media\" allowfullscreen></iframe>')"
   ]
  },
  {
   "cell_type": "markdown",
   "metadata": {},
   "source": [
    "## Perspective of Divide and Conquer\n",
    "\n",
    "\n",
    "### politics and sociology \n",
    "\n",
    "Divide and conquer (from Latin dīvide et imperā) in politics and sociology is gaining and maintaining power by breaking up larger concentrations of power into pieces that individually have less power than the one implementing the strategy. The concept refers to a strategy that breaks up existing power structures, and especially prevents smaller power groups from linking up, causing rivalries and fomenting discord among the people. It was heavily used by British Empire in India and elsewhere.\n",
    "\n",
    "#### Elements of this technique involve:\n",
    "\n",
    "* creating or encouraging divisions among the subjects to prevent alliances that could challenge the sovereign\n",
    "* aiding and promoting those who are willing to cooperate with the sovereign\n",
    "* fostering distrust and enmity between local rulers\n",
    "* encouraging meaningless expenditures that reduce the capability for political and military spending\n",
    "\n",
    "Historically, this strategy was used in many different ways by empires seeking to expand their territories."
   ]
  },
  {
   "cell_type": "markdown",
   "metadata": {},
   "source": []
  },
  {
   "cell_type": "code",
   "execution_count": null,
   "metadata": {},
   "outputs": [],
   "source": []
  }
 ],
 "metadata": {
  "kernelspec": {
   "display_name": "Python 3",
   "language": "python",
   "name": "python3"
  },
  "language_info": {
   "codemirror_mode": {
    "name": "ipython",
    "version": 3
   },
   "file_extension": ".py",
   "mimetype": "text/x-python",
   "name": "python",
   "nbconvert_exporter": "python",
   "pygments_lexer": "ipython3",
   "version": "3.6.5"
  }
 },
 "nbformat": 4,
 "nbformat_minor": 2
}
