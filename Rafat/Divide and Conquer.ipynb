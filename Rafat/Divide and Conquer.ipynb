{
 "cells": [
  {
   "cell_type": "markdown",
   "metadata": {},
   "source": [
    "![alt text][top-banner]\n",
    "\n",
    "[top-banner]: ./callysto-top-banner.jpg"
   ]
  },
  {
   "cell_type": "code",
   "execution_count": 1,
   "metadata": {},
   "outputs": [
    {
     "data": {
      "text/html": [
       "\n",
       "<script>\n",
       "  function code_toggle() {\n",
       "    if (code_shown){\n",
       "      $('div.input').hide('500');\n",
       "      $('#toggleButton').val('Show Code')\n",
       "    } else {\n",
       "      $('div.input').show('500');\n",
       "      $('#toggleButton').val('Hide Code')\n",
       "    }\n",
       "    code_shown = !code_shown\n",
       "  }\n",
       "\n",
       "  $( document ).ready(function(){\n",
       "    code_shown=false;\n",
       "    $('div.input').hide()\n",
       "  });\n",
       "</script>\n",
       "<form action=\"javascript:code_toggle()\"><input type=\"submit\" id=\"toggleButton\" value=\"Show Code\"></form>"
      ],
      "text/plain": [
       "<IPython.core.display.HTML object>"
      ]
     },
     "metadata": {},
     "output_type": "display_data"
    }
   ],
   "source": [
    "%%html\n",
    "\n",
    "<script>\n",
    "  function code_toggle() {\n",
    "    if (code_shown){\n",
    "      $('div.input').hide('500');\n",
    "      $('#toggleButton').val('Show Code')\n",
    "    } else {\n",
    "      $('div.input').show('500');\n",
    "      $('#toggleButton').val('Hide Code')\n",
    "    }\n",
    "    code_shown = !code_shown\n",
    "  }\n",
    "\n",
    "  $( document ).ready(function(){\n",
    "    code_shown=false;\n",
    "    $('div.input').hide()\n",
    "  });\n",
    "</script>\n",
    "<form action=\"javascript:code_toggle()\"><input type=\"submit\" id=\"toggleButton\" value=\"Show Code\"></form>"
   ]
  },
  {
   "cell_type": "markdown",
   "metadata": {},
   "source": [
    "## Introduction\n",
    "\n",
    "Divide and conquer is a highly versatile technique that generally lends itself very well to parallel algorithms design. You probably have seen the divide-and-conquer technique many times before this, but this is such an important technique that it is worth seeing it over and over again. It is particularly suited for “thinking parallel” because it offers a natural way of creating parallel tasks. In this notebook Students will learn to deal with sub problem and lead to an optimum solution."
   ]
  },
  {
   "cell_type": "markdown",
   "metadata": {},
   "source": [
    "## Knowledge Areas\n",
    "\n",
    "* the engineering design process,\n",
    "* scientific consensus,\n",
    "* the scientific method,\n",
    "* systems thinking,\n",
    "* user-centered design\n",
    "\n",
    "\n",
    "## Big Ideas\n",
    "* This technique yields elegant, simple and quite often very efficient algorithms.\n",
    "* It is used in several renowned algorithms.\n",
    "* Divide a bigger problem into smaller problems, solve them individually and merge the solutions.\n",
    "\n",
    "## Specific Expectations:\n",
    "Learn the idea that sometimes smaller solutions can lead into a solution of a bigger problems."
   ]
  },
  {
   "cell_type": "markdown",
   "metadata": {},
   "source": [
    "## Theory & Background Information\n",
    "\n",
    "### Algorithm: \n",
    "\n",
    "Step by step solution of a problem with a definite goal.\n",
    "\n",
    "### Divide and conquer Definition: \n",
    "\n",
    "An algorithmic technique. To solve a problem on an instance of size n, a solution is found either directly because solving that instance is easy (typically, because the instance is small) or the instance is separated into two or more smaller instances. Each of these smaller instances is solved and the solutions are combined to produce a solution for the original instance. The name divide and conquer is because the problem is conquered by dividing it into several smaller problems.\n",
    "\n",
    "### Sub-Problem: \n",
    "\n",
    "a problem that is contingent on or forms a part of another more inclusive problem.\n",
    "### Recursion: \n",
    "\n",
    "Recursion is the process of defining a problem (or the solution to a problem) in terms of (a simpler version of) itself.\n",
    "For example, we can define the operation \"find your way home\" as:\n",
    "\n",
    "1. If you are at home, stop moving.\n",
    "\n",
    "2. Take one step toward home.\n",
    "\n",
    "3. \"Find your way home\".\n",
    "\n",
    "Here the solution to finding your way home is two steps (three steps). First, we don't go home if we are already home. Secondly, we do a very simple action that makes our situation simpler to solve. Finally, we redo the entire algorithm."
   ]
  },
  {
   "cell_type": "markdown",
   "metadata": {},
   "source": [
    "## Essence of Divide and Conquer\n",
    "\n",
    "1. Divide problem into several smaller subproblems.\n",
    " * Normally, the subproblems are similar to the original\n",
    " \n",
    "\n",
    "2. Conquer the subproblems by solving them recursively\n",
    " * Base case: solve small enough problems by brute force\n",
    "\n",
    "\n",
    "3. Combine the solutions to get a solution to the subproblems\n",
    "\n",
    "And finally a solution to the orginal problem\n",
    "\n",
    "**Divide and Conquer algorithms are normally recursive**\n"
   ]
  },
  {
   "cell_type": "markdown",
   "metadata": {},
   "source": [
    "\n",
    "## Visualizing the Algortihm with Santa's Dirty Socks problem"
   ]
  },
  {
   "cell_type": "markdown",
   "metadata": {},
   "source": [
    "[![Santas Dirty Sock](http://img.youtube.com/vi/wVPCT1VjySA/0.jpg)](<iframe width=\"560\" height=\"315\" src=\"https://www.youtube.com/embed/wVPCT1VjySA\" frameborder=\"0\" allow=\"autoplay; encrypted-media\" allowfullscreen></iframe>\"Santa Dirty Socks\")"
   ]
  },
  {
   "cell_type": "markdown",
   "metadata": {},
   "source": [
    "## Perspective of Divide and Conquer\n",
    "\n",
    "\n",
    "### politics and sociology \n",
    "\n",
    "Divide and conquer (from Latin dīvide et imperā) in politics and sociology is gaining and maintaining power by breaking up larger concentrations of power into pieces that individually have less power than the one implementing the strategy. The concept refers to a strategy that breaks up existing power structures, and especially prevents smaller power groups from linking up, causing rivalries and fomenting discord among the people. It was heavily used by British Empire in India and elsewhere.\n",
    "\n",
    "#### Elements of this technique involve:\n",
    "\n",
    "* creating or encouraging divisions among the subjects to prevent alliances that could challenge the sovereign\n",
    "* aiding and promoting those who are willing to cooperate with the sovereign\n",
    "* fostering distrust and enmity between local rulers\n",
    "* encouraging meaningless expenditures that reduce the capability for political and military spending\n",
    "\n",
    "Historically, this strategy was used in many different ways by empires seeking to expand their territories."
   ]
  },
  {
   "cell_type": "markdown",
   "metadata": {},
   "source": [
    "## Application\n",
    "\n",
    "We turn to applications. Our aim is not to be comprehensive; divide and conquer explanations are invoked across all fields and subfields of law, history and the social sciences, and we lack the competence to evaluate most of those cases. Rather, we will select cases that allow us to illustrate the divide and conquer mechanisms.\n",
    "\n",
    "### Labor Law\n",
    "Divide and conquer tactics have a long history in labor relations. Before the modern legal regime began in the 1930s, workers attempted to organize by forming a union and committing not to make separate agreements with the employer. The idea was to force the employer to bargain with the union representative rather than with workers individually, and also to prevent the employer from hiring replacement workers from outside the union. Employers resisted, and unions reacted by calling strikes, which would deprive the employer of all its workers en masse, and would also, through the picket line, prevent the employer from hiring replacements. Employers tried to preempt union organization by firing and intimidating organizers, and by bribing workers not to join unions, which is a classic divide and conquer tactics—and workers responded with sabotage and other forms of violence and resistance.\n",
    "\n",
    "\n",
    "### Constitutional Design\n",
    "\n",
    "In the design of constitutions, divide and conquer strategies play a dual role, either as the problem that constitutional designers must solve or else as a solution that the designers themselves use to cope with other problems. In the first case, the problem for constitutional design is to prevent or inhibit the use of divide and conquer strategies by\n",
    "the incumbent government, which may use those strategies to benefit itself while reducing overall welfare. In the second case, constitutions themselves raise the costs of cooperation to groups whose joint action would reduce overall welfare, such as a majority faction seeking to exploit minorities. In any given constitution, however, there will betradeoffs between these two desiderata: the same structures that make it easier for groupsto coalesce to defeat a welfare-reducing sovereign can also make it easier for groups to coalesce into an exploitative majority faction.\n",
    " \n",
    "Divide-and-conquer as a problem. In one well-known model of constitutionalism (Weingast 1997), the incumbent sovereign or government confronts two or more major political entities: states or provinces in a federal system, political parties, socioeconomic classes such as capitalists and workers, status groups such as nobles and commoners, or ethnic groups such as Hutus and Tutsis. The incumbent requires the support of at least one of the groups to remain in power, but if the two combine forces, the incumbent is deposed. Given this, the incumbent must decide whether to transgress against one or\n",
    "both groups by violating their rights. It is assumed that doing so will benefit the incumbent, but reduce social welfare overall. The groups’ choice is whether to challenge the incumbent’s transgression or instead to acquiesce. \n",
    "\n",
    "### International Law\n",
    "\n",
    "\n",
    "Political scientists writing about international relations frequently describe divideand-conquer behavior among states. The classic balance of power scenario involves a small number of Great Powers that are in a security competition—each state seeks to maximize its power at the expense of other states. Initially, there may be an equilibrium in which the states are at peace because neither state is powerful enough to defeat any other state. Then a shock occurs—one state, a “rising power,” like Germany at the end of the nineteenth century, poses a threat to one or more of its neighbors. Other states “balance” the rising power by forging alliances with the state or states being threatened. The balancers in this way attempt to anticipate and foreclose a divide-and-conquer strategy by the rising power, which, after conquering the first state and eliminating it as a threat, might turn its attention to one of the remaining states.\n"
   ]
  },
  {
   "cell_type": "code",
   "execution_count": null,
   "metadata": {},
   "outputs": [],
   "source": []
  }
 ],
 "metadata": {
  "kernelspec": {
   "display_name": "Python 3",
   "language": "python",
   "name": "python3"
  },
  "language_info": {
   "codemirror_mode": {
    "name": "ipython",
    "version": 3
   },
   "file_extension": ".py",
   "mimetype": "text/x-python",
   "name": "python",
   "nbconvert_exporter": "python",
   "pygments_lexer": "ipython3",
   "version": "3.6.5"
  }
 },
 "nbformat": 4,
 "nbformat_minor": 2
}
