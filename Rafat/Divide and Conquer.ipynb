{
 "cells": [
  {
   "cell_type": "markdown",
   "metadata": {},
   "source": [
    "![alt text][top-banner]\n",
    "\n",
    "[top-banner]: ./callysto-top-banner.jpg"
   ]
  },
  {
   "cell_type": "code",
   "execution_count": 13,
   "metadata": {},
   "outputs": [
    {
     "data": {
      "text/html": [
       "<script>\n",
       "code_show=true; \n",
       "function code_toggle() {\n",
       "  if (code_show) {\n",
       "    $('div.input').each(function(id) {\n",
       "      el = $(this).find('.cm-variable:first');\n",
       "      if (id == 0 || el.text() == 'hide_me') {\n",
       "        $(this).hide();\n",
       "      }\n",
       "    });\n",
       "    $('div.output_prompt').css('opacity', 0);\n",
       "  } else {\n",
       "    $('div.input').each(function(id) {\n",
       "      $(this).show();\n",
       "    });\n",
       "    $('div.output_prompt').css('opacity', 1);\n",
       "  }\n",
       "  code_show = !code_show\n",
       "} \n",
       "$( document ).ready(code_toggle);\n",
       "</script>\n",
       "<form action=\"javascript:code_toggle()\"><input style=\"opacity:1\" type=\"submit\" value=\"Click here to toggle on/off the raw code.\"></form>"
      ],
      "text/plain": [
       "<IPython.core.display.HTML object>"
      ]
     },
     "execution_count": 13,
     "metadata": {},
     "output_type": "execute_result"
    }
   ],
   "source": [
    "from IPython.display import HTML\n",
    "hide_me = ''\n",
    "HTML('''<script>\n",
    "code_show=true; \n",
    "function code_toggle() {\n",
    "  if (code_show) {\n",
    "    $('div.input').each(function(id) {\n",
    "      el = $(this).find('.cm-variable:first');\n",
    "      if (id == 0 || el.text() == 'hide_me') {\n",
    "        $(this).hide();\n",
    "      }\n",
    "    });\n",
    "    $('div.output_prompt').css('opacity', 0);\n",
    "  } else {\n",
    "    $('div.input').each(function(id) {\n",
    "      $(this).show();\n",
    "    });\n",
    "    $('div.output_prompt').css('opacity', 1);\n",
    "  }\n",
    "  code_show = !code_show\n",
    "} \n",
    "$( document ).ready(code_toggle);\n",
    "</script>\n",
    "<form action=\"javascript:code_toggle()\"><input style=\"opacity:1\" type=\"submit\" value=\"Click here to toggle on/off the raw code.\"></form>''')"
   ]
  },
  {
   "cell_type": "code",
   "execution_count": 14,
   "metadata": {},
   "outputs": [
    {
     "data": {
      "text/html": [
       "\n",
       "<script>\n",
       "  function code_toggle() {\n",
       "    if (code_shown){\n",
       "      $('div.input').hide('500');\n",
       "      $('#toggleButton').val('Show Code')\n",
       "    } else {\n",
       "      $('div.input').show('500');\n",
       "      $('#toggleButton').val('Hide Code')\n",
       "    }\n",
       "    code_shown = !code_shown\n",
       "  }\n",
       "\n",
       "  $( document ).ready(function(){\n",
       "    code_shown=false;\n",
       "    $('div.input').hide()\n",
       "  });\n",
       "</script>\n",
       "<form action=\"javascript:code_toggle()\"><input type=\"submit\" id=\"toggleButton\" value=\"Show Code\"></form>"
      ],
      "text/plain": [
       "<IPython.core.display.HTML object>"
      ]
     },
     "metadata": {},
     "output_type": "display_data"
    }
   ],
   "source": [
    "%%html\n",
    "\n",
    "<script>\n",
    "  function code_toggle() {\n",
    "    if (code_shown){\n",
    "      $('div.input').hide('500');\n",
    "      $('#toggleButton').val('Show Code')\n",
    "    } else {\n",
    "      $('div.input').show('500');\n",
    "      $('#toggleButton').val('Hide Code')\n",
    "    }\n",
    "    code_shown = !code_shown\n",
    "  }\n",
    "\n",
    "  $( document ).ready(function(){\n",
    "    code_shown=false;\n",
    "    $('div.input').hide()\n",
    "  });\n",
    "</script>\n",
    "<form action=\"javascript:code_toggle()\"><input type=\"submit\" id=\"toggleButton\" value=\"Show Code\"></form>"
   ]
  },
  {
   "cell_type": "markdown",
   "metadata": {},
   "source": [
    "## Introduction\n",
    "\n",
    "Divide and conquer is a highly versatile technique that generally lends itself very well to parallel algorithms design. You probably have seen the divide-and-conquer technique many times before this, but this is such an important technique that it is worth seeing it over and over again. It is particularly suited for “thinking parallel” because it offers a natural way of creating parallel tasks. In this notebook Students will learn to deal with sub problem and lead to an optimum solution."
   ]
  },
  {
   "cell_type": "markdown",
   "metadata": {},
   "source": [
    "## Knowledge Areas\n",
    "\n",
    "* the engineering design process,\n",
    "* scientific consensus,\n",
    "* the scientific method,\n",
    "* systems thinking,\n",
    "* user-centered design\n",
    "\n",
    "\n",
    "## Big Ideas\n",
    "* This technique yields elegant, simple and quite often very efficient algorithms.\n",
    "* It is used in several renowned algorithms.\n",
    "* Divide a bigger problem into smaller problems, solve them individually and merge the solutions.\n",
    "\n",
    "## Specific Expectations:\n",
    "Learn the idea that sometimes smaller solutions can lead into a solution of a bigger problems."
   ]
  },
  {
   "cell_type": "markdown",
   "metadata": {},
   "source": [
    "## Theory & Background Information\n",
    "\n",
    "### Algorithm: \n",
    "\n",
    "Step by step solution of a problem with a definite goal. Consider how we solve our day to day problems. on a typical day, you start on report, and after completing a paragraph, you perform spell ckeck. You then think about later part of the report and do some searching in the internet using the web browser. So if you think about the whole process of report writing and breakdown into steps as the operation you performed will give you a procedure for writing a report. \n",
    "\n",
    "An algorithm is a well-defined procedure that allows a computer to solve a problem. Another way to describe an algorithm is a sequence of unambiguous instructions. The use of the term 'unambiguous' indicates that there is no room for subjective interpretation. Every time you ask your computer to carry out the same algorithm, it will do it in exactly the same manner with the exact same result.\n",
    "\n",
    "### How Do Algorithms Work?\n",
    "\n",
    "A very simple example of an algorithm would be to find the largest number in an unsorted list of numbers. If you were given a list of three different numbers, you will need no computers to find that out. Now, how about five million different numbers? Clearly, you are going to need a computer to do this, and a computer needs an algorithm.\n",
    "\n",
    "The primary task of creating an algorithm is to define the following criterias:\n",
    "\n",
    "* **input**: there are zero or more quantities which are externally supplied. Try to figure out what the problem needs, how much does it need and how it will recieve the data. For Example: think of the input for changing a tire.\n",
    "\n",
    "* **output**: at least one quantity or outcome is produced;\n",
    "\n",
    "* **definiteness**: each instruction must be clear and unambiguous; Unambiguous means it can not conflict with any other instructions, like sendind the same people two different places at the same time which is not physically possible.\n",
    "\n",
    "* **finiteness**: if we trace out the instructions of an algorithm, then for all cases the algorithm will terminate or end after a finite number of steps;\n",
    "\n",
    "* **effectiveness**: every instruction must be sufficiently basic that it can in principle be carried out by a person using only pencil and paper. It is not enough that each operation be definite, but it must also be feasible.\n",
    "\n",
    "\n",
    "Lets create an algorithm thats finds the largest number in a unsorted list of numbers. Lets name the list A. So the first number in list would be A1, A2 be the second number and so on. As we know the list is not sorted - otherwise, the answer would be really easy. So, for this algorithm the input is a list of numbers, and the output should be the largest number in the list.\n",
    "\n",
    "**Step 1**: Let set the Largest number = A1\n",
    "This means you start by assuming that the first number is the largest number.\n",
    "\n",
    "**Step 2**: For each item in the list:\n",
    "This means you will go through the list of numbers one by one.\n",
    "\n",
    "**Step 3**: If the itemLargest:\n",
    "If you find a new largest number, move to step four. If not, go back to step two, which means you move on to the next number in the list.\n",
    "\n",
    "**Step 4**: Then Largest = the item\n",
    "This replaces the old largest number with the new largest number you just found. Once this is completed, return to step two until there are no more numbers left in the list.\n",
    "\n",
    "**Step 5**: Return Largest\n",
    "\n",
    "This produces the desired result.\n",
    "\n",
    "So you now got an idea to develop an algorithm\n",
    "\n",
    "\n"
   ]
  },
  {
   "cell_type": "markdown",
   "metadata": {},
   "source": [
    "### Sub-Problem: \n",
    "\n",
    "A problem that is contingent on or forms a part of another more inclusive problem. It involves breaking down a complex problem or system into smaller parts that are more manageable and easier to understand. The smaller parts can then be examined and solved, or designed individually, as they are simpler to work with.\n",
    "\n",
    "We do many tasks on a daily basis without even thinking about – or decomposing – them, such as brushing our teeth.\n",
    "\n",
    "**Example 1**: Brushing our teeth\n",
    "To decompose the problem of how to brush our teeth, we would need to consider:\n",
    "\n",
    "1. which toothbrush to use\n",
    "2. how long to brush for\n",
    "3. how hard to press on our teeth\n",
    "4. what toothpaste to use\n",
    "\n",
    "\n"
   ]
  },
  {
   "cell_type": "markdown",
   "metadata": {},
   "source": [
    "### Recursion: \n",
    "\n",
    "Recursion is a method of solving problems that involves breaking a problem down into smaller and smaller subproblems until you get to a small enough problem that it can be solved trivially. Usually recursion involves a function calling itself. While it may not seem like much on the surface, recursion allows us to write elegant solutions to problems that may otherwise be very difficult to program. Finally, Recursion is the process of defining a problem (or the solution to a problem) in terms of (a simpler version of) itself. For example, we can define the operation \"find your way home\" as:\n",
    "\n",
    "1. If you are at home, stop moving.\n",
    "\n",
    "2. Take one step toward home.\n",
    "\n",
    "3. \"Find your way home\".\n",
    "\n",
    "Here the solution to finding your way home is two steps (three steps). First, we don't go home if we are already home. Secondly, we do a very simple action that makes our situation simpler to solve. Finally, we redo the entire algorithm.\n",
    "\n",
    "### When to use Recursion:\n",
    "\n",
    "You can use recursion in any problem where the answer can be obtained in an easy way, assuming you know the answer to a simpler problem.\n",
    "\n",
    "For example, if you want to calculate the weight of the  9th floor of a 20 storied Plaza, and you know that each floor is half as heavy as the one below it, then you could use recursion to calculate the 9th floor based on the 20 floor (which is based on the 19h … and so on), until you reach the base floor– whose weight you would need to know.\n",
    "\n",
    "### generalize Recursion\n",
    "\n",
    "In order to build a recursive solution you may take following approach to make things easier:\n",
    "\n",
    "1. Write down the simple base case\n",
    "2. Pretend that you know the answer to the case(s) that are slightly simpler than the answer\n",
    "3. Calculate the answer from the answer to the slightly simpler case(s)\n",
    "\n",
    "Now as you have a general idea about recursion try solving the following question, If stuck see the solution\n",
    "\n",
    "## How do you empty a vase containing five flowers?\n"
   ]
  },
  {
   "cell_type": "code",
   "execution_count": 15,
   "metadata": {
    "scrolled": true
   },
   "outputs": [
    {
     "data": {
      "text/html": [
       "<html>\n",
       "<head>\n",
       "<script type=\"text/javascript\">\n",
       "<!--\n",
       "function toggle(id) {\n",
       "var e = document.getElementById(id);\n",
       "if(e.style.display == 'none')\n",
       "e.style.display = 'block';\n",
       "else\n",
       "e.style.display = 'none';\n",
       "}\n",
       "//-->\n",
       "</script>\n",
       "</head>\n",
       "\n",
       "<body>\n",
       "<div id=\"question1\">\n",
       "Question Solution <button id = \"A\"\n",
       "onclick=\"toggle('answer1');\">Click Here</button> to see the answer.\n",
       "</div>\n",
       "<div style=\"display:none\" id=\"answer1\">\n",
       "How do you empty a vase containing five flowers? </br>\n",
       "\n",
       "Answer: if the vase is not empty, you take out one flower and then you empty a vase containing four flowers. </br>\n",
       "\n",
       "How do you empty a vase containing four flowers? </br>\n",
       "\n",
       "Answer: if the vase is not empty, you take out one flower and then you empty a vase containing three flowers. </br>\n",
       "\n",
       "Continue like this until we take all the flowers form the vase and the vase is empty. </br>\n",
       "\n",
       "</div>\n",
       "</body>\n",
       "</html>"
      ],
      "text/plain": [
       "<IPython.core.display.HTML object>"
      ]
     },
     "metadata": {},
     "output_type": "display_data"
    }
   ],
   "source": [
    "%%html\n",
    "<html>\n",
    "<head>\n",
    "<script type=\"text/javascript\">\n",
    "<!--\n",
    "function toggle(id) {\n",
    "var e = document.getElementById(id);\n",
    "if(e.style.display == 'none')\n",
    "e.style.display = 'block';\n",
    "else\n",
    "e.style.display = 'none';\n",
    "}\n",
    "//-->\n",
    "</script>\n",
    "</head>\n",
    "\n",
    "<body>\n",
    "<div id=\"question1\">\n",
    "Question Solution <button id = \"A\"\n",
    "onclick=\"toggle('answer1');\">Click Here</button> to see the answer.\n",
    "</div>\n",
    "<div style=\"display:none\" id=\"answer1\">\n",
    "How do you empty a vase containing five flowers? </br>\n",
    "\n",
    "Answer: if the vase is not empty, you take out one flower and then you empty a vase containing four flowers. </br>\n",
    "\n",
    "How do you empty a vase containing four flowers? </br>\n",
    "\n",
    "Answer: if the vase is not empty, you take out one flower and then you empty a vase containing three flowers. </br>\n",
    "\n",
    "Continue like this until we take all the flowers form the vase and the vase is empty. </br>\n",
    "\n",
    "</div>\n",
    "</body>\n",
    "</html>"
   ]
  },
  {
   "cell_type": "markdown",
   "metadata": {},
   "source": [
    "### Divide and conquer Definition: \n",
    "Now as we have a idea about algorithm, sub-problem and recursion. Lets take a look at a powerful and elegant but simple algorithm named \"Divide and Conquer\". It is an algorithmic technique to solve a problem on an instance of size n, a solution is found either directly because solving that instance is easy (typically, because the instance is small) or the instance is separated into two or more smaller instances. Each of these smaller instances is solved and the solutions are combined to produce a solution for the original instance. The name divide and conquer is because the problem is conquered by dividing it into several smaller problems."
   ]
  },
  {
   "cell_type": "code",
   "execution_count": 49,
   "metadata": {},
   "outputs": [
    {
     "data": {
      "text/html": [
       "<!DOCTYPE html>\n",
       "<html>\n",
       "<h2>HTML Image</h2>\n",
       "<img src=\"divide-and-conquer_1.png\" alt=\"drawing\" width=\"500\" height=\"333\" style=\"float:middle\">\n",
       "</html>\n",
       "\n",
       "<!DOCTYPE html>\n",
       "<html>\n",
       "<body>\n",
       "\n",
       "<p>This is some text. This is some text. This is some text.\n",
       "<img src=\"divide-and-conquer_1.png\" width=\"200\" height=\"200\" style=\"float:middle\">\n",
       "</img>\n",
       "</body>\n",
       "</html>"
      ],
      "text/plain": [
       "<IPython.core.display.HTML object>"
      ]
     },
     "metadata": {},
     "output_type": "display_data"
    }
   ],
   "source": [
    "%%html\n",
    "<!DOCTYPE html>\n",
    "<html>\n",
    "<h2>HTML Image</h2>\n",
    "<img src=\"divide-and-conquer_1.png\" alt=\"drawing\" width=\"500\" height=\"333\" style=\"float:middle\">\n",
    "</html>\n"
   ]
  },
  {
   "cell_type": "markdown",
   "metadata": {},
   "source": [
    "## Implement a Divide and Conquer algorithm\n",
    "\n",
    "1. Divide problem into several smaller subproblems.\n",
    "  * Normally, the subproblems are similar to the original\n",
    "\n",
    "2. Conquer the subproblems by solving them recursively.\n",
    "  * Base case: solve small enough problems by brute force.\n",
    " \n",
    "3. Combine the solutions to get a solution to the subproblems.\n",
    "\n",
    "And finally a solution to the orginal problem\n",
    "\n",
    "**Divide and Conquer algorithms are normally recursive**\n"
   ]
  },
  {
   "cell_type": "markdown",
   "metadata": {},
   "source": [
    "### Advantages\n",
    "\n",
    "* In a perfect world, where the problem is easy to divide, and the sub-problem at some level is easy to solve, divide and conquer can be optimal for a general case solution, like merge sort.\n",
    "* Parallel availability, divide and conquer by it’s very nature lends itself well to parallel processing as we divide the problems of similar type.\n"
   ]
  },
  {
   "cell_type": "markdown",
   "metadata": {},
   "source": [
    "### Disadvantages\n",
    "\n",
    "* One of the most common issues with the recursion is the fact that it is slow, which is a disadvantage in case of divide and conquer too.\n",
    "\n",
    "* It is the fact that sometimes it can become more complicated than a basic iterative approach, especially in cases with a large n.\n",
    "\n",
    "* Another downfall is that when we break the problem into sub-problem, the same problem can occur too many times. In such cases we may need to save the solution of the repeated sub-problem, which is commonly known as memoization.\n"
   ]
  },
  {
   "cell_type": "markdown",
   "metadata": {},
   "source": [
    "\n",
    "## Visualizing the Algortihm with Santa's Dirty Socks problem"
   ]
  },
  {
   "cell_type": "code",
   "execution_count": 39,
   "metadata": {},
   "outputs": [
    {
     "data": {
      "text/html": [
       "<iframe width=\"560\" height=\"315\" style=\"float:centre\" src=\"https://www.youtube.com/embed/wVPCT1VjySA\" frameborder=\"0\" allow=\"autoplay; encrypted-media\" allowfullscreen ></iframe>"
      ],
      "text/plain": [
       "<IPython.core.display.HTML object>"
      ]
     },
     "execution_count": 39,
     "metadata": {},
     "output_type": "execute_result"
    }
   ],
   "source": [
    "hide_me\n",
    "\n",
    "HTML('<iframe width=\"560\" height=\"315\" style=\"float:centre\" src=\"https://www.youtube.com/embed/wVPCT1VjySA\" frameborder=\"0\" allow=\"autoplay; encrypted-media\" allowfullscreen ></iframe>')"
   ]
  },
  {
   "cell_type": "markdown",
   "metadata": {},
   "source": [
    "### The video story breakdown\n",
    "\n",
    "Now lets breakdown the video and algorithm into steps.\n",
    "\n",
    "The solution in the story points out that when there are 1024 boxes to test, instead of having to open all of them until the socks are found, one half can be eliminated at a time, and repeatedly halving the problem very quickly narrows it down to one box (the size of the problem starts at 1024, then with one weighing there are 512 boxes, then 256, 128, 64, 32, 16, 8, 4, 2 and 1.)"
   ]
  },
  {
   "cell_type": "markdown",
   "metadata": {},
   "source": [
    "### Follow up discussion\n",
    "\n",
    "* Consider doing the activity with a balance scale and, say, 32 weights that are identical except one. \n",
    "* Now engage in a thought experiment – how many more weighings would be needed if there were 64 weights? [Just one more weighing is needed.]\n",
    "\n",
    "* If there were 2048 boxes, how many weighings would this process take [11 weighings, that is, just one more than for 1024 boxes]\n",
    "\n",
    "* If there are twice as many gifts, how many more weighings are needed [1 – each weighing halves the size of the problem]\n",
    "* What if there are 4 times as many gifts? [2 more weighings are needed].\n",
    "* Suppose you are making a search engine that searches a billion words (that is, 1,000,000,000 words), and the words are listed in alphabetical list. The search engine looks for a word in the middle of the list, and eliminates half the list with one check. How many words does it need to check before you find the one you’re after? [You would only need to make 30 checks to search a billion words; it may help students to start with just 1024 words, or even use a dictionary or phone book to act this out.]\n"
   ]
  },
  {
   "cell_type": "markdown",
   "metadata": {},
   "source": [
    "## Gold Bar Puzzle\n",
    "\n",
    "An employee works for an employer for 7 days. The employer has a gold rod of 7 units. How does the employer pays to the employee so that the employee gets 1 unit at the end of everyday. The employer can make at most 2 cuts in rod."
   ]
  },
  {
   "cell_type": "code",
   "execution_count": 18,
   "metadata": {},
   "outputs": [
    {
     "data": {
      "text/html": [
       "<iframe width=\"560\" height=\"315\" src=\"https://www.youtube.com/embed/Xklidm3v96M\" frameborder=\"0\" allow=\"autoplay; encrypted-media\" allowfullscreen></iframe>"
      ],
      "text/plain": [
       "<IPython.core.display.HTML object>"
      ]
     },
     "execution_count": 18,
     "metadata": {},
     "output_type": "execute_result"
    }
   ],
   "source": [
    "hide_me\n",
    "\n",
    "HTML('<iframe width=\"560\" height=\"315\" src=\"https://www.youtube.com/embed/Xklidm3v96M\" frameborder=\"0\" allow=\"autoplay; encrypted-media\" allowfullscreen></iframe>')"
   ]
  },
  {
   "cell_type": "markdown",
   "metadata": {},
   "source": [
    "## Perspective of Divide and Conquer\n",
    "\n",
    "\n",
    "### politics and sociology \n",
    "\n",
    "Divide and conquer (from Latin dīvide et imperā) in politics and sociology is gaining and maintaining power by breaking up larger concentrations of power into pieces that individually have less power than the one implementing the strategy. The concept refers to a strategy that breaks up existing power structures, and especially prevents smaller power groups from linking up, causing rivalries and fomenting discord among the people. It was heavily used by British Empire in India and elsewhere.\n",
    "\n",
    "#### Elements of this technique involve:\n",
    "\n",
    "* creating or encouraging divisions among the subjects to prevent alliances that could challenge the sovereign\n",
    "* aiding and promoting those who are willing to cooperate with the sovereign\n",
    "* fostering distrust and enmity between local rulers\n",
    "* encouraging meaningless expenditures that reduce the capability for political and military spending\n",
    "\n",
    "Historically, this strategy was used in many different ways by empires seeking to expand their territories."
   ]
  },
  {
   "cell_type": "markdown",
   "metadata": {},
   "source": [
    "## Conclusion\n",
    "\n"
   ]
  },
  {
   "cell_type": "code",
   "execution_count": null,
   "metadata": {},
   "outputs": [],
   "source": []
  }
 ],
 "metadata": {
  "kernelspec": {
   "display_name": "Python 3",
   "language": "python",
   "name": "python3"
  },
  "language_info": {
   "codemirror_mode": {
    "name": "ipython",
    "version": 3
   },
   "file_extension": ".py",
   "mimetype": "text/x-python",
   "name": "python",
   "nbconvert_exporter": "python",
   "pygments_lexer": "ipython3",
   "version": "3.6.5"
  }
 },
 "nbformat": 4,
 "nbformat_minor": 2
}
