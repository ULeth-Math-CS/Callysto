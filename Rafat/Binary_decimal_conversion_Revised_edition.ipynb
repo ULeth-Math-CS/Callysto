{
 "cells": [
  {
   "cell_type": "markdown",
   "metadata": {},
   "source": [
    "![alt text][top-banner]\n",
    "\n",
    "[top-banner]: ./callysto-top-banner.jpg"
   ]
  },
  {
   "cell_type": "code",
   "execution_count": 1,
   "metadata": {},
   "outputs": [
    {
     "data": {
      "text/html": [
       "\n",
       "<script>\n",
       "  function code_toggle() {\n",
       "    if (code_shown){\n",
       "      $('div.input').hide('500');\n",
       "      $('#toggleButton').val('Show Code')\n",
       "    } else {\n",
       "      $('div.input').show('500');\n",
       "      $('#toggleButton').val('Hide Code')\n",
       "    }\n",
       "    code_shown = !code_shown\n",
       "  }\n",
       "\n",
       "  $( document ).ready(function(){\n",
       "    code_shown=false;\n",
       "    $('div.input').hide()\n",
       "  });\n",
       "</script>\n",
       "<form action=\"javascript:code_toggle()\"><input type=\"submit\" id=\"toggleButton\" value=\"Show Code\"></form>"
      ],
      "text/plain": [
       "<IPython.core.display.HTML object>"
      ]
     },
     "metadata": {},
     "output_type": "display_data"
    }
   ],
   "source": [
    "%%html\n",
    "\n",
    "<script>\n",
    "  function code_toggle() {\n",
    "    if (code_shown){\n",
    "      $('div.input').hide('500');\n",
    "      $('#toggleButton').val('Show Code')\n",
    "    } else {\n",
    "      $('div.input').show('500');\n",
    "      $('#toggleButton').val('Hide Code')\n",
    "    }\n",
    "    code_shown = !code_shown\n",
    "  }\n",
    "\n",
    "  $( document ).ready(function(){\n",
    "    code_shown=false;\n",
    "    $('div.input').hide()\n",
    "  });\n",
    "</script>\n",
    "<form action=\"javascript:code_toggle()\"><input type=\"submit\" id=\"toggleButton\" value=\"Show Code\"></form>"
   ]
  },
  {
   "cell_type": "code",
   "execution_count": 2,
   "metadata": {},
   "outputs": [
    {
     "data": {
      "application/javascript": [
       "\n",
       "            require.config({\n",
       "                paths: {\n",
       "                    ggb: \"https://cdn.geogebra.org/apps/deployggb\"\n",
       "                }\n",
       "            });\n",
       "\n",
       "            require([\"ggb\"]);\n",
       "        "
      ],
      "text/plain": [
       "<IPython.core.display.Javascript object>"
      ]
     },
     "metadata": {},
     "output_type": "display_data"
    }
   ],
   "source": [
    "from nbvis.ggb import *\n",
    "ggb = GGB()\n"
   ]
  },
  {
   "cell_type": "code",
   "execution_count": 3,
   "metadata": {},
   "outputs": [],
   "source": [
    "from __future__ import print_function\n",
    "from ipywidgets import interact, interactive, fixed, interact_manual\n",
    "import ipywidgets as widgets\n",
    "import random\n",
    "\n",
    "from IPython.display import HTML\n",
    "import random\n",
    "%matplotlib inline\n",
    "import matplotlib as mpl\n",
    "import matplotlib.pyplot as plt \n",
    "\n",
    "\n",
    "import ipywidgets as widgets\n",
    "from IPython.display import display, Math, Latex, clear_output\n"
   ]
  },
  {
   "cell_type": "markdown",
   "metadata": {},
   "source": [
    "# Introduction\n",
    "\n",
    "This notebook will introduce the concept of number system, familiarity with the bases, and the abilty to convert binary numbers to decimal numbers and vice versa.\n",
    "\n"
   ]
  },
  {
   "cell_type": "markdown",
   "metadata": {},
   "source": [
    "<img src=\"binary.png\" alt=\"drawing\" style=\"width:500px;\"/>"
   ]
  },
  {
   "cell_type": "markdown",
   "metadata": {},
   "source": [
    "## knowledge Areas\n",
    "\n",
    "\n",
    "* The engineering design process,\n",
    "* future thinking,\n",
    "* the scientific method,\n",
    "* systems thinking\n",
    "\n"
   ]
  },
  {
   "cell_type": "markdown",
   "metadata": {},
   "source": [
    "##  Big Ideas \n",
    "\n",
    "* Computing is a creative activity.\n",
    "* Understand why binary is used to represent information on a computer\n",
    "* Data and information facilitate the creation of knowledge.\n",
    "* Be able to convert binary numbers to decimal and decimal to binary.\n"
   ]
  },
  {
   "cell_type": "markdown",
   "metadata": {},
   "source": [
    "## Theory & Background Information\n",
    "\n",
    "### Why Binary\n",
    "\n",
    "Why binary you ask? Well, why decimal? We’ve been using decimal forever and have mostly taken for granted the reason we settled on the base-10 number system for our everyday number needs. Maybe it’s because we have 10 fingers, or maybe it’s just because the Romans forced it upon their ancient subjugates. Regardless of what lead to it, tricks we’ve learned along the way have solidified base-10’s place in our heart; everyone can count by 10’s. We even round large numbers to the nearest multiple of 10. We’re obsessed with 10!\n",
    "\n",
    "Computers, being electronic machines only understand two things:\n",
    "ON - electricity is flowing (through circuit, gate, and transistor, whatever)\n",
    "OFF - electricity is not flowing\n",
    "In a computer, everything must be represented as collections of ONs and OFFs. Unfortunately, this scheme is difficult for humans to process. To make things easier on ourselves, humans represent \"computerian\" as binary numbers:\n",
    "\n",
    "ON - represented by a 1\n",
    "OFF - represented by a 0\n",
    "So instead of \"OFF ON ON OFF\", we humans would write \"0110\".\n",
    "\n",
    "I would like to give information about binary numbers, concept of base and how numbers can be converted from binary to decimal and vice versa. "
   ]
  },
  {
   "cell_type": "markdown",
   "metadata": {},
   "source": [
    "##  Base\n",
    "\n",
    "The base or radix is the number of different digits or combination of different digits that a number system of counting used to represent.\n",
    "\n",
    "### Definition 1: \n",
    "The number that gets multiplied when using an exponent. \n",
    "\n",
    "Examples:\n",
    "\n",
    "* In $8^{2}$, 8 is the base, and the result is $8 × 8 = 64$\n",
    "* In $5^{3}$, 5 is the base, and the result is $5 × 5 × 5 = 125$\n",
    "\n",
    "\n",
    "\n",
    "### Definition 2: \n",
    "How many numbers in a number system.\n",
    "\n",
    "The decimal number system that we use every day has 10 digits {0,1,2,3,4,5,6,7,8,9} and so it is Base-10. \n",
    "Binary digits can only be 0 or 1, so they are Base-2.\n",
    "\n"
   ]
  },
  {
   "cell_type": "markdown",
   "metadata": {},
   "source": [
    "## Counting in binary\n",
    "\n",
    "We can count in decimal endlessly, even in our sleep, but how can we count in binary? Zero and one in base-two should look pretty familiar: 0 and 1. From there things get decidedly binary.\n",
    "\n",
    "Remember that we’ve only got those two digits, so as we do in decimal, when we run out of symbols we’ve got to shift one column to the left, add a 1, and turn all of the digits to right to 0. So after 1 we get 10, then 11, then 100. Let’s start counting…\n",
    "\n",
    "| Decimal | Binary |\n",
    "|:-------:|:------:|\n",
    "|    0    |  0000  |\n",
    "|    1    |  0001  |\n",
    "|    2    |  0010  |\n",
    "|    3    |  0011  |\n",
    "|    4    |  0100  |\n",
    "|    5    |  0101  |\n",
    "|    6    |  0110  |\n",
    "|    7    |  0111  |\n",
    "|    8    |  1000  |\n",
    "|    9    |  1001  |\n",
    "|    10   |  1010  |\n",
    "|    11   |  1011  |\n",
    "|    12   |  1100  |\n",
    "|    13   |  1101  |\n",
    "|    14   |  1110  |\n",
    "|    15   |  1111  |"
   ]
  },
  {
   "cell_type": "markdown",
   "metadata": {},
   "source": [
    "## Converting binary to decimal\n",
    "\n",
    "For converting binary to decimal we will not follow the traditional approach rather we will try to implement an interactive, easy and simple alogorithm.\n",
    "\n",
    "### Traditional Method\n",
    "\n",
    "We can convert a binary number to decimal by multiplying each bit by its place value and summing.\n",
    "\n",
    "#### For Example :\n",
    "\\begin{equation}\n",
    "1101 = 1 * 2^{3} + 1 * 2^{2} + 0 * 2^{1} + 1 * 2^{0} \\\\\n",
    "\\qquad   = 13\n",
    "\\end{equation}\n",
    "\n",
    "### Interactive Method\n",
    "\n",
    "For demonstration we start off with 5 bit of number, means we will represent 5 bits of binary number which can represent up to 31 in decimal numbers.\n",
    "\n",
    "1. Lets say we represent each binary digit with a single card, so there will be 5 cards.\n",
    "\n",
    "2. Now is the time to mark the cards. We mark the cards with numbers. For five cards 1, 2, 4, 8, 16 respectively.\n",
    "\n",
    "3. When marking the cards is done, we arrange the card in sorted way like card represnting 1 in decimal should be leftmost and card reperesenting number 32 should be in the rightmost position. Order 16, 8, 4, 2, 1.\n",
    "\n",
    "4. Now the representation, the side with the numbers represents 1 in binary and other side with no numbers represents 0. That is if it shows the side of the card with numbers then we read them as 1 in binary and 0 for the other side.\n",
    "\n",
    "5. So if we want to represent a chosen number through these cards. For example if we choose 11001, we will represent the numbers using the cards as told in step 4.\n",
    "\n",
    "6. Now comes the fun part in order to convert this binary number chosen (11001) to decimal we just count the number showing in the cards. For this 16+8+0+0+1=25 so (11001) binary numbers is equivalent to 25 in decimal.\n",
    "\n",
    "\n",
    "## Converting Decimal to Binary\n",
    "\n",
    "1. In order to convert the decimal to binary for suppose 11 we add number we have on the board to get 15. So it will be like 0 + 8 + 0 + 2+ 1. the cards for 8, 2,1 circles will show and other cards flipped to other side. \n",
    "\n",
    "2. Then we just read the cards like mentioned in step 4. In this case it will be 0 1 0 1 1.\n",
    "\n",
    "<img src=\"test1.jpg\" alt=\"drawing\" style=\"width:500px;\"/>\n",
    "\n",
    "\n",
    "## Repeat for some other numbers for better understanding.\n",
    "\n"
   ]
  },
  {
   "cell_type": "markdown",
   "metadata": {},
   "source": [
    "## Visualizing the Algorithm"
   ]
  },
  {
   "cell_type": "code",
   "execution_count": 4,
   "metadata": {},
   "outputs": [
    {
     "data": {
      "text/html": [
       "\n",
       "<script>\n",
       "  function code_toggle() {\n",
       "    if (code_shown){\n",
       "      $('div.input').hide('500');\n",
       "      $('#toggleButton').val('Show Code')\n",
       "    } else {\n",
       "      $('div.input').show('500');\n",
       "      $('#toggleButton').val('Hide Code')\n",
       "    }\n",
       "    code_shown = !code_shown\n",
       "  }\n",
       "\n",
       "  $( document ).ready(function(){\n",
       "    code_shown=false;\n",
       "    $('div.input').hide()\n",
       "  });\n",
       "</script>\n",
       "<form action=\"javascript:code_toggle()\"><input type=\"submit\" id=\"toggleButton\" value=\"Show Code\"></form>"
      ],
      "text/plain": [
       "<IPython.core.display.HTML object>"
      ]
     },
     "metadata": {},
     "output_type": "display_data"
    }
   ],
   "source": [
    "%%html\n",
    "\n",
    "<script>\n",
    "  function code_toggle() {\n",
    "    if (code_shown){\n",
    "      $('div.input').hide('500');\n",
    "      $('#toggleButton').val('Show Code')\n",
    "    } else {\n",
    "      $('div.input').show('500');\n",
    "      $('#toggleButton').val('Hide Code')\n",
    "    }\n",
    "    code_shown = !code_shown\n",
    "  }\n",
    "\n",
    "  $( document ).ready(function(){\n",
    "    code_shown=false;\n",
    "    $('div.input').hide()\n",
    "  });\n",
    "</script>\n",
    "<form action=\"javascript:code_toggle()\"><input type=\"submit\" id=\"toggleButton\" value=\"Show Code\"></form>"
   ]
  },
  {
   "cell_type": "code",
   "execution_count": 5,
   "metadata": {
    "scrolled": true
   },
   "outputs": [
    {
     "data": {
      "text/html": [
       "<script>requirejs.config({paths: { 'plotly': ['https://cdn.plot.ly/plotly-latest.min']},});if(!window.Plotly) {{require(['plotly'],function(plotly) {window.Plotly=plotly;});}}</script>"
      ],
      "text/vnd.plotly.v1+html": [
       "<script>requirejs.config({paths: { 'plotly': ['https://cdn.plot.ly/plotly-latest.min']},});if(!window.Plotly) {{require(['plotly'],function(plotly) {window.Plotly=plotly;});}}</script>"
      ]
     },
     "metadata": {},
     "output_type": "display_data"
    }
   ],
   "source": [
    "import numpy as np\n",
    "import plotly.offline as py\n",
    "from plotly.offline import init_notebook_mode, iplot\n",
    "import plotly.tools as tls\n",
    "import matplotlib.pylab as plt\n",
    "from matplotlib.backends.backend_agg import FigureCanvasAgg as FigureCanvas\n",
    "import plotly.graph_objs as go \n",
    "\n",
    "py.init_notebook_mode(connected=True)\n",
    "\n",
    "def plot_stored_values(store_plot_value, value):\n",
    "    #py.init_notebook_mode(connected=True)\n",
    "    \n",
    "    value_list = []\n",
    "    value_list.append(value)\n",
    "    \n",
    "    N = len(store_plot_value)\n",
    "    random_y = np.zeros(N)\n",
    "    \n",
    "    \n",
    "\n",
    "    # Create a trace\n",
    "    trace = go.Scatter(\n",
    "        x = store_plot_value,\n",
    "        y = random_y,\n",
    "        marker = dict(color = 'rgb(128, 0, 0)',),\n",
    "        mode = 'markers',\n",
    "        name =  \"Derived Numbers of power of 2\"\n",
    "     )\n",
    "    \n",
    "    trace_value = go.Scatter(\n",
    "        x = value_list,\n",
    "        y = 0,\n",
    "        marker = dict(color = 'rgb(0, 0, 128)',),\n",
    "        mode = 'markers',\n",
    "        name = \"Original number\"\n",
    "     )\n",
    "\n",
    "    data = [trace , trace_value]\n",
    "    layout = go.Layout(\n",
    "        title ='Decimal Value numbers',\n",
    "        xaxis =dict(\n",
    "        title='Decimal Values',\n",
    "        titlefont=dict(\n",
    "            family='Courier New, monospace',\n",
    "            size=18,\n",
    "            color='#7f7f7f'\n",
    "            )\n",
    "        ),\n",
    "        yaxis=dict(\n",
    "        title='',\n",
    "        titlefont=dict(\n",
    "            family='Courier New, monospace',\n",
    "            size=18,\n",
    "            color='#7f7f7f'\n",
    "            )\n",
    "        )\n",
    "    )\n",
    "    #py.restyle('graph', 'marker.color', [['red'], ['blue']], [trace, trace_value]);\n",
    "    fig = go.Figure(data=data, layout=layout)\n",
    "    py.iplot(fig, filename='basic-line')\n",
    "    #py.redraw( filename='basic-line')\n",
    "#plot_stored_values([16,8,1], 25)"
   ]
  },
  {
   "cell_type": "code",
   "execution_count": 6,
   "metadata": {},
   "outputs": [],
   "source": [
    "import math\n",
    "import numpy as np\n",
    "\n",
    "#function for finding the power of 2 \n",
    "def power_two_1(n):\n",
    "    return int(math.log(n, 2))\n",
    "\n",
    "def power_two(x):\n",
    "    return x.bit_length()-1\n",
    "\n",
    "#function for calculating the algorithm value\n",
    "store_plot_value = []\n",
    "def Calculate_Value(x):\n",
    "    store_plot_value = []\n",
    "    \n",
    "    power_of_2 = power_two(x)\n",
    "    #print(power_of_2)\n",
    "    first_value = 2 ** power_of_2\n",
    "    store_plot_value.append(first_value)\n",
    "    plot_value = x - 2 ** power_of_2\n",
    "    \n",
    "    #store_plot_value.append(plot_value)\n",
    "    while(plot_value > 0):\n",
    "        #print(plot_value)\n",
    "        \n",
    "        power_of_2 = power_two(plot_value)\n",
    "        #print(power_of_2)\n",
    "        store_value =  2 ** power_of_2\n",
    "        store_plot_value.append(store_value)\n",
    "        plot_value = plot_value - 2 ** power_of_2\n",
    "       \n",
    "    #plot_stored_values(store_plot_value)\n",
    "    return store_plot_value\n",
    "    \n"
   ]
  },
  {
   "cell_type": "code",
   "execution_count": 7,
   "metadata": {},
   "outputs": [
    {
     "data": {
      "application/vnd.jupyter.widget-view+json": {
       "model_id": "551b7b1590fd4431b4dba84bfb3af034",
       "version_major": 2,
       "version_minor": 0
      },
      "text/html": [
       "<p>Failed to display Jupyter Widget of type <code>BoundedIntText</code>.</p>\n",
       "<p>\n",
       "  If you're reading this message in the Jupyter Notebook or JupyterLab Notebook, it may mean\n",
       "  that the widgets JavaScript is still loading. If this message persists, it\n",
       "  likely means that the widgets JavaScript library is either not installed or\n",
       "  not enabled. See the <a href=\"https://ipywidgets.readthedocs.io/en/stable/user_install.html\">Jupyter\n",
       "  Widgets Documentation</a> for setup instructions.\n",
       "</p>\n",
       "<p>\n",
       "  If you're reading this message in another frontend (for example, a static\n",
       "  rendering on GitHub or <a href=\"https://nbviewer.jupyter.org/\">NBViewer</a>),\n",
       "  it may mean that your frontend doesn't currently support widgets.\n",
       "</p>\n"
      ],
      "text/plain": [
       "BoundedIntText(value=0, description='Enter value:', max=256)"
      ]
     },
     "metadata": {},
     "output_type": "display_data"
    }
   ],
   "source": [
    "from IPython.display import clear_output\n",
    "\n",
    "\n",
    "Algorithm_value = widgets.BoundedIntText(\n",
    "    value = 0,\n",
    "    min = 0,\n",
    "    max = 256,\n",
    "    step = 1,\n",
    "    description = 'Enter value:',\n",
    "    disabled = False\n",
    ")\n",
    "\n",
    "def on_value_change(change):\n",
    "    \n",
    "    clear_output(wait= False)\n",
    "    display(Algorithm_value)\n",
    "    Plot_values = []\n",
    "    #Calculate_Value(change['new'])\n",
    "    Plot_values = Calculate_Value(change['new'])\n",
    "    plot_stored_values(Plot_values, change['new'])\n",
    "    \n",
    "    \n",
    "    \n",
    "    #print(Plot_values[0])\n",
    "    \n",
    "    visual_value = change['new'] - Plot_values[0]\n",
    "    \n",
    "    interim_value = visual_value\n",
    "    print(\"the first step : {} - {} = {}\".format(change['new'],Plot_values[0], interim_value ))\n",
    "    \n",
    "    for i in Plot_values[1:]:\n",
    "        temp = interim_value\n",
    "        interim_value = interim_value - i\n",
    "        print(\"the next step : {} - {} = {}\".format(temp, i , interim_value ))\n",
    "\n",
    "    \n",
    "        \n",
    "    \n",
    "\n",
    "    \n",
    "display(Algorithm_value)\n",
    "Algorithm_value.observe(on_value_change, names='value')\n",
    "#print(\"Hello\")\n",
    "\n",
    "\n"
   ]
  },
  {
   "cell_type": "markdown",
   "metadata": {},
   "source": [
    "## Try calculating the Values yourself\n",
    "\n",
    "### Instructions:\n",
    "1. Enter a value for n between 1 and 31 in the input box.\n",
    "2. Subtract powers of 2 from n by clicking on them on the number line.\n",
    "3. Keep working until the amount r that remains is zero.\n",
    "4. Your number in binary will be shown at the bottom."
   ]
  },
  {
   "cell_type": "code",
   "execution_count": 8,
   "metadata": {},
   "outputs": [
    {
     "data": {
      "text/html": [
       "<div id=\"ggb_0_0e\"></div>"
      ],
      "text/plain": [
       "<IPython.core.display.HTML object>"
      ]
     },
     "metadata": {},
     "output_type": "display_data"
    },
    {
     "data": {
      "application/javascript": [
       "var ggb_0_0e = new GGBApplet({\"material_id\": \"VJJpYMQ2\"}, \"ggb_0_0e\", false); ggb_0_0e.inject(); "
      ],
      "text/plain": [
       "<IPython.core.display.Javascript object>"
      ]
     },
     "metadata": {},
     "output_type": "display_data"
    }
   ],
   "source": [
    "ggb.material('VJJpYMQ2').draw()"
   ]
  },
  {
   "cell_type": "markdown",
   "metadata": {},
   "source": [
    "# Binary to Decimal\n",
    "\n",
    "### Instructions:\n",
    "1. Enter any Binary number (0-31 in decimal) using the \"For the binary\" buttons. \n",
    "2. Doing so the below buttons will lit up and put a 1 right beside the button as a multiple. \n",
    "3. Finally you will be able to see the final result at the right most side is the decimal equivalent to the given binary number.\n"
   ]
  },
  {
   "cell_type": "code",
   "execution_count": 9,
   "metadata": {},
   "outputs": [
    {
     "data": {
      "text/html": [
       "<!DOCTYPE html>\n",
       "<html>\n",
       "<head>\n",
       "<meta name=\"viewport\" content=\"width=device-width, initial-scale=1\">\n",
       "<style>\n",
       ".button {\n",
       "  padding: 15px 25px;\n",
       "  font-size: 24px;\n",
       "  text-align: center;\n",
       "  cursor: pointer;\n",
       "  outline: none;\n",
       "  color: #fff;\n",
       "  background-color: #4CAF50;\n",
       "  border: none;\n",
       "  border-radius: 15px;\n",
       "  box-shadow: 0 9px #999;\n",
       "}\n",
       "\n",
       ".button:hover {background-color: #3e8e41}\n",
       "\n",
       ".disabled {\n",
       "    opacity: 0.6;\n",
       "    cursor: not-allowed;\n",
       "}\n",
       "\n",
       ".button:active {\n",
       "  background-color: #3e8e41;\n",
       "  box-shadow: 0 5px #666;\n",
       "  transform: translateY(4px);\n",
       "}\n",
       "               \n",
       ".txtbox{\n",
       "        display: block;\n",
       "        float: left;\n",
       "        height: 50px;\n",
       "        width: 30px;\n",
       "        font-size: 24px;\n",
       "        }\n",
       "\n",
       ".new-meows{\n",
       "   padding: 10px;\n",
       "   border: 1px solid grey;\n",
       "   margin : 10px;\n",
       "   width: 97%;\n",
       "   display:flex;\n",
       " }\n",
       "               \n",
       ".divider{\n",
       "    width:10px;\n",
       "    height:auto;\n",
       "    display:inline-block;\n",
       "}\n",
       "</style>\n",
       "</head>\n",
       "<body>\n",
       "               \n",
       "\n",
       "<h1>For the binary</h1>\n",
       "\n",
       "<button id=\"card1\" onclick=\"myFunction(this.id);myFunction1(this.id, 'Decimal_card_16', 'box1');\" class= \"button\">0</button>\n",
       "<button id=\"card2\" onclick=\"myFunction(this.id);myFunction1(this.id,'Decimal_card_8', 'box2' );\" class= \"button\">0</button>\n",
       "<button id=\"card3\" onclick=\"myFunction(this.id);myFunction1(this.id,'Decimal_card_4', 'box3');\" class= \"button\">0</button>\n",
       "<button id=\"card4\" onclick=\"myFunction(this.id);myFunction1(this.id,'Decimal_card_2', 'box4');\" class= \"button\">0</button>\n",
       "<button id=\"card5\" onclick=\"myFunction(this.id);myFunction1(this.id,'Decimal_card_1', 'box5');\" class= \"button\">0</button>\n",
       "               \n",
       "<br>\n",
       "<br>\n",
       "<h1>For the Decimal</h1>\n",
       "               \n",
       "<div class = \"new-meows\">               \n",
       "<input type=\"text\" id = \"box1\" value=\"0\" class =\"txtbox\" /> <font size=\"24\" style= vertical-align: middle;>  &#215 </font>\n",
       "<div class=\"divider\"/>\n",
       "               \n",
       "<button id=\"Decimal_card_16\" class= \"button \">16</button><font size=\"24\">  + </font>\n",
       "<div class=\"divider\"/>\n",
       "<input type=\"text\" id = \"box2\"  value=\"0\" class =\"txtbox\"  /> <font size=\"24\"> &#215 </font>\n",
       "<div class=\"divider\"/>              \n",
       "<button id=\"Decimal_card_8\"  class= \"button \">8</button> <font size=\"24\">+</font>\n",
       " <div class=\"divider\"/>              \n",
       "<input type=\"text\" id = \"box3\" value=\"0\" class =\"txtbox\"  /> <font size=\"24\"> &#215 </font>\n",
       "<div class=\"divider\"/>               \n",
       "<button id=\"Decimal_card_4\"  class= \"button \">4</button><font size=\"24\">+</font> \n",
       "<div class=\"divider\"/>               \n",
       "<input type=\"text\" id = \"box4\" value=\"0\" class =\"txtbox\"  /> <font size=\"24\"> &#215 </font>\n",
       "<div class=\"divider\"/>               \n",
       "<button id=\"Decimal_card_2\"  class= \"button \">2</button><font size=\"24\">+</font> \n",
       "<div class=\"divider\"/>               \n",
       "<input type=\"text\"  id = \"box5\" value=\"0\" class =\"txtbox\"  /> <font size=\"24\"> &#215 </font>\n",
       "<div class=\"divider\"/>               \n",
       "<button id=\"Decimal_card_1\"  class= \"button \">1</button><font size=\"24\"> =</font> \n",
       "<div class=\"divider\"/>\n",
       "<input type=\"text\"  id = \"box6\" value=\"\" class =\"txtbox\"  />\n",
       "</div>  \n",
       "               \n",
       "               \n",
       "<script>\n",
       "function myFunction(clicked_id) {\n",
       "    var Button_id = document.getElementById(clicked_id);\n",
       "    if (Button_id.innerHTML === \"0\") {\n",
       "        Button_id.innerHTML = \"1\";\n",
       "    } else {\n",
       "        Button_id.innerHTML = \"0\";\n",
       "    }\n",
       "}\n",
       "</script>\n",
       "\n",
       "<script>\n",
       "               \n",
       "    function setColor(btn, color_id) {\n",
       "        var Button_id = document.getElementById(btn);\n",
       "        if (color_id == 1) {\n",
       "            Button_id.style.backgroundColor = \"#FF0000\"\n",
       "            \n",
       "                    \n",
       "        }\n",
       "        else {\n",
       "            Button_id.style.backgroundColor = \"#4CAF50\"\n",
       "            color_id = 0;\n",
       "            \n",
       "        }\n",
       "    }\n",
       "</script>\n",
       "               \n",
       "<script>\n",
       "    function setValue(box_id, txt_id) {\n",
       "        \n",
       "        document.getElementById(box_id).value = \"1\";\n",
       "          if (txt_id == 1) {\n",
       "             document.getElementById(box_id).value = \"1\";            \n",
       "                    \n",
       "        }\n",
       "        else {\n",
       "             \n",
       "            document.getElementById(box_id).value = \"0\";           \n",
       "        }\n",
       "    }\n",
       "</script>               \n",
       "\n",
       "\n",
       "<script>\n",
       "var  value1, value2, value3, value4, value5;\n",
       "var result = 0;\n",
       "function myFunction1(clicked_id, decimal_card, txt_box_no) {\n",
       "    \n",
       "\t//value1 = 0;\n",
       "\t//value2 = 0;\n",
       "\t//value3 = 0;\n",
       "\t//value4 = 0;\n",
       "\t//value5 = 0;\n",
       "    \n",
       "\n",
       "    var Button_id = document.getElementById(clicked_id);\n",
       "    if(clicked_id ===\"card1\" && Button_id.innerHTML ===\"1\"){\n",
       "         value1 = 16;\n",
       "\n",
       "         result = result + value1;\n",
       "         setColor(decimal_card, 1);\n",
       "         setValue(txt_box_no, 1);\n",
       "      \n",
       "    }\n",
       "    else if(clicked_id ===\"card1\" && Button_id.innerHTML ===\"0\"){\n",
       "        result = result - 16;\n",
       "        value1 = 0;\n",
       "        setColor(decimal_card, 0);\n",
       "        setValue(txt_box_no, 0);\n",
       "    }\n",
       "    else if(clicked_id ===\"card2\" && Button_id.innerHTML ===\"1\"){\n",
       "        value2 = 8;\n",
       "        result = result + value2;\n",
       "        setColor(decimal_card, 1);\n",
       "        setValue(txt_box_no, 1);\n",
       "    }\n",
       "     else if(clicked_id ===\"card2\" && Button_id.innerHTML ===\"0\"){\n",
       "         result = result - 8;\n",
       "         value2 = 0;\n",
       "         setColor(decimal_card, 0);\n",
       "         setValue(txt_box_no, 0);\n",
       "    }\n",
       "    else if(clicked_id ===\"card3\" && Button_id.innerHTML ===\"1\"){\n",
       "        \n",
       "        value3 = 4;\n",
       "        result = result + value3;\n",
       "        setColor(decimal_card, 1);\n",
       "        setValue(txt_box_no, 1);\n",
       "    }\n",
       "      else if(clicked_id ===\"card3\" && Button_id.innerHTML ===\"0\"){\n",
       "          \n",
       "          value3 = 0;\n",
       "          result = result - 4;\n",
       "          setColor(decimal_card, 0);\n",
       "          setValue(txt_box_no, 0);\n",
       "          \n",
       "    }\n",
       "    else if(clicked_id ===\"card4\" && Button_id.innerHTML ===\"1\"){\n",
       "         value4 = 2;\n",
       "         result = result + value4;\n",
       "         setColor(decimal_card, 1);\n",
       "         setValue(txt_box_no, 1);\n",
       "    }\n",
       "      else if(clicked_id ===\"card4\" && Button_id.innerHTML ===\"0\"){\n",
       "          value4 = 0;\n",
       "          result = result - 2;\n",
       "          setColor(decimal_card, 0);\n",
       "          setValue(txt_box_no, 0);          \n",
       "    }\n",
       "  \n",
       "    \n",
       "    else if(clicked_id ===\"card5\" && Button_id.innerHTML ===\"1\"){\n",
       "         value5 = 1;\n",
       "         result = result + value5;\n",
       "         setColor(decimal_card, 1);\n",
       "         setValue(txt_box_no, 1);\n",
       "    }\n",
       "     else if(clicked_id ===\"card5\" && Button_id.innerHTML ===\"0\"){\n",
       "         value5 = 0;\n",
       "         result = result - 1;\n",
       "         setColor(decimal_card, 0);\n",
       "         setValue(txt_box_no, 0);\n",
       "    }\n",
       "    document.getElementById(\"Result_of_binary\").innerHTML = result;\n",
       "    document.getElementById(\"box6\").value = result;\n",
       "   \n",
       "}\n",
       "\n",
       "\n",
       "\n",
       "   \n",
       "</script>   \n",
       " \n",
       "\n",
       " <h1>\"the value for Binary to decimal is: \" <span id=\"Result_of_binary\"></span></h1>       \n",
       "</body>\n",
       "               \n",
       "\n",
       "              \n",
       "</html>\n"
      ],
      "text/plain": [
       "<IPython.core.display.HTML object>"
      ]
     },
     "metadata": {},
     "output_type": "display_data"
    }
   ],
   "source": [
    "%%HTML\n",
    "<!DOCTYPE html>\n",
    "<html>\n",
    "<head>\n",
    "<meta name=\"viewport\" content=\"width=device-width, initial-scale=1\">\n",
    "<style>\n",
    ".button {\n",
    "  padding: 15px 25px;\n",
    "  font-size: 24px;\n",
    "  text-align: center;\n",
    "  cursor: pointer;\n",
    "  outline: none;\n",
    "  color: #fff;\n",
    "  background-color: #4CAF50;\n",
    "  border: none;\n",
    "  border-radius: 15px;\n",
    "  box-shadow: 0 9px #999;\n",
    "}\n",
    "\n",
    ".button:hover {background-color: #3e8e41}\n",
    "\n",
    ".disabled {\n",
    "    opacity: 0.6;\n",
    "    cursor: not-allowed;\n",
    "}\n",
    "\n",
    ".button:active {\n",
    "  background-color: #3e8e41;\n",
    "  box-shadow: 0 5px #666;\n",
    "  transform: translateY(4px);\n",
    "}\n",
    "               \n",
    ".txtbox{\n",
    "        display: block;\n",
    "        float: left;\n",
    "        height: 50px;\n",
    "        width: 30px;\n",
    "        font-size: 24px;\n",
    "        }\n",
    "\n",
    ".new-meows{\n",
    "   padding: 10px;\n",
    "   border: 1px solid grey;\n",
    "   margin : 10px;\n",
    "   width: 97%;\n",
    "   display:flex;\n",
    " }\n",
    "               \n",
    ".divider{\n",
    "    width:10px;\n",
    "    height:auto;\n",
    "    display:inline-block;\n",
    "}\n",
    "</style>\n",
    "</head>\n",
    "<body>\n",
    "               \n",
    "\n",
    "<h1>For the binary</h1>\n",
    "\n",
    "<button id=\"card1\" onclick=\"myFunction(this.id);myFunction1(this.id, 'Decimal_card_16', 'box1');\" class= \"button\">0</button>\n",
    "<button id=\"card2\" onclick=\"myFunction(this.id);myFunction1(this.id,'Decimal_card_8', 'box2' );\" class= \"button\">0</button>\n",
    "<button id=\"card3\" onclick=\"myFunction(this.id);myFunction1(this.id,'Decimal_card_4', 'box3');\" class= \"button\">0</button>\n",
    "<button id=\"card4\" onclick=\"myFunction(this.id);myFunction1(this.id,'Decimal_card_2', 'box4');\" class= \"button\">0</button>\n",
    "<button id=\"card5\" onclick=\"myFunction(this.id);myFunction1(this.id,'Decimal_card_1', 'box5');\" class= \"button\">0</button>\n",
    "               \n",
    "<br>\n",
    "<br>\n",
    "<h1>For the Decimal</h1>\n",
    "               \n",
    "<div class = \"new-meows\">               \n",
    "<input type=\"text\" id = \"box1\" value=\"0\" class =\"txtbox\" /> <font size=\"24\" style= vertical-align: middle;>  &#215 </font>\n",
    "<div class=\"divider\"/>\n",
    "               \n",
    "<button id=\"Decimal_card_16\" class= \"button \">16</button><font size=\"24\">  + </font>\n",
    "<div class=\"divider\"/>\n",
    "<input type=\"text\" id = \"box2\"  value=\"0\" class =\"txtbox\"  /> <font size=\"24\"> &#215 </font>\n",
    "<div class=\"divider\"/>              \n",
    "<button id=\"Decimal_card_8\"  class= \"button \">8</button> <font size=\"24\">+</font>\n",
    " <div class=\"divider\"/>              \n",
    "<input type=\"text\" id = \"box3\" value=\"0\" class =\"txtbox\"  /> <font size=\"24\"> &#215 </font>\n",
    "<div class=\"divider\"/>               \n",
    "<button id=\"Decimal_card_4\"  class= \"button \">4</button><font size=\"24\">+</font> \n",
    "<div class=\"divider\"/>               \n",
    "<input type=\"text\" id = \"box4\" value=\"0\" class =\"txtbox\"  /> <font size=\"24\"> &#215 </font>\n",
    "<div class=\"divider\"/>               \n",
    "<button id=\"Decimal_card_2\"  class= \"button \">2</button><font size=\"24\">+</font> \n",
    "<div class=\"divider\"/>               \n",
    "<input type=\"text\"  id = \"box5\" value=\"0\" class =\"txtbox\"  /> <font size=\"24\"> &#215 </font>\n",
    "<div class=\"divider\"/>               \n",
    "<button id=\"Decimal_card_1\"  class= \"button \">1</button><font size=\"24\"> =</font> \n",
    "<div class=\"divider\"/>\n",
    "<input type=\"text\"  id = \"box6\" value=\"\" class =\"txtbox\"  />\n",
    "</div>  \n",
    "               \n",
    "               \n",
    "<script>\n",
    "function myFunction(clicked_id) {\n",
    "    var Button_id = document.getElementById(clicked_id);\n",
    "    if (Button_id.innerHTML === \"0\") {\n",
    "        Button_id.innerHTML = \"1\";\n",
    "    } else {\n",
    "        Button_id.innerHTML = \"0\";\n",
    "    }\n",
    "}\n",
    "</script>\n",
    "\n",
    "<script>\n",
    "               \n",
    "    function setColor(btn, color_id) {\n",
    "        var Button_id = document.getElementById(btn);\n",
    "        if (color_id == 1) {\n",
    "            Button_id.style.backgroundColor = \"#FF0000\"\n",
    "            \n",
    "                    \n",
    "        }\n",
    "        else {\n",
    "            Button_id.style.backgroundColor = \"#4CAF50\"\n",
    "            color_id = 0;\n",
    "            \n",
    "        }\n",
    "    }\n",
    "</script>\n",
    "               \n",
    "<script>\n",
    "    function setValue(box_id, txt_id) {\n",
    "        \n",
    "        document.getElementById(box_id).value = \"1\";\n",
    "          if (txt_id == 1) {\n",
    "             document.getElementById(box_id).value = \"1\";            \n",
    "                    \n",
    "        }\n",
    "        else {\n",
    "             \n",
    "            document.getElementById(box_id).value = \"0\";           \n",
    "        }\n",
    "    }\n",
    "</script>               \n",
    "\n",
    "\n",
    "<script>\n",
    "var  value1, value2, value3, value4, value5;\n",
    "var result = 0;\n",
    "function myFunction1(clicked_id, decimal_card, txt_box_no) {\n",
    "    \n",
    "\t//value1 = 0;\n",
    "\t//value2 = 0;\n",
    "\t//value3 = 0;\n",
    "\t//value4 = 0;\n",
    "\t//value5 = 0;\n",
    "    \n",
    "\n",
    "    var Button_id = document.getElementById(clicked_id);\n",
    "    if(clicked_id ===\"card1\" && Button_id.innerHTML ===\"1\"){\n",
    "         value1 = 16;\n",
    "\n",
    "         result = result + value1;\n",
    "         setColor(decimal_card, 1);\n",
    "         setValue(txt_box_no, 1);\n",
    "      \n",
    "    }\n",
    "    else if(clicked_id ===\"card1\" && Button_id.innerHTML ===\"0\"){\n",
    "        result = result - 16;\n",
    "        value1 = 0;\n",
    "        setColor(decimal_card, 0);\n",
    "        setValue(txt_box_no, 0);\n",
    "    }\n",
    "    else if(clicked_id ===\"card2\" && Button_id.innerHTML ===\"1\"){\n",
    "        value2 = 8;\n",
    "        result = result + value2;\n",
    "        setColor(decimal_card, 1);\n",
    "        setValue(txt_box_no, 1);\n",
    "    }\n",
    "     else if(clicked_id ===\"card2\" && Button_id.innerHTML ===\"0\"){\n",
    "         result = result - 8;\n",
    "         value2 = 0;\n",
    "         setColor(decimal_card, 0);\n",
    "         setValue(txt_box_no, 0);\n",
    "    }\n",
    "    else if(clicked_id ===\"card3\" && Button_id.innerHTML ===\"1\"){\n",
    "        \n",
    "        value3 = 4;\n",
    "        result = result + value3;\n",
    "        setColor(decimal_card, 1);\n",
    "        setValue(txt_box_no, 1);\n",
    "    }\n",
    "      else if(clicked_id ===\"card3\" && Button_id.innerHTML ===\"0\"){\n",
    "          \n",
    "          value3 = 0;\n",
    "          result = result - 4;\n",
    "          setColor(decimal_card, 0);\n",
    "          setValue(txt_box_no, 0);\n",
    "          \n",
    "    }\n",
    "    else if(clicked_id ===\"card4\" && Button_id.innerHTML ===\"1\"){\n",
    "         value4 = 2;\n",
    "         result = result + value4;\n",
    "         setColor(decimal_card, 1);\n",
    "         setValue(txt_box_no, 1);\n",
    "    }\n",
    "      else if(clicked_id ===\"card4\" && Button_id.innerHTML ===\"0\"){\n",
    "          value4 = 0;\n",
    "          result = result - 2;\n",
    "          setColor(decimal_card, 0);\n",
    "          setValue(txt_box_no, 0);          \n",
    "    }\n",
    "  \n",
    "    \n",
    "    else if(clicked_id ===\"card5\" && Button_id.innerHTML ===\"1\"){\n",
    "         value5 = 1;\n",
    "         result = result + value5;\n",
    "         setColor(decimal_card, 1);\n",
    "         setValue(txt_box_no, 1);\n",
    "    }\n",
    "     else if(clicked_id ===\"card5\" && Button_id.innerHTML ===\"0\"){\n",
    "         value5 = 0;\n",
    "         result = result - 1;\n",
    "         setColor(decimal_card, 0);\n",
    "         setValue(txt_box_no, 0);\n",
    "    }\n",
    "    document.getElementById(\"Result_of_binary\").innerHTML = result;\n",
    "    document.getElementById(\"box6\").value = result;\n",
    "   \n",
    "}\n",
    "\n",
    "\n",
    "\n",
    "   \n",
    "</script>   \n",
    " \n",
    "\n",
    " <h1>\"the value for Binary to decimal is: \" <span id=\"Result_of_binary\"></span></h1>       \n",
    "</body>\n",
    "               \n",
    "\n",
    "              \n",
    "</html>\n",
    "\n"
   ]
  },
  {
   "cell_type": "markdown",
   "metadata": {},
   "source": [
    "## Practice Questions\n",
    "\n",
    "Now that you've seen a few examples, it's time to try some on your own. But remember: two problems worth of practice is not enough to master this skill. Make sure you take the time to work through additional problems from your teacher or textbook.\n",
    "### Convert the following Decimal Numbers to binary\n",
    "##### Question 1\n",
    "$(57)_{10} = (A)_2$\n",
    "##### Question 2\n",
    "$(79)_{10} = (B)_2$\n",
    "##### Question 3\n",
    "$(39)_{10} = (C)_2$"
   ]
  },
  {
   "cell_type": "code",
   "execution_count": 10,
   "metadata": {},
   "outputs": [
    {
     "data": {
      "application/vnd.jupyter.widget-view+json": {
       "model_id": "7c3a007800af4c0a9dd54f52c212c8e3",
       "version_major": 2,
       "version_minor": 0
      },
      "text/html": [
       "<p>Failed to display Jupyter Widget of type <code>IntText</code>.</p>\n",
       "<p>\n",
       "  If you're reading this message in the Jupyter Notebook or JupyterLab Notebook, it may mean\n",
       "  that the widgets JavaScript is still loading. If this message persists, it\n",
       "  likely means that the widgets JavaScript library is either not installed or\n",
       "  not enabled. See the <a href=\"https://ipywidgets.readthedocs.io/en/stable/user_install.html\">Jupyter\n",
       "  Widgets Documentation</a> for setup instructions.\n",
       "</p>\n",
       "<p>\n",
       "  If you're reading this message in another frontend (for example, a static\n",
       "  rendering on GitHub or <a href=\"https://nbviewer.jupyter.org/\">NBViewer</a>),\n",
       "  it may mean that your frontend doesn't currently support widgets.\n",
       "</p>\n"
      ],
      "text/plain": [
       "IntText(value=0, description='A =')"
      ]
     },
     "metadata": {},
     "output_type": "display_data"
    }
   ],
   "source": [
    "import matplotlib.pyplot as plt\n",
    "import ipywidgets as widgets\n",
    "import IPython\n",
    "a = widgets.IntText(value=0, description='A =', disabled=False)\n",
    "\n",
    "IPython.display.display(a)\n",
    "def check(q):\n",
    "    IPython.display.clear_output(wait=False)\n",
    "    IPython.display.display(a)\n",
    "    if a.value == 111001:\n",
    "        print(\"That's right! Great work!\")\n",
    "    else:\n",
    "        if a.value == 0:\n",
    "            pass\n",
    "        else:\n",
    "            print(\"Sorry, try again or practice some more using the tools above\")\n",
    "\n",
    "a.observe(check, 'value')\n",
    "\n",
    "\n"
   ]
  },
  {
   "cell_type": "code",
   "execution_count": 11,
   "metadata": {},
   "outputs": [
    {
     "data": {
      "text/html": [
       "<html>\n",
       "<head>\n",
       "<script type=\"text/javascript\">\n",
       "<!--\n",
       "function toggle(id) {\n",
       "var e = document.getElementById(id);\n",
       "if(e.style.display == 'none')\n",
       "e.style.display = 'block';\n",
       "else\n",
       "e.style.display = 'none';\n",
       "}\n",
       "//-->\n",
       "</script>\n",
       "</head>\n",
       "\n",
       "<body>\n",
       "<div id=\"question1\">\n",
       "Solution Question 1.  <button id = \"A\"\n",
       "onclick=\"toggle('answer1');\">Click Here</button> to see the answer.\n",
       "</div>\n",
       "<div style=\"display:none\" id=\"answer1\">\n",
       "As $64(2^6)$ is closest power of 2 for 57, so there will be atleast 6 digits for binary. <br />\n",
       "\n",
       "the first step : 57 - 32 = 25  <br />\n",
       "the next step : 25 - 16 = 9  <br />\n",
       "the next step : 9 - 8 = 1  <br />\n",
       "the last step : 1 - 1 = 0  <br />\n",
       "so, the solution is: <br /> $1*32+ 1*16+ 1*8+ 0*4 + 0*2 + 1*1 $= $(111001)_2$\n",
       "</div>"
      ],
      "text/plain": [
       "<IPython.core.display.HTML object>"
      ]
     },
     "metadata": {},
     "output_type": "display_data"
    }
   ],
   "source": [
    "%%html\n",
    "<html>\n",
    "<head>\n",
    "<script type=\"text/javascript\">\n",
    "<!--\n",
    "function toggle(id) {\n",
    "var e = document.getElementById(id);\n",
    "if(e.style.display == 'none')\n",
    "e.style.display = 'block';\n",
    "else\n",
    "e.style.display = 'none';\n",
    "}\n",
    "//-->\n",
    "</script>\n",
    "</head>\n",
    "\n",
    "<body>\n",
    "<div id=\"question1\">\n",
    "Solution Question 1.  <button id = \"A\"\n",
    "onclick=\"toggle('answer1');\">Click Here</button> to see the answer.\n",
    "</div>\n",
    "<div style=\"display:none\" id=\"answer1\">\n",
    "As $64(2^6)$ is closest power of 2 for 57, so there will be atleast 6 digits for binary. <br />\n",
    "\n",
    "the first step : 57 - 32 = 25  <br />\n",
    "the next step : 25 - 16 = 9  <br />\n",
    "the next step : 9 - 8 = 1  <br />\n",
    "the last step : 1 - 1 = 0  <br />\n",
    "so, the solution is: <br /> $1*32+ 1*16+ 1*8+ 0*4 + 0*2 + 1*1 $= $(111001)_2$\n",
    "</div>"
   ]
  },
  {
   "cell_type": "code",
   "execution_count": 12,
   "metadata": {},
   "outputs": [
    {
     "data": {
      "application/vnd.jupyter.widget-view+json": {
       "model_id": "59089c4db6294ebd830937e52f30ffaa",
       "version_major": 2,
       "version_minor": 0
      },
      "text/html": [
       "<p>Failed to display Jupyter Widget of type <code>IntText</code>.</p>\n",
       "<p>\n",
       "  If you're reading this message in the Jupyter Notebook or JupyterLab Notebook, it may mean\n",
       "  that the widgets JavaScript is still loading. If this message persists, it\n",
       "  likely means that the widgets JavaScript library is either not installed or\n",
       "  not enabled. See the <a href=\"https://ipywidgets.readthedocs.io/en/stable/user_install.html\">Jupyter\n",
       "  Widgets Documentation</a> for setup instructions.\n",
       "</p>\n",
       "<p>\n",
       "  If you're reading this message in another frontend (for example, a static\n",
       "  rendering on GitHub or <a href=\"https://nbviewer.jupyter.org/\">NBViewer</a>),\n",
       "  it may mean that your frontend doesn't currently support widgets.\n",
       "</p>\n"
      ],
      "text/plain": [
       "IntText(value=0, description='B =')"
      ]
     },
     "metadata": {},
     "output_type": "display_data"
    }
   ],
   "source": [
    "b = widgets.IntText(value=0, description='B =', disabled=False)\n",
    "IPython.display.display(b)\n",
    "def check(q):\n",
    "    IPython.display.clear_output(wait=False)\n",
    "    IPython.display.display(b)\n",
    "    if b.value == 1001111:\n",
    "        print(\"That's right! Great work!\")\n",
    "    else:\n",
    "        if b.value == 0:\n",
    "            pass\n",
    "        else:\n",
    "            print(\"Sorry, try again or practice some more using the tools above\")\n",
    "\n",
    "b.observe(check, 'value')\n",
    "\n"
   ]
  },
  {
   "cell_type": "code",
   "execution_count": 13,
   "metadata": {},
   "outputs": [
    {
     "data": {
      "text/html": [
       "<html>\n",
       "<body>\n",
       "<div id=\"question2\">\n",
       "Solution Question 2.  <button id = \"B\"\n",
       "onclick=\"toggle('answer2');\">Click Here</button> to see the answer.\n",
       "</div>\n",
       "<div style=\"display:none\" id=\"answer2\">\n",
       "As $128(2^7)$ is closest power of 2 for 79, so there will be atleast 7 digits for binary. <br />\n",
       "\n",
       "the first step : 79 - 64 = 15 <br />\n",
       "the next step : 15 - 8 = 7 <br />\n",
       "the next step : 7 - 4 = 3 <br />\n",
       "the next step : 3 - 2 = 1 <br />\n",
       "the last step : 1 - 1 = 0 <br />\n",
       "so, the solution is: <br /> $1*64+ 0*32+ 0*16+ 1*8+ 1*4 + 1*2 + 1*1 $= $(1001111)_2$\n",
       "</div>\n",
       "\n",
       "\n",
       "</body>\n",
       "</html>"
      ],
      "text/plain": [
       "<IPython.core.display.HTML object>"
      ]
     },
     "metadata": {},
     "output_type": "display_data"
    }
   ],
   "source": [
    "%%html\n",
    "<html>\n",
    "<body>\n",
    "<div id=\"question2\">\n",
    "Solution Question 2.  <button id = \"B\"\n",
    "onclick=\"toggle('answer2');\">Click Here</button> to see the answer.\n",
    "</div>\n",
    "<div style=\"display:none\" id=\"answer2\">\n",
    "As $128(2^7)$ is closest power of 2 for 79, so there will be atleast 7 digits for binary. <br />\n",
    "\n",
    "the first step : 79 - 64 = 15 <br />\n",
    "the next step : 15 - 8 = 7 <br />\n",
    "the next step : 7 - 4 = 3 <br />\n",
    "the next step : 3 - 2 = 1 <br />\n",
    "the last step : 1 - 1 = 0 <br />\n",
    "so, the solution is: <br /> $1*64+ 0*32+ 0*16+ 1*8+ 1*4 + 1*2 + 1*1 $= $(1001111)_2$\n",
    "</div>\n",
    "\n",
    "\n",
    "</body>\n",
    "</html>"
   ]
  },
  {
   "cell_type": "code",
   "execution_count": 14,
   "metadata": {},
   "outputs": [
    {
     "data": {
      "application/vnd.jupyter.widget-view+json": {
       "model_id": "6279800f12ff4b35808a67a8a4fcd730",
       "version_major": 2,
       "version_minor": 0
      },
      "text/html": [
       "<p>Failed to display Jupyter Widget of type <code>IntText</code>.</p>\n",
       "<p>\n",
       "  If you're reading this message in the Jupyter Notebook or JupyterLab Notebook, it may mean\n",
       "  that the widgets JavaScript is still loading. If this message persists, it\n",
       "  likely means that the widgets JavaScript library is either not installed or\n",
       "  not enabled. See the <a href=\"https://ipywidgets.readthedocs.io/en/stable/user_install.html\">Jupyter\n",
       "  Widgets Documentation</a> for setup instructions.\n",
       "</p>\n",
       "<p>\n",
       "  If you're reading this message in another frontend (for example, a static\n",
       "  rendering on GitHub or <a href=\"https://nbviewer.jupyter.org/\">NBViewer</a>),\n",
       "  it may mean that your frontend doesn't currently support widgets.\n",
       "</p>\n"
      ],
      "text/plain": [
       "IntText(value=0, description='C =')"
      ]
     },
     "metadata": {},
     "output_type": "display_data"
    }
   ],
   "source": [
    "c = widgets.IntText(value=0, description='C =', disabled=False)\n",
    "IPython.display.display(c)\n",
    "def check(q):\n",
    "    IPython.display.clear_output(wait=False)\n",
    "    IPython.display.display(c)\n",
    "    if c.value == 100111:\n",
    "        print(\"That's right! Great work!\")\n",
    "    else:\n",
    "        if c.value == 0:\n",
    "            pass\n",
    "        else:\n",
    "            print(\"Sorry, try again or practice some more using the tools above\")\n",
    "\n",
    "c.observe(check, 'value')"
   ]
  },
  {
   "cell_type": "code",
   "execution_count": 15,
   "metadata": {},
   "outputs": [
    {
     "data": {
      "text/html": [
       "<html>\n",
       "<body>\n",
       "<div id=\"question3\">\n",
       "Solution Question 3. <button id = \"C\"\n",
       "onclick=\"toggle('answer3');\">Click Here</button> to see the answer.\n",
       "</div>\n",
       "<div style=\"display:none\" id=\"answer3\">\n",
       "As $64(2^6)$ is closest power of 2 for 39, so there will be atleast 6 digits for binary. <br />\n",
       "the first step : 39 - 32 = 7 <br />\n",
       "the next step : 7 - 4 = 3 <br />\n",
       "the next step : 3 - 2 = 1 <br />\n",
       "the last step : 1 - 1 = 0 <br />\n",
       "so, the solution is: <br /> $1*32+ 0*16+ 0*8+ 1*4 + 1*2 + 1*1 $= $(100111)_2$\n",
       "</div>\n",
       "\n",
       "\n",
       "</body>\n",
       "</html>"
      ],
      "text/plain": [
       "<IPython.core.display.HTML object>"
      ]
     },
     "metadata": {},
     "output_type": "display_data"
    }
   ],
   "source": [
    "%%html\n",
    "<html>\n",
    "<body>\n",
    "<div id=\"question3\">\n",
    "Solution Question 3. <button id = \"C\"\n",
    "onclick=\"toggle('answer3');\">Click Here</button> to see the answer.\n",
    "</div>\n",
    "<div style=\"display:none\" id=\"answer3\">\n",
    "As $64(2^6)$ is closest power of 2 for 39, so there will be atleast 6 digits for binary. <br />\n",
    "the first step : 39 - 32 = 7 <br />\n",
    "the next step : 7 - 4 = 3 <br />\n",
    "the next step : 3 - 2 = 1 <br />\n",
    "the last step : 1 - 1 = 0 <br />\n",
    "so, the solution is: <br /> $1*32+ 0*16+ 0*8+ 1*4 + 1*2 + 1*1 $= $(100111)_2$\n",
    "</div>\n",
    "\n",
    "\n",
    "</body>\n",
    "</html>"
   ]
  },
  {
   "cell_type": "code",
   "execution_count": null,
   "metadata": {},
   "outputs": [],
   "source": []
  },
  {
   "cell_type": "markdown",
   "metadata": {},
   "source": [
    "### Convert the following Binary Numbers to Decimal\n",
    "##### Question 4\n",
    "$(10101)_{2} = (D)_{10}$\n",
    "##### Question 5\n",
    "$(01111)_{2} = (E)_{10}$\n",
    "##### Question 6\n",
    "$(100100)_{2} = (F)_{10}$"
   ]
  },
  {
   "cell_type": "code",
   "execution_count": 16,
   "metadata": {},
   "outputs": [
    {
     "data": {
      "application/vnd.jupyter.widget-view+json": {
       "model_id": "1e41c59961184c1b82759ca38c3dd4b6",
       "version_major": 2,
       "version_minor": 0
      },
      "text/html": [
       "<p>Failed to display Jupyter Widget of type <code>IntText</code>.</p>\n",
       "<p>\n",
       "  If you're reading this message in the Jupyter Notebook or JupyterLab Notebook, it may mean\n",
       "  that the widgets JavaScript is still loading. If this message persists, it\n",
       "  likely means that the widgets JavaScript library is either not installed or\n",
       "  not enabled. See the <a href=\"https://ipywidgets.readthedocs.io/en/stable/user_install.html\">Jupyter\n",
       "  Widgets Documentation</a> for setup instructions.\n",
       "</p>\n",
       "<p>\n",
       "  If you're reading this message in another frontend (for example, a static\n",
       "  rendering on GitHub or <a href=\"https://nbviewer.jupyter.org/\">NBViewer</a>),\n",
       "  it may mean that your frontend doesn't currently support widgets.\n",
       "</p>\n"
      ],
      "text/plain": [
       "IntText(value=0, description='D =')"
      ]
     },
     "metadata": {},
     "output_type": "display_data"
    }
   ],
   "source": [
    "d = widgets.IntText(value=0, description='D =', disabled=False)\n",
    "IPython.display.display(d)\n",
    "def check(q):\n",
    "    IPython.display.clear_output(wait=False)\n",
    "    IPython.display.display(d)\n",
    "    if d.value == 21:\n",
    "        print(\"That's right! Great work!\")\n",
    "    else:\n",
    "        if d.value == 0:\n",
    "            pass\n",
    "        else:\n",
    "            print(\"Sorry, try again or practice some more using the tools above\")\n",
    "\n",
    "d.observe(check, 'value')"
   ]
  },
  {
   "cell_type": "code",
   "execution_count": 17,
   "metadata": {},
   "outputs": [
    {
     "data": {
      "text/html": [
       "<html>\n",
       "<body>\n",
       "<div id=\"question3\">\n",
       "Solution Question 3. <button id = \"C\"\n",
       "onclick=\"toggle('answer3');\">Click Here</button> to see the answer.\n",
       "</div>\n",
       "<div style=\"display:none\" id=\"answer3\">\n",
       "As $64(2^6)$ is closest power of 2 for 39, so there will be atleast 6 digits for binary. <br />\n",
       "the first step : 39 - 32 = 7 <br />\n",
       "the next step : 7 - 4 = 3 <br />\n",
       "the next step : 3 - 2 = 1 <br />\n",
       "the last step : 1 - 1 = 0 <br />\n",
       "so, the solution is: <br /> $1*32+ 0*16+ 0*8+ 1*4 + 1*2 + 1*1 $= $(100111)_2$\n",
       "</div>\n",
       "\n",
       "\n",
       "</body>\n",
       "</html>"
      ],
      "text/plain": [
       "<IPython.core.display.HTML object>"
      ]
     },
     "metadata": {},
     "output_type": "display_data"
    }
   ],
   "source": [
    "%%html\n",
    "<html>\n",
    "<body>\n",
    "<div id=\"question3\">\n",
    "Solution Question 3. <button id = \"C\"\n",
    "onclick=\"toggle('answer3');\">Click Here</button> to see the answer.\n",
    "</div>\n",
    "<div style=\"display:none\" id=\"answer3\">\n",
    "As $64(2^6)$ is closest power of 2 for 39, so there will be atleast 6 digits for binary. <br />\n",
    "the first step : 39 - 32 = 7 <br />\n",
    "the next step : 7 - 4 = 3 <br />\n",
    "the next step : 3 - 2 = 1 <br />\n",
    "the last step : 1 - 1 = 0 <br />\n",
    "so, the solution is: <br /> $1*32+ 0*16+ 0*8+ 1*4 + 1*2 + 1*1 $= $(100111)_2$\n",
    "</div>\n",
    "\n",
    "\n",
    "</body>\n",
    "</html>"
   ]
  },
  {
   "cell_type": "code",
   "execution_count": 18,
   "metadata": {},
   "outputs": [
    {
     "data": {
      "application/vnd.jupyter.widget-view+json": {
       "model_id": "d8a4f577cb4a49feadfc89644db7f607",
       "version_major": 2,
       "version_minor": 0
      },
      "text/html": [
       "<p>Failed to display Jupyter Widget of type <code>IntText</code>.</p>\n",
       "<p>\n",
       "  If you're reading this message in the Jupyter Notebook or JupyterLab Notebook, it may mean\n",
       "  that the widgets JavaScript is still loading. If this message persists, it\n",
       "  likely means that the widgets JavaScript library is either not installed or\n",
       "  not enabled. See the <a href=\"https://ipywidgets.readthedocs.io/en/stable/user_install.html\">Jupyter\n",
       "  Widgets Documentation</a> for setup instructions.\n",
       "</p>\n",
       "<p>\n",
       "  If you're reading this message in another frontend (for example, a static\n",
       "  rendering on GitHub or <a href=\"https://nbviewer.jupyter.org/\">NBViewer</a>),\n",
       "  it may mean that your frontend doesn't currently support widgets.\n",
       "</p>\n"
      ],
      "text/plain": [
       "IntText(value=0, description='E =')"
      ]
     },
     "metadata": {},
     "output_type": "display_data"
    }
   ],
   "source": [
    "e = widgets.IntText(value=0, description='E =', disabled=False)\n",
    "IPython.display.display(e)\n",
    "def check(q):\n",
    "    IPython.display.clear_output(wait=False)\n",
    "    IPython.display.display(e)\n",
    "    if e.value == 15:\n",
    "        print(\"That's right! Great work!\")\n",
    "    else:\n",
    "        if e.value == 0:\n",
    "            pass\n",
    "        else:\n",
    "            print(\"Sorry, try again or practice some more using the tools above\")\n",
    "\n",
    "e.observe(check, 'value')"
   ]
  },
  {
   "cell_type": "code",
   "execution_count": 19,
   "metadata": {},
   "outputs": [
    {
     "data": {
      "text/html": [
       "<html>\n",
       "<body>\n",
       "<div id=\"question4\">\n",
       "Solution Question 4.  <button id = \"D\"\n",
       "onclick=\"toggle('answer4');\">Click Here</button> to see the answer.\n",
       "</div>\n",
       "<div style=\"display:none\" id=\"answer4\">\n",
       "$(10101)_2 = 1 * 2^{4} + 0 * 2^{3} + 1 * 2^{2} + 0* 2{1} + 1*2{0}$ <br />  &emsp; &emsp; &emsp; &emsp;\n",
       "           = $1*16+ 0*8+ 1*4 + 0*2 + 1*1$ <br /> &emsp; &emsp; &emsp; &emsp;\n",
       "           = $(21)_{10}$ <br />\n",
       "\n",
       "</div>\n",
       "\n",
       "</body>\n",
       "</html>"
      ],
      "text/plain": [
       "<IPython.core.display.HTML object>"
      ]
     },
     "metadata": {},
     "output_type": "display_data"
    }
   ],
   "source": [
    "%%html\n",
    "<html>\n",
    "<body>\n",
    "<div id=\"question4\">\n",
    "Solution Question 4.  <button id = \"D\"\n",
    "onclick=\"toggle('answer4');\">Click Here</button> to see the answer.\n",
    "</div>\n",
    "<div style=\"display:none\" id=\"answer4\">\n",
    "$(10101)_2 = 1 * 2^{4} + 0 * 2^{3} + 1 * 2^{2} + 0* 2{1} + 1*2{0}$ <br />  &emsp; &emsp; &emsp; &emsp;\n",
    "           = $1*16+ 0*8+ 1*4 + 0*2 + 1*1$ <br /> &emsp; &emsp; &emsp; &emsp;\n",
    "           = $(21)_{10}$ <br />\n",
    "\n",
    "</div>\n",
    "\n",
    "</body>\n",
    "</html>"
   ]
  },
  {
   "cell_type": "code",
   "execution_count": 20,
   "metadata": {},
   "outputs": [
    {
     "data": {
      "application/vnd.jupyter.widget-view+json": {
       "model_id": "b48a8f381a8e4e32bd9d1c08e12bc2c1",
       "version_major": 2,
       "version_minor": 0
      },
      "text/html": [
       "<p>Failed to display Jupyter Widget of type <code>IntText</code>.</p>\n",
       "<p>\n",
       "  If you're reading this message in the Jupyter Notebook or JupyterLab Notebook, it may mean\n",
       "  that the widgets JavaScript is still loading. If this message persists, it\n",
       "  likely means that the widgets JavaScript library is either not installed or\n",
       "  not enabled. See the <a href=\"https://ipywidgets.readthedocs.io/en/stable/user_install.html\">Jupyter\n",
       "  Widgets Documentation</a> for setup instructions.\n",
       "</p>\n",
       "<p>\n",
       "  If you're reading this message in another frontend (for example, a static\n",
       "  rendering on GitHub or <a href=\"https://nbviewer.jupyter.org/\">NBViewer</a>),\n",
       "  it may mean that your frontend doesn't currently support widgets.\n",
       "</p>\n"
      ],
      "text/plain": [
       "IntText(value=0, description='F =')"
      ]
     },
     "metadata": {},
     "output_type": "display_data"
    }
   ],
   "source": [
    "f = widgets.IntText(value=0, description='F =', disabled=False)\n",
    "IPython.display.display(f)\n",
    "def check(q):\n",
    "    IPython.display.clear_output(wait=False)\n",
    "    IPython.display.display(f)\n",
    "    if f.value == 36:\n",
    "        print(\"That's right! Great work!\")\n",
    "    else:\n",
    "        if f.value == 0:\n",
    "            pass\n",
    "        else:\n",
    "            print(\"Sorry, try again or practice some more using the tools above\")\n",
    "\n",
    "f.observe(check, 'value')"
   ]
  },
  {
   "cell_type": "code",
   "execution_count": 21,
   "metadata": {},
   "outputs": [
    {
     "data": {
      "text/html": [
       "<html>\n",
       "<body>\n",
       "<div id=\"question6\">\n",
       "Solution Question 6. <button id = \"D\"\n",
       "onclick=\"toggle('answer6');\">Click Here</button> to see the answer.\n",
       "</div>\n",
       "<div style=\"display:none\" id=\"answer6\">\n",
       "$(100100)_2 = 1 * 2^{5} + 0 * 2^{4} + 0 * 2^{3} + 1 * 2^{2} + 0* 2{1} + 1*2{0}$ <br />  &emsp; &emsp; &emsp; &emsp;\n",
       "           = $1*32+ 0*16+ 0*8+ 1*4 + 0*2 + 0*1$ <br /> &emsp; &emsp; &emsp; &emsp;\n",
       "           = $(36)_{10}$\n",
       "</div>\n",
       "\n",
       "</body>\n",
       "</html>"
      ],
      "text/plain": [
       "<IPython.core.display.HTML object>"
      ]
     },
     "metadata": {},
     "output_type": "display_data"
    }
   ],
   "source": [
    "%%html\n",
    "<html>\n",
    "<body>\n",
    "<div id=\"question6\">\n",
    "Solution Question 6. <button id = \"D\"\n",
    "onclick=\"toggle('answer6');\">Click Here</button> to see the answer.\n",
    "</div>\n",
    "<div style=\"display:none\" id=\"answer6\">\n",
    "$(100100)_2 = 1 * 2^{5} + 0 * 2^{4} + 0 * 2^{3} + 1 * 2^{2} + 0* 2{1} + 1*2{0}$ <br />  &emsp; &emsp; &emsp; &emsp;\n",
    "           = $1*32+ 0*16+ 0*8+ 1*4 + 0*2 + 0*1$ <br /> &emsp; &emsp; &emsp; &emsp;\n",
    "           = $(36)_{10}$\n",
    "</div>\n",
    "\n",
    "</body>\n",
    "</html>"
   ]
  },
  {
   "cell_type": "code",
   "execution_count": null,
   "metadata": {},
   "outputs": [],
   "source": []
  },
  {
   "cell_type": "markdown",
   "metadata": {},
   "source": [
    "## Conclusion"
   ]
  },
  {
   "cell_type": "markdown",
   "metadata": {},
   "source": [
    "Numbers themselves are abstract mathematical concepts that can be represented in lots of different ways including decimal, binary, Roman numerals, English, and so on.\n",
    "\n",
    "Digital computers typically use two states rather than more because:\n",
    "\n",
    "* It is usually easy to distinguish two states;\n",
    "* Two is enough to represent anything you like as a sequence of bits; and\n",
    "* Computers don't mind long sequences (whereas Humans prefer patterns).\n",
    "\n",
    "So as we are living in digital era surrounded by machines, we must learn how machine understands the living world."
   ]
  },
  {
   "cell_type": "markdown",
   "metadata": {},
   "source": [
    "![alt text][bottom-banner]\n",
    "\n",
    "[bottom-banner]: ./callysto-bottom-banner.jpg"
   ]
  },
  {
   "cell_type": "code",
   "execution_count": null,
   "metadata": {},
   "outputs": [],
   "source": []
  }
 ],
 "metadata": {
  "kernelspec": {
   "display_name": "Python 3",
   "language": "python",
   "name": "python3"
  },
  "language_info": {
   "codemirror_mode": {
    "name": "ipython",
    "version": 3
   },
   "file_extension": ".py",
   "mimetype": "text/x-python",
   "name": "python",
   "nbconvert_exporter": "python",
   "pygments_lexer": "ipython3",
   "version": "3.6.5"
  }
 },
 "nbformat": 4,
 "nbformat_minor": 2
}
