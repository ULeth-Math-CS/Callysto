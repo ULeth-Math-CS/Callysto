{
 "cells": [
  {
   "cell_type": "markdown",
   "metadata": {},
   "source": [
    "![alt text][top-banner]\n",
    "\n",
    "[top-banner]: ./callysto-top-banner.jpg"
   ]
  },
  {
   "cell_type": "code",
   "execution_count": 1,
   "metadata": {},
   "outputs": [
    {
     "data": {
      "text/html": [
       "\n",
       "<script>\n",
       " function code_toggle() {\n",
       "   if (code_shown){\n",
       "     $('div.input').hide('500');\n",
       "     $('#toggleButton').val('Show Code')\n",
       "   } else {\n",
       "     $('div.input').show('500');\n",
       "     $('#toggleButton').val('Hide Code')\n",
       "   }\n",
       "   code_shown = !code_shown\n",
       " }\n",
       "\n",
       " $( document ).ready(function(){\n",
       "   code_shown=false;\n",
       "   $('div.input').hide()\n",
       " });\n",
       "</script>\n",
       "<form action=\"javascript:code_toggle()\"><input type=\"submit\" id=\"toggleButton\" value=\"Show Code\"></form>"
      ],
      "text/plain": [
       "<IPython.core.display.HTML object>"
      ]
     },
     "metadata": {},
     "output_type": "display_data"
    }
   ],
   "source": [
    "%%html\n",
    "\n",
    "<script>\n",
    " function code_toggle() {\n",
    "   if (code_shown){\n",
    "     $('div.input').hide('500');\n",
    "     $('#toggleButton').val('Show Code')\n",
    "   } else {\n",
    "     $('div.input').show('500');\n",
    "     $('#toggleButton').val('Hide Code')\n",
    "   }\n",
    "   code_shown = !code_shown\n",
    " }\n",
    "\n",
    " $( document ).ready(function(){\n",
    "   code_shown=false;\n",
    "   $('div.input').hide()\n",
    " });\n",
    "</script>\n",
    "<form action=\"javascript:code_toggle()\"><input type=\"submit\" id=\"toggleButton\" value=\"Show Code\"></form>"
   ]
  },
  {
   "cell_type": "code",
   "execution_count": 2,
   "metadata": {},
   "outputs": [],
   "source": [
    "import numpy as np\n",
    "import matplotlib.mlab as mlab\n",
    "import matplotlib.pyplot as plt\n",
    "from ipywidgets import interact, widgets, Button, Layout\n",
    "\n",
    "from scipy import stats\n",
    "from collections import Counter\n",
    "from array import array\n",
    "from statistics import mode\n",
    "import IPython\n",
    "from IPython.display import Image\n",
    "import pandas\n",
    "\n",
    "from ggb import *\n"
   ]
  },
  {
   "cell_type": "markdown",
   "metadata": {},
   "source": [
    "# Math Puzzle: Counting triangles\n",
    "In this notebook we explore two methods for counting total number of triangles in a pentagon. \n",
    "<br> Organization of the notebook: \n",
    " * In the next section, we discuss about the preliminaries of the problem.\n",
    " * Section 2 represents the counting triangles animation in a pentagon.\n",
    " * In section 3, we present an alternate method to count triangles in a pentagon.\n",
    " * Section 4 concludes the notebook with some exercises. "
   ]
  },
  {
   "cell_type": "markdown",
   "metadata": {},
   "source": [
    "## 1 Preliminaries\n",
    "Let consider a pentagon $ABCDE.$ If we connect $B$ and $E$ then we can divide the pentagon into a triangle $ABE$ and a rectangle $BCDE$. So, our preliminaries discussion will be bound to count triangles in triangle and rectangle. \n",
    "<img src=\"CC143_materials/pentaExample.png\">\n",
    "\n",
    "### 1.1 Triangles in a triangle\n",
    "Let consider a triangle $ABC$. First, we draw a line $AD$ from $A$ to $BC$ as shown in the following figure . So, we can see that there are two triangles: $ABD$ and $ACD.$ Actually in this picture there are three different triangles. Let us count the triangles in the triangle $ABC.$ \n",
    "<img src=\"CC143_materials/exm1.png\">\n"
   ]
  },
  {
   "cell_type": "markdown",
   "metadata": {},
   "source": [
    "* Triangle $ABD,$\n",
    "* Triangle $ACD,$ and \n",
    "* Triangle $ABC$\n",
    "\n",
    "Now consider we draw two lines $AD$ and $AE$ from the same point $A$ to the same line $BC.$ \n",
    "<img src=\"CC143_materials/exm2.png\">\n",
    "\n",
    "Let us find the all triangles for this scenario. \n",
    "Triangles: \n",
    "* At first step, consider all smaller triangles. From the figure we can see that the large triangle $ABC$ consists of three small triangles: $ABD, ADE, ACE$\n",
    "* Second step: try to merge two small triangles to make a larger triangle. For example, if we merge triangle $ABD$ with $ADE$ then we find $ABE$. Similarly, we find $ACD$. \n",
    "* Third step: join three small triangles to generate larger one. Merging all three small triangles we find triangle $ABC.$ \n",
    "So we have 6 triangles in total. \n",
    "\n",
    "Now if we add one more line $AF$ from $A$ to line $BC$, then there will be ten triangles. Draw the triangle $ABC$ and count the triangles. <br>\n",
    "\n",
    "Let us find a pattern to count triangles in easier way. As you can see from the first figure that when the line $AD$ makes two triangles and we labeld them as $1$ and $2$, the total number of triangles was $3 \\; (= 1 + 2)$. In later example, the total number of traingles we counted: $6 \\; (= 1 + 2 + 3).$ <br>\n",
    "So, if we have three lines from $A$ to line $BC$ that means four small triangles we have $10 \\; (= 1 + 2 + 3 + 4) $ triangles. <br>\n",
    "\n",
    "This is called triangular method and the formulae is: $\\frac{n \\times (n+1)}{2}$, where $n$ is the number of small triangles in a triangle. So now calcualte the total number of triangles in the triangle ABC if there are $99$ lines drawn from $A$ to $BC$. \n",
    "\n",
    "For better understanding consider the following animation. Change the slider value of $n$ and observe the counting of triangles. \n"
   ]
  },
  {
   "cell_type": "code",
   "execution_count": 3,
   "metadata": {
    "scrolled": true
   },
   "outputs": [
    {
     "data": {
      "application/javascript": [
       "\n",
       "            require.config({\n",
       "                paths: {\n",
       "                    ggb: \"https://cdn.geogebra.org/apps/deployggb\"\n",
       "                }\n",
       "            });\n",
       "\n",
       "            require([\"ggb\"]);\n",
       "        "
      ],
      "text/plain": [
       "<IPython.core.display.Javascript object>"
      ]
     },
     "metadata": {},
     "output_type": "display_data"
    },
    {
     "data": {
      "text/html": [
       "<div id=\"ggb_0_0e\"></div>"
      ],
      "text/plain": [
       "<IPython.core.display.HTML object>"
      ]
     },
     "metadata": {},
     "output_type": "display_data"
    },
    {
     "data": {
      "application/javascript": [
       "var ggb_0_0e = new GGBApplet({\"filename\": \"CC143_materials/triangleAnimation.ggb\"}, \"ggb_0_0e\", false); ggb_0_0e.inject(); "
      ],
      "text/plain": [
       "<IPython.core.display.Javascript object>"
      ]
     },
     "metadata": {},
     "output_type": "display_data"
    }
   ],
   "source": [
    " ggb = GGB()\n",
    "ggb.file('CC143_materials/triangleAnimation.ggb').draw()"
   ]
  },
  {
   "cell_type": "markdown",
   "metadata": {},
   "source": [
    "### 1.2 Triangles in a rectangle\n",
    "\n",
    "To determine the number of triangles in a rectangle, at first label every small triangle starts with $1$. The total number of triangles will be the double of highest labelling number. For example, consider a rectangle ABCD, where evertex is connected with each other. If we start to label the smaller triangles from $1$ we end up with four triangles. So, the total number of triangles is $4 \\times 2 = 8$. Now, play with the following animation.\n"
   ]
  },
  {
   "cell_type": "code",
   "execution_count": 4,
   "metadata": {
    "scrolled": false
   },
   "outputs": [
    {
     "data": {
      "text/html": [
       "<div id=\"ggb_1_0e\"></div>"
      ],
      "text/plain": [
       "<IPython.core.display.HTML object>"
      ]
     },
     "metadata": {},
     "output_type": "display_data"
    },
    {
     "data": {
      "application/javascript": [
       "var ggb_1_0e = new GGBApplet({\"filename\": \"CC143_materials/quadAnimation.ggb\"}, \"ggb_1_0e\", false); ggb_1_0e.inject(); "
      ],
      "text/plain": [
       "<IPython.core.display.Javascript object>"
      ]
     },
     "metadata": {},
     "output_type": "display_data"
    }
   ],
   "source": [
    "ggb.file('CC143_materials/quadAnimation.ggb').draw()"
   ]
  },
  {
   "cell_type": "markdown",
   "metadata": {},
   "source": [
    "## 2 Triangles in a pentagon  "
   ]
  },
  {
   "cell_type": "code",
   "execution_count": 5,
   "metadata": {},
   "outputs": [
    {
     "data": {
      "text/html": [
       "<div id=\"ggb_2_0e\"></div>"
      ],
      "text/plain": [
       "<IPython.core.display.HTML object>"
      ]
     },
     "metadata": {},
     "output_type": "display_data"
    },
    {
     "data": {
      "application/javascript": [
       "var ggb_2_0e = new GGBApplet({\"filename\": \"CC143_materials/pentaAnimation.ggb\"}, \"ggb_2_0e\", false); ggb_2_0e.inject(); "
      ],
      "text/plain": [
       "<IPython.core.display.Javascript object>"
      ]
     },
     "metadata": {},
     "output_type": "display_data"
    }
   ],
   "source": [
    "ggb.file('CC143_materials/pentaAnimation.ggb').draw()"
   ]
  },
  {
   "cell_type": "markdown",
   "metadata": {},
   "source": [
    "## 3 Alternate Method for counting triangles\n",
    "There is a second method to find out the triangles in a pentagon. This is called the angular method. Here, we will count all similar triangles at a time. There are seven distinct groups of triangles in a pentagon when all vertices are connected with each other. Each group comprises five exact triangles. So the total number of the triangles in the Pentagon is 7x5=35. <br>\n",
    "\n",
    "Let play the following animation to find the seven groups. The slider $n$ and $i$ are representing the number of groups and the number of triangles corresponding to a group, respectively."
   ]
  },
  {
   "cell_type": "code",
   "execution_count": 6,
   "metadata": {},
   "outputs": [
    {
     "data": {
      "text/html": [
       "<div id=\"ggb_3_0e\"></div>"
      ],
      "text/plain": [
       "<IPython.core.display.HTML object>"
      ]
     },
     "metadata": {},
     "output_type": "display_data"
    },
    {
     "data": {
      "application/javascript": [
       "var ggb_3_0e = new GGBApplet({\"filename\": \"CC143_materials/pentaMethod2.ggb\"}, \"ggb_3_0e\", false); ggb_3_0e.inject(); "
      ],
      "text/plain": [
       "<IPython.core.display.Javascript object>"
      ]
     },
     "metadata": {},
     "output_type": "display_data"
    }
   ],
   "source": [
    "ggb.file('CC143_materials/pentaMethod2.ggb').draw()"
   ]
  },
  {
   "cell_type": "markdown",
   "metadata": {},
   "source": [
    "## 4 Test yourself"
   ]
  },
  {
   "cell_type": "code",
   "execution_count": 7,
   "metadata": {},
   "outputs": [],
   "source": [
    "def display(question, answerList):\n",
    "    print(question)\n",
    "    IPython.display.display(answerList)"
   ]
  },
  {
   "cell_type": "markdown",
   "metadata": {},
   "source": [
    "Consider the follwing triangle ABC: \n",
    "<img src=\"CC143_materials/ex1.png\">"
   ]
  },
  {
   "cell_type": "code",
   "execution_count": 8,
   "metadata": {},
   "outputs": [
    {
     "name": "stdout",
     "output_type": "stream",
     "text": [
      "4.1 How many triangles are in the above triangle?\n"
     ]
    },
    {
     "data": {
      "application/vnd.jupyter.widget-view+json": {
       "model_id": "5b1ca67ad82547bdb873d9226df40cde",
       "version_major": 2,
       "version_minor": 0
      },
      "text/html": [
       "<p>Failed to display Jupyter Widget of type <code>RadioButtons</code>.</p>\n",
       "<p>\n",
       "  If you're reading this message in the Jupyter Notebook or JupyterLab Notebook, it may mean\n",
       "  that the widgets JavaScript is still loading. If this message persists, it\n",
       "  likely means that the widgets JavaScript library is either not installed or\n",
       "  not enabled. See the <a href=\"https://ipywidgets.readthedocs.io/en/stable/user_install.html\">Jupyter\n",
       "  Widgets Documentation</a> for setup instructions.\n",
       "</p>\n",
       "<p>\n",
       "  If you're reading this message in another frontend (for example, a static\n",
       "  rendering on GitHub or <a href=\"https://nbviewer.jupyter.org/\">NBViewer</a>),\n",
       "  it may mean that your frontend doesn't currently support widgets.\n",
       "</p>\n"
      ],
      "text/plain": [
       "RadioButtons(description='Choices:', options=('Select the best one', '20', '10', '22', '12', 'None of the above'), value='Select the best one')"
      ]
     },
     "metadata": {},
     "output_type": "display_data"
    }
   ],
   "source": [
    "answer642 = widgets.RadioButtons(options=['Select the best one', '20', '10', '22', '12', 'None of the above'],\n",
    "                             value = 'Select the best one',  description='Choices:')\n",
    "\n",
    "question642 = \"4.1 How many triangles are in the above triangle?\"\n",
    "\n",
    "def check642(g):\n",
    "    IPython.display.clear_output(wait=False)\n",
    "    display(question642, answer642)\n",
    "    if answer642.value == '20':\n",
    "        print(\"Correct Answer!\")\n",
    "    else:\n",
    "        if answer642.value == 'Select the best one':\n",
    "            pass\n",
    "        else:\n",
    "            print(\"Wrong answer! Try again.\")\n",
    "\n",
    "IPython.display.clear_output(wait=False)\n",
    "display(question642, answer642)\n",
    "answer642.observe(check642, 'value')"
   ]
  },
  {
   "cell_type": "markdown",
   "metadata": {},
   "source": [
    "Let ABCD is a rectangle shown in the following figure: \n",
    "<img src=\"CC143_materials/ex2.png\">"
   ]
  },
  {
   "cell_type": "code",
   "execution_count": 9,
   "metadata": {},
   "outputs": [
    {
     "name": "stdout",
     "output_type": "stream",
     "text": [
      "4.2 How many triangles are in the above rectangle?\n"
     ]
    },
    {
     "data": {
      "application/vnd.jupyter.widget-view+json": {
       "model_id": "0bba76a2d6fe4523ac80189f2a99f822",
       "version_major": 2,
       "version_minor": 0
      },
      "text/html": [
       "<p>Failed to display Jupyter Widget of type <code>RadioButtons</code>.</p>\n",
       "<p>\n",
       "  If you're reading this message in the Jupyter Notebook or JupyterLab Notebook, it may mean\n",
       "  that the widgets JavaScript is still loading. If this message persists, it\n",
       "  likely means that the widgets JavaScript library is either not installed or\n",
       "  not enabled. See the <a href=\"https://ipywidgets.readthedocs.io/en/stable/user_install.html\">Jupyter\n",
       "  Widgets Documentation</a> for setup instructions.\n",
       "</p>\n",
       "<p>\n",
       "  If you're reading this message in another frontend (for example, a static\n",
       "  rendering on GitHub or <a href=\"https://nbviewer.jupyter.org/\">NBViewer</a>),\n",
       "  it may mean that your frontend doesn't currently support widgets.\n",
       "</p>\n"
      ],
      "text/plain": [
       "RadioButtons(description='Choices:', options=('Select the best one', '20', '10', '22', '12', 'None of the above'), value='Select the best one')"
      ]
     },
     "metadata": {},
     "output_type": "display_data"
    }
   ],
   "source": [
    "answer642 = widgets.RadioButtons(options=['Select the best one', '20', '10', '22', '12', 'None of the above'],\n",
    "                             value = 'Select the best one',  description='Choices:')\n",
    "\n",
    "question642 = \"4.2 How many triangles are in the above rectangle?\"\n",
    "\n",
    "def check642(g):\n",
    "    IPython.display.clear_output(wait=False)\n",
    "    display(question642, answer642)\n",
    "    if answer642.value == '12':\n",
    "        print(\"Correct Answer!\")\n",
    "    else:\n",
    "        if answer642.value == 'Select the best one':\n",
    "            pass\n",
    "        else:\n",
    "            print(\"Wrong answer! Try again.\")\n",
    "\n",
    "IPython.display.clear_output(wait=False)\n",
    "display(question642, answer642)\n",
    "answer642.observe(check642, 'value')"
   ]
  },
  {
   "cell_type": "markdown",
   "metadata": {},
   "source": [
    "In the following figure two small rectangles (ADEF and BCEF) join each other and produce another large rectangle ABCD: \n",
    "<img src=\"CC143_materials/ex3.png\">"
   ]
  },
  {
   "cell_type": "code",
   "execution_count": 10,
   "metadata": {},
   "outputs": [
    {
     "name": "stdout",
     "output_type": "stream",
     "text": [
      "4.3 How many triangles are in the large rectangle?\n"
     ]
    },
    {
     "data": {
      "application/vnd.jupyter.widget-view+json": {
       "model_id": "24e71392593b430db2f61e31bc316eb9",
       "version_major": 2,
       "version_minor": 0
      },
      "text/html": [
       "<p>Failed to display Jupyter Widget of type <code>RadioButtons</code>.</p>\n",
       "<p>\n",
       "  If you're reading this message in the Jupyter Notebook or JupyterLab Notebook, it may mean\n",
       "  that the widgets JavaScript is still loading. If this message persists, it\n",
       "  likely means that the widgets JavaScript library is either not installed or\n",
       "  not enabled. See the <a href=\"https://ipywidgets.readthedocs.io/en/stable/user_install.html\">Jupyter\n",
       "  Widgets Documentation</a> for setup instructions.\n",
       "</p>\n",
       "<p>\n",
       "  If you're reading this message in another frontend (for example, a static\n",
       "  rendering on GitHub or <a href=\"https://nbviewer.jupyter.org/\">NBViewer</a>),\n",
       "  it may mean that your frontend doesn't currently support widgets.\n",
       "</p>\n"
      ],
      "text/plain": [
       "RadioButtons(description='Choices:', options=('Select the best one', '20', '22', '24', '26', 'None of the above'), value='Select the best one')"
      ]
     },
     "metadata": {},
     "output_type": "display_data"
    }
   ],
   "source": [
    "answer642 = widgets.RadioButtons(options=['Select the best one', '20', '22', '24', '26', 'None of the above'],\n",
    "                             value = 'Select the best one',  description='Choices:')\n",
    "\n",
    "question642 = \"4.3 How many triangles are in the large rectangle?\"\n",
    "\n",
    "def check642(g):\n",
    "    IPython.display.clear_output(wait=False)\n",
    "    display(question642, answer642)\n",
    "    if answer642.value == '26':\n",
    "        print(\"Correct Answer!\")\n",
    "    else:\n",
    "        if answer642.value == 'Select the best one':\n",
    "            pass\n",
    "        else:\n",
    "            print(\"Wrong answer! Try again.\")\n",
    "\n",
    "IPython.display.clear_output(wait=False)\n",
    "display(question642, answer642)\n",
    "answer642.observe(check642, 'value')"
   ]
  },
  {
   "cell_type": "markdown",
   "metadata": {},
   "source": [
    "Consider a pentagon as drawn in the following figure: \n",
    "<img src=\"CC143_materials/ex4.png\">"
   ]
  },
  {
   "cell_type": "code",
   "execution_count": 11,
   "metadata": {},
   "outputs": [
    {
     "name": "stdout",
     "output_type": "stream",
     "text": [
      "4.4 How many triangles are in the above pentagon?\n"
     ]
    },
    {
     "data": {
      "application/vnd.jupyter.widget-view+json": {
       "model_id": "3ab1b7f80878477bb07b18c7e19d1fd2",
       "version_major": 2,
       "version_minor": 0
      },
      "text/html": [
       "<p>Failed to display Jupyter Widget of type <code>RadioButtons</code>.</p>\n",
       "<p>\n",
       "  If you're reading this message in the Jupyter Notebook or JupyterLab Notebook, it may mean\n",
       "  that the widgets JavaScript is still loading. If this message persists, it\n",
       "  likely means that the widgets JavaScript library is either not installed or\n",
       "  not enabled. See the <a href=\"https://ipywidgets.readthedocs.io/en/stable/user_install.html\">Jupyter\n",
       "  Widgets Documentation</a> for setup instructions.\n",
       "</p>\n",
       "<p>\n",
       "  If you're reading this message in another frontend (for example, a static\n",
       "  rendering on GitHub or <a href=\"https://nbviewer.jupyter.org/\">NBViewer</a>),\n",
       "  it may mean that your frontend doesn't currently support widgets.\n",
       "</p>\n"
      ],
      "text/plain": [
       "RadioButtons(description='Choices:', options=('Select the best one', '20', '17', '15', '13', 'None of the above'), value='Select the best one')"
      ]
     },
     "metadata": {},
     "output_type": "display_data"
    }
   ],
   "source": [
    "answer642 = widgets.RadioButtons(options=['Select the best one', '20', '17', '15', '13', 'None of the above'],\n",
    "                             value = 'Select the best one',  description='Choices:')\n",
    "\n",
    "question642 = \"4.4 How many triangles are in the above pentagon?\"\n",
    "\n",
    "def check642(g):\n",
    "    IPython.display.clear_output(wait=False)\n",
    "    display(question642, answer642)\n",
    "    if answer642.value == '17':\n",
    "        print(\"Correct Answer!\")\n",
    "    else:\n",
    "        if answer642.value == 'Select the best one':\n",
    "            pass\n",
    "        else:\n",
    "            print(\"Wrong answer! Try again.\")\n",
    "\n",
    "IPython.display.clear_output(wait=False)\n",
    "display(question642, answer642)\n",
    "answer642.observe(check642, 'value')"
   ]
  },
  {
   "cell_type": "markdown",
   "metadata": {},
   "source": [
    "A pentagon ABCDE and a rectangle touch as like as the following figure: \n",
    "<img src=\"CC143_materials/ex5.png\">"
   ]
  },
  {
   "cell_type": "code",
   "execution_count": 12,
   "metadata": {},
   "outputs": [
    {
     "name": "stdout",
     "output_type": "stream",
     "text": [
      "4.5 How many triangles are in the above figure?\n"
     ]
    },
    {
     "data": {
      "application/vnd.jupyter.widget-view+json": {
       "model_id": "6d2633a63b6c4404b8a040e7e40a4b65",
       "version_major": 2,
       "version_minor": 0
      },
      "text/html": [
       "<p>Failed to display Jupyter Widget of type <code>RadioButtons</code>.</p>\n",
       "<p>\n",
       "  If you're reading this message in the Jupyter Notebook or JupyterLab Notebook, it may mean\n",
       "  that the widgets JavaScript is still loading. If this message persists, it\n",
       "  likely means that the widgets JavaScript library is either not installed or\n",
       "  not enabled. See the <a href=\"https://ipywidgets.readthedocs.io/en/stable/user_install.html\">Jupyter\n",
       "  Widgets Documentation</a> for setup instructions.\n",
       "</p>\n",
       "<p>\n",
       "  If you're reading this message in another frontend (for example, a static\n",
       "  rendering on GitHub or <a href=\"https://nbviewer.jupyter.org/\">NBViewer</a>),\n",
       "  it may mean that your frontend doesn't currently support widgets.\n",
       "</p>\n"
      ],
      "text/plain": [
       "RadioButtons(description='Choices:', options=('Select the best one', '20', '18', '16', '14', 'None of the above'), value='Select the best one')"
      ]
     },
     "metadata": {},
     "output_type": "display_data"
    }
   ],
   "source": [
    "answer642 = widgets.RadioButtons(options=['Select the best one', '20', '18', '16', '14', 'None of the above'],\n",
    "                             value = 'Select the best one',  description='Choices:')\n",
    "\n",
    "question642 = \"4.5 How many triangles are in the above figure?\"\n",
    "\n",
    "def check642(g):\n",
    "    IPython.display.clear_output(wait=False)\n",
    "    display(question642, answer642)\n",
    "    if answer642.value == '18':\n",
    "        print(\"Correct Answer!\")\n",
    "    else:\n",
    "        if answer642.value == 'Select the best one':\n",
    "            pass\n",
    "        else:\n",
    "            print(\"Wrong answer! Try again.\")\n",
    "\n",
    "IPython.display.clear_output(wait=False)\n",
    "display(question642, answer642)\n",
    "answer642.observe(check642, 'value')"
   ]
  },
  {
   "cell_type": "markdown",
   "metadata": {},
   "source": [
    "Again consider a pentagon: \n",
    "<img src=\"CC143_materials/ex6.png\">"
   ]
  },
  {
   "cell_type": "code",
   "execution_count": 13,
   "metadata": {},
   "outputs": [
    {
     "name": "stdout",
     "output_type": "stream",
     "text": [
      "4.6 How many triangles are in the above pentagon?\n"
     ]
    },
    {
     "data": {
      "application/vnd.jupyter.widget-view+json": {
       "model_id": "2e0b71a2a8774f53a235ca7968f724f4",
       "version_major": 2,
       "version_minor": 0
      },
      "text/html": [
       "<p>Failed to display Jupyter Widget of type <code>RadioButtons</code>.</p>\n",
       "<p>\n",
       "  If you're reading this message in the Jupyter Notebook or JupyterLab Notebook, it may mean\n",
       "  that the widgets JavaScript is still loading. If this message persists, it\n",
       "  likely means that the widgets JavaScript library is either not installed or\n",
       "  not enabled. See the <a href=\"https://ipywidgets.readthedocs.io/en/stable/user_install.html\">Jupyter\n",
       "  Widgets Documentation</a> for setup instructions.\n",
       "</p>\n",
       "<p>\n",
       "  If you're reading this message in another frontend (for example, a static\n",
       "  rendering on GitHub or <a href=\"https://nbviewer.jupyter.org/\">NBViewer</a>),\n",
       "  it may mean that your frontend doesn't currently support widgets.\n",
       "</p>\n"
      ],
      "text/plain": [
       "RadioButtons(description='Choices:', options=('Select the best one', '20', '24', '28', '29', 'None of the above'), value='Select the best one')"
      ]
     },
     "metadata": {},
     "output_type": "display_data"
    }
   ],
   "source": [
    "answer642 = widgets.RadioButtons(options=['Select the best one', '20', '24', '28', '29', 'None of the above'],\n",
    "                             value = 'Select the best one',  description='Choices:')\n",
    "\n",
    "question642 = \"4.6 How many triangles are in the above pentagon?\"\n",
    "\n",
    "def check642(g):\n",
    "    IPython.display.clear_output(wait=False)\n",
    "    display(question642, answer642)\n",
    "    if answer642.value == '28':\n",
    "        print(\"Correct Answer!\")\n",
    "    else:\n",
    "        if answer642.value == 'Select the best one':\n",
    "            pass\n",
    "        else:\n",
    "            print(\"Wrong answer! Try again.\")\n",
    "\n",
    "IPython.display.clear_output(wait=False)\n",
    "display(question642, answer642)\n",
    "answer642.observe(check642, 'value')"
   ]
  },
  {
   "cell_type": "markdown",
   "metadata": {},
   "source": [
    "![alt text][bottom-banner]\n",
    "\n",
    "[bottom-banner]: ./callysto-bottom-banner.jpg"
   ]
  }
 ],
 "metadata": {
  "kernelspec": {
   "display_name": "Python 3",
   "language": "python",
   "name": "python3"
  },
  "language_info": {
   "codemirror_mode": {
    "name": "ipython",
    "version": 3
   },
   "file_extension": ".py",
   "mimetype": "text/x-python",
   "name": "python",
   "nbconvert_exporter": "python",
   "pygments_lexer": "ipython3",
   "version": "3.6.5"
  }
 },
 "nbformat": 4,
 "nbformat_minor": 2
}
