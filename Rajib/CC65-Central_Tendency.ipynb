{
 "cells": [
  {
   "cell_type": "markdown",
   "metadata": {},
   "source": [
    "# Data Analysis : Mean, Median, and Mode \n",
    "\n",
    "In this notebook we will discuss about the central tendency (mean, median and mode).\n",
    "<br>First, we will review the very basiscs of mean, median, mode, and outlier. Further details are readily available on the internet, such as [this website for Australian junior high students](https://www.mathsteacher.com.au/year8/ch17_stat/02_mean/mean.htm). \n",
    "\n",
    "We will use the Python programming language to import and process several sets of data. In particular, using Python we can easily calculate the mean, median, and mode for a dataset. \n",
    "\n",
    "This notebook is organized as follows. In section 1, we discuss the preliminaries, definition of outliers and followed by two primary examples. In the next section,  we first compute the basic central tendency without outliers by importing data set from local folder. In section 3, once we've covered the basics, you'll have the opportunity to use some basic Python tools to adjust a dataset by adding one or more outliers, and then observe the effect on mean, median, and mode. In the following section, we use python library as a data source. In section 5, we summarized the notebook. Section 6, represents the exercises problem for student.\n",
    "\n",
    "<br>\n",
    "## <font color='Blue'>  1 Preliminaries </font>\n",
    "### 1.1 What do we mean about the 'mean'?\n",
    "The *average* of a set of numbers is called the **mean**. \n",
    "<br> To calculate: just add up all the numbers and then divide by how many numbers there are. \n",
    "<br> If there are $n-$elements in a set, $S = \\{a_1, a_2, a_3, .... , a_n\\}$. Then the mean of the set will be, \n",
    "$$mean=\\frac{\\sum_{i=1}^{n} a_i}{n}$$\n",
    "\n",
    "##### Example 1 : easy\n",
    "Data set $= 2, 6, 3, 7, 5, 3, 9$\n",
    "<br> number of elements in data set $= 7$\n",
    "<br>So the mean is, \n",
    "$$mean = \\frac{2 + 6 + 3 + 7 + 5 + 3 + 9}{7} = 5 $$\n",
    "\n",
    "##### Example 2 : Never average averages\n",
    "**If Tommy averaged $20$ points for $3$ basketball games and $30$ points in next two, what was his average for all five games?**\n",
    "###### solution:\n",
    "Total points for first three games $= 20 \\times 3 = 60$\n",
    "<br>Points for next two games $ = 30 \\times 2 = 60 $\n",
    "<br>Total number of games $ = 3 + 2 = 5$\n",
    "<br>Therefore the mean is, $ = \\frac{120}{5} = 24$\n",
    "\n",
    "As we will soon see, the mean of a dataset is sensitive to extreme values (outliers). This can be useful in situations where we want to take those values into account. For example, if we're including the cost of home heating in a household budget, the average cost of our heating bill will give the best measure of heating's impact on our budget over the course of a year.\n",
    "\n",
    "### 1.2 Median : don't play in the MEDIAN at home kids!\n",
    "The median is the middle number in a sequence of numbers.\n",
    "To compute the median, first reorder the data set from the smallest to the largest. If the number of elements are odd, then the median is the element in the middle of the data set. Otherwise, the median is the average of the two middle terms.\n",
    "\n",
    "\n",
    "##### Example 1 : odd number of elements\n",
    "Data set $= 2, 6, 3, 7, 5, 3, 9$\n",
    "<br> sorted data set $= 2, 3, 3, 5, 6, 7, 9$\n",
    "<br>So, median will be $5$.\n",
    "\n",
    "##### Example 2 : even number of elements \n",
    "Data set $= 2, 6, 3, 7, 5, 3, 9, 4 $\n",
    "<br> sorted data set $= 2, 3, 3, 4, 5, 6, 7, 9$\n",
    "<br>Therefore, the median will be, $\\frac{(4+5)}{2} = 4.5$\n",
    "\n",
    "Again, as we're about to explore, the median is a useful statistic because it is **not** as sensitive to extreme values. For example, businesses -- or city planners -- are more interested in median income than mean income when making decisions on where to locate a business or service. One very wealthy person moving to an area will increase the mean income in that area, but not the median.\n",
    "\n",
    "\n",
    "### 1.3 Mode\n",
    "The \"Mode\" for a data set is the element that occurs the most often. It is not uncommon for a data set to have more than one mode. This happens when two or more elements occur with equal frequency in the data set. Similarly, A data set with two modes is called **bimodal**. A data set with three modes is called **trimodal**.\n",
    "\n",
    "##### Example 1 : single mode\n",
    "Data set $= 2, 6, 3, 7, 5, 3, 9$\n",
    "<br> sorted data set $= 2, 3, 3, 5, 6, 7, 9$\n",
    "<br> Here, only the value $3$ repeats more than once. \n",
    "<br>So, mode will be $3$.\n",
    "\n",
    "##### Example 2 : bimodal\n",
    "Data set $= 2, 6, 3, 7, 5, 3, 9, 5, 3, 5 $\n",
    "<br> sorted data set $= 2, 3, 3, 3,  5, 5, 5,  6, 7, 9$\n",
    "<br> Value $3$ and $5$ has same number of repetitions(thrice). \n",
    "<br>So, mode will be, $3, 5$\n",
    "\n",
    "##### Example 3 : trimodal\n",
    "Data set $= 2, 6, 3, 7, 5, 3, 9, 5, 7$\n",
    "<br> sorted data set $= 2, 3, 3, 5, 5, 6, 7, 7, 9$\n",
    "<br> As we can see from the sorted list of data, $3,5,$ and $7$ are repeated twice.\n",
    "<br>So, mode will be,  $3, 5, 7$.\n",
    "\n",
    "##### Example 4 : no mode \n",
    "Data set $= 2, 6, 3, 7, 5, 8, 9, 4 $\n",
    "<br> sorted data set $= 2, 3, 4, 5, 6, 7, 8, 9$\n",
    "<br>There are no value that repeats. \n",
    "<br>So, there are no mode."
   ]
  },
  {
   "cell_type": "code",
   "execution_count": 5,
   "metadata": {},
   "outputs": [],
   "source": [
    "from IPython.core.display import HTML"
   ]
  },
  {
   "cell_type": "code",
   "execution_count": null,
   "metadata": {
    "scrolled": true
   },
   "outputs": [],
   "source": []
  },
  {
   "cell_type": "code",
   "execution_count": null,
   "metadata": {},
   "outputs": [],
   "source": []
  }
 ],
 "metadata": {
  "kernelspec": {
   "display_name": "Python 3",
   "language": "python",
   "name": "python3"
  },
  "language_info": {
   "codemirror_mode": {
    "name": "ipython",
    "version": 3
   },
   "file_extension": ".py",
   "mimetype": "text/x-python",
   "name": "python",
   "nbconvert_exporter": "python",
   "pygments_lexer": "ipython3",
   "version": "3.6.5"
  }
 },
 "nbformat": 4,
 "nbformat_minor": 2
}
