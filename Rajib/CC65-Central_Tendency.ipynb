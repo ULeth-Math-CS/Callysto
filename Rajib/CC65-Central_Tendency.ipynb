{
 "cells": [
  {
   "cell_type": "markdown",
   "metadata": {},
   "source": [
    "![alt text][top-banner]\n",
    "\n",
    "[top-banner]: ./callysto-top-banner.jpg"
   ]
  },
  {
   "cell_type": "code",
   "execution_count": 67,
   "metadata": {},
   "outputs": [
    {
     "data": {
      "text/html": [
       "\n",
       "<script>\n",
       " function code_toggle() {\n",
       "   if (code_shown){\n",
       "     $('div.input').hide('500');\n",
       "     $('#toggleButton').val('Show Code')\n",
       "   } else {\n",
       "     $('div.input').show('500');\n",
       "     $('#toggleButton').val('Hide Code')\n",
       "   }\n",
       "   code_shown = !code_shown\n",
       " }\n",
       "\n",
       " $( document ).ready(function(){\n",
       "   code_shown=false;\n",
       "   $('div.input').hide()\n",
       " });\n",
       "</script>\n",
       "<form action=\"javascript:code_toggle()\"><input type=\"submit\" id=\"toggleButton\" value=\"Show Code\"></form>"
      ],
      "text/plain": [
       "<IPython.core.display.HTML object>"
      ]
     },
     "metadata": {},
     "output_type": "display_data"
    }
   ],
   "source": [
    "%%html\n",
    "\n",
    "<script>\n",
    " function code_toggle() {\n",
    "   if (code_shown){\n",
    "     $('div.input').hide('500');\n",
    "     $('#toggleButton').val('Show Code')\n",
    "   } else {\n",
    "     $('div.input').show('500');\n",
    "     $('#toggleButton').val('Hide Code')\n",
    "   }\n",
    "   code_shown = !code_shown\n",
    " }\n",
    "\n",
    " $( document ).ready(function(){\n",
    "   code_shown=false;\n",
    "   $('div.input').hide()\n",
    " });\n",
    "</script>\n",
    "<form action=\"javascript:code_toggle()\"><input type=\"submit\" id=\"toggleButton\" value=\"Show Code\"></form>"
   ]
  },
  {
   "cell_type": "code",
   "execution_count": 68,
   "metadata": {},
   "outputs": [],
   "source": [
    "import numpy as np\n",
    "import matplotlib.mlab as mlab\n",
    "import matplotlib.pyplot as plt\n",
    "from ipywidgets import interact, widgets, Button, Layout\n",
    "\n",
    "from scipy import stats\n",
    "from collections import Counter\n",
    "from array import array\n",
    "from statistics import mode\n",
    "import IPython\n",
    "import pandas"
   ]
  },
  {
   "cell_type": "markdown",
   "metadata": {},
   "source": [
    "# Data Analysis : Mean, Median, and Mode \n",
    "\n",
    "In this notebook we discuss about the central tendency (mean, median and mode).\n",
    "<br>First, we will review the very basiscs of mean, median, mode, and outlier. Further details are readily available on the internet, such as [this website for Australian junior high students](https://www.mathsteacher.com.au/year8/ch17_stat/02_mean/mean.htm). \n",
    "\n",
    "We will use the Python programming language to import and process several sets of data. In particular, using Python we can easily calculate the mean, median, and mode for a dataset. \n",
    "\n",
    "This notebook is organized as follows.\n",
    "* In section 1, we discuss the preliminaries, definition of mean, median and mode.  \n",
    "* In the next section, using bar graph student can play with central tendency. \n",
    "* Section 3, represents the exercise problems for student.\n",
    "\n",
    "<br>\n",
    "## <font color='Blue'>  1 Preliminaries </font>\n",
    "### 1.1 What do we mean about the 'mean'?\n",
    "The *average* of a set of numbers is called the **mean**. \n",
    "<br> To calculate: just add up all the numbers and then divide by how many numbers there are. \n",
    "\n",
    "##### Example 1 : easy\n",
    "Data set $= 2, 6, 3, 7, 5, 3, 9$\n",
    "<br> number of elements in data set $= 7$\n",
    "<br>So the mean is, \n",
    "$$mean = \\frac{2 + 6 + 3 + 7 + 5 + 3 + 9}{7} = 5 $$\n",
    "\n",
    "##### Example 2 : Never average averages\n",
    "**If Tommy averaged $20$ points for $3$ basketball games and $30$ points in next two, what was his average for all five games?**\n",
    "###### solution:\n",
    "Total points for first three games $= 20 \\times 3 = 60$\n",
    "<br>Points for next two games $ = 30 \\times 2 = 60 $\n",
    "<br>Total number of games $ = 3 + 2 = 5$\n",
    "<br>Therefore the mean is, $ = \\frac{120}{5} = 24$\n",
    "\n",
    "As we will soon see, the mean of a dataset is sensitive to extreme values (outliers). This can be useful in situations where we want to take those values into account. For example, if we're including the cost of home heating in a household budget, the average cost of our heating bill will give the best measure of heating's impact on our budget over the course of a year.\n",
    "\n",
    "### 1.2 Median : don't play in the MEDIAN at home kids!\n",
    "The median is the middle number in a sequence of numbers.\n",
    "To compute the median, first reorder the data set from the smallest to the largest. If the number of elements are odd, then the median is the element in the middle of the data set. Otherwise, the median is the average of the two middle terms.\n",
    "\n",
    "\n",
    "##### Example 1 : odd number of elements\n",
    "Data set $= 2, 6, 3, 7, 5, 3, 9$\n",
    "<br> sorted data set $= 2, 3, 3, 5, 6, 7, 9$\n",
    "<br>So, median will be $5$.\n",
    "\n",
    "##### Example 2 : even number of elements \n",
    "Data set $= 2, 6, 3, 7, 5, 3, 9, 4 $\n",
    "<br> sorted data set $= 2, 3, 3, 4, 5, 6, 7, 9$\n",
    "<br>Therefore, the median will be, $\\frac{(4+5)}{2} = 4.5$\n",
    "\n",
    "Again, as we're about to explore, the median is a useful statistic because it is **not** as sensitive to extreme values. For example, businesses -- or city planners -- are more interested in median income than mean income when making decisions on where to locate a business or service. One very wealthy person moving to an area will increase the mean income in that area, but not the median.\n",
    "\n",
    "\n",
    "### 1.3 Mode\n",
    "The \"Mode\" for a data set is the element that occurs the most often. It is not uncommon for a data set to have more than one mode. This happens when two or more elements occur with equal frequency in the data set. Similarly, A data set with two modes is called **bimodal**. A data set with three modes is called **trimodal**.\n",
    "\n",
    "##### Example 1 : single mode\n",
    "Data set $= 2, 6, 3, 7, 5, 3, 9$\n",
    "<br> sorted data set $= 2, 3, 3, 5, 6, 7, 9$\n",
    "<br> Here, only the value $3$ repeats more than once. \n",
    "<br>So, mode will be $3$.\n",
    "\n",
    "##### Example 2 : bimodal\n",
    "Data set $= 2, 6, 3, 7, 5, 3, 9, 5, 3, 5 $\n",
    "<br> sorted data set $= 2, 3, 3, 3,  5, 5, 5,  6, 7, 9$\n",
    "<br> Value $3$ and $5$ has same number of repetitions(thrice). \n",
    "<br>So, mode will be, $3, 5$\n",
    "\n",
    "##### Example 3 : trimodal\n",
    "Data set $= 2, 6, 3, 7, 5, 3, 9, 5, 7$\n",
    "<br> sorted data set $= 2, 3, 3, 5, 5, 6, 7, 7, 9$\n",
    "<br> As we can see from the sorted list of data, $3,5,$ and $7$ are repeated twice.\n",
    "<br>So, mode will be,  $3, 5, 7$.\n",
    "\n",
    "##### Example 4 : no mode \n",
    "Data set $= 2, 6, 3, 7, 5, 8, 9, 4 $\n",
    "<br> sorted data set $= 2, 3, 4, 5, 6, 7, 8, 9$\n",
    "<br>There are no value that repeats. \n",
    "<br>So, there are no mode."
   ]
  },
  {
   "cell_type": "markdown",
   "metadata": {},
   "source": [
    "## 2 Play with bar graph\n",
    "Now play with bar graph and examine how to calculate the central tendency by changing values of the dataset. \n",
    "\n",
    "### 2.1 Instructions: \n",
    "* Step 1, enter how many data you have in **Enter the numbers of dataset.**\n",
    "* Step 2, based on your input in step 1, silders will be available.\n",
    "* Step 3, change the value of sliders and see the associate changes in the bar graph.\n",
    "* Step 4, to show the breakdown for calculating mean check the box **Mean**, for median check **Median** and so on. "
   ]
  },
  {
   "cell_type": "code",
   "execution_count": 69,
   "metadata": {
    "scrolled": false
   },
   "outputs": [
    {
     "data": {
      "application/javascript": [
       "\n",
       "            require.config({\n",
       "                paths: {\n",
       "                    ggb: \"https://cdn.geogebra.org/apps/deployggb\"\n",
       "                }\n",
       "            });\n",
       "\n",
       "            require([\"ggb\"]);\n",
       "        "
      ],
      "text/plain": [
       "<IPython.core.display.Javascript object>"
      ]
     },
     "metadata": {},
     "output_type": "display_data"
    },
    {
     "data": {
      "text/html": [
       "<div id=\"ggb_0_0e\"></div>"
      ],
      "text/plain": [
       "<IPython.core.display.HTML object>"
      ]
     },
     "metadata": {},
     "output_type": "display_data"
    },
    {
     "data": {
      "application/javascript": [
       "var ggb_0_0e = new GGBApplet({\"filename\": \"centralTendency.ggb\"}, \"ggb_0_0e\", false); ggb_0_0e.inject(); "
      ],
      "text/plain": [
       "<IPython.core.display.Javascript object>"
      ]
     },
     "metadata": {},
     "output_type": "display_data"
    }
   ],
   "source": [
    "from ggb import *\n",
    "ggb = GGB()\n",
    "ggb.file('centralTendency.ggb').draw()"
   ]
  },
  {
   "cell_type": "markdown",
   "metadata": {},
   "source": [
    "### 2.2 Drawbacks of bar graph\n",
    "* Additional information is needed to describe the dataset. \n",
    "* Data patterns, key features of data can not be easily assumed.  "
   ]
  },
  {
   "cell_type": "markdown",
   "metadata": {},
   "source": [
    "## 3 Test Yourself"
   ]
  },
  {
   "cell_type": "markdown",
   "metadata": {},
   "source": [
    "## Easy"
   ]
  },
  {
   "cell_type": "code",
   "execution_count": 70,
   "metadata": {},
   "outputs": [],
   "source": [
    "def display(question, answerList):\n",
    "    print(question)\n",
    "    IPython.display.display(answerList)"
   ]
  },
  {
   "cell_type": "code",
   "execution_count": 71,
   "metadata": {},
   "outputs": [
    {
     "name": "stdout",
     "output_type": "stream",
     "text": [
      "3.1.1 What number would you divide by to calculate the mean of 3, 4, 5, and 6?\n"
     ]
    },
    {
     "data": {
      "application/vnd.jupyter.widget-view+json": {
       "model_id": "23da54a3c33d4e6fa3576304674bcae2",
       "version_major": 2,
       "version_minor": 0
      },
      "text/html": [
       "<p>Failed to display Jupyter Widget of type <code>RadioButtons</code>.</p>\n",
       "<p>\n",
       "  If you're reading this message in the Jupyter Notebook or JupyterLab Notebook, it may mean\n",
       "  that the widgets JavaScript is still loading. If this message persists, it\n",
       "  likely means that the widgets JavaScript library is either not installed or\n",
       "  not enabled. See the <a href=\"https://ipywidgets.readthedocs.io/en/stable/user_install.html\">Jupyter\n",
       "  Widgets Documentation</a> for setup instructions.\n",
       "</p>\n",
       "<p>\n",
       "  If you're reading this message in another frontend (for example, a static\n",
       "  rendering on GitHub or <a href=\"https://nbviewer.jupyter.org/\">NBViewer</a>),\n",
       "  it may mean that your frontend doesn't currently support widgets.\n",
       "</p>\n"
      ],
      "text/plain": [
       "RadioButtons(description='Choices:', index=2, options=('Select best one', '3', '4', '4.5', '5', 'None of the above'), value='4')"
      ]
     },
     "metadata": {},
     "output_type": "display_data"
    },
    {
     "name": "stdout",
     "output_type": "stream",
     "text": [
      "Correct Answer!\n"
     ]
    }
   ],
   "source": [
    "question611 = \"3.1.1 What number would you divide by to calculate the mean of 3, 4, 5, and 6?\"\n",
    "\n",
    "answer611 = widgets.RadioButtons(options=['Select best one','3', '4', '4.5', '5', 'None of the above'],\n",
    "                             value= 'Select best one', description='Choices:')\n",
    "\n",
    "\n",
    "def checkAnswer(a):\n",
    "    IPython.display.clear_output(wait=False)\n",
    "    display(question611, answer611)\n",
    "    if answer611.value == '4':\n",
    "        print(\"Correct Answer!\")\n",
    "    else:\n",
    "        if answer611.value == 'Select best one':\n",
    "            pass\n",
    "        else:\n",
    "            print(\"Wrong answer! Try again.\")\n",
    "\n",
    "display(question611, answer611)\n",
    "\n",
    "answer611.observe(checkAnswer, 'value')\n",
    "\n"
   ]
  },
  {
   "cell_type": "code",
   "execution_count": 72,
   "metadata": {},
   "outputs": [
    {
     "data": {
      "text/html": [
       "<html>\n",
       "<head>\n",
       "<script type=\"text/javascript\">\n",
       "<!--\n",
       "function toggle(id) {\n",
       "var e = document.getElementById(id);\n",
       "if(e.style.display == 'none')\n",
       "e.style.display = 'block';\n",
       "else\n",
       "e.style.display = 'none';\n",
       "}\n",
       "//-->\n",
       "</script>\n",
       "</head>\n",
       "\n",
       "<body>\n",
       "<div id=\"question611\">\n",
       " <button id = \"611\"\n",
       "onclick=\"toggle('answer611');\">Solution</button> \n",
       "</div>\n",
       "<div style=\"display:none\" id=\"answer611\">\n",
       "From the definition of mean, we know that we have to divide by total number of elements in the data set.<br/>\n",
       "In this case that number is 4. <br/>\n",
       "So, to compute the mean we have to divide the sum of the data set by 4. <br/>\n",
       "\n",
       "</div>\n",
       "\n",
       "</body>\n",
       "</html>"
      ],
      "text/plain": [
       "<IPython.core.display.HTML object>"
      ]
     },
     "metadata": {},
     "output_type": "display_data"
    }
   ],
   "source": [
    "%%html\n",
    "<html>\n",
    "<head>\n",
    "<script type=\"text/javascript\">\n",
    "<!--\n",
    "function toggle(id) {\n",
    "var e = document.getElementById(id);\n",
    "if(e.style.display == 'none')\n",
    "e.style.display = 'block';\n",
    "else\n",
    "e.style.display = 'none';\n",
    "}\n",
    "//-->\n",
    "</script>\n",
    "</head>\n",
    "\n",
    "<body>\n",
    "<div id=\"question611\">\n",
    " <button id = \"611\"\n",
    "onclick=\"toggle('answer611');\">Solution</button> \n",
    "</div>\n",
    "<div style=\"display:none\" id=\"answer611\">\n",
    "From the definition of mean, we know that we have to divide by total number of elements in the data set.<br/>\n",
    "In this case that number is 4. <br/>\n",
    "So, to compute the mean we have to divide the sum of the data set by 4. <br/>\n",
    "\n",
    "</div>\n",
    "\n",
    "</body>\n",
    "</html>"
   ]
  },
  {
   "cell_type": "code",
   "execution_count": 73,
   "metadata": {},
   "outputs": [
    {
     "name": "stdout",
     "output_type": "stream",
     "text": [
      "3.1.2 What is the mean of the following numbers? \n",
      " 10, 91, 39, 71, 17,  39, 76, 37, 25\n"
     ]
    },
    {
     "data": {
      "application/vnd.jupyter.widget-view+json": {
       "model_id": "86232481d8e8469fa305e200ddc0b187",
       "version_major": 2,
       "version_minor": 0
      },
      "text/html": [
       "<p>Failed to display Jupyter Widget of type <code>RadioButtons</code>.</p>\n",
       "<p>\n",
       "  If you're reading this message in the Jupyter Notebook or JupyterLab Notebook, it may mean\n",
       "  that the widgets JavaScript is still loading. If this message persists, it\n",
       "  likely means that the widgets JavaScript library is either not installed or\n",
       "  not enabled. See the <a href=\"https://ipywidgets.readthedocs.io/en/stable/user_install.html\">Jupyter\n",
       "  Widgets Documentation</a> for setup instructions.\n",
       "</p>\n",
       "<p>\n",
       "  If you're reading this message in another frontend (for example, a static\n",
       "  rendering on GitHub or <a href=\"https://nbviewer.jupyter.org/\">NBViewer</a>),\n",
       "  it may mean that your frontend doesn't currently support widgets.\n",
       "</p>\n"
      ],
      "text/plain": [
       "RadioButtons(description='Choices:', index=1, options=('Select best one', '45', '45.11', '43.67', '46', 'None of the above'), value='45')"
      ]
     },
     "metadata": {},
     "output_type": "display_data"
    },
    {
     "name": "stdout",
     "output_type": "stream",
     "text": [
      "Correct Answer!\n"
     ]
    }
   ],
   "source": [
    "question612 = \"3.1.2 What is the mean of the following numbers? \\n 10, 91, 39, 71, 17,  39, 76, 37, 25\"\n",
    "\n",
    "answer612 = widgets.RadioButtons(options=['Select best one','45', '45.11', '43.67', '46', 'None of the above'],\n",
    "                             value= 'Select best one', description='Choices:')\n",
    "\n",
    "def check612(b):\n",
    "    IPython.display.clear_output(wait=False)\n",
    "    display(question612, answer612)\n",
    "    if answer612.value == '45':\n",
    "        print(\"Correct Answer!\")\n",
    "    else:\n",
    "        if answer612.value == 'Select best one':\n",
    "            pass\n",
    "        else:\n",
    "            print(\"Wrong answer! Try again.\")\n",
    "\n",
    "IPython.display.clear_output(wait=False)\n",
    "display(question612, answer612)\n",
    "answer612.observe(check612, 'value')"
   ]
  },
  {
   "cell_type": "code",
   "execution_count": 74,
   "metadata": {},
   "outputs": [
    {
     "data": {
      "text/html": [
       "<html>\n",
       "<head>\n",
       "<script type=\"text/javascript\">\n",
       "<!--\n",
       "function toggle(id) {\n",
       "var e = document.getElementById(id);\n",
       "if(e.style.display == 'none')\n",
       "e.style.display = 'block';\n",
       "else\n",
       "e.style.display = 'none';\n",
       "}\n",
       "//-->\n",
       "</script>\n",
       "</head>\n",
       "\n",
       "<body>\n",
       "<div id=\"question612\">\n",
       " <button id = \"612\"\n",
       "onclick=\"toggle('answer612');\">Solution</button> \n",
       "</div>\n",
       "<div style=\"display:none\" id=\"answer612\">\n",
       "To find out the mean of semester 1 we divide the sum of all data by the numbers of data.<br/>\n",
       "Therefore, Mean $=  \\frac{10 + 91 +  39 + 71 + 17 +  39 + 76 + 37 + 25}{9} = 45$ <br/>\n",
       "\n",
       "\n",
       "</div>\n",
       "\n",
       "</body>\n",
       "</html>"
      ],
      "text/plain": [
       "<IPython.core.display.HTML object>"
      ]
     },
     "metadata": {},
     "output_type": "display_data"
    }
   ],
   "source": [
    "%%html\n",
    "<html>\n",
    "<head>\n",
    "<script type=\"text/javascript\">\n",
    "<!--\n",
    "function toggle(id) {\n",
    "var e = document.getElementById(id);\n",
    "if(e.style.display == 'none')\n",
    "e.style.display = 'block';\n",
    "else\n",
    "e.style.display = 'none';\n",
    "}\n",
    "//-->\n",
    "</script>\n",
    "</head>\n",
    "\n",
    "<body>\n",
    "<div id=\"question612\">\n",
    " <button id = \"612\"\n",
    "onclick=\"toggle('answer612');\">Solution</button> \n",
    "</div>\n",
    "<div style=\"display:none\" id=\"answer612\">\n",
    "To find out the mean of semester 1 we divide the sum of all data by the numbers of data.<br/>\n",
    "Therefore, Mean $=  \\frac{10 + 91 +  39 + 71 + 17 +  39 + 76 + 37 + 25}{9} = 45$ <br/>\n",
    "\n",
    "\n",
    "</div>\n",
    "\n",
    "</body>\n",
    "</html>"
   ]
  },
  {
   "cell_type": "markdown",
   "metadata": {},
   "source": [
    "## Medium"
   ]
  },
  {
   "cell_type": "code",
   "execution_count": 75,
   "metadata": {},
   "outputs": [
    {
     "name": "stdout",
     "output_type": "stream",
     "text": [
      "3.2.1 The mean of four numbers is 71.5. If three of the numbers are 58, 76, and 88, what is the value of the fourth number?\n"
     ]
    },
    {
     "data": {
      "application/vnd.jupyter.widget-view+json": {
       "model_id": "f063994327aa4572b2645003eae5d6a6",
       "version_major": 2,
       "version_minor": 0
      },
      "text/html": [
       "<p>Failed to display Jupyter Widget of type <code>RadioButtons</code>.</p>\n",
       "<p>\n",
       "  If you're reading this message in the Jupyter Notebook or JupyterLab Notebook, it may mean\n",
       "  that the widgets JavaScript is still loading. If this message persists, it\n",
       "  likely means that the widgets JavaScript library is either not installed or\n",
       "  not enabled. See the <a href=\"https://ipywidgets.readthedocs.io/en/stable/user_install.html\">Jupyter\n",
       "  Widgets Documentation</a> for setup instructions.\n",
       "</p>\n",
       "<p>\n",
       "  If you're reading this message in another frontend (for example, a static\n",
       "  rendering on GitHub or <a href=\"https://nbviewer.jupyter.org/\">NBViewer</a>),\n",
       "  it may mean that your frontend doesn't currently support widgets.\n",
       "</p>\n"
      ],
      "text/plain": [
       "RadioButtons(description='Choices:', index=2, options=('Select best one', '62', '73.37', '64', '74', 'None of the above'), value='73.37')"
      ]
     },
     "metadata": {},
     "output_type": "display_data"
    },
    {
     "name": "stdout",
     "output_type": "stream",
     "text": [
      "Wrong answer! Try again.\n"
     ]
    }
   ],
   "source": [
    "question621 = \"3.2.1 The mean of four numbers is 71.5. If three of the numbers are 58, 76, and 88, what is the value of the fourth number?\"\n",
    "\n",
    "answer621 = widgets.RadioButtons(options=['Select best one', '62', '73.37', '64', '74',  'None of the above'],\n",
    "                              value = 'Select best one', description='Choices:')\n",
    "\n",
    "def check621(c):\n",
    "    IPython.display.clear_output(wait=False)\n",
    "    display(question621, answer621)\n",
    "    if answer621.value == '64':\n",
    "        print(\"Correct Answer!\")\n",
    "    else:\n",
    "        if answer621.value == 'Select best one':\n",
    "            pass\n",
    "        else:\n",
    "            print(\"Wrong answer! Try again.\")\n",
    "        \n",
    "IPython.display.clear_output(wait=False)\n",
    "display(question621, answer621)\n",
    "answer621.observe(check621, 'value')"
   ]
  },
  {
   "cell_type": "code",
   "execution_count": 76,
   "metadata": {},
   "outputs": [
    {
     "data": {
      "text/html": [
       "<html>\n",
       "<head>\n",
       "<script type=\"text/javascript\">\n",
       "<!--\n",
       "function toggle(id) {\n",
       "var e = document.getElementById(id);\n",
       "if(e.style.display == 'none')\n",
       "e.style.display = 'block';\n",
       "else\n",
       "e.style.display = 'none';\n",
       "}\n",
       "//-->\n",
       "</script>\n",
       "</head>\n",
       "\n",
       "<body>\n",
       "<div id=\"question621\">\n",
       " <button id = \"621\"\n",
       "onclick=\"toggle('answer621');\">Solution</button> \n",
       "</div>\n",
       "<div style=\"display:none\" id=\"answer621\">\n",
       "We are given three numbers but told the mean of four numbers is 71.5. Let assume the fourth number is x. <br/>\n",
       "So, by the definition of mean, we can write <br>\n",
       "$\\frac{58 + 76 + 88 + x}{4} = 71.5 $ <br/>\n",
       "\n",
       "or, $222 + x = 71.5 \\times 4 $ <br/>\n",
       "\n",
       "or, $x = 286 - 222 $ <br/>\n",
       "\n",
       "or, $x = 64 $ <br/>\n",
       "\n",
       "Therefore, the fourth number is 64. <br/>\n",
       "\n",
       "\n",
       "</div>\n",
       "\n",
       "</body>\n",
       "</html>"
      ],
      "text/plain": [
       "<IPython.core.display.HTML object>"
      ]
     },
     "metadata": {},
     "output_type": "display_data"
    }
   ],
   "source": [
    "%%html\n",
    "<html>\n",
    "<head>\n",
    "<script type=\"text/javascript\">\n",
    "<!--\n",
    "function toggle(id) {\n",
    "var e = document.getElementById(id);\n",
    "if(e.style.display == 'none')\n",
    "e.style.display = 'block';\n",
    "else\n",
    "e.style.display = 'none';\n",
    "}\n",
    "//-->\n",
    "</script>\n",
    "</head>\n",
    "\n",
    "<body>\n",
    "<div id=\"question621\">\n",
    " <button id = \"621\"\n",
    "onclick=\"toggle('answer621');\">Solution</button> \n",
    "</div>\n",
    "<div style=\"display:none\" id=\"answer621\">\n",
    "We are given three numbers but told the mean of four numbers is 71.5. Let assume the fourth number is x. <br/>\n",
    "So, by the definition of mean, we can write <br>\n",
    "$\\frac{58 + 76 + 88 + x}{4} = 71.5 $ <br/>\n",
    "\n",
    "or, $222 + x = 71.5 \\times 4 $ <br/>\n",
    "\n",
    "or, $x = 286 - 222 $ <br/>\n",
    "\n",
    "or, $x = 64 $ <br/>\n",
    "\n",
    "Therefore, the fourth number is 64. <br/>\n",
    "\n",
    "\n",
    "</div>\n",
    "\n",
    "</body>\n",
    "</html>"
   ]
  },
  {
   "cell_type": "code",
   "execution_count": 77,
   "metadata": {},
   "outputs": [
    {
     "name": "stdout",
     "output_type": "stream",
     "text": [
      "3.2.2 Suppose, the front row in your classroom has 23 seats. If you were asked to sit in the seat \n",
      " that occupied the median position, in which seat would you have to sit?\n"
     ]
    },
    {
     "data": {
      "application/vnd.jupyter.widget-view+json": {
       "model_id": "6a0006e297eb438ca317e31975379a3c",
       "version_major": 2,
       "version_minor": 0
      },
      "text/html": [
       "<p>Failed to display Jupyter Widget of type <code>RadioButtons</code>.</p>\n",
       "<p>\n",
       "  If you're reading this message in the Jupyter Notebook or JupyterLab Notebook, it may mean\n",
       "  that the widgets JavaScript is still loading. If this message persists, it\n",
       "  likely means that the widgets JavaScript library is either not installed or\n",
       "  not enabled. See the <a href=\"https://ipywidgets.readthedocs.io/en/stable/user_install.html\">Jupyter\n",
       "  Widgets Documentation</a> for setup instructions.\n",
       "</p>\n",
       "<p>\n",
       "  If you're reading this message in another frontend (for example, a static\n",
       "  rendering on GitHub or <a href=\"https://nbviewer.jupyter.org/\">NBViewer</a>),\n",
       "  it may mean that your frontend doesn't currently support widgets.\n",
       "</p>\n"
      ],
      "text/plain": [
       "RadioButtons(description='Choices:', index=1, options=('Select best one', '1', '23', '11.5', '13', 'None of the above'), value='1')"
      ]
     },
     "metadata": {},
     "output_type": "display_data"
    },
    {
     "name": "stdout",
     "output_type": "stream",
     "text": [
      "Wrong answer! Try again.\n"
     ]
    }
   ],
   "source": [
    "answer622 = widgets.RadioButtons(options=[  'Select best one','1', '23', '11.5', '13', \n",
    "                                          'None of the above'],\n",
    "                             value = 'Select best one', description='Choices:')\n",
    "\n",
    "question622 = \"3.2.2 Suppose, the front row in your classroom has 23 seats. If you were asked to sit in the seat \\n that occupied the median position, in which seat would you have to sit?\"\n",
    "\n",
    "\n",
    "def check622(d):\n",
    "    IPython.display.clear_output(wait=False)\n",
    "    display(question622, answer622)\n",
    "    if answer622.value == 'None of the above':\n",
    "        print(\"Correct Answer!\")\n",
    "    else:\n",
    "        if answer622.value == 'Select best one':\n",
    "            pass\n",
    "        else:\n",
    "            print(\"Wrong answer! Try again.\")\n",
    "        \n",
    "IPython.display.clear_output(wait=False)\n",
    "display(question622,answer622 )\n",
    "answer622.observe(check622, 'value')"
   ]
  },
  {
   "cell_type": "code",
   "execution_count": 78,
   "metadata": {},
   "outputs": [
    {
     "data": {
      "text/html": [
       "<html>\n",
       "<head>\n",
       "<script type=\"text/javascript\">\n",
       "<!--\n",
       "function toggle(id) {\n",
       "var e = document.getElementById(id);\n",
       "if(e.style.display == 'none')\n",
       "e.style.display = 'block';\n",
       "else\n",
       "e.style.display = 'none';\n",
       "}\n",
       "//-->\n",
       "</script>\n",
       "</head>\n",
       "\n",
       "<body>\n",
       "<div id=\"question622\">\n",
       " <button id = \"622\"\n",
       "onclick=\"toggle('answer622');\">Solution</button> \n",
       "</div>\n",
       "<div style=\"display:none\" id=\"answer622\">\n",
       "Let consider the arrangement of the seats are as follows: \n",
       "<img src=\"seatsArrangement.jpg\" alt=\"Empty Classrrom\" width=\"500\" height=\"333\">\n",
       "    <br/> \n",
       "    The number of seats is odd (23). To find out the median of the seats we need to divide <br/>\n",
       "    the total number of seats by 2 and we get 11.5. So, 12-th seat is in the median position <br/>\n",
       "    in the first row. But in the given choices there is no option for 12.<br/>\n",
       "    <b> Therefore the correct answer is 'None of the above.' </b>\n",
       "\n",
       "</div>\n",
       "\n",
       "</body>\n",
       "</html>"
      ],
      "text/plain": [
       "<IPython.core.display.HTML object>"
      ]
     },
     "metadata": {},
     "output_type": "display_data"
    }
   ],
   "source": [
    "%%html\n",
    "<html>\n",
    "<head>\n",
    "<script type=\"text/javascript\">\n",
    "<!--\n",
    "function toggle(id) {\n",
    "var e = document.getElementById(id);\n",
    "if(e.style.display == 'none')\n",
    "e.style.display = 'block';\n",
    "else\n",
    "e.style.display = 'none';\n",
    "}\n",
    "//-->\n",
    "</script>\n",
    "</head>\n",
    "\n",
    "<body>\n",
    "<div id=\"question622\">\n",
    " <button id = \"622\"\n",
    "onclick=\"toggle('answer622');\">Solution</button> \n",
    "</div>\n",
    "<div style=\"display:none\" id=\"answer622\">\n",
    "Let consider the arrangement of the seats are as follows: \n",
    "<img src=\"seatsArrangement.jpg\" alt=\"Empty Classrrom\" width=\"500\" height=\"333\">\n",
    "    <br/> \n",
    "    The number of seats is odd (23). To find out the median of the seats we need to divide <br/>\n",
    "    the total number of seats by 2 and we get 11.5. So, 12-th seat is in the median position <br/>\n",
    "    in the first row. But in the given choices there is no option for 12.<br/>\n",
    "    <b> Therefore the correct answer is 'None of the above.' </b>\n",
    "\n",
    "</div>\n",
    "\n",
    "</body>\n",
    "</html>"
   ]
  },
  {
   "cell_type": "markdown",
   "metadata": {},
   "source": [
    "## Hard \n",
    "Sara tried to compute the mean average of her 8 test scores. She mistakenly divided the correct sum of all her test scores by 7, which yields 96."
   ]
  },
  {
   "cell_type": "code",
   "execution_count": 79,
   "metadata": {},
   "outputs": [
    {
     "name": "stdout",
     "output_type": "stream",
     "text": [
      "3.3.1 What is Sara's mean test score? (Source: dummies)\n"
     ]
    },
    {
     "data": {
      "application/vnd.jupyter.widget-view+json": {
       "model_id": "7a30355f552847b7b690a13854d2bac4",
       "version_major": 2,
       "version_minor": 0
      },
      "text/html": [
       "<p>Failed to display Jupyter Widget of type <code>RadioButtons</code>.</p>\n",
       "<p>\n",
       "  If you're reading this message in the Jupyter Notebook or JupyterLab Notebook, it may mean\n",
       "  that the widgets JavaScript is still loading. If this message persists, it\n",
       "  likely means that the widgets JavaScript library is either not installed or\n",
       "  not enabled. See the <a href=\"https://ipywidgets.readthedocs.io/en/stable/user_install.html\">Jupyter\n",
       "  Widgets Documentation</a> for setup instructions.\n",
       "</p>\n",
       "<p>\n",
       "  If you're reading this message in another frontend (for example, a static\n",
       "  rendering on GitHub or <a href=\"https://nbviewer.jupyter.org/\">NBViewer</a>),\n",
       "  it may mean that your frontend doesn't currently support widgets.\n",
       "</p>\n"
      ],
      "text/plain": [
       "RadioButtons(description='Choices:', index=4, options=('Select best one', '78', '83.5', '100', '84', 'None of the above'), value='84')"
      ]
     },
     "metadata": {},
     "output_type": "display_data"
    },
    {
     "name": "stdout",
     "output_type": "stream",
     "text": [
      "Correct Answer!\n"
     ]
    }
   ],
   "source": [
    "answer631 = widgets.RadioButtons(options=[ 'Select best one','78', '83.5', '100', '84', 'None of the above'],\n",
    "                             value = 'Select best one', description='Choices:')\n",
    "\n",
    "question631 = \"3.3.1 What is Sara's mean test score? (Source: dummies)\"\n",
    "\n",
    "def check631(e):\n",
    "    IPython.display.clear_output(wait=False)\n",
    "    display(question631, answer631)\n",
    "    if answer631.value == '84':\n",
    "        print(\"Correct Answer!\")\n",
    "    else:\n",
    "        if answer631.value == 'Select best one':\n",
    "            pass\n",
    "        else:\n",
    "            print(\"Wrong answer! Try again.\")\n",
    "        \n",
    "IPython.display.clear_output(wait=False)\n",
    "display(question631, answer631)\n",
    "answer631.observe(check631, 'value')"
   ]
  },
  {
   "cell_type": "code",
   "execution_count": 80,
   "metadata": {},
   "outputs": [
    {
     "data": {
      "text/html": [
       "<html>\n",
       "<head>\n",
       "<script type=\"text/javascript\">\n",
       "<!--\n",
       "function toggle(id) {\n",
       "var e = document.getElementById(id);\n",
       "if(e.style.display == 'none')\n",
       "e.style.display = 'block';\n",
       "else\n",
       "e.style.display = 'none';\n",
       "}\n",
       "//-->\n",
       "</script>\n",
       "</head>\n",
       "\n",
       "<body>\n",
       "<div id=\"question631\">\n",
       " <button id = \"631\"\n",
       "onclick=\"toggle('answer631');\">Solution</button> \n",
       "</div>\n",
       "<div style=\"display:none\" id=\"answer631\">\n",
       "You know the test score mean of Sara when divided by 7, you can determine the sum of her scores. This information will then allow you\n",
       "to determine her mean average over 8 tests.<br/>\n",
       "\n",
       "Apply the average formula to her mistaken calculation. <br/>\n",
       "\n",
       "96 = sum of scores ÷ 7 <br/>\n",
       "\n",
       "96 × 7 = sum of scores <br/>\n",
       "\n",
       "672 = sum of scores <br/> \n",
       "\n",
       "Now that you know her test score sum, you can figure her true mean average.<br/> \n",
       "\n",
       "Mean average = 672 ÷ 8 <br/>\n",
       "\n",
       "Mean average = 84 <br/>\n",
       "\n",
       "So, the correct answer is D. <br/>\n",
       "\n",
       "</div>\n",
       "\n",
       "</body>\n",
       "</html>"
      ],
      "text/plain": [
       "<IPython.core.display.HTML object>"
      ]
     },
     "metadata": {},
     "output_type": "display_data"
    }
   ],
   "source": [
    "%%html\n",
    "<html>\n",
    "<head>\n",
    "<script type=\"text/javascript\">\n",
    "<!--\n",
    "function toggle(id) {\n",
    "var e = document.getElementById(id);\n",
    "if(e.style.display == 'none')\n",
    "e.style.display = 'block';\n",
    "else\n",
    "e.style.display = 'none';\n",
    "}\n",
    "//-->\n",
    "</script>\n",
    "</head>\n",
    "\n",
    "<body>\n",
    "<div id=\"question631\">\n",
    " <button id = \"631\"\n",
    "onclick=\"toggle('answer631');\">Solution</button> \n",
    "</div>\n",
    "<div style=\"display:none\" id=\"answer631\">\n",
    "You know the test score mean of Sara when divided by 7, you can determine the sum of her scores. This information will then allow you\n",
    "to determine her mean average over 8 tests.<br/>\n",
    "\n",
    "Apply the average formula to her mistaken calculation. <br/>\n",
    "\n",
    "96 = sum of scores ÷ 7 <br/>\n",
    "\n",
    "96 × 7 = sum of scores <br/>\n",
    "\n",
    "672 = sum of scores <br/> \n",
    "\n",
    "Now that you know her test score sum, you can figure her true mean average.<br/> \n",
    "\n",
    "Mean average = 672 ÷ 8 <br/>\n",
    "\n",
    "Mean average = 84 <br/>\n",
    "\n",
    "So, the correct answer is D. <br/>\n",
    "\n",
    "</div>\n",
    "\n",
    "</body>\n",
    "</html>"
   ]
  },
  {
   "cell_type": "code",
   "execution_count": 81,
   "metadata": {},
   "outputs": [
    {
     "name": "stdout",
     "output_type": "stream",
     "text": [
      "3.3.2 A set of four numbers that begins with the number 32 is arranged from smallest to largest.\n",
      " If the median is 35, which of the following could possibly be the set of numbers?\n"
     ]
    },
    {
     "data": {
      "application/vnd.jupyter.widget-view+json": {
       "model_id": "cde866cc8ca140b1a729a060f2beff11",
       "version_major": 2,
       "version_minor": 0
      },
      "text/html": [
       "<p>Failed to display Jupyter Widget of type <code>RadioButtons</code>.</p>\n",
       "<p>\n",
       "  If you're reading this message in the Jupyter Notebook or JupyterLab Notebook, it may mean\n",
       "  that the widgets JavaScript is still loading. If this message persists, it\n",
       "  likely means that the widgets JavaScript library is either not installed or\n",
       "  not enabled. See the <a href=\"https://ipywidgets.readthedocs.io/en/stable/user_install.html\">Jupyter\n",
       "  Widgets Documentation</a> for setup instructions.\n",
       "</p>\n",
       "<p>\n",
       "  If you're reading this message in another frontend (for example, a static\n",
       "  rendering on GitHub or <a href=\"https://nbviewer.jupyter.org/\">NBViewer</a>),\n",
       "  it may mean that your frontend doesn't currently support widgets.\n",
       "</p>\n"
      ],
      "text/plain": [
       "RadioButtons(description='Choices:', index=3, options=('Select best one', '32, 34, 35, 36', '32, 35, 36, 41', '32, 34, 40, 44', '32, 32, 38, 38', 'None of the above'), value='32, 34, 40, 44')"
      ]
     },
     "metadata": {},
     "output_type": "display_data"
    },
    {
     "name": "stdout",
     "output_type": "stream",
     "text": [
      "Wrong answer! Try again.\n"
     ]
    }
   ],
   "source": [
    "answer632 = widgets.RadioButtons(options=[ 'Select best one','32, 34, 35, 36', '32, 35, 36, 41', '32, 34, 40, 44', '32, 32, 38, 38', 'None of the above'],\n",
    "                             value = 'Select best one', description='Choices:')\n",
    "\n",
    "question632 = \"3.3.2 A set of four numbers that begins with the number 32 is arranged from smallest to largest.\\n If the median is 35, which of the following could possibly be the set of numbers?\"\n",
    "\n",
    "def check632(e):\n",
    "    IPython.display.clear_output(wait=False)\n",
    "    display(question632, answer632)\n",
    "    if answer632.value == '32, 32, 38, 38':\n",
    "        print(\"Correct Answer!\")\n",
    "    else:\n",
    "        if answer632.value == 'Select best one':\n",
    "            pass\n",
    "        else:\n",
    "            print(\"Wrong answer! Try again.\")\n",
    "        \n",
    "IPython.display.clear_output(wait=False)\n",
    "display(question632, answer632)\n",
    "answer632.observe(check632, 'value')"
   ]
  },
  {
   "cell_type": "code",
   "execution_count": 82,
   "metadata": {},
   "outputs": [
    {
     "data": {
      "text/html": [
       "<html>\n",
       "<head>\n",
       "<script type=\"text/javascript\">\n",
       "<!--\n",
       "function toggle(id) {\n",
       "var e = document.getElementById(id);\n",
       "if(e.style.display == 'none')\n",
       "e.style.display = 'block';\n",
       "else\n",
       "e.style.display = 'none';\n",
       "}\n",
       "//-->\n",
       "</script>\n",
       "</head>\n",
       "\n",
       "<body>\n",
       "<div id=\"question632\">\n",
       " <button id = \"632\"\n",
       "onclick=\"toggle('answer632');\">Solution</button> \n",
       "</div>\n",
       "<div style=\"display:none\" id=\"answer632\">\n",
       "We are given the median of four numbers is 35. We can imply from the given information is that the sum <br/> \n",
       "of the numbers is 140. Now we check all the choices one by one. We add all the numbers of first choice and get 137. <br/>\n",
       "So it is not our correct answer. <br/>\n",
       "Similarly, for the next choices we get 144, 150, and 140 for second, third and fourth choices, respectively, <br/>\n",
       "Therefore, the correct series is: 32, 32, 38, 38.<br/>\n",
       "\n",
       "</div>\n",
       "\n",
       "</body>\n",
       "</html>"
      ],
      "text/plain": [
       "<IPython.core.display.HTML object>"
      ]
     },
     "metadata": {},
     "output_type": "display_data"
    }
   ],
   "source": [
    "%%html\n",
    "<html>\n",
    "<head>\n",
    "<script type=\"text/javascript\">\n",
    "<!--\n",
    "function toggle(id) {\n",
    "var e = document.getElementById(id);\n",
    "if(e.style.display == 'none')\n",
    "e.style.display = 'block';\n",
    "else\n",
    "e.style.display = 'none';\n",
    "}\n",
    "//-->\n",
    "</script>\n",
    "</head>\n",
    "\n",
    "<body>\n",
    "<div id=\"question632\">\n",
    " <button id = \"632\"\n",
    "onclick=\"toggle('answer632');\">Solution</button> \n",
    "</div>\n",
    "<div style=\"display:none\" id=\"answer632\">\n",
    "We are given the median of four numbers is 35. We can imply from the given information is that the sum <br/> \n",
    "of the numbers is 140. Now we check all the choices one by one. We add all the numbers of first choice and get 137. <br/>\n",
    "So it is not our correct answer. <br/>\n",
    "Similarly, for the next choices we get 144, 150, and 140 for second, third and fourth choices, respectively, <br/>\n",
    "Therefore, the correct series is: 32, 32, 38, 38.<br/>\n",
    "\n",
    "</div>\n",
    "\n",
    "</body>\n",
    "</html>\n"
   ]
  },
  {
   "cell_type": "markdown",
   "metadata": {},
   "source": [
    "A student recorded her scores on weekly math quizzes that were marked out of a possible 10 points. Her scores were as follows: <br> \n",
    "8, 5, 8, 5, 7, 6, 7, 7, 5, 7, 5, 5, 6, 6, 9, 8, 9, 7, 9, 9, 6, 8, 6, 6, 7"
   ]
  },
  {
   "cell_type": "code",
   "execution_count": 83,
   "metadata": {},
   "outputs": [
    {
     "name": "stdout",
     "output_type": "stream",
     "text": [
      "3.4.1 What is/are the mode of her records?\n"
     ]
    },
    {
     "data": {
      "application/vnd.jupyter.widget-view+json": {
       "model_id": "77df442b59b44471b1ac0bcf27111a70",
       "version_major": 2,
       "version_minor": 0
      },
      "text/html": [
       "<p>Failed to display Jupyter Widget of type <code>RadioButtons</code>.</p>\n",
       "<p>\n",
       "  If you're reading this message in the Jupyter Notebook or JupyterLab Notebook, it may mean\n",
       "  that the widgets JavaScript is still loading. If this message persists, it\n",
       "  likely means that the widgets JavaScript library is either not installed or\n",
       "  not enabled. See the <a href=\"https://ipywidgets.readthedocs.io/en/stable/user_install.html\">Jupyter\n",
       "  Widgets Documentation</a> for setup instructions.\n",
       "</p>\n",
       "<p>\n",
       "  If you're reading this message in another frontend (for example, a static\n",
       "  rendering on GitHub or <a href=\"https://nbviewer.jupyter.org/\">NBViewer</a>),\n",
       "  it may mean that your frontend doesn't currently support widgets.\n",
       "</p>\n"
      ],
      "text/plain": [
       "RadioButtons(description='Choices:', index=2, options=('Select best one', '6', ' 7', '6 and 7', '8 and 9', 'None of the above'), value=' 7')"
      ]
     },
     "metadata": {},
     "output_type": "display_data"
    },
    {
     "name": "stdout",
     "output_type": "stream",
     "text": [
      "Wrong answer! Try again.\n"
     ]
    }
   ],
   "source": [
    "answer641 = widgets.RadioButtons(options=['Select best one','6', ' 7', '6 and 7', '8 and 9', 'None of the above'],\n",
    "                              value='Select best one',description='Choices:')\n",
    "\n",
    "question641 = \"3.4.1 What is/are the mode of her records?\"\n",
    "\n",
    "\n",
    "def checkAnswer641(f):\n",
    "    IPython.display.clear_output(wait=False)\n",
    "    display(question641, answer641 )\n",
    "    if answer641.value == '6 and 7':\n",
    "        print(\"Correct Answer!\")\n",
    "    else:\n",
    "        if answer641.value == 'Select best one':\n",
    "            pass\n",
    "        else:\n",
    "            print(\"Wrong answer! Try again.\")\n",
    "\n",
    "IPython.display.clear_output(wait=False)\n",
    "display(question641, answer641)\n",
    "answer641.observe(checkAnswer641, 'value')"
   ]
  },
  {
   "cell_type": "code",
   "execution_count": 84,
   "metadata": {},
   "outputs": [
    {
     "data": {
      "text/html": [
       "<html>\n",
       "<head>\n",
       "<script type=\"text/javascript\">\n",
       "<!--\n",
       "function toggle(id) {\n",
       "var e = document.getElementById(id);\n",
       "if(e.style.display == 'none')\n",
       "e.style.display = 'block';\n",
       "else\n",
       "e.style.display = 'none';\n",
       "}\n",
       "//-->\n",
       "</script>\n",
       "</head>\n",
       "\n",
       "<body>\n",
       "<div id=\"question641\">\n",
       " <button id = \"641\"\n",
       "onclick=\"toggle('answer641');\">Solution</button> \n",
       "</div>\n",
       "<div style=\"display:none\" id=\"answer641\">\n",
       "At first, let sort the scores on weekly math quizzes: <br/>\n",
       "    $ 5, 5, 5, 5, 5, 6, 6, 6, 6, 6, 6, 7, 7, 7, 7, 7, 7, 8, 8, 8, 8, 9, 9, 9, 9$ <br/>\n",
       "From the sorted points, we can imply, <br/>\n",
       "The repetitions of 5 is: five <br/>\n",
       "    6 and 7 repeat six times and 8 and 9 repeat four times.<br/> \n",
       "    Therefore, the mode of her scores are: 6 and 7 <br/>\n",
       "   \n",
       "</div>\n",
       "\n",
       "</body>\n",
       "</html>"
      ],
      "text/plain": [
       "<IPython.core.display.HTML object>"
      ]
     },
     "metadata": {},
     "output_type": "display_data"
    }
   ],
   "source": [
    "%%html\n",
    "<html>\n",
    "<head>\n",
    "<script type=\"text/javascript\">\n",
    "<!--\n",
    "function toggle(id) {\n",
    "var e = document.getElementById(id);\n",
    "if(e.style.display == 'none')\n",
    "e.style.display = 'block';\n",
    "else\n",
    "e.style.display = 'none';\n",
    "}\n",
    "//-->\n",
    "</script>\n",
    "</head>\n",
    "\n",
    "<body>\n",
    "<div id=\"question641\">\n",
    " <button id = \"641\"\n",
    "onclick=\"toggle('answer641');\">Solution</button> \n",
    "</div>\n",
    "<div style=\"display:none\" id=\"answer641\">\n",
    "At first, let sort the scores on weekly math quizzes: <br/>\n",
    "    $ 5, 5, 5, 5, 5, 6, 6, 6, 6, 6, 6, 7, 7, 7, 7, 7, 7, 8, 8, 8, 8, 9, 9, 9, 9$ <br/>\n",
    "From the sorted points, we can imply, <br/>\n",
    "The repetitions of 5 is: five <br/>\n",
    "    6 and 7 repeat six times and 8 and 9 repeat four times.<br/> \n",
    "    Therefore, the mode of her scores are: 6 and 7 <br/>\n",
    "   \n",
    "</div>\n",
    "\n",
    "</body>\n",
    "</html>"
   ]
  },
  {
   "cell_type": "code",
   "execution_count": 85,
   "metadata": {},
   "outputs": [
    {
     "name": "stdout",
     "output_type": "stream",
     "text": [
      "3.4.2 The average of five positive integers is less than 20. What is the smallest possible median of this set?\n"
     ]
    },
    {
     "data": {
      "application/vnd.jupyter.widget-view+json": {
       "model_id": "45a490af182f4f3ea81b44c20cb58cd0",
       "version_major": 2,
       "version_minor": 0
      },
      "text/html": [
       "<p>Failed to display Jupyter Widget of type <code>RadioButtons</code>.</p>\n",
       "<p>\n",
       "  If you're reading this message in the Jupyter Notebook or JupyterLab Notebook, it may mean\n",
       "  that the widgets JavaScript is still loading. If this message persists, it\n",
       "  likely means that the widgets JavaScript library is either not installed or\n",
       "  not enabled. See the <a href=\"https://ipywidgets.readthedocs.io/en/stable/user_install.html\">Jupyter\n",
       "  Widgets Documentation</a> for setup instructions.\n",
       "</p>\n",
       "<p>\n",
       "  If you're reading this message in another frontend (for example, a static\n",
       "  rendering on GitHub or <a href=\"https://nbviewer.jupyter.org/\">NBViewer</a>),\n",
       "  it may mean that your frontend doesn't currently support widgets.\n",
       "</p>\n"
      ],
      "text/plain": [
       "RadioButtons(description='Choices:', index=1, options=('Select best one', '1', '2', '4', '19', 'None of the above'), value='1')"
      ]
     },
     "metadata": {},
     "output_type": "display_data"
    },
    {
     "name": "stdout",
     "output_type": "stream",
     "text": [
      "Correct Answer!\n"
     ]
    }
   ],
   "source": [
    "answer642 = widgets.RadioButtons(options=['Select best one', '1', '2', '4', '19', 'None of the above'],\n",
    "                             value = 'Select best one',  description='Choices:')\n",
    "\n",
    "question642 = \"3.4.2 The average of five positive integers is less than 20. What is the smallest possible median of this set?\"\n",
    "\n",
    "def check642(g):\n",
    "    IPython.display.clear_output(wait=False)\n",
    "    display(question642, answer642)\n",
    "    if answer642.value == '1':\n",
    "        print(\"Correct Answer!\")\n",
    "    else:\n",
    "        if answer642.value == 'Select best one':\n",
    "            pass\n",
    "        else:\n",
    "            print(\"Wrong answer! Try again.\")\n",
    "\n",
    "IPython.display.clear_output(wait=False)\n",
    "display(question642, answer642)\n",
    "answer642.observe(check642, 'value')"
   ]
  },
  {
   "cell_type": "code",
   "execution_count": 86,
   "metadata": {},
   "outputs": [
    {
     "data": {
      "text/html": [
       "<html>\n",
       "<head>\n",
       "<script type=\"text/javascript\">\n",
       "<!--\n",
       "function toggle(id) {\n",
       "var e = document.getElementById(id);\n",
       "if(e.style.display == 'none')\n",
       "e.style.display = 'block';\n",
       "else\n",
       "e.style.display = 'none';\n",
       "}\n",
       "//-->\n",
       "</script>\n",
       "</head>\n",
       "\n",
       "<body>\n",
       "<div id=\"question642\">\n",
       " <button id = \"642\"\n",
       "onclick=\"toggle('answer642');\">Solution</button> \n",
       "</div>\n",
       "<div style=\"display:none\" id=\"answer642\">\n",
       "As we are given that the numbers are positive integers that means all numbers should be\n",
       "<br/>greater than or equal 1. Let assume the five  numbers are 1, 1, 1, 1, 16. The sum is equal\n",
       "<br/>to 20 and the average is 20/5 = 4 which is less than 20. All given conditions are satisfied. \n",
       "<br > <b>Therefore, the samllest possible median is 1. <b> <br/>\n",
       "\n",
       "</div>\n",
       "\n",
       "</body>\n",
       "</html>"
      ],
      "text/plain": [
       "<IPython.core.display.HTML object>"
      ]
     },
     "metadata": {},
     "output_type": "display_data"
    }
   ],
   "source": [
    "%%html\n",
    "<html>\n",
    "<head>\n",
    "<script type=\"text/javascript\">\n",
    "<!--\n",
    "function toggle(id) {\n",
    "var e = document.getElementById(id);\n",
    "if(e.style.display == 'none')\n",
    "e.style.display = 'block';\n",
    "else\n",
    "e.style.display = 'none';\n",
    "}\n",
    "//-->\n",
    "</script>\n",
    "</head>\n",
    "\n",
    "<body>\n",
    "<div id=\"question642\">\n",
    " <button id = \"642\"\n",
    "onclick=\"toggle('answer642');\">Solution</button> \n",
    "</div>\n",
    "<div style=\"display:none\" id=\"answer642\">\n",
    "As we are given that the numbers are positive integers that means all numbers should be\n",
    "<br/>greater than or equal 1. Let assume the five  numbers are 1, 1, 1, 1, 16. The sum is equal\n",
    "<br/>to 20 and the average is 20/5 = 4 which is less than 20. All given conditions are satisfied. \n",
    "<br > <b>Therefore, the samllest possible median is 1. <b> <br/>\n",
    "\n",
    "</div>\n",
    "\n",
    "</body>\n",
    "</html>"
   ]
  },
  {
   "cell_type": "markdown",
   "metadata": {},
   "source": [
    "![alt text][bottom-banner]\n",
    "\n",
    "[bottom-banner]: ./callysto-bottom-banner.jpg"
   ]
  }
 ],
 "metadata": {
  "kernelspec": {
   "display_name": "Python 3",
   "language": "python",
   "name": "python3"
  },
  "language_info": {
   "codemirror_mode": {
    "name": "ipython",
    "version": 3
   },
   "file_extension": ".py",
   "mimetype": "text/x-python",
   "name": "python",
   "nbconvert_exporter": "python",
   "pygments_lexer": "ipython3",
   "version": "3.6.5"
  }
 },
 "nbformat": 4,
 "nbformat_minor": 2
}
