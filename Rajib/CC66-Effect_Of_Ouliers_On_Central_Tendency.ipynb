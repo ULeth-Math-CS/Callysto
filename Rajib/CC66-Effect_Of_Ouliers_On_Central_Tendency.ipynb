{
 "cells": [
  {
   "cell_type": "markdown",
   "metadata": {},
   "source": [
    "![alt text][top-banner]\n",
    "\n",
    "[top-banner]: ./callysto-top-banner.jpg"
   ]
  },
  {
   "cell_type": "code",
   "execution_count": 4,
   "metadata": {},
   "outputs": [
    {
     "data": {
      "text/html": [
       "<script>\n",
       "code_show=true; \n",
       "function code_toggle() {\n",
       "  if (code_show) {\n",
       "    $('div.input').each(function(id) {\n",
       "      el = $(this).find('.cm-variable:first');\n",
       "      if (id == 0 || el.text() == 'hide_me') {\n",
       "        $(this).hide();\n",
       "      }\n",
       "    });\n",
       "    $('div.output_prompt').css('opacity', 0);\n",
       "  } else {\n",
       "    $('div.input').each(function(id) {\n",
       "      $(this).show();\n",
       "    });\n",
       "    $('div.output_prompt').css('opacity', 1);\n",
       "  }\n",
       "  code_show = !code_show\n",
       "} \n",
       "$( document ).ready(code_toggle);\n",
       "</script>The raw code for this IPython notebook is by default hidden for easier reading.\n",
       "To toggle on/off the raw code,\n",
       "<form action=\"javascript:code_toggle()\"><input style=\"opacity:1\" type=\"submit\" value=\"Click here to toggle on/off the raw code.\"></form>"
      ],
      "text/plain": [
       "<IPython.core.display.HTML object>"
      ]
     },
     "execution_count": 4,
     "metadata": {},
     "output_type": "execute_result"
    }
   ],
   "source": [
    "from IPython.display import HTML\n",
    "hide_me = ''\n",
    "HTML('''<script>\n",
    "code_show=true; \n",
    "function code_toggle() {\n",
    "  if (code_show) {\n",
    "    $('div.input').each(function(id) {\n",
    "      el = $(this).find('.cm-variable:first');\n",
    "      if (id == 0 || el.text() == 'hide_me') {\n",
    "        $(this).hide();\n",
    "      }\n",
    "    });\n",
    "    $('div.output_prompt').css('opacity', 0);\n",
    "  } else {\n",
    "    $('div.input').each(function(id) {\n",
    "      $(this).show();\n",
    "    });\n",
    "    $('div.output_prompt').css('opacity', 1);\n",
    "  }\n",
    "  code_show = !code_show\n",
    "} \n",
    "$( document ).ready(code_toggle);\n",
    "</script>The raw code for this IPython notebook is by default hidden for easier reading.\n",
    "To toggle on/off the raw code,\n",
    "<form action=\"javascript:code_toggle()\"><input style=\"opacity:1\" type=\"submit\" value=\"Click here to toggle on/off the raw code.\"></form>''')"
   ]
  },
  {
   "cell_type": "code",
   "execution_count": 5,
   "metadata": {},
   "outputs": [],
   "source": [
    "hide_me\n",
    "import numpy as np\n",
    "import matplotlib.mlab as mlab\n",
    "import matplotlib.pyplot as plt\n",
    "from ipywidgets import interact, widgets, Button, Layout\n",
    "from scipy import stats\n",
    "from collections import Counter\n",
    "from array import array\n",
    "from statistics import mode\n",
    "import IPython\n",
    "import pandas\n",
    "import sys\n",
    "from astropy.table import Table\n",
    "import tkinter\n",
    "import csv\n",
    "import pandas as pd\n",
    "from pandas import DataFrame"
   ]
  },
  {
   "cell_type": "markdown",
   "metadata": {},
   "source": [
    "# Effect of Outliers on Central Tendency\n",
    "This notebook(CC-66) will explore the effect of outliers on central tendency (mean, median, and mode).\n",
    "\n",
    "This notebook is organized as follows. \n",
    "* Section 1 contains preliminaries, the definition of outliers, and two primary examples. \n",
    "* In Section 2, we first compute the basic central tendency without outliers by importing a data set from local folder.\n",
    "* In Section 3, you'll get to use some basic Python tools to adjust a dataset by adding one or more outliers.<br>\n",
    "You'll then be able to observe the effect of those outliers on mean, median, and mode. \n",
    "* In Section 4, we show how to use Python's statistics libraries to analyze date. \n",
    "* Section 5 contains interactive exercises for students. \n",
    "\n",
    "\n",
    "##  <font color='Blue'>  Section 1 </font> \n",
    "## Preliminaries\n",
    "The definitions and basic examples for mean, median, and mode were discussed in [a previous notebook](CC65-Central_Tendency.ipynb). <br>\n",
    "You may want to review that notebook before proceeding.\n",
    "\n",
    "\n",
    "\n",
    "### 1.1 Outlier : Out, liar\n",
    "A value that \"lies outside\" (is much smaller or larger than) most of the other values in a set of data.\n",
    "\n",
    "##### 1.1.1 Example \n",
    "Data set: $2, 26, 23, 27, 25, 28, 29, 24, 99 $\n",
    "<br> $2$ and $99$ are smaller and larger, respectively, than the other data.\n",
    "<br> Therefore, the outliers of the data set are $2$ and $99$\n",
    "\n",
    "\n",
    "##### 1.1.2 Example \n",
    "In a math test, ten students obtained following marks (out of $100$): <br>\n",
    "$78, 87, 85, 96, 84, 92, 102, 79, 81, 97$\n",
    "\n",
    "In the data set there is no data that is obviously smaller or larger than the other values.<br>\n",
    "But we are told that the exam was out of $100$, so an individual can get at best $100$ for their mark on the test.<br>\n",
    "Any mark that exceeds this maximum range should be suspicious. (Maybe there were bonus marks?)<br>\n",
    "Since it's an unexpected value, $102$ is the outlier in the data set.  "
   ]
  },
  {
   "cell_type": "markdown",
   "metadata": {},
   "source": [
    "##  <font color='Blue'>  Section 1 </font> \n",
    "## Central Tendency Computation: Sodium content \n",
    "\n",
    "Now we will calculate the mean, median, and mode for a dataset stored in a local text (csv) file. This particular data happens to be the sodium content per serving in a selection of supermarket items. You'll notice one number in the list below that's far greater than the others: this is the outlier in our dataset. (The product? In case you were wondering, it's soy sauce.)\n",
    "\n",
    "### 2.1 Import Data\n",
    "The block of code below imports our data. First we display the full view of the data set.There are 29 products that contain different sodium content as follows.  "
   ]
  },
  {
   "cell_type": "code",
   "execution_count": 6,
   "metadata": {},
   "outputs": [
    {
     "name": "stdout",
     "output_type": "stream",
     "text": [
      "                             Product   Sodium content\n",
      "0             Tomato sauce (Brand A)              871\n",
      "1             Tomato sauce (Brand B)             1250\n",
      "2                          Soy sauce             6458\n",
      "3                    Tinned tomatoes              270\n",
      "4                      Four bean mix              250\n",
      "5                       Corn kernels              205\n",
      "6                 Mushrooms (tinned)              340\n",
      "7                       Tomato paste              843\n",
      "8                 Chunky pasta sauce              482\n",
      "9                      Chicken stock              521\n",
      "10                        Beef stock              450\n",
      "11                           Peanuts              360\n",
      "12               Beef strogonoff mix              780\n",
      "13            Dry roasted macadamias              340\n",
      "14                           Cashews              510\n",
      "15                            Butter              460\n",
      "16                  Sunflower spread              380\n",
      "17                       Baked beans              290\n",
      "18                     Peanut butter              458\n",
      "19                 French onion soup              335\n",
      "20               Chicken noodle soup              355\n",
      "21                Margarine original              590\n",
      "22                       Pink salmon              600\n",
      "23                 Gravy mix supreme              595\n",
      "24                   Vegetable stock              547\n",
      "25                    Precooked meat             1036\n",
      "26                         Spaghetti              410\n",
      "27  Mixed nuts with green pistachios              190\n",
      "28                        Red salmon              530\n"
     ]
    }
   ],
   "source": [
    "df = pd.read_csv('CC66_materials/exampleDataSource.csv')\n",
    "print(df)"
   ]
  },
  {
   "cell_type": "markdown",
   "metadata": {},
   "source": [
    "Now we will read the data one by one and store them into an array. The first line imports the file. The next lines tell Jupyter how to read the file, and the last line tells Jupyter to display the information it read from the file."
   ]
  },
  {
   "cell_type": "code",
   "execution_count": 7,
   "metadata": {},
   "outputs": [
    {
     "name": "stdout",
     "output_type": "stream",
     "text": [
      "Sodium content read from the file:  [871, 1250, 6458, 270, 250, 205, 340, 843, 482, 521, 450, 360, 780, 340, 510, 460, 380, 290, 458, 335, 355, 590, 600, 595, 547, 1036, 410, 190, 530]\n"
     ]
    }
   ],
   "source": [
    "data = []\n",
    "with open('exampleData.csv', 'r') as f:\n",
    "    reader = csv.reader(f)\n",
    "    for row in reader:\n",
    "        data.append(int(row[1]))\n",
    "print(\"Sodium content read from the file: \", data)"
   ]
  },
  {
   "cell_type": "markdown",
   "metadata": {},
   "source": [
    "Now that we've loaded our data, we need to process it. <br>\n"
   ]
  },
  {
   "cell_type": "code",
   "execution_count": 8,
   "metadata": {},
   "outputs": [],
   "source": [
    "hide_me\n",
    "def computeCenTendency(dataset):\n",
    "    \n",
    "    #mean value\n",
    "    mean= np.mean(dataset)\n",
    "    print(\"Mean: \", round(mean,3))\n",
    "\n",
    "    #median value\n",
    "    # First we need to sort the data in ascending order\n",
    "    dataset.sort()\n",
    "    median = np.median(dataset)\n",
    "    print(\"Median: \", round(median,3))\n",
    "    \n",
    "    # Mode\n",
    "    hits = []\n",
    "    for item in dataset:\n",
    "        tally = dataset.count(item)\n",
    "        #Makes a tuple that is the number of huts paired with the relevant number\n",
    "        values = (tally, item)\n",
    "        # Only add one entry for each number in the set\n",
    "        if values not in hits:\n",
    "            hits.append(values)\n",
    "    hits.sort(reverse=True)\n",
    "    if hits[0][0]>hits[1][0]:\n",
    "        print(\"Mode:\", round(hits[0][1],3), \"(appeared\", hits[0][0], \"times.)\")\n",
    "    else:\n",
    "        print(\"There is no mode\")\n",
    "\n",
    "    Counter(dataset)\n",
    "    return mean, median, hits[0][1]\n"
   ]
  },
  {
   "cell_type": "markdown",
   "metadata": {},
   "source": [
    "### 2.3 Calculation \n",
    "Now we call a function which will return us the mean, median, and mode of a dataset.. The required parameter of the function is the list of data. "
   ]
  },
  {
   "cell_type": "code",
   "execution_count": 9,
   "metadata": {},
   "outputs": [
    {
     "name": "stdout",
     "output_type": "stream",
     "text": [
      "Mean:  714.0\n",
      "Median:  460.0\n",
      "Mode: 340 (appeared 2 times.)\n"
     ]
    }
   ],
   "source": [
    "centralTendency = []\n",
    "centralTendency = computeCenTendency(data)"
   ]
  },
  {
   "cell_type": "markdown",
   "metadata": {},
   "source": [
    "### 2.4 Histogram\n",
    "\n",
    "Next, we will produce a **histogram** of our data. A histogram is a useful plot for visualizing how the values in our dataset are distributed.<br>\n",
    "Again, we begin by importing the Python libraries needed to accomplish the task.<br>"
   ]
  },
  {
   "cell_type": "markdown",
   "metadata": {},
   "source": [
    "Now we can define our histogram plot. The definition depends on a number of parameters, such the number of 'bins'.<br>\n",
    "When there are a lot of data points, we don't plot each point individually. Instead, we group together nearby values.<br>\n",
    "Each such grouping, given by a range of values, is called a *bin*.<br>\n",
    "The height of each bar in the histogram is given by the number of data points in the corresponding bin."
   ]
  },
  {
   "cell_type": "code",
   "execution_count": 10,
   "metadata": {},
   "outputs": [],
   "source": [
    "hide_me\n",
    "\n",
    "def plotHistogram(x_values, num_bins, xLabel, yLabel, histTitle):\n",
    "    n, bins, patches = plt.hist(x_values, num_bins, facecolor='blue', alpha=0.5)\n",
    "\n",
    "    plt.xlabel(xLabel)\n",
    "    plt.ylabel(yLabel)\n",
    "    plt.title(histTitle)\n",
    "    plt.show()"
   ]
  },
  {
   "cell_type": "markdown",
   "metadata": {},
   "source": [
    "Now we define another function to get the value of *bin* value size from the user and generate a histogram based on the value."
   ]
  },
  {
   "cell_type": "code",
   "execution_count": 11,
   "metadata": {},
   "outputs": [],
   "source": [
    "hide_me\n",
    "\n",
    "def callPlottingFunction(num_bins):\n",
    "    print(\"Generating... plot for :\", num_bins)\n",
    "    plotHistogram(data, num_bins , 'Sodium Content', 'values', 'Histogram of 30 products in Australian supermarkets')\n",
    "\n"
   ]
  },
  {
   "cell_type": "markdown",
   "metadata": {},
   "source": [
    "#### 2.4.1 Interactive histogram\n",
    "To present the histogram in a interactive way, here we have used a Python widget called a slider.<br>\n",
    "We invoke a built in function named *interact()*, that automatically creates user interface controls for exploring code and data interactively. \n",
    "\n",
    "In the following slider, we can adjust the *bin* size (labeled as *num_bins* ) and generate histogram with the value of num_bins.<br>\n",
    "Students can change the value between the range of $0$ to $100$. By default the value of *num_bins* is set to 50.<br> \n",
    "Actually there is no good bin size. It depends on data set. It has impact on data representation. If you take lower bin size then the data will be congested and scatter for higher bin value. That is why we make $50$ as a default value but the user is requested to move the slider value to the left (say 05) and right (say 95) marginal value and observe the histogram accordingly. In general, if an outlier is more higher than the other data then if you increase the *num_bins* value you will find the outlier, and vice versa. \n",
    "To generate the histogram for different values click anywhere on the slider. \n",
    "\n",
    "N.B. The interactivity here is a little rough: the graph disappears and reappears each time the slider value changes!"
   ]
  },
  {
   "cell_type": "code",
   "execution_count": 12,
   "metadata": {},
   "outputs": [
    {
     "data": {
      "application/vnd.jupyter.widget-view+json": {
       "model_id": "01df87900b7144c0881eb5f96c49dee3",
       "version_major": 2,
       "version_minor": 0
      },
      "text/html": [
       "<p>Failed to display Jupyter Widget of type <code>interactive</code>.</p>\n",
       "<p>\n",
       "  If you're reading this message in the Jupyter Notebook or JupyterLab Notebook, it may mean\n",
       "  that the widgets JavaScript is still loading. If this message persists, it\n",
       "  likely means that the widgets JavaScript library is either not installed or\n",
       "  not enabled. See the <a href=\"https://ipywidgets.readthedocs.io/en/stable/user_install.html\">Jupyter\n",
       "  Widgets Documentation</a> for setup instructions.\n",
       "</p>\n",
       "<p>\n",
       "  If you're reading this message in another frontend (for example, a static\n",
       "  rendering on GitHub or <a href=\"https://nbviewer.jupyter.org/\">NBViewer</a>),\n",
       "  it may mean that your frontend doesn't currently support widgets.\n",
       "</p>\n"
      ],
      "text/plain": [
       "interactive(children=(IntSlider(value=50, description='num_bins'), Output()), _dom_classes=('widget-interact',))"
      ]
     },
     "metadata": {},
     "output_type": "display_data"
    }
   ],
   "source": [
    "interact(callPlottingFunction, num_bins=widgets.IntSlider(min=0,max=100,step=1,value=50));"
   ]
  },
  {
   "cell_type": "markdown",
   "metadata": {},
   "source": [
    "##  <font color='Blue'>  Section 2 </font> \n",
    "## Exploring the effect of outliers \n",
    "\n",
    "In the example above, the sodium content in the soy sauce produced a clear outlier.<br>\n",
    "Next, we will begin with a dataset that does not initially contain any outliers, and compute its mean, median, and mode.<br>\n",
    "You will then have the opportunity to add additional data points to the set, and then compute their effect on these statistics.\n",
    "\n",
    "### 3.1 Dataset without outlier\n",
    "We remove the soy sauce entry from our list of foods and their sodium content.<br>\n",
    "Now we perform another iteration to compute every task that we defined in section 2.  "
   ]
  },
  {
   "cell_type": "code",
   "execution_count": 13,
   "metadata": {},
   "outputs": [
    {
     "name": "stdout",
     "output_type": "stream",
     "text": [
      "Sodium content read from the file:  [871, 1250, 270, 250, 205, 340, 843, 482, 521, 450, 360, 780, 340, 510, 460, 380, 290, 458, 335, 355, 590, 600, 595, 547, 1036, 410, 190, 530]\n",
      "Mean:  508.857\n",
      "Median:  459.0\n",
      "Mode: 340 (appeared 2 times.)\n"
     ]
    },
    {
     "data": {
      "application/vnd.jupyter.widget-view+json": {
       "model_id": "ea116de500114466b06a09a50dab23d1",
       "version_major": 2,
       "version_minor": 0
      },
      "text/html": [
       "<p>Failed to display Jupyter Widget of type <code>interactive</code>.</p>\n",
       "<p>\n",
       "  If you're reading this message in the Jupyter Notebook or JupyterLab Notebook, it may mean\n",
       "  that the widgets JavaScript is still loading. If this message persists, it\n",
       "  likely means that the widgets JavaScript library is either not installed or\n",
       "  not enabled. See the <a href=\"https://ipywidgets.readthedocs.io/en/stable/user_install.html\">Jupyter\n",
       "  Widgets Documentation</a> for setup instructions.\n",
       "</p>\n",
       "<p>\n",
       "  If you're reading this message in another frontend (for example, a static\n",
       "  rendering on GitHub or <a href=\"https://nbviewer.jupyter.org/\">NBViewer</a>),\n",
       "  it may mean that your frontend doesn't currently support widgets.\n",
       "</p>\n"
      ],
      "text/plain": [
       "interactive(children=(IntSlider(value=50, description='num_bins'), Output()), _dom_classes=('widget-interact',))"
      ]
     },
     "metadata": {},
     "output_type": "display_data"
    }
   ],
   "source": [
    "hide_me\n",
    "dataWithoutOutlier = []\n",
    "with open('CC66_materials/exampleData_NoOutlier.csv', 'r') as f:\n",
    "    reader = csv.reader(f)\n",
    "    for row in reader:\n",
    "        dataWithoutOutlier.append(int(row[1]))\n",
    "print(\"Sodium content read from the file: \", dataWithoutOutlier)\n",
    "\n",
    "centralTendencyWithoutOutlier = []\n",
    "centralTendencyWithoutOutlier = computeCenTendency(dataWithoutOutlier)\n",
    "\n",
    "def callPlottingFunctionNoOutlier(num_bins):\n",
    "    print(\"Generating... plot for :\", num_bins)\n",
    "    plotHistogram(dataWithoutOutlier, num_bins , 'Sodium Content', 'values', 'Histogram of 30 products in Australian supermarkets')\n",
    "\n",
    "interact(callPlottingFunctionNoOutlier, num_bins=widgets.IntSlider(min=0,max=100,step=1,value=50));"
   ]
  },
  {
   "cell_type": "markdown",
   "metadata": {},
   "source": [
    "### 3.2 Adding an outlier\n",
    "Here, we provide an opportunity so that student can add outlier by their own choice.<br>\n",
    "First, they have to enter how many outlier(s) they want to add.<br>\n",
    "Then the program will take the input outlier(s).  "
   ]
  },
  {
   "cell_type": "code",
   "execution_count": 14,
   "metadata": {},
   "outputs": [
    {
     "name": "stdout",
     "output_type": "stream",
     "text": [
      "Number(s) of Outlier : 1\n",
      "Outlier 1: 2345\n",
      "Dataset with outlier (last 1 entry was added) :  [190, 205, 250, 270, 290, 335, 340, 340, 355, 360, 380, 410, 450, 458, 460, 482, 510, 521, 530, 547, 590, 595, 600, 780, 843, 871, 1036, 1250, 2345]\n"
     ]
    }
   ],
   "source": [
    "hide_me\n",
    "inputs = []\n",
    "numbers = int(input(\"Number(s) of Outlier : \"))\n",
    "inputs = [input(\"Outlier \" + str(i+1) + \": \")  for i in range(numbers)]\n",
    "inputs = list(map(int, inputs))\n",
    "\n",
    "datasetWithOutlier = []\n",
    "datasetWithOutlier = dataWithoutOutlier + inputs\n",
    "\n",
    "if(numbers == 1):\n",
    "    print(\"Dataset with outlier (last\", numbers, \"entry was added) : \", datasetWithOutlier)\n",
    "else:\n",
    "    print(\"Dataset with outliers (last\", numbers, \"entries were added) : \", datasetWithOutlier)"
   ]
  },
  {
   "cell_type": "markdown",
   "metadata": {},
   "source": [
    "Now we will compute the central tendency and produce histogram of the dataset with outlier."
   ]
  },
  {
   "cell_type": "code",
   "execution_count": 15,
   "metadata": {},
   "outputs": [
    {
     "name": "stdout",
     "output_type": "stream",
     "text": [
      "Mean:  572.172\n",
      "Median:  460.0\n",
      "Mode: 340 (appeared 2 times.)\n"
     ]
    }
   ],
   "source": [
    "centralTendencyWithOutlier = []\n",
    "centralTendencyWithOutlier = computeCenTendency(datasetWithOutlier)"
   ]
  },
  {
   "cell_type": "markdown",
   "metadata": {},
   "source": [
    "### 3.3 Historgram with Outliers\n",
    "Here, we plot a histogram of the data that contain outlier(s). Student can also define the size of *bins* on the slider and observe the change of grpah representation. "
   ]
  },
  {
   "cell_type": "code",
   "execution_count": 16,
   "metadata": {
    "scrolled": true
   },
   "outputs": [
    {
     "data": {
      "application/vnd.jupyter.widget-view+json": {
       "model_id": "efa491d3be704456b867cb93bafb0036",
       "version_major": 2,
       "version_minor": 0
      },
      "text/html": [
       "<p>Failed to display Jupyter Widget of type <code>interactive</code>.</p>\n",
       "<p>\n",
       "  If you're reading this message in the Jupyter Notebook or JupyterLab Notebook, it may mean\n",
       "  that the widgets JavaScript is still loading. If this message persists, it\n",
       "  likely means that the widgets JavaScript library is either not installed or\n",
       "  not enabled. See the <a href=\"https://ipywidgets.readthedocs.io/en/stable/user_install.html\">Jupyter\n",
       "  Widgets Documentation</a> for setup instructions.\n",
       "</p>\n",
       "<p>\n",
       "  If you're reading this message in another frontend (for example, a static\n",
       "  rendering on GitHub or <a href=\"https://nbviewer.jupyter.org/\">NBViewer</a>),\n",
       "  it may mean that your frontend doesn't currently support widgets.\n",
       "</p>\n"
      ],
      "text/plain": [
       "interactive(children=(IntSlider(value=50, description='num_bins'), Output()), _dom_classes=('widget-interact',))"
      ]
     },
     "metadata": {},
     "output_type": "display_data"
    }
   ],
   "source": [
    "hide_me\n",
    "def callPlottingFunctionWithOutlier(num_bins):\n",
    "    print(\"Generating... plot for :\", num_bins)\n",
    "    plotHistogram(datasetWithOutlier, num_bins, 'Sodium Content', 'values', 'Histogram with Outliers')\n",
    "interact(callPlottingFunctionWithOutlier, num_bins=widgets.IntSlider(min=0,max=100,step=1,value=50));"
   ]
  },
  {
   "cell_type": "markdown",
   "metadata": {},
   "source": [
    "**Effects of Outlier :** From the above results and histogram, we see that adding outliers can change the mean dramatically.<br>\n",
    "This is because we need to add all the values to determine the mean value.<br>\n",
    "Outliers are often values that are much larger or smaller than the other values.<br>\n",
    "When we add these values to the sum, the average can change significantly.\n",
    "\n",
    "On the contrary, to find out the median value we need to considere the middle number(s).<br>\n",
    "Adding an outlier adds a data point at the far end of our data set, and everything else shifts over only one spot.\n",
    "\n",
    "The mode is very unlikely to update, because we define mode by the repetition of values.<br>\n",
    "Input a very large number as an outlier and observe the histogram. <br>\n",
    "You will notice all regular data should be in one particular area and the inputted value is far away. Consider the following table to get the clear idea of the effect of outliers on mean, median and mode."
   ]
  },
  {
   "cell_type": "code",
   "execution_count": 17,
   "metadata": {},
   "outputs": [
    {
     "name": "stdout",
     "output_type": "stream",
     "text": [
      "Central Tendency  Before adding outlier  After adding outlier \n",
      "----------------- ---------------------- ---------------------\n",
      "             Mean                508.857               572.172\n",
      "           Median                  459.0                 460.0\n",
      "             Mode                  340.0                 340.0\n"
     ]
    }
   ],
   "source": [
    "hide_me\n",
    "centralTendencyWithoutOutlierArray = np.around(np.asarray(centralTendencyWithoutOutlier), 3)\n",
    "centralTendencyWithOutlierArray = np.around(np.asarray(centralTendencyWithOutlier), 3) \n",
    "\n",
    "arr = { 'Central Tendency ':  np.array(['Mean','Median','Mode' ]),\n",
    "        'Before adding outlier ':  np.array([centralTendencyWithoutOutlierArray[0],  centralTendencyWithoutOutlierArray[1], \n",
    "                                            centralTendencyWithoutOutlierArray[2] ]),\n",
    "        'After adding outlier ': np.array([centralTendencyWithOutlierArray[0], centralTendencyWithOutlierArray[1],\n",
    "                                           centralTendencyWithOutlierArray[2]])}\n",
    "print(Table(arr))"
   ]
  },
  {
   "cell_type": "markdown",
   "metadata": {},
   "source": [
    "##  <font color='Blue'>  Section 4 </font> \n",
    "## Example Using Python Library \n",
    "In this section we discuss about pandas dataframe. We use **nba_2013.csv** file as dataset that contains $30$ different criteria of $480$ nba players of 2013. We compute the central tendency of this dataframe on [a previous notebook](CC65-Central_Tendency.ipynb). Now we show the outliers of this dataset. We find out the outliers for **stl** categories. Students can change the category name(e.g. **age, mp, fg, drb, asst, gs, tov...**) on the fourth line (only replace the \"stl\" with category name) of the following code and observe whether there is any outlier or not. "
   ]
  },
  {
   "cell_type": "code",
   "execution_count": 18,
   "metadata": {
    "scrolled": true
   },
   "outputs": [
    {
     "data": {
      "application/vnd.jupyter.widget-view+json": {
       "model_id": "7b1d01547e6546b9ae955e2422c99e02",
       "version_major": 2,
       "version_minor": 0
      },
      "text/html": [
       "<p>Failed to display Jupyter Widget of type <code>interactive</code>.</p>\n",
       "<p>\n",
       "  If you're reading this message in the Jupyter Notebook or JupyterLab Notebook, it may mean\n",
       "  that the widgets JavaScript is still loading. If this message persists, it\n",
       "  likely means that the widgets JavaScript library is either not installed or\n",
       "  not enabled. See the <a href=\"https://ipywidgets.readthedocs.io/en/stable/user_install.html\">Jupyter\n",
       "  Widgets Documentation</a> for setup instructions.\n",
       "</p>\n",
       "<p>\n",
       "  If you're reading this message in another frontend (for example, a static\n",
       "  rendering on GitHub or <a href=\"https://nbviewer.jupyter.org/\">NBViewer</a>),\n",
       "  it may mean that your frontend doesn't currently support widgets.\n",
       "</p>\n"
      ],
      "text/plain": [
       "interactive(children=(IntSlider(value=10, description='num_bins'), Output()), _dom_classes=('widget-interact',))"
      ]
     },
     "metadata": {},
     "output_type": "display_data"
    }
   ],
   "source": [
    "nba = pandas.read_csv(\"CC66_materials/nba_2013.csv\")\n",
    "def callPlottingFunctionNBA(num_bins):\n",
    "    print(\"Generating... plot for :\", num_bins)\n",
    "    plotHistogram(nba[[\"stl\"]], num_bins, \"nba players\", \"values\", \"Histogram of 2013 nba players\")\n",
    "interact(callPlottingFunctionNBA, num_bins = widgets.IntSlider(min=0,max=100,step=1,value=10));"
   ]
  },
  {
   "cell_type": "markdown",
   "metadata": {},
   "source": [
    "## <font color='Blue'>  Section 5 </font> \n",
    "## Conclusion\n",
    "\n",
    "The three most common statistical averages are (arithmetic) mean, median and mode. We observed the effect of outliers on mean, median,\n",
    "and mode. Mean updated very quickly for adding outlier(s),median changes very slowly and most cases mode would remain same. "
   ]
  },
  {
   "cell_type": "markdown",
   "metadata": {},
   "source": [
    "##  <font color='Blue'>  Section 6 </font> \n",
    "## Test yourself "
   ]
  },
  {
   "cell_type": "markdown",
   "metadata": {},
   "source": [
    "### 6.1 Practice Problem : Easy\n",
    "Consider the following GPAs of\tstudents\tfrom two\tsemesters\tof\tStat-0000 course: \n",
    "<br>\n",
    "Semester $1: 3.1, 3.2, 2.8,  2.9, 3.0, 3.4,\t2.3, 3.2, 2.1,\t3.5$ <br>\n",
    "Semester $2: 2.2, 4.1,\t2.6, 2.7, 3.8, 2.8,\t2.4, 3.2, 2.7,\t2.9$\n"
   ]
  },
  {
   "cell_type": "code",
   "execution_count": 19,
   "metadata": {},
   "outputs": [],
   "source": [
    "hide_me\n",
    "def display(question, answerList):\n",
    "    print(question)\n",
    "    IPython.display.display(answerList)"
   ]
  },
  {
   "cell_type": "code",
   "execution_count": 20,
   "metadata": {},
   "outputs": [
    {
     "name": "stdout",
     "output_type": "stream",
     "text": [
      "6.1.1 What will be the mean of semester 1?\n"
     ]
    },
    {
     "data": {
      "application/vnd.jupyter.widget-view+json": {
       "model_id": "3643b5bb0fb54393a5e344ece9b84fbc",
       "version_major": 2,
       "version_minor": 0
      },
      "text/html": [
       "<p>Failed to display Jupyter Widget of type <code>RadioButtons</code>.</p>\n",
       "<p>\n",
       "  If you're reading this message in the Jupyter Notebook or JupyterLab Notebook, it may mean\n",
       "  that the widgets JavaScript is still loading. If this message persists, it\n",
       "  likely means that the widgets JavaScript library is either not installed or\n",
       "  not enabled. See the <a href=\"https://ipywidgets.readthedocs.io/en/stable/user_install.html\">Jupyter\n",
       "  Widgets Documentation</a> for setup instructions.\n",
       "</p>\n",
       "<p>\n",
       "  If you're reading this message in another frontend (for example, a static\n",
       "  rendering on GitHub or <a href=\"https://nbviewer.jupyter.org/\">NBViewer</a>),\n",
       "  it may mean that your frontend doesn't currently support widgets.\n",
       "</p>\n"
      ],
      "text/plain": [
       "RadioButtons(description='Choices:', options=('Select best one', '2.95', '3', '3.05', '3.10', 'None of the above'), value='Select best one')"
      ]
     },
     "metadata": {},
     "output_type": "display_data"
    }
   ],
   "source": [
    "hide_me\n",
    "question611 = \"6.1.1 What will be the mean of semester 1?\"\n",
    "answer611 = widgets.RadioButtons(options=['Select best one','2.95', '3', '3.05', '3.10', 'None of the above'],\n",
    "                             value= 'Select best one', description='Choices:')\n",
    "\n",
    "\n",
    "def checkAnswer(a):\n",
    "    IPython.display.clear_output(wait=False)\n",
    "    display(question611, answer611)\n",
    "    if answer611.value == '3.05':\n",
    "        print(\"Correct Answer!\")\n",
    "    else:\n",
    "        if answer611.value == 'Select best one':\n",
    "            pass\n",
    "        else:\n",
    "            print(\"Wrong answer! Try again.\")\n",
    "\n",
    "display(question611, answer611)\n",
    "\n",
    "answer611.observe(checkAnswer, 'value')"
   ]
  },
  {
   "cell_type": "code",
   "execution_count": 21,
   "metadata": {},
   "outputs": [
    {
     "data": {
      "text/html": [
       "<html>\n",
       "<head>\n",
       "<script type=\"text/javascript\">\n",
       "\n",
       "<!--\n",
       "function toggle(id) {\n",
       "var e = document.getElementById(id);\n",
       "if(e.style.display == 'none')\n",
       "e.style.display = 'block';\n",
       "else\n",
       "e.style.display = 'none';\n",
       "}\n",
       "//-->\n",
       "</script>\n",
       "</head>\n",
       "\n",
       "<body>\n",
       "<div id=\"question611\">\n",
       " <button id = \"611\"\n",
       "onclick=\"toggle('answer611');\">Solution</button> \n",
       "</div>\n",
       "<div style=\"display:none\" id=\"answer611\">\n",
       "To find out the mean of semester 1 we divide the sum of all data by the numbers of data.<br/>\n",
       "Therefore, Mean $=  \\frac{3.1 + 3.2 + 2.8 + 2.9 + 3.0 + 3.4 + 2.3 + 3.2 + 2.1 + 3.5}{10} = 3.05$ <br/>\n",
       "\n",
       "\n",
       "</div>\n",
       "\n",
       "</body>\n",
       "</html>"
      ],
      "text/plain": [
       "<IPython.core.display.HTML object>"
      ]
     },
     "metadata": {},
     "output_type": "display_data"
    }
   ],
   "source": [
    "%%HTML\n",
    "<html>\n",
    "<head>\n",
    "<script type=\"text/javascript\">\n",
    "\n",
    "<!--\n",
    "function toggle(id) {\n",
    "var e = document.getElementById(id);\n",
    "if(e.style.display == 'none')\n",
    "e.style.display = 'block';\n",
    "else\n",
    "e.style.display = 'none';\n",
    "}\n",
    "//-->\n",
    "</script>\n",
    "</head>\n",
    "\n",
    "<body>\n",
    "<div id=\"question611\">\n",
    " <button id = \"611\"\n",
    "onclick=\"toggle('answer611');\">Solution</button> \n",
    "</div>\n",
    "<div style=\"display:none\" id=\"answer611\">\n",
    "To find out the mean of semester 1 we divide the sum of all data by the numbers of data.<br/>\n",
    "Therefore, Mean $=  \\frac{3.1 + 3.2 + 2.8 + 2.9 + 3.0 + 3.4 + 2.3 + 3.2 + 2.1 + 3.5}{10} = 3.05$ <br/>\n",
    "\n",
    "\n",
    "</div>\n",
    "\n",
    "</body>\n",
    "</html>"
   ]
  },
  {
   "cell_type": "code",
   "execution_count": 22,
   "metadata": {},
   "outputs": [
    {
     "name": "stdout",
     "output_type": "stream",
     "text": [
      "6.1.2 What will be the median of semester 2?\n"
     ]
    },
    {
     "data": {
      "application/vnd.jupyter.widget-view+json": {
       "model_id": "312bb35218c6465e8ce4a4c498ad0db0",
       "version_major": 2,
       "version_minor": 0
      },
      "text/html": [
       "<p>Failed to display Jupyter Widget of type <code>RadioButtons</code>.</p>\n",
       "<p>\n",
       "  If you're reading this message in the Jupyter Notebook or JupyterLab Notebook, it may mean\n",
       "  that the widgets JavaScript is still loading. If this message persists, it\n",
       "  likely means that the widgets JavaScript library is either not installed or\n",
       "  not enabled. See the <a href=\"https://ipywidgets.readthedocs.io/en/stable/user_install.html\">Jupyter\n",
       "  Widgets Documentation</a> for setup instructions.\n",
       "</p>\n",
       "<p>\n",
       "  If you're reading this message in another frontend (for example, a static\n",
       "  rendering on GitHub or <a href=\"https://nbviewer.jupyter.org/\">NBViewer</a>),\n",
       "  it may mean that your frontend doesn't currently support widgets.\n",
       "</p>\n"
      ],
      "text/plain": [
       "RadioButtons(description='Choices:', options=('Select best one', '2.43', '2.5', '2.67', '2.75', 'None of the above'), value='Select best one')"
      ]
     },
     "metadata": {},
     "output_type": "display_data"
    }
   ],
   "source": [
    "hide_me\n",
    "question612 = \"6.1.2 What will be the median of semester 2?\"\n",
    "\n",
    "answer612 = widgets.RadioButtons(options=['Select best one', '2.43', '2.5', '2.67', '2.75', 'None of the above'],\n",
    "                              value = 'Select best one', description='Choices:')\n",
    "\n",
    "def check612(b):\n",
    "    IPython.display.clear_output(wait=False)\n",
    "    display(question612, answer612)\n",
    "    if answer612.value == '2.75':\n",
    "        print(\"Correct Answer!\")\n",
    "    else:\n",
    "        if answer612.value == 'Select best one':\n",
    "            pass\n",
    "        else:\n",
    "            print(\"Wrong answer! Try again.\")\n",
    "\n",
    "IPython.display.clear_output(wait=False)\n",
    "display(question612, answer612)\n",
    "answer612.observe(check612, 'value')"
   ]
  },
  {
   "cell_type": "code",
   "execution_count": 23,
   "metadata": {},
   "outputs": [
    {
     "data": {
      "text/html": [
       "<html>\n",
       "<head>\n",
       "<script type=\"text/javascript\">\n",
       "<!--\n",
       "function toggle(id) {\n",
       "var e = document.getElementById(id);\n",
       "if(e.style.display == 'none')\n",
       "e.style.display = 'block';\n",
       "else\n",
       "e.style.display = 'none';\n",
       "}\n",
       "//-->\n",
       "</script>\n",
       "</head>\n",
       "\n",
       "<body>\n",
       "<div id=\"question612\">\n",
       " <button id = \"612\"\n",
       "onclick=\"toggle('answer612');\">Solution</button> \n",
       "</div>\n",
       "<div style=\"display:none\" id=\"answer612\">\n",
       "To determine the median at first we need to sort the data. <br/>\n",
       "Sorted data,<br/>\n",
       "Semester  $2: 2.2,2.4,2.6,2.7,2.7,2.8,2.9,3.2,3.8,4.1$ <br/>\n",
       "There are $10$ numbers in the data set, so the average of $5^{th}$ and $6^{th}$ will be the median. <br/>\n",
       "So, the Median $= \\frac{2.7 + 2.8}{2} = 2.75$ <br/>\n",
       "\n",
       "\n",
       "</div>\n",
       "\n",
       "</body>\n",
       "</html>"
      ],
      "text/plain": [
       "<IPython.core.display.HTML object>"
      ]
     },
     "metadata": {},
     "output_type": "display_data"
    }
   ],
   "source": [
    "%%html\n",
    "<html>\n",
    "<head>\n",
    "<script type=\"text/javascript\">\n",
    "<!--\n",
    "function toggle(id) {\n",
    "var e = document.getElementById(id);\n",
    "if(e.style.display == 'none')\n",
    "e.style.display = 'block';\n",
    "else\n",
    "e.style.display = 'none';\n",
    "}\n",
    "//-->\n",
    "</script>\n",
    "</head>\n",
    "\n",
    "<body>\n",
    "<div id=\"question612\">\n",
    " <button id = \"612\"\n",
    "onclick=\"toggle('answer612');\">Solution</button> \n",
    "</div>\n",
    "<div style=\"display:none\" id=\"answer612\">\n",
    "To determine the median at first we need to sort the data. <br/>\n",
    "Sorted data,<br/>\n",
    "Semester  $2: 2.2,2.4,2.6,2.7,2.7,2.8,2.9,3.2,3.8,4.1$ <br/>\n",
    "There are $10$ numbers in the data set, so the average of $5^{th}$ and $6^{th}$ will be the median. <br/>\n",
    "So, the Median $= \\frac{2.7 + 2.8}{2} = 2.75$ <br/>\n",
    "\n",
    "\n",
    "</div>\n",
    "\n",
    "</body>\n",
    "</html>"
   ]
  },
  {
   "cell_type": "markdown",
   "metadata": {},
   "source": [
    "### 6.2 Practice Problem : Medium\n"
   ]
  },
  {
   "cell_type": "markdown",
   "metadata": {},
   "source": [
    "#### 6.2.1 Distribution type\n",
    "We want to know how the values are distributed. To determine the type, if $mean<median<mode$ then it is called negatively skewed and if $mean > median >mode$ then it is positively skewed. "
   ]
  },
  {
   "cell_type": "code",
   "execution_count": 24,
   "metadata": {},
   "outputs": [
    {
     "name": "stdout",
     "output_type": "stream",
     "text": [
      "6.2.1 What is the distribution type of semester 1? (Hint:first, calcualte mean, median, mode)\n"
     ]
    },
    {
     "data": {
      "application/vnd.jupyter.widget-view+json": {
       "model_id": "116f75e26d564baf984db76c1fbc0e3d",
       "version_major": 2,
       "version_minor": 0
      },
      "text/html": [
       "<p>Failed to display Jupyter Widget of type <code>RadioButtons</code>.</p>\n",
       "<p>\n",
       "  If you're reading this message in the Jupyter Notebook or JupyterLab Notebook, it may mean\n",
       "  that the widgets JavaScript is still loading. If this message persists, it\n",
       "  likely means that the widgets JavaScript library is either not installed or\n",
       "  not enabled. See the <a href=\"https://ipywidgets.readthedocs.io/en/stable/user_install.html\">Jupyter\n",
       "  Widgets Documentation</a> for setup instructions.\n",
       "</p>\n",
       "<p>\n",
       "  If you're reading this message in another frontend (for example, a static\n",
       "  rendering on GitHub or <a href=\"https://nbviewer.jupyter.org/\">NBViewer</a>),\n",
       "  it may mean that your frontend doesn't currently support widgets.\n",
       "</p>\n"
      ],
      "text/plain": [
       "RadioButtons(description='Choices:', options=('Select best one', 'Negatively Skewed', 'Positively skewed', 'both of them', 'None of the above'), value='Select best one')"
      ]
     },
     "metadata": {},
     "output_type": "display_data"
    }
   ],
   "source": [
    "hide_me\n",
    "question621 = \"6.2.1 What is the distribution type of semester 1? (Hint:first, calcualte mean, median, mode)\"\n",
    "\n",
    "answer621 = widgets.RadioButtons(options=['Select best one', 'Negatively Skewed', 'Positively skewed', 'both of them', 'None of the above'],\n",
    "                              value = 'Select best one', description='Choices:')\n",
    "\n",
    "def check621(c):\n",
    "    IPython.display.clear_output(wait=False)\n",
    "    display(question621, answer621)\n",
    "    if answer621.value == 'Negatively Skewed':\n",
    "        print(\"Correct Answer!\")\n",
    "    else:\n",
    "        if answer621.value == 'Select best one':\n",
    "            pass\n",
    "        else:\n",
    "            print(\"Wrong answer! Try again.\")\n",
    "        \n",
    "IPython.display.clear_output(wait=False)\n",
    "display(question621, answer621)\n",
    "answer621.observe(check621, 'value')"
   ]
  },
  {
   "cell_type": "code",
   "execution_count": 25,
   "metadata": {},
   "outputs": [
    {
     "data": {
      "text/html": [
       "<html>\n",
       "<head>\n",
       "<script type=\"text/javascript\">\n",
       "<!--\n",
       "function toggle(id) {\n",
       "var e = document.getElementById(id);\n",
       "if(e.style.display == 'none')\n",
       "e.style.display = 'block';\n",
       "else\n",
       "e.style.display = 'none';\n",
       "}\n",
       "//-->\n",
       "</script>\n",
       "</head>\n",
       "\n",
       "<body>\n",
       "<div id=\"question621\">\n",
       " <button id = \"621\"\n",
       "onclick=\"toggle('answer621');\">Solution</button> \n",
       "</div>\n",
       "<div style=\"display:none\" id=\"answer621\">\n",
       "At first we have to calculate the mean, median and mode of semester 1 <br/> \n",
       "Mean $=  \\frac{3.1 + 3.2 + 2.8 + 2.9 + 3.0 + 3.4 + 2.3 + 3.2 + 2.1 + 3.5}{10} = 2.95$ <br/>\n",
       "For finding the median we need to sort the data. <br/>\n",
       "Sorted data,<br/>\n",
       "Semester  $1: 2.1,2.3,2.8,2.9,3.0,3.1,3.2,3.2,3.4,3.5$ <br/>\n",
       "There are $10$ numbers in the data set, so the average of $5^{th}$ and $6^{th}$ will be the median. <br/>\n",
       "Median $= \\frac{3.0 + 3.1}{2} = 3.05$ <br/>\n",
       "From the above sorted data we can see that only $3.2$ repeats twice. <br/>\n",
       "So, the mode is $3.2$ <br/>\n",
       "\n",
       "The mean is less than median, and median is less than mode. That means, mean$<$ median $<$ mode. <br/>\n",
       "Therefore the distribution type of semester 1 data is Negatively Skewed. <br/>\n",
       "\n",
       "</div>\n",
       "\n",
       "</body>\n",
       "</html>"
      ],
      "text/plain": [
       "<IPython.core.display.HTML object>"
      ]
     },
     "metadata": {},
     "output_type": "display_data"
    }
   ],
   "source": [
    "%%html\n",
    "<html>\n",
    "<head>\n",
    "<script type=\"text/javascript\">\n",
    "<!--\n",
    "function toggle(id) {\n",
    "var e = document.getElementById(id);\n",
    "if(e.style.display == 'none')\n",
    "e.style.display = 'block';\n",
    "else\n",
    "e.style.display = 'none';\n",
    "}\n",
    "//-->\n",
    "</script>\n",
    "</head>\n",
    "\n",
    "<body>\n",
    "<div id=\"question621\">\n",
    " <button id = \"621\"\n",
    "onclick=\"toggle('answer621');\">Solution</button> \n",
    "</div>\n",
    "<div style=\"display:none\" id=\"answer621\">\n",
    "At first we have to calculate the mean, median and mode of semester 1 <br/> \n",
    "Mean $=  \\frac{3.1 + 3.2 + 2.8 + 2.9 + 3.0 + 3.4 + 2.3 + 3.2 + 2.1 + 3.5}{10} = 2.95$ <br/>\n",
    "For finding the median we need to sort the data. <br/>\n",
    "Sorted data,<br/>\n",
    "Semester  $1: 2.1,2.3,2.8,2.9,3.0,3.1,3.2,3.2,3.4,3.5$ <br/>\n",
    "There are $10$ numbers in the data set, so the average of $5^{th}$ and $6^{th}$ will be the median. <br/>\n",
    "Median $= \\frac{3.0 + 3.1}{2} = 3.05$ <br/>\n",
    "From the above sorted data we can see that only $3.2$ repeats twice. <br/>\n",
    "So, the mode is $3.2$ <br/>\n",
    "\n",
    "The mean is less than median, and median is less than mode. That means, mean$<$ median $<$ mode. <br/>\n",
    "Therefore the distribution type of semester 1 data is Negatively Skewed. <br/>\n",
    "\n",
    "</div>\n",
    "\n",
    "</body>\n",
    "</html>"
   ]
  },
  {
   "cell_type": "markdown",
   "metadata": {},
   "source": [
    "#### 6.2.2 Median of medians\n",
    "Now, we learn how to calculate the median of medians. We define the term as quartile. When we compute the median (M) of a dataset we divide them into two groups. Let say, in group $1$ all values should be less than or equal of median.\n",
    "<br>\n",
    "**First quartile $(M_1):$** the median of first group. Now, we have smaller data sets and we can find the median as we discussed in preliminaries.   <br>\n",
    "**Third quartile $(M_3)$** the median of second group where every value is equal or greater than median. <br>\n",
    "The **Second quartile** is our median (M).\n",
    "<br>\n",
    "For example, our data set is: \n",
    "$S_1 = {2, 5, 7, 8, 9}$<br>\n",
    "So the median (M) is $: 7$<br>\n",
    "and now we have two groups:\n",
    "<br>\n",
    "Group $1: {2,5}$ <br>\n",
    "Group $2: {8,9}$ <br>\n",
    "So the first quartile $(M_1)$ is: $\\frac{2+5}{2} = 3.5$ <br>\n",
    "similarly, third quartile, $(M_3) = 8.5$\n",
    "\n",
    "<br>\n",
    "    Based on the discussion, answer the following questions. "
   ]
  },
  {
   "cell_type": "code",
   "execution_count": 26,
   "metadata": {},
   "outputs": [
    {
     "name": "stdout",
     "output_type": "stream",
     "text": [
      "6.2.2 What is the first and third quartiles of semester 2?\n"
     ]
    },
    {
     "data": {
      "application/vnd.jupyter.widget-view+json": {
       "model_id": "496c6721d9c64a2c884999b5389af5c7",
       "version_major": 2,
       "version_minor": 0
      },
      "text/html": [
       "<p>Failed to display Jupyter Widget of type <code>RadioButtons</code>.</p>\n",
       "<p>\n",
       "  If you're reading this message in the Jupyter Notebook or JupyterLab Notebook, it may mean\n",
       "  that the widgets JavaScript is still loading. If this message persists, it\n",
       "  likely means that the widgets JavaScript library is either not installed or\n",
       "  not enabled. See the <a href=\"https://ipywidgets.readthedocs.io/en/stable/user_install.html\">Jupyter\n",
       "  Widgets Documentation</a> for setup instructions.\n",
       "</p>\n",
       "<p>\n",
       "  If you're reading this message in another frontend (for example, a static\n",
       "  rendering on GitHub or <a href=\"https://nbviewer.jupyter.org/\">NBViewer</a>),\n",
       "  it may mean that your frontend doesn't currently support widgets.\n",
       "</p>\n"
      ],
      "text/plain": [
       "RadioButtons(description='Choices:', options=('Select best one', '2.5 and 3.1', '2.6 and 3.1', '2.6 and 3.2', '2.8 and 3.2', 'None of the above'), value='Select best one')"
      ]
     },
     "metadata": {},
     "output_type": "display_data"
    }
   ],
   "source": [
    "hide_me\n",
    "answer622 = widgets.RadioButtons(options=[  'Select best one','2.5 and 3.1', '2.6 and 3.1', '2.6 and 3.2', '2.8 and 3.2', 'None of the above'],\n",
    "                             value = 'Select best one', description='Choices:')\n",
    "\n",
    "question622 = \"6.2.2 What is the first and third quartiles of semester 2?\"\n",
    "\n",
    "\n",
    "def check622(d):\n",
    "    IPython.display.clear_output(wait=False)\n",
    "    display(question622, answer622)\n",
    "    if answer622.value == '2.6 and 3.2':\n",
    "        print(\"Correct Answer!\")\n",
    "    else:\n",
    "        if answer622.value == 'Select best one':\n",
    "            pass\n",
    "        else:\n",
    "            print(\"Wrong answer! Try again.\")\n",
    "        \n",
    "IPython.display.clear_output(wait=False)\n",
    "display(question622,answer622 )\n",
    "answer622.observe(check622, 'value')"
   ]
  },
  {
   "cell_type": "code",
   "execution_count": 27,
   "metadata": {},
   "outputs": [
    {
     "data": {
      "text/html": [
       "<html>\n",
       "<head>\n",
       "<script type=\"text/javascript\">\n",
       "<!--\n",
       "function toggle(id) {\n",
       "var e = document.getElementById(id);\n",
       "if(e.style.display == 'none')\n",
       "e.style.display = 'block';\n",
       "else\n",
       "e.style.display = 'none';\n",
       "}\n",
       "//-->\n",
       "</script>\n",
       "</head>\n",
       "\n",
       "<body>\n",
       "<div id=\"question622\">\n",
       " <button id = \"622\"\n",
       "onclick=\"toggle('answer622');\">Solution</button> \n",
       "</div>\n",
       "<div style=\"display:none\" id=\"answer622\">\n",
       "At first we have to sort the data of semester 2 <br/> \n",
       "Sorted data,\n",
       "Semester  2: 2.2,2.4,2.6,2.7,2.7,2.8,2.9,3.2,3.8,4.1\n",
       "Data for first Median :  2.2, 2.4, 2.6, 2.7, 2.7 <br/>\n",
       "    So the first median or first quartile is 2.6 <br/>\n",
       "Similarly, third quartile $M_3$ is 3.2 <br/>\n",
       "\n",
       "</div>\n",
       "\n",
       "</body>\n",
       "</html>"
      ],
      "text/plain": [
       "<IPython.core.display.HTML object>"
      ]
     },
     "metadata": {},
     "output_type": "display_data"
    }
   ],
   "source": [
    "%%html\n",
    "<html>\n",
    "<head>\n",
    "<script type=\"text/javascript\">\n",
    "<!--\n",
    "function toggle(id) {\n",
    "var e = document.getElementById(id);\n",
    "if(e.style.display == 'none')\n",
    "e.style.display = 'block';\n",
    "else\n",
    "e.style.display = 'none';\n",
    "}\n",
    "//-->\n",
    "</script>\n",
    "</head>\n",
    "\n",
    "<body>\n",
    "<div id=\"question622\">\n",
    " <button id = \"622\"\n",
    "onclick=\"toggle('answer622');\">Solution</button> \n",
    "</div>\n",
    "<div style=\"display:none\" id=\"answer622\">\n",
    "At first we have to sort the data of semester 2 <br/> \n",
    "Sorted data,\n",
    "Semester  2: 2.2,2.4,2.6,2.7,2.7,2.8,2.9,3.2,3.8,4.1\n",
    "Data for first Median :  2.2, 2.4, 2.6, 2.7, 2.7 <br/>\n",
    "    So the first median or first quartile is 2.6 <br/>\n",
    "Similarly, third quartile $M_3$ is 3.2 <br/>\n",
    "\n",
    "</div>\n",
    "\n",
    "</body>\n",
    "</html>"
   ]
  },
  {
   "cell_type": "markdown",
   "metadata": {},
   "source": [
    "### 6.3 Practice Problem : Hard\n",
    "A student has gotten the following marks on his tests: 87, 95, 76, and 88. He wants an 85 or better overall."
   ]
  },
  {
   "cell_type": "code",
   "execution_count": 28,
   "metadata": {},
   "outputs": [
    {
     "name": "stdout",
     "output_type": "stream",
     "text": [
      "6.3.1 What is the minimum mark he must get on the last test in order to achieve that average?\n"
     ]
    },
    {
     "data": {
      "application/vnd.jupyter.widget-view+json": {
       "model_id": "eaeba6d66d874c7cbfdc057003a3403c",
       "version_major": 2,
       "version_minor": 0
      },
      "text/html": [
       "<p>Failed to display Jupyter Widget of type <code>RadioButtons</code>.</p>\n",
       "<p>\n",
       "  If you're reading this message in the Jupyter Notebook or JupyterLab Notebook, it may mean\n",
       "  that the widgets JavaScript is still loading. If this message persists, it\n",
       "  likely means that the widgets JavaScript library is either not installed or\n",
       "  not enabled. See the <a href=\"https://ipywidgets.readthedocs.io/en/stable/user_install.html\">Jupyter\n",
       "  Widgets Documentation</a> for setup instructions.\n",
       "</p>\n",
       "<p>\n",
       "  If you're reading this message in another frontend (for example, a static\n",
       "  rendering on GitHub or <a href=\"https://nbviewer.jupyter.org/\">NBViewer</a>),\n",
       "  it may mean that your frontend doesn't currently support widgets.\n",
       "</p>\n"
      ],
      "text/plain": [
       "RadioButtons(description='Choices:', options=('Select best one', '78', '78.5', '79', '80', 'None of the above'), value='Select best one')"
      ]
     },
     "metadata": {},
     "output_type": "display_data"
    }
   ],
   "source": [
    "hide_me\n",
    "answer631 = widgets.RadioButtons(options=[ 'Select best one','78', '78.5', '79', '80', 'None of the above'],\n",
    "                             value = 'Select best one', description='Choices:')\n",
    "\n",
    "question631 = \"6.3.1 What is the minimum mark he must get on the last test in order to achieve that average?\"\n",
    "\n",
    "def check631(e):\n",
    "    IPython.display.clear_output(wait=False)\n",
    "    display(question631, answer631)\n",
    "    if answer631.value == '79':\n",
    "        print(\"Correct Answer!\")\n",
    "    else:\n",
    "        if answer631.value == 'Select best one':\n",
    "            pass\n",
    "        else:\n",
    "            print(\"Wrong answer! Try again.\")\n",
    "        \n",
    "IPython.display.clear_output(wait=False)\n",
    "display(question631, answer631)\n",
    "answer631.observe(check631, 'value')"
   ]
  },
  {
   "cell_type": "code",
   "execution_count": 29,
   "metadata": {},
   "outputs": [
    {
     "data": {
      "text/html": [
       "<html>\n",
       "<head>\n",
       "<script type=\"text/javascript\">\n",
       "<!--\n",
       "function toggle(id) {\n",
       "var e = document.getElementById(id);\n",
       "if(e.style.display == 'none')\n",
       "e.style.display = 'block';\n",
       "else\n",
       "e.style.display = 'none';\n",
       "}\n",
       "//-->\n",
       "</script>\n",
       "</head>\n",
       "\n",
       "<body>\n",
       "<div id=\"question631\">\n",
       " <button id = \"631\"\n",
       "onclick=\"toggle('answer631');\">Solution</button> \n",
       "</div>\n",
       "<div style=\"display:none\" id=\"answer631\">\n",
       "The minimum mark is what we need to find. To find the average of all his marks (the known ones, plus the unknown one), \n",
       "we have to add up all the grades, and then divide by the number of marks. Since we do not have a score for the last test yet, \n",
       "we will use a variable to stand for this unknown value: \"x\". Then computation to find the desired average is: <br />\n",
       "\n",
       "the first step : (87 + 95 + 76 + 88 + x) ÷ 5 = 85 <br />\n",
       "Multiplying through by 5 and simplifying, we get: <br/>\n",
       "the next step : 87 + 95 + 76 + 88 + x = 425 <br />\n",
       "the next step : 346 + x = 425 <br />\n",
       "the final step : x = 79 <br />\n",
       "so, he needs to get at least a 79 on the last test.\n",
       "</div>\n",
       "\n",
       "</body>\n",
       "</html>"
      ],
      "text/plain": [
       "<IPython.core.display.HTML object>"
      ]
     },
     "metadata": {},
     "output_type": "display_data"
    }
   ],
   "source": [
    "%%html\n",
    "<html>\n",
    "<head>\n",
    "<script type=\"text/javascript\">\n",
    "<!--\n",
    "function toggle(id) {\n",
    "var e = document.getElementById(id);\n",
    "if(e.style.display == 'none')\n",
    "e.style.display = 'block';\n",
    "else\n",
    "e.style.display = 'none';\n",
    "}\n",
    "//-->\n",
    "</script>\n",
    "</head>\n",
    "\n",
    "<body>\n",
    "<div id=\"question631\">\n",
    " <button id = \"631\"\n",
    "onclick=\"toggle('answer631');\">Solution</button> \n",
    "</div>\n",
    "<div style=\"display:none\" id=\"answer631\">\n",
    "The minimum mark is what we need to find. To find the average of all his marks (the known ones, plus the unknown one), \n",
    "we have to add up all the grades, and then divide by the number of marks. Since we do not have a score for the last test yet, \n",
    "we will use a variable to stand for this unknown value: \"x\". Then computation to find the desired average is: <br />\n",
    "\n",
    "the first step : (87 + 95 + 76 + 88 + x) ÷ 5 = 85 <br />\n",
    "Multiplying through by 5 and simplifying, we get: <br/>\n",
    "the next step : 87 + 95 + 76 + 88 + x = 425 <br />\n",
    "the next step : 346 + x = 425 <br />\n",
    "the final step : x = 79 <br />\n",
    "so, he needs to get at least a 79 on the last test.\n",
    "</div>\n",
    "\n",
    "</body>\n",
    "</html>"
   ]
  },
  {
   "cell_type": "markdown",
   "metadata": {},
   "source": [
    "### 6.4 Practice Problem: Miscellaneous\n",
    "In this section we discuss how to determine the outliers based on first and third quartile. First, we need to find out the inter quartile range (IQR). And then we compute the lower and upper limit for outliers by the following formulae: <br>\n",
    "Lower limit: $$M_1 - 1.5 \\times \\text{IQR}$$\n",
    "and upper limit: $$M_3 + 1.5 \\times \\text{IQR}$$\n",
    "where,<br>\n",
    "IQR $= (M_3 - M_1)$ <br>\n",
    "So, all the data that are not belong to this range are outliers.\n",
    "\n",
    "Now, answer the following question:"
   ]
  },
  {
   "cell_type": "code",
   "execution_count": 30,
   "metadata": {},
   "outputs": [
    {
     "name": "stdout",
     "output_type": "stream",
     "text": [
      "6.4.1 What is the lower and upper limit of outliers of semester 2?\n"
     ]
    },
    {
     "data": {
      "application/vnd.jupyter.widget-view+json": {
       "model_id": "16edfea563e04b85ae6c9fbcac0ea75e",
       "version_major": 2,
       "version_minor": 0
      },
      "text/html": [
       "<p>Failed to display Jupyter Widget of type <code>RadioButtons</code>.</p>\n",
       "<p>\n",
       "  If you're reading this message in the Jupyter Notebook or JupyterLab Notebook, it may mean\n",
       "  that the widgets JavaScript is still loading. If this message persists, it\n",
       "  likely means that the widgets JavaScript library is either not installed or\n",
       "  not enabled. See the <a href=\"https://ipywidgets.readthedocs.io/en/stable/user_install.html\">Jupyter\n",
       "  Widgets Documentation</a> for setup instructions.\n",
       "</p>\n",
       "<p>\n",
       "  If you're reading this message in another frontend (for example, a static\n",
       "  rendering on GitHub or <a href=\"https://nbviewer.jupyter.org/\">NBViewer</a>),\n",
       "  it may mean that your frontend doesn't currently support widgets.\n",
       "</p>\n"
      ],
      "text/plain": [
       "RadioButtons(description='Choices:', options=('Select best one', '1.6 and 4.1', '1.7 and 3.9', '2.2 and 3.8', '1.7 and 4.1', 'None of the above'), value='Select best one')"
      ]
     },
     "metadata": {},
     "output_type": "display_data"
    }
   ],
   "source": [
    "hide_me\n",
    "answer641 = widgets.RadioButtons(options=['Select best one','1.6 and 4.1', '1.7 and 3.9', '2.2 and 3.8', '1.7 and 4.1', 'None of the above'],\n",
    "                              value='Select best one',description='Choices:')\n",
    "\n",
    "question641 = \"6.4.1 What is the lower and upper limit of outliers of semester 2?\"\n",
    "\n",
    "\n",
    "def checkAnswer641(f):\n",
    "    IPython.display.clear_output(wait=False)\n",
    "    display(question641, answer641 )\n",
    "    if answer641.value == '1.7 and 4.1':\n",
    "        print(\"Correct Answer!\")\n",
    "    else:\n",
    "        if answer641.value == 'Select best one':\n",
    "            pass\n",
    "        else:\n",
    "            print(\"Wrong answer! Try again.\")\n",
    "\n",
    "IPython.display.clear_output(wait=False)\n",
    "display(question641, answer641)\n",
    "answer641.observe(checkAnswer641, 'value')"
   ]
  },
  {
   "cell_type": "code",
   "execution_count": 31,
   "metadata": {},
   "outputs": [
    {
     "data": {
      "text/html": [
       "<html>\n",
       "<head>\n",
       "<script type=\"text/javascript\">\n",
       "<!--\n",
       "function toggle(id) {\n",
       "var e = document.getElementById(id);\n",
       "if(e.style.display == 'none')\n",
       "e.style.display = 'block';\n",
       "else\n",
       "e.style.display = 'none';\n",
       "}\n",
       "//-->\n",
       "</script>\n",
       "</head>\n",
       "\n",
       "<body>\n",
       "<div id=\"question641\">\n",
       " <button id = \"641\"\n",
       "onclick=\"toggle('answer641');\">Solution</button> \n",
       "</div>\n",
       "<div style=\"display:none\" id=\"answer641\">\n",
       "At first we have to determine the first median$(M_1)$ and third median $(M_3)$ of semester 2.<br/> \n",
       "Data for first Median :  2.2, 2.4, 2.6, 2.7, 2.7 <br/>\n",
       "    So the first median or first quartile is 2.6 <br/>\n",
       "Similarly, $M_3$ is 3.2 <br/>\n",
       "So, the inter median/quartile range (IQR) = 3.2 - 2.6 = 0.6 <br/>\n",
       "Now we can compute the limits for outliers. <br/>\n",
       "\n",
       "Lower limit : $M_1 - 1.5\\times IQR = 2.6 - 1.5 \\times 0.6 = 1.7$ <br/>\n",
       "Similarly, using second equation we can determine the upper limit, <br/>\n",
       "Upper limit : $ 3.2 + 1.5 \\times 0.6 = 4.1$\n",
       "</div>\n",
       "\n",
       "</body>\n",
       "</html>"
      ],
      "text/plain": [
       "<IPython.core.display.HTML object>"
      ]
     },
     "metadata": {},
     "output_type": "display_data"
    }
   ],
   "source": [
    "%%html\n",
    "<html>\n",
    "<head>\n",
    "<script type=\"text/javascript\">\n",
    "<!--\n",
    "function toggle(id) {\n",
    "var e = document.getElementById(id);\n",
    "if(e.style.display == 'none')\n",
    "e.style.display = 'block';\n",
    "else\n",
    "e.style.display = 'none';\n",
    "}\n",
    "//-->\n",
    "</script>\n",
    "</head>\n",
    "\n",
    "<body>\n",
    "<div id=\"question641\">\n",
    " <button id = \"641\"\n",
    "onclick=\"toggle('answer641');\">Solution</button> \n",
    "</div>\n",
    "<div style=\"display:none\" id=\"answer641\">\n",
    "At first we have to determine the first median$(M_1)$ and third median $(M_3)$ of semester 2.<br/> \n",
    "Data for first Median :  2.2, 2.4, 2.6, 2.7, 2.7 <br/>\n",
    "    So the first median or first quartile is 2.6 <br/>\n",
    "Similarly, $M_3$ is 3.2 <br/>\n",
    "So, the inter median/quartile range (IQR) = 3.2 - 2.6 = 0.6 <br/>\n",
    "Now we can compute the limits for outliers. <br/>\n",
    "\n",
    "Lower limit : $M_1 - 1.5\\times IQR = 2.6 - 1.5 \\times 0.6 = 1.7$ <br/>\n",
    "Similarly, using second equation we can determine the upper limit, <br/>\n",
    "Upper limit : $ 3.2 + 1.5 \\times 0.6 = 4.1$\n",
    "</div>\n",
    "\n",
    "</body>\n",
    "</html>"
   ]
  },
  {
   "cell_type": "code",
   "execution_count": 32,
   "metadata": {},
   "outputs": [
    {
     "name": "stdout",
     "output_type": "stream",
     "text": [
      "6.4.2 What is the Potential outliers  of semester 1?\n"
     ]
    },
    {
     "data": {
      "application/vnd.jupyter.widget-view+json": {
       "model_id": "3adb18df4e1e4ec3b13e2c2da4817096",
       "version_major": 2,
       "version_minor": 0
      },
      "text/html": [
       "<p>Failed to display Jupyter Widget of type <code>RadioButtons</code>.</p>\n",
       "<p>\n",
       "  If you're reading this message in the Jupyter Notebook or JupyterLab Notebook, it may mean\n",
       "  that the widgets JavaScript is still loading. If this message persists, it\n",
       "  likely means that the widgets JavaScript library is either not installed or\n",
       "  not enabled. See the <a href=\"https://ipywidgets.readthedocs.io/en/stable/user_install.html\">Jupyter\n",
       "  Widgets Documentation</a> for setup instructions.\n",
       "</p>\n",
       "<p>\n",
       "  If you're reading this message in another frontend (for example, a static\n",
       "  rendering on GitHub or <a href=\"https://nbviewer.jupyter.org/\">NBViewer</a>),\n",
       "  it may mean that your frontend doesn't currently support widgets.\n",
       "</p>\n"
      ],
      "text/plain": [
       "RadioButtons(description='Choices:', options=('Select best one', '2.2', '3.8', '1.7', '2.1', 'None of the above'), value='Select best one')"
      ]
     },
     "metadata": {},
     "output_type": "display_data"
    }
   ],
   "source": [
    "hide_me\n",
    "answer642 = widgets.RadioButtons(options=['Select best one', '2.2', '3.8', '1.7', '2.1', 'None of the above'],\n",
    "                             value = 'Select best one',  description='Choices:')\n",
    "\n",
    "question642 = \"6.4.2 What is the Potential outliers  of semester 1?\"\n",
    "\n",
    "def check642(g):\n",
    "    IPython.display.clear_output(wait=False)\n",
    "    display(question642, answer642)\n",
    "    if answer642.value == '2.1':\n",
    "        print(\"Correct Answer!\")\n",
    "    else:\n",
    "        if answer642.value == 'Select best one':\n",
    "            pass\n",
    "        else:\n",
    "            print(\"Wrong answer! Try again.\")\n",
    "\n",
    "IPython.display.clear_output(wait=False)\n",
    "display(question642, answer642)\n",
    "answer642.observe(check642, 'value')"
   ]
  },
  {
   "cell_type": "code",
   "execution_count": 33,
   "metadata": {},
   "outputs": [
    {
     "data": {
      "text/html": [
       "<html>\n",
       "<head>\n",
       "<script type=\"text/javascript\">\n",
       "<!--\n",
       "function toggle(id) {\n",
       "var e = document.getElementById(id);\n",
       "if(e.style.display == 'none')\n",
       "e.style.display = 'block';\n",
       "else\n",
       "e.style.display = 'none';\n",
       "}\n",
       "//-->\n",
       "</script>\n",
       "</head>\n",
       "\n",
       "<body>\n",
       "<div id=\"question642\">\n",
       " <button id = \"642\"\n",
       "onclick=\"toggle('answer642');\">Solution</button> \n",
       "</div>\n",
       "<div style=\"display:none\" id=\"answer642\">\n",
       "In our previous question we determined the lower and upper limit of semester 2. Similarly if we calculate the limits for semester 1 \n",
       "we find that the lower and upper limits are 2.2 and 3.8 respectively. So as per the definition of outliers, the numbers that are \n",
       "lower than the lower limit and higher than the upper limit should be the potential outliers.<br />\n",
       "\n",
       "So from the given data of semester 1 we can find that 2.1 is less than the lower limit (2.2)and all other GPAs are in between lower\n",
       "and upper limit.  <br/>Hence, 2.1 is potential outlier.\n",
       "</div>\n",
       "\n",
       "</body>\n",
       "</html>"
      ],
      "text/plain": [
       "<IPython.core.display.HTML object>"
      ]
     },
     "metadata": {},
     "output_type": "display_data"
    }
   ],
   "source": [
    "%%html\n",
    "<html>\n",
    "<head>\n",
    "<script type=\"text/javascript\">\n",
    "<!--\n",
    "function toggle(id) {\n",
    "var e = document.getElementById(id);\n",
    "if(e.style.display == 'none')\n",
    "e.style.display = 'block';\n",
    "else\n",
    "e.style.display = 'none';\n",
    "}\n",
    "//-->\n",
    "</script>\n",
    "</head>\n",
    "\n",
    "<body>\n",
    "<div id=\"question642\">\n",
    " <button id = \"642\"\n",
    "onclick=\"toggle('answer642');\">Solution</button> \n",
    "</div>\n",
    "<div style=\"display:none\" id=\"answer642\">\n",
    "In our previous question we determined the lower and upper limit of semester 2. Similarly if we calculate the limits for semester 1 \n",
    "we find that the lower and upper limits are 2.2 and 3.8 respectively. So as per the definition of outliers, the numbers that are \n",
    "lower than the lower limit and higher than the upper limit should be the potential outliers.<br />\n",
    "\n",
    "So from the given data of semester 1 we can find that 2.1 is less than the lower limit (2.2)and all other GPAs are in between lower\n",
    "and upper limit.  <br/>Hence, 2.1 is potential outlier.\n",
    "</div>\n",
    "\n",
    "</body>\n",
    "</html>"
   ]
  },
  {
   "cell_type": "markdown",
   "metadata": {},
   "source": [
    "![alt text][bottom-banner]\n",
    "\n",
    "[bottom-banner]: ./callysto-bottom-banner.jpg"
   ]
  }
 ],
 "metadata": {
  "kernelspec": {
   "display_name": "Python 3",
   "language": "python",
   "name": "python3"
  },
  "language_info": {
   "codemirror_mode": {
    "name": "ipython",
    "version": 3
   },
   "file_extension": ".py",
   "mimetype": "text/x-python",
   "name": "python",
   "nbconvert_exporter": "python",
   "pygments_lexer": "ipython3",
   "version": "3.6.5"
  }
 },
 "nbformat": 4,
 "nbformat_minor": 2
}
