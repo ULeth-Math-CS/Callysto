{
 "cells": [
  {
   "cell_type": "markdown",
   "metadata": {},
   "source": [
    "![alt text][top-banner]\n",
    "\n",
    "[top-banner]: ./callysto-top-banner.jpg"
   ]
  },
  {
   "cell_type": "code",
   "execution_count": null,
   "metadata": {},
   "outputs": [],
   "source": [
    "%%html\n",
    "\n",
    "<script>\n",
    " function code_toggle() {\n",
    "   if (code_shown){\n",
    "     $('div.input').hide('500');\n",
    "     $('#toggleButton').val('Show Code')\n",
    "   } else {\n",
    "     $('div.input').show('500');\n",
    "     $('#toggleButton').val('Hide Code')\n",
    "   }\n",
    "   code_shown = !code_shown\n",
    " }\n",
    "\n",
    " $( document ).ready(function(){\n",
    "   code_shown=false;\n",
    "   $('div.input').hide()\n",
    " });\n",
    "</script>\n",
    "<form action=\"javascript:code_toggle()\"><input type=\"submit\" id=\"toggleButton\" value=\"Show Code\"></form>"
   ]
  },
  {
   "cell_type": "markdown",
   "metadata": {},
   "source": [
    "# Effect of Outliers on Central Tendency\n",
    "This notebook(CC-66) will explore the effect of outliers on central tendency (mean, median, and mode).\n",
    "\n",
    "This notebook is organized as follows. \n",
    "* Section 1 contains preliminaries, the definition of outliers, and two primary examples. \n",
    "* In Section 2, we first compute the basic central tendency without outliers by importing a data set from local folder.\n",
    "* In Section 3, you'll get to use some basic Python tools to adjust a dataset by adding one or more outliers.<br>\n",
    "You'll then be able to observe the effect of those outliers on mean, median, and mode. \n",
    "* In Section 4, we show how to use Python's statistics libraries to analyze date. \n",
    "* Section 5 contains interactive exercises for students. \n",
    "\n",
    "\n",
    "## <font color='Blue'> 1 Preliminaries </font> \n",
    "The definitions and basic examples for mean, median, and mode were discussed in [a previous notebook](CC65-Central_Tendency.ipynb). <br>\n",
    "You may want to review that notebook before proceeding.\n",
    "\n",
    "\n",
    "\n",
    "### 1.1 Outlier : Out, liar\n",
    "A value that \"lies outside\" (is much smaller or larger than) most of the other values in a set of data.\n",
    "\n",
    "##### 1.1.1 Example \n",
    "Data set: $2, 26, 23, 27, 25, 28, 29, 24, 99 $\n",
    "<br> $2$ and $99$ are smaller and larger, respectively, than the other data.\n",
    "<br> Therefore, the outliers of the data set are $2$ and $99$\n",
    "\n",
    "\n",
    "##### 1.1.2 Example \n",
    "In a math test, ten students obtained following marks (out of $100$): <br>\n",
    "$78, 87, 85, 96, 84, 92, 102, 79, 81, 97$\n",
    "\n",
    "In the data set there is no data that is obviously smaller or larger than the other values.<br>\n",
    "But we are told that the exam was out of $100$, so an individual can get at best $100$ for their mark on the test.<br>\n",
    "Any mark that exceeds this maximum range should be suspicious. (Maybe there were bonus marks?)<br>\n",
    "Since it's an unexpected value, $102$ is the outlier in the data set.  "
   ]
  },
  {
   "cell_type": "markdown",
   "metadata": {},
   "source": [
    "##   <font color='Blue'> 2 Central Tendency Computation: Sodium content </font>\n",
    "\n",
    "Now we will calculate the mean, median, and mode for a dataset stored in a local text (csv) file. This particular data happens to be the sodium content per serving in a selection of supermarket items. You'll notice one number in the list below that's far greater than the others: this is the outlier in our dataset. (The product? In case you were wondering, it's soy sauce.)\n",
    "\n",
    "### 2.1 Import Data\n",
    "The block of code below imports our data. The first line imports the file. The next lines tell Jupyter how to read the file, and the last line tells Jupyter to display the information it read from the file."
   ]
  },
  {
   "cell_type": "code",
   "execution_count": null,
   "metadata": {},
   "outputs": [],
   "source": [
    "import csv\n",
    "data = []\n",
    "with open('exampleData.csv', 'r') as f:\n",
    "    reader = csv.reader(f)\n",
    "    for row in reader:\n",
    "        data.append(int(row[1]))\n",
    "print(\"Data read from the file: \", data)"
   ]
  },
  {
   "cell_type": "markdown",
   "metadata": {},
   "source": [
    "Now that we've loaded our data, we need to process it. <br>\n",
    "We're using the **Python** language, which relies on a number of preconfigured programs called *libraries* to accomplish tasks.<br>\n",
    "The next lines of code import the tools we'll need. "
   ]
  },
  {
   "cell_type": "code",
   "execution_count": null,
   "metadata": {},
   "outputs": [],
   "source": [
    "import numpy as np\n",
    "import matplotlib.mlab as mlab\n",
    "import matplotlib.pyplot as plt\n",
    "from ipywidgets import interact, widgets, Button, Layout\n",
    "from scipy import stats\n",
    "from collections import Counter"
   ]
  },
  {
   "cell_type": "markdown",
   "metadata": {},
   "source": [
    "### 2.2 Calculation : defining a function\n",
    "Next, we define a *function*, named \"computeCenTendency\", which we will use to calculate the mean, median, and mode of our dataset. \n",
    "\n",
    "(Together, the mean, median, and mode statistics are known as *measures of central tendency* since they are used to measure the extent to which our data is concentrated around a central value.)"
   ]
  },
  {
   "cell_type": "code",
   "execution_count": null,
   "metadata": {},
   "outputs": [],
   "source": [
    "def computeCenTendency(dataset):\n",
    "    \n",
    "    #mean value\n",
    "    mean= np.mean(dataset)\n",
    "    print(\"Mean: \", round(mean,3))\n",
    "\n",
    "    #median value\n",
    "    # First we need to sort the data in ascending order\n",
    "    dataset.sort()\n",
    "    median = np.median(dataset)\n",
    "    print(\"Median: \", round(median,3))\n",
    "    \n",
    "    # Mode\n",
    "    hits = []\n",
    "    for item in dataset:\n",
    "        tally = dataset.count(item)\n",
    "        #Makes a tuple that is the number of huts paired with the relevant number\n",
    "        values = (tally, item)\n",
    "        # Only add one entry for each number in the set\n",
    "        if values not in hits:\n",
    "            hits.append(values)\n",
    "    hits.sort(reverse=True)\n",
    "    if hits[0][0]>hits[1][0]:\n",
    "        print(\"Mode:\", round(hits[0][1],3), \"(appeared\", hits[0][0], \"times.)\")\n",
    "    else:\n",
    "        print(\"There is no mode\")\n",
    "\n",
    "    Counter(dataset)\n",
    "    return mean, median, hits[0][1]\n"
   ]
  },
  {
   "cell_type": "markdown",
   "metadata": {},
   "source": [
    "### 2.3 Calculation : using the function\n",
    "Now we call the above defined function. The required parameter of the function is the list of data. "
   ]
  },
  {
   "cell_type": "code",
   "execution_count": null,
   "metadata": {},
   "outputs": [],
   "source": [
    "centralTendency = []\n",
    "centralTendency = computeCenTendency(data)"
   ]
  },
  {
   "cell_type": "markdown",
   "metadata": {},
   "source": [
    "### 2.4 Histogram\n",
    "\n",
    "Next, we will produce a **histogram** of our data. A histogram is a useful plot for visualizing how the values in our dataset are distributed.<br>\n",
    "Again, we begin by importing the Python libraries needed to accomplish the task.<br>"
   ]
  },
  {
   "cell_type": "code",
   "execution_count": null,
   "metadata": {},
   "outputs": [],
   "source": [
    "from array import array\n",
    "from statistics import mode\n",
    "import IPython\n",
    "import pandas"
   ]
  },
  {
   "cell_type": "markdown",
   "metadata": {},
   "source": [
    "Now we can define our histogram plot. The definition depends on a number of parameters, such the number of 'bins'.<br>\n",
    "When there are a lot of data points, we don't plot each point individually. Instead, we group together nearby values.<br>\n",
    "Each such grouping, given by a range of values, is called a *bin*.<br>\n",
    "The height of each bar in the histogram is given by the number of data points in the corresponding bin.\n",
    "\n",
    "#### 2.4.1 General function\n",
    "First, we will imlement a general function for plotting histogram so that we can use it for every example. "
   ]
  },
  {
   "cell_type": "code",
   "execution_count": null,
   "metadata": {},
   "outputs": [],
   "source": [
    "def plotHistogram(x_values, num_bins, xLabel, yLabel, histTitle):\n",
    "    n, bins, patches = plt.hist(x_values, num_bins, facecolor='blue', alpha=0.5)\n",
    "\n",
    "    plt.xlabel(xLabel)\n",
    "    plt.ylabel(yLabel)\n",
    "    plt.title(histTitle)\n",
    "    plt.show()"
   ]
  },
  {
   "cell_type": "markdown",
   "metadata": {},
   "source": [
    "Now we define another function to get the value of *bin* value size from the user and generate a histogram based on the value."
   ]
  },
  {
   "cell_type": "code",
   "execution_count": null,
   "metadata": {},
   "outputs": [],
   "source": [
    "\n",
    "def callPlottingFunction(num_bins):\n",
    "    print(\"Generating... plot for :\", num_bins)\n",
    "    plotHistogram(data, num_bins , 'Sodium Content', 'values', 'Histogram of 30 products in Australian supermarkets')\n",
    "\n"
   ]
  },
  {
   "cell_type": "markdown",
   "metadata": {},
   "source": [
    "#### 2.4.2 Interactive histogram\n",
    "To present the histogram in a interactive way, here we have used a Python widget called a slider.<br>\n",
    "We invoke a built in function named *interact()*, that automatically creates user interface controls for exploring code and data interactively. \n",
    "\n",
    "In the following slider, we can adjust the *bin* size (labeled as *num_bins* ) and generate histogram with the value of num_bins.<br>\n",
    "Students can change the value between the range of $0$ to $100$. By default the value of *num_bins* is set to 50.<br>\n",
    "To generate the histogram for different values click anywhere on the slider. \n",
    "\n",
    "N.B. The interactivity here is a little rough: the graph disappears and reappears each time the slider value changes!"
   ]
  },
  {
   "cell_type": "code",
   "execution_count": null,
   "metadata": {},
   "outputs": [],
   "source": [
    "interact(callPlottingFunction, num_bins=widgets.IntSlider(min=0,max=100,step=1,value=50));"
   ]
  },
  {
   "cell_type": "markdown",
   "metadata": {},
   "source": [
    "## <font color='Blue'> 3 Exploring the effect of outliers </font> \n",
    "\n",
    "In the example above, the sodium content in the soy sauce produced a clear outlier.<br>\n",
    "Next, we will begin with a dataset that does not initially contain any outliers, and compute its mean, median, and mode.<br>\n",
    "You will then have the opportunity to add additional data points to the set, and then compute their effect on these statistics.\n",
    "\n",
    "### 3.1 Dataset without outlier\n",
    "We remove the soy sauce entry from our list of foods and their sodium content.<br>\n",
    "Now we perform another iteration to compute every task that we defined in section 2.  "
   ]
  },
  {
   "cell_type": "code",
   "execution_count": null,
   "metadata": {},
   "outputs": [],
   "source": [
    "dataWithoutOutlier = []\n",
    "with open('exampleData_NoOutlier.csv', 'r') as f:\n",
    "    reader = csv.reader(f)\n",
    "    for row in reader:\n",
    "        dataWithoutOutlier.append(int(row[1]))\n",
    "print(\"Data read from the file: \", dataWithoutOutlier)\n",
    "\n",
    "centralTendencyWithoutOutlier = []\n",
    "centralTendencyWithoutOutlier = computeCenTendency(dataWithoutOutlier)\n",
    "\n",
    "def callPlottingFunctionNoOutlier(num_bins):\n",
    "    print(\"Generating... plot for :\", num_bins)\n",
    "    plotHistogram(dataWithoutOutlier, num_bins , 'Sodium Content', 'values', 'Histogram of 30 products in Australian supermarkets')\n",
    "\n",
    "interact(callPlottingFunctionNoOutlier, num_bins=widgets.IntSlider(min=0,max=100,step=1,value=50));"
   ]
  },
  {
   "cell_type": "markdown",
   "metadata": {},
   "source": [
    "### 3.2 Adding an outlier\n",
    "Here, we provide an opportunity so that student can add outlier by their own choice.<br>\n",
    "First, they have to enter how many outlier(s) they want to add.<br>\n",
    "Then the program will take the input outlier(s).  "
   ]
  },
  {
   "cell_type": "code",
   "execution_count": null,
   "metadata": {},
   "outputs": [],
   "source": [
    "inputs = []\n",
    "numbers = int(input(\"Number(s) of Outlier : \"))\n",
    "inputs = [input(\"Outlier \" + str(i+1) + \": \")  for i in range(numbers)]\n",
    "inputs = list(map(int, inputs))\n",
    "\n",
    "datasetWithOutlier = []\n",
    "datasetWithOutlier = dataWithoutOutlier + inputs\n",
    "\n",
    "if(numbers == 1):\n",
    "    print(\"Dataset with outlier (last\", numbers, \"entry was added) : \", datasetWithOutlier)\n",
    "else:\n",
    "    print(\"Dataset with outliers (last\", numbers, \"entries were added) : \", datasetWithOutlier)"
   ]
  },
  {
   "cell_type": "markdown",
   "metadata": {},
   "source": [
    "Now we will compute the central tendency and produce histogram of the dataset with outlier."
   ]
  },
  {
   "cell_type": "code",
   "execution_count": null,
   "metadata": {},
   "outputs": [],
   "source": [
    "centralTendencyWithOutlier = []\n",
    "centralTendencyWithOutlier = computeCenTendency(datasetWithOutlier)"
   ]
  },
  {
   "cell_type": "markdown",
   "metadata": {},
   "source": [
    "### 3.3 Historgram with Outliers\n",
    "Here, we plot a histogram of the data that contain outlier(s). Student can also define the size of *bins* on the slider and observe the change of grpah representation. "
   ]
  },
  {
   "cell_type": "code",
   "execution_count": null,
   "metadata": {
    "scrolled": true
   },
   "outputs": [],
   "source": [
    "def callPlottingFunctionWithOutlier(num_bins):\n",
    "    print(\"Generating... plot for :\", num_bins)\n",
    "    plotHistogram(datasetWithOutlier, num_bins, 'Sodium Content', 'values', 'Histogram with Outliers')\n",
    "interact(callPlottingFunctionWithOutlier, num_bins=widgets.IntSlider(min=0,max=100,step=1,value=50));"
   ]
  },
  {
   "cell_type": "markdown",
   "metadata": {},
   "source": [
    "**Effects of Outlier :** From the above results and histogram, we see that adding outliers can change the mean dramatically.<br>\n",
    "This is because we need to add all the values to determine the mean value.<br>\n",
    "Outliers are often values that are much larger or smaller than the other values.<br>\n",
    "When we add these values to the sum, the average can change significantly.\n",
    "\n",
    "On the contrary, to find out the median value we need to considere the middle number(s).<br>\n",
    "Adding an outlier adds a data point at the far end of our data set, and everything else shifts over only one spot.\n",
    "\n",
    "The mode is very unlikely to update, because we define mode by the repetition of values.<br>\n",
    "Input a very large number as an outlier and observe the histogram. <br>\n",
    "You will notice all regular data should be in one particular area and the inputted value is far away. "
   ]
  },
  {
   "cell_type": "code",
   "execution_count": null,
   "metadata": {},
   "outputs": [],
   "source": [
    "import plotly.plotly as py\n",
    "import plotly.graph_objs as go\n",
    "\n",
    "import pandas as pd\n",
    "import colorlover as cl\n",
    "\n",
    "criteriaArray = ['Mean', 'Median', 'Mode']\n",
    "centralTendencyCriteriaArray = np.asarray(criteriaArray)\n",
    "centralTendencyWithoutOutlierArray = np.around(np.asarray(centralTendencyWithoutOutlier), 3)\n",
    "centralTendencyWithOutlierArray = np.around(np.asarray(centralTendencyWithOutlier), 3) \n",
    "tableValues = [centralTendencyCriteriaArray, centralTendencyWithoutOutlierArray,centralTendencyWithOutlierArray]\n",
    "\n",
    "\n",
    "colors = cl.scales['3']['div']['RdYlGn']\n",
    "data = {'cenTendencyValues' : tableValues,\n",
    "        'Color' : colors}\n",
    "\n",
    "df = pd.DataFrame(data)\n",
    "\n",
    "\n",
    "trace0 = go.Table(\n",
    "  header = dict(\n",
    "    values = [\" \",\"Before adding outlier\", \"After adding outlier\"],\n",
    "    line = dict(color = 'white'),\n",
    "    fill = dict(color = 'white'),\n",
    "    align = ['center'],\n",
    "    font = dict(color = 'black', size = 15)\n",
    "  ),\n",
    "  cells = dict(\n",
    "    values = df.cenTendencyValues,\n",
    "    line = dict(color = '#506784'),\n",
    "    fill = dict(color = [df.Color]),\n",
    "    align = 'center',\n",
    "    font = dict(color = 'black', size = 13)\n",
    "    ))\n",
    "\n",
    "data = [trace0]\n",
    "\n",
    "py.iplot(data, filename = \"Effets of Outliers\")"
   ]
  },
  {
   "cell_type": "markdown",
   "metadata": {},
   "source": [
    "## <font color='Blue'> 4 Example Using Python Library </font>\n",
    "In this section we discuss about pandas dataframe. We use **nba_2013.csv** file as dataset that contains $30$ different criteria of $480$ nba players of 2013.\n",
    "\n",
    "First, we import the Python library (pandas) and then read the csv rows. "
   ]
  },
  {
   "cell_type": "code",
   "execution_count": null,
   "metadata": {},
   "outputs": [],
   "source": [
    "nba = pandas.read_csv(\"nba_2013.csv\")\n",
    "print(round(nba.head(10),3))"
   ]
  },
  {
   "cell_type": "markdown",
   "metadata": {},
   "source": [
    "Determining the dimensions of nba dataset."
   ]
  },
  {
   "cell_type": "code",
   "execution_count": null,
   "metadata": {},
   "outputs": [],
   "source": [
    "print(\"Total number of rows : \", nba.shape[0])\n",
    "print(\"Total number of colums : \", nba.shape[1])"
   ]
  },
  {
   "cell_type": "markdown",
   "metadata": {},
   "source": [
    "###  4.1 Mean"
   ]
  },
  {
   "cell_type": "code",
   "execution_count": null,
   "metadata": {
    "scrolled": true
   },
   "outputs": [],
   "source": [
    "#Mean \n",
    "fullDataframeMean = []\n",
    "fullDataframeMean = nba.mean()\n",
    "print(round(fullDataframeMean.head(10),3))"
   ]
  },
  {
   "cell_type": "markdown",
   "metadata": {},
   "source": [
    "###  4.2 Median "
   ]
  },
  {
   "cell_type": "code",
   "execution_count": null,
   "metadata": {},
   "outputs": [],
   "source": [
    "#Median\n",
    "fullDataframeMedian = []\n",
    "fullDataframeMedian = nba.median()\n",
    "print(round(fullDataframeMedian.head(10),3))"
   ]
  },
  {
   "cell_type": "markdown",
   "metadata": {},
   "source": [
    "###  4.3 Mode"
   ]
  },
  {
   "cell_type": "code",
   "execution_count": null,
   "metadata": {},
   "outputs": [],
   "source": [
    "#Mode\n",
    "fullDataFrameMode = []\n",
    "fullDataFrameMode = nba.mode()\n",
    "print(round(fullDataFrameMode.head(5),3))"
   ]
  },
  {
   "cell_type": "markdown",
   "metadata": {},
   "source": [
    "###  4.4 Histogram "
   ]
  },
  {
   "cell_type": "code",
   "execution_count": null,
   "metadata": {
    "scrolled": true
   },
   "outputs": [],
   "source": [
    "def callPlottingFunctionNBA(num_bins):\n",
    "    print(\"Generating... plot for :\", num_bins)\n",
    "    plotHistogram(nba[[\"ast\"]], num_bins, \"nba players\", \"values\", \"Histogram of 2013 nba players\")\n",
    "interact(callPlottingFunctionNBA, num_bins = widgets.IntSlider(min=0,max=100,step=1,value=10));"
   ]
  },
  {
   "cell_type": "markdown",
   "metadata": {},
   "source": [
    "## <font color='Blue'>5 Test yourself </font>"
   ]
  },
  {
   "cell_type": "markdown",
   "metadata": {},
   "source": [
    "### 5.1 Practice Problem : Easy\n",
    "Consider the following GPAs of\tstudents\tfrom two\tsemesters\tof\tStat-0000 course: \n",
    "<br>\n",
    "Semester $1: 3.1, 3.2, 2.8,  2.9, 3.0, 3.4,\t2.3, 3.2, 2.1,\t3.5$ <br>\n",
    "Semester $2: 2.2, 4.1,\t2.6, 2.7, 3.8, 2.8,\t2.4, 3.2, 2.7,\t2.9$\n"
   ]
  },
  {
   "cell_type": "code",
   "execution_count": null,
   "metadata": {},
   "outputs": [],
   "source": [
    "def display(question, answerList):\n",
    "    print(question)\n",
    "    IPython.display.display(answerList)"
   ]
  },
  {
   "cell_type": "code",
   "execution_count": null,
   "metadata": {},
   "outputs": [],
   "source": [
    "question611 = \"6.1.1 What will be the mean of semester 1?\"\n",
    "\n",
    "answer611 = widgets.RadioButtons(options=['Select best one','2.95', '3', '3.05', '3.10', 'None of the above'],\n",
    "                             value= 'Select best one', description='Choices:')\n",
    "\n",
    "\n",
    "def checkAnswer(a):\n",
    "    IPython.display.clear_output(wait=False)\n",
    "    display(question611, answer611)\n",
    "    if answer611.value == '3.05':\n",
    "        print(\"Correct Answer!\")\n",
    "    else:\n",
    "        if answer611.value == 'Select best one':\n",
    "            pass\n",
    "        else:\n",
    "            print(\"Wrong answer! Try again.\")\n",
    "\n",
    "display(question611, answer611)\n",
    "\n",
    "answer611.observe(checkAnswer, 'value')"
   ]
  },
  {
   "cell_type": "code",
   "execution_count": null,
   "metadata": {},
   "outputs": [],
   "source": [
    "%%html\n",
    "<html>\n",
    "<head>\n",
    "<script type=\"text/javascript\">\n",
    "<!--\n",
    "function toggle(id) {\n",
    "var e = document.getElementById(id);\n",
    "if(e.style.display == 'none')\n",
    "e.style.display = 'block';\n",
    "else\n",
    "e.style.display = 'none';\n",
    "}\n",
    "//-->\n",
    "</script>\n",
    "</head>\n",
    "\n",
    "<body>\n",
    "<div id=\"question611\">\n",
    " <button id = \"611\"\n",
    "onclick=\"toggle('answer611');\">Solution</button> \n",
    "</div>\n",
    "<div style=\"display:none\" id=\"answer611\">\n",
    "To find out the mean of semester 1 we divide the sum of all data by the numbers of data.<br/>\n",
    "Therefore, Mean $=  \\frac{3.1 + 3.2 + 2.8 + 2.9 + 3.0 + 3.4 + 2.3 + 3.2 + 2.1 + 3.5}{10} = 3.05$ <br/>\n",
    "\n",
    "\n",
    "</div>\n",
    "\n",
    "</body>\n",
    "</html>"
   ]
  },
  {
   "cell_type": "code",
   "execution_count": null,
   "metadata": {},
   "outputs": [],
   "source": [
    "question612 = \"6.1.2 What will be the median of semester 2?\"\n",
    "\n",
    "answer612 = widgets.RadioButtons(options=['Select best one', '2.43', '2.5', '2.67', '2.75', 'None of the above'],\n",
    "                              value = 'Select best one', description='Choices:')\n",
    "\n",
    "def check612(b):\n",
    "    IPython.display.clear_output(wait=False)\n",
    "    display(question612, answer612)\n",
    "    if answer612.value == '2.75':\n",
    "        print(\"Correct Answer!\")\n",
    "    else:\n",
    "        if answer612.value == 'Select best one':\n",
    "            pass\n",
    "        else:\n",
    "            print(\"Wrong answer! Try again.\")\n",
    "\n",
    "IPython.display.clear_output(wait=False)\n",
    "display(question612, answer612)\n",
    "answer612.observe(check612, 'value')"
   ]
  },
  {
   "cell_type": "code",
   "execution_count": null,
   "metadata": {},
   "outputs": [],
   "source": [
    "%%html\n",
    "<html>\n",
    "<head>\n",
    "<script type=\"text/javascript\">\n",
    "<!--\n",
    "function toggle(id) {\n",
    "var e = document.getElementById(id);\n",
    "if(e.style.display == 'none')\n",
    "e.style.display = 'block';\n",
    "else\n",
    "e.style.display = 'none';\n",
    "}\n",
    "//-->\n",
    "</script>\n",
    "</head>\n",
    "\n",
    "<body>\n",
    "<div id=\"question612\">\n",
    " <button id = \"612\"\n",
    "onclick=\"toggle('answer612');\">Solution</button> \n",
    "</div>\n",
    "<div style=\"display:none\" id=\"answer612\">\n",
    "To determine the median at first we need to sort the data. <br/>\n",
    "Sorted data,<br/>\n",
    "Semester  $2: 2.2,2.4,2.6,2.7,2.7,2.8,2.9,3.2,3.8,4.1$ <br/>\n",
    "There are $10$ numbers in the data set, so the average of $5^{th}$ and $6^{th}$ will be the median. <br/>\n",
    "So, the Median $= \\frac{2.7 + 2.8}{2} = 2.75$ <br/>\n",
    "\n",
    "\n",
    "</div>\n",
    "\n",
    "</body>\n",
    "</html>"
   ]
  },
  {
   "cell_type": "markdown",
   "metadata": {},
   "source": [
    "### 5.2 Practice Problem : Medium\n"
   ]
  },
  {
   "cell_type": "markdown",
   "metadata": {},
   "source": [
    "#### 5.2.1 Distribution type\n",
    "We want to know how the values are distributed. To determine the type, if $mean<median<mode$ then it is called negatively skewed and if $mean > median >mode$ then it is positively skewed. "
   ]
  },
  {
   "cell_type": "code",
   "execution_count": null,
   "metadata": {},
   "outputs": [],
   "source": [
    "question621 = \"6.2.1 What is the distribution type of semester 1? (Hint:first, calcualte mean, median, mode)\"\n",
    "\n",
    "answer621 = widgets.RadioButtons(options=['Select best one', 'Negatively Skewed', 'Positively skewed', 'both of them', 'None of the above'],\n",
    "                              value = 'Select best one', description='Choices:')\n",
    "\n",
    "def check621(c):\n",
    "    IPython.display.clear_output(wait=False)\n",
    "    display(question621, answer621)\n",
    "    if answer621.value == 'Negatively Skewed':\n",
    "        print(\"Correct Answer!\")\n",
    "    else:\n",
    "        if answer621.value == 'Select best one':\n",
    "            pass\n",
    "        else:\n",
    "            print(\"Wrong answer! Try again.\")\n",
    "        \n",
    "IPython.display.clear_output(wait=False)\n",
    "display(question621, answer621)\n",
    "answer621.observe(check621, 'value')"
   ]
  },
  {
   "cell_type": "code",
   "execution_count": null,
   "metadata": {},
   "outputs": [],
   "source": [
    "%%html\n",
    "<html>\n",
    "<head>\n",
    "<script type=\"text/javascript\">\n",
    "<!--\n",
    "function toggle(id) {\n",
    "var e = document.getElementById(id);\n",
    "if(e.style.display == 'none')\n",
    "e.style.display = 'block';\n",
    "else\n",
    "e.style.display = 'none';\n",
    "}\n",
    "//-->\n",
    "</script>\n",
    "</head>\n",
    "\n",
    "<body>\n",
    "<div id=\"question621\">\n",
    " <button id = \"621\"\n",
    "onclick=\"toggle('answer621');\">Solution</button> \n",
    "</div>\n",
    "<div style=\"display:none\" id=\"answer621\">\n",
    "At first we have to calculate the mean, median and mode of semester 1 <br/> \n",
    "Mean $=  \\frac{3.1 + 3.2 + 2.8 + 2.9 + 3.0 + 3.4 + 2.3 + 3.2 + 2.1 + 3.5}{10} = 2.95$ <br/>\n",
    "For finding the median we need to sort the data. <br/>\n",
    "Sorted data,<br/>\n",
    "Semester  $1: 2.1,2.3,2.8,2.9,3.0,3.1,3.2,3.2,3.4,3.5$ <br/>\n",
    "There are $10$ numbers in the data set, so the average of $5^{th}$ and $6^{th}$ will be the median. <br/>\n",
    "Median $= \\frac{3.0 + 3.1}{2} = 3.05$ <br/>\n",
    "From the above sorted data we can see that only $3.2$ repeats twice. <br/>\n",
    "So, the mode is $3.2$ <br/>\n",
    "\n",
    "The mean is less than median, and median is less than mode. That means, mean$<$ median $<$ mode. <br/>\n",
    "Therefore the distribution type of semester 1 data is Negatively Skewed. <br/>\n",
    "\n",
    "</div>\n",
    "\n",
    "</body>\n",
    "</html>"
   ]
  },
  {
   "cell_type": "markdown",
   "metadata": {},
   "source": [
    "#### 5.2.2 Median of medians\n",
    "Now, we learn how to calculate the median of medians. We define the term as quartile. When we compute the median (M) of a dataset we divide them into two groups. Let say, in group $1$ all values should be less than or equal of median.\n",
    "<br>\n",
    "**First quartile $(M_1):$** the median of first group. Now, we have smaller data sets and we can find the median as we discussed in preliminaries.   <br>\n",
    "**Third quartile $(M_3)$** the median of second group where every value is equal or greater than median. <br>\n",
    "The **Second quartile** is our median (M).\n",
    "<br>\n",
    "For example, our data set is: \n",
    "$S_1 = {2, 5, 7, 8, 9}$<br>\n",
    "So the median (M) is $: 7$<br>\n",
    "and now we have two groups:\n",
    "<br>\n",
    "Group $1: {2,5}$ <br>\n",
    "Group $2: {8,9}$ <br>\n",
    "So the first quartile $(M_1)$ is: $\\frac{2+5}{2} = 3.5$ <br>\n",
    "similarly, third quartile, $(M_3) = 8.5$\n",
    "\n",
    "<br>\n",
    "    Based on the discussion, answer the following questions. "
   ]
  },
  {
   "cell_type": "code",
   "execution_count": null,
   "metadata": {},
   "outputs": [],
   "source": [
    "answer622 = widgets.RadioButtons(options=[  'Select best one','2.5 and 3.1', '2.6 and 3.1', '2.6 and 3.2', '2.8 and 3.2', 'None of the above'],\n",
    "                             value = 'Select best one', description='Choices:')\n",
    "\n",
    "question622 = \"6.2.2 What is the first and third quartiles of semester 2?\"\n",
    "\n",
    "\n",
    "def check622(d):\n",
    "    IPython.display.clear_output(wait=False)\n",
    "    display(question622, answer622)\n",
    "    if answer622.value == '2.6 and 3.2':\n",
    "        print(\"Correct Answer!\")\n",
    "    else:\n",
    "        if answer622.value == 'Select best one':\n",
    "            pass\n",
    "        else:\n",
    "            print(\"Wrong answer! Try again.\")\n",
    "        \n",
    "IPython.display.clear_output(wait=False)\n",
    "display(question622,answer622 )\n",
    "answer622.observe(check622, 'value')"
   ]
  },
  {
   "cell_type": "code",
   "execution_count": null,
   "metadata": {},
   "outputs": [],
   "source": [
    "%%html\n",
    "<html>\n",
    "<head>\n",
    "<script type=\"text/javascript\">\n",
    "<!--\n",
    "function toggle(id) {\n",
    "var e = document.getElementById(id);\n",
    "if(e.style.display == 'none')\n",
    "e.style.display = 'block';\n",
    "else\n",
    "e.style.display = 'none';\n",
    "}\n",
    "//-->\n",
    "</script>\n",
    "</head>\n",
    "\n",
    "<body>\n",
    "<div id=\"question622\">\n",
    " <button id = \"622\"\n",
    "onclick=\"toggle('answer622');\">Solution</button> \n",
    "</div>\n",
    "<div style=\"display:none\" id=\"answer622\">\n",
    "At first we have to sort the data of semester 2 <br/> \n",
    "Sorted data,\n",
    "Semester  2: 2.2,2.4,2.6,2.7,2.7,2.8,2.9,3.2,3.8,4.1\n",
    "Data for first Median :  2.2, 2.4, 2.6, 2.7, 2.7 <br/>\n",
    "    So the first median or first quartile is 2.6 <br/>\n",
    "Similarly, third quartile $M_3$ is 3.2 <br/>\n",
    "\n",
    "</div>\n",
    "\n",
    "</body>\n",
    "</html>"
   ]
  },
  {
   "cell_type": "markdown",
   "metadata": {},
   "source": [
    "### 5.3 Practice Problem : Hard\n",
    "A student has gotten the following marks on his tests: 87, 95, 76, and 88. He wants an 85 or better overall."
   ]
  },
  {
   "cell_type": "code",
   "execution_count": null,
   "metadata": {},
   "outputs": [],
   "source": [
    "answer631 = widgets.RadioButtons(options=[ 'Select best one','78', '78.5', '79', '80', 'None of the above'],\n",
    "                             value = 'Select best one', description='Choices:')\n",
    "\n",
    "question631 = \"6.3.1 What is the minimum mark he must get on the last test in order to achieve that average?\"\n",
    "\n",
    "def check631(e):\n",
    "    IPython.display.clear_output(wait=False)\n",
    "    display(question631, answer631)\n",
    "    if answer631.value == '79':\n",
    "        print(\"Correct Answer!\")\n",
    "    else:\n",
    "        if answer631.value == 'Select best one':\n",
    "            pass\n",
    "        else:\n",
    "            print(\"Wrong answer! Try again.\")\n",
    "        \n",
    "IPython.display.clear_output(wait=False)\n",
    "display(question631, answer631)\n",
    "answer631.observe(check631, 'value')"
   ]
  },
  {
   "cell_type": "code",
   "execution_count": null,
   "metadata": {},
   "outputs": [],
   "source": [
    "%%html\n",
    "<html>\n",
    "<head>\n",
    "<script type=\"text/javascript\">\n",
    "<!--\n",
    "function toggle(id) {\n",
    "var e = document.getElementById(id);\n",
    "if(e.style.display == 'none')\n",
    "e.style.display = 'block';\n",
    "else\n",
    "e.style.display = 'none';\n",
    "}\n",
    "//-->\n",
    "</script>\n",
    "</head>\n",
    "\n",
    "<body>\n",
    "<div id=\"question631\">\n",
    " <button id = \"631\"\n",
    "onclick=\"toggle('answer631');\">Solution</button> \n",
    "</div>\n",
    "<div style=\"display:none\" id=\"answer631\">\n",
    "The minimum mark is what we need to find. To find the average of all his marks (the known ones, plus the unknown one), \n",
    "we have to add up all the grades, and then divide by the number of marks. Since we do not have a score for the last test yet, \n",
    "we will use a variable to stand for this unknown value: \"x\". Then computation to find the desired average is: <br />\n",
    "\n",
    "the first step : (87 + 95 + 76 + 88 + x) ÷ 5 = 85 <br />\n",
    "Multiplying through by 5 and simplifying, we get: <br/>\n",
    "the next step : 87 + 95 + 76 + 88 + x = 425 <br />\n",
    "the next step : 346 + x = 425 <br />\n",
    "the final step : x = 79 <br />\n",
    "so, he needs to get at least a 79 on the last test.\n",
    "</div>\n",
    "\n",
    "</body>\n",
    "</html>"
   ]
  },
  {
   "cell_type": "markdown",
   "metadata": {},
   "source": [
    "### 5.4 Practice Problem: Miscellaneous\n",
    "In this section we discuss how to determine the outliers based on first and third quartile. First, we need to find out the inter quartile range (IQR). And then we compute the lower and upper limit for outliers by the following formulae: <br>\n",
    "Lower limit: $$M_1 - 1.5 \\times \\text{IQR}$$\n",
    "and upper limit: $$M_3 + 1.5 \\times \\text{IQR}$$\n",
    "where,<br>\n",
    "IQR $= (M_3 - M_1)$ <br>\n",
    "So, all the data that are not belong to this range are outliers.\n",
    "\n",
    "Now, answer the following question:"
   ]
  },
  {
   "cell_type": "code",
   "execution_count": null,
   "metadata": {},
   "outputs": [],
   "source": [
    "answer641 = widgets.RadioButtons(options=['Select best one','1.6 and 4.1', '1.7 and 3.9', '2.2 and 3.8', '1.7 and 4.1', 'None of the above'],\n",
    "                              value='Select best one',description='Choices:')\n",
    "\n",
    "question641 = \"6.4.1 What is the lower and upper limit of outliers of semester 2?\"\n",
    "\n",
    "\n",
    "def checkAnswer641(f):\n",
    "    IPython.display.clear_output(wait=False)\n",
    "    display(question641, answer641 )\n",
    "    if answer641.value == '1.7 and 4.1':\n",
    "        print(\"Correct Answer!\")\n",
    "    else:\n",
    "        if answer641.value == 'Select best one':\n",
    "            pass\n",
    "        else:\n",
    "            print(\"Wrong answer! Try again.\")\n",
    "\n",
    "IPython.display.clear_output(wait=False)\n",
    "display(question641, answer641)\n",
    "answer641.observe(checkAnswer641, 'value')"
   ]
  },
  {
   "cell_type": "code",
   "execution_count": null,
   "metadata": {},
   "outputs": [],
   "source": [
    "%%html\n",
    "<html>\n",
    "<head>\n",
    "<script type=\"text/javascript\">\n",
    "<!--\n",
    "function toggle(id) {\n",
    "var e = document.getElementById(id);\n",
    "if(e.style.display == 'none')\n",
    "e.style.display = 'block';\n",
    "else\n",
    "e.style.display = 'none';\n",
    "}\n",
    "//-->\n",
    "</script>\n",
    "</head>\n",
    "\n",
    "<body>\n",
    "<div id=\"question641\">\n",
    " <button id = \"641\"\n",
    "onclick=\"toggle('answer641');\">Solution</button> \n",
    "</div>\n",
    "<div style=\"display:none\" id=\"answer641\">\n",
    "At first we have to determine the first median$(M_1)$ and third median $(M_3)$ of semester 2.<br/> \n",
    "Data for first Median :  2.2, 2.4, 2.6, 2.7, 2.7 <br/>\n",
    "    So the first median or first quartile is 2.6 <br/>\n",
    "Similarly, $M_3$ is 3.2 <br/>\n",
    "So, the inter median/quartile range (IQR) = 3.2 - 2.6 = 0.6 <br/>\n",
    "Now we can compute the limits for outliers. <br/>\n",
    "\n",
    "Lower limit : $M_1 - 1.5\\times IQR = 2.6 - 1.5 \\times 0.6 = 1.7$ <br/>\n",
    "Similarly, using second equation we can determine the upper limit, <br/>\n",
    "Upper limit : $ 3.2 + 1.5 \\times 0.6 = 4.1$\n",
    "</div>\n",
    "\n",
    "</body>\n",
    "</html>"
   ]
  },
  {
   "cell_type": "code",
   "execution_count": null,
   "metadata": {},
   "outputs": [],
   "source": [
    "answer642 = widgets.RadioButtons(options=['Select best one', '2.2', '3.8', '1.7', '2.1', 'None of the above'],\n",
    "                             value = 'Select best one',  description='Choices:')\n",
    "\n",
    "question642 = \"6.4.2 What is the Potential outliers  of semester 1?\"\n",
    "\n",
    "def check642(g):\n",
    "    IPython.display.clear_output(wait=False)\n",
    "    display(question642, answer642)\n",
    "    if answer642.value == '2.1':\n",
    "        print(\"Correct Answer!\")\n",
    "    else:\n",
    "        if answer642.value == 'Select best one':\n",
    "            pass\n",
    "        else:\n",
    "            print(\"Wrong answer! Try again.\")\n",
    "\n",
    "IPython.display.clear_output(wait=False)\n",
    "display(question642, answer642)\n",
    "answer642.observe(check642, 'value')"
   ]
  },
  {
   "cell_type": "code",
   "execution_count": null,
   "metadata": {},
   "outputs": [],
   "source": [
    "%%html\n",
    "<html>\n",
    "<head>\n",
    "<script type=\"text/javascript\">\n",
    "<!--\n",
    "function toggle(id) {\n",
    "var e = document.getElementById(id);\n",
    "if(e.style.display == 'none')\n",
    "e.style.display = 'block';\n",
    "else\n",
    "e.style.display = 'none';\n",
    "}\n",
    "//-->\n",
    "</script>\n",
    "</head>\n",
    "\n",
    "<body>\n",
    "<div id=\"question642\">\n",
    " <button id = \"642\"\n",
    "onclick=\"toggle('answer642');\">Solution</button> \n",
    "</div>\n",
    "<div style=\"display:none\" id=\"answer642\">\n",
    "In our previous question we determined the lower and upper limit of semester 2. Similarly if we calculate the limits for semester 1 \n",
    "we find that the lower and upper limits are 2.2 and 3.8 respectively. So as per the definition of outliers, the numbers that are \n",
    "lower than the lower limit and higher than the upper limit should be the potential outliers.<br />\n",
    "\n",
    "So from the given data of semester 1 we can find that 2.1 is less than the lower limit (2.2)and all other GPAs are in between lower\n",
    "and upper limit.  <br/>Hence, 2.1 is potential outlier.\n",
    "</div>\n",
    "\n",
    "</body>\n",
    "</html>"
   ]
  },
  {
   "cell_type": "markdown",
   "metadata": {},
   "source": [
    "## <font color='Blue'> 6 Conclusion </font>\n",
    "The three most common statistical averages are (arithmetic) mean, median and mode. We observed the effect of outliers on mean, median, and mode. Mean updated very quickly for adding outlier(s),median changes very slowly and most cases mode would remain same. "
   ]
  },
  {
   "cell_type": "markdown",
   "metadata": {},
   "source": [
    "![alt text][bottom-banner]\n",
    "\n",
    "[bottom-banner]: ./callysto-bottom-banner.jpg"
   ]
  }
 ],
 "metadata": {
  "kernelspec": {
   "display_name": "Python 3",
   "language": "python",
   "name": "python3"
  },
  "language_info": {
   "codemirror_mode": {
    "name": "ipython",
    "version": 3
   },
   "file_extension": ".py",
   "mimetype": "text/x-python",
   "name": "python",
   "nbconvert_exporter": "python",
   "pygments_lexer": "ipython3",
   "version": "3.6.5"
  }
 },
 "nbformat": 4,
 "nbformat_minor": 2
}
