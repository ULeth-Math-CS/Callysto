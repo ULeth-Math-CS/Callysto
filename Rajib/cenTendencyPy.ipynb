{
 "cells": [
  {
   "cell_type": "markdown",
   "metadata": {},
   "source": [
    "# Data Analysis : Mean, Median, and Mode\n",
    "\n",
    "This notebook will explore the effects of outliers on the mean, median and mode.\n",
    "<br>First, we will review the very basiscs of mean, median, mode, and outlier. Further details are readily available on the internet, such as [this website for Australian junior high students](https://www.mathsteacher.com.au/year8/ch17_stat/02_mean/mean.htm). \n",
    "\n",
    "We will use the Python programming language to import and process several sets of data. In particular, using Python we can easily calculate the mean, median, and mode for a dataset. Once we've covered the basics, you'll have the opportunity to use some basic Python tools to adjust a dataset by adding one or more outliers, and then observe the effect on mean, median, and mode.\n",
    "<br>\n",
    "## What do we mean about the 'mean'?\n",
    "The *average* of a set of numbers is called the **mean**. \n",
    "<br> To calculate: just add up all the numbers and then divide by how many numbers there are. \n",
    "<br> If there are $n-$elements in a set, $S = \\{a_1, a_2, a_3, .... , a_n\\}$. Then the mean of the set will be, \n",
    "$$mean=\\frac{\\sum_{i=1}^{n} a_i}{n}$$\n",
    "\n",
    "#### Example 1 : easy\n",
    "Data set $= 2, 6, 3, 7, 5, 3, 9$\n",
    "<br> number of elements in data set $= 7$\n",
    "<br>So the mean is, \n",
    "$$mean = \\frac{2 + 6 + 3 + 7 + 5 + 3 + 9}{7} = 5 $$\n",
    "\n",
    "#### Example 2 : Never average averages\n",
    "**If Tommy averaged $20$ points for $3$ basketball games and $30$ points in next two, what was his average for all five games?**\n",
    "##### solution:\n",
    "Total points for first three games $= 20 \\times 3 = 60$\n",
    "<br>Points for next two games $ = 30 \\times 2 = 60 $\n",
    "<br>Total number of games $ = 3 + 2 = 5$\n",
    "<br>Therefore the mean is, $ = \\frac{120}{5} = 24$\n",
    "\n",
    "As we will soon see, the mean of a dataset is sensitive to extreme values (outliers). This can be useful in situations where we want to take those values into account. For example, if we're including the cost of home heating in a household budget, the average cost of our heating bill will give the best measure of heating's impact on our budget over the course of a year.\n",
    "\n",
    "## Median : don't play in the MEDIAN at home kids!\n",
    "The median is the middle number in a sequence of numbers.\n",
    "To compute the median, first reorder the data set from the smallest to the largest. If the number of elements are odd, then the median is the element in the middle of the data set. Otherwise, the median is the average of the two middle terms.\n",
    "\n",
    "\n",
    "#### Example 1 : odd number of elements\n",
    "Data set $= 2, 6, 3, 7, 5, 3, 9$\n",
    "<br> sorted data set $= 2, 3, 3, 5, 6, 7, 9$\n",
    "<br>So, median will be $5$.\n",
    "\n",
    "#### Example 2 : even number of elements \n",
    "Data set $= 2, 6, 3, 7, 5, 3, 9, 4 $\n",
    "<br> sorted data set $= 2, 3, 3, 4, 5, 6, 7, 9$\n",
    "<br>Therefore, the median will be, $\\frac{(4+5)}{2} = 4.5$\n",
    "\n",
    "Again, as we're about to explore, the median is a useful statistic because it is **not** as sensitive to extreme values. For example, businesses -- or city planners -- are more interested in median income than mean income when making decisions on where to locate a business or service. One very wealthy person moving to an area will increase the mean income in that area, but not the median.\n",
    "\n",
    "\n",
    "## Mode\n",
    "The \"Mode\" for a data set is the element that occurs the most often. It is not uncommon for a data set to have more than one mode. This happens when two or more elements occur with equal frequency in the data set. A data set with two modes is called **bimodal**. A data set with three modes is called **trimodal**.\n",
    "\n",
    "#### Example 1 : single mode\n",
    "Data set $= 2, 6, 3, 7, 5, 3, 9$\n",
    "<br> sorted data set $= 2, 3, 3, 5, 6, 7, 9$\n",
    "<br>So, mode will be $3$.\n",
    "\n",
    "#### Example 2 : bimodal\n",
    "Data set $= 2, 6, 3, 7, 5, 3, 9, 5 $\n",
    "<br> sorted data set $= 2, 3, 3, 5, 5, 6, 7, 9$\n",
    "<br>So, mode will be, $3, 5$\n",
    "\n",
    "#### Example 3 : trimodal\n",
    "Data set $= 2, 6, 3, 7, 5, 3, 9, 5, 7$\n",
    "<br> sorted data set $= 2, 3, 3, 5, 5, 6, 7, 7, 9$\n",
    "<br>So, mode will be,  $3, 5, 7$.\n",
    "\n",
    "#### Example 4 : no mode \n",
    "Data set $= 2, 6, 3, 7, 5, 8, 9, 4 $\n",
    "<br> sorted data set $= 2, 3, 4, 5, 6, 7, 8, 9$\n",
    "<br>So, there are no mode.\n",
    "\n",
    "\n",
    "## Outlier : Out, liar\n",
    "A value that \"lies outside\" (is much smaller or larger than) most of the other values in a set of data.\n",
    "#### Example\n",
    "Data set $= 2, 26, 23, 27, 25, 28, 29, 24, 99 $\n",
    "<br> $2$ and $99$ are samller and larger from other data respectively.\n",
    "<br>Therefore, the outlier of the data set are $2$ and $99$\n",
    "\n"
   ]
  },
  {
   "cell_type": "markdown",
   "metadata": {},
   "source": [
    "## Example: Sodium content\n",
    "\n",
    "Now we will calculate the mean, median, and mode for a dataset stored in a local text (csv) file. This particular data happens to be the sodium content per serving in a selection of supermarket items. You'll notice one number in the list below that's far greater than the others: this is the outlier in our dataset. (The product? In case you were wondering, it's soy sauce.)\n",
    "\n",
    "The block of code below imports our data. The first line imports the file. The next lines tell Jupyter how to read the file, and the last line tells Jupyter to display the information it read from the file."
   ]
  },
  {
   "cell_type": "code",
   "execution_count": 2,
   "metadata": {},
   "outputs": [
    {
     "name": "stdout",
     "output_type": "stream",
     "text": [
      "[871, 1250, 6458, 270, 250, 205, 340, 843, 482, 521, 450, 360, 780, 340, 510, 460, 380, 290, 458, 335, 355, 590, 600, 595, 547, 1036, 410, 190, 530]\n"
     ]
    }
   ],
   "source": [
    "import csv\n",
    "data = []\n",
    "with open('exampleData.csv', 'r') as f:\n",
    "    reader = csv.reader(f)\n",
    "    for row in reader:\n",
    "        data.append(int(row[1]))\n",
    "print(data)"
   ]
  },
  {
   "cell_type": "markdown",
   "metadata": {},
   "source": [
    "Now that we've loaded our data, we need to process it. We're using the Python language, which relies on a number of preconfigured programs called *libraries* to accomplish tasks. The first lines of code below import the tools we'll need. \n",
    "\n",
    "After that, we define a *function*, named \"computeCenTendency\", which we will use to calculate the mean, median, and mode of our dataset. (Together, the mean, median, and mode statistics are known as *measures of central tendency* since they are used to measure the extent to which our data is concentrated around a central value.)"
   ]
  },
  {
   "cell_type": "code",
   "execution_count": 3,
   "metadata": {},
   "outputs": [],
   "source": [
    "import numpy as np\n",
    "from scipy import stats\n",
    "from collections import Counter\n",
    "from array import array\n",
    "from statistics import mode\n",
    "from ipywidgets import interact, widgets\n",
    "\n",
    "def computeCenTendency(dataset):\n",
    "    \n",
    "    #mean value\n",
    "    mean= np.mean(dataset)\n",
    "    print(\"Mean: \", mean) \n",
    "\n",
    "    #median value\n",
    "    dataset.sort()\n",
    "    print(\"Sorted dataset :\", dataset)\n",
    "    median = np.median(dataset)\n",
    "    print(\"Median: \", median)\n",
    "    \n",
    "    # Mode\n",
    "    hits = []\n",
    "    for item in dataset:\n",
    "        tally = dataset.count(item)\n",
    "        #Makes a tuple that is the number of huts paired with the relevant number\n",
    "        values = (tally, item)\n",
    "        # Only add one entry for each number in the set\n",
    "        if values not in hits:\n",
    "            hits.append(values)\n",
    "    hits.sort(reverse=True)\n",
    "    if hits[0][0]>hits[1][0]:\n",
    "        print(\"The mode is:\", hits[0][1], \"(appeared\", hits[0][0], \"times.)\")\n",
    "    else:\n",
    "        print(\"There is no mode\")\n",
    "\n",
    "    Counter(dataset)\n",
    "    #data.most_common()   # Returns all unique items and their counts\n",
    "    #data.most_common(1) # Returns the highest occurring item\n",
    "    #print(data)\n",
    "\n"
   ]
  },
  {
   "cell_type": "code",
   "execution_count": 4,
   "metadata": {},
   "outputs": [
    {
     "name": "stdout",
     "output_type": "stream",
     "text": [
      "Mean:  714.0\n",
      "Sorted dataset : [190, 205, 250, 270, 290, 335, 340, 340, 355, 360, 380, 410, 450, 458, 460, 482, 510, 521, 530, 547, 590, 595, 600, 780, 843, 871, 1036, 1250, 6458]\n",
      "Median:  460.0\n",
      "The mode is: 340 (appeared 2 times.)\n"
     ]
    }
   ],
   "source": [
    "computeCenTendency(data)"
   ]
  },
  {
   "cell_type": "markdown",
   "metadata": {},
   "source": [
    "Next, we will produce a **histogram** of our data. A histogram is a useful plot for visualizing how the values in our dataset are distributed. Again, we begin by importing the Python libraries needed to accomplish the task. Then we define our histogram plot. The definition depends on a number of parameters, such the number of 'bins'. When there are a lot of data points, we don't plot each point individually. Instead, we group together nearby values. Each such grouping, given by a range of values, is called a *bin*. The height of each bar in the histogram is given by the number of data points in the corresponding bin."
   ]
  },
  {
   "cell_type": "code",
   "execution_count": 5,
   "metadata": {},
   "outputs": [],
   "source": [
    "import numpy as np\n",
    "import matplotlib.mlab as mlab\n",
    "import matplotlib.pyplot as plt\n",
    "\n",
    "def plotHistogram(x_values, num_bins):\n",
    "    n, bins, patches = plt.hist(x_values, num_bins, facecolor='blue', alpha=0.5)\n",
    "\n",
    "    plt.xlabel('Sodium Content')\n",
    "    plt.ylabel('values')\n",
    "    plt.title('Histogram of 30 products in Australian supermarkets')\n",
    "    plt.show()"
   ]
  },
  {
   "cell_type": "code",
   "execution_count": 6,
   "metadata": {},
   "outputs": [
    {
     "data": {
      "image/png": "[encoded data removed]",
      "text/plain": [
       "<matplotlib.figure.Figure at 0x7fe85adff320>"
      ]
     },
     "metadata": {},
     "output_type": "display_data"
    }
   ],
   "source": [
    "plotHistogram(data, 20)"
   ]
  },
  {
   "cell_type": "markdown",
   "metadata": {},
   "source": [
    "## Exploring the effect of outliers\n",
    "\n",
    "In the example above, the sodium content in the soy sauce produced a clear outlier. In the next section, we will begin with a dataset that does not initially contain any outliers, and compute its mean, median, and mode. You will then have the opportunity to add additional data points to the set, and then compute their effect on these statistics.\n",
    "\n",
    "**Content needed here:** load new data set, compute statistics for it.\n",
    "\n",
    "Then, give instructions on how to use interactive element below."
   ]
  },
  {
   "cell_type": "code",
   "execution_count": 8,
   "metadata": {},
   "outputs": [
    {
     "name": "stdout",
     "output_type": "stream",
     "text": [
      "Number(s) of Outlier : 2\n",
      "Outlier 1: 780\n",
      "Outlier 2: 12\n"
     ]
    }
   ],
   "source": [
    "inputs = []\n",
    "numbers = int(input(\"Number(s) of Outlier : \"))\n",
    "inputs = [input(\"Outlier \" + str(i+1) + \": \")  for i in range(numbers)]\n",
    "inputs = list(map(int, inputs))"
   ]
  },
  {
   "cell_type": "code",
   "execution_count": 9,
   "metadata": {},
   "outputs": [
    {
     "name": "stdout",
     "output_type": "stream",
     "text": [
      "[190, 205, 250, 270, 290, 335, 340, 340, 355, 360, 380, 410, 450, 458, 460, 482, 510, 521, 530, 547, 590, 595, 600, 780, 843, 871, 1036, 1250, 6458, 780, 12]\n"
     ]
    }
   ],
   "source": [
    "datasetWithOutlier = []\n",
    "datasetWithOutlier = data + inputs\n",
    "print(datasetWithOutlier)"
   ]
  },
  {
   "cell_type": "code",
   "execution_count": 10,
   "metadata": {},
   "outputs": [
    {
     "name": "stdout",
     "output_type": "stream",
     "text": [
      "Mean:  693.483870968\n",
      "Sorted dataset : [12, 190, 205, 250, 270, 290, 335, 340, 340, 355, 360, 380, 410, 450, 458, 460, 482, 510, 521, 530, 547, 590, 595, 600, 780, 780, 843, 871, 1036, 1250, 6458]\n",
      "Median:  460.0\n",
      "There is no mode\n"
     ]
    }
   ],
   "source": [
    "computeCenTendency(datasetWithOutlier)"
   ]
  },
  {
   "cell_type": "markdown",
   "metadata": {},
   "source": [
    "## Now we have a new interactive element, with a slider. An introduction is needed here to explain what the slider does, and what a student is expected to do with it!\n",
    "\n",
    "The interactivity here is a little rough: the graph disappears and reappears each time the slider value changes!"
   ]
  },
  {
   "cell_type": "code",
   "execution_count": 11,
   "metadata": {},
   "outputs": [
    {
     "data": {
      "application/vnd.jupyter.widget-view+json": {
       "model_id": "2db9a6f7a3ce497fad03cc3a8c863ee9",
       "version_major": 2,
       "version_minor": 0
      },
      "text/html": [
       "<p>Failed to display Jupyter Widget of type <code>interactive</code>.</p>\n",
       "<p>\n",
       "  If you're reading this message in the Jupyter Notebook or JupyterLab Notebook, it may mean\n",
       "  that the widgets JavaScript is still loading. If this message persists, it\n",
       "  likely means that the widgets JavaScript library is either not installed or\n",
       "  not enabled. See the <a href=\"https://ipywidgets.readthedocs.io/en/stable/user_install.html\">Jupyter\n",
       "  Widgets Documentation</a> for setup instructions.\n",
       "</p>\n",
       "<p>\n",
       "  If you're reading this message in another frontend (for example, a static\n",
       "  rendering on GitHub or <a href=\"https://nbviewer.jupyter.org/\">NBViewer</a>),\n",
       "  it may mean that your frontend doesn't currently support widgets.\n",
       "</p>\n"
      ],
      "text/plain": [
       "interactive(children=(IntSlider(value=50, description='a'), Output()), _dom_classes=('widget-interact',))"
      ]
     },
     "metadata": {},
     "output_type": "display_data"
    }
   ],
   "source": [
    "def callPlottingFunctionA(a):\n",
    "    print(\"Generating... plot for :\", a)\n",
    "    plotHistogram(datasetWithOutlier, a)\n",
    "interact(callPlottingFunctionA, a=widgets.IntSlider(min=0,max=100,step=1,value=50));"
   ]
  },
  {
   "cell_type": "markdown",
   "metadata": {},
   "source": [
    "## Now we're bringing in a new dataset and doing something new with it. An introduction is needed"
   ]
  },
  {
   "cell_type": "code",
   "execution_count": null,
   "metadata": {},
   "outputs": [],
   "source": [
    "import pandas\n",
    "nba = pandas.read_csv(\"nba_2013.csv\")\n",
    "print(nba)"
   ]
  },
  {
   "cell_type": "code",
   "execution_count": null,
   "metadata": {},
   "outputs": [],
   "source": [
    "print(\"Total number of rows : \", nba.shape[0])\n",
    "print(\"Total number of colums : \", nba.shape[1])"
   ]
  },
  {
   "cell_type": "code",
   "execution_count": null,
   "metadata": {},
   "outputs": [],
   "source": [
    "#Mean \n",
    "nba.mean()"
   ]
  },
  {
   "cell_type": "code",
   "execution_count": null,
   "metadata": {},
   "outputs": [],
   "source": [
    "#Median\n",
    "nba.median()"
   ]
  },
  {
   "cell_type": "code",
   "execution_count": null,
   "metadata": {},
   "outputs": [],
   "source": [
    "#Mode\n",
    "nba.mode()"
   ]
  },
  {
   "cell_type": "code",
   "execution_count": null,
   "metadata": {},
   "outputs": [],
   "source": [
    "def callPlottingFunction(x):\n",
    "    print(\"Generating... plot for :\", x)\n",
    "    plotHistogram(nba[[\"ast\"]], x)\n",
    "interact(callPlottingFunction, x=widgets.IntSlider(min=0,max=100,step=1,value=10));"
   ]
  },
  {
   "cell_type": "code",
   "execution_count": null,
   "metadata": {},
   "outputs": [],
   "source": [
    "import seaborn as sns\n",
    "import matplotlib.pyplot as plt\n",
    "sns.pairplot(nba[[\"ast\", \"fg\", \"trb\"]])\n",
    "plt.show()"
   ]
  },
  {
   "cell_type": "markdown",
   "metadata": {},
   "source": [
    "### We need a conclusion, and some exercises/activities for the students to try out at the end."
   ]
  },
  {
   "cell_type": "code",
   "execution_count": null,
   "metadata": {},
   "outputs": [],
   "source": []
  },
  {
   "cell_type": "code",
   "execution_count": null,
   "metadata": {},
   "outputs": [],
   "source": []
  }
 ],
 "metadata": {
  "kernelspec": {
   "display_name": "Python 3",
   "language": "python",
   "name": "python3"
  },
  "language_info": {
   "codemirror_mode": {
    "name": "ipython",
    "version": 3
   },
   "file_extension": ".py",
   "mimetype": "text/x-python",
   "name": "python",
   "nbconvert_exporter": "python",
   "pygments_lexer": "ipython3",
   "version": "3.6.5"
  }
 },
 "nbformat": 4,
 "nbformat_minor": 2
}
