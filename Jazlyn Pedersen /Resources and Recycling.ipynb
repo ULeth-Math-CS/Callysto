{
 "cells": [
  {
   "cell_type": "markdown",
   "metadata": {},
   "source": [
    "[![logo](https://callysto.ca/wp-content/uploads/2018/06/Callysto_Notebook-Banner_Top_06.06.18.jpg)](https://callysto.ca)\n"
   ]
  },
  {
   "cell_type": "markdown",
   "metadata": {},
   "source": [
    "### Learning Summary\n",
    "Students will begin to understand the importance of managing waste properly. They will learn about the different sources of energy. In addition, they will learn that these energy sources are not unlimited and can run out. By the end of this notebook, students will understand why using energy responsibly is important. They will learn ways to conserve energy at home and make a difference by reusing, reducing and recycling."
   ]
  },
  {
   "cell_type": "markdown",
   "metadata": {},
   "source": [
    "## Exploring Sources of Energy \n",
    "\n",
    "### Solar Energy\n",
    "Solar energy is energy that comes from the sun. The earth recieves more energy from the sun in one hour than the whole world uses in a whole year. Solar energy is used to generate electricity using solar panels. Unfortunately, solar panels need solar cells to work which are created from already existing materials such as silicon, which is not an unlimited resource. Solar panels are hard to manufacture making solar energy use low. Solar energy from the sun may be hard to collect but it is an unlimited resource because it reproduces itself every day. \n",
    "\n",
    "PIC"
   ]
  },
  {
   "cell_type": "markdown",
   "metadata": {},
   "source": [
    "### Oil Energy\n",
    "The most used source of energy around the world is oil. Oil occurs naturally and takes over a  million years to form from old plants and bacteria. Oil comes from far underground. It is brought to the surface by special pumps and pipes. Most electricity, fuel and everyday things such as plastic come from this source. The most common use of oil that you may know is gasoline for vehicles. Oil is a fossil fuel. A fossil fuel is a source of energy that does not reproduce at the rate it is being used. \n",
    "\n",
    "PIC"
   ]
  },
  {
   "cell_type": "markdown",
   "metadata": {},
   "source": [
    "### Coal Energy\n",
    "Another major source of energy around the world is coal. Most of the coal we use now was formed 300 million years ago. The energy in coal comes from energy that was stored in giant plants that lived hundreds of millions of years ago in swamp forests, even before the dinosaurs! When these giant plants died, they formed layers at the bottom of the swamps. Water and dirt began to pile up on top of the dead plant remains and years of pressure formed the rock we call coal. Coal is mined from hillsides and mountains. Coal is burned to release its energy for use. Coal is a fossil fuel. Humans use coal at a faster rate than it reproduces.\n",
    "\n",
    "PIC"
   ]
  },
  {
   "cell_type": "markdown",
   "metadata": {},
   "source": [
    "### Natural Gas Energy\n",
    "Natural gas is found underground all over the world. It is often located around coal or oil deposits in the earth. The word 'natural' means that it is a gas formed by natural chemical processes in the earth. Your house uses natural gas everyday for heating, cooking and electricity. Since it is produced from the same processes as oil and coal, natural gas is a fossil fuel too.\n",
    "\n",
    "PIC"
   ]
  },
  {
   "cell_type": "markdown",
   "metadata": {},
   "source": [
    "### Biomass Energy\n",
    "Perhaps one of the oldest forms of fuel known is biomass fuel. Biomass is any kind of biological matter that people can burn in order to produce heat or energy. Biomass mainly consists of wood, leaves, and grass. Resources such as wood, leaves and grass are NOT fossil fuels because biomass reproduces at a steady rate that is comparable to the amount being burned for energy. Trees take years to grow so if humans do not carelessly use wood, it will always be a resource available for use. Each time a human in Alberta cuts down a tree to burn it for energy, one tree is planted to replace it. Humans across Canada work to replace trees at the rate in which we use them. "
   ]
  },
  {
   "cell_type": "markdown",
   "metadata": {},
   "source": [
    "### Wind Energy\n",
    "Wind is a new source of energy. The use of wind for energy production, mainly electricity, has only been developed recently. Most wind power is converted to electricity by using giant machines called wind turbines. Wind is a natural resource that will never run out. FUN FACT! Alberta now ranks third in Canada with a wind energy capacity of 1,483 mega watts. Alberta's wind farms produce enough electricity each year to power 625,000 homes, which is 8 percent of Alberta's electricity demand. "
   ]
  },
  {
   "cell_type": "markdown",
   "metadata": {},
   "source": [
    "### Water Energy\n",
    "The correct term for water energy is hydropower. Hydro means water. Hydropower is one of the oldest known sources of energy in human history. The first reference to a water wheel dates back to around 4000 B.C. Vitruvius, an engineer created and used a water wheel during Roman times. They were used to water crop and supply drinking water to villages. Nowadays water creates electricity in hydro-dams. A hydro-dam produces electricity when water pushes a device called a turbine. Water is considered a resource that will never run out. It is plentiful and is replenished everytime it rains.    "
   ]
  },
  {
   "cell_type": "markdown",
   "metadata": {},
   "source": [
    "### Nuclear Energy\n",
    "Nuclear energy uses the power of the atom to create steam power. In order to take advantage of the nuclear energy in atoms, it can be done in two ways: nuclear fission which is when the inside of an atom is split or nuclear fusion which is done by fusing the inside of two atoms. \n",
    "The energy produced by the Sun, for example, comes from nuclear fusion reactions. When one of these two physical reactions occurs (nuclear fission or nuclear fusion) the atoms experience a slight loss of mass. This mass that is lost becomes a large amount of heat energy as Albert Einstein discovered with his famous equation E = mc2. The heat generated is used to heat up water and produce steam, which is then used to create electricity. Nuclear power generates nuclear waste that can be dangerous to human health and the environment. \n"
   ]
  },
  {
   "cell_type": "markdown",
   "metadata": {},
   "source": [
    "### Geothermal Energy\n",
    "\n",
    "Geothermal energy is generated by heat from the earth's core heating water into steam, which turns turbines in order to generate electricity. The term geo means earth and the word thermal means heat, which means geothermal is 'heat from the earth.' It has recently been discovered as a usable energy source. Geothermal energy is very efficient and does not harm the environment. It is limited by location because it only occurs in areas of the world that have volcanoes. "
   ]
  },
  {
   "cell_type": "markdown",
   "metadata": {},
   "source": [
    "## Renewable Energy Sources vs. Nonrenewable\n",
    "Renewable Energy Sources can be replaced at the same rate they are used. The source is plentiful and generally quite efficient. Nonrenewable Energy Sources are those that run out more quickly than they naturally reproduce. Usually these energy sources take millions of year to produce and they have a bigger negative impact on the earth compared to alternate sources.\n",
    "\n",
    "In order to get comfortable with the two types of Energy Sources, try matching each energy source to the Renewable or Nonrenewable category.\n",
    "\n",
    "DRAG BOX INTERACTION/MATCHING for kids to see whether solar, oil, coal, natural gas, biomass, wind, water, nuclear, geothermal are Renewable or Nonrenewable// (IF THEY GET IT WRONG, maybe it explains why)\n",
    "\n",
    "### Natural Resources\n",
    "Since the beginning of time humans have used resources that come from earth and its atmosphere. Nature has given us many resources in the form of air, water, heat, natural vegetation, soil, wild animals, metals, fossil fuel and many others. These are called Natural Resources, they are useful raw materials that are extracted from the Earth and manufactured or created into the products we use on a day-to-day basis. There are two types of Natural Resources, Renewable and Nonrenewable. Renewable resources can be replaced at the same rate they are used. For example, sun and wind are resources that will not run out because the earth creates them naturally every day. Nonrenewable resources are those that run out more quickly than they naturally reproduce. One example of a Nonrenewable resource is mineral ore; after it is mined and used it is gone and it takes millions of years to reproduce. \n",
    "\n",
    "In order to get comfortable with the two types of Natural Resources, try matching each resource to the Renewable or Nonrenewable category. \n",
    "\n",
    "DRAG BOX INTERACTION \n",
    "\n"
   ]
  },
  {
   "cell_type": "markdown",
   "metadata": {},
   "source": []
  }
 ],
 "metadata": {
  "kernelspec": {
   "display_name": "Python 3",
   "language": "python",
   "name": "python3"
  },
  "language_info": {
   "codemirror_mode": {
    "name": "ipython",
    "version": 3
   },
   "file_extension": ".py",
   "mimetype": "text/x-python",
   "name": "python",
   "nbconvert_exporter": "python",
   "pygments_lexer": "ipython3",
   "version": "3.6.5"
  }
 },
 "nbformat": 4,
 "nbformat_minor": 2
}
