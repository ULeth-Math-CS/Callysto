{
 "cells": [
  {
   "cell_type": "markdown",
   "metadata": {},
   "source": [
    "[![logo](https://callysto.ca/wp-content/uploads/2018/06/Callysto_Notebook-Banner_Top_06.06.18.jpg)](https://callysto.ca)\n"
   ]
  },
  {
   "cell_type": "markdown",
   "metadata": {},
   "source": [
    "### Learning Summary\n",
    "Students will begin to understand the importance of managing waste properly. They will learn about the different sources of energy. In addition, they will learn that these energy sources are not unlimited and can run out. By the end of this notebook, students will understand why using energy responsibly is important. They will learn ways to conserve energy at home and make a difference by reusing, reducing and recycling."
   ]
  },
  {
   "cell_type": "markdown",
   "metadata": {},
   "source": [
    "## Exploring Sources of Energy \n",
    "\n",
    "### Solar Energy\n",
    "Solar energy is energy that comes from the sun. The earth recieves more energy from the sun in one hour than the whole world uses in a whole year. Solar energy is used to generate electricity using solar panels. Unfortunately, solar panels need solar cells to work which are created from already existing materials such as silicon, which is not an unlimited resource. Solar panels are hard to manufacture making solar energy use low. Solar energy from the sun may be hard to collect but it is an unlimited resource because it reproduces itself every day. "
   ]
  },
  {
   "cell_type": "code",
   "execution_count": 14,
   "metadata": {
    "scrolled": false
   },
   "outputs": [
    {
     "data": {
      "text/html": [
       "<img src=\"http://www.mountainjunkiegear.com/wp-content/uploads/2013/04/How-Solar-Panels-Work.jpg\" width=\"1000\" height=\"300\"/>"
      ],
      "text/plain": [
       "<IPython.core.display.Image object>"
      ]
     },
     "execution_count": 14,
     "metadata": {},
     "output_type": "execute_result"
    }
   ],
   "source": [
    "Image(url= \"http://www.mountainjunkiegear.com/wp-content/uploads/2013/04/How-Solar-Panels-Work.jpg\", width=1000, height=300)"
   ]
  },
  {
   "cell_type": "markdown",
   "metadata": {},
   "source": [
    "### Oil Energy and Natural Gas Energy\n",
    "The most used source of energy around the world is oil. Oil occurs naturally and takes over a  million years to form from old plants and bacteria. Oil comes from far underground. It is brought to the surface by special pumps and pipes. Most electricity, fuel and everyday things such as plastic come from this source. The most common use of oil that you may know is gasoline for vehicles. Oil is a fossil fuel. A fossil fuel is a source of energy that does not reproduce at the rate it is being used. "
   ]
  },
  {
   "cell_type": "code",
   "execution_count": 25,
   "metadata": {},
   "outputs": [
    {
     "data": {
      "image/jpeg": "[encoded data removed]",
      "text/html": [
       "\n",
       "        <iframe\n",
       "            width=\"800\"\n",
       "            height=\"400\"\n",
       "            src=\"https://www.youtube.com/embed/WW8KfUJdTNY\"\n",
       "            frameborder=\"0\"\n",
       "            allowfullscreen\n",
       "        ></iframe>\n",
       "        "
      ],
      "text/plain": [
       "<IPython.lib.display.YouTubeVideo at 0x7f39c5f8d438>"
      ]
     },
     "execution_count": 25,
     "metadata": {},
     "output_type": "execute_result"
    }
   ],
   "source": [
    "from IPython.display import YouTubeVideo\n",
    "YouTubeVideo('WW8KfUJdTNY', width=800, height=400)"
   ]
  },
  {
   "cell_type": "markdown",
   "metadata": {},
   "source": [
    "Similarily, Natural gas is found underground all over the world. It is often located around coal or oil deposits in the earth. The word 'natural' means that it is a gas formed by natural chemical processes in the earth. Your house uses natural gas everyday for heating, cooking and electricity. Since it is produced from the same processes as oil, natural gas is a fossil fuel too."
   ]
  },
  {
   "cell_type": "markdown",
   "metadata": {},
   "source": [
    "### Coal Energy\n",
    "Another major source of energy around the world is coal. Most of the coal we use now was formed 300 million years ago. The energy in coal comes from energy that was stored in giant plants that lived hundreds of millions of years ago in swamp forests, even before the dinosaurs! When these giant plants died, they formed layers at the bottom of the swamps. Water and dirt began to pile up on top of the dead plant remains and years of pressure formed the rock we call coal. Coal is mined from hillsides and mountains. Coal is burned to release its energy for use. Coal is a fossil fuel. Humans use coal at a faster rate than it reproduces."
   ]
  },
  {
   "cell_type": "code",
   "execution_count": 20,
   "metadata": {},
   "outputs": [
    {
     "data": {
      "text/html": [
       "<img src=\"http://www.dynamicscience.com.au/tester/solutions1/electric/electricenergy.gif\" width=\"800\" height=\"200\"/>"
      ],
      "text/plain": [
       "<IPython.core.display.Image object>"
      ]
     },
     "execution_count": 20,
     "metadata": {},
     "output_type": "execute_result"
    }
   ],
   "source": [
    "Image(url= \"http://www.dynamicscience.com.au/tester/solutions1/electric/electricenergy.gif\", width=800, height=200)"
   ]
  },
  {
   "cell_type": "markdown",
   "metadata": {},
   "source": [
    "Plants are the only organisms on Earth that can harness solar energy and convert it into a more usable form called chemical energy. Chemical energy is trapped in the form of wood and other plant matter. Coal is also a source of chemical energy because it is composed of plant matter that has been subjected to high temperatures and pressures over millions of years.\n",
    "Humans dig up coal and burn it. When coal is burned it turns into chemical energy and heat energy. The heat energy is used to heat water into super hot steam. Steam occurs when water heats up to such a high temperature that it changes from a liquid to a gas. Steam is kinetic energy. Kinetic energy is the energy of motion, or in other words the movement of particles. The steam causes a generator to spin and produces electrical energy.\n",
    "\n",
    "The law of conservation of energy states that energy can not be created nor can it be destroyed. It can, however, change forms as from electrical into heat. Take the conversion outlined in the animation below. At every step we have a loss of energy. The efficiency of the conversion is given as an estimated percentage.\n",
    "credit to http://www.dynamicscience.com.au/tester/solutions1/electric/energyconversions.htm"
   ]
  },
  {
   "cell_type": "code",
   "execution_count": 22,
   "metadata": {},
   "outputs": [
    {
     "data": {
      "text/html": [
       "<img src=\"http://www.dynamicscience.com.au/tester/solutions1/electric/powerstation/Untitled-17.gif\" width=\"800\" height=\"100\"/>"
      ],
      "text/plain": [
       "<IPython.core.display.Image object>"
      ]
     },
     "execution_count": 22,
     "metadata": {},
     "output_type": "execute_result"
    }
   ],
   "source": [
    "Image(url= \"http://www.dynamicscience.com.au/tester/solutions1/electric/powerstation/Untitled-17.gif\", width=800, height=100)"
   ]
  },
  {
   "cell_type": "markdown",
   "metadata": {},
   "source": [
    "#### DROP BOX ACTIVITY HELP\n",
    "1) What process captures solar energy? DROP OPTIONS (evaporation, photosynthesis, respiration, condensation)\n",
    "\n",
    "2) Which is the most inefficient energy conversion step in the process outlined above? DROP OPTIONS (kinetic into mechanical, chemical into heat, mechanical into electrical, solar into chemical)\n",
    "\n",
    "3) The more steps in the process of generating electrical energy the DROP OPTIONS (less electrical energy that is generated, the more electrical energy that is generated) \n",
    "\n",
    "4) The energy lost is in the form of DROP OPTIONS (electrical, heat, chemical, mechanical)\n",
    "\n",
    "5) What type of energy is carried by steam DROP OPTIONS (electrical, chemical, mechanical, kinetic)"
   ]
  },
  {
   "cell_type": "markdown",
   "metadata": {},
   "source": [
    "### Biomass Energy\n",
    "Perhaps one of the oldest forms of fuel known is biomass fuel. Biomass is any kind of biological matter that people can burn in order to produce heat or energy. Biomass mainly consists of wood, leaves, and grass. All biomass has storages of Carbon and when biomass is burned the Carbon is released into the atmosphere as CO2 gas. Resources such as wood, leaves and grass are NOT fossil fuels because biomass reproduces at a steady rate that is comparable to the amount being burned for energy. Trees take years to grow so if humans carelessly use wood, it may not always be a resource immediately available for use. Each time a human in Alberta cuts down a tree to burn it for energy, one tree is planted to replace it. Humans across Canada work to replace trees at the rate in which we use them. \n",
    "\n",
    "##### Biomass Fun Facts! \n",
    "1) If you’ve ever been near a campfire or a fireplace, you’ve witnessed biomass energy through the burning of wood.\n",
    "\n",
    "2) Biomass has been around since the beginning of time when man burned wood for heating and cooking.\n",
    "\n",
    "3) Wood was the biggest energy provider in the world in the 1800’s.\n",
    "\n",
    "4) Garbage can be burned to generate energy as well. This not only makes use of trash for energy, but reduces the amount of trash that goes into landfills. This process is called Waste-to-Energy."
   ]
  },
  {
   "cell_type": "markdown",
   "metadata": {},
   "source": [
    "### Wind Energy\n",
    "Wind is a newer source of energy. The use of wind for energy production, mainly electricity, has only been developed recently. Most wind power is converted to electricity by using giant machines called wind turbines. Wind is a natural resource that will never run out. Wind that occurs naturally moves the turbines. The turbines power a generator. A generator is a device that converts mechanical energy to electrical energy for use. In this case the mechanical energy is the movement of the turbines created by the wind. This mechanical energy is changed into electrical energy that can be used in a home. Did you know that Alberta is third in Canada with a wind energy capacity of 1,483 mega watts. Alberta's wind farms produce enough electricity each year to power 625,000 homes, which is 8 percent of Alberta's electricity demand. "
   ]
  },
  {
   "cell_type": "code",
   "execution_count": 32,
   "metadata": {},
   "outputs": [
    {
     "data": {
      "text/html": [
       "<img src=\"https://i.gifer.com/so8.gif\" width=\"600\" height=\"100\"/>"
      ],
      "text/plain": [
       "<IPython.core.display.Image object>"
      ]
     },
     "execution_count": 32,
     "metadata": {},
     "output_type": "execute_result"
    }
   ],
   "source": [
    "Image(url= \"https://i.gifer.com/so8.gif\", width=600, height=100)"
   ]
  },
  {
   "cell_type": "markdown",
   "metadata": {},
   "source": [
    "### Water Energy\n",
    "The correct term for water energy is hydropower. Hydro means water. Hydropower is one of the oldest known sources of energy in human history. The first use of water for energy dates back to around 4000 B.C. They used a water wheel during Roman times to water crop and supply drinking water to villages. Nowadays water creates energy in hydro-dams. A hydro-dam produces electricity when water pushes a device called a turbine. Water is considered a resource that will never run out. It is plentiful and is replenished everytime it rains.    "
   ]
  },
  {
   "cell_type": "markdown",
   "metadata": {},
   "source": [
    "### Nuclear Energy\n",
    "Nuclear energy uses the power of the atom to create steam power. In order to take advantage of the nuclear energy in atoms, it can be done in two ways: nuclear fission which is when the inside of an atom is split or nuclear fusion which is done by fusing the inside of two atoms. \n",
    "The energy produced by the Sun, for example, comes from nuclear fusion reactions. When one of these two physical reactions occurs (nuclear fission or nuclear fusion) the atoms experience a slight loss of mass. This mass that is lost becomes a large amount of heat energy as Albert Einstein discovered with his famous equation E = mc2. The heat generated is used to heat up water and produce steam, which is then used to create electricity. Nuclear power generates nuclear waste that can be dangerous to human health and the environment. \n"
   ]
  },
  {
   "cell_type": "markdown",
   "metadata": {},
   "source": [
    "### Geothermal Energy\n",
    "\n",
    "Geothermal energy is generated by heat from the earth's core heating water into steam, which turns turbines in order to generate electricity. The term geo means earth and the word thermal means heat, which means geothermal is 'heat from the earth.' It has recently been discovered as a usable energy source. Geothermal energy is very efficient and does not harm the environment. It is limited by location because it only occurs in areas of the world that have volcanoes. "
   ]
  },
  {
   "cell_type": "markdown",
   "metadata": {},
   "source": [
    "## Renewable Energy Sources vs. Nonrenewable\n",
    "Renewable Energy Sources can be replaced at the same rate they are used. The source is plentiful and generally quite efficient. Nonrenewable Energy Sources are those that run out more quickly than they naturally reproduce. Usually these energy sources take millions of year to produce and they have a bigger negative impact on the earth compared to alternate sources.\n",
    "\n",
    "In order to get comfortable with the two types of Energy Sources, try matching each energy source to the Renewable or Nonrenewable category. NOW DRAG BOX INTERACTION/MATCHING for kids to see whether solar, oil, coal, natural gas, biomass, wind, water, nuclear, geothermal are Renewable or Nonrenewable// (IF THEY GET IT WRONG, maybe it explains why)"
   ]
  }
 ],
 "metadata": {
  "kernelspec": {
   "display_name": "Python 3",
   "language": "python",
   "name": "python3"
  },
  "language_info": {
   "codemirror_mode": {
    "name": "ipython",
    "version": 3
   },
   "file_extension": ".py",
   "mimetype": "text/x-python",
   "name": "python",
   "nbconvert_exporter": "python",
   "pygments_lexer": "ipython3",
   "version": "3.6.7"
  }
 },
 "nbformat": 4,
 "nbformat_minor": 2
}
