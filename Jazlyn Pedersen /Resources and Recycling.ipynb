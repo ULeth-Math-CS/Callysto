{
 "cells": [
  {
   "cell_type": "markdown",
   "metadata": {},
   "source": [
    "[![logo](https://callysto.ca/wp-content/uploads/2018/06/Callysto_Notebook-Banner_Top_06.06.18.jpg)](https://callysto.ca)\n"
   ]
  },
  {
   "cell_type": "code",
   "execution_count": 28,
   "metadata": {},
   "outputs": [
    {
     "data": {
      "text/html": [
       "                    <script>\n",
       "                    document.getElementById('toggleButton').onclick = function () {\n",
       "                        if (code_shown) {\n",
       "                            $('div.input').hide('500');\n",
       "                            $('#toggleButton').val('Show Code')\n",
       "                        } else {\n",
       "                            $('div.input').show('500');\n",
       "                            $('#toggleButton').val('Hide Code')\n",
       "                        }\n",
       "                        code_shown = !code_shown\n",
       "                    }\n",
       "\n",
       "                    document.getElementById('init').onclick = function () {\n",
       "                        runAll = document.getElementById('run_all_cells_below').childNodes[1]\n",
       "                        console.log(runAll)\n",
       "                        runAll.click()\n",
       "                    }\n",
       "\n",
       "                    $(document).ready(function () {\n",
       "                        code_shown = true;\n",
       "                        $('div.input').hide()\n",
       "                    });\n",
       "                </script>\n",
       "                <input type=\"submit\" id=\"toggleButton\" value=\"Show Code\">\n",
       "                <input id=\"init\" type=\"submit\" value=\"Initialize\">\n"
      ],
      "text/plain": [
       "<IPython.core.display.HTML object>"
      ]
     },
     "metadata": {},
     "output_type": "display_data"
    }
   ],
   "source": [
    "import myMagics\n",
    "%uiButtons"
   ]
  },
  {
   "cell_type": "markdown",
   "metadata": {},
   "source": [
    "### Learning Summary\n",
    "Students will begin to understand the importance of managing waste properly. They will learn about the different sources of energy. In addition, they will learn that these energy sources are not unlimited and can run out. By the end of this notebook, students will understand which energy sources are renewable and nonrenewable. They will learn and begin to think about the good and bad traits of energy sources as well as the lifespan of the source. Students will be prompted to think about the efficiency of the energy source after taking all factors into consideration. "
   ]
  },
  {
   "cell_type": "markdown",
   "metadata": {},
   "source": [
    "# Exploring Sources of Energy \n",
    "\n",
    "### Solar Energy\n",
    "\n",
    "Solar energy is energy that comes from the sun. The earth recieves more energy from the sun in one hour than the whole world uses in one year. Solar energy is used to generate electricity using solar panels. A solar panel works by allowing particles of light to knock electrons free from atoms, generating a flow of electricity. Unfortunately, solar panels need solar cells to work which are created from already existing materials such as silicon, which is not an unlimited resource. \n",
    "\n",
    "Solar panels are hard to manufacture making solar energy use low. Once they are made, solar panels do not release any pollution into the air. Energy from the sun is produced every day which means it will never run out, making it a renewable resource. "
   ]
  },
  {
   "cell_type": "code",
   "execution_count": 29,
   "metadata": {
    "scrolled": false
   },
   "outputs": [
    {
     "data": {
      "text/html": [
       "<img src=\"http://www.mountainjunkiegear.com/wp-content/uploads/2013/04/How-Solar-Panels-Work.jpg\" width=\"1000\" height=\"300\"/>"
      ],
      "text/plain": [
       "<IPython.core.display.Image object>"
      ]
     },
     "execution_count": 29,
     "metadata": {},
     "output_type": "execute_result"
    }
   ],
   "source": [
    "from IPython.display import Image\n",
    "Image(url= \"http://www.mountainjunkiegear.com/wp-content/uploads/2013/04/How-Solar-Panels-Work.jpg\", width=1000, height=300)"
   ]
  },
  {
   "cell_type": "markdown",
   "metadata": {},
   "source": [
    "### Oil Energy and Natural Gas Energy\n",
    "The most used source of energy around the world is oil. Oil occurs naturally and takes over a  million years to form from old plants and bacteria. Oil comes from far underground. It is brought to the surface by special pumps and pipes. Most electricity, fuel and everyday things such as plastic come from this source. The most common use of oil that you may know is gasoline for vehicles. Oil is a fossil fuel. A fossil fuel is a source of energy that does not reproduce at the rate it is being used making it a nonrenewable resource."
   ]
  },
  {
   "cell_type": "code",
   "execution_count": 30,
   "metadata": {},
   "outputs": [
    {
     "data": {
      "image/jpeg": "[encoded data removed]",
      "text/html": [
       "\n",
       "        <iframe\n",
       "            width=\"800\"\n",
       "            height=\"400\"\n",
       "            src=\"https://www.youtube.com/embed/WW8KfUJdTNY\"\n",
       "            frameborder=\"0\"\n",
       "            allowfullscreen\n",
       "        ></iframe>\n",
       "        "
      ],
      "text/plain": [
       "<IPython.lib.display.YouTubeVideo at 0x7f7e23379080>"
      ]
     },
     "execution_count": 30,
     "metadata": {},
     "output_type": "execute_result"
    }
   ],
   "source": [
    "from IPython.display import YouTubeVideo\n",
    "YouTubeVideo('WW8KfUJdTNY', width=800, height=400)"
   ]
  },
  {
   "cell_type": "markdown",
   "metadata": {},
   "source": [
    "Similarily, natural gas is found underground all over the world. It is often located around coal or oil pockets in the earth. The word 'natural' means that it is a gas formed by natural chemical processes that occur on earth. Natural gas is a by-product of decomposing biomass such as trees, grass, animals, wood and leaves. \n",
    "\n",
    "Your house uses natural gas everyday for heating, cooking and electricity. How does natural gas get from deep within the ground all the way to your house to be used? Natural gas companies drill thousands of feet into the earth and use big pumps to bring it to the surface. Then they send the gas to your town through gas pipes buried underground. A gas company brings it to your house in smaller pipes. Each household in Alberta pays a natural gas bill each month. Since it is produced from the same processes as oil, natural gas is a fossil fuel too making it a nonrenewable source."
   ]
  },
  {
   "cell_type": "markdown",
   "metadata": {},
   "source": [
    "### Coal Energy\n",
    "Another major source of energy around the world is coal. Most of the coal we use now was formed 300 million years ago. The energy in coal comes from energy that was stored in giant plants that lived hundreds of millions of years ago in swamp forests, even before the dinosaurs! "
   ]
  },
  {
   "cell_type": "code",
   "execution_count": 31,
   "metadata": {},
   "outputs": [
    {
     "data": {
      "text/html": [
       "<img src=\"http://www.dynamicscience.com.au/tester/solutions1/electric/electricenergy.gif\" width=\"800\" height=\"200\"/>"
      ],
      "text/plain": [
       "<IPython.core.display.Image object>"
      ]
     },
     "execution_count": 31,
     "metadata": {},
     "output_type": "execute_result"
    }
   ],
   "source": [
    "from IPython.display import Image\n",
    "Image(url= \"http://www.dynamicscience.com.au/tester/solutions1/electric/electricenergy.gif\", width=800, height=200)"
   ]
  },
  {
   "cell_type": "markdown",
   "metadata": {},
   "source": [
    "In the above diagram we see that plants are the only organisms on Earth that can harness solar energy and convert it into a more usable form called chemical energy. Chemical energy is trapped in the form of wood and other plant matter. Coal is also a source of chemical energy because when the plant matter died, it formed layers at the bottom of swamps. Water and dirt began to pile up on top of the dead plant remains and years of pressure formed the rock we call coal.\n",
    "\n",
    "Humans dig up coal and burn it. When coal is burned it turns into chemical energy and heat energy. The heat energy is used to heat water into super hot steam. Steam occurs when water heats up to such a high temperature that it changes from a liquid to a gas. Steam is kinetic energy. Kinetic energy is the energy of motion, or in other words the movement of particles. The steam (or kinetic energy) causes a generator to spin and produces electrical energy. Coal is a fossil fuel making it nonrenewable. Humans use coal at a faster rate than it reproduces.\n",
    "\n",
    "The law of conservation of energy states that energy can not be created nor can it be destroyed. It can, however, change forms. Take the process outlined in the animation below. At every step there is a loss of energy. The efficiency of the process is given as an estimated percentage.\n",
    "credit to http://www.dynamicscience.com.au/tester/solutions1/electric/energyconversions.htm"
   ]
  },
  {
   "cell_type": "code",
   "execution_count": 32,
   "metadata": {},
   "outputs": [
    {
     "data": {
      "text/html": [
       "<img src=\"http://www.dynamicscience.com.au/tester/solutions1/electric/powerstation/Untitled-17.gif\" width=\"800\" height=\"100\"/>"
      ],
      "text/plain": [
       "<IPython.core.display.Image object>"
      ]
     },
     "execution_count": 32,
     "metadata": {},
     "output_type": "execute_result"
    }
   ],
   "source": [
    "from IPython.display import Image\n",
    "Image(url= \"http://www.dynamicscience.com.au/tester/solutions1/electric/powerstation/Untitled-17.gif\", width=800, height=100)"
   ]
  },
  {
   "cell_type": "code",
   "execution_count": 53,
   "metadata": {},
   "outputs": [
    {
     "data": {
      "text/html": [
       "    <style>\n",
       "        #list {\n",
       "            margin: 20px 0;\n",
       "            padding: 0;\n",
       "        }\n",
       "        #list li {\n",
       "            list-style: none;\n",
       "            margin: 5px 0;\n",
       "        }\n",
       "\n",
       "        .energy {\n",
       "            font-family: 'Courier New', Courier, monospace;\n",
       "            font-size: 15px;\n",
       "        }\n",
       "\n",
       "        .answerSelect {\n",
       "            margin: 10px 10px;\n",
       "        }\n",
       "\n",
       "        .correct {\n",
       "            color: green;\n",
       "            font-size: 25px;\n",
       "            display: none;\n",
       "        }\n",
       "\n",
       "        .wrong {\n",
       "            color: red;\n",
       "            font-size: 25px;\n",
       "            display: none;\n",
       "        }\n",
       "\n",
       "        .ansBtn {\n",
       "            cursor: pointer;\n",
       "            border: solid black 1px;\n",
       "            background: #d3d3d3;\n",
       "            padding: 10px 5px;\n",
       "            border-radius: 0px;\n",
       "            font-family: arial;\n",
       "            font-size: 20px;\n",
       "        }\n",
       "\n",
       "        .ansBtn:hover {\n",
       "            background: #f3f3f3;\n",
       "        }\n",
       "    </style>\n",
       "    \n",
       "    <body>\n",
       "    <div style=\"height: 300px\">\n",
       "        <ul id=\"list\">\n",
       "            <li>\n",
       "            <label for=\"q1\">1)What process captures solar energy?</label>\n",
       "                <select name=\"q1\" id=\"q1\" class=\"answerSelect\">\n",
       "                    <option value=\"default\" selected>Select an Answer</option>\n",
       "                    <option value=\"evaporation\">Evaporation</option>\n",
       "                    <option value=\"photosynthesis\">Photosynthesis</option>\n",
       "                    <option value=\"respiration\">Respiration</option>\n",
       "                    <option value=\"condensation\">Condensation</option>\n",
       "                </select>\n",
       "                <span class=\"correct\" id=\"Q1C\">&#10003</span>\n",
       "                <span class=\"wrong\" id=\"Q1W\">&#10007</span>\n",
       "            </li>\n",
       "            <li>\n",
       "            <label for=\"q2\">2)Which is the most inefficient energy conversion step in the process outlined above?</label>\n",
       "                <select name=\"q2\" id=\"q2\" class=\"answerSelect\">\n",
       "                    <option value=\"default\" selected>Select an Answer</option>\n",
       "                    <option value=\"kinetic into mechanical\">Kinetic into mechanical</option>\n",
       "                    <option value=\"chemical into heat\">Chemical into heat</option>\n",
       "                    <option value=\"mechanical into electrical\">Mechanical into electrical</option>\n",
       "                    <option value=\"solar into chemical\">Solar into chemical</option>\n",
       "                </select>\n",
       "                <span class=\"correct\" id=\"Q2C\">&#10003</span>\n",
       "                <span class=\"wrong\" id=\"Q2W\">&#10007</span>\n",
       "            </li>\n",
       "            <li>\n",
       "            <label for=\"q3\">3)The more steps in the process of generating electrical energy the</label>\n",
       "                <select name=\"q3\" id=\"q3\" class=\"answerSelect\">\n",
       "                    <option value=\"default\" selected>Select an Answer</option>\n",
       "                    <option value=\"less electrical energy that is generated\">Less electrical energy that is generated</option>\n",
       "                    <option value=\"the more electrical energy that is generated\">The more electrical energy that is generated</option>\n",
       "                </select>\n",
       "                <span class=\"correct\" id=\"Q3C\">&#10003</span>\n",
       "                <span class=\"wrong\" id=\"Q3W\">&#10007</span>\n",
       "            </li>\n",
       "            <li>\n",
       "            <label for=\"q4\">4)The energy lost is in the form of</label>\n",
       "                <select name=\"q4\" id=\"q4\" class=\"answerSelect\">\n",
       "                    <option value=\"default\" selected>Select an Answer</option>\n",
       "                    <option value=\"Electrical\">Electrical</option>\n",
       "                    <option value=\"Heat\">Heat</option>\n",
       "                    <option value=\"Chemical\">Chemical</option>\n",
       "                    <option value=\"Mechanical\">Mechanical</option>\n",
       "                </select>\n",
       "                <span class=\"correct\" id=\"Q4C\">&#10003</span>\n",
       "                <span class=\"wrong\" id=\"Q4W\">&#10007</span>\n",
       "            </li>\n",
       "            <li>\n",
       "            <label for=\"q5\">5)What type of energy is carried by steam</label>\n",
       "                <select name=\"q5\" id=\"q5\" class=\"answerSelect\">\n",
       "                    <option value=\"default\" selected>Select an Answer</option>\n",
       "                    <option value=\"Electrical\">Electrical</option>\n",
       "                    <option value=\"Chemical\">Chemical</option>\n",
       "                    <option value=\"Mechanical\">Mechanical</option>\n",
       "                    <option value=\"Kinetic\">Kinetic</option>\n",
       "                </select>\n",
       "                <span class=\"correct\" id=\"Q5C\">&#10003</span>\n",
       "                <span class=\"wrong\" id=\"Q5W\">&#10007</span>\n",
       "            </li>\n",
       "        </ul>\n",
       "        <span class=\"ansBtn\" id=\"ansBtn\" onclick=\"checkAns()\">Check Answers!</span>\n",
       "    </div>\n",
       "    \n",
       "    <script src=\"main.js\"></script>\n",
       "</body>\n"
      ],
      "text/plain": [
       "<IPython.core.display.HTML object>"
      ]
     },
     "metadata": {},
     "output_type": "display_data"
    }
   ],
   "source": [
    "%%html\n",
    "    <style>\n",
    "        #list {\n",
    "            margin: 20px 0;\n",
    "            padding: 0;\n",
    "        }\n",
    "        #list li {\n",
    "            list-style: none;\n",
    "            margin: 5px 0;\n",
    "        }\n",
    "\n",
    "        .energy {\n",
    "            font-family: 'Courier New', Courier, monospace;\n",
    "            font-size: 15px;\n",
    "        }\n",
    "\n",
    "        .answerSelect {\n",
    "            margin: 10px 10px;\n",
    "        }\n",
    "\n",
    "        .correct {\n",
    "            color: green;\n",
    "            font-size: 25px;\n",
    "            display: none;\n",
    "        }\n",
    "\n",
    "        .wrong {\n",
    "            color: red;\n",
    "            font-size: 25px;\n",
    "            display: none;\n",
    "        }\n",
    "\n",
    "        .ansBtn {\n",
    "            cursor: pointer;\n",
    "            border: solid black 1px;\n",
    "            background: #d3d3d3;\n",
    "            padding: 10px 5px;\n",
    "            border-radius: 0px;\n",
    "            font-family: arial;\n",
    "            font-size: 20px;\n",
    "        }\n",
    "\n",
    "        .ansBtn:hover {\n",
    "            background: #f3f3f3;\n",
    "        }\n",
    "    </style>\n",
    "    \n",
    "    <body>\n",
    "    <div style=\"height: 300px\">\n",
    "        <ul id=\"list\">\n",
    "            <li>\n",
    "            <label for=\"q1\">1)What process captures solar energy?</label>\n",
    "                <select name=\"q1\" id=\"q1\" class=\"answerSelect\">\n",
    "                    <option value=\"default\" selected>Select an Answer</option>\n",
    "                    <option value=\"evaporation\">Evaporation</option>\n",
    "                    <option value=\"photosynthesis\">Photosynthesis</option>\n",
    "                    <option value=\"respiration\">Respiration</option>\n",
    "                    <option value=\"condensation\">Condensation</option>\n",
    "                </select>\n",
    "                <span class=\"correct\" id=\"Q1C\">&#10003</span>\n",
    "                <span class=\"wrong\" id=\"Q1W\">&#10007</span>\n",
    "            </li>\n",
    "            <li>\n",
    "            <label for=\"q2\">2)Which is the most inefficient energy conversion step in the process outlined above?</label>\n",
    "                <select name=\"q2\" id=\"q2\" class=\"answerSelect\">\n",
    "                    <option value=\"default\" selected>Select an Answer</option>\n",
    "                    <option value=\"kinetic into mechanical\">Kinetic into mechanical</option>\n",
    "                    <option value=\"chemical into heat\">Chemical into heat</option>\n",
    "                    <option value=\"mechanical into electrical\">Mechanical into electrical</option>\n",
    "                    <option value=\"solar into chemical\">Solar into chemical</option>\n",
    "                </select>\n",
    "                <span class=\"correct\" id=\"Q2C\">&#10003</span>\n",
    "                <span class=\"wrong\" id=\"Q2W\">&#10007</span>\n",
    "            </li>\n",
    "            <li>\n",
    "            <label for=\"q3\">3)The more steps in the process of generating electrical energy the</label>\n",
    "                <select name=\"q3\" id=\"q3\" class=\"answerSelect\">\n",
    "                    <option value=\"default\" selected>Select an Answer</option>\n",
    "                    <option value=\"less electrical energy that is generated\">Less electrical energy that is generated</option>\n",
    "                    <option value=\"the more electrical energy that is generated\">The more electrical energy that is generated</option>\n",
    "                </select>\n",
    "                <span class=\"correct\" id=\"Q3C\">&#10003</span>\n",
    "                <span class=\"wrong\" id=\"Q3W\">&#10007</span>\n",
    "            </li>\n",
    "            <li>\n",
    "            <label for=\"q4\">4)The energy lost is in the form of</label>\n",
    "                <select name=\"q4\" id=\"q4\" class=\"answerSelect\">\n",
    "                    <option value=\"default\" selected>Select an Answer</option>\n",
    "                    <option value=\"Electrical\">Electrical</option>\n",
    "                    <option value=\"Heat\">Heat</option>\n",
    "                    <option value=\"Chemical\">Chemical</option>\n",
    "                    <option value=\"Mechanical\">Mechanical</option>\n",
    "                </select>\n",
    "                <span class=\"correct\" id=\"Q4C\">&#10003</span>\n",
    "                <span class=\"wrong\" id=\"Q4W\">&#10007</span>\n",
    "            </li>\n",
    "            <li>\n",
    "            <label for=\"q5\">5)What type of energy is carried by steam</label>\n",
    "                <select name=\"q5\" id=\"q5\" class=\"answerSelect\">\n",
    "                    <option value=\"default\" selected>Select an Answer</option>\n",
    "                    <option value=\"Electrical\">Electrical</option>\n",
    "                    <option value=\"Chemical\">Chemical</option>\n",
    "                    <option value=\"Mechanical\">Mechanical</option>\n",
    "                    <option value=\"Kinetic\">Kinetic</option>\n",
    "                </select>\n",
    "                <span class=\"correct\" id=\"Q5C\">&#10003</span>\n",
    "                <span class=\"wrong\" id=\"Q5W\">&#10007</span>\n",
    "            </li>\n",
    "        </ul>\n",
    "        <span class=\"ansBtn\" id=\"ansBtn\" onclick=\"checkAns()\">Check Answers!</span>\n",
    "    </div>\n",
    "    \n",
    "    <script src=\"main.js\"></script>\n",
    "</body>"
   ]
  },
  {
   "cell_type": "markdown",
   "metadata": {},
   "source": [
    "### Biomass Energy\n",
    "\n",
    "Perhaps one of the oldest forms of fuel known is biomass fuel. Biomass is any kind of biological matter that humans can burn in order to produce heat or energy. Biomass mainly consists of wood, leaves, and grass. \n",
    "\n",
    "All biomass has storages of carbon and when biomass is burned the carbon is released into the atmosphere as CO2 gas. Resources such as wood, leaves and grass are NOT fossil fuels because biomass is said to be carbon neutral. Carbon neutral means that the amount of carbon released when biomass is burned is equal to the amount of carbon that is naturally needed in the environment for processes like photosynthesis. \n",
    "\n",
    "As humans we must remember that trees take years to grow so if we carelessly use wood, it may not always be a resource immediately available for use. When someone in Alberta cuts down a tree to burn it for energy, it is said that one tree must be planted to replace it. Humans across Canada work to replace trees at the rate in which we use them making biomass a renewable source.\n",
    "\n",
    "##### Biomass Fun Facts! \n",
    "1) If you’ve ever been near a campfire or a fireplace, you’ve witnessed biomass energy through the burning of wood.\n",
    "\n",
    "2) Biomass has been around since the beginning of time when man burned wood for heating and cooking.\n",
    "\n",
    "3) Wood was the biggest energy provider in the world in the 1800’s.\n",
    "\n",
    "4) Garbage can be burned to generate energy as well. This not only makes use of trash for energy, but reduces the amount of trash that goes into landfills. This process is called Waste-to-Energy."
   ]
  },
  {
   "cell_type": "markdown",
   "metadata": {},
   "source": [
    "### Wind Energy\n",
    "\n",
    "Wind is a newer source of energy. The use of wind for energy production, mainly electricity, has only been developed recently. Most wind power is converted to electricity by using giant machines called wind turbines. Wind is a natural resource that will never run out making wind a renewable resource. Wind that occurs naturally moves the turbines. The turbines power a generator. A generator is a device that converts mechanical energy to electrical energy. In this case the mechanical energy is the movement of the turbines created by the wind. This mechanical energy is changed into electrical energy that can be used in a home. \n",
    "\n",
    "Did you know that Alberta has a wind energy capacity of 1,483 mega watts. Alberta's wind farms produce enough electricity each year to power 625,000 homes, which is 8 percent of Alberta's electricity demand. "
   ]
  },
  {
   "cell_type": "code",
   "execution_count": 34,
   "metadata": {},
   "outputs": [
    {
     "data": {
      "text/html": [
       "<img src=\"https://i.gifer.com/so8.gif\" width=\"600\" height=\"100\"/>"
      ],
      "text/plain": [
       "<IPython.core.display.Image object>"
      ]
     },
     "execution_count": 34,
     "metadata": {},
     "output_type": "execute_result"
    }
   ],
   "source": [
    "from IPython.display import Image\n",
    "Image(url= \"https://i.gifer.com/so8.gif\", width=600, height=100)"
   ]
  },
  {
   "cell_type": "markdown",
   "metadata": {},
   "source": [
    "### Water Energy\n",
    "The correct term for water energy is hydropower. Hydro means water. The first use of water for energy dates back to around 4000 B.C. They used a water wheel during Roman times to water crop and supply drinking water to villages. Now, water creates energy in hydro-dams. A hydro-dam produces electricity when water pushes a device called a turbine. This turbine spins a generator which converts mechanical energy into electrical energy. In this case the mechanical energy that occurs is when the water pushes the turbine. Water is considered a resource that will never run out. It is plentiful and is replenished everytime it rains.    "
   ]
  },
  {
   "cell_type": "code",
   "execution_count": 35,
   "metadata": {},
   "outputs": [
    {
     "data": {
      "text/html": [
       "<img src=\"http://www.wvic.com/images/stories/Hydroplants/hydroplant-animate.gif\" width=\"700\" height=\"100\"/>"
      ],
      "text/plain": [
       "<IPython.core.display.Image object>"
      ]
     },
     "execution_count": 35,
     "metadata": {},
     "output_type": "execute_result"
    }
   ],
   "source": [
    "from IPython.display import Image \n",
    "Image(url= \"http://www.wvic.com/images/stories/Hydroplants/hydroplant-animate.gif\", width=700, height=100)"
   ]
  },
  {
   "cell_type": "markdown",
   "metadata": {},
   "source": [
    "### Nuclear Energy\n",
    "\n",
    "Nuclear energy uses the power of an atom to create steam power. Atoms can create energy in two different ways: nuclear fission which is when the inside of an atom is split or nuclear fusion which is done by fusing the inside of two atoms. \n",
    "\n",
    "The energy produced by the Sun, for example, comes from nuclear fusion reactions. Hydrogen gas in the core of the Sun is squeezed together so tightly that four hydrogen particles combine to form one helium atom. This is called nuclear fusion. When one of these two physical reactions occurs (nuclear fission or nuclear fusion) the atoms experience a slight loss of mass. The mass that is lost becomes a large amount of heat energy and light. This is why the sun is so hot and shines brightly. Did you know that Albert Einstein discovered his famous equation, E = mc2, with the sun and stars in mind. In his equation, Einstein invented a way to show that \"Energy equals mass times the speed of light squared.\"  \n",
    "\n",
    "The heat generated in nuclear fusion and nuclear fission is used to heat up water and produce steam, which is then used to create electricity. The seperation and joining of atoms occurs safely within the walls of a nuclear power station. Nuclear power generates nuclear waste that can be dangerous to human health and the environment. \n"
   ]
  },
  {
   "cell_type": "code",
   "execution_count": 36,
   "metadata": {},
   "outputs": [
    {
     "data": {
      "image/jpeg": "[encoded data removed]",
      "text/html": [
       "\n",
       "        <iframe\n",
       "            width=\"800\"\n",
       "            height=\"300\"\n",
       "            src=\"https://www.youtube.com/embed/igf96TS3Els\"\n",
       "            frameborder=\"0\"\n",
       "            allowfullscreen\n",
       "        ></iframe>\n",
       "        "
      ],
      "text/plain": [
       "<IPython.lib.display.YouTubeVideo at 0x7f7e233796a0>"
      ]
     },
     "execution_count": 36,
     "metadata": {},
     "output_type": "execute_result"
    }
   ],
   "source": [
    "from IPython.display import YouTubeVideo\n",
    "YouTubeVideo('igf96TS3Els', width=800, height=300)"
   ]
  },
  {
   "cell_type": "markdown",
   "metadata": {},
   "source": [
    "### Geothermal Energy\n",
    "\n",
    "Geothermal energy is generated by the high temperature of earth's core heating water into steam. The term 'geo' means earth and the word 'thermal' means heat, which means geothermal is 'heat from the earth.' Note, there exists a device called a geothermal heat pump that can tap into geothermal energy to heat and cool buildings. A geothermal heat pump system consists of a heat pump, an air delivery system (ductwork), and a heat exchanger-a system of pipes buried in the shallow ground near the building. In the summer, the heat pump moves heat from the indoor air into the heat exchanger. In the winter, the heat pump removes heat from the heat exchanger and pumps it into the indoor air delivery system. \n",
    "\n",
    "Why is geothermal energy a renewable resource? Because the source of geothermal energy is the unlimited amount of heat generated by the Earth's core. It is important that your realize that geothermal energy systems DO NOT get their heat directly from the core. Instead, they pull  heat from the crust—the rocky upper 20 miles of the planet's surface. "
   ]
  },
  {
   "cell_type": "code",
   "execution_count": 37,
   "metadata": {},
   "outputs": [
    {
     "data": {
      "image/jpeg": "[encoded data removed]",
      "text/html": [
       "\n",
       "        <iframe\n",
       "            width=\"800\"\n",
       "            height=\"300\"\n",
       "            src=\"https://www.youtube.com/embed/y_ZGBhy48YI\"\n",
       "            frameborder=\"0\"\n",
       "            allowfullscreen\n",
       "        ></iframe>\n",
       "        "
      ],
      "text/plain": [
       "<IPython.lib.display.YouTubeVideo at 0x7f7e23379cc0>"
      ]
     },
     "execution_count": 37,
     "metadata": {},
     "output_type": "execute_result"
    }
   ],
   "source": [
    "from IPython.display import YouTubeVideo\n",
    "YouTubeVideo('y_ZGBhy48YI', width=800, height=300)"
   ]
  },
  {
   "cell_type": "markdown",
   "metadata": {},
   "source": [
    "\n",
    "# Renewable Energy Sources vs. Nonrenewable\n",
    "\n",
    "Renewable energy sources are energy sources that can be replaced at the same rate they are used. The source is plentiful and generally quite efficient. An example of a renewable energy source is wind. Wind is a renewable energy source because there is a limitless supply that is naturally produced. \n",
    "\n",
    "Nonrenewable energy sources are those that run out more quickly than they are naturally reproduced. Usually these energy sources take millions of year to produce and they have a bigger negative impact on the earth compared to alternate sources. An example of a nonrenewable energy source is oil. Oil is norenewable because humans are using it faster than it is being replaced naturally on earth.  \n",
    "\n",
    "In order to get comfortable with the two types of Energy Sources, try matching each energy source to the Renewable or Nonrenewable category."
   ]
  },
  {
   "cell_type": "code",
   "execution_count": 54,
   "metadata": {},
   "outputs": [
    {
     "data": {
      "text/html": [
       "\n",
       "<p>Drag the energy source to the correct type of energy source category.</p>\n",
       "  \n",
       "<ul id=\"members\">\n",
       "  <li draggable=\"true\" data-age=\"1\">Solar Energy</li>\n",
       "  <li draggable=\"true\" data-age=\"2\">Oil Energy</li>\n",
       "  <li draggable=\"true\" data-age=\"2\">Coal Energy</li>\n",
       "  <li draggable=\"true\" data-age=\"2\">Natural Gas Energy</li>\n",
       "  <li draggable=\"true\" data-age=\"1\">Biomass Energy</li>\n",
       "  <li draggable=\"true\" data-age=\"1\">Wind Energy</li>\n",
       "  <li draggable=\"true\" data-age=\"1\">Hydro(Water) Energy</li>\n",
       "  <li draggable=\"true\" data-age=\"2\">Nuclear Energy</li>\n",
       "  <li draggable=\"true\" data-age=\"1\">Geothermal Energy</li>\n",
       "</ul>\n",
       "\n",
       "<div class=\"droptarget\">\n",
       "<fieldset id=\"racersField\">\n",
       "<legend>Renewable Energy Sources:</legend>\n",
       "<ul id=\"racers\"></ul>\n",
       "</fieldset>\n",
       "</div>\n",
       "<div class=\"droptarget\">\n",
       "<fieldset id=\"volunteersField\">\n",
       "<legend>Nonrenewable Energy Sources:</legend>\n",
       "<ul id=\"volunteers\"></ul>\n",
       "</fieldset>\n",
       "</div>\n",
       "\n",
       "<body>\n",
       "<div id=\"droptarget\">\n",
       "<div id=\"status\"></div>\n",
       "</div>\n",
       "</body>\n",
       "\n"
      ],
      "text/plain": [
       "<IPython.core.display.HTML object>"
      ]
     },
     "metadata": {},
     "output_type": "display_data"
    }
   ],
   "source": [
    "%%html\n",
    "\n",
    "<p>Drag the energy source to the correct type of energy source category.</p>\n",
    "  \n",
    "<ul id=\"members\">\n",
    "  <li draggable=\"true\" data-age=\"1\">Solar Energy</li>\n",
    "  <li draggable=\"true\" data-age=\"2\">Oil Energy</li>\n",
    "  <li draggable=\"true\" data-age=\"2\">Coal Energy</li>\n",
    "  <li draggable=\"true\" data-age=\"2\">Natural Gas Energy</li>\n",
    "  <li draggable=\"true\" data-age=\"1\">Biomass Energy</li>\n",
    "  <li draggable=\"true\" data-age=\"1\">Wind Energy</li>\n",
    "  <li draggable=\"true\" data-age=\"1\">Hydro(Water) Energy</li>\n",
    "  <li draggable=\"true\" data-age=\"2\">Nuclear Energy</li>\n",
    "  <li draggable=\"true\" data-age=\"1\">Geothermal Energy</li>\n",
    "</ul>\n",
    "\n",
    "<div class=\"droptarget\">\n",
    "<fieldset id=\"racersField\">\n",
    "<legend>Renewable Energy Sources:</legend>\n",
    "<ul id=\"racers\"></ul>\n",
    "</fieldset>\n",
    "</div>\n",
    "<div class=\"droptarget\">\n",
    "<fieldset id=\"volunteersField\">\n",
    "<legend>Nonrenewable Energy Sources:</legend>\n",
    "<ul id=\"volunteers\"></ul>\n",
    "</fieldset>\n",
    "</div>\n",
    "\n",
    "<body>\n",
    "<div id=\"droptarget\">\n",
    "<div id=\"status\"></div>\n",
    "</div>\n",
    "</body>\n",
    "\n"
   ]
  },
  {
   "cell_type": "markdown",
   "metadata": {},
   "source": [
    "# The Good and Bad Traits of Energy Sources\n",
    "\n",
    "Now that we understand each of the energy sources, it is important to weigh the good and the bad traits of each energy source. Discussing the good traits of an energy source makes it clear why it is efficient to use that technique of gathering usable energy. Efficient means the energy technique is achieving maximum productivity with minimum wasted effort or expense. Note that the bad traits of an energy source are usually negative side effects that we are trying to lessen or prevent while gathering usable energy.  \n",
    "\n",
    "The lifespan of an energy sources is also important in deciding how efficient it is. The lifespan of an energy source refers to the length of time the device that collects the energy can function."
   ]
  },
  {
   "cell_type": "code",
   "execution_count": 39,
   "metadata": {},
   "outputs": [
    {
     "data": {
      "text/html": [
       "<head>\n",
       "<style>\n",
       "table, th, td {\n",
       "  border: 1px solid black;\n",
       "  border-collapse: collapse;\n",
       "}\n",
       "th, td {\n",
       "  padding: 5px;\n",
       "  text-align: left;\n",
       "}\n",
       "</style>\n",
       "</head>\n",
       "<body>\n",
       "\n",
       "<h1>Solar</h1>\n",
       "<p>The best part about solar energy is if you can afford a solar panel, you can set it up yourself in your own yard and use it as an energy source in your home. The most common environmental impacts associated with solar power is land use and habitat loss, water use, and the use of hazardous materials in manufacturing. </p>\n",
       "<table style=\"width:100%\">\n",
       "  <tr>\n",
       "    <th>Good Traits</th>\n",
       "    <th>Bad Traits</th> \n",
       "  </tr>\n",
       "  <tr>\n",
       "    <td>Solar energy has recently experienced decreasing costs and high public support. </td>\n",
       "    <td>Solar energy is intermittent - electricity production is dependent on sunlight.</td>\n",
       "   \n",
       "  </tr>\n",
       "  <tr>\n",
       "    <td>Low CO2 emissions.</td>\n",
       "    <td>Expensive but in recent years the cost of solar energy equipment has decreased significantly.</td>\n",
       "    \n",
       "  </tr>\n",
       "  <tr>\n",
       "    <td>Easy to install, no rotating masses, little operation and maintenance work.</td>\n",
       "    <td>Forecasts are more unsecure than for fossil fuels (but better than wind).</td>\n",
       "    \n",
       "  </tr>\n",
       "</table>\n",
       "\n",
       "<h3>Lifespan</h3>\n",
       "<p>The sun is an unlimited resource in contrast to fossil fuels. The issue is not the energy source, but the energy converter. Solar panels are generally given a lifespan of 25 years. Over a long period of time, solar panels do wear out in the sense that they become less efficient at converting solar energy into usable electricity. The panel structure itself should not wear out. The problem lies in the breaking down of the solar cells within.</p>\n",
       "\n",
       "</body>\n",
       "</html>\n",
       "\n"
      ],
      "text/plain": [
       "<IPython.core.display.HTML object>"
      ]
     },
     "metadata": {},
     "output_type": "display_data"
    }
   ],
   "source": [
    "%%html\n",
    "<head>\n",
    "<style>\n",
    "table, th, td {\n",
    "  border: 1px solid black;\n",
    "  border-collapse: collapse;\n",
    "}\n",
    "th, td {\n",
    "  padding: 5px;\n",
    "  text-align: left;\n",
    "}\n",
    "</style>\n",
    "</head>\n",
    "<body>\n",
    "\n",
    "<h1>Solar</h1>\n",
    "<p>The best part about solar energy is if you can afford a solar panel, you can set it up yourself in your own yard and use it as an energy source in your home. The most common environmental impacts associated with solar power is land use and habitat loss, water use, and the use of hazardous materials in manufacturing. </p>\n",
    "<table style=\"width:100%\">\n",
    "  <tr>\n",
    "    <th>Good Traits</th>\n",
    "    <th>Bad Traits</th> \n",
    "  </tr>\n",
    "  <tr>\n",
    "    <td>Solar energy has recently experienced decreasing costs and high public support. </td>\n",
    "    <td>Solar energy is intermittent - electricity production is dependent on sunlight.</td>\n",
    "   \n",
    "  </tr>\n",
    "  <tr>\n",
    "    <td>Low CO2 emissions.</td>\n",
    "    <td>Expensive but in recent years the cost of solar energy equipment has decreased significantly.</td>\n",
    "    \n",
    "  </tr>\n",
    "  <tr>\n",
    "    <td>Easy to install, no rotating masses, little operation and maintenance work.</td>\n",
    "    <td>Forecasts are more unsecure than for fossil fuels (but better than wind).</td>\n",
    "    \n",
    "  </tr>\n",
    "</table>\n",
    "\n",
    "<h3>Lifespan</h3>\n",
    "<p>The sun is an unlimited resource in contrast to fossil fuels. The issue is not the energy source, but the energy converter. Solar panels are generally given a lifespan of 25 years. Over a long period of time, solar panels do wear out in the sense that they become less efficient at converting solar energy into usable electricity. The panel structure itself should not wear out. The problem lies in the breaking down of the solar cells within.</p>\n",
    "\n",
    "</body>\n",
    "</html>\n",
    "\n"
   ]
  },
  {
   "cell_type": "code",
   "execution_count": 40,
   "metadata": {
    "scrolled": true
   },
   "outputs": [
    {
     "data": {
      "text/html": [
       "<head>\n",
       "<style>\n",
       "table, th, td {\n",
       "  border: 1px solid black;\n",
       "  border-collapse: collapse;\n",
       "}\n",
       "th, td {\n",
       "  padding: 5px;\n",
       "  text-align: left;\n",
       "}\n",
       "</style>\n",
       "</head>\n",
       "<body>\n",
       "\n",
       "<h1>Oil</h1>\n",
       "<p></p>\n",
       "<table style=\"width:100%\">\n",
       "  <tr>\n",
       "    <th>Good Traits</th>\n",
       "    <th>Bad Traits</th> \n",
       "  </tr>\n",
       "  <tr>\n",
       "    <td>Oil is cheap to produce and refine. </td>\n",
       "    <td>Burning oil for electricity is a major source of air pollution on planet Earth that is causing the death of many people every year.</td>\n",
       "   \n",
       "  </tr>\n",
       "  <tr>\n",
       "    <td>Unlike the renewable energy sources such as solar and wind energy that are weather dependent sources of power, oil represent a reliable source of energy.</td>\n",
       "    <td>Burning oil for energy releases harmful gases into the atmosphere such as carbon dioxide (CO2), carbon monoxide (CO), nitrogen oxides (NOx), and sulfur dioxide (SO2). The presence of sulfur dioxide (SO2) into the atmosphere can cause acid rain which affects both people and the environment.</td>\n",
       "    \n",
       "  </tr>\n",
       "  <tr>\n",
       "    <td></td>\n",
       "    <td>Despite the fact that oil energy can get jobs done in an economical way, it is simply not a renewable source of energy. For this reason, there will come a time that it will run out of supply.</td>\n",
       "    \n",
       "  </tr>\n",
       "</table>\n",
       "\n",
       "<h3>Lifespan</h3>\n",
       "<p></p>\n",
       "\n",
       "\n",
       "</body>\n",
       "</html>\n",
       "\n"
      ],
      "text/plain": [
       "<IPython.core.display.HTML object>"
      ]
     },
     "metadata": {},
     "output_type": "display_data"
    }
   ],
   "source": [
    "%%html\n",
    "<head>\n",
    "<style>\n",
    "table, th, td {\n",
    "  border: 1px solid black;\n",
    "  border-collapse: collapse;\n",
    "}\n",
    "th, td {\n",
    "  padding: 5px;\n",
    "  text-align: left;\n",
    "}\n",
    "</style>\n",
    "</head>\n",
    "<body>\n",
    "\n",
    "<h1>Oil</h1>\n",
    "<p></p>\n",
    "<table style=\"width:100%\">\n",
    "  <tr>\n",
    "    <th>Good Traits</th>\n",
    "    <th>Bad Traits</th> \n",
    "  </tr>\n",
    "  <tr>\n",
    "    <td>Oil is cheap to produce and refine. </td>\n",
    "    <td>Burning oil for electricity is a major source of air pollution on planet Earth that is causing the death of many people every year.</td>\n",
    "   \n",
    "  </tr>\n",
    "  <tr>\n",
    "    <td>Unlike the renewable energy sources such as solar and wind energy that are weather dependent sources of power, oil represent a reliable source of energy.</td>\n",
    "    <td>Burning oil for energy releases harmful gases into the atmosphere such as carbon dioxide (CO2), carbon monoxide (CO), nitrogen oxides (NOx), and sulfur dioxide (SO2). The presence of sulfur dioxide (SO2) into the atmosphere can cause acid rain which affects both people and the environment.</td>\n",
    "    \n",
    "  </tr>\n",
    "  <tr>\n",
    "    <td></td>\n",
    "    <td>Despite the fact that oil energy can get jobs done in an economical way, it is simply not a renewable source of energy. For this reason, there will come a time that it will run out of supply.</td>\n",
    "    \n",
    "  </tr>\n",
    "</table>\n",
    "\n",
    "<h3>Lifespan</h3>\n",
    "<p></p>\n",
    "\n",
    "\n",
    "</body>\n",
    "</html>\n",
    "\n"
   ]
  },
  {
   "cell_type": "code",
   "execution_count": 41,
   "metadata": {},
   "outputs": [
    {
     "data": {
      "text/html": [
       "<head>\n",
       "<style>\n",
       "table, th, td {\n",
       "  border: 1px solid black;\n",
       "  border-collapse: collapse;\n",
       "}\n",
       "th, td {\n",
       "  padding: 5px;\n",
       "  text-align: left;\n",
       "}\n",
       "</style>\n",
       "</head>\n",
       "<body>\n",
       "\n",
       "<h1>Natural Gas</h1>\n",
       "<p>Natural gas emits 50 to 60 percent less carbon dioxide (CO2) when combusted in a new, efficient natural gas power plant compared with emissions from a typical new coal plant. The construction and land disturbance required for gas drilling can change land use and harm local ecosystems by causing erosion and disturbing wildlife habitats and migration patterns. When gas operators clear a site to build a well pad, pipelines, and access roads, the construction process can cause erosion of dirt, minerals, and other harmful pollutants into nearby streams\n",
       "increasing the risk of water pollution from chemical spills or equipment runoff.</p>\n",
       "<table style=\"width:100%\">\n",
       "  <tr>\n",
       "    <th>Good Traits</th>\n",
       "    <th>Bad Traits</th> \n",
       "  </tr>\n",
       "  <tr>\n",
       "    <td>Natural gas can be a transition fuel in the conversion to a sustainable energy system.</td>\n",
       "    <td>Emits CO2, though to a lesser extent than other fossil fuels such as coal.</td>\n",
       "   \n",
       "  </tr>\n",
       "  <tr>\n",
       "    <td>Natural gas will become more competitive as CO2 prices rise.</td>\n",
       "    <td>Some regions that sell natural gas face political instability.</td>\n",
       "    \n",
       "  </tr>\n",
       "  <tr>\n",
       "    <td></td>\n",
       "    <td>Natural gas is a more expensive energy source than other fossil fuels.</td>\n",
       "    \n",
       "  </tr>\n",
       "</table>\n",
       "\n",
       "<h3>Lifespan</h3>\n",
       "<p>Most fossil fuels, such as oil, natural gas and coal are considered nonrenewable resources in that their use is not sustainable because their formation takes billions of years. Humans are using natural gas faster than it is replacing itself.</p>\n",
       "\n",
       "\n",
       "</body>\n",
       "</html>\n"
      ],
      "text/plain": [
       "<IPython.core.display.HTML object>"
      ]
     },
     "metadata": {},
     "output_type": "display_data"
    }
   ],
   "source": [
    "%%html\n",
    "<head>\n",
    "<style>\n",
    "table, th, td {\n",
    "  border: 1px solid black;\n",
    "  border-collapse: collapse;\n",
    "}\n",
    "th, td {\n",
    "  padding: 5px;\n",
    "  text-align: left;\n",
    "}\n",
    "</style>\n",
    "</head>\n",
    "<body>\n",
    "\n",
    "<h1>Natural Gas</h1>\n",
    "<p>Natural gas emits 50 to 60 percent less carbon dioxide (CO2) when combusted in a new, efficient natural gas power plant compared with emissions from a typical new coal plant. The construction and land disturbance required for gas drilling can change land use and harm local ecosystems by causing erosion and disturbing wildlife habitats and migration patterns. When gas operators clear a site to build a well pad, pipelines, and access roads, the construction process can cause erosion of dirt, minerals, and other harmful pollutants into nearby streams\n",
    "increasing the risk of water pollution from chemical spills or equipment runoff.</p>\n",
    "<table style=\"width:100%\">\n",
    "  <tr>\n",
    "    <th>Good Traits</th>\n",
    "    <th>Bad Traits</th> \n",
    "  </tr>\n",
    "  <tr>\n",
    "    <td>Natural gas can be a transition fuel in the conversion to a sustainable energy system.</td>\n",
    "    <td>Emits CO2, though to a lesser extent than other fossil fuels such as coal.</td>\n",
    "   \n",
    "  </tr>\n",
    "  <tr>\n",
    "    <td>Natural gas will become more competitive as CO2 prices rise.</td>\n",
    "    <td>Some regions that sell natural gas face political instability.</td>\n",
    "    \n",
    "  </tr>\n",
    "  <tr>\n",
    "    <td></td>\n",
    "    <td>Natural gas is a more expensive energy source than other fossil fuels.</td>\n",
    "    \n",
    "  </tr>\n",
    "</table>\n",
    "\n",
    "<h3>Lifespan</h3>\n",
    "<p>Most fossil fuels, such as oil, natural gas and coal are considered nonrenewable resources in that their use is not sustainable because their formation takes billions of years. Humans are using natural gas faster than it is replacing itself.</p>\n",
    "\n",
    "\n",
    "</body>\n",
    "</html>"
   ]
  },
  {
   "cell_type": "code",
   "execution_count": 42,
   "metadata": {
    "scrolled": false
   },
   "outputs": [
    {
     "data": {
      "text/html": [
       "<head>\n",
       "<style>\n",
       "table, th, td {\n",
       "  border: 1px solid black;\n",
       "  border-collapse: collapse;\n",
       "}\n",
       "th, td {\n",
       "  padding: 5px;\n",
       "  text-align: left;\n",
       "}\n",
       "</style>\n",
       "</head>\n",
       "<body>\n",
       "\n",
       "<h1>Coal</h1>\n",
       "<p>Burning coal is a major source of carbon dioxide (CO2) emissions, which means coal is a fossil fuel. Air pollution from coal-fired power plants includes sulfur dioxide, nitrogen oxides, particulate matter, and heavy metals, leading to smog, acid rain and highly effects the air we breath.</p>\n",
       "<table style=\"width:100%\">\n",
       "  <tr>\n",
       "    <th>Good Traits</th>\n",
       "    <th>Bad Traits</th> \n",
       "  </tr>\n",
       "  <tr>\n",
       "    <td>Coal provides stable and large-scale electricity generation.</td>\n",
       "    <td>Coal power plants emit high levels of CO2.</td>\n",
       "   \n",
       "  </tr>\n",
       "  <tr>\n",
       "    <td>Coal power has a competitive production cost. Fuel costs are low and coal markets are well-functioning.</td>\n",
       "    <td>Technologies to reduce coal power plant CO2 emissions are expensive.</td>\n",
       "    \n",
       "  </tr>\n",
       "  <tr>\n",
       "    <td></td>\n",
       "    <td>Coal mining impacts significantly on the landscape and infrastructure.</td>\n",
       "    \n",
       "  </tr>\n",
       "</table>\n",
       "\n",
       "<h3>Lifespan</h3>\n",
       "<p>Most fossil fuels, like coal, are considered nonrenewable resources in that their use is not sustainable because their formation takes billions of years. Humans are burning coal faster than it is replacing itself.</p>\n",
       "\n",
       "\n",
       "</body>\n",
       "</html>\n"
      ],
      "text/plain": [
       "<IPython.core.display.HTML object>"
      ]
     },
     "metadata": {},
     "output_type": "display_data"
    }
   ],
   "source": [
    "%%html\n",
    "<head>\n",
    "<style>\n",
    "table, th, td {\n",
    "  border: 1px solid black;\n",
    "  border-collapse: collapse;\n",
    "}\n",
    "th, td {\n",
    "  padding: 5px;\n",
    "  text-align: left;\n",
    "}\n",
    "</style>\n",
    "</head>\n",
    "<body>\n",
    "\n",
    "<h1>Coal</h1>\n",
    "<p>Burning coal is a major source of carbon dioxide (CO2) emissions, which means coal is a fossil fuel. Air pollution from coal-fired power plants includes sulfur dioxide, nitrogen oxides, particulate matter, and heavy metals, leading to smog, acid rain and highly effects the air we breath.</p>\n",
    "<table style=\"width:100%\">\n",
    "  <tr>\n",
    "    <th>Good Traits</th>\n",
    "    <th>Bad Traits</th> \n",
    "  </tr>\n",
    "  <tr>\n",
    "    <td>Coal provides stable and large-scale electricity generation.</td>\n",
    "    <td>Coal power plants emit high levels of CO2.</td>\n",
    "   \n",
    "  </tr>\n",
    "  <tr>\n",
    "    <td>Coal power has a competitive production cost. Fuel costs are low and coal markets are well-functioning.</td>\n",
    "    <td>Technologies to reduce coal power plant CO2 emissions are expensive.</td>\n",
    "    \n",
    "  </tr>\n",
    "  <tr>\n",
    "    <td></td>\n",
    "    <td>Coal mining impacts significantly on the landscape and infrastructure.</td>\n",
    "    \n",
    "  </tr>\n",
    "</table>\n",
    "\n",
    "<h3>Lifespan</h3>\n",
    "<p>Most fossil fuels, like coal, are considered nonrenewable resources in that their use is not sustainable because their formation takes billions of years. Humans are burning coal faster than it is replacing itself.</p>\n",
    "\n",
    "\n",
    "</body>\n",
    "</html>"
   ]
  },
  {
   "cell_type": "code",
   "execution_count": 43,
   "metadata": {
    "scrolled": false
   },
   "outputs": [
    {
     "data": {
      "text/html": [
       "<head>\n",
       "<style>\n",
       "table, th, td {\n",
       "  border: 1px solid black;\n",
       "  border-collapse: collapse;\n",
       "}\n",
       "th, td {\n",
       "  padding: 5px;\n",
       "  text-align: left;\n",
       "}\n",
       "</style>\n",
       "</head>\n",
       "<body>\n",
       "\n",
       "<h1>Biomass</h1>\n",
       "<p>Biomass is an alternative energy sources to fossil fuels such as coal, oil, and natural gas. Burning biomass releases carbon dioxide (CO2). The burning of biomass emits less CO2 than that of fossil fuels.</p>\n",
       "<table style=\"width:100%\">\n",
       "  <tr>\n",
       "    <th>Good Traits</th>\n",
       "    <th>Bad Traits</th> \n",
       "  </tr>\n",
       "  <tr>\n",
       "    <td>Biomass resources are abundant, cost-effective and political risk is limited.</td>\n",
       "    <td>Requires large storage space.</td>\n",
       "   \n",
       "  </tr>\n",
       "  <tr>\n",
       "    <td>By using biomass in power production instead of fossil fuels, CO2 emissions are significantly reduced.</td>\n",
       "    <td>Burning of biomass still emits a fair level of CO2 and without proper management of biomass usage this CO2 could easily become a green house gas. </td>\n",
       "    \n",
       "  </tr>\n",
       "  <tr>\n",
       "    <td>Properly managed biomass is carbon neutral over time. If not done in a sustainable way, biomass burning is doing more harm than good.</td>\n",
       "    <td></td>\n",
       "    \n",
       "  </tr>\n",
       "</table>\n",
       "\n",
       "<h3>Lifespan</h3>\n",
       "<p>Sources of biomass such as crops, manure and garbage are renewable which makes the lifespan of biomass energy infinite. </p>\n",
       "\n",
       "\n",
       "</body>\n",
       "</html>\n",
       "\n"
      ],
      "text/plain": [
       "<IPython.core.display.HTML object>"
      ]
     },
     "metadata": {},
     "output_type": "display_data"
    }
   ],
   "source": [
    "%%html\n",
    "<head>\n",
    "<style>\n",
    "table, th, td {\n",
    "  border: 1px solid black;\n",
    "  border-collapse: collapse;\n",
    "}\n",
    "th, td {\n",
    "  padding: 5px;\n",
    "  text-align: left;\n",
    "}\n",
    "</style>\n",
    "</head>\n",
    "<body>\n",
    "\n",
    "<h1>Biomass</h1>\n",
    "<p>Biomass is an alternative energy sources to fossil fuels such as coal, oil, and natural gas. Burning biomass releases carbon dioxide (CO2). The burning of biomass emits less CO2 than that of fossil fuels.</p>\n",
    "<table style=\"width:100%\">\n",
    "  <tr>\n",
    "    <th>Good Traits</th>\n",
    "    <th>Bad Traits</th> \n",
    "  </tr>\n",
    "  <tr>\n",
    "    <td>Biomass resources are abundant, cost-effective and political risk is limited.</td>\n",
    "    <td>Requires large storage space.</td>\n",
    "   \n",
    "  </tr>\n",
    "  <tr>\n",
    "    <td>By using biomass in power production instead of fossil fuels, CO2 emissions are significantly reduced.</td>\n",
    "    <td>Burning of biomass still emits a fair level of CO2 and without proper management of biomass usage this CO2 could easily become a green house gas. </td>\n",
    "    \n",
    "  </tr>\n",
    "  <tr>\n",
    "    <td>Properly managed biomass is carbon neutral over time. If not done in a sustainable way, biomass burning is doing more harm than good.</td>\n",
    "    <td></td>\n",
    "    \n",
    "  </tr>\n",
    "</table>\n",
    "\n",
    "<h3>Lifespan</h3>\n",
    "<p>Sources of biomass such as crops, manure and garbage are renewable which makes the lifespan of biomass energy infinite. </p>\n",
    "\n",
    "\n",
    "</body>\n",
    "</html>\n",
    "\n"
   ]
  },
  {
   "cell_type": "code",
   "execution_count": 44,
   "metadata": {},
   "outputs": [
    {
     "data": {
      "text/html": [
       "<head>\n",
       "<style>\n",
       "table, th, td {\n",
       "  border: 1px solid black;\n",
       "  border-collapse: collapse;\n",
       "}\n",
       "th, td {\n",
       "  padding: 5px;\n",
       "  text-align: left;\n",
       "}\n",
       "</style>\n",
       "</head>\n",
       "<body>\n",
       "\n",
       "<h1>Wind</h1>\n",
       "<p>Wind power doesn't pollute the air like power plants that burn fossil fuels, such as coal or natural gas. It should be considered that wind turbines kill an estimated 140,000 to 328,000 birds each year in North America, making it the most threatening form of green energy.</p>\n",
       "<table style=\"width:100%\">\n",
       "  <tr>\n",
       "    <th>Good Traits</th>\n",
       "    <th>Bad Traits</th> \n",
       "  </tr>\n",
       "  <tr>\n",
       "    <td>Wind power emits essentially no CO2 across its life cycle.</td>\n",
       "    <td>Has an impact on the landscape, and also emits noise.</td>\n",
       "   \n",
       "  </tr>\n",
       "  <tr>\n",
       "    <td>Has no fuel costs.</td>\n",
       "    <td>Dependent on available wind.</td>\n",
       "    \n",
       "  </tr>\n",
       "  <tr>\n",
       "    <td></td>\n",
       "    <td>Has significant investment costs.</td>\n",
       "    \n",
       "  </tr>\n",
       "</table>\n",
       "\n",
       "<h3>Lifespan</h3>\n",
       "<p>The design life of a good quality modern wind turbine is 20 years. Depending on how windy and turbulent the site is, the turbine could last for 25 years or even longer, though as with anything mechanical, the maintenance costs will increase as it gets older. </p>\n",
       "\n",
       "\n",
       "</body>\n",
       "</html>\n"
      ],
      "text/plain": [
       "<IPython.core.display.HTML object>"
      ]
     },
     "metadata": {},
     "output_type": "display_data"
    }
   ],
   "source": [
    "%%html\n",
    "<head>\n",
    "<style>\n",
    "table, th, td {\n",
    "  border: 1px solid black;\n",
    "  border-collapse: collapse;\n",
    "}\n",
    "th, td {\n",
    "  padding: 5px;\n",
    "  text-align: left;\n",
    "}\n",
    "</style>\n",
    "</head>\n",
    "<body>\n",
    "\n",
    "<h1>Wind</h1>\n",
    "<p>Wind power doesn't pollute the air like power plants that burn fossil fuels, such as coal or natural gas. It should be considered that wind turbines kill an estimated 140,000 to 328,000 birds each year in North America, making it the most threatening form of green energy.</p>\n",
    "<table style=\"width:100%\">\n",
    "  <tr>\n",
    "    <th>Good Traits</th>\n",
    "    <th>Bad Traits</th> \n",
    "  </tr>\n",
    "  <tr>\n",
    "    <td>Wind power emits essentially no CO2 across its life cycle.</td>\n",
    "    <td>Has an impact on the landscape, and also emits noise.</td>\n",
    "   \n",
    "  </tr>\n",
    "  <tr>\n",
    "    <td>Has no fuel costs.</td>\n",
    "    <td>Dependent on available wind.</td>\n",
    "    \n",
    "  </tr>\n",
    "  <tr>\n",
    "    <td></td>\n",
    "    <td>Has significant investment costs.</td>\n",
    "    \n",
    "  </tr>\n",
    "</table>\n",
    "\n",
    "<h3>Lifespan</h3>\n",
    "<p>The design life of a good quality modern wind turbine is 20 years. Depending on how windy and turbulent the site is, the turbine could last for 25 years or even longer, though as with anything mechanical, the maintenance costs will increase as it gets older. </p>\n",
    "\n",
    "\n",
    "</body>\n",
    "</html>\n"
   ]
  },
  {
   "cell_type": "code",
   "execution_count": 45,
   "metadata": {},
   "outputs": [
    {
     "data": {
      "text/html": [
       "<head>\n",
       "<style>\n",
       "table, th, td {\n",
       "  border: 1px solid black;\n",
       "  border-collapse: collapse;\n",
       "}\n",
       "th, td {\n",
       "  padding: 5px;\n",
       "  text-align: left;\n",
       "}\n",
       "</style>\n",
       "</head>\n",
       "<body>\n",
       "\n",
       "<h1>Hydro</h1>\n",
       "<p>Hydropower does not pollute the water or the air. However, hydropower facilities can have large environmental impacts by changing the environment and affecting land use, homes, and natural habitats in the dam area. Most hydroelectric power plants have a dam and a reservoir.\n",
       "Hydropower doesn't pollute the air like power plants that burn fossil fuels, such as coal or natural gas.\n",
       "</p>\n",
       "<table style=\"width:100%\">\n",
       "  <tr>\n",
       "    <th>Good Traits</th>\n",
       "    <th>Bad Traits</th> \n",
       "  </tr>\n",
       "  <tr>\n",
       "    <td>Hydro power has almost no emissions that impact the climate or the environment.</td>\n",
       "    <td>Hydro power plants are a significant encroachment on the landscape and impact river ecosystems.</td>\n",
       "   \n",
       "  </tr>\n",
       "  <tr>\n",
       "    <td>Provides large-scale and stable electricity generation.</td>\n",
       "    <td>Constructing a new hydro power plant requires a substantial investment.</td>\n",
       "    \n",
       "  </tr>\n",
       "  <tr>\n",
       "    <td>Has no fuel costs. Hydro power plants have a long economic life.</td>\n",
       "    <td></td>\n",
       "    \n",
       "  </tr>\n",
       "</table>\n",
       "\n",
       "<h3>Lifespan</h3>\n",
       "<p>Most hydro hardware manufacturers quote design lives of 25 years but in many cases the same manufacturers have many turbines out in the field that are over 50 years old and still operating reliably and efficiently. Many dams built during the 1930-70s, an era of intensive dam construction, have an expected life of 50-100 years.</p>\n",
       "\n",
       "\n",
       "</body>\n",
       "</html>\n"
      ],
      "text/plain": [
       "<IPython.core.display.HTML object>"
      ]
     },
     "metadata": {},
     "output_type": "display_data"
    }
   ],
   "source": [
    "%%html\n",
    "<head>\n",
    "<style>\n",
    "table, th, td {\n",
    "  border: 1px solid black;\n",
    "  border-collapse: collapse;\n",
    "}\n",
    "th, td {\n",
    "  padding: 5px;\n",
    "  text-align: left;\n",
    "}\n",
    "</style>\n",
    "</head>\n",
    "<body>\n",
    "\n",
    "<h1>Hydro</h1>\n",
    "<p>Hydropower does not pollute the water or the air. However, hydropower facilities can have large environmental impacts by changing the environment and affecting land use, homes, and natural habitats in the dam area. Most hydroelectric power plants have a dam and a reservoir.\n",
    "Hydropower doesn't pollute the air like power plants that burn fossil fuels, such as coal or natural gas.\n",
    "</p>\n",
    "<table style=\"width:100%\">\n",
    "  <tr>\n",
    "    <th>Good Traits</th>\n",
    "    <th>Bad Traits</th> \n",
    "  </tr>\n",
    "  <tr>\n",
    "    <td>Hydro power has almost no emissions that impact the climate or the environment.</td>\n",
    "    <td>Hydro power plants are a significant encroachment on the landscape and impact river ecosystems.</td>\n",
    "   \n",
    "  </tr>\n",
    "  <tr>\n",
    "    <td>Provides large-scale and stable electricity generation.</td>\n",
    "    <td>Constructing a new hydro power plant requires a substantial investment.</td>\n",
    "    \n",
    "  </tr>\n",
    "  <tr>\n",
    "    <td>Has no fuel costs. Hydro power plants have a long economic life.</td>\n",
    "    <td></td>\n",
    "    \n",
    "  </tr>\n",
    "</table>\n",
    "\n",
    "<h3>Lifespan</h3>\n",
    "<p>Most hydro hardware manufacturers quote design lives of 25 years but in many cases the same manufacturers have many turbines out in the field that are over 50 years old and still operating reliably and efficiently. Many dams built during the 1930-70s, an era of intensive dam construction, have an expected life of 50-100 years.</p>\n",
    "\n",
    "\n",
    "</body>\n",
    "</html>"
   ]
  },
  {
   "cell_type": "code",
   "execution_count": 46,
   "metadata": {},
   "outputs": [
    {
     "data": {
      "text/html": [
       "<head>\n",
       "<style>\n",
       "table, th, td {\n",
       "  border: 1px solid black;\n",
       "  border-collapse: collapse;\n",
       "}\n",
       "th, td {\n",
       "  padding: 5px;\n",
       "  text-align: left;\n",
       "}\n",
       "</style>\n",
       "</head>\n",
       "<body>\n",
       "\n",
       "<h1>Nuclear</h1>\n",
       "<p>Nuclear power is the use of nuclear reactions that release nuclear energy to generate heat, which most frequently is then used in steam turbines to produce electricity in a nuclear power plant. The challenge of making nuclear energy safer doesn't end after the power has been generated. Nuclear fuel remains dangerously radioactive for thousands of years after it is no longer useful. The waste disposal problem has become a major challenge for the continued use of nuclear energy.</p>\n",
       "<table style=\"width:100%\">\n",
       "  <tr>\n",
       "    <th>Good Traits</th>\n",
       "    <th>Bad Traits</th> \n",
       "  </tr>\n",
       "  <tr>\n",
       "    <td>Nuclear power emits low levels of CO2 across its life cycle.</td>\n",
       "    <td>The management of high-level waste requires storage in secure facilities for a very long time.</td>\n",
       "   \n",
       "  </tr>\n",
       "  <tr>\n",
       "    <td>Provides stable and large-scale electricity generation.</td>\n",
       "    <td>Construction of a new nuclear power plant requires major investments.</td>\n",
       "    \n",
       "  </tr>\n",
       "  <tr>\n",
       "    <td>Costs for fuel, operation and maintenance are normally relatively low.</td>\n",
       "    <td></td>\n",
       "    \n",
       "  </tr>\n",
       "</table>\n",
       "\n",
       "<h3>Lifespan</h3>\n",
       "<p>Nuclear energy is usually considered a nonrenewable energy source. Although nuclear energy itself is a renewable energy source, the material used in nuclear power plants is not. With proper management and safety, nuclear power plants can operate beyond their typical design lifespan of 30-40 years.</p>\n",
       "\n",
       "\n",
       "</body>\n",
       "</html>\n"
      ],
      "text/plain": [
       "<IPython.core.display.HTML object>"
      ]
     },
     "metadata": {},
     "output_type": "display_data"
    }
   ],
   "source": [
    "%%html\n",
    "<head>\n",
    "<style>\n",
    "table, th, td {\n",
    "  border: 1px solid black;\n",
    "  border-collapse: collapse;\n",
    "}\n",
    "th, td {\n",
    "  padding: 5px;\n",
    "  text-align: left;\n",
    "}\n",
    "</style>\n",
    "</head>\n",
    "<body>\n",
    "\n",
    "<h1>Nuclear</h1>\n",
    "<p>Nuclear power is the use of nuclear reactions that release nuclear energy to generate heat, which most frequently is then used in steam turbines to produce electricity in a nuclear power plant. The challenge of making nuclear energy safer doesn't end after the power has been generated. Nuclear fuel remains dangerously radioactive for thousands of years after it is no longer useful. The waste disposal problem has become a major challenge for the continued use of nuclear energy.</p>\n",
    "<table style=\"width:100%\">\n",
    "  <tr>\n",
    "    <th>Good Traits</th>\n",
    "    <th>Bad Traits</th> \n",
    "  </tr>\n",
    "  <tr>\n",
    "    <td>Nuclear power emits low levels of CO2 across its life cycle.</td>\n",
    "    <td>The management of high-level waste requires storage in secure facilities for a very long time.</td>\n",
    "   \n",
    "  </tr>\n",
    "  <tr>\n",
    "    <td>Provides stable and large-scale electricity generation.</td>\n",
    "    <td>Construction of a new nuclear power plant requires major investments.</td>\n",
    "    \n",
    "  </tr>\n",
    "  <tr>\n",
    "    <td>Costs for fuel, operation and maintenance are normally relatively low.</td>\n",
    "    <td></td>\n",
    "    \n",
    "  </tr>\n",
    "</table>\n",
    "\n",
    "<h3>Lifespan</h3>\n",
    "<p>Nuclear energy is usually considered a nonrenewable energy source. Although nuclear energy itself is a renewable energy source, the material used in nuclear power plants is not. With proper management and safety, nuclear power plants can operate beyond their typical design lifespan of 30-40 years.</p>\n",
    "\n",
    "\n",
    "</body>\n",
    "</html>"
   ]
  },
  {
   "cell_type": "code",
   "execution_count": 47,
   "metadata": {
    "scrolled": false
   },
   "outputs": [
    {
     "data": {
      "text/html": [
       "<head>\n",
       "<style>\n",
       "table, th, td {\n",
       "  border: 1px solid black;\n",
       "  border-collapse: collapse;\n",
       "}\n",
       "th, td {\n",
       "  padding: 5px;\n",
       "  text-align: left;\n",
       "}\n",
       "</style>\n",
       "</head>\n",
       "<body>\n",
       "\n",
       "<h1>Geothermal</h1>\n",
       "<p></p>\n",
       "  <tr>\n",
       "    <th>Good Traits</th>\n",
       "    <th>Bad Traits</th> \n",
       "  </tr>\n",
       "  <tr>\n",
       "    <td> </td>\n",
       "    <td></td>\n",
       "   \n",
       "  </tr>\n",
       "  <tr>\n",
       "    <td></td>\n",
       "    <td></td>\n",
       "    \n",
       "  </tr>\n",
       "  <tr>\n",
       "    <td></td>\n",
       "    <td></td>\n",
       "    \n",
       "  </tr>\n",
       "</table>\n",
       "\n",
       "<h3>Lifespan</h3>\n",
       "<p></p>\n",
       "</body>\n",
       "</html>\n",
       "\n"
      ],
      "text/plain": [
       "<IPython.core.display.HTML object>"
      ]
     },
     "metadata": {},
     "output_type": "display_data"
    }
   ],
   "source": [
    "%%html\n",
    "<head>\n",
    "<style>\n",
    "table, th, td {\n",
    "  border: 1px solid black;\n",
    "  border-collapse: collapse;\n",
    "}\n",
    "th, td {\n",
    "  padding: 5px;\n",
    "  text-align: left;\n",
    "}\n",
    "</style>\n",
    "</head>\n",
    "<body>\n",
    "\n",
    "<h1>Geothermal</h1>\n",
    "<p></p>\n",
    "  <tr>\n",
    "    <th>Good Traits</th>\n",
    "    <th>Bad Traits</th> \n",
    "  </tr>\n",
    "  <tr>\n",
    "    <td> </td>\n",
    "    <td></td>\n",
    "   \n",
    "  </tr>\n",
    "  <tr>\n",
    "    <td></td>\n",
    "    <td></td>\n",
    "    \n",
    "  </tr>\n",
    "  <tr>\n",
    "    <td></td>\n",
    "    <td></td>\n",
    "    \n",
    "  </tr>\n",
    "</table>\n",
    "\n",
    "<h3>Lifespan</h3>\n",
    "<p></p>\n",
    "</body>\n",
    "</html>\n",
    "\n"
   ]
  },
  {
   "cell_type": "markdown",
   "metadata": {},
   "source": [
    "[![logo](https://callysto.ca/wp-content/uploads/2018/07/Callysto-Notebook-Banner_Bottom_07.30.18.jpg)](https://callysto.ca/)"
   ]
  }
 ],
 "metadata": {
  "kernelspec": {
   "display_name": "Python 3",
   "language": "python",
   "name": "python3"
  },
  "language_info": {
   "codemirror_mode": {
    "name": "ipython",
    "version": 3
   },
   "file_extension": ".py",
   "mimetype": "text/x-python",
   "name": "python",
   "nbconvert_exporter": "python",
   "pygments_lexer": "ipython3",
   "version": "3.6.8"
  }
 },
 "nbformat": 4,
 "nbformat_minor": 2
}
