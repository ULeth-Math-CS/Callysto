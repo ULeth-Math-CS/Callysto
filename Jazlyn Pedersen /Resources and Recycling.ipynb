{
 "cells": [
  {
   "cell_type": "markdown",
   "metadata": {},
   "source": [
    "[![logo](https://callysto.ca/wp-content/uploads/2018/06/Callysto_Notebook-Banner_Top_06.06.18.jpg)](https://callysto.ca)\n"
   ]
  },
  {
   "cell_type": "markdown",
   "metadata": {},
   "source": [
    "### Learning Summary\n",
    "Students will begin to understand the importance of managing waste properly. They will learn where the products they use every day come from and how much and what kind of waste these products create. In addition, they will also learn that waste is created by throwing things away, human activities such as mining raw materials from the ground and producing goods in factories. By the end of this notebook, students will understand why it is important to prevent waste in the first place, recycle, compost, and reuse."
   ]
  },
  {
   "cell_type": "markdown",
   "metadata": {},
   "source": [
    "## First, Where Do Resources Come From?\n",
    "### Natural Resources\n",
    "Since the beginning of time humans have used resources that come from earth and its atmosphere. Nature has given us many resources in the form of air, water, heat, natural vegetation, soil, wild animals, metals, fossil fuel and others. These are called Natural Resources, they are useful raw materials that are extracted from the Earth and manufactured or created into the products we use on a day-to-day basis. There are two types of Natural Resources, Renewable and Nonrenewable. Renewable resources can be replaced at the same rate they are used. For example, sun and wind, which can be used to provide energy. Nonrenewable resources are those that run out more quickly than they naturally restore. One example of a Nonrenewable resource is mineral ore. After it is mined, if it is used completely, it is gone and it would take millions of years to redevelop.  \n"
   ]
  },
  {
   "cell_type": "code",
   "execution_count": null,
   "metadata": {},
   "outputs": [],
   "source": []
  }
 ],
 "metadata": {
  "kernelspec": {
   "display_name": "Python 3",
   "language": "python",
   "name": "python3"
  },
  "language_info": {
   "codemirror_mode": {
    "name": "ipython",
    "version": 3
   },
   "file_extension": ".py",
   "mimetype": "text/x-python",
   "name": "python",
   "nbconvert_exporter": "python",
   "pygments_lexer": "ipython3",
   "version": "3.6.5"
  }
 },
 "nbformat": 4,
 "nbformat_minor": 2
}
