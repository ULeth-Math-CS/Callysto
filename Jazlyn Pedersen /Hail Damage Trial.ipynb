{
 "cells": [
  {
   "cell_type": "markdown",
   "metadata": {},
   "source": [
    "[![logo](https://callysto.ca/wp-content/uploads/2018/06/Callysto_Notebook-Banner_Top_06.06.18.jpg)](https://callysto.ca)\n",
    "\n"
   ]
  },
  {
   "cell_type": "code",
   "execution_count": 16,
   "metadata": {
    "scrolled": true
   },
   "outputs": [
    {
     "data": {
      "text/html": [
       "                    <script>\n",
       "                    document.getElementById('toggleButton').onclick = function () {\n",
       "                        if (code_shown) {\n",
       "                            $('div.input').hide('500');\n",
       "                            $('#toggleButton').val('Show Code')\n",
       "                        } else {\n",
       "                            $('div.input').show('500');\n",
       "                            $('#toggleButton').val('Hide Code')\n",
       "                        }\n",
       "                        code_shown = !code_shown\n",
       "                    }\n",
       "\n",
       "                    document.getElementById('init').onclick = function () {\n",
       "                        runAll = document.getElementById('run_all_cells_below').childNodes[1]\n",
       "                        console.log(runAll)\n",
       "                        runAll.click()\n",
       "                    }\n",
       "\n",
       "                    $(document).ready(function () {\n",
       "                        code_shown = true;\n",
       "                        $('div.input').hide()\n",
       "                    });\n",
       "                </script>\n",
       "                <input type=\"submit\" id=\"toggleButton\" value=\"Show Code\">\n",
       "                <input id=\"init\" type=\"submit\" value=\"Initialize\">\n"
      ],
      "text/plain": [
       "<IPython.core.display.HTML object>"
      ]
     },
     "metadata": {},
     "output_type": "display_data"
    }
   ],
   "source": [
    "import myMagics\n",
    "%uiButtons"
   ]
  },
  {
   "cell_type": "markdown",
   "metadata": {},
   "source": [
    "### Learning Summary\n",
    "\n",
    "Students will learn about the simulated hail damage experiment conducted by the Agricultural Research company Farming Smarter. They will learn about the experimental set up . By the end of this notebook, students will understand "
   ]
  },
  {
   "cell_type": "markdown",
   "metadata": {},
   "source": [
    "## What is Agricultural Research?\n",
    "\n",
    "Agricultural research can be broadly defined as any research activity aimed at improving productivity and quality of crops by their genetic improvement, better plant protection, irrigation, storage methods, farm mechanization, efficient marketing, and a better management of resources.\n",
    "\n",
    "Agricultural research is one of the oldest forms of organized research in the world. Since the middle of the 18th century attempts have been made to apply scientific knowledge to the improvement of agriculture. Generally, a good agricultural research topic will inform current farmers about a relatable issue, helping them change their practice into something better. "
   ]
  },
  {
   "cell_type": "code",
   "execution_count": 9,
   "metadata": {},
   "outputs": [
    {
     "data": {
      "text/html": [
       "<img src=\"https://www.farmingsmarter.com/wp-content/files/2017/07/Rsch-Plot.jpg\" width=\"1000\" height=\"300\"/>"
      ],
      "text/plain": [
       "<IPython.core.display.Image object>"
      ]
     },
     "execution_count": 9,
     "metadata": {},
     "output_type": "execute_result"
    }
   ],
   "source": [
    "from IPython.display import Image\n",
    "Image(url=\"https://www.farmingsmarter.com/wp-content/files/2017/07/Rsch-Plot.jpg\", width=1000, height=300)"
   ]
  },
  {
   "cell_type": "markdown",
   "metadata": {},
   "source": [
    "## Why Research Simulated Hail Damage?\n",
    "\n",
    "Naturally occuring hail damage proves to be a problem throughout North American farming. In a matter of five minutes, a crop that once had full value can be diminished to having little or no value at all. Nutrient products and foliar fungicides have been designed to recover what is left of a damaged crop. The issue with studying hail damage is it is a natural phenomenon that is hard to collect consistent data on. Data regarding simulated hail damage is limited and plant researchers desire more of it in order to establish trends about hail and its effects.    \n",
    "\n",
    "The main goal of foliar fungicide and nutirent applications is to increase profitability. Foliar Fungicides do not generally increase yield, but they protect the yield potential of a given crop by maintaining the green leaf area (including leaves, stems and grain head). Nutrients are used by an organism to enhance survival, growth, and reproduction. \n"
   ]
  },
  {
   "cell_type": "code",
   "execution_count": 5,
   "metadata": {},
   "outputs": [
    {
     "data": {
      "text/html": [
       "<img src=\"http://www.farmingsmarter.com/wp-content/uploads/2013/05/farming-smarter-logo-Copy.jpg\" width=\"1000\" height=\"100\"/>"
      ],
      "text/plain": [
       "<IPython.core.display.Image object>"
      ]
     },
     "execution_count": 5,
     "metadata": {},
     "output_type": "execute_result"
    }
   ],
   "source": [
    "from IPython.display import Image\n",
    "Image(url=\"http://www.farmingsmarter.com/wp-content/uploads/2013/05/farming-smarter-logo-Copy.jpg\", width=1000, height=100)"
   ]
  },
  {
   "cell_type": "markdown",
   "metadata": {},
   "source": [
    "## Who is Farming Smarter?\n",
    "\n",
    "Farming Smarter is an agricultural research company. Farming Smarter has an objective in studying simulated hail damage and it is to evaluate the response of crop to simulated damage at different growth stages. \n",
    "\n",
    "By providing more data regarding hail damage and recovery, Farming Smarter could evaluate the agronomic and economic harms or benefits of using fungicides and nutrient blends on cereal, pulse and oilseed crops that are damaged by simulated hail. Gaining an increased understanding about hail and the damage it causes, Farming Smarter will be more equipped to identify potential management practices to improve crop growth, harvestability and yield after hail damage.\n",
    "\n",
    "##### Fun Facts about Farming Smarter! \n",
    "\n",
    "1) Ken Coles is the founder of Farming Smarter and proposed the simulated hail study in 2015. \n",
    "\n",
    "2) Farming Smarter plants various crops including wheat, barley, canola, peas, beans, flax, hemp and corn. \n",
    "\n",
    "3) Farming Smarter is a registered Canadian charity.\n",
    " "
   ]
  },
  {
   "cell_type": "code",
   "execution_count": 2,
   "metadata": {},
   "outputs": [
    {
     "data": {
      "text/html": [
       "<img src=\"http://www.farmingsmarter.com/wp-content/files/2016/07/ken-hail-sim.jpg\" width=\"1000\" height=\"300\"/>"
      ],
      "text/plain": [
       "<IPython.core.display.Image object>"
      ]
     },
     "execution_count": 2,
     "metadata": {},
     "output_type": "execute_result"
    }
   ],
   "source": [
    "from IPython.display import Image\n",
    "Image(url=\"http://www.farmingsmarter.com/wp-content/files/2016/07/ken-hail-sim.jpg\", width=1000, height=300)"
   ]
  },
  {
   "cell_type": "markdown",
   "metadata": {},
   "source": [
    "## The Beginning Stages of the Simulated Hail Experiment\n",
    "\n",
    "### Farming Smarters Experimental Objectives: \n",
    "\n",
    "1. Develop a practical method for creating simulated hail damage.\n",
    "\n",
    "\n",
    "2. Set up an experiment that tests for: \n",
    "    * The effects of simulated hail damage on different growth stages of a crop.\n",
    "    * The effects of Foliar Fungicides and Nutrient blends.\n",
    "    * The effects of different simulated hail damage levels on a crop.\n",
    "    \n",
    "\n",
    "3. Execute the experiment and collect results.\n",
    "\n",
    "\n",
    "4. What does the data and results from the experiment tell us about the factors we were testing for in number 2."
   ]
  },
  {
   "cell_type": "markdown",
   "metadata": {},
   "source": [
    "## The Hail Simulator:"
   ]
  },
  {
   "cell_type": "code",
   "execution_count": 7,
   "metadata": {},
   "outputs": [
    {
     "data": {
      "text/html": [
       "<img src=\"https://static.producer.com/wp-content/uploads/2019/01/03144338/16_3-col_BJG062415_hailsimchains.jpg\" width=\"1000\" height=\"100\"/>"
      ],
      "text/plain": [
       "<IPython.core.display.Image object>"
      ]
     },
     "execution_count": 7,
     "metadata": {},
     "output_type": "execute_result"
    }
   ],
   "source": [
    "from IPython.display import Image\n",
    "Image(url=\"https://static.producer.com/wp-content/uploads/2019/01/03144338/16_3-col_BJG062415_hailsimchains.jpg\", width=1000, height=100)"
   ]
  },
  {
   "cell_type": "markdown",
   "metadata": {},
   "source": [
    "Farming Smarter, with financial support from the Alberta Pulse Growers Commission developed a hail simulator. The hail simulator is a PTO on the front of a tractor with seventy-two, two foot long chains spaced evenly on the surface (View figure above). The tractor passes through the crop and the chain hits the crop. \n",
    "\n",
    "Agriculture Financial Services Corporation (AFSC) provides insurance for crops. Farming Smarter tested the simulator in 2015 and AFSC insurance adjusters verified it a good tool for effectively simulating hail damage. The procedure for damage is consistent except different levels of damage are obtained by slowing down or speeding up the tractor as well as increasing or decreasing the number of passes."
   ]
  },
  {
   "cell_type": "code",
   "execution_count": 12,
   "metadata": {
    "scrolled": true
   },
   "outputs": [
    {
     "data": {
      "image/jpeg": "[encoded data removed]",
      "text/html": [
       "\n",
       "        <iframe\n",
       "            width=\"800\"\n",
       "            height=\"300\"\n",
       "            src=\"https://www.youtube.com/embed/qg9VAm5ni8E\"\n",
       "            frameborder=\"0\"\n",
       "            allowfullscreen\n",
       "        ></iframe>\n",
       "        "
      ],
      "text/plain": [
       "<IPython.lib.display.YouTubeVideo at 0x7fbdfbffa518>"
      ]
     },
     "execution_count": 12,
     "metadata": {},
     "output_type": "execute_result"
    }
   ],
   "source": [
    "from IPython.display import YouTubeVideo\n",
    "YouTubeVideo('qg9VAm5ni8E', width=800, height=300)"
   ]
  },
  {
   "cell_type": "code",
   "execution_count": 8,
   "metadata": {
    "scrolled": true
   },
   "outputs": [
    {
     "data": {
      "text/html": [
       "<img src=\"https://i.ytimg.com/vi/Akd7Ycs8f4g/maxresdefault.jpg\" width=\"1000\" height=\"300\"/>"
      ],
      "text/plain": [
       "<IPython.core.display.Image object>"
      ]
     },
     "execution_count": 8,
     "metadata": {},
     "output_type": "execute_result"
    }
   ],
   "source": [
    "from IPython.display import Image\n",
    "Image(url=\"https://i.ytimg.com/vi/Akd7Ycs8f4g/maxresdefault.jpg\", width=1000, height=300)"
   ]
  },
  {
   "cell_type": "markdown",
   "metadata": {},
   "source": [
    "## Setting up the Experiment\n",
    "\n",
    "### Experimental Design:"
   ]
  },
  {
   "cell_type": "code",
   "execution_count": 10,
   "metadata": {},
   "outputs": [
    {
     "data": {
      "image/png": "[encoded data removed]",
      "text/plain": [
       "<Figure size 432x288 with 1 Axes>"
      ]
     },
     "metadata": {
      "needs_background": "light"
     },
     "output_type": "display_data"
    }
   ],
   "source": [
    "import matplotlib.pyplot as plt\n",
    "import matplotlib.image as mpimg\n",
    "\n",
    "img=mpimg.imread('Picture1.png')\n",
    "imgplot = plt.imshow(img)                ##HELP with image import"
   ]
  },
  {
   "cell_type": "markdown",
   "metadata": {},
   "source": [
    "### First! Lets get familiar with Agricultural Research terminology! \n",
    "\n",
    "**Block:** The horizontal rows in the photo above are the Blocks. There is four rows which means there is four Blocks. \n",
    "\n",
    "**Plot:** Each individual sqaure in the photo above represents a plot. In total, the above photo has 108 plots. \n",
    "\n",
    "*Each **block** has 27 plots. **Plots** are labeled in 100's for the first Block, 200's for the second block, 300's for the third block and 400's for the fourth block.* "
   ]
  },
  {
   "cell_type": "markdown",
   "metadata": {},
   "source": [
    "### Factorial Randomized Block Design\n",
    "\n",
    "Let's break this design down so you can understand it. \n",
    "\n",
    "**Factorial** refers to three independent variables to consider:\n",
    "   \n",
    "    1. The timing of the simulated hail damage. \n",
    "        \n",
    "    2. The level of damage. \n",
    "      \n",
    "    3. The recovery products applied to damaged crop.\n",
    " \n",
    "Each independent variable has three different levels:\n",
    "\n",
    "    1. The timing of the simulated hail damage.         \n",
    "        * 0% damage level\n",
    "        * 33% damage level\n",
    "        * 67% damage level\n",
    "    \n",
    "    2. The level of damage.         \n",
    "        * 0% damage       \n",
    "        * 33% damage\n",
    "        * 67% damage\n",
    "    \n",
    "    3. The recovery products applied to damaged crop.        \n",
    "        * no fungicide and no nutrient blend        \n",
    "        * fungicide application       \n",
    "        * nutrient blend application\n",
    "\n",
    "Fill in the blanks for practice:"
   ]
  },
  {
   "cell_type": "code",
   "execution_count": 15,
   "metadata": {},
   "outputs": [
    {
     "data": {
      "text/html": [
       "    <style>\n",
       "        #list {\n",
       "            margin: 20px 0;\n",
       "            padding: 0;\n",
       "        }\n",
       "        #list li {\n",
       "            list-style: none;\n",
       "            margin: 5px 0;\n",
       "        }\n",
       "\n",
       "        .energy {\n",
       "            font-family: 'Courier New', Courier, monospace;\n",
       "            font-size: 15px;\n",
       "        }\n",
       "\n",
       "        .answerSelect {\n",
       "            margin: 10px 10px;\n",
       "        }\n",
       "\n",
       "        .correct {\n",
       "            color: green;\n",
       "            font-size: 25px;\n",
       "            display: none;\n",
       "        }\n",
       "\n",
       "        .wrong {\n",
       "            color: red;\n",
       "            font-size: 25px;\n",
       "            display: none;\n",
       "        }\n",
       "\n",
       "        .ansBtn {\n",
       "            cursor: pointer;\n",
       "            border: solid black 1px;\n",
       "            background: #d3d3d3;\n",
       "            padding: 10px 5px;\n",
       "            border-radius: 0px;\n",
       "            font-family: arial;\n",
       "            font-size: 20px;\n",
       "        }\n",
       "\n",
       "        .ansBtn:hover {\n",
       "            background: #f3f3f3;\n",
       "        }\n",
       "    </style>\n",
       "    \n",
       "    <body>\n",
       "    <div style=\"height: 300px\">\n",
       "        <ul id=\"list\">\n",
       "            <li>\n",
       "            <label for=\"q1\">1)There are ______ number of blocks in the experiment.</label>\n",
       "                <select name=\"q1\" id=\"q1\" class=\"answerSelect\">\n",
       "                    <option value=\"default\" selected>Select an Answer</option>\n",
       "                    <option value=\"1\">One</option>\n",
       "                    <option value=\"4\">Four</option>\n",
       "                    <option value=\"6\">Six</option>\n",
       "                    <option value=\"27\">Twenty-Seven</option>\n",
       "                </select>\n",
       "                <span class=\"correct\" id=\"Q1C\">&#10003</span>\n",
       "                <span class=\"wrong\" id=\"Q1W\">&#10007</span>\n",
       "            </li>\n",
       "            <li>\n",
       "            <label for=\"q2\">2)There are ______ number of plots PER BLOCK.</label>\n",
       "                <select name=\"q2\" id=\"q2\" class=\"answerSelect\">\n",
       "                    <option value=\"default\" selected>Select an Answer</option>\n",
       "                    <option value=\"1\">One</option>\n",
       "                    <option value=\"4\">Four</option>\n",
       "                    <option value=\"6\">Six</option>\n",
       "                    <option value=\"27\">Twenty-Seven</option>\n",
       "                </select>\n",
       "                <span class=\"correct\" id=\"Q2C\">&#10003</span>\n",
       "                <span class=\"wrong\" id=\"Q2W\">&#10007</span>\n",
       "            </li>\n",
       "            <li>\n",
       "            <label for=\"q3\">3) 4 blocks _______ 27 plots per block = ______ total plots.</label>\n",
       "                <select name=\"q3\" id=\"q3\" class=\"answerSelect\">\n",
       "                    <option value=\"default\" selected>Select an Answer</option>\n",
       "                    <option value=\"+, 31\">+, 31</option>\n",
       "                    <option value=\"-, -23\">-, -23</option>\n",
       "                    <option value=\"x, 108\">x, 108</option>\n",
       "                    <option value=\"x, 122\">x, 122</option>\n",
       "                </select>\n",
       "                <span class=\"correct\" id=\"Q3C\">&#10003</span>\n",
       "                <span class=\"wrong\" id=\"Q3W\">&#10007</span>\n",
       "            </li>\n",
       "            <li>\n",
       "            <label for=\"q4\">4) ____ damage timings x ____ damage levels x ____ recovery products)</label>\n",
       "                <select name=\"q4\" id=\"q4\" class=\"answerSelect\">\n",
       "                    <option value=\"default\" selected>Select an Answer</option>\n",
       "                    <option value=\"3, 3, 3\">3, 3, 3</option>\n",
       "                    <option value=\"3, 3, 2\">3, 3, 2</option>\n",
       "                    <option value=\"1, 3, 2\">1, 3, 2</option>\n",
       "                    <option value=\"1, 2, 3\">1, 2, 3</option>\n",
       "                </select>\n",
       "                <span class=\"correct\" id=\"Q4C\">&#10003</span>\n",
       "                <span class=\"wrong\" id=\"Q4W\">&#10007</span>\n",
       "            </li>\n",
       "            <li>\n",
       "            <label for=\"q5\">5)Which of the following is an independent variable?</label>\n",
       "                <select name=\"q5\" id=\"q5\" class=\"answerSelect\">\n",
       "                    <option value=\"default\" selected>Select an Answer</option>\n",
       "                    <option value=\"Seeding rate\">Seeding rate</option>\n",
       "                    <option value=\"The level of damage\">The level of damage</option>\n",
       "                    <option value=\"Weather conditions\">Weather conditions</option>\n",
       "                    <option value=\"The time of day the damage happens\">The time of day the damage happens</option>\n",
       "                </select>\n",
       "                <span class=\"correct\" id=\"Q5C\">&#10003</span>\n",
       "                <span class=\"wrong\" id=\"Q5W\">&#10007</span>\n",
       "            </li>\n",
       "        </ul>\n",
       "        <span class=\"ansBtn\" id=\"ansBtn\" onclick=\"checkAns()\">Check Answers!</span>\n",
       "    </div>\n",
       "    \n",
       "    <script src=\"main2.js\"></script>\n",
       "</body>\n"
      ],
      "text/plain": [
       "<IPython.core.display.HTML object>"
      ]
     },
     "metadata": {},
     "output_type": "display_data"
    }
   ],
   "source": [
    "%%html\n",
    "    <style>\n",
    "        #list {\n",
    "            margin: 20px 0;\n",
    "            padding: 0;\n",
    "        }\n",
    "        #list li {\n",
    "            list-style: none;\n",
    "            margin: 5px 0;\n",
    "        }\n",
    "\n",
    "        .energy {\n",
    "            font-family: 'Courier New', Courier, monospace;\n",
    "            font-size: 15px;\n",
    "        }\n",
    "\n",
    "        .answerSelect {\n",
    "            margin: 10px 10px;\n",
    "        }\n",
    "\n",
    "        .correct {\n",
    "            color: green;\n",
    "            font-size: 25px;\n",
    "            display: none;\n",
    "        }\n",
    "\n",
    "        .wrong {\n",
    "            color: red;\n",
    "            font-size: 25px;\n",
    "            display: none;\n",
    "        }\n",
    "\n",
    "        .ansBtn {\n",
    "            cursor: pointer;\n",
    "            border: solid black 1px;\n",
    "            background: #d3d3d3;\n",
    "            padding: 10px 5px;\n",
    "            border-radius: 0px;\n",
    "            font-family: arial;\n",
    "            font-size: 20px;\n",
    "        }\n",
    "\n",
    "        .ansBtn:hover {\n",
    "            background: #f3f3f3;\n",
    "        }\n",
    "    </style>\n",
    "    \n",
    "    <body>\n",
    "    <div style=\"height: 300px\">\n",
    "        <ul id=\"list\">\n",
    "            <li>\n",
    "            <label for=\"q1\">1)There are ______ number of blocks in the experiment.</label>\n",
    "                <select name=\"q1\" id=\"q1\" class=\"answerSelect\">\n",
    "                    <option value=\"default\" selected>Select an Answer</option>\n",
    "                    <option value=\"1\">One</option>\n",
    "                    <option value=\"4\">Four</option>\n",
    "                    <option value=\"6\">Six</option>\n",
    "                    <option value=\"27\">Twenty-Seven</option>\n",
    "                </select>\n",
    "                <span class=\"correct\" id=\"Q1C\">&#10003</span>\n",
    "                <span class=\"wrong\" id=\"Q1W\">&#10007</span>\n",
    "            </li>\n",
    "            <li>\n",
    "            <label for=\"q2\">2)There are ______ number of plots PER BLOCK.</label>\n",
    "                <select name=\"q2\" id=\"q2\" class=\"answerSelect\">\n",
    "                    <option value=\"default\" selected>Select an Answer</option>\n",
    "                    <option value=\"1\">One</option>\n",
    "                    <option value=\"4\">Four</option>\n",
    "                    <option value=\"6\">Six</option>\n",
    "                    <option value=\"27\">Twenty-Seven</option>\n",
    "                </select>\n",
    "                <span class=\"correct\" id=\"Q2C\">&#10003</span>\n",
    "                <span class=\"wrong\" id=\"Q2W\">&#10007</span>\n",
    "            </li>\n",
    "            <li>\n",
    "            <label for=\"q3\">3) 4 blocks _______ 27 plots per block = ______ total plots.</label>\n",
    "                <select name=\"q3\" id=\"q3\" class=\"answerSelect\">\n",
    "                    <option value=\"default\" selected>Select an Answer</option>\n",
    "                    <option value=\"+, 31\">+, 31</option>\n",
    "                    <option value=\"-, -23\">-, -23</option>\n",
    "                    <option value=\"x, 108\">x, 108</option>\n",
    "                    <option value=\"x, 122\">x, 122</option>\n",
    "                </select>\n",
    "                <span class=\"correct\" id=\"Q3C\">&#10003</span>\n",
    "                <span class=\"wrong\" id=\"Q3W\">&#10007</span>\n",
    "            </li>\n",
    "            <li>\n",
    "            <label for=\"q4\">4) ____ damage timings x ____ damage levels x ____ recovery products)</label>\n",
    "                <select name=\"q4\" id=\"q4\" class=\"answerSelect\">\n",
    "                    <option value=\"default\" selected>Select an Answer</option>\n",
    "                    <option value=\"3, 3, 3\">3, 3, 3</option>\n",
    "                    <option value=\"3, 3, 2\">3, 3, 2</option>\n",
    "                    <option value=\"1, 3, 2\">1, 3, 2</option>\n",
    "                    <option value=\"1, 2, 3\">1, 2, 3</option>\n",
    "                </select>\n",
    "                <span class=\"correct\" id=\"Q4C\">&#10003</span>\n",
    "                <span class=\"wrong\" id=\"Q4W\">&#10007</span>\n",
    "            </li>\n",
    "            <li>\n",
    "            <label for=\"q5\">5)Which of the following is an independent variable?</label>\n",
    "                <select name=\"q5\" id=\"q5\" class=\"answerSelect\">\n",
    "                    <option value=\"default\" selected>Select an Answer</option>\n",
    "                    <option value=\"Seeding rate\">Seeding rate</option>\n",
    "                    <option value=\"The level of damage\">The level of damage</option>\n",
    "                    <option value=\"Weather conditions\">Weather conditions</option>\n",
    "                    <option value=\"The time of day the damage happens\">The time of day the damage happens</option>\n",
    "                </select>\n",
    "                <span class=\"correct\" id=\"Q5C\">&#10003</span>\n",
    "                <span class=\"wrong\" id=\"Q5W\">&#10007</span>\n",
    "            </li>\n",
    "        </ul>\n",
    "        <span class=\"ansBtn\" id=\"ansBtn\" onclick=\"checkAns()\">Check Answers!</span>\n",
    "    </div>\n",
    "    \n",
    "    <script src=\"main2.js\"></script>\n",
    "</body>"
   ]
  },
  {
   "cell_type": "markdown",
   "metadata": {},
   "source": [
    "**Randomized** means the three treatments are randomly distributed among the 27 plots in each of the 4 blocks. \n",
    "\n",
    "*RANDOMIZATION INTERACTIVE ACTIVITY:*\n",
    "\n",
    "Materials:\n",
    "* Three pieces of paper, all different colours\n",
    "* Scissors \n",
    "* Pencil\n",
    "* One piece of blank, white paper\n",
    "\n",
    "Procedure: \n",
    "1. Divide your piece of blank, white paper into a grid that is 4 horizontal blocks and 27 vertical plots, reference the map above to aid the accuracy of your drawing. You are mimic-ing the field map we learned about above.\n",
    "2. Cut the each piece of paper into 3 sections.\n",
    "3. Label the first colour of paper with the three different levels of damage:\n",
    "    * 0% damage level\n",
    "    * 33% damage level\n",
    "    * 67% damage level\n",
    "4. Label the second colour of paper with the three different timings of damage:\n",
    "    * early season timing\n",
    "    * mid season timing\n",
    "    * late season timing\n",
    "5. Label the third colour of paper with the three diffferent recovery products: \n",
    "    * no fungicide and no nutrient blend        \n",
    "    * fungicide application       \n",
    "    * nutrient blend application\n",
    "6. Turn the nine pieces of paper face down and mix them around. Randomly choose one piece of paper from the firt colour of paper, one from the second colour of paper and one from the last colour of paper.    \n",
    "7. Assign the treatment you **randomized** to one plot in each of the four blocks.\n",
    "8. Do this a few times until you understand the randomization of treatements to plots.\n",
    "\n",
    "Learning Outcome: \n",
    "\n",
    "\n"
   ]
  },
  {
   "cell_type": "code",
   "execution_count": 13,
   "metadata": {},
   "outputs": [
    {
     "data": {
      "image/jpeg": "[encoded data removed]",
      "text/html": [
       "\n",
       "        <iframe\n",
       "            width=\"800\"\n",
       "            height=\"400\"\n",
       "            src=\"https://www.youtube.com/embed/mPWYLXb1Z7I\"\n",
       "            frameborder=\"0\"\n",
       "            allowfullscreen\n",
       "        ></iframe>\n",
       "        "
      ],
      "text/plain": [
       "<IPython.lib.display.YouTubeVideo at 0x7fbdfc00b2b0>"
      ]
     },
     "execution_count": 13,
     "metadata": {},
     "output_type": "execute_result"
    }
   ],
   "source": [
    "from IPython.display import YouTubeVideo\n",
    "YouTubeVideo('mPWYLXb1Z7I', width=800, height=400)"
   ]
  },
  {
   "cell_type": "markdown",
   "metadata": {},
   "source": [
    "Each independent variable had three different levels or types of product. Every The blend of nutrients was advertised to promote proper plant recovery and in the experiment the label rate of the product was applied. The last recovery product was the fungicide (Prosaro). The label rate was applied. Fungicide was a recovery product following hail damage because immediately after hail occurs a crop becomes increasingly susceptible to disease. The water that accompanies a hail storm could be a potential disease vector, and damaged leaf, stem, and root tissues may be more prone to infection than healthy tissues. The general research hypothesis regarding systemic fungicides was that they contribute to the healing of a crop after hail damage."
   ]
  },
  {
   "cell_type": "code",
   "execution_count": 20,
   "metadata": {},
   "outputs": [
    {
     "data": {
      "text/html": [
       "\n",
       "        <iframe\n",
       "            width=\"800\"\n",
       "            height=\"400\"\n",
       "            src=\"https://www.youtube.com/embed/SJ1Cbo_Ho0o?t=42\"\n",
       "            frameborder=\"0\"\n",
       "            allowfullscreen\n",
       "        ></iframe>\n",
       "        "
      ],
      "text/plain": [
       "<IPython.lib.display.YouTubeVideo at 0x7fc5b88c6ef0>"
      ]
     },
     "execution_count": 20,
     "metadata": {},
     "output_type": "execute_result"
    }
   ],
   "source": [
    "from IPython.display import YouTubeVideo\n",
    "YouTubeVideo('SJ1Cbo_Ho0o?t=42', width=800, height=400)"
   ]
  },
  {
   "cell_type": "code",
   "execution_count": 21,
   "metadata": {},
   "outputs": [
    {
     "data": {
      "text/html": [
       "\n",
       "        <iframe\n",
       "            width=\"800\"\n",
       "            height=\"400\"\n",
       "            src=\"https://www.youtube.com/embed/nHVEE1cU6Fc?t=209\"\n",
       "            frameborder=\"0\"\n",
       "            allowfullscreen\n",
       "        ></iframe>\n",
       "        "
      ],
      "text/plain": [
       "<IPython.lib.display.YouTubeVideo at 0x7fc5b88c66a0>"
      ]
     },
     "execution_count": 21,
     "metadata": {},
     "output_type": "execute_result"
    }
   ],
   "source": [
    "from IPython.display import YouTubeVideo\n",
    "YouTubeVideo('nHVEE1cU6Fc?t=209', width=800, height=400)"
   ]
  },
  {
   "cell_type": "code",
   "execution_count": null,
   "metadata": {},
   "outputs": [],
   "source": []
  }
 ],
 "metadata": {
  "kernelspec": {
   "display_name": "Python 3",
   "language": "python",
   "name": "python3"
  },
  "language_info": {
   "codemirror_mode": {
    "name": "ipython",
    "version": 3
   },
   "file_extension": ".py",
   "mimetype": "text/x-python",
   "name": "python",
   "nbconvert_exporter": "python",
   "pygments_lexer": "ipython3",
   "version": "3.6.8"
  }
 },
 "nbformat": 4,
 "nbformat_minor": 2
}
