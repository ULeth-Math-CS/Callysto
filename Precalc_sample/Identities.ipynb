{
 "cells": [
  {
   "cell_type": "code",
   "execution_count": 1,
   "metadata": {
    "collapsed": false,
    "deletable": true,
    "editable": true
   },
   "outputs": [
    {
     "data": {
      "text/html": [
       "<link href=\"http://mathbook.pugetsound.edu/beta/mathbook-content.css\" rel=\"stylesheet\" type=\"text/css\" />\n",
       "<link href=\"https://aimath.org/mathbook/mathbook-add-on.css\" rel=\"stylesheet\" type=\"text/css\" />\n",
       "<link href=\"https://fonts.googleapis.com/css?family=Open+Sans:400,400italic,600,600italic\" rel=\"stylesheet\" type=\"text/css\" />\n",
       "<link href=\"https://fonts.googleapis.com/css?family=Inconsolata:400,700&subset=latin,latin-ext\" rel=\"stylesheet\" type=\"text/css\" /><!-- Hide this cell. -->\n",
       "<script>\n",
       "var cell = $(\".container .cell\").eq(0), ia = cell.find(\".input_area\")\n",
       "if (cell.find(\".toggle-button\").length == 0) {\n",
       "ia.after(\n",
       "    $('<button class=\"toggle-button\">Toggle hidden code</button>').click(\n",
       "        function (){ ia.toggle() }\n",
       "        )\n",
       "    )\n",
       "ia.hide()\n",
       "}\n",
       "</script>"
      ],
      "text/plain": [
       "<IPython.core.display.HTML object>"
      ]
     },
     "metadata": {},
     "output_type": "display_data"
    }
   ],
   "source": [
    "%%html\n",
    "<link href=\"http://mathbook.pugetsound.edu/beta/mathbook-content.css\" rel=\"stylesheet\" type=\"text/css\" />\n",
    "<link href=\"https://aimath.org/mathbook/mathbook-add-on.css\" rel=\"stylesheet\" type=\"text/css\" />\n",
    "<link href=\"https://fonts.googleapis.com/css?family=Open+Sans:400,400italic,600,600italic\" rel=\"stylesheet\" type=\"text/css\" />\n",
    "<link href=\"https://fonts.googleapis.com/css?family=Inconsolata:400,700&subset=latin,latin-ext\" rel=\"stylesheet\" type=\"text/css\" /><!-- Hide this cell. -->\n",
    "<script>\n",
    "var cell = $(\".container .cell\").eq(0), ia = cell.find(\".input_area\")\n",
    "if (cell.find(\".toggle-button\").length == 0) {\n",
    "ia.after(\n",
    "    $('<button class=\"toggle-button\">Toggle hidden code</button>').click(\n",
    "        function (){ ia.toggle() }\n",
    "        )\n",
    "    )\n",
    "ia.hide()\n",
    "}\n",
    "</script>\n"
   ]
  },
  {
   "cell_type": "markdown",
   "metadata": {
    "deletable": true,
    "editable": true
   },
   "source": [
    "**Important:** to view this notebook properly you will need to execute the cell above, which assumes you have an Internet connection.  It should already be selected, or place your cursor anywhere above to select.  Then press the \"Run\" button in the menu bar above (the right-pointing arrowhead), or press Shift-Enter on your keyboard."
   ]
  },
  {
   "cell_type": "markdown",
   "metadata": {
    "deletable": true,
    "editable": true
   },
   "source": [
    "$\n",
    "\\newcommand{\\lt}{<}\n",
    "\\newcommand{\\gt}{>}\n",
    "\\newcommand{\\amp}{&}\n",
    "$"
   ]
  },
  {
   "cell_type": "markdown",
   "metadata": {
    "deletable": true,
    "editable": true
   },
   "source": [
    "<div class=\"mathbook-content\"><h2 class=\"heading hide-type\" alt=\"Section 8.4 Trigonometric Identities\"><span class=\"type\">Section</span><span class=\"codenumber\">8.4</span><span class=\"title\">Trigonometric Identities</span></h2><a href=\"Identities.ipynb\" class=\"permalink\">¶</a></div>"
   ]
  },
  {
   "cell_type": "markdown",
   "metadata": {
    "deletable": true,
    "editable": true
   },
   "source": [
    "<div class=\"mathbook-content\"></div>"
   ]
  },
  {
   "cell_type": "markdown",
   "metadata": {
    "deletable": true,
    "editable": true
   },
   "source": [
    "<div class=\"mathbook-content\"><p id=\"p-7498\">In <a href=\"CircularFunctions.ipynb\" class=\"xref\" alt=\"Section 8.3 The Six Circular Functions and Fundamental Identities\" title=\"Section 8.3 The Six Circular Functions and Fundamental Identities\">Section 8.3</a>, we saw the utility of the Pythagorean Identities in <a href=\"CircularFunctions.ipynb#pythids\" class=\"xref\" alt=\"Theorem 8.3.9 The Pythagorean Identities\" title=\"Theorem 8.3.9 The Pythagorean Identities\">Theorem 8.3.9</a> along with the Quotient and Reciprocal Identities in <a href=\"CircularFunctions.ipynb#recipquotid\" class=\"xref\" alt=\"Theorem 8.3.3 Reciprocal and Quotient Identities\" title=\"Theorem 8.3.3 Reciprocal and Quotient Identities\">Theorem 8.3.3</a>. Not only did these identities help us compute the values of the circular functions for angles, they were also useful in simplifying expressions involving the circular functions. In this section, we introduce several collections of identities which have uses in this course and beyond. Our first set of identities is the “Even / Odd” identities.</p></div>"
   ]
  },
  {
   "cell_type": "markdown",
   "metadata": {
    "deletable": true,
    "editable": true
   },
   "source": [
    "<div class=\"mathbook-content\"><article class=\"aside-like\" id=\"aside-113\"><p id=\"p-7499\">As mentioned at the end of <a href=\"TheUnitCircle.ipynb\" class=\"xref\" alt=\"Section 8.2 The Unit Circle: Sine and Cosine\" title=\"Section 8.2 The Unit Circle: Sine and Cosine\">Section 8.2</a>, properties of the circular functions when thought of as functions of angles in radian measure hold equally well if we view these functions as functions of real numbers. Not surprisingly, the Even / Odd properties of the circular functions are so named because they identify cosine and secant as even functions, while the remaining four circular functions are odd. (See <a href=\"GraphsofFunctions.ipynb\" class=\"xref\" alt=\"Section 2.5 Graphs of Functions\" title=\"Section 2.5 Graphs of Functions\">Section 2.5</a>.)</p></article></div>"
   ]
  },
  {
   "cell_type": "markdown",
   "metadata": {
    "deletable": true,
    "editable": true
   },
   "source": [
    "<div class=\"mathbook-content\"><article class=\"theorem-like\" id=\"evenodd\"><h6 class=\"heading\"><span class=\"type\">Theorem</span><span class=\"codenumber\">8.4.1</span><span class=\"title\">Even / Odd Identities</span></h6><p id=\"p-7500\">For all applicable angles $\\theta\\text{,}$  </p><ul class=\"disc\"><li id=\"li-2081\"><p id=\"p-7501\">$\\cos(-\\theta) = \\cos(\\theta)$</p></li><li id=\"li-2082\"><p id=\"p-7502\">$\\sin(-\\theta) = -\\sin(\\theta)$</p></li><li id=\"li-2083\"><p id=\"p-7503\">$\\tan(-\\theta) = -\\tan(\\theta)$</p></li><li id=\"li-2084\"><p id=\"p-7504\">$\\sec(-\\theta) = \\sec(\\theta)$</p></li><li id=\"li-2085\"><p id=\"p-7505\">$\\csc(-\\theta) = -\\csc(\\theta)$</p></li><li id=\"li-2086\"><p id=\"p-7506\">$\\cot(-\\theta) = -\\cot(\\theta)$</p></li></ul></article></div>"
   ]
  },
  {
   "cell_type": "markdown",
   "metadata": {
    "deletable": true,
    "editable": true
   },
   "source": [
    "<div class=\"mathbook-content\"><p id=\"p-7507\">In light of the Quotient and Reciprocal Identities, <a href=\"CircularFunctions.ipynb#recipquotid\" class=\"xref\" alt=\"Theorem 8.3.3 Reciprocal and Quotient Identities\" title=\"Theorem 8.3.3 Reciprocal and Quotient Identities\">Theorem 8.3.3</a>, it suffices to show $\\cos(-\\theta) = \\cos(\\theta)$ and $\\sin(-\\theta) = -\\sin(\\theta)\\text{.}$ The remaining four circular functions can be expressed in terms of $\\cos(\\theta)$ and $\\sin(\\theta)$ so the proofs of their Even / Odd Identities are left as exercises. Consider an angle $\\theta$ plotted in standard position. Let $\\theta_{0}$ be the angle coterminal with $\\theta$ with $0 \\leq \\theta_{0} \\lt 2\\pi\\text{.}$ (We can construct the angle $\\theta_{0}$ by rotating counter-clockwise from the positive $x$-axis to the terminal side of $\\theta$ as pictured in <a href=\"Identities.ipynb#fig_identities1\" class=\"xref\" alt=\"Figure 8.4.2 \" title=\"Figure 8.4.2 \">Figure 8.4.2</a>.) Since $\\theta$ and $\\theta_{0}$ are coterminal, $\\cos(\\theta) = \\cos(\\theta_{0})$ and $\\sin(\\theta) = \\sin(\\theta_{0})\\text{.}$</p></div>"
   ]
  },
  {
   "cell_type": "markdown",
   "metadata": {
    "deletable": true,
    "editable": true
   },
   "source": [
    "<div class=\"mathbook-content\"><figure class=\"figure-like\" id=\"fig_identities1\"><div class=\"sidebyside\" id=\"sidebyside-63\"><div class=\"sbsrow\" style=\"margin-left:5%;margin-right:5%;\"><div class=\"sbspanel\" style=\"width:44.4444444444444%;justify-content:flex-start;\"><img src=\"identity-1.svg\" width=\"100%\" alt=\"\" /></div><div class=\"sbspanel\" style=\"width:44.4444444444444%;justify-content:flex-start;\"><img src=\"identity-2.svg\" width=\"100%\" alt=\"\" /></div></div></div><figcaption><span class=\"type\">Figure</span><span class=\"codenumber\">8.4.2</span>Establishing <a href=\"Identities.ipynb#evenodd\" class=\"xref\" alt=\"Theorem 8.4.1 Even / Odd Identities\" title=\"Theorem 8.4.1 Even / Odd Identities\">Theorem 8.4.1</a></figcaption></figure></div>"
   ]
  },
  {
   "cell_type": "markdown",
   "metadata": {
    "deletable": true,
    "editable": true
   },
   "source": [
    "<div class=\"mathbook-content\"><p id=\"p-7508\">We now consider the angles $-\\theta$ and $-\\theta_{0}\\text{.}$ Since $\\theta$ is coterminal with $\\theta_{0}\\text{,}$ there is some integer $k$ so that $\\theta = \\theta_{0} + 2\\pi \\cdot k\\text{.}$ Therefore, $-\\theta = -\\theta_{0} - 2\\pi \\cdot k = -\\theta_{0} + 2\\pi \\cdot(-k)\\text{.}$ Since $k$ is an integer, so is $(-k)\\text{,}$ which means $-\\theta$ is coterminal with $-\\theta_{0}\\text{.}$ Hence, $\\cos(-\\theta) = \\cos(-\\theta_{0})$ and $\\sin(-\\theta) = \\sin(-\\theta_{0})\\text{.}$ Let $P$ and $Q$ denote the points on the terminal sides of $\\theta_{0}$ and $-\\theta_{0}\\text{,}$ respectively, which lie on the Unit Circle. By definition, the coordinates of $P$ are $(\\cos(\\theta_{0}),\\sin(\\theta_{0}))$ and the coordinates of $Q$ are $(\\cos(-\\theta_{0}),\\sin(-\\theta_{0}))\\text{.}$ Since $\\theta_{0}$ and $-\\theta_{0}$ sweep out congruent central sectors of the Unit Circle, it follows that the points $P$ and $Q$ are symmetric about the $x$-axis. Thus, $\\cos(-\\theta_{0}) = \\cos(\\theta_{0})$ and $\\sin(-\\theta_{0}) = -\\sin(\\theta_{0})\\text{.}$ Since the cosines and sines of $\\theta_{0}$ and $-\\theta_{0}$ are the same as those for $\\theta$ and $-\\theta\\text{,}$ respectively, we get $\\cos(-\\theta) = \\cos(\\theta)$ and $\\sin(-\\theta) = -\\sin(\\theta)\\text{,}$ as required. The Even / Odd Identities are readily demonstrated using any of the “common angles” noted in <a href=\"TheUnitCircle.ipynb\" class=\"xref\" alt=\"Section 8.2 The Unit Circle: Sine and Cosine\" title=\"Section 8.2 The Unit Circle: Sine and Cosine\">Section 8.2</a>. Their true utility, however, lies not in computation, but in simplifying expressions involving the circular functions. In fact, our next batch of identities makes heavy use of the Even / Odd Identities.</p></div>"
   ]
  },
  {
   "cell_type": "markdown",
   "metadata": {
    "deletable": true,
    "editable": true
   },
   "source": [
    "<div class=\"mathbook-content\"><article class=\"theorem-like\" id=\"cosinesumdifference\"><h6 class=\"heading\"><span class=\"type\">Theorem</span><span class=\"codenumber\">8.4.3</span><span class=\"title\">Sum and Difference Identities for Cosine</span></h6><p id=\"p-7509\">For all angles $\\alpha$ and $\\beta\\text{,}$   </p><ul class=\"disc\"><li id=\"li-2087\"><p id=\"p-7510\">$\\cos(\\alpha + \\beta) = \\cos(\\alpha) \\cos(\\beta) - \\sin(\\alpha) \\sin(\\beta)$</p></li><li id=\"li-2088\"><p id=\"p-7511\">$\\cos(\\alpha - \\beta) = \\cos(\\alpha) \\cos(\\beta) + \\sin(\\alpha) \\sin(\\beta)$</p></li></ul></article></div>"
   ]
  },
  {
   "cell_type": "markdown",
   "metadata": {
    "deletable": true,
    "editable": true
   },
   "source": [
    "<div class=\"mathbook-content\"><p id=\"p-7512\">We first prove the result for differences. As in the proof of the Even / Odd Identities, we can reduce the proof for general angles $\\alpha$ and $\\beta$ to angles $\\alpha_{0}$ and $\\beta_{0}\\text{,}$ coterminal with $\\alpha$ and $\\beta\\text{,}$ respectively, each of which measure between $0$ and $2\\pi$ radians. Since $\\alpha$ and $\\alpha_{0}$ are coterminal, as are $\\beta$ and $\\beta_{0}\\text{,}$ it follows that $\\alpha - \\beta$ is coterminal with $\\alpha_{0} - \\beta_{0}\\text{.}$ Consider the case in <a href=\"Identities.ipynb#fig_identities2\" class=\"xref\" alt=\"Figure 8.4.4 \" title=\"Figure 8.4.4 \">Figure 8.4.4</a> where $\\alpha_{0} \\geq \\beta_{0}\\text{.}$</p></div>"
   ]
  },
  {
   "cell_type": "markdown",
   "metadata": {
    "deletable": true,
    "editable": true
   },
   "source": [
    "<div class=\"mathbook-content\"><figure class=\"figure-like\" id=\"fig_identities2\"><div class=\"sidebyside\" id=\"sidebyside-64\"><div class=\"sbsrow\" style=\"margin-left:5%;margin-right:5%;\"><div class=\"sbspanel\" style=\"width:44.4444444444444%;justify-content:flex-start;\"><img src=\"identity-3.svg\" width=\"100%\" alt=\"\" /></div><div class=\"sbspanel\" style=\"width:44.4444444444444%;justify-content:flex-start;\"><img src=\"identity-4.svg\" width=\"100%\" alt=\"\" /></div></div></div><figcaption><span class=\"type\">Figure</span><span class=\"codenumber\">8.4.4</span>Establishing <a href=\"Identities.ipynb#cosinesumdifference\" class=\"xref\" alt=\"Theorem 8.4.3 Sum and Difference Identities for Cosine\" title=\"Theorem 8.4.3 Sum and Difference Identities for Cosine\">Theorem 8.4.3</a></figcaption></figure></div>"
   ]
  },
  {
   "cell_type": "markdown",
   "metadata": {
    "deletable": true,
    "editable": true
   },
   "source": [
    "<div class=\"mathbook-content\"><article class=\"aside-like\" id=\"aside-114\"><p id=\"p-7513\">In <a href=\"Identities.ipynb#fig_identities2\" class=\"xref\" alt=\"Figure 8.4.4 \" title=\"Figure 8.4.4 \">Figure 8.4.4</a>, the <em class=\"emphasis\">tri</em>angles $POQ$ and $AOB$ are congruent, which is even better. However, $\\alpha_{0} - \\beta_{0}$ could be $0$ or it could be $\\pi\\text{,}$ neither of which makes a triangle. It could also be larger than $\\pi\\text{,}$ which makes a triangle, just not the one we've drawn. You should think about those three cases.</p></article></div>"
   ]
  },
  {
   "cell_type": "markdown",
   "metadata": {
    "deletable": true,
    "editable": true
   },
   "source": [
    "<div class=\"mathbook-content\"><p id=\"p-7514\">Since the angles $POQ$ and $AOB$ are congruent, the distance between $P$ and $Q$ is equal to the distance between $A$ and $B\\text{.}$ The distance formula, <a href=\"CartesianPlane.ipynb#distanceformula\" class=\"xref\" alt=\"Key Idea 1.3.10 The Distance Formula\" title=\"Key Idea 1.3.10 The Distance Formula\">Equation 1.3.10</a>, yields</p><div class=\"displaymath\">\n",
    "\\begin{gather*}\n",
    "\\end{gather*}\n",
    "</div></div>"
   ]
  },
  {
   "cell_type": "markdown",
   "metadata": {
    "deletable": true,
    "editable": true
   },
   "source": [
    "<div class=\"mathbook-content\"><p id=\"p-7515\">Squaring both sides, we expand the left hand side of this equation as</p><div class=\"displaymath\">\n",
    "\\begin{align*}\n",
    "(\\cos(\\alpha_{0}) - \\cos(\\beta_{0}))^2 + (\\sin(\\alpha_{0})\\amp  - \\sin(\\beta_{0}))^2\\\\\n",
    "\\amp  = \\cos^2(\\alpha_{0}) - 2\\cos(\\alpha_{0})\\cos(\\beta_{0}) + \\cos^2(\\beta_{0})\\\\\n",
    "\\amp   + \\sin^2(\\alpha_{0}) - 2\\sin(\\alpha_{0})\\sin(\\beta_{0})  +  \\sin^2(\\beta_{0})\\\\\n",
    "\\amp  =  \\cos^2(\\alpha_{0}) + \\sin^2(\\alpha_{0}) + \\cos^2(\\beta_{0}) + \\sin^2(\\beta_{0})\\\\\n",
    "\\amp   -  2\\cos(\\alpha_{0})\\cos(\\beta_{0}) - 2\\sin(\\alpha_{0})\\sin(\\beta_{0})\n",
    "\\end{align*}\n",
    "</div></div>"
   ]
  },
  {
   "cell_type": "markdown",
   "metadata": {
    "deletable": true,
    "editable": true
   },
   "source": [
    "<div class=\"mathbook-content\"><p id=\"p-7516\">From the Pythagorean Identities we have $\\cos^2(\\alpha_{0}) + \\sin^2(\\alpha_{0}) = 1$ and $\\cos^2(\\beta_{0}) + \\sin^2(\\beta_{0}) = 1\\text{,}$ so</p><div class=\"displaymath\">\n",
    "\\begin{align*}\n",
    "(\\cos(\\alpha_{0}) - \\cos(\\beta_{0}))^2 +\\amp  (\\sin(\\alpha_{0}) - \\sin(\\beta_{0}))^2\\\\\n",
    "\\amp  = 2  - 2\\cos(\\alpha_{0})\\cos(\\beta_{0}) - 2\\sin(\\alpha_{0})\\sin(\\beta_{0})\n",
    "\\end{align*}\n",
    "</div></div>"
   ]
  },
  {
   "cell_type": "markdown",
   "metadata": {
    "deletable": true,
    "editable": true
   },
   "source": [
    "<div class=\"mathbook-content\"><p id=\"p-7517\">Turning our attention to the right hand side of our equation, we find</p><div class=\"displaymath\">\n",
    "\\begin{align*}\n",
    "(\\cos(\\alpha_{0} - \\beta_{0}) - 1)^2 + \\amp  (\\sin(\\alpha_{0} - \\beta_{0}) - 0)^2\\\\\n",
    "\\amp  =  \\cos^2(\\alpha_{0} - \\beta_{0}) - 2\\cos(\\alpha_{0} - \\beta_{0}) + 1 + \\sin^2(\\alpha_{0} - \\beta_{0})\\\\\n",
    "\\amp  =  1 +  \\cos^2(\\alpha_{0} - \\beta_{0}) + \\sin^2(\\alpha_{0} - \\beta_{0}) - 2\\cos(\\alpha_{0} - \\beta_{0})\n",
    "\\end{align*}\n",
    "</div></div>"
   ]
  },
  {
   "cell_type": "markdown",
   "metadata": {
    "deletable": true,
    "editable": true
   },
   "source": [
    "<div class=\"mathbook-content\"><p id=\"p-7518\">Once again, we simplify $\\cos^2(\\alpha_{0} - \\beta_{0}) + \\sin^2(\\alpha_{0} - \\beta_{0})= 1\\text{,}$ so that</p><div class=\"displaymath\">\n",
    "\\begin{equation*}\n",
    "\\begin{array}{rcl}\n",
    "(\\cos(\\alpha_{0} - \\beta_{0}) - 1)^2 + (\\sin(\\alpha_{0} - \\beta_{0}) - 0)^2 \\amp  = \\amp  2  - 2\\cos(\\alpha_{0} - \\beta_{0})\n",
    "\\end{array}\n",
    "\\end{equation*}\n",
    "</div></div>"
   ]
  },
  {
   "cell_type": "markdown",
   "metadata": {
    "deletable": true,
    "editable": true
   },
   "source": [
    "<div class=\"mathbook-content\"><p id=\"p-7519\">Putting it all together, we get $2 - 2\\cos(\\alpha_{0})\\cos(\\beta_{0}) - 2\\sin(\\alpha_{0})\\sin(\\beta_{0}) = 2 - 2\\cos(\\alpha_{0} - \\beta_{0})\\text{,}$ which simplifies to: $\\cos(\\alpha_{0} - \\beta_{0}) = \\cos(\\alpha_{0})\\cos(\\beta_{0}) + \\sin(\\alpha_{0})\\sin(\\beta_{0})\\text{.}$ Since $\\alpha$ and $\\alpha_{0}\\text{,}$ $\\beta$ and $\\beta_{0}$ and $\\alpha - \\beta$ and $\\alpha_{0}- \\beta_{0}$ are all coterminal pairs of angles, we have $\\cos(\\alpha - \\beta) = \\cos(\\alpha) \\cos(\\beta) + \\sin(\\alpha) \\sin(\\beta)\\text{.}$ For the case where $\\alpha_{0} \\leq \\beta_{0}\\text{,}$ we can apply the above argument to the angle $\\beta_{0} - \\alpha_{0}$ to obtain the identity $\\cos(\\beta_{0} - \\alpha_{0}) = \\cos(\\beta_{0})\\cos(\\alpha_{0}) + \\sin(\\beta_{0})\\sin(\\alpha_{0})\\text{.}$ Applying the Even Identity of cosine, we get $\\cos(\\beta_{0} - \\alpha_{0}) = \\cos( - (\\alpha_{0} - \\beta_{0})) = \\cos(\\alpha_{0} - \\beta_{0})\\text{,}$ and we get the identity in this case, too.</p></div>"
   ]
  },
  {
   "cell_type": "markdown",
   "metadata": {
    "deletable": true,
    "editable": true
   },
   "source": [
    "<div class=\"mathbook-content\"><p id=\"p-7520\">To get the sum identity for cosine, we use the difference formula along with the Even/Odd Identities</p><div class=\"displaymath\">\n",
    "\\begin{align*}\n",
    "\\cos(\\alpha + \\beta) = \\cos(\\alpha - (-\\beta)) \\amp = \\cos(\\alpha) \\cos(-\\beta) + \\sin(\\alpha) \\sin(-\\beta)\\\\\n",
    "\\amp  = \\cos(\\alpha) \\cos(\\beta) - \\sin(\\alpha) \\sin(\\beta)\n",
    "\\end{align*}\n",
    "</div></div>"
   ]
  },
  {
   "cell_type": "markdown",
   "metadata": {
    "deletable": true,
    "editable": true
   },
   "source": [
    "<div class=\"mathbook-content\"><p id=\"p-7521\">We put these newfound identities to good use in the following example.</p></div>"
   ]
  },
  {
   "cell_type": "markdown",
   "metadata": {
    "deletable": true,
    "editable": true
   },
   "source": [
    "<div class=\"mathbook-content\"><article class=\"example-like\" id=\"cosinesumdiffex\"><h6 class=\"heading\"><span class=\"type\">Example</span><span class=\"codenumber\">8.4.5</span><span class=\"title\">Using Theorem 8.4.3</span></h6><ol class=\"decimal\"><li id=\"li-2089\"><p id=\"p-7522\">Find the exact value of $\\cos\\left(15^{\\circ}\\right)\\text{.}$</p></li><li id=\"li-2090\"><p id=\"p-7523\">Verify the identity: $\\cos\\left(\\frac{\\pi}{2} - \\theta\\right) = \\sin(\\theta)\\text{.}$</p></li></ol><div class=\"solutions\"><span class=\"solution\"><a knowl=\"\" class=\"id-ref\" refid=\"hk-solution-149\" id=\"solution-149\"><span class=\"type\">Solution</span></a></span><div id=\"hk-solution-149\" class=\"hidden-content tex2jax_ignore\"><span class=\"solution\"><ol id=\"p-7524\" class=\"decimal\"><li id=\"li-2091\"><p id=\"p-7525\">In order to use <a href=\"Identities.ipynb#cosinesumdifference\" class=\"xref\" alt=\"Theorem 8.4.3 Sum and Difference Identities for Cosine\" title=\"Theorem 8.4.3 Sum and Difference Identities for Cosine\">Theorem 8.4.3</a> to find $\\cos\\left(15^{\\circ}\\right)\\text{,}$ we need to write $15^{\\circ}$ as a sum or difference of angles whose cosines and sines we know. One way to do so is to write $15^{\\circ} = 45^{\\circ} - 30^{\\circ}\\text{.}$</p><div class=\"displaymath\">\n",
    "\\begin{equation*}\n",
    "\\begin{array}{rcl}\n",
    "\\cos\\left(15^{\\circ}\\right) \\amp  = \\amp  \\cos\\left(45^{\\circ} - 30^{\\circ} \\right) \\\\\n",
    "\\amp  = \\amp  \\cos\\left(45^{\\circ}\\right)\\cos\\left(30^{\\circ} \\right) + \\sin\\left(45^{\\circ}\\right)\\sin\\left(30^{\\circ} \\right) \\\\\n",
    "\\amp  = \\amp  \\left( \\dfrac{\\sqrt{2}}{2} \\right)\\left( \\dfrac{\\sqrt{3}}{2} \\right)  +  \\left( \\dfrac{\\sqrt{2}}{2} \\right)\\left( \\dfrac{1}{2} \\right)\\\\\n",
    "\\amp  = \\amp   \\dfrac{\\sqrt{6}+ \\sqrt{2}}{4}\n",
    "\\end{array}\n",
    "\\end{equation*}\n",
    "</div></li><li id=\"li-2092\"><p id=\"p-7526\">In a straightforward application of  <a href=\"Identities.ipynb#cosinesumdifference\" class=\"xref\" alt=\"Theorem 8.4.3 Sum and Difference Identities for Cosine\" title=\"Theorem 8.4.3 Sum and Difference Identities for Cosine\">Theorem 8.4.3</a>, we find</p><div class=\"displaymath\">\n",
    "\\begin{equation*}\n",
    "\\begin{array}{rcl}\n",
    "\\cos\\left(\\dfrac{\\pi}{2} - \\theta\\right) \\amp  = \\amp  \\cos\\left(\\dfrac{\\pi}{2}\\right)\\cos\\left(\\theta\\right) + \\sin\\left(\\dfrac{\\pi}{2}\\right)\\sin\\left(\\theta \\right) \\\\\n",
    "\\amp  = \\amp  \\left( 0 \\right)\\left( \\cos(\\theta) \\right)  +  \\left( 1 \\right)\\left( \\sin(\\theta) \\right) \\\\\n",
    "\\amp  = \\amp  \\sin(\\theta)\n",
    "\\end{array}\n",
    "\\end{equation*}\n",
    "</div></li></ol></span></div></div></article></div>"
   ]
  },
  {
   "cell_type": "markdown",
   "metadata": {
    "deletable": true,
    "editable": true
   },
   "source": [
    "<div class=\"mathbook-content\"><p id=\"p-7527\">The identity verified in <a href=\"Identities.ipynb#cosinesumdiffex\" class=\"xref\" alt=\"Example 8.4.5 Using Theorem 8.4.3\" title=\"Example 8.4.5 Using Theorem 8.4.3\">Example 8.4.5</a>, namely, $\\cos\\left(\\frac{\\pi}{2} - \\theta\\right) = \\sin(\\theta)\\text{,}$ is the first of the celebrated “cofunction” identities. These identities were first hinted at in <a href=\"TheUnitCircle.ipynb#cofunctionforeshadowing\" class=\"xref\" alt=\"Exercise 8.2.106 \" title=\"Exercise 8.2.106 \">Exercise 8.2.106</a> in <a href=\"TheUnitCircle.ipynb\" class=\"xref\" alt=\"Section 8.2 The Unit Circle: Sine and Cosine\" title=\"Section 8.2 The Unit Circle: Sine and Cosine\">Section 8.2</a>. From $\\sin(\\theta) = \\cos\\left(\\frac{\\pi}{2} - \\theta\\right)\\text{,}$ we get:</p><div class=\"displaymath\">\n",
    "\\begin{equation*}\n",
    "\\sin\\left(\\dfrac{\\pi}{2} - \\theta\\right) = \\cos\\left(\\dfrac{\\pi}{2} -\\left[\\dfrac{\\pi}{2} - \\theta\\right]\\right) = \\cos(\\theta)\\text{,}\n",
    "\\end{equation*}\n",
    "</div><p>which says, in words, that the “co”sine of an angle is the sine of its “co”mplement. Now that these identities have been established for cosine and sine, the remaining circular functions follow suit. The remaining proofs are left as exercises.</p></div>"
   ]
  },
  {
   "cell_type": "markdown",
   "metadata": {
    "deletable": true,
    "editable": true
   },
   "source": [
    "<div class=\"mathbook-content\"><article class=\"theorem-like\" id=\"cofunctionidentities\"><h6 class=\"heading\"><span class=\"type\">Theorem</span><span class=\"codenumber\">8.4.6</span><span class=\"title\">Cofunction Identities</span></h6><p id=\"p-7528\">For all applicable angles $\\theta\\text{,}$  </p><ul class=\"disc\"><li id=\"li-2093\"><p id=\"p-7529\">$\\cos\\left(\\dfrac{\\pi}{2} - \\theta \\right) = \\sin(\\theta)$</p></li><li id=\"li-2094\"><p id=\"p-7530\">$\\sin\\left(\\dfrac{\\pi}{2} - \\theta \\right) = \\cos(\\theta)$</p></li><li id=\"li-2095\"><p id=\"p-7531\">$\\sec\\left(\\dfrac{\\pi}{2} - \\theta \\right) = \\csc(\\theta)$</p></li><li id=\"li-2096\"><p id=\"p-7532\">$\\csc\\left(\\dfrac{\\pi}{2} - \\theta \\right) = \\sec(\\theta)$</p></li><li id=\"li-2097\"><p id=\"p-7533\">$\\tan\\left(\\dfrac{\\pi}{2} - \\theta \\right) = \\cot(\\theta)$</p></li><li id=\"li-2098\"><p id=\"p-7534\">$\\cot\\left(\\dfrac{\\pi}{2} - \\theta \\right) = \\tan(\\theta)$</p></li></ul></article></div>"
   ]
  },
  {
   "cell_type": "markdown",
   "metadata": {
    "deletable": true,
    "editable": true
   },
   "source": [
    "<div class=\"mathbook-content\"><p id=\"p-7535\">With the Cofunction Identities in place, we are now in the position to derive the sum and difference formulas for sine. To derive the sum formula for sine, we convert to cosines using a cofunction identity, then expand using the difference formula for cosine</p><div class=\"displaymath\">\n",
    "\\begin{equation*}\n",
    "\\begin{array}{rcl}\n",
    "\\sin(\\alpha + \\beta) \\amp  = \\amp  \\cos\\left( \\dfrac{\\pi}{2} - (\\alpha + \\beta) \\right) \\\\\n",
    "\\amp  = \\amp  \\cos\\left( \\left[\\dfrac{\\pi}{2} - \\alpha \\right] - \\beta \\right) \\\\\n",
    "\\amp  = \\amp  \\cos\\left(\\dfrac{\\pi}{2} - \\alpha \\right) \\cos(\\beta) + \\sin\\left(\\dfrac{\\pi}{2} - \\alpha \\right)\\sin(\\beta) \\\\\n",
    "\\amp  = \\amp  \\sin(\\alpha) \\cos(\\beta) + \\cos(\\alpha) \\sin(\\beta)\n",
    "\\end{array}\n",
    "\\end{equation*}\n",
    "</div></div>"
   ]
  },
  {
   "cell_type": "markdown",
   "metadata": {
    "deletable": true,
    "editable": true
   },
   "source": [
    "<div class=\"mathbook-content\"><p id=\"p-7536\">We can derive the difference formula for sine by rewriting $\\sin(\\alpha - \\beta)$ as $\\sin(\\alpha + (-\\beta))$ and using the sum formula and the Even / Odd Identities. Again, we leave the details to the reader.</p></div>"
   ]
  },
  {
   "cell_type": "markdown",
   "metadata": {
    "deletable": true,
    "editable": true
   },
   "source": [
    "<div class=\"mathbook-content\"><article class=\"theorem-like\" id=\"sinesumdifference\"><h6 class=\"heading\"><span class=\"type\">Theorem</span><span class=\"codenumber\">8.4.7</span><span class=\"title\">Sum and Difference Identities for Sine</span></h6><p id=\"p-7537\">For all angles $\\alpha$ and $\\beta\\text{,}$   </p><ul class=\"disc\"><li id=\"li-2099\"><p id=\"p-7538\">$\\sin(\\alpha + \\beta) = \\sin(\\alpha) \\cos(\\beta) + \\cos(\\alpha) \\sin(\\beta)$</p></li><li id=\"li-2100\"><p id=\"p-7539\">$\\sin(\\alpha - \\beta) = \\sin(\\alpha) \\cos(\\beta) - \\cos(\\alpha) \\sin(\\beta)$</p></li></ul></article></div>"
   ]
  },
  {
   "cell_type": "markdown",
   "metadata": {
    "deletable": true,
    "editable": true
   },
   "source": [
    "<div class=\"mathbook-content\"><article class=\"example-like\" id=\"sinesumanddiffex\"><h6 class=\"heading\"><span class=\"type\">Example</span><span class=\"codenumber\">8.4.8</span><span class=\"title\">Using Theorem 8.4.7</span></h6><ol class=\"decimal\"><li id=\"li-2101\"><p id=\"p-7540\">Find the exact value of $\\sin\\left(\\frac{19 \\pi}{12}\\right)$</p></li><li id=\"li-2102\"><p id=\"p-7541\">If $\\alpha$ is a Quadrant II angle with $\\sin(\\alpha) = \\frac{5}{13}\\text{,}$ and $\\beta$ is a Quadrant III angle with $\\tan(\\beta) = 2\\text{,}$ find $\\sin(\\alpha - \\beta)\\text{.}$</p></li><li id=\"li-2103\"><p id=\"p-7542\">Derive a formula for $\\tan(\\alpha + \\beta)$ in terms of $\\tan(\\alpha)$ and $\\tan(\\beta)\\text{.}$</p></li></ol><div class=\"solutions\"><span class=\"solution\"><a knowl=\"\" class=\"id-ref\" refid=\"hk-solution-150\" id=\"solution-150\"><span class=\"type\">Solution</span></a></span><div id=\"hk-solution-150\" class=\"hidden-content tex2jax_ignore\"><span class=\"solution\"><ol id=\"p-7543\" class=\"decimal\"><li id=\"li-2104\"><p id=\"p-7544\">As in  <a href=\"Identities.ipynb#cosinesumdiffex\" class=\"xref\" alt=\"Example 8.4.5 Using Theorem 8.4.3\" title=\"Example 8.4.5 Using Theorem 8.4.3\">Example 8.4.5</a>, we need to write the angle $\\frac{19 \\pi}{12}$ as a sum or difference of common angles. The denominator of $12$ suggests a combination of angles with denominators $3$ and $4\\text{.}$ One such combination is $\\; \\frac{19 \\pi}{12} = \\frac{4 \\pi}{3} + \\frac{\\pi}{4}\\text{.}$ Applying <a href=\"Identities.ipynb#sinesumdifference\" class=\"xref\" alt=\"Theorem 8.4.7 Sum and Difference Identities for Sine\" title=\"Theorem 8.4.7 Sum and Difference Identities for Sine\">Theorem 8.4.7</a>, we get</p><div class=\"displaymath\">\n",
    "\\begin{equation*}\n",
    "\\begin{array}{rcl}\n",
    "\\sin\\left(\\dfrac{19 \\pi}{12}\\right) \\amp  = \\amp  \\sin\\left(\\dfrac{4 \\pi}{3} + \\dfrac{\\pi}{4} \\right) \\\\\n",
    "\\amp  = \\amp  \\sin\\left(\\dfrac{4 \\pi}{3} \\right)\\cos\\left(\\dfrac{\\pi}{4} \\right) + \\cos\\left(\\dfrac{4 \\pi}{3} \\right)\\sin\\left(\\dfrac{\\pi}{4} \\right) \\\\\n",
    "\\amp  = \\amp  \\left( -\\dfrac{\\sqrt{3}}{2} \\right)\\left( \\dfrac{\\sqrt{2}}{2} \\right)  +  \\left( -\\dfrac{1}{2} \\right)\\left( \\dfrac{\\sqrt{2}}{2} \\right) \\\\\n",
    "\\amp  = \\amp   \\dfrac{-\\sqrt{6}- \\sqrt{2}}{4}\n",
    "\\end{array}\n",
    "\\end{equation*}\n",
    "</div></li><li id=\"li-2105\"><p id=\"p-7545\">In order to find $\\sin(\\alpha - \\beta)$ using <a href=\"Identities.ipynb#sinesumdifference\" class=\"xref\" alt=\"Theorem 8.4.7 Sum and Difference Identities for Sine\" title=\"Theorem 8.4.7 Sum and Difference Identities for Sine\">Theorem 8.4.7</a>, we need to find $\\cos(\\alpha)$ and both $\\cos(\\beta)$ and $\\sin(\\beta)\\text{.}$ To find $\\cos(\\alpha)\\text{,}$ we use the Pythagorean Identity $\\cos^2(\\alpha) + \\sin^2(\\alpha) = 1\\text{.}$ Since $\\sin(\\alpha) = \\frac{5}{13}\\text{,}$ we have $\\cos^{2}(\\alpha) + \\left(\\frac{5}{13}\\right)^2 = 1\\text{,}$ or $\\cos(\\alpha) = \\pm \\frac{12}{13}\\text{.}$ Since $\\alpha$ is a Quadrant II angle, $\\cos(\\alpha) = -\\frac{12}{13}\\text{.}$ We now set about finding $\\cos(\\beta)$ and $\\sin(\\beta)\\text{.}$ We have several ways to proceed, but the Pythagorean Identity $1 + \\tan^{2}(\\beta) = \\sec^{2}(\\beta)$ is a quick way to get $\\sec(\\beta)\\text{,}$ and hence, $\\cos(\\beta)\\text{.}$ With $\\tan(\\beta) = 2\\text{,}$ we get $1 + 2^2 = \\sec^{2}(\\beta)$ so that $\\sec(\\beta) = \\pm \\sqrt{5}\\text{.}$ Since $\\beta$ is a Quadrant III angle, we choose $\\sec(\\beta) =  -\\sqrt{5}$ so $\\cos(\\beta) = \\frac{1}{\\sec(\\beta)} = \\frac{1}{-\\sqrt{5}} = -\\frac{\\sqrt{5}}{5}\\text{.}$ We now need to determine $\\sin(\\beta)\\text{.}$ We could use The Pythagorean Identity $\\cos^{2}(\\beta) + \\sin^{2}(\\beta) = 1\\text{,}$ but we opt instead to use a quotient identity. From $\\tan(\\beta) = \\frac{\\sin(\\beta)}{\\cos(\\beta)}\\text{,}$ we have $\\sin(\\beta) = \\tan(\\beta) \\cos(\\beta)$ so we get $\\sin(\\beta) = (2) \\left( -\\frac{\\sqrt{5}}{5}\\right) = - \\frac{2 \\sqrt{5}}{5}\\text{.}$ We now have all the pieces needed to find $\\sin(\\alpha - \\beta)\\text{:}$</p><div class=\"displaymath\">\n",
    "\\begin{equation*}\n",
    "\\begin{array}{rcl} \n",
    "\\sin(\\alpha - \\beta) \\amp   = \\amp  \\sin(\\alpha)\\cos(\\beta) - \\cos(\\alpha)\\sin(\\beta) \\\\\n",
    "\\amp  = \\amp  \\left( \\dfrac{5}{13} \\right)\\left( -\\dfrac{\\sqrt{5}}{5} \\right) - \\left( -\\dfrac{12}{13} \\right)\\left( - \\dfrac{2 \\sqrt{5}}{5} \\right) \\\\\n",
    "\\amp  = \\amp  -\\dfrac{29\\sqrt{5}}{65}\n",
    "\\end{array}\n",
    "\\end{equation*}\n",
    "</div></li><li id=\"li-2106\"><p id=\"p-7546\">We can start expanding $\\tan(\\alpha + \\beta)$ using a quotient identity and our sum formulas</p><div class=\"displaymath\">\n",
    "\\begin{equation*}\n",
    "\\begin{array}{rcl}\n",
    "\\tan(\\alpha + \\beta) \\amp  = \\amp  \\dfrac{\\sin(\\alpha + \\beta)}{\\cos(\\alpha + \\beta)} \\\\\n",
    "\\amp  = \\amp  \\dfrac{\\sin(\\alpha) \\cos(\\beta) + \\cos(\\alpha) \\sin(\\beta)}{\\cos(\\alpha) \\cos(\\beta) - \\sin(\\alpha) \\sin(\\beta)}\n",
    "\\end{array}\n",
    "\\end{equation*}\n",
    "</div><p>Since  $\\tan(\\alpha) = \\frac{\\sin(\\alpha)}{\\cos(\\alpha)}$ and $\\tan(\\beta) = \\frac{\\sin(\\beta)}{\\cos(\\beta)}\\text{,}$ it looks as though if we divide both numerator and denominator by $\\cos(\\alpha) \\cos(\\beta)$ we will have what we want</p><div class=\"displaymath\">\n",
    "\\begin{equation*}\n",
    "\\begin{array}{rcl}\n",
    "\\tan(\\alpha + \\beta) \\amp  = \\amp  \\dfrac{\\sin(\\alpha) \\cos(\\beta) + \\cos(\\alpha) \\sin(\\beta)}{\\cos(\\alpha) \\cos(\\beta) - \\sin(\\alpha) \\sin(\\beta)} \\cdot\\dfrac{\\dfrac{1}{\\cos(\\alpha) \\cos(\\beta)}}{\\dfrac{1}{\\cos(\\alpha) \\cos(\\beta)}}\\\\\n",
    "\\amp    \\amp  \\\\\n",
    "\\amp  = \\amp  \\dfrac{\\dfrac{\\sin(\\alpha) \\cos(\\beta)}{\\cos(\\alpha) \\cos(\\beta)} + \\dfrac{\\cos(\\alpha) \\sin(\\beta)}{\\cos(\\alpha) \\cos(\\beta)}}{\\dfrac{\\cos(\\alpha) \\cos(\\beta)}{\\cos(\\alpha) \\cos(\\beta)} - \\dfrac{\\sin(\\alpha) \\sin(\\beta)}{\\cos(\\alpha) \\cos(\\beta)}}\\\\\n",
    "\\amp    \\amp  \\\\\n",
    "\\amp  = \\amp  \\dfrac{\\dfrac{\\sin(\\alpha) \\cancel{\\cos(\\beta)}}{\\cos(\\alpha) \\cancel{\\cos(\\beta)}} + \\dfrac{\\cancel{\\cos(\\alpha)} \\sin(\\beta)}{\\cancel{\\cos(\\alpha)} \\cos(\\beta)}}{\\dfrac{\\cancel{\\cos(\\alpha)} \\cancel{\\cos(\\beta)}}{\\cancel{\\cos(\\alpha)} \\cancel{\\cos(\\beta)}} - \\dfrac{\\sin(\\alpha) \\sin(\\beta)}{\\cos(\\alpha) \\cos(\\beta)}}\\\\\n",
    "\\amp    \\amp  \\\\\n",
    "\\amp  = \\amp  \\dfrac{\\tan(\\alpha) + \\tan(\\beta)}{1 -\\tan(\\alpha) \\tan(\\beta)}\n",
    "\\end{array}\n",
    "\\end{equation*}\n",
    "</div><p><article class=\"aside-like\" id=\"aside-115\"><p id=\"p-7547\">Note: As with any trigonometric identity, this formula is limited to those cases where all of the tangents are defined.</p></article></p></li></ol></span></div></div></article></div>"
   ]
  },
  {
   "cell_type": "markdown",
   "metadata": {
    "deletable": true,
    "editable": true
   },
   "source": [
    "<div class=\"mathbook-content\"><p id=\"p-7548\">The formula developed in <a href=\"Identities.ipynb#sinesumanddiffex\" class=\"xref\" alt=\"Example 8.4.8 Using Theorem 8.4.7\" title=\"Example 8.4.8 Using Theorem 8.4.7\">Exercise 8.4.8</a> for $\\tan(\\alpha + \\beta)$ can be used to find a formula for $\\tan(\\alpha - \\beta)$ by rewriting the difference as a sum, $\\tan(\\alpha + (-\\beta))\\text{,}$ and the reader is encouraged to fill in the details. Below we summarize all of the sum and difference formulas for cosine, sine and tangent.</p></div>"
   ]
  },
  {
   "cell_type": "markdown",
   "metadata": {
    "deletable": true,
    "editable": true
   },
   "source": [
    "<div class=\"mathbook-content\"><article class=\"theorem-like\" id=\"circularsumdifference\"><h6 class=\"heading\"><span class=\"type\">Theorem</span><span class=\"codenumber\">8.4.9</span><span class=\"title\">Sum and Difference Identities</span></h6><p id=\"p-7549\">For all applicable angles $\\alpha$ and $\\beta\\text{,}$       </p><ul class=\"disc\"><li id=\"li-2107\"><p id=\"p-7550\">$\\cos(\\alpha \\pm \\beta) = \\cos(\\alpha) \\cos(\\beta) \\mp \\sin(\\alpha) \\sin(\\beta)$</p></li><li id=\"li-2108\"><p id=\"p-7551\">$\\sin(\\alpha \\pm \\beta) = \\sin(\\alpha) \\cos(\\beta) \\pm \\cos(\\alpha) \\sin(\\beta)$</p></li><li id=\"li-2109\"><p id=\"p-7552\">$\\tan(\\alpha \\pm \\beta) = \\dfrac{\\tan(\\alpha) \\pm \\tan(\\beta)}{1 \\mp \\tan(\\alpha) \\tan(\\beta)}$</p></li></ul></article></div>"
   ]
  },
  {
   "cell_type": "markdown",
   "metadata": {
    "deletable": true,
    "editable": true
   },
   "source": [
    "<div class=\"mathbook-content\"><p id=\"p-7553\">In the statement of <a href=\"Identities.ipynb#circularsumdifference\" class=\"xref\" alt=\"Theorem 8.4.9 Sum and Difference Identities\" title=\"Theorem 8.4.9 Sum and Difference Identities\">Theorem 8.4.9</a>, we have combined the cases for the sum “$+$” and difference “$-$” of angles into one formula. The convention here is that if you want the formula for the sum “$+$” of two angles, you use the top sign in the formula; for the difference, “$-$”, use the bottom sign. For example,</p><div class=\"displaymath\">\n",
    "\\begin{equation*}\n",
    "\\tan(\\alpha - \\beta) = \\dfrac{\\tan(\\alpha) - \\tan(\\beta)}{1 + \\tan(\\alpha) \\tan(\\beta)}\n",
    "\\end{equation*}\n",
    "</div></div>"
   ]
  },
  {
   "cell_type": "markdown",
   "metadata": {
    "deletable": true,
    "editable": true
   },
   "source": [
    "<div class=\"mathbook-content\"><p id=\"p-7554\">If we specialize the sum formulas in <a href=\"Identities.ipynb#circularsumdifference\" class=\"xref\" alt=\"Theorem 8.4.9 Sum and Difference Identities\" title=\"Theorem 8.4.9 Sum and Difference Identities\">Theorem 8.4.9</a> to the case when $\\alpha = \\beta\\text{,}$ we obtain the following “Double Angle” Identities.</p></div>"
   ]
  },
  {
   "cell_type": "markdown",
   "metadata": {
    "deletable": true,
    "editable": true
   },
   "source": [
    "<div class=\"mathbook-content\"><article class=\"theorem-like\" id=\"doubleangle\"><h6 class=\"heading\"><span class=\"type\">Theorem</span><span class=\"codenumber\">8.4.10</span><span class=\"title\">Double Angle Identities</span></h6><p id=\"p-7555\">For all applicable angles $\\theta\\text{,}$  </p><ul class=\"disc\"><li id=\"li-2110\"><p id=\"p-7556\">$\\cos(2\\theta) = \\left\\{ \\begin{array}{l} \\cos^{2}(\\theta) - \\sin^{2}(\\theta)\\\\ 2\\cos^{2}(\\theta) - 1 \\\\ 1-2\\sin^{2}(\\theta) \\end{array} \\right\\text{.}$</p></li><li id=\"li-2111\"><p id=\"p-7557\">$\\sin(2\\theta) = 2\\sin(\\theta)\\cos(\\theta)$</p></li><li id=\"li-2112\"><p id=\"p-7558\">$\\tan(2\\theta) = \\dfrac{2\\tan(\\theta)}{1 - \\tan^{2}(\\theta)}$</p></li></ul></article></div>"
   ]
  },
  {
   "cell_type": "markdown",
   "metadata": {
    "deletable": true,
    "editable": true
   },
   "source": [
    "<div class=\"mathbook-content\"><p id=\"p-7559\">The three different forms for $\\cos(2\\theta)$ can be explained by our ability to “exchange” squares of cosine and sine via the Pythagorean Identity $\\cos^{2}(\\theta) + \\sin^{2}(\\theta) = 1$ and we leave the details to the reader. It is interesting to note that to determine the value of $\\cos(2\\theta)\\text{,}$ only <em class=\"emphasis\">one</em> piece of information is required: either $\\cos(\\theta)$ or $\\sin(\\theta)\\text{.}$ To determine $\\sin(2\\theta)\\text{,}$ however, it appears that we must know both $\\sin(\\theta)$ and $\\cos(\\theta)\\text{.}$ In the next example, we show how we can find $\\sin(2\\theta)$ knowing just one piece of information, namely $\\tan(\\theta)\\text{.}$</p></div>"
   ]
  },
  {
   "cell_type": "markdown",
   "metadata": {
    "deletable": true,
    "editable": true
   },
   "source": [
    "<div class=\"mathbook-content\"><article class=\"example-like\" id=\"doubleangleex\"><h6 class=\"heading\"><span class=\"type\">Example</span><span class=\"codenumber\">8.4.11</span><span class=\"title\">Using Theorem 8.4.10</span></h6><ol class=\"decimal\"><li id=\"li-2113\"><p id=\"p-7560\">Suppose $P(-3,4)$ lies on the terminal side of $\\theta$ when $\\theta$ is plotted in standard position. Find $\\cos(2\\theta)$ and $\\sin(2\\theta)$ and determine the quadrant in which the terminal side of the angle $2\\theta$ lies when it is plotted in standard position.</p></li><li id=\"li-2114\"><p id=\"p-7561\">If $\\sin(\\theta) = x$ for $-\\frac{\\pi}{2} \\leq \\theta \\leq \\frac{\\pi}{2}\\text{,}$ find an expression for $\\sin(2\\theta)$ in terms of $x\\text{.}$</p></li><li id=\"doubleanglesinewtan\"><p id=\"p-7562\">Verify the identity: $\\sin(2\\theta) = \\dfrac{2\\tan(\\theta)}{1 + \\tan^{2}(\\theta)}\\text{.}$</p></li><li id=\"cosinepolynomial\"><p id=\"p-7563\">Express $\\cos(3\\theta)$ as a polynomial in terms of $\\cos(\\theta)\\text{.}$</p></li></ol><div class=\"solutions\"><span class=\"solution\"><a knowl=\"\" class=\"id-ref\" refid=\"hk-solution-151\" id=\"solution-151\"><span class=\"type\">Solution</span></a></span><div id=\"hk-solution-151\" class=\"hidden-content tex2jax_ignore\"><span class=\"solution\"><ol id=\"p-7564\" class=\"decimal\"><li id=\"li-2117\"><p id=\"p-7565\">Using <a href=\"TheUnitCircle.ipynb#cosinesinecircle\" class=\"xref\" alt=\"Theorem 8.2.20 Generalized sine and cosine\" title=\"Theorem 8.2.20 Generalized sine and cosine\">Theorem 8.2.20</a> from <a href=\"TheUnitCircle.ipynb\" class=\"xref\" alt=\"Section 8.2 The Unit Circle: Sine and Cosine\" title=\"Section 8.2 The Unit Circle: Sine and Cosine\">Section 8.2</a> with $x = -3$ and $y=4\\text{,}$ we find $r = \\sqrt{x^2+y^2} = 5\\text{.}$ Hence, $\\cos(\\theta) = -\\frac{3}{5}$ and $\\sin(\\theta) = \\frac{4}{5}\\text{.}$ Applying <a href=\"Identities.ipynb#doubleangle\" class=\"xref\" alt=\"Theorem 8.4.10 Double Angle Identities\" title=\"Theorem 8.4.10 Double Angle Identities\">Theorem 8.4.10</a>, we get $\\cos(2\\theta) = \\cos^{2}(\\theta) - \\sin^{2}(\\theta) = \\left(-\\frac{3}{5}\\right)^2 - \\left(\\frac{4}{5}\\right)^2 = -\\frac{7}{25}\\text{,}$ and $\\sin(2\\theta) = 2 \\sin(\\theta) \\cos(\\theta) = 2 \\left(\\frac{4}{5}\\right)\\left(-\\frac{3}{5}\\right) = -\\frac{24}{25}\\text{.}$ Since both cosine and sine of $2\\theta$ are negative, the terminal side of $2\\theta\\text{,}$ when plotted in standard position, lies in Quadrant III.</p></li><li id=\"li-2118\"><p id=\"p-7566\">If your first reaction to “$\\sin(\\theta) = x$” is “No it”s not, $\\cos(\\theta) = x\\text{!}$' then you have indeed learned something, and we take comfort in that. However, context is everything. Here, “$x$” is just a variable - it does not necessarily represent the $x$-coordinate of the point on The Unit Circle which lies on the terminal side of $\\theta\\text{,}$ assuming $\\theta$ is drawn in standard position. Here, $x$ represents the quantity $\\sin(\\theta)\\text{,}$ and what we wish to know is how to express $\\sin(2\\theta)$ in terms of $x\\text{.}$ Since $\\sin(2\\theta) = 2 \\sin(\\theta) \\cos(\\theta)\\text{,}$ we need to write $\\cos(\\theta)$ in terms of $x$ to finish the problem. We substitute $x = \\sin(\\theta)$ into the Pythagorean Identity, $\\cos^{2}(\\theta) + \\sin^{2}(\\theta) = 1\\text{,}$ to get $\\cos^{2}(\\theta) + x^2 = 1\\text{,}$ or $\\cos(\\theta) = \\pm \\sqrt{1-x^2}\\text{.}$ Since $-\\frac{\\pi}{2} \\leq \\theta \\leq \\frac{\\pi}{2}\\text{,}$ $\\cos(\\theta) \\geq 0\\text{,}$ and thus $\\cos(\\theta) = \\sqrt{1-x^2}\\text{.}$ Our final answer is $\\sin(2\\theta) = 2 \\sin(\\theta) \\cos(\\theta) = 2x\\sqrt{1-x^2}\\text{.}$</p></li><li id=\"li-2119\"><p id=\"p-7567\">We start with the right hand side of the identity and note that $1 + \\tan^{2}(\\theta) = \\sec^{2}(\\theta)\\text{.}$ From this point, we use the Reciprocal and Quotient Identities to rewrite $\\tan(\\theta)$ and $\\sec(\\theta)$ in terms of $\\cos(\\theta)$ and $\\sin(\\theta)\\text{:}$</p><div class=\"displaymath\">\n",
    "\\begin{equation*}\n",
    "\\begin{array}{rcl}\n",
    "\\dfrac{2\\tan(\\theta)}{1 + \\tan^{2}(\\theta)} \\amp  = \\amp  \\dfrac{2\\tan(\\theta)}{\\sec^{2}(\\theta)}= \\dfrac{2 \\left( \\dfrac{\\sin(\\theta)}{\\cos(\\theta)}\\right)}{\\dfrac{1}{\\cos^{2}(\\theta)}}= 2\\left( \\dfrac{\\sin(\\theta)}{\\cos(\\theta)}\\right) \\cos^{2}(\\theta) \\\\\n",
    "\\amp  = \\amp  2\\left( \\dfrac{\\sin(\\theta)}{\\cancel{\\cos(\\theta)}}\\right) \\cancel{\\cos(\\theta)} \\cos(\\theta) = 2\\sin(\\theta) \\cos(\\theta) = \\sin(2\\theta)\n",
    "\\end{array}\n",
    "\\end{equation*}\n",
    "</div></li><li id=\"li-2120\"><p id=\"p-7568\">In <a href=\"Identities.ipynb#doubleangle\" class=\"xref\" alt=\"Theorem 8.4.10 Double Angle Identities\" title=\"Theorem 8.4.10 Double Angle Identities\">Theorem 8.4.10</a>, the formula $\\cos(2\\theta) = 2\\cos^{2}(\\theta) - 1$ expresses $\\cos(2\\theta)$ as a polynomial in terms of $\\cos(\\theta)\\text{.}$ We are  now asked to find such an  identity for $\\cos(3\\theta)\\text{.}$ Using the sum formula for cosine, we begin with</p><div class=\"displaymath\">\n",
    "\\begin{equation*}\n",
    "\\begin{array}{rcl}\n",
    "\\cos(3\\theta) \\amp  = \\amp  \\cos(2\\theta + \\theta) \\\\\n",
    "\\amp  = \\amp  \\cos(2\\theta)\\cos(\\theta) - \\sin(2\\theta)\\sin(\\theta)\n",
    "\\end{array}\n",
    "\\end{equation*}\n",
    "</div><p>Our ultimate goal is to express the right hand side in terms of $\\cos(\\theta)$ only. We substitute $\\cos(2\\theta) = 2\\cos^{2}(\\theta) -1$ and $\\sin(2\\theta) = 2\\sin(\\theta)\\cos(\\theta)$ which yields</p><div class=\"displaymath\">\n",
    "\\begin{equation*}\n",
    "\\begin{array}{rcl}\n",
    "\\cos(3\\theta) \\amp  = \\amp   \\cos(2\\theta)\\cos(\\theta) - \\sin(2\\theta)\\sin(\\theta) \\\\\n",
    "\\amp  = \\amp  \\left(2\\cos^{2}(\\theta) - 1\\right) \\cos(\\theta) - \\left(2 \\sin(\\theta) \\cos(\\theta) \\right)\\sin(\\theta) \\\\ \n",
    "\\amp  = \\amp  2\\cos^{3}(\\theta)- \\cos(\\theta) - 2 \\sin^2(\\theta) \\cos(\\theta)\n",
    "\\end{array}\n",
    "\\end{equation*}\n",
    "</div><p>Finally, we exchange $\\sin^{2}(\\theta)$ for $1 - \\cos^{2}(\\theta)$ courtesy of the Pythagorean Identity, and get</p><div class=\"displaymath\">\n",
    "\\begin{equation*}\n",
    "\\begin{array}{rcl}\n",
    "\\cos(3\\theta) \\amp  = \\amp  2\\cos^{3}(\\theta)- \\cos(\\theta) - 2 \\sin^2(\\theta) \\cos(\\theta) \\\\\n",
    "\\amp  = \\amp  2\\cos^{3}(\\theta)- \\cos(\\theta) - 2 \\left(1 - \\cos^{2}(\\theta)\\right) \\cos(\\theta) \\\\\n",
    "\\amp  = \\amp  2\\cos^{3}(\\theta)- \\cos(\\theta) - 2\\cos(\\theta) + 2\\cos^{3}(\\theta) \\\\\n",
    "\\amp  = \\amp  4\\cos^{3}(\\theta)- 3\\cos(\\theta)\n",
    "\\end{array}\n",
    "\\end{equation*}\n",
    "</div><p>and we are done.</p></li></ol></span></div></div></article></div>"
   ]
  },
  {
   "cell_type": "markdown",
   "metadata": {
    "deletable": true,
    "editable": true
   },
   "source": [
    "<div class=\"mathbook-content\"><p id=\"p-7569\">In the last problem in <a href=\"Identities.ipynb#doubleangleex\" class=\"xref\" alt=\"Example 8.4.11 Using Theorem 8.4.10\" title=\"Example 8.4.11 Using Theorem 8.4.10\">Example 8.4.11</a>, we saw how we could rewrite $\\cos(3\\theta)$ as sums of powers of $\\cos(\\theta)\\text{.}$ In Calculus, we have occasion to do the reverse; that is, reduce the power of cosine and sine. Solving the identity $\\cos(2\\theta) = 2\\cos^{2}(\\theta) -1$ for $\\cos^{2}(\\theta)$ and the identity $\\cos(2\\theta) = 1 - 2\\sin^{2}(\\theta)$ for $\\sin^{2}(\\theta)$ results in the aptly-named “Power Reduction” formulas below.</p></div>"
   ]
  },
  {
   "cell_type": "markdown",
   "metadata": {
    "deletable": true,
    "editable": true
   },
   "source": [
    "<div class=\"mathbook-content\"><article class=\"theorem-like\" id=\"powerreduction\"><h6 class=\"heading\"><span class=\"type\">Theorem</span><span class=\"codenumber\">8.4.12</span><span class=\"title\">Power Reduction Formulas</span></h6><p id=\"p-7570\">For all angles $\\theta\\text{,}$  </p><ul class=\"disc\"><li id=\"li-2121\"><p id=\"p-7571\">$\\cos^{2}(\\theta) = \\dfrac{1 + \\cos(2\\theta)}{2}$</p></li><li id=\"li-2122\"><p id=\"p-7572\">$\\sin^{2}(\\theta) = \\dfrac{1 - \\cos(2\\theta)}{2}$</p></li></ul></article></div>"
   ]
  },
  {
   "cell_type": "markdown",
   "metadata": {
    "deletable": true,
    "editable": true
   },
   "source": [
    "<div class=\"mathbook-content\"><article class=\"example-like\" id=\"powerreductionex\"><h6 class=\"heading\"><span class=\"type\">Example</span><span class=\"codenumber\">8.4.13</span><span class=\"title\">Using Theorem 8.4.12</span></h6><p id=\"p-7573\">Rewrite $\\sin^{2}(\\theta) \\cos^{2}(\\theta)$ as a sum and difference of cosines to the first power.</p><div class=\"solutions\"><span class=\"solution\"><a knowl=\"\" class=\"id-ref\" refid=\"hk-solution-152\" id=\"solution-152\"><span class=\"type\">Solution</span></a></span><div id=\"hk-solution-152\" class=\"hidden-content tex2jax_ignore\"><span class=\"solution\"><p id=\"p-7574\">We begin with a straightforward application of <a href=\"Identities.ipynb#powerreduction\" class=\"xref\" alt=\"Theorem 8.4.12 Power Reduction Formulas\" title=\"Theorem 8.4.12 Power Reduction Formulas\">Theorem 8.4.12</a></p><div class=\"displaymath\">\n",
    "\\begin{equation*}\n",
    "\\begin{array}{rcl}\n",
    "\\sin^{2}(\\theta) \\cos^{2}(\\theta) \\amp  = \\amp  \\left( \\dfrac{1 - \\cos(2\\theta)}{2} \\right) \\left( \\dfrac{1 + \\cos(2\\theta)}{2} \\right) \\\\\n",
    "\\amp  = \\amp  \\dfrac{1}{4}\\left(1 - \\cos^{2}(2\\theta)\\right) \\\\ \n",
    "\\amp  = \\amp  \\dfrac{1}{4} - \\dfrac{1}{4}\\cos^{2}(2\\theta)\n",
    "\\end{array}\n",
    "\\end{equation*}\n",
    "</div><p id=\"p-7575\">Next, we apply the power reduction formula to $\\cos^{2}(2\\theta)$ to finish the reduction</p><div class=\"displaymath\">\n",
    "\\begin{equation*}\n",
    "\\begin{array}{rcl}\n",
    "\\sin^{2}(\\theta) \\cos^{2}(\\theta)  \\amp  = \\amp  \\dfrac{1}{4} - \\dfrac{1}{4}\\cos^{2}(2\\theta) \\\\\n",
    "\\amp  = \\amp  \\dfrac{1}{4} - \\dfrac{1}{4} \\left(\\dfrac{1 + \\cos(2(2\\theta))}{2}\\right) \\\\\n",
    "\\amp  = \\amp  \\dfrac{1}{4} - \\dfrac{1}{8}  - \\dfrac{1}{8}\\cos(4\\theta) \\\\\n",
    "\\amp  = \\amp  \\dfrac{1}{8} - \\dfrac{1}{8}\\cos(4\\theta)\n",
    "\\end{array}\n",
    "\\end{equation*}\n",
    "</div></span></div></div></article></div>"
   ]
  },
  {
   "cell_type": "markdown",
   "metadata": {
    "deletable": true,
    "editable": true
   },
   "source": [
    "<div class=\"mathbook-content\"><p id=\"p-7576\">Another application of the Power Reduction Formulas is the Half Angle Formulas. To start, we apply the Power Reduction Formula to $\\cos^{2}\\left(\\frac{\\theta}{2}\\right)$</p><div class=\"displaymath\">\n",
    "\\begin{equation*}\n",
    "\\cos^{2}\\left(\\dfrac{\\theta}{2}\\right) = \\dfrac{1 + \\cos\\left(2 \\left(\\frac{\\theta}{2}\\right)\\right)}{2} = \\dfrac{1 + \\cos(\\theta)}{2}\\text{.}\n",
    "\\end{equation*}\n",
    "</div></div>"
   ]
  },
  {
   "cell_type": "markdown",
   "metadata": {
    "deletable": true,
    "editable": true
   },
   "source": [
    "<div class=\"mathbook-content\"><p id=\"p-7577\">We can obtain a formula for $\\cos\\left(\\frac{\\theta}{2}\\right)$ by extracting square roots. In a similar fashion, we may obtain a half angle formula for sine, and by using a quotient formula, obtain a half angle formula for tangent. We summarize these formulas below.</p></div>"
   ]
  },
  {
   "cell_type": "markdown",
   "metadata": {
    "deletable": true,
    "editable": true
   },
   "source": [
    "<div class=\"mathbook-content\"><article class=\"theorem-like\" id=\"halfangle\"><h6 class=\"heading\"><span class=\"type\">Theorem</span><span class=\"codenumber\">8.4.14</span><span class=\"title\">Half Angle Formulas</span></h6><p id=\"p-7578\">For all applicable angles $\\theta\\text{,}$  </p><ul class=\"disc\"><li id=\"li-2123\"><p id=\"p-7579\">$\\cos\\left(\\dfrac{\\theta}{2}\\right) = \\pm \\sqrt{\\dfrac{1 + \\cos(\\theta)}{2}}$</p></li><li id=\"li-2124\"><p id=\"p-7580\">$\\sin\\left(\\dfrac{\\theta}{2}\\right) = \\pm \\sqrt{\\dfrac{1 - \\cos(\\theta)}{2}}$</p></li><li id=\"li-2125\"><p id=\"p-7581\">$\\tan\\left(\\dfrac{\\theta}{2}\\right) = \\pm \\sqrt{\\dfrac{1 - \\cos(\\theta)}{1+\\cos(\\theta)}}$</p></li></ul><p id=\"p-7582\">where the choice of $\\pm$ depends on the quadrant in which the terminal side of $\\dfrac{\\theta}{2}$ lies.</p></article></div>"
   ]
  },
  {
   "cell_type": "markdown",
   "metadata": {
    "deletable": true,
    "editable": true
   },
   "source": [
    "<div class=\"mathbook-content\"><article class=\"example-like\" id=\"ex_halfangle\"><h6 class=\"heading\"><span class=\"type\">Example</span><span class=\"codenumber\">8.4.15</span><span class=\"title\">Using Theorem 8.4.14</span></h6><ol class=\"decimal\"><li id=\"li-2126\"><p id=\"p-7583\">Use a half angle formula to find the exact value of $\\cos\\left(15^{\\circ}\\right)\\text{.}$</p></li><li id=\"li-2127\"><p id=\"p-7584\">Suppose $-\\pi \\leq \\theta \\leq 0$ with $\\cos(\\theta) = -\\frac{3}{5}\\text{.}$ Find $\\sin\\left(\\frac{\\theta}{2}\\right)\\text{.}$</p></li><li id=\"li-2128\"><p id=\"p-7585\">Use the identity given in <a href=\"Identities.ipynb#doubleanglesinewtan\" class=\"xref\" alt=\"Item 3 \" title=\"Item 3 \">number 3</a> of <a href=\"Identities.ipynb#doubleangleex\" class=\"xref\" alt=\"Example 8.4.11 Using Theorem 8.4.10\" title=\"Example 8.4.11 Using Theorem 8.4.10\">Example 8.4.11</a> to derive the identity</p><div class=\"displaymath\">\n",
    "\\begin{equation*}\n",
    "\\tan\\left(\\dfrac{\\theta}{2}\\right) = \\dfrac{\\sin(\\theta)}{1+\\cos(\\theta)}\n",
    "\\end{equation*}\n",
    "</div></li></ol><div class=\"solutions\"><span class=\"solution\"><a knowl=\"\" class=\"id-ref\" refid=\"hk-solution-153\" id=\"solution-153\"><span class=\"type\">Solution</span></a></span><div id=\"hk-solution-153\" class=\"hidden-content tex2jax_ignore\"><span class=\"solution\"><ol id=\"p-7586\" class=\"decimal\"><li id=\"li-2129\"><p id=\"p-7587\">To use the half angle formula, we note that $15^{\\circ} = \\frac{30^{\\circ}}{2}$ and since $15^{\\circ}$ is a Quadrant I angle, its cosine is positive. Thus we have</p><div class=\"displaymath\">\n",
    "\\begin{equation*}\n",
    "\\begin{array}{rcl}\n",
    "\\cos\\left(15^{\\circ}\\right) \\amp  = \\amp   + \\sqrt{\\dfrac{1+\\cos\\left(30^{\\circ}\\right)}{2}} = \\sqrt{\\dfrac{1+\\frac{\\sqrt{3}}{2}}{2}}\\\\ \n",
    "\\amp  = \\amp  \\sqrt{\\dfrac{1+\\frac{\\sqrt{3}}{2}}{2}\\cdot \\dfrac{2}{2}} = \\sqrt{\\dfrac{2+\\sqrt{3}}{4}} = \\dfrac{\\sqrt{2+\\sqrt{3}}}{2}\n",
    "\\end{array}\n",
    "\\end{equation*}\n",
    "</div><p><article class=\"aside-like\" id=\"aside-116\"><p id=\"p-7588\">Note: Back in <a href=\"Identities.ipynb#cosinesumdiffex\" class=\"xref\" alt=\"Example 8.4.5 Using Theorem 8.4.3\" title=\"Example 8.4.5 Using Theorem 8.4.3\">Example 8.4.5</a>, we found $\\cos\\left(15^{\\circ}\\right)$ by using the difference formula for cosine. In that case, we determined $\\cos\\left(15^{\\circ}\\right) = \\frac{\\sqrt{6}+ \\sqrt{2}}{4}\\text{.}$ The reader is encouraged to prove that these two expressions are equal.</p></article></p></li><li id=\"li-2130\"><p id=\"p-7589\">If $-\\pi \\leq \\theta \\leq 0\\text{,}$ then $-\\frac{\\pi}{2} \\leq \\frac{\\theta}{2} \\leq 0\\text{,}$ which means $\\sin\\left(\\frac{\\theta}{2}\\right) \\lt  0\\text{.}$ <a href=\"Identities.ipynb#halfangle\" class=\"xref\" alt=\"Theorem 8.4.14 Half Angle Formulas\" title=\"Theorem 8.4.14 Half Angle Formulas\">Theorem 8.4.14</a> gives</p><div class=\"displaymath\">\n",
    "\\begin{equation*}\n",
    "\\begin{array}{rcl}\n",
    "\\sin\\left(\\dfrac{\\theta}{2} \\right) \\amp  = \\amp   -\\sqrt{\\dfrac{1-\\cos\\left(\\theta \\right)}{2}} = -\\sqrt{\\dfrac{1- \\left(-\\frac{3}{5}\\right)}{2}}\\\\\n",
    "\\amp  = \\amp  -\\sqrt{\\dfrac{1 + \\frac{3}{5}}{2} \\cdot \\dfrac{5}{5}} = -\\sqrt{\\dfrac{8}{10}} =  -\\dfrac{2\\sqrt{5}}{5}\n",
    "\\end{array}\n",
    "\\end{equation*}\n",
    "</div></li><li id=\"li-2131\"><p id=\"p-7590\">Instead of our usual approach to verifying identities, namely starting with one side of the equation and trying to transform it into the other, we will start with the identity we proved in <a href=\"Identities.ipynb#doubleanglesinewtan\" class=\"xref\" alt=\"Item 3 \" title=\"Item 3 \">number 3</a> of <a href=\"Identities.ipynb#doubleangleex\" class=\"xref\" alt=\"Example 8.4.11 Using Theorem 8.4.10\" title=\"Example 8.4.11 Using Theorem 8.4.10\">Example 8.4.11</a> and manipulate it into the identity we are asked to prove. The identity we are asked to start with is $\\; \\sin(2\\theta) = \\frac{2\\tan(\\theta)}{1 + \\tan^{2}(\\theta)}\\text{.}$ If we are to use this to derive an identity for $\\tan\\left(\\frac{\\theta}{2}\\right)\\text{,}$ it seems reasonable to proceed by replacing each occurrence of $\\theta$ with $\\frac{\\theta}{2}$</p><div class=\"displaymath\">\n",
    "\\begin{equation*}\n",
    "\\begin{array}{rcl} \n",
    "\\sin\\left(2 \\left(\\frac{\\theta}{2}\\right)\\right) \\amp  = \\amp   \\dfrac{2\\tan\\left(\\frac{\\theta}{2}\\right)}{1 + \\tan^{2}\\left(\\frac{\\theta}{2}\\right)} \\\\\n",
    "\\sin(\\theta) \\amp  = \\amp  \\dfrac{2\\tan\\left(\\frac{\\theta}{2}\\right)}{1 + \\tan^{2}\\left(\\frac{\\theta}{2}\\right)}\n",
    "\\end{array}\n",
    "\\end{equation*}\n",
    "</div><p>We now have the $\\sin(\\theta)$ we need, but we somehow need to get a factor of $1+\\cos(\\theta)$ involved. To get cosines involved, recall that $1 + \\tan^{2}\\left(\\frac{\\theta}{2}\\right) = \\sec^{2}\\left(\\frac{\\theta}{2}\\right)\\text{.}$ We continue to manipulate our given identity by converting secants to cosines and using a power reduction formula</p><div class=\"displaymath\">\n",
    "\\begin{equation*}\n",
    "\\begin{array}{rcl} \n",
    "\\sin(\\theta) \\amp  = \\amp   \\dfrac{2\\tan\\left(\\frac{\\theta}{2}\\right)}{1 + \\tan^{2}\\left(\\frac{\\theta}{2}\\right)} \\\\\n",
    "\\sin(\\theta) \\amp  = \\amp  \\dfrac{2\\tan\\left(\\frac{\\theta}{2}\\right)}{\\sec^{2}\\left(\\frac{\\theta}{2}\\right)} \\\\\n",
    "\\sin(\\theta) \\amp  = \\amp  2 \\tan\\left(\\frac{\\theta}{2}\\right) \\cos^{2}\\left(\\frac{\\theta}{2}\\right) \\\\\n",
    "\\sin(\\theta) \\amp  = \\amp  2 \\tan\\left(\\frac{\\theta}{2}\\right) \\left(\\dfrac{1 + \\cos\\left(2 \\left(\\frac{\\theta}{2}\\right)\\right)}{2}\\right) \\\\\n",
    "\\sin(\\theta) \\amp  = \\amp   \\tan\\left(\\frac{\\theta}{2}\\right) \\left(1+\\cos(\\theta) \\right) \\\\\n",
    "\\tan\\left(\\dfrac{\\theta}{2}\\right) \\amp  = \\amp  \\dfrac{\\sin(\\theta)}{1+\\cos(\\theta)}\n",
    "\\end{array}\n",
    "\\end{equation*}\n",
    "</div></li></ol></span></div></div></article></div>"
   ]
  },
  {
   "cell_type": "markdown",
   "metadata": {
    "deletable": true,
    "editable": true
   },
   "source": [
    "<div class=\"mathbook-content\"><p id=\"p-7591\">Our next batch of identities, the Product to Sum Formulas, are easily verified by expanding each of the right hand sides in accordance with <a href=\"Identities.ipynb#circularsumdifference\" class=\"xref\" alt=\"Theorem 8.4.9 Sum and Difference Identities\" title=\"Theorem 8.4.9 Sum and Difference Identities\">Theorem 8.4.9</a> and as you should expect by now we leave the details as exercises. They are of particular use in Calculus, and we list them here for reference.</p></div>"
   ]
  },
  {
   "cell_type": "markdown",
   "metadata": {
    "deletable": true,
    "editable": true
   },
   "source": [
    "<div class=\"mathbook-content\"><article class=\"aside-like\" id=\"aside-117\"><p id=\"p-7592\">The identities in <a href=\"Identities.ipynb#producttosum\" class=\"xref\" alt=\"Theorem 8.4.16 Product to Sum Formulas\" title=\"Theorem 8.4.16 Product to Sum Formulas\">Theorem 8.4.16</a> are also known as the Prosthaphaeresis Formulas and have a rich history. The authors recommend that you conduct some research on them as your schedule allows.</p></article></div>"
   ]
  },
  {
   "cell_type": "markdown",
   "metadata": {
    "deletable": true,
    "editable": true
   },
   "source": [
    "<div class=\"mathbook-content\"><article class=\"theorem-like\" id=\"producttosum\"><h6 class=\"heading\"><span class=\"type\">Theorem</span><span class=\"codenumber\">8.4.16</span><span class=\"title\">Product to Sum Formulas</span></h6><p id=\"p-7593\">For all angles $\\alpha$ and $\\beta\\text{,}$  </p><ul class=\"disc\"><li id=\"li-2132\"><p id=\"p-7594\">$\\cos(\\alpha)\\cos(\\beta) = \\frac{1}{2} \\left[ \\cos(\\alpha - \\beta) + \\cos(\\alpha + \\beta)\\right]$</p></li><li id=\"li-2133\"><p id=\"p-7595\">$\\sin(\\alpha)\\sin(\\beta) = \\frac{1}{2} \\left[ \\cos(\\alpha - \\beta) - \\cos(\\alpha + \\beta)\\right]$</p></li><li id=\"li-2134\"><p id=\"p-7596\">$\\sin(\\alpha)\\cos(\\beta) = \\frac{1}{2} \\left[ \\sin(\\alpha - \\beta) + \\sin(\\alpha + \\beta)\\right]$</p></li></ul></article></div>"
   ]
  },
  {
   "cell_type": "markdown",
   "metadata": {
    "deletable": true,
    "editable": true
   },
   "source": [
    "<div class=\"mathbook-content\"><p id=\"p-7597\">Related to the Product to Sum Formulas are the Sum to Product Formulas, which come in handy when attempting to solve equations involving trigonometric functions. These are easily verified using the Product to Sum Formulas, and as such, their proofs are left as exercises.</p></div>"
   ]
  },
  {
   "cell_type": "markdown",
   "metadata": {
    "deletable": true,
    "editable": true
   },
   "source": [
    "<div class=\"mathbook-content\"><article class=\"theorem-like\" id=\"sumtoproduct\"><h6 class=\"heading\"><span class=\"type\">Theorem</span><span class=\"codenumber\">8.4.17</span><span class=\"title\">Sum to Product Formulas</span></h6><p id=\"p-7598\">For all angles $\\alpha$ and $\\beta\\text{,}$  </p><ul class=\"disc\"><li id=\"li-2135\"><p id=\"p-7599\">$\\cos(\\alpha) + \\cos(\\beta) = 2 \\cos\\left( \\dfrac{\\alpha + \\beta}{2}\\right)\\cos\\left( \\dfrac{\\alpha - \\beta}{2}\\right)$</p></li><li id=\"li-2136\"><p id=\"p-7600\">$\\cos(\\alpha) - \\cos(\\beta) = - 2 \\sin\\left( \\dfrac{\\alpha + \\beta}{2}\\right)\\sin\\left( \\dfrac{\\alpha - \\beta}{2}\\right)$</p></li><li id=\"li-2137\"><p id=\"p-7601\">$\\sin(\\alpha) \\pm \\sin(\\beta) = 2 \\sin\\left( \\dfrac{\\alpha \\pm \\beta}{2}\\right)\\cos\\left( \\dfrac{\\alpha \\mp \\beta}{2}\\right)$</p></li></ul></article></div>"
   ]
  },
  {
   "cell_type": "markdown",
   "metadata": {
    "deletable": true,
    "editable": true
   },
   "source": [
    "<div class=\"mathbook-content\"><article class=\"example-like\" id=\"prodtosumtoprod\"><h6 class=\"heading\"><span class=\"type\">Example</span><span class=\"codenumber\">8.4.18</span><span class=\"title\">Using Theorems 8.4.16 and Theorem 8.4.17</span></h6><ol class=\"decimal\"><li id=\"li-2138\"><p id=\"p-7602\">Write $\\; \\cos(2\\theta)\\cos(6\\theta) \\;$ as a sum.</p></li><li id=\"li-2139\"><p id=\"p-7603\">Write $\\; \\sin(\\theta) - \\sin(3\\theta) \\;$ as a product.</p></li></ol><div class=\"solutions\"><span class=\"solution\"><a knowl=\"\" class=\"id-ref\" refid=\"hk-solution-154\" id=\"solution-154\"><span class=\"type\">Solution</span></a></span><div id=\"hk-solution-154\" class=\"hidden-content tex2jax_ignore\"><span class=\"solution\"><ol id=\"p-7604\" class=\"decimal\"><li id=\"li-2140\"><p id=\"p-7605\">Identifying $\\alpha = 2\\theta$ and $\\beta = 6\\theta\\text{,}$ we find</p><div class=\"displaymath\">\n",
    "\\begin{equation*}\n",
    "\\begin{array}{rcl}\n",
    "\\cos(2\\theta)\\cos(6\\theta) \\amp  = \\amp   \\frac{1}{2} \\left[ \\cos(2\\theta - 6\\theta) + \\cos(2\\theta + 6\\theta)\\right]\\\\\n",
    "\\amp  = \\amp  \\frac{1}{2} \\cos(-4\\theta) + \\frac{1}{2}\\cos(8\\theta) \\\\\n",
    "\\amp  = \\amp  \\frac{1}{2} \\cos(4\\theta) + \\frac{1}{2} \\cos(8\\theta),\n",
    "\\end{array}\n",
    "\\end{equation*}\n",
    "</div><p>where the last equality is courtesy of the even identity for cosine, $\\cos(-4\\theta) = \\cos(4\\theta)\\text{.}$</p></li><li id=\"li-2141\"><p id=\"p-7606\">Identifying $\\alpha = \\theta$ and $\\beta = 3\\theta$ yields</p><div class=\"displaymath\">\n",
    "\\begin{equation*}\n",
    "\\begin{array}{rcl}\n",
    "\\sin(\\theta) - \\sin(3\\theta) \\amp  = \\amp   2 \\sin\\left( \\dfrac{\\theta - 3\\theta}{2}\\right)\\cos\\left( \\dfrac{\\theta + 3\\theta}{2}\\right) \\\\\n",
    "\\amp  = \\amp   2 \\sin\\left( -\\theta \\right)\\cos\\left( 2\\theta \\right) \\\\\n",
    "\\amp  = \\amp   -2 \\sin\\left( \\theta \\right)\\cos\\left( 2\\theta \\right),\n",
    "\\end{array}\n",
    "\\end{equation*}\n",
    "</div><p>where the last equality is courtesy of the odd identity for sine, $\\sin(-\\theta) = -\\sin(\\theta)\\text{.}$</p></li></ol></span></div></div></article></div>"
   ]
  },
  {
   "cell_type": "markdown",
   "metadata": {
    "deletable": true,
    "editable": true
   },
   "source": [
    "<div class=\"mathbook-content\"><p id=\"p-7607\">This section and the one before it present a rather large volume of trigonometric identities, leading to a very common student question: “Do I have to memorize <em class=\"emphasis\">all</em> of these?” The answer, of course, is no. The indispensable identities are the Pythagorean identities (<a href=\"TheUnitCircle.ipynb#cosinesinepythid\" class=\"xref\" alt=\"Theorem 8.2.5 The Pythagorean Identity\" title=\"Theorem 8.2.5 The Pythagorean Identity\">Theorem 8.2.5</a>), and the sum/difference identities (<a href=\"Identities.ipynb#cosinesumdifference\" class=\"xref\" alt=\"Theorem 8.4.3 Sum and Difference Identities for Cosine\" title=\"Theorem 8.4.3 Sum and Difference Identities for Cosine\">Theorems 8.4.3</a> and <a href=\"Identities.ipynb#sinesumdifference\" class=\"xref\" alt=\"Theorem 8.4.7 Sum and Difference Identities for Sine\" title=\"Theorem 8.4.7 Sum and Difference Identities for Sine\">Theorem 8.4.7</a>). They are the most common, and all other identities can be derived from them. That said, there are a number of topics in Calculus (trig integration comes to mind) where having other identities like the power reduction formulas in <a href=\"Identities.ipynb#powerreduction\" class=\"xref\" alt=\"Theorem 8.4.12 Power Reduction Formulas\" title=\"Theorem 8.4.12 Power Reduction Formulas\">Theorem 8.4.12</a> at your fingertips will come in handy.</p></div>"
   ]
  },
  {
   "cell_type": "markdown",
   "metadata": {
    "deletable": true,
    "editable": true
   },
   "source": [
    "<div class=\"mathbook-content\"><p id=\"p-7608\">The reader is reminded that all of the identities presented in this section which regard the circular functions as functions of angles (in radian measure) apply equally well to the circular (trigonometric) functions regarded as functions of real numbers. In <a href=\"TrigGraphs.ipynb#idengraphfirst\" class=\"xref\" alt=\"Exercise 8.5.57 \" title=\"Exercise 8.5.57 \">Exercises 8.5.57</a> - <a href=\"TrigGraphs.ipynb#idengraphlast\" class=\"xref\" alt=\"Exercise 8.5.62 \" title=\"Exercise 8.5.62 \">Exercise 8.5.62</a> in <a href=\"TrigGraphs.ipynb\" class=\"xref\" alt=\"Section 8.5 Graphs of the Trigonometric Functions\" title=\"Section 8.5 Graphs of the Trigonometric Functions\">Section 8.5</a>, we see how some of these identities manifest themselves geometrically as we study the graphs of the these functions. In the upcoming Exercises, however, you need to do all of your work analytically without graphs.</p></div>"
   ]
  },
  {
   "cell_type": "markdown",
   "metadata": {
    "deletable": true,
    "editable": true
   },
   "source": [
    "<div class=\"mathbook-content\"><h3 class=\"heading hide-type\" alt=\"Subsection 8.4.1 Problems\"><span class=\"type\">Subsection</span><span class=\"codenumber\">8.4.1</span><span class=\"title\">Problems</span></h3></div>"
   ]
  },
  {
   "cell_type": "markdown",
   "metadata": {
    "deletable": true,
    "editable": true
   },
   "source": [
    "<div class=\"mathbook-content\"><p id=\"p-7609\">In the following exercises, use the Even / Odd Identities to verify the identity. Assume all quantities are defined.</p></div>"
   ]
  },
  {
   "cell_type": "markdown",
   "metadata": {
    "deletable": true,
    "editable": true
   },
   "source": [
    "<div class=\"mathbook-content\"><article class=\"exercise-like\" id=\"exercise-1572\"><h6 class=\"heading\"><span class=\"type\">Exercise</span><span class=\"codenumber\">8.4.19</span></h6><p id=\"p-7610\">$\\sin(3\\pi - 2\\theta) = -\\sin(2\\theta - 3\\pi)$</p></article></div>"
   ]
  },
  {
   "cell_type": "markdown",
   "metadata": {
    "deletable": true,
    "editable": true
   },
   "source": [
    "<div class=\"mathbook-content\"><article class=\"exercise-like\" id=\"exercise-1573\"><h6 class=\"heading\"><span class=\"type\">Exercise</span><span class=\"codenumber\">8.4.20</span></h6><p id=\"p-7611\">$\\cos \\left( -\\dfrac{\\pi}{4} - 5t \\right) = \\cos \\left( 5t + \\dfrac{\\pi}{4} \\right)$</p></article></div>"
   ]
  },
  {
   "cell_type": "markdown",
   "metadata": {
    "deletable": true,
    "editable": true
   },
   "source": [
    "<div class=\"mathbook-content\"><article class=\"exercise-like\" id=\"exercise-1574\"><h6 class=\"heading\"><span class=\"type\">Exercise</span><span class=\"codenumber\">8.4.21</span></h6><p id=\"p-7612\">$\\tan(-t^{2} + 1) = -\\tan(t^{2} - 1)$</p></article></div>"
   ]
  },
  {
   "cell_type": "markdown",
   "metadata": {
    "deletable": true,
    "editable": true
   },
   "source": [
    "<div class=\"mathbook-content\"><article class=\"exercise-like\" id=\"exercise-1575\"><h6 class=\"heading\"><span class=\"type\">Exercise</span><span class=\"codenumber\">8.4.22</span></h6><p id=\"p-7613\">$\\csc(-\\theta - 5) = -\\csc(\\theta + 5)$</p></article></div>"
   ]
  },
  {
   "cell_type": "markdown",
   "metadata": {
    "deletable": true,
    "editable": true
   },
   "source": [
    "<div class=\"mathbook-content\"><article class=\"exercise-like\" id=\"exercise-1576\"><h6 class=\"heading\"><span class=\"type\">Exercise</span><span class=\"codenumber\">8.4.23</span></h6><p id=\"p-7614\">$\\sec(-6t) = \\sec(6t)$</p></article></div>"
   ]
  },
  {
   "cell_type": "markdown",
   "metadata": {
    "deletable": true,
    "editable": true
   },
   "source": [
    "<div class=\"mathbook-content\"><article class=\"exercise-like\" id=\"exercise-1577\"><h6 class=\"heading\"><span class=\"type\">Exercise</span><span class=\"codenumber\">8.4.24</span></h6><p id=\"p-7615\">$\\cot(9 - 7\\theta) = -\\cot(7\\theta - 9)$</p></article></div>"
   ]
  },
  {
   "cell_type": "markdown",
   "metadata": {
    "deletable": true,
    "editable": true
   },
   "source": [
    "<div class=\"mathbook-content\"><p id=\"p-7616\">In the following exercises, use the Sum and Difference Identities to find the exact value. You may have need of the Quotient, Reciprocal or Even / Odd Identities as well.</p></div>"
   ]
  },
  {
   "cell_type": "markdown",
   "metadata": {
    "deletable": true,
    "editable": true
   },
   "source": [
    "<div class=\"mathbook-content\"><article class=\"exercise-like\" id=\"cos75\"><h6 class=\"heading\"><span class=\"type\">Exercise</span><span class=\"codenumber\">8.4.25</span></h6><p id=\"p-7617\">$\\cos(75^{\\circ})$</p><div class=\"solutions\"><span class=\"solution\"><a knowl=\"\" class=\"id-ref\" refid=\"hk-answer-1429\" id=\"answer-1429\"><span class=\"type\">Answer</span></a></span><div id=\"hk-answer-1429\" class=\"hidden-content tex2jax_ignore\"><span class=\"solution\"><p id=\"p-7618\">$\\cos(75^{\\circ}) = \\dfrac{\\sqrt{6} - \\sqrt{2}}{4}$</p></span></div></div></article></div>"
   ]
  },
  {
   "cell_type": "markdown",
   "metadata": {
    "deletable": true,
    "editable": true
   },
   "source": [
    "<div class=\"mathbook-content\"><article class=\"exercise-like\" id=\"exercise-1579\"><h6 class=\"heading\"><span class=\"type\">Exercise</span><span class=\"codenumber\">8.4.26</span></h6><p id=\"p-7619\">$\\sec(165^{\\circ})$</p><div class=\"solutions\"><span class=\"solution\"><a knowl=\"\" class=\"id-ref\" refid=\"hk-answer-1430\" id=\"answer-1430\"><span class=\"type\">Answer</span></a></span><div id=\"hk-answer-1430\" class=\"hidden-content tex2jax_ignore\"><span class=\"solution\"><p id=\"p-7620\">$\\sec(165^{\\circ}) = -\\dfrac{4}{\\sqrt{2}+\\sqrt{6}} = \\sqrt{2} - \\sqrt{6}$</p></span></div></div></article></div>"
   ]
  },
  {
   "cell_type": "markdown",
   "metadata": {
    "deletable": true,
    "editable": true
   },
   "source": [
    "<div class=\"mathbook-content\"><article class=\"exercise-like\" id=\"sin105\"><h6 class=\"heading\"><span class=\"type\">Exercise</span><span class=\"codenumber\">8.4.27</span></h6><p id=\"p-7621\">$\\sin(105^{\\circ})$</p><div class=\"solutions\"><span class=\"solution\"><a knowl=\"\" class=\"id-ref\" refid=\"hk-answer-1431\" id=\"answer-1431\"><span class=\"type\">Answer</span></a></span><div id=\"hk-answer-1431\" class=\"hidden-content tex2jax_ignore\"><span class=\"solution\"><p id=\"p-7622\">$\\sin(105^{\\circ}) = \\dfrac{\\sqrt{6}+\\sqrt{2}}{4}$</p></span></div></div></article></div>"
   ]
  },
  {
   "cell_type": "markdown",
   "metadata": {
    "deletable": true,
    "editable": true
   },
   "source": [
    "<div class=\"mathbook-content\"><article class=\"exercise-like\" id=\"exercise-1581\"><h6 class=\"heading\"><span class=\"type\">Exercise</span><span class=\"codenumber\">8.4.28</span></h6><p id=\"p-7623\">$\\csc(195^{\\circ})$</p><div class=\"solutions\"><span class=\"solution\"><a knowl=\"\" class=\"id-ref\" refid=\"hk-answer-1432\" id=\"answer-1432\"><span class=\"type\">Answer</span></a></span><div id=\"hk-answer-1432\" class=\"hidden-content tex2jax_ignore\"><span class=\"solution\"><p id=\"p-7624\">$\\csc(195^{\\circ}) = \\dfrac{4}{\\sqrt{2}-\\sqrt{6}} = -(\\sqrt{2}+\\sqrt{6})$</p></span></div></div></article></div>"
   ]
  },
  {
   "cell_type": "markdown",
   "metadata": {
    "deletable": true,
    "editable": true
   },
   "source": [
    "<div class=\"mathbook-content\"><article class=\"exercise-like\" id=\"exercise-1582\"><h6 class=\"heading\"><span class=\"type\">Exercise</span><span class=\"codenumber\">8.4.29</span></h6><p id=\"p-7625\">$\\cot(255^{\\circ})$</p><div class=\"solutions\"><span class=\"solution\"><a knowl=\"\" class=\"id-ref\" refid=\"hk-answer-1433\" id=\"answer-1433\"><span class=\"type\">Answer</span></a></span><div id=\"hk-answer-1433\" class=\"hidden-content tex2jax_ignore\"><span class=\"solution\"><p id=\"p-7626\">$\\cot(255^{\\circ}) = \\dfrac{\\sqrt{3}-1}{\\sqrt{3}+1} = 2-\\sqrt{3}$</p></span></div></div></article></div>"
   ]
  },
  {
   "cell_type": "markdown",
   "metadata": {
    "deletable": true,
    "editable": true
   },
   "source": [
    "<div class=\"mathbook-content\"><article class=\"exercise-like\" id=\"exercise-1583\"><h6 class=\"heading\"><span class=\"type\">Exercise</span><span class=\"codenumber\">8.4.30</span></h6><p id=\"p-7627\">$\\tan(375^{\\circ})$</p><div class=\"solutions\"><span class=\"solution\"><a knowl=\"\" class=\"id-ref\" refid=\"hk-answer-1434\" id=\"answer-1434\"><span class=\"type\">Answer</span></a></span><div id=\"hk-answer-1434\" class=\"hidden-content tex2jax_ignore\"><span class=\"solution\"><p id=\"p-7628\">$\\tan(375^{\\circ}) = \\dfrac{3-\\sqrt{3}}{3+\\sqrt{3}} = 2-\\sqrt{3}$</p></span></div></div></article></div>"
   ]
  },
  {
   "cell_type": "markdown",
   "metadata": {
    "deletable": true,
    "editable": true
   },
   "source": [
    "<div class=\"mathbook-content\"><article class=\"exercise-like\" id=\"exercise-1584\"><h6 class=\"heading\"><span class=\"type\">Exercise</span><span class=\"codenumber\">8.4.31</span></h6><p id=\"p-7629\">$\\cos\\left(\\dfrac{13\\pi}{12}\\right)$</p><div class=\"solutions\"><span class=\"solution\"><a knowl=\"\" class=\"id-ref\" refid=\"hk-answer-1435\" id=\"answer-1435\"><span class=\"type\">Answer</span></a></span><div id=\"hk-answer-1435\" class=\"hidden-content tex2jax_ignore\"><span class=\"solution\"><p id=\"p-7630\">$\\cos\\left(\\dfrac{13\\pi}{12}\\right) = -\\dfrac{\\sqrt{6}+\\sqrt{2}}{4}$</p></span></div></div></article></div>"
   ]
  },
  {
   "cell_type": "markdown",
   "metadata": {
    "deletable": true,
    "editable": true
   },
   "source": [
    "<div class=\"mathbook-content\"><article class=\"exercise-like\" id=\"exercise-1585\"><h6 class=\"heading\"><span class=\"type\">Exercise</span><span class=\"codenumber\">8.4.32</span></h6><p id=\"p-7631\">$\\sin\\left(\\dfrac{11\\pi}{12}\\right)$</p><div class=\"solutions\"><span class=\"solution\"><a knowl=\"\" class=\"id-ref\" refid=\"hk-answer-1436\" id=\"answer-1436\"><span class=\"type\">Answer</span></a></span><div id=\"hk-answer-1436\" class=\"hidden-content tex2jax_ignore\"><span class=\"solution\"><p id=\"p-7632\">$\\sin\\left(\\dfrac{11\\pi}{12}\\right) = \\dfrac{\\sqrt{6} - \\sqrt{2}}{4}$</p></span></div></div></article></div>"
   ]
  },
  {
   "cell_type": "markdown",
   "metadata": {
    "deletable": true,
    "editable": true
   },
   "source": [
    "<div class=\"mathbook-content\"><article class=\"exercise-like\" id=\"exercise-1586\"><h6 class=\"heading\"><span class=\"type\">Exercise</span><span class=\"codenumber\">8.4.33</span></h6><p id=\"p-7633\">$\\tan\\left(\\dfrac{13\\pi}{12}\\right)$</p><div class=\"solutions\"><span class=\"solution\"><a knowl=\"\" class=\"id-ref\" refid=\"hk-answer-1437\" id=\"answer-1437\"><span class=\"type\">Answer</span></a></span><div id=\"hk-answer-1437\" class=\"hidden-content tex2jax_ignore\"><span class=\"solution\"><p id=\"p-7634\">$\\tan\\left(\\dfrac{13\\pi}{12}\\right) = \\dfrac{3-\\sqrt{3}}{3+\\sqrt{3}} = 2-\\sqrt{3}$</p></span></div></div></article></div>"
   ]
  },
  {
   "cell_type": "markdown",
   "metadata": {
    "deletable": true,
    "editable": true
   },
   "source": [
    "<div class=\"mathbook-content\"><article class=\"exercise-like\" id=\"cos7pi12\"><h6 class=\"heading\"><span class=\"type\">Exercise</span><span class=\"codenumber\">8.4.34</span></h6><p id=\"p-7635\">$\\cos \\left( \\dfrac{7\\pi}{12} \\right)$</p><div class=\"solutions\"><span class=\"solution\"><a knowl=\"\" class=\"id-ref\" refid=\"hk-answer-1438\" id=\"answer-1438\"><span class=\"type\">Answer</span></a></span><div id=\"hk-answer-1438\" class=\"hidden-content tex2jax_ignore\"><span class=\"solution\"><p id=\"p-7636\">$\\cos \\left( \\dfrac{7\\pi}{12} \\right) = \\dfrac{\\sqrt{2} - \\sqrt{6}}{4}$</p></span></div></div></article></div>"
   ]
  },
  {
   "cell_type": "markdown",
   "metadata": {
    "deletable": true,
    "editable": true
   },
   "source": [
    "<div class=\"mathbook-content\"><article class=\"exercise-like\" id=\"exercise-1588\"><h6 class=\"heading\"><span class=\"type\">Exercise</span><span class=\"codenumber\">8.4.35</span></h6><p id=\"p-7637\">$\\tan \\left( \\dfrac{17\\pi}{12} \\right)$</p><div class=\"solutions\"><span class=\"solution\"><a knowl=\"\" class=\"id-ref\" refid=\"hk-answer-1439\" id=\"answer-1439\"><span class=\"type\">Answer</span></a></span><div id=\"hk-answer-1439\" class=\"hidden-content tex2jax_ignore\"><span class=\"solution\"><p id=\"p-7638\">$\\tan \\left( \\dfrac{17\\pi}{12} \\right) = 2 + \\sqrt{3}$</p></span></div></div></article></div>"
   ]
  },
  {
   "cell_type": "markdown",
   "metadata": {
    "deletable": true,
    "editable": true
   },
   "source": [
    "<div class=\"mathbook-content\"><article class=\"exercise-like\" id=\"sinpi12\"><h6 class=\"heading\"><span class=\"type\">Exercise</span><span class=\"codenumber\">8.4.36</span></h6><p id=\"p-7639\">$\\sin \\left( \\dfrac{\\pi}{12} \\right)$</p><div class=\"solutions\"><span class=\"solution\"><a knowl=\"\" class=\"id-ref\" refid=\"hk-answer-1440\" id=\"answer-1440\"><span class=\"type\">Answer</span></a></span><div id=\"hk-answer-1440\" class=\"hidden-content tex2jax_ignore\"><span class=\"solution\"><p id=\"p-7640\">$\\sin \\left( \\dfrac{\\pi}{12} \\right) = \\dfrac{\\sqrt{6} - \\sqrt{2}}{4}$</p></span></div></div></article></div>"
   ]
  },
  {
   "cell_type": "markdown",
   "metadata": {
    "deletable": true,
    "editable": true
   },
   "source": [
    "<div class=\"mathbook-content\"><article class=\"exercise-like\" id=\"exercise-1590\"><h6 class=\"heading\"><span class=\"type\">Exercise</span><span class=\"codenumber\">8.4.37</span></h6><p id=\"p-7641\">$\\cot \\left( \\dfrac{11\\pi}{12} \\right)$</p><div class=\"solutions\"><span class=\"solution\"><a knowl=\"\" class=\"id-ref\" refid=\"hk-answer-1441\" id=\"answer-1441\"><span class=\"type\">Answer</span></a></span><div id=\"hk-answer-1441\" class=\"hidden-content tex2jax_ignore\"><span class=\"solution\"><p id=\"p-7642\">$\\cot \\left( \\dfrac{11\\pi}{12} \\right) = -(2 + \\sqrt{3})$</p></span></div></div></article></div>"
   ]
  },
  {
   "cell_type": "markdown",
   "metadata": {
    "deletable": true,
    "editable": true
   },
   "source": [
    "<div class=\"mathbook-content\"><article class=\"exercise-like\" id=\"exercise-1591\"><h6 class=\"heading\"><span class=\"type\">Exercise</span><span class=\"codenumber\">8.4.38</span></h6><p id=\"p-7643\">$\\csc \\left( \\dfrac{5\\pi}{12} \\right)$</p><div class=\"solutions\"><span class=\"solution\"><a knowl=\"\" class=\"id-ref\" refid=\"hk-answer-1442\" id=\"answer-1442\"><span class=\"type\">Answer</span></a></span><div id=\"hk-answer-1442\" class=\"hidden-content tex2jax_ignore\"><span class=\"solution\"><p id=\"p-7644\">$\\csc \\left( \\dfrac{5\\pi}{12} \\right) = \\sqrt{6} - \\sqrt{2}$</p></span></div></div></article></div>"
   ]
  },
  {
   "cell_type": "markdown",
   "metadata": {
    "deletable": true,
    "editable": true
   },
   "source": [
    "<div class=\"mathbook-content\"><article class=\"exercise-like\" id=\"exercise-1592\"><h6 class=\"heading\"><span class=\"type\">Exercise</span><span class=\"codenumber\">8.4.39</span></h6><p id=\"p-7645\">$\\sec \\left( -\\dfrac{\\pi}{12} \\right)$</p><div class=\"solutions\"><span class=\"solution\"><a knowl=\"\" class=\"id-ref\" refid=\"hk-answer-1443\" id=\"answer-1443\"><span class=\"type\">Answer</span></a></span><div id=\"hk-answer-1443\" class=\"hidden-content tex2jax_ignore\"><span class=\"solution\"><p id=\"p-7646\">$\\sec \\left( -\\dfrac{\\pi}{12} \\right) = \\sqrt{6} - \\sqrt{2}$</p></span></div></div></article></div>"
   ]
  },
  {
   "cell_type": "markdown",
   "metadata": {
    "deletable": true,
    "editable": true
   },
   "source": [
    "<div class=\"mathbook-content\"><article class=\"exercise-like\" id=\"exercise-1593\"><h6 class=\"heading\"><span class=\"type\">Exercise</span><span class=\"codenumber\">8.4.40</span></h6><p id=\"p-7647\">If $\\alpha$ is a Quadrant IV angle with $\\cos(\\alpha) = \\dfrac{\\sqrt{5}}{5}\\text{,}$ and $\\sin(\\beta) = \\dfrac{\\sqrt{10}}{10}\\text{,}$ where $\\dfrac{\\pi}{2} \\lt  \\beta \\lt  \\pi\\text{,}$ find </p><ol class=\"decimal\"><li id=\"li-2142\"><p id=\"p-7648\">$\\cos(\\alpha + \\beta)$</p></li><li id=\"li-2143\"><p id=\"p-7649\">$\\sin(\\alpha + \\beta)$</p></li><li id=\"li-2144\"><p id=\"p-7650\">$\\tan(\\alpha + \\beta)$</p></li><li id=\"li-2145\"><p id=\"p-7651\">$\\cos(\\alpha - \\beta)$</p></li><li id=\"li-2146\"><p id=\"p-7652\">$\\sin(\\alpha - \\beta)$</p></li><li id=\"li-2147\"><p id=\"p-7653\">$\\tan(\\alpha - \\beta)$</p></li></ol><div class=\"solutions\"><span class=\"solution\"><a knowl=\"\" class=\"id-ref\" refid=\"hk-answer-1444\" id=\"answer-1444\"><span class=\"type\">Answer</span></a></span><div id=\"hk-answer-1444\" class=\"hidden-content tex2jax_ignore\"><span class=\"solution\"><ol class=\"decimal\"><li id=\"li-2148\"><p id=\"p-7654\">$\\cos(\\alpha + \\beta) = -\\dfrac{\\sqrt{2}}{10}$</p></li><li id=\"li-2149\"><p id=\"p-7655\">$\\sin(\\alpha + \\beta) = \\dfrac{7\\sqrt{2}}{10}$</p></li><li id=\"li-2150\"><p id=\"p-7656\">$\\tan(\\alpha + \\beta) = -7$</p></li><li id=\"li-2151\"><p id=\"p-7657\">$\\cos(\\alpha - \\beta)= -\\dfrac{\\sqrt{2}}{2}$</p></li><li id=\"li-2152\"><p id=\"p-7658\">$\\sin(\\alpha - \\beta) = \\dfrac{\\sqrt{2}}{2}$</p></li><li id=\"li-2153\"><p id=\"p-7659\">$\\tan(\\alpha - \\beta) = -1$</p></li></ol></span></div></div></article></div>"
   ]
  },
  {
   "cell_type": "markdown",
   "metadata": {
    "deletable": true,
    "editable": true
   },
   "source": [
    "<div class=\"mathbook-content\"><article class=\"exercise-like\" id=\"exercise-1594\"><h6 class=\"heading\"><span class=\"type\">Exercise</span><span class=\"codenumber\">8.4.41</span></h6><p id=\"p-7660\">If $\\csc(\\alpha) = 3\\text{,}$ where $0 \\lt  \\alpha \\lt  \\dfrac{\\pi}{2}\\text{,}$ and $\\beta$ is a Quadrant II angle with $\\tan(\\beta) = -7\\text{,}$ find </p><ol class=\"decimal\"><li id=\"li-2154\"><p id=\"p-7661\">$\\cos(\\alpha + \\beta)$</p></li><li id=\"li-2155\"><p id=\"p-7662\">$\\sin(\\alpha + \\beta)$</p></li><li id=\"li-2156\"><p id=\"p-7663\">$\\tan(\\alpha + \\beta)$</p></li><li id=\"li-2157\"><p id=\"p-7664\">$\\cos(\\alpha - \\beta)$</p></li><li id=\"li-2158\"><p id=\"p-7665\">$\\sin(\\alpha - \\beta)$</p></li><li id=\"li-2159\"><p id=\"p-7666\">$\\tan(\\alpha - \\beta)$</p></li></ol><div class=\"solutions\"><span class=\"solution\"><a knowl=\"\" class=\"id-ref\" refid=\"hk-answer-1445\" id=\"answer-1445\"><span class=\"type\">Answer</span></a></span><div id=\"hk-answer-1445\" class=\"hidden-content tex2jax_ignore\"><span class=\"solution\"><ol class=\"decimal\"><li id=\"li-2160\"><p id=\"p-7667\">$\\cos(\\alpha + \\beta) = - \\dfrac{4+7\\sqrt{2}}{30}$</p></li><li id=\"li-2161\"><p id=\"p-7668\">$\\sin(\\alpha + \\beta) = \\dfrac{28-\\sqrt{2}}{30}$</p></li><li id=\"li-2162\"><p id=\"p-7669\">$\\tan(\\alpha + \\beta) = \\dfrac{-28+\\sqrt{2}}{4+7\\sqrt{2}} = \\dfrac{63-100\\sqrt{2}}{41}$</p></li><li id=\"li-2163\"><p id=\"p-7670\">$\\cos(\\alpha - \\beta) = \\dfrac{-4+7\\sqrt{2}}{30}$</p></li><li id=\"li-2164\"><p id=\"p-7671\">$\\sin(\\alpha - \\beta) = - \\dfrac{28+\\sqrt{2}}{30}$</p></li><li id=\"li-2165\"><p id=\"p-7672\">$\\tan(\\alpha - \\beta)= \\dfrac{28+\\sqrt{2}}{4-7\\sqrt{2}} = -\\dfrac{63+100\\sqrt{2}}{41}$</p></li></ol></span></div></div></article></div>"
   ]
  },
  {
   "cell_type": "markdown",
   "metadata": {
    "deletable": true,
    "editable": true
   },
   "source": [
    "<div class=\"mathbook-content\"><article class=\"exercise-like\" id=\"exercise-1595\"><h6 class=\"heading\"><span class=\"type\">Exercise</span><span class=\"codenumber\">8.4.42</span></h6><p id=\"p-7673\">If $\\sin(\\alpha) = \\dfrac{3}{5}\\text{,}$ where $0 \\lt  \\alpha \\lt  \\dfrac{\\pi}{2}\\text{,}$ and $\\cos(\\beta) = \\dfrac{12}{13}$ where $\\dfrac{3\\pi}{2} \\lt  \\beta \\lt  2\\pi\\text{,}$ find </p><ol class=\"decimal\"><li id=\"li-2166\"><p id=\"p-7674\">$\\sin(\\alpha + \\beta)$</p></li><li id=\"li-2167\"><p id=\"p-7675\">$\\cos(\\alpha - \\beta)$</p></li><li id=\"li-2168\"><p id=\"p-7676\">$\\tan(\\alpha - \\beta)$</p></li></ol><div class=\"solutions\"><span class=\"solution\"><a knowl=\"\" class=\"id-ref\" refid=\"hk-answer-1446\" id=\"answer-1446\"><span class=\"type\">Answer</span></a></span><div id=\"hk-answer-1446\" class=\"hidden-content tex2jax_ignore\"><span class=\"solution\"><ol class=\"decimal\"><li id=\"li-2169\"><p id=\"p-7677\">$\\sin(\\alpha + \\beta) = \\dfrac{16}{65}$</p></li><li id=\"li-2170\"><p id=\"p-7678\">$\\cos(\\alpha - \\beta) = \\dfrac{33}{65}$</p></li><li id=\"li-2171\"><p id=\"p-7679\">$\\tan(\\alpha - \\beta) = \\dfrac{56}{33}$</p></li></ol></span></div></div></article></div>"
   ]
  },
  {
   "cell_type": "markdown",
   "metadata": {
    "deletable": true,
    "editable": true
   },
   "source": [
    "<div class=\"mathbook-content\"><article class=\"exercise-like\" id=\"exercise-1596\"><h6 class=\"heading\"><span class=\"type\">Exercise</span><span class=\"codenumber\">8.4.43</span></h6><p id=\"p-7680\">If $\\sec(\\alpha) = -\\dfrac{5}{3}\\text{,}$ where $\\dfrac{\\pi}{2} \\lt  \\alpha \\lt  \\pi\\text{,}$ and $\\tan(\\beta) = \\dfrac{24}{7}\\text{,}$ where $\\pi \\lt  \\beta \\lt  \\dfrac{3\\pi}{2}\\text{,}$ find </p><ol class=\"decimal\"><li id=\"li-2172\"><p id=\"p-7681\">$\\csc(\\alpha - \\beta)$</p></li><li id=\"li-2173\"><p id=\"p-7682\">$\\sec(\\alpha + \\beta)$</p></li><li id=\"li-2174\"><p id=\"p-7683\">$\\cot(\\alpha + \\beta)$</p></li></ol><div class=\"solutions\"><span class=\"solution\"><a knowl=\"\" class=\"id-ref\" refid=\"hk-answer-1447\" id=\"answer-1447\"><span class=\"type\">Answer</span></a></span><div id=\"hk-answer-1447\" class=\"hidden-content tex2jax_ignore\"><span class=\"solution\"><ol class=\"decimal\"><li id=\"li-2175\"><p id=\"p-7684\">$\\csc(\\alpha - \\beta) = -\\dfrac{5}{4}$</p></li><li id=\"li-2176\"><p id=\"p-7685\">$\\sec(\\alpha + \\beta) = \\dfrac{125}{117}$</p></li><li id=\"li-2177\"><p id=\"p-7686\">$\\cot(\\alpha + \\beta) = \\dfrac{117}{44}$</p></li></ol></span></div></div></article></div>"
   ]
  },
  {
   "cell_type": "markdown",
   "metadata": {
    "deletable": true,
    "editable": true
   },
   "source": [
    "<div class=\"mathbook-content\"><p id=\"p-7687\">In the following exercises, verify the identity.</p></div>"
   ]
  },
  {
   "cell_type": "markdown",
   "metadata": {
    "deletable": true,
    "editable": true
   },
   "source": [
    "<div class=\"mathbook-content\"><article class=\"exercise-like\" id=\"exercise-1597\"><h6 class=\"heading\"><span class=\"type\">Exercise</span><span class=\"codenumber\">8.4.44</span></h6><p id=\"p-7688\">$\\cos(\\theta - \\pi) = -\\cos(\\theta)$</p></article></div>"
   ]
  },
  {
   "cell_type": "markdown",
   "metadata": {
    "deletable": true,
    "editable": true
   },
   "source": [
    "<div class=\"mathbook-content\"><article class=\"exercise-like\" id=\"exercise-1598\"><h6 class=\"heading\"><span class=\"type\">Exercise</span><span class=\"codenumber\">8.4.45</span></h6><p id=\"p-7689\">$\\sin(\\pi - \\theta) = \\sin(\\theta)$</p></article></div>"
   ]
  },
  {
   "cell_type": "markdown",
   "metadata": {
    "deletable": true,
    "editable": true
   },
   "source": [
    "<div class=\"mathbook-content\"><article class=\"exercise-like\" id=\"exercise-1599\"><h6 class=\"heading\"><span class=\"type\">Exercise</span><span class=\"codenumber\">8.4.46</span></h6><p id=\"p-7690\">$\\tan\\left(\\theta + \\dfrac{\\pi}{2} \\right) = -\\cot(\\theta)$</p></article></div>"
   ]
  },
  {
   "cell_type": "markdown",
   "metadata": {
    "deletable": true,
    "editable": true
   },
   "source": [
    "<div class=\"mathbook-content\"><article class=\"exercise-like\" id=\"exercise-1600\"><h6 class=\"heading\"><span class=\"type\">Exercise</span><span class=\"codenumber\">8.4.47</span></h6><p id=\"p-7691\">$\\sin(\\alpha + \\beta) + \\sin(\\alpha - \\beta) = 2\\sin(\\alpha)\\cos(\\beta)$</p></article></div>"
   ]
  },
  {
   "cell_type": "markdown",
   "metadata": {
    "deletable": true,
    "editable": true
   },
   "source": [
    "<div class=\"mathbook-content\"><article class=\"exercise-like\" id=\"exercise-1601\"><h6 class=\"heading\"><span class=\"type\">Exercise</span><span class=\"codenumber\">8.4.48</span></h6><p id=\"p-7692\">$\\sin(\\alpha + \\beta) - \\sin(\\alpha - \\beta) = 2\\cos(\\alpha) \\sin(\\beta)$</p></article></div>"
   ]
  },
  {
   "cell_type": "markdown",
   "metadata": {
    "deletable": true,
    "editable": true
   },
   "source": [
    "<div class=\"mathbook-content\"><article class=\"exercise-like\" id=\"exercise-1602\"><h6 class=\"heading\"><span class=\"type\">Exercise</span><span class=\"codenumber\">8.4.49</span></h6><p id=\"p-7693\">$\\cos(\\alpha + \\beta) + \\cos(\\alpha - \\beta) = 2\\cos(\\alpha) \\cos(\\beta)$</p></article></div>"
   ]
  },
  {
   "cell_type": "markdown",
   "metadata": {
    "deletable": true,
    "editable": true
   },
   "source": [
    "<div class=\"mathbook-content\"><article class=\"exercise-like\" id=\"exercise-1603\"><h6 class=\"heading\"><span class=\"type\">Exercise</span><span class=\"codenumber\">8.4.50</span></h6><p id=\"p-7694\">$\\cos(\\alpha + \\beta) - \\cos(\\alpha - \\beta) = -2\\sin(\\alpha) \\sin(\\beta)$</p></article></div>"
   ]
  },
  {
   "cell_type": "markdown",
   "metadata": {
    "deletable": true,
    "editable": true
   },
   "source": [
    "<div class=\"mathbook-content\"><article class=\"exercise-like\" id=\"exercise-1604\"><h6 class=\"heading\"><span class=\"type\">Exercise</span><span class=\"codenumber\">8.4.51</span></h6><p id=\"p-7695\">$\\dfrac{\\sin(\\alpha+\\beta)}{\\sin(\\alpha-\\beta)} = \\dfrac{1+\\cot(\\alpha) \\tan(\\beta)}{1 - \\cot(\\alpha) \\tan(\\beta)}$</p></article></div>"
   ]
  },
  {
   "cell_type": "markdown",
   "metadata": {
    "deletable": true,
    "editable": true
   },
   "source": [
    "<div class=\"mathbook-content\"><article class=\"exercise-like\" id=\"exercise-1605\"><h6 class=\"heading\"><span class=\"type\">Exercise</span><span class=\"codenumber\">8.4.52</span></h6><p id=\"p-7696\">$\\dfrac{\\cos(\\alpha + \\beta)}{\\cos(\\alpha - \\beta)} = \\dfrac{1 - \\tan(\\alpha)\\tan(\\beta)}{1 + \\tan(\\alpha)\\tan(\\beta)}$</p></article></div>"
   ]
  },
  {
   "cell_type": "markdown",
   "metadata": {
    "deletable": true,
    "editable": true
   },
   "source": [
    "<div class=\"mathbook-content\"><article class=\"exercise-like\" id=\"exercise-1606\"><h6 class=\"heading\"><span class=\"type\">Exercise</span><span class=\"codenumber\">8.4.53</span></h6><p id=\"p-7697\">$\\dfrac{\\tan(\\alpha + \\beta)}{\\tan(\\alpha - \\beta)} = \\dfrac{\\sin(\\alpha)\\cos(\\alpha) + \\sin(\\beta)\\cos(\\beta)}{\\sin(\\alpha)\\cos(\\alpha) - \\sin(\\beta)\\cos(\\beta)}$</p></article></div>"
   ]
  },
  {
   "cell_type": "markdown",
   "metadata": {
    "deletable": true,
    "editable": true
   },
   "source": [
    "<div class=\"mathbook-content\"><article class=\"exercise-like\" id=\"exercise-1607\"><h6 class=\"heading\"><span class=\"type\">Exercise</span><span class=\"codenumber\">8.4.54</span></h6><p id=\"p-7698\">$\\dfrac{\\sin(t + h) - \\sin(t)}{h} = \\cos(t) \\left(\\dfrac{\\sin(h)}{h} \\right) + \\sin(t) \\left( \\dfrac{\\cos(h) - 1}{h} \\right)$</p></article></div>"
   ]
  },
  {
   "cell_type": "markdown",
   "metadata": {
    "deletable": true,
    "editable": true
   },
   "source": [
    "<div class=\"mathbook-content\"><article class=\"exercise-like\" id=\"exercise-1608\"><h6 class=\"heading\"><span class=\"type\">Exercise</span><span class=\"codenumber\">8.4.55</span></h6><p id=\"p-7699\">$\\dfrac{\\cos(t + h) - \\cos(t)}{h} = \\cos(t) \\left( \\dfrac{\\cos(h) - 1}{h} \\right) - \\sin(t) \\left(\\dfrac{\\sin(h)}{h} \\right)$</p></article></div>"
   ]
  },
  {
   "cell_type": "markdown",
   "metadata": {
    "deletable": true,
    "editable": true
   },
   "source": [
    "<div class=\"mathbook-content\"><article class=\"exercise-like\" id=\"exercise-1609\"><h6 class=\"heading\"><span class=\"type\">Exercise</span><span class=\"codenumber\">8.4.56</span></h6><p id=\"p-7700\">$\\dfrac{\\tan(t + h) - \\tan(t)}{h} = \\left( \\dfrac{\\tan(h)}{h} \\right) \\left(\\dfrac{\\sec^{2}(t)}{1 - \\tan(t)\\tan(h)} \\right)$</p></article></div>"
   ]
  },
  {
   "cell_type": "markdown",
   "metadata": {
    "deletable": true,
    "editable": true
   },
   "source": [
    "<div class=\"mathbook-content\"><p id=\"p-7701\">In the following exercises, use the Half Angle Formulas to find the exact value. You may have need of the Quotient, Reciprocal or Even / Odd Identities as well.</p></div>"
   ]
  },
  {
   "cell_type": "markdown",
   "metadata": {
    "deletable": true,
    "editable": true
   },
   "source": [
    "<div class=\"mathbook-content\"><article class=\"exercise-like\" id=\"exercise-1610\"><h6 class=\"heading\"><span class=\"type\">Exercise</span><span class=\"codenumber\">8.4.57</span></h6><p id=\"p-7702\">$\\cos(75^{\\circ})$ (compare with <a href=\"Identities.ipynb#cos75\" class=\"xref\" alt=\"Exercise 8.4.25 \" title=\"Exercise 8.4.25 \">Exercise 8.4.25</a>)</p><div class=\"solutions\"><span class=\"solution\"><a knowl=\"\" class=\"id-ref\" refid=\"hk-answer-1448\" id=\"answer-1448\"><span class=\"type\">Answer</span></a></span><div id=\"hk-answer-1448\" class=\"hidden-content tex2jax_ignore\"><span class=\"solution\"><p id=\"p-7703\">$\\cos(75^{\\circ}) = \\dfrac{\\sqrt{2-\\sqrt{3}}}{2}$</p></span></div></div></article></div>"
   ]
  },
  {
   "cell_type": "markdown",
   "metadata": {
    "deletable": true,
    "editable": true
   },
   "source": [
    "<div class=\"mathbook-content\"><article class=\"exercise-like\" id=\"exercise-1611\"><h6 class=\"heading\"><span class=\"type\">Exercise</span><span class=\"codenumber\">8.4.58</span></h6><p id=\"p-7704\">$\\sin(105^{\\circ})$ (compare with <a href=\"Identities.ipynb#sin105\" class=\"xref\" alt=\"Exercise 8.4.27 \" title=\"Exercise 8.4.27 \">Exercise 8.4.27</a>)</p><div class=\"solutions\"><span class=\"solution\"><a knowl=\"\" class=\"id-ref\" refid=\"hk-answer-1449\" id=\"answer-1449\"><span class=\"type\">Answer</span></a></span><div id=\"hk-answer-1449\" class=\"hidden-content tex2jax_ignore\"><span class=\"solution\"><p id=\"p-7705\">$\\sin(105^{\\circ}) = \\dfrac{\\sqrt{2+\\sqrt{3}}}{2}$</p></span></div></div></article></div>"
   ]
  },
  {
   "cell_type": "markdown",
   "metadata": {
    "deletable": true,
    "editable": true
   },
   "source": [
    "<div class=\"mathbook-content\"><article class=\"exercise-like\" id=\"exercise-1612\"><h6 class=\"heading\"><span class=\"type\">Exercise</span><span class=\"codenumber\">8.4.59</span></h6><p id=\"p-7706\">$\\cos(67.5^{\\circ})$</p><div class=\"solutions\"><span class=\"solution\"><a knowl=\"\" class=\"id-ref\" refid=\"hk-answer-1450\" id=\"answer-1450\"><span class=\"type\">Answer</span></a></span><div id=\"hk-answer-1450\" class=\"hidden-content tex2jax_ignore\"><span class=\"solution\"><p id=\"p-7707\">$\\cos(67.5^{\\circ}) = \\dfrac{\\sqrt{2-\\sqrt{2}}}{2}$</p></span></div></div></article></div>"
   ]
  },
  {
   "cell_type": "markdown",
   "metadata": {
    "deletable": true,
    "editable": true
   },
   "source": [
    "<div class=\"mathbook-content\"><article class=\"exercise-like\" id=\"exercise-1613\"><h6 class=\"heading\"><span class=\"type\">Exercise</span><span class=\"codenumber\">8.4.60</span></h6><p id=\"p-7708\">$\\sin(157.5^{\\circ})$</p><div class=\"solutions\"><span class=\"solution\"><a knowl=\"\" class=\"id-ref\" refid=\"hk-answer-1451\" id=\"answer-1451\"><span class=\"type\">Answer</span></a></span><div id=\"hk-answer-1451\" class=\"hidden-content tex2jax_ignore\"><span class=\"solution\"><p id=\"p-7709\">$\\sin(157.5^{\\circ}) = \\dfrac{\\sqrt{2-\\sqrt{2}}}{2}$</p></span></div></div></article></div>"
   ]
  },
  {
   "cell_type": "markdown",
   "metadata": {
    "deletable": true,
    "editable": true
   },
   "source": [
    "<div class=\"mathbook-content\"><article class=\"exercise-like\" id=\"exercise-1614\"><h6 class=\"heading\"><span class=\"type\">Exercise</span><span class=\"codenumber\">8.4.61</span></h6><p id=\"p-7710\">$\\tan(112.5^{\\circ})$</p><div class=\"solutions\"><span class=\"solution\"><a knowl=\"\" class=\"id-ref\" refid=\"hk-answer-1452\" id=\"answer-1452\"><span class=\"type\">Answer</span></a></span><div id=\"hk-answer-1452\" class=\"hidden-content tex2jax_ignore\"><span class=\"solution\"><p id=\"p-7711\">$\\tan(112.5^{\\circ}) = - \\sqrt{\\dfrac{2+\\sqrt{2}}{2-\\sqrt{2}}} = -1 - \\sqrt{2}$</p></span></div></div></article></div>"
   ]
  },
  {
   "cell_type": "markdown",
   "metadata": {
    "deletable": true,
    "editable": true
   },
   "source": [
    "<div class=\"mathbook-content\"><article class=\"exercise-like\" id=\"exercise-1615\"><h6 class=\"heading\"><span class=\"type\">Exercise</span><span class=\"codenumber\">8.4.62</span></h6><p id=\"p-7712\">$\\cos\\left( \\dfrac{7\\pi}{12} \\right)$ (compare with <a href=\"Identities.ipynb#cos7pi12\" class=\"xref\" alt=\"Exercise 8.4.34 \" title=\"Exercise 8.4.34 \">Exercise 8.4.34</a>)</p><div class=\"solutions\"><span class=\"solution\"><a knowl=\"\" class=\"id-ref\" refid=\"hk-answer-1453\" id=\"answer-1453\"><span class=\"type\">Answer</span></a></span><div id=\"hk-answer-1453\" class=\"hidden-content tex2jax_ignore\"><span class=\"solution\"><p id=\"p-7713\">$\\cos\\left( \\dfrac{7\\pi}{12} \\right) = -\\dfrac{\\sqrt{2-\\sqrt{3}}}{2}$</p></span></div></div></article></div>"
   ]
  },
  {
   "cell_type": "markdown",
   "metadata": {
    "deletable": true,
    "editable": true
   },
   "source": [
    "<div class=\"mathbook-content\"><article class=\"exercise-like\" id=\"exercise-1616\"><h6 class=\"heading\"><span class=\"type\">Exercise</span><span class=\"codenumber\">8.4.63</span></h6><p id=\"p-7714\">$\\sin\\left( \\dfrac{\\pi}{12} \\right)$ (compare with <a href=\"Identities.ipynb#sinpi12\" class=\"xref\" alt=\"Exercise 8.4.36 \" title=\"Exercise 8.4.36 \">Exercise 8.4.36</a>)</p><div class=\"solutions\"><span class=\"solution\"><a knowl=\"\" class=\"id-ref\" refid=\"hk-answer-1454\" id=\"answer-1454\"><span class=\"type\">Answer</span></a></span><div id=\"hk-answer-1454\" class=\"hidden-content tex2jax_ignore\"><span class=\"solution\"><p id=\"p-7715\">$\\sin\\left( \\dfrac{\\pi}{12} \\right) = \\dfrac{\\sqrt{2-\\sqrt{3}}}{2}$</p></span></div></div></article></div>"
   ]
  },
  {
   "cell_type": "markdown",
   "metadata": {
    "deletable": true,
    "editable": true
   },
   "source": [
    "<div class=\"mathbook-content\"><article class=\"exercise-like\" id=\"exercise-1617\"><h6 class=\"heading\"><span class=\"type\">Exercise</span><span class=\"codenumber\">8.4.64</span></h6><p id=\"p-7716\">$\\cos \\left( \\dfrac{\\pi}{8} \\right)$</p><div class=\"solutions\"><span class=\"solution\"><a knowl=\"\" class=\"id-ref\" refid=\"hk-answer-1455\" id=\"answer-1455\"><span class=\"type\">Answer</span></a></span><div id=\"hk-answer-1455\" class=\"hidden-content tex2jax_ignore\"><span class=\"solution\"><p id=\"p-7717\">$\\cos \\left( \\dfrac{\\pi}{8} \\right) = \\dfrac{\\sqrt{2 + \\sqrt{2}}}{2}$</p></span></div></div></article></div>"
   ]
  },
  {
   "cell_type": "markdown",
   "metadata": {
    "deletable": true,
    "editable": true
   },
   "source": [
    "<div class=\"mathbook-content\"><article class=\"exercise-like\" id=\"exercise-1618\"><h6 class=\"heading\"><span class=\"type\">Exercise</span><span class=\"codenumber\">8.4.65</span></h6><p id=\"p-7718\">$\\sin \\left( \\dfrac{5\\pi}{8} \\right)$</p><div class=\"solutions\"><span class=\"solution\"><a knowl=\"\" class=\"id-ref\" refid=\"hk-answer-1456\" id=\"answer-1456\"><span class=\"type\">Answer</span></a></span><div id=\"hk-answer-1456\" class=\"hidden-content tex2jax_ignore\"><span class=\"solution\"><p id=\"p-7719\">$\\sin \\left( \\dfrac{5\\pi}{8} \\right) = \\dfrac{\\sqrt{2 + \\sqrt{2}}}{2}$</p></span></div></div></article></div>"
   ]
  },
  {
   "cell_type": "markdown",
   "metadata": {
    "deletable": true,
    "editable": true
   },
   "source": [
    "<div class=\"mathbook-content\"><article class=\"exercise-like\" id=\"exercise-1619\"><h6 class=\"heading\"><span class=\"type\">Exercise</span><span class=\"codenumber\">8.4.66</span></h6><p id=\"p-7720\">$\\tan \\left( \\dfrac{7\\pi}{8} \\right)$</p><div class=\"solutions\"><span class=\"solution\"><a knowl=\"\" class=\"id-ref\" refid=\"hk-answer-1457\" id=\"answer-1457\"><span class=\"type\">Answer</span></a></span><div id=\"hk-answer-1457\" class=\"hidden-content tex2jax_ignore\"><span class=\"solution\"><p id=\"p-7721\">$\\tan \\left( \\dfrac{7\\pi}{8} \\right) = -\\sqrt{ \\dfrac{2 - \\sqrt{2}}{2 + \\sqrt{2}} } =1-\\sqrt{2}$</p></span></div></div></article></div>"
   ]
  },
  {
   "cell_type": "markdown",
   "metadata": {
    "deletable": true,
    "editable": true
   },
   "source": [
    "<div class=\"mathbook-content\"><p id=\"p-7722\">In the following exercises, use the given information about $\\theta$ to find the exact values of </p><ul class=\"disc\"><li id=\"li-2178\"><p id=\"p-7723\">$\\sin(2\\theta)$</p></li><li id=\"li-2179\"><p id=\"p-7724\">$\\sin\\left(\\dfrac{\\theta}{2}\\right)$</p></li><li id=\"li-2180\"><p id=\"p-7725\">$\\cos(2\\theta)$</p></li><li id=\"li-2181\"><p id=\"p-7726\">$\\cos\\left(\\dfrac{\\theta}{2}\\right)$</p></li><li id=\"li-2182\"><p id=\"p-7727\">$\\tan(2\\theta)$</p></li><li id=\"li-2183\"><p id=\"p-7728\">$\\tan\\left(\\dfrac{\\theta}{2}\\right)$</p></li></ul></div>"
   ]
  },
  {
   "cell_type": "markdown",
   "metadata": {
    "deletable": true,
    "editable": true
   },
   "source": [
    "<div class=\"mathbook-content\"><article class=\"exercise-like\" id=\"exercise-1620\"><h6 class=\"heading\"><span class=\"type\">Exercise</span><span class=\"codenumber\">8.4.67</span></h6><p id=\"p-7729\">$\\sin(\\theta) = -\\dfrac{7}{25}$ where $\\dfrac{3\\pi}{2} \\lt \\theta \\lt 2\\pi$</p><div class=\"solutions\"><span class=\"solution\"><a knowl=\"\" class=\"id-ref\" refid=\"hk-answer-1458\" id=\"answer-1458\"><span class=\"type\">Answer</span></a></span><div id=\"hk-answer-1458\" class=\"hidden-content tex2jax_ignore\"><span class=\"solution\"><ul class=\"disc\"><li id=\"li-2184\"><p id=\"p-7730\">$\\sin(2\\theta) = -\\dfrac{336}{625}$</p></li><li id=\"li-2185\"><p id=\"p-7731\">$\\sin\\left(\\frac{\\theta}{2}\\right) = \\dfrac{\\sqrt{2}}{10}$</p></li><li id=\"li-2186\"><p id=\"p-7732\">$\\cos(2\\theta) = \\dfrac{527}{625}$</p></li><li id=\"li-2187\"><p id=\"p-7733\">$\\cos\\left(\\frac{\\theta}{2}\\right) = -\\dfrac{7\\sqrt{2}}{10}$</p></li><li id=\"li-2188\"><p id=\"p-7734\">$\\tan(2\\theta) = -\\dfrac{336}{527}$</p></li><li id=\"li-2189\"><p id=\"p-7735\">$\\tan\\left(\\frac{\\theta}{2}\\right) = -\\dfrac{1}{7}$</p></li></ul></span></div></div></article></div>"
   ]
  },
  {
   "cell_type": "markdown",
   "metadata": {
    "deletable": true,
    "editable": true
   },
   "source": [
    "<div class=\"mathbook-content\"><article class=\"exercise-like\" id=\"exercise-1621\"><h6 class=\"heading\"><span class=\"type\">Exercise</span><span class=\"codenumber\">8.4.68</span></h6><p id=\"p-7736\">$\\cos(\\theta) = \\dfrac{28}{53}$ where $0 \\lt \\theta \\lt \\dfrac{\\pi}{2}$</p><div class=\"solutions\"><span class=\"solution\"><a knowl=\"\" class=\"id-ref\" refid=\"hk-answer-1459\" id=\"answer-1459\"><span class=\"type\">Answer</span></a></span><div id=\"hk-answer-1459\" class=\"hidden-content tex2jax_ignore\"><span class=\"solution\"><ul class=\"disc\"><li id=\"li-2190\"><p id=\"p-7737\">$\\sin(2\\theta) = \\dfrac{2520}{2809}$</p></li><li id=\"li-2191\"><p id=\"p-7738\">$\\sin\\left(\\frac{\\theta}{2}\\right) = \\dfrac{5\\sqrt{106}}{106}$</p></li><li id=\"li-2192\"><p id=\"p-7739\">$\\cos(2\\theta) = -\\dfrac{1241}{2809}$</p></li><li id=\"li-2193\"><p id=\"p-7740\">$\\cos\\left(\\frac{\\theta}{2}\\right) = \\dfrac{9\\sqrt{106}}{106}$</p></li><li id=\"li-2194\"><p id=\"p-7741\">$\\tan(2\\theta) = -\\dfrac{2520}{1241}$</p></li><li id=\"li-2195\"><p id=\"p-7742\">$\\tan\\left(\\frac{\\theta}{2}\\right) = \\dfrac{5}{9}$</p></li></ul></span></div></div></article></div>"
   ]
  },
  {
   "cell_type": "markdown",
   "metadata": {
    "deletable": true,
    "editable": true
   },
   "source": [
    "<div class=\"mathbook-content\"><article class=\"exercise-like\" id=\"exercise-1622\"><h6 class=\"heading\"><span class=\"type\">Exercise</span><span class=\"codenumber\">8.4.69</span></h6><p id=\"p-7743\">$\\tan(\\theta) = \\dfrac{12}{5}$ where $\\pi \\lt \\theta \\lt \\dfrac{3\\pi}{2}$</p><div class=\"solutions\"><span class=\"solution\"><a knowl=\"\" class=\"id-ref\" refid=\"hk-answer-1460\" id=\"answer-1460\"><span class=\"type\">Answer</span></a></span><div id=\"hk-answer-1460\" class=\"hidden-content tex2jax_ignore\"><span class=\"solution\"><ul class=\"disc\"><li id=\"li-2196\"><p id=\"p-7744\">$\\sin(2\\theta) = \\dfrac{120}{169}$</p></li><li id=\"li-2197\"><p id=\"p-7745\">$\\sin\\left(\\frac{\\theta}{2}\\right) = \\dfrac{3\\sqrt{13}}{13}$</p></li><li id=\"li-2198\"><p id=\"p-7746\">$\\cos(2\\theta) = -\\dfrac{119}{169}$</p></li><li id=\"li-2199\"><p id=\"p-7747\">$\\cos\\left(\\frac{\\theta}{2}\\right) = -\\dfrac{2\\sqrt{13}}{13}$</p></li><li id=\"li-2200\"><p id=\"p-7748\">$\\tan(2\\theta) = -\\dfrac{120}{119}$</p></li><li id=\"li-2201\"><p id=\"p-7749\">$\\tan\\left(\\frac{\\theta}{2}\\right) = -\\dfrac{3}{2}$</p></li></ul></span></div></div></article></div>"
   ]
  },
  {
   "cell_type": "markdown",
   "metadata": {
    "deletable": true,
    "editable": true
   },
   "source": [
    "<div class=\"mathbook-content\"><article class=\"exercise-like\" id=\"exercise-1623\"><h6 class=\"heading\"><span class=\"type\">Exercise</span><span class=\"codenumber\">8.4.70</span></h6><p id=\"p-7750\">$\\csc(\\theta) = 4$ where $\\dfrac{\\pi}{2} \\lt \\theta \\lt \\pi$</p><div class=\"solutions\"><span class=\"solution\"><a knowl=\"\" class=\"id-ref\" refid=\"hk-answer-1461\" id=\"answer-1461\"><span class=\"type\">Answer</span></a></span><div id=\"hk-answer-1461\" class=\"hidden-content tex2jax_ignore\"><span class=\"solution\"><ul class=\"disc\"><li id=\"li-2202\"><p id=\"p-7751\">$\\sin(2\\theta) = -\\dfrac{\\sqrt{15}}{8}$</p></li><li id=\"li-2203\"><p id=\"p-7752\">$\\sin\\left(\\frac{\\theta}{2}\\right) =\\dfrac{\\sqrt{8+2\\sqrt{15}}}{4}$</p></li><li id=\"li-2204\"><p id=\"p-7753\">$\\cos(2\\theta) = \\dfrac{7}{8}$</p></li><li id=\"li-2205\"><p id=\"p-7754\">$\\cos\\left(\\frac{\\theta}{2}\\right) = \\dfrac{\\sqrt{8-2\\sqrt{15}}}{4}$</p></li><li id=\"li-2206\"><p id=\"p-7755\">$\\tan(2\\theta) = -\\dfrac{\\sqrt{15}}{7}$</p></li><li id=\"li-2207\"><p id=\"p-7756\">$\\tan\\left(\\frac{\\theta}{2}\\right) = \\sqrt{\\dfrac{8+2\\sqrt{15}}{8-2\\sqrt{15}}} = 4+\\sqrt{15}$</p></li></ul></span></div></div></article></div>"
   ]
  },
  {
   "cell_type": "markdown",
   "metadata": {
    "deletable": true,
    "editable": true
   },
   "source": [
    "<div class=\"mathbook-content\"><article class=\"exercise-like\" id=\"exercise-1624\"><h6 class=\"heading\"><span class=\"type\">Exercise</span><span class=\"codenumber\">8.4.71</span></h6><p id=\"p-7757\">$\\cos(\\theta) = \\dfrac{3}{5}$ where $0 \\lt \\theta \\lt \\dfrac{\\pi}{2}$</p><div class=\"solutions\"><span class=\"solution\"><a knowl=\"\" class=\"id-ref\" refid=\"hk-answer-1462\" id=\"answer-1462\"><span class=\"type\">Answer</span></a></span><div id=\"hk-answer-1462\" class=\"hidden-content tex2jax_ignore\"><span class=\"solution\"><ul class=\"disc\"><li id=\"li-2208\"><p id=\"p-7758\">$\\sin(2\\theta) = \\dfrac{24}{25}$</p></li><li id=\"li-2209\"><p id=\"p-7759\">$\\sin\\left(\\frac{\\theta}{2}\\right) = \\dfrac{\\sqrt{5}}{5}$</p></li><li id=\"li-2210\"><p id=\"p-7760\">$\\cos(2\\theta) = -\\dfrac{7}{25}$</p></li><li id=\"li-2211\"><p id=\"p-7761\">$\\cos\\left(\\frac{\\theta}{2}\\right) = \\dfrac{2\\sqrt{5}}{5}$</p></li><li id=\"li-2212\"><p id=\"p-7762\">$\\tan(2\\theta)=-\\dfrac{24}{7}$</p></li><li id=\"li-2213\"><p id=\"p-7763\">$\\tan\\left(\\frac{\\theta}{2}\\right) = \\dfrac{1}{2}$</p></li></ul></span></div></div></article></div>"
   ]
  },
  {
   "cell_type": "markdown",
   "metadata": {
    "deletable": true,
    "editable": true
   },
   "source": [
    "<div class=\"mathbook-content\"><article class=\"exercise-like\" id=\"exercise-1625\"><h6 class=\"heading\"><span class=\"type\">Exercise</span><span class=\"codenumber\">8.4.72</span></h6><p id=\"p-7764\">$\\sin(\\theta) = -\\dfrac{4}{5}$ where $\\pi \\lt \\theta \\lt \\dfrac{3\\pi}{2}$</p><div class=\"solutions\"><span class=\"solution\"><a knowl=\"\" class=\"id-ref\" refid=\"hk-answer-1463\" id=\"answer-1463\"><span class=\"type\">Answer</span></a></span><div id=\"hk-answer-1463\" class=\"hidden-content tex2jax_ignore\"><span class=\"solution\"><ul class=\"disc\"><li id=\"li-2214\"><p id=\"p-7765\">$\\sin(2\\theta) = \\dfrac{24}{25}$</p></li><li id=\"li-2215\"><p id=\"p-7766\">$\\sin\\left(\\frac{\\theta}{2}\\right) = \\dfrac{2\\sqrt{5}}{5}$</p></li><li id=\"li-2216\"><p id=\"p-7767\">$\\cos(2\\theta) = -\\dfrac{7}{25}$</p></li><li id=\"li-2217\"><p id=\"p-7768\">$\\cos\\left(\\frac{\\theta}{2}\\right) = -\\dfrac{\\sqrt{5}}{5}$</p></li><li id=\"li-2218\"><p id=\"p-7769\">$\\tan(2\\theta)=-\\dfrac{24}{7}$</p></li><li id=\"li-2219\"><p id=\"p-7770\">$\\tan\\left(\\frac{\\theta}{2}\\right) = -2$</p></li></ul></span></div></div></article></div>"
   ]
  },
  {
   "cell_type": "markdown",
   "metadata": {
    "deletable": true,
    "editable": true
   },
   "source": [
    "<div class=\"mathbook-content\"><article class=\"exercise-like\" id=\"exercise-1626\"><h6 class=\"heading\"><span class=\"type\">Exercise</span><span class=\"codenumber\">8.4.73</span></h6><p id=\"p-7771\">$\\cos(\\theta) = \\dfrac{12}{13}$ where $\\dfrac{3\\pi}{2} \\lt \\theta \\lt 2\\pi$</p><div class=\"solutions\"><span class=\"solution\"><a knowl=\"\" class=\"id-ref\" refid=\"hk-answer-1464\" id=\"answer-1464\"><span class=\"type\">Answer</span></a></span><div id=\"hk-answer-1464\" class=\"hidden-content tex2jax_ignore\"><span class=\"solution\"><ul class=\"disc\"><li id=\"li-2220\"><p id=\"p-7772\">$\\sin(2\\theta) = -\\dfrac{120}{169}$</p></li><li id=\"li-2221\"><p id=\"p-7773\">$\\sin\\left(\\frac{\\theta}{2}\\right) = \\dfrac{\\sqrt{26}}{26}$</p></li><li id=\"li-2222\"><p id=\"p-7774\">$\\cos(2\\theta) = \\dfrac{119}{169}$</p></li><li id=\"li-2223\"><p id=\"p-7775\">$\\cos\\left(\\frac{\\theta}{2}\\right) = -\\dfrac{5\\sqrt{26}}{26}$</p></li><li id=\"li-2224\"><p id=\"p-7776\">$\\tan(2\\theta)=-\\dfrac{120}{119}$</p></li><li id=\"li-2225\"><p id=\"p-7777\">$\\tan\\left(\\frac{\\theta}{2}\\right) = -\\dfrac{1}{5}$</p></li></ul></span></div></div></article></div>"
   ]
  },
  {
   "cell_type": "markdown",
   "metadata": {
    "deletable": true,
    "editable": true
   },
   "source": [
    "<div class=\"mathbook-content\"><article class=\"exercise-like\" id=\"exercise-1627\"><h6 class=\"heading\"><span class=\"type\">Exercise</span><span class=\"codenumber\">8.4.74</span></h6><p id=\"p-7778\">$\\sin(\\theta) = \\dfrac{5}{13}$ where $\\dfrac{\\pi}{2} \\lt \\theta \\lt \\pi$</p><div class=\"solutions\"><span class=\"solution\"><a knowl=\"\" class=\"id-ref\" refid=\"hk-answer-1465\" id=\"answer-1465\"><span class=\"type\">Answer</span></a></span><div id=\"hk-answer-1465\" class=\"hidden-content tex2jax_ignore\"><span class=\"solution\"><ul class=\"disc\"><li id=\"li-2226\"><p id=\"p-7779\">$\\sin(2\\theta) = -\\dfrac{120}{169}$</p></li><li id=\"li-2227\"><p id=\"p-7780\">$\\sin\\left(\\frac{\\theta}{2}\\right) = \\dfrac{5\\sqrt{26}}{26}$</p></li><li id=\"li-2228\"><p id=\"p-7781\">$\\cos(2\\theta) = \\dfrac{119}{169}$</p></li><li id=\"li-2229\"><p id=\"p-7782\">$\\cos\\left(\\frac{\\theta}{2}\\right) = \\dfrac{\\sqrt{26}}{26}$</p></li><li id=\"li-2230\"><p id=\"p-7783\">$\\tan(2\\theta)=-\\dfrac{120}{119}$</p></li><li id=\"li-2231\"><p id=\"p-7784\">$\\tan\\left(\\frac{\\theta}{2}\\right) = 5$</p></li></ul></span></div></div></article></div>"
   ]
  },
  {
   "cell_type": "markdown",
   "metadata": {
    "deletable": true,
    "editable": true
   },
   "source": [
    "<div class=\"mathbook-content\"><article class=\"exercise-like\" id=\"exercise-1628\"><h6 class=\"heading\"><span class=\"type\">Exercise</span><span class=\"codenumber\">8.4.75</span></h6><p id=\"p-7785\">$\\sec(\\theta) = \\sqrt{5}$ where $\\dfrac{3\\pi}{2} \\lt \\theta \\lt 2\\pi$</p><div class=\"solutions\"><span class=\"solution\"><a knowl=\"\" class=\"id-ref\" refid=\"hk-answer-1466\" id=\"answer-1466\"><span class=\"type\">Answer</span></a></span><div id=\"hk-answer-1466\" class=\"hidden-content tex2jax_ignore\"><span class=\"solution\"><ul class=\"disc\"><li id=\"li-2232\"><p id=\"p-7786\">$\\sin(2\\theta) = -\\dfrac{4}{5}$</p></li><li id=\"li-2233\"><p id=\"p-7787\">$\\sin\\left(\\frac{\\theta}{2}\\right) = \\dfrac{\\sqrt{50-10\\sqrt{5}}}{10}$</p></li><li id=\"li-2234\"><p id=\"p-7788\">$\\cos(2\\theta) = -\\dfrac{3}{5}$</p></li><li id=\"li-2235\"><p id=\"p-7789\">$\\cos\\left(\\frac{\\theta}{2}\\right)= -\\dfrac{\\sqrt{50+10\\sqrt{5}}}{10}$</p></li><li id=\"li-2236\"><p id=\"p-7790\">$\\tan(2\\theta)=\\dfrac{4}{3}$</p></li><li id=\"li-2237\"><p id=\"p-7791\">$\\tan\\left(\\frac{\\theta}{2}\\right) = -\\sqrt{\\dfrac{5-\\sqrt{5}}{5+\\sqrt{5}}} =\\dfrac{5-5\\sqrt{5}}{10}$</p></li></ul></span></div></div></article></div>"
   ]
  },
  {
   "cell_type": "markdown",
   "metadata": {
    "deletable": true,
    "editable": true
   },
   "source": [
    "<div class=\"mathbook-content\"><article class=\"exercise-like\" id=\"exercise-1629\"><h6 class=\"heading\"><span class=\"type\">Exercise</span><span class=\"codenumber\">8.4.76</span></h6><p id=\"p-7792\">$\\tan(\\theta) = -2$ where $\\dfrac{\\pi}{2} \\lt \\theta \\lt \\pi$</p><div class=\"solutions\"><span class=\"solution\"><a knowl=\"\" class=\"id-ref\" refid=\"hk-answer-1467\" id=\"answer-1467\"><span class=\"type\">Answer</span></a></span><div id=\"hk-answer-1467\" class=\"hidden-content tex2jax_ignore\"><span class=\"solution\"><ul class=\"disc\"><li id=\"li-2238\"><p id=\"p-7793\">$\\sin(2\\theta) = -\\dfrac{4}{5}$</p></li><li id=\"li-2239\"><p id=\"p-7794\">$\\sin\\left(\\frac{\\theta}{2}\\right) = \\dfrac{\\sqrt{50+10\\sqrt{5}}}{10}$</p></li><li id=\"li-2240\"><p id=\"p-7795\">$\\cos(2\\theta) = -\\dfrac{3}{5}$</p></li><li id=\"li-2241\"><p id=\"p-7796\">$\\cos\\left(\\frac{\\theta}{2}\\right)= \\dfrac{\\sqrt{50-10\\sqrt{5}}}{10}$</p></li><li id=\"li-2242\"><p id=\"p-7797\">$\\tan(2\\theta)=\\dfrac{4}{3}$</p></li><li id=\"li-2243\"><p id=\"p-7798\">$\\tan\\left(\\frac{\\theta}{2}\\right) = \\sqrt{\\dfrac{5+\\sqrt{5}}{5-\\sqrt{5}}} =\\dfrac{5+5\\sqrt{5}}{10}$</p></li></ul></span></div></div></article></div>"
   ]
  },
  {
   "cell_type": "markdown",
   "metadata": {
    "deletable": true,
    "editable": true
   },
   "source": [
    "<div class=\"mathbook-content\"><p id=\"p-7799\">In the following exercises, verify the identity. Assume all quantities are defined.</p></div>"
   ]
  },
  {
   "cell_type": "markdown",
   "metadata": {
    "deletable": true,
    "editable": true
   },
   "source": [
    "<div class=\"mathbook-content\"><article class=\"exercise-like\" id=\"exercise-1630\"><h6 class=\"heading\"><span class=\"type\">Exercise</span><span class=\"codenumber\">8.4.77</span></h6><p id=\"p-7800\">$(\\cos(\\theta) + \\sin(\\theta))^2 = 1 + \\sin(2\\theta)$</p></article></div>"
   ]
  },
  {
   "cell_type": "markdown",
   "metadata": {
    "deletable": true,
    "editable": true
   },
   "source": [
    "<div class=\"mathbook-content\"><article class=\"exercise-like\" id=\"exercise-1631\"><h6 class=\"heading\"><span class=\"type\">Exercise</span><span class=\"codenumber\">8.4.78</span></h6><p id=\"p-7801\">$(\\cos(\\theta) - \\sin(\\theta))^2 = 1 - \\sin(2\\theta)$</p></article></div>"
   ]
  },
  {
   "cell_type": "markdown",
   "metadata": {
    "deletable": true,
    "editable": true
   },
   "source": [
    "<div class=\"mathbook-content\"><article class=\"exercise-like\" id=\"exercise-1632\"><h6 class=\"heading\"><span class=\"type\">Exercise</span><span class=\"codenumber\">8.4.79</span></h6><p id=\"p-7802\">$\\tan(2\\theta) = \\dfrac{1}{1-\\tan(\\theta)} - \\dfrac{1}{1+\\tan(\\theta)}$</p></article></div>"
   ]
  },
  {
   "cell_type": "markdown",
   "metadata": {
    "deletable": true,
    "editable": true
   },
   "source": [
    "<div class=\"mathbook-content\"><article class=\"exercise-like\" id=\"exercise-1633\"><h6 class=\"heading\"><span class=\"type\">Exercise</span><span class=\"codenumber\">8.4.80</span></h6><p id=\"p-7803\">$\\csc(2\\theta) = \\dfrac{\\cot(\\theta) + \\tan(\\theta)}{2}$</p></article></div>"
   ]
  },
  {
   "cell_type": "markdown",
   "metadata": {
    "deletable": true,
    "editable": true
   },
   "source": [
    "<div class=\"mathbook-content\"><article class=\"exercise-like\" id=\"exercise-1634\"><h6 class=\"heading\"><span class=\"type\">Exercise</span><span class=\"codenumber\">8.4.81</span></h6><p id=\"p-7804\">$8 \\sin^{4}(\\theta) = \\cos(4\\theta) - 4\\cos(2\\theta)+3$</p></article></div>"
   ]
  },
  {
   "cell_type": "markdown",
   "metadata": {
    "deletable": true,
    "editable": true
   },
   "source": [
    "<div class=\"mathbook-content\"><article class=\"exercise-like\" id=\"exercise-1635\"><h6 class=\"heading\"><span class=\"type\">Exercise</span><span class=\"codenumber\">8.4.82</span></h6><p id=\"p-7805\">$8 \\cos^{4}(\\theta) = \\cos(4\\theta) + 4\\cos(2\\theta)+3$</p></article></div>"
   ]
  },
  {
   "cell_type": "markdown",
   "metadata": {
    "deletable": true,
    "editable": true
   },
   "source": [
    "<div class=\"mathbook-content\"><article class=\"exercise-like\" id=\"sine3theta\"><h6 class=\"heading\"><span class=\"type\">Exercise</span><span class=\"codenumber\">8.4.83</span></h6><p id=\"p-7806\">$\\sin(3\\theta) = 3\\sin(\\theta) - 4\\sin^{3}(\\theta)$</p></article></div>"
   ]
  },
  {
   "cell_type": "markdown",
   "metadata": {
    "deletable": true,
    "editable": true
   },
   "source": [
    "<div class=\"mathbook-content\"><article class=\"exercise-like\" id=\"exercise-1637\"><h6 class=\"heading\"><span class=\"type\">Exercise</span><span class=\"codenumber\">8.4.84</span></h6><p id=\"p-7807\">$\\sin(4\\theta) = 4\\sin(\\theta)\\cos^{3}(\\theta) - 4\\sin^{3}(\\theta)\\cos(\\theta)$</p></article></div>"
   ]
  },
  {
   "cell_type": "markdown",
   "metadata": {
    "deletable": true,
    "editable": true
   },
   "source": [
    "<div class=\"mathbook-content\"><article class=\"exercise-like\" id=\"exercise-1638\"><h6 class=\"heading\"><span class=\"type\">Exercise</span><span class=\"codenumber\">8.4.85</span></h6><p id=\"p-7808\">$32\\sin^{2}(\\theta) \\cos^{4}(\\theta) = 2 + \\cos(2\\theta) - 2\\cos(4\\theta) - \\cos(6\\theta)$</p></article></div>"
   ]
  },
  {
   "cell_type": "markdown",
   "metadata": {
    "deletable": true,
    "editable": true
   },
   "source": [
    "<div class=\"mathbook-content\"><article class=\"exercise-like\" id=\"exercise-1639\"><h6 class=\"heading\"><span class=\"type\">Exercise</span><span class=\"codenumber\">8.4.86</span></h6><p id=\"p-7809\">$32\\sin^{4}(\\theta) \\cos^{2}(\\theta) = 2 - \\cos(2\\theta) - 2\\cos(4\\theta) + \\cos(6\\theta)$</p></article></div>"
   ]
  },
  {
   "cell_type": "markdown",
   "metadata": {
    "deletable": true,
    "editable": true
   },
   "source": [
    "<div class=\"mathbook-content\"><article class=\"exercise-like\" id=\"cosine4theta\"><h6 class=\"heading\"><span class=\"type\">Exercise</span><span class=\"codenumber\">8.4.87</span></h6><p id=\"p-7810\">$\\cos(4\\theta) = 8\\cos^{4}(\\theta) - 8\\cos^{2}(\\theta) + 1$</p></article></div>"
   ]
  },
  {
   "cell_type": "markdown",
   "metadata": {
    "deletable": true,
    "editable": true
   },
   "source": [
    "<div class=\"mathbook-content\"><article class=\"exercise-like\" id=\"exercise-1641\"><h6 class=\"heading\"><span class=\"type\">Exercise</span><span class=\"codenumber\">8.4.88</span></h6><p id=\"p-7811\">$\\cos(8\\theta) = 128\\cos^{8}(\\theta)-256\\cos^{6}(\\theta)+160\\cos^{4}(\\theta)-32\\cos^{2}(\\theta)+1$ (HINT: Use the result to <a href=\"Identities.ipynb#cosine4theta\" class=\"xref\" alt=\"Exercise 8.4.87 \" title=\"Exercise 8.4.87 \">Exercise 8.4.87</a>.)</p></article></div>"
   ]
  },
  {
   "cell_type": "markdown",
   "metadata": {
    "deletable": true,
    "editable": true
   },
   "source": [
    "<div class=\"mathbook-content\"><article class=\"exercise-like\" id=\"exercise-1642\"><h6 class=\"heading\"><span class=\"type\">Exercise</span><span class=\"codenumber\">8.4.89</span></h6><p id=\"p-7812\">$\\sec(2\\theta) = \\dfrac{\\cos(\\theta)}{\\cos(\\theta) + \\sin(\\theta)} + \\dfrac{\\sin(\\theta)}{\\cos(\\theta)-\\sin(\\theta)}$</p></article></div>"
   ]
  },
  {
   "cell_type": "markdown",
   "metadata": {
    "deletable": true,
    "editable": true
   },
   "source": [
    "<div class=\"mathbook-content\"><article class=\"exercise-like\" id=\"exercise-1643\"><h6 class=\"heading\"><span class=\"type\">Exercise</span><span class=\"codenumber\">8.4.90</span></h6><p id=\"p-7813\">$\\dfrac{1}{\\cos(\\theta) - \\sin(\\theta)} + \\dfrac{1}{\\cos(\\theta) + \\sin(\\theta)} = \\dfrac{2\\cos(\\theta)}{\\cos(2\\theta)}$</p></article></div>"
   ]
  },
  {
   "cell_type": "markdown",
   "metadata": {
    "deletable": true,
    "editable": true
   },
   "source": [
    "<div class=\"mathbook-content\"><article class=\"exercise-like\" id=\"exercise-1644\"><h6 class=\"heading\"><span class=\"type\">Exercise</span><span class=\"codenumber\">8.4.91</span></h6><p id=\"p-7814\">$\\dfrac{1}{\\cos(\\theta) - \\sin(\\theta)} - \\dfrac{1}{\\cos(\\theta) + \\sin(\\theta)} = \\dfrac{2\\sin(\\theta)}{\\cos(2\\theta)}$</p></article></div>"
   ]
  },
  {
   "cell_type": "markdown",
   "metadata": {
    "deletable": true,
    "editable": true
   },
   "source": [
    "<div class=\"mathbook-content\"><p id=\"p-7815\">In the following exercises, write the given product as a sum. You may need to use an Even/Odd Identity.</p></div>"
   ]
  },
  {
   "cell_type": "markdown",
   "metadata": {
    "deletable": true,
    "editable": true
   },
   "source": [
    "<div class=\"mathbook-content\"><article class=\"exercise-like\" id=\"exercise-1645\"><h6 class=\"heading\"><span class=\"type\">Exercise</span><span class=\"codenumber\">8.4.92</span></h6><p id=\"p-7816\">$\\cos(3\\theta)\\cos(5\\theta)$</p><div class=\"solutions\"><span class=\"solution\"><a knowl=\"\" class=\"id-ref\" refid=\"hk-answer-1468\" id=\"answer-1468\"><span class=\"type\">Answer</span></a></span><div id=\"hk-answer-1468\" class=\"hidden-content tex2jax_ignore\"><span class=\"solution\"><p id=\"p-7817\">$\\dfrac{\\cos(2\\theta) + \\cos(8\\theta)}{2}$</p></span></div></div></article></div>"
   ]
  },
  {
   "cell_type": "markdown",
   "metadata": {
    "deletable": true,
    "editable": true
   },
   "source": [
    "<div class=\"mathbook-content\"><article class=\"exercise-like\" id=\"exercise-1646\"><h6 class=\"heading\"><span class=\"type\">Exercise</span><span class=\"codenumber\">8.4.93</span></h6><p id=\"p-7818\">$\\sin(2\\theta)\\sin(7\\theta)$</p><div class=\"solutions\"><span class=\"solution\"><a knowl=\"\" class=\"id-ref\" refid=\"hk-answer-1469\" id=\"answer-1469\"><span class=\"type\">Answer</span></a></span><div id=\"hk-answer-1469\" class=\"hidden-content tex2jax_ignore\"><span class=\"solution\"><p id=\"p-7819\">$\\dfrac{\\cos(5\\theta) - \\cos(9\\theta)}{2}$</p></span></div></div></article></div>"
   ]
  },
  {
   "cell_type": "markdown",
   "metadata": {
    "deletable": true,
    "editable": true
   },
   "source": [
    "<div class=\"mathbook-content\"><article class=\"exercise-like\" id=\"exercise-1647\"><h6 class=\"heading\"><span class=\"type\">Exercise</span><span class=\"codenumber\">8.4.94</span></h6><p id=\"p-7820\">$\\sin(9\\theta)\\cos(\\theta)$</p><div class=\"solutions\"><span class=\"solution\"><a knowl=\"\" class=\"id-ref\" refid=\"hk-answer-1470\" id=\"answer-1470\"><span class=\"type\">Answer</span></a></span><div id=\"hk-answer-1470\" class=\"hidden-content tex2jax_ignore\"><span class=\"solution\"><p id=\"p-7821\">$\\dfrac{\\sin(8\\theta) + \\sin(10\\theta)}{2}$</p></span></div></div></article></div>"
   ]
  },
  {
   "cell_type": "markdown",
   "metadata": {
    "deletable": true,
    "editable": true
   },
   "source": [
    "<div class=\"mathbook-content\"><article class=\"exercise-like\" id=\"exercise-1648\"><h6 class=\"heading\"><span class=\"type\">Exercise</span><span class=\"codenumber\">8.4.95</span></h6><p id=\"p-7822\">$\\cos(2\\theta) \\cos(6\\theta)$</p><div class=\"solutions\"><span class=\"solution\"><a knowl=\"\" class=\"id-ref\" refid=\"hk-answer-1471\" id=\"answer-1471\"><span class=\"type\">Answer</span></a></span><div id=\"hk-answer-1471\" class=\"hidden-content tex2jax_ignore\"><span class=\"solution\"><p id=\"p-7823\">$\\dfrac{\\cos(4\\theta) + \\cos(8\\theta)}{2}$</p></span></div></div></article></div>"
   ]
  },
  {
   "cell_type": "markdown",
   "metadata": {
    "deletable": true,
    "editable": true
   },
   "source": [
    "<div class=\"mathbook-content\"><article class=\"exercise-like\" id=\"exercise-1649\"><h6 class=\"heading\"><span class=\"type\">Exercise</span><span class=\"codenumber\">8.4.96</span></h6><p id=\"p-7824\">$\\sin(3\\theta) \\sin(2\\theta)$</p><div class=\"solutions\"><span class=\"solution\"><a knowl=\"\" class=\"id-ref\" refid=\"hk-answer-1472\" id=\"answer-1472\"><span class=\"type\">Answer</span></a></span><div id=\"hk-answer-1472\" class=\"hidden-content tex2jax_ignore\"><span class=\"solution\"><p id=\"p-7825\">$\\dfrac{\\cos(\\theta) - \\cos(5\\theta)}{2}$</p></span></div></div></article></div>"
   ]
  },
  {
   "cell_type": "markdown",
   "metadata": {
    "deletable": true,
    "editable": true
   },
   "source": [
    "<div class=\"mathbook-content\"><article class=\"exercise-like\" id=\"exercise-1650\"><h6 class=\"heading\"><span class=\"type\">Exercise</span><span class=\"codenumber\">8.4.97</span></h6><p id=\"p-7826\">$\\cos(\\theta) \\sin(3\\theta)$</p><div class=\"solutions\"><span class=\"solution\"><a knowl=\"\" class=\"id-ref\" refid=\"hk-answer-1473\" id=\"answer-1473\"><span class=\"type\">Answer</span></a></span><div id=\"hk-answer-1473\" class=\"hidden-content tex2jax_ignore\"><span class=\"solution\"><p id=\"p-7827\">$\\dfrac{\\sin(2\\theta) + \\sin(4\\theta)}{2}$</p></span></div></div></article></div>"
   ]
  },
  {
   "cell_type": "markdown",
   "metadata": {
    "deletable": true,
    "editable": true
   },
   "source": [
    "<div class=\"mathbook-content\"><p id=\"p-7828\">In the following exercises, write the given sum as a product. You may need to use an Even/Odd or Cofunction Identity.</p></div>"
   ]
  },
  {
   "cell_type": "markdown",
   "metadata": {
    "deletable": true,
    "editable": true
   },
   "source": [
    "<div class=\"mathbook-content\"><article class=\"exercise-like\" id=\"exercise-1651\"><h6 class=\"heading\"><span class=\"type\">Exercise</span><span class=\"codenumber\">8.4.98</span></h6><p id=\"p-7829\">$\\cos(3\\theta) + \\cos(5\\theta)$</p><div class=\"solutions\"><span class=\"solution\"><a knowl=\"\" class=\"id-ref\" refid=\"hk-answer-1474\" id=\"answer-1474\"><span class=\"type\">Answer</span></a></span><div id=\"hk-answer-1474\" class=\"hidden-content tex2jax_ignore\"><span class=\"solution\"><p id=\"p-7830\">$2\\cos(4\\theta)\\cos(\\theta)$</p></span></div></div></article></div>"
   ]
  },
  {
   "cell_type": "markdown",
   "metadata": {
    "deletable": true,
    "editable": true
   },
   "source": [
    "<div class=\"mathbook-content\"><article class=\"exercise-like\" id=\"exercise-1652\"><h6 class=\"heading\"><span class=\"type\">Exercise</span><span class=\"codenumber\">8.4.99</span></h6><p id=\"p-7831\">$\\sin(2\\theta) - \\sin(7\\theta)$</p><div class=\"solutions\"><span class=\"solution\"><a knowl=\"\" class=\"id-ref\" refid=\"hk-answer-1475\" id=\"answer-1475\"><span class=\"type\">Answer</span></a></span><div id=\"hk-answer-1475\" class=\"hidden-content tex2jax_ignore\"><span class=\"solution\"><p id=\"p-7832\">$-2\\cos \\left( \\dfrac{9}{2}\\theta \\right) \\sin \\left( \\dfrac{5}{2}\\theta \\right)$</p></span></div></div></article></div>"
   ]
  },
  {
   "cell_type": "markdown",
   "metadata": {
    "deletable": true,
    "editable": true
   },
   "source": [
    "<div class=\"mathbook-content\"><article class=\"exercise-like\" id=\"exercise-1653\"><h6 class=\"heading\"><span class=\"type\">Exercise</span><span class=\"codenumber\">8.4.100</span></h6><p id=\"p-7833\">$\\cos(5\\theta) - \\cos(6\\theta)$</p><div class=\"solutions\"><span class=\"solution\"><a knowl=\"\" class=\"id-ref\" refid=\"hk-answer-1476\" id=\"answer-1476\"><span class=\"type\">Answer</span></a></span><div id=\"hk-answer-1476\" class=\"hidden-content tex2jax_ignore\"><span class=\"solution\"><p id=\"p-7834\">$2\\sin \\left( \\dfrac{11}{2}\\theta \\right) \\sin \\left( \\dfrac{1}{2}\\theta \\right)$</p></span></div></div></article></div>"
   ]
  },
  {
   "cell_type": "markdown",
   "metadata": {
    "deletable": true,
    "editable": true
   },
   "source": [
    "<div class=\"mathbook-content\"><article class=\"exercise-like\" id=\"exercise-1654\"><h6 class=\"heading\"><span class=\"type\">Exercise</span><span class=\"codenumber\">8.4.101</span></h6><p id=\"p-7835\">$\\sin(9\\theta) - \\sin(-\\theta)$</p><div class=\"solutions\"><span class=\"solution\"><a knowl=\"\" class=\"id-ref\" refid=\"hk-answer-1477\" id=\"answer-1477\"><span class=\"type\">Answer</span></a></span><div id=\"hk-answer-1477\" class=\"hidden-content tex2jax_ignore\"><span class=\"solution\"><p id=\"p-7836\">$2\\cos(4\\theta)\\sin(5\\theta)$</p></span></div></div></article></div>"
   ]
  },
  {
   "cell_type": "markdown",
   "metadata": {
    "deletable": true,
    "editable": true
   },
   "source": [
    "<div class=\"mathbook-content\"><article class=\"exercise-like\" id=\"exercise-1655\"><h6 class=\"heading\"><span class=\"type\">Exercise</span><span class=\"codenumber\">8.4.102</span></h6><p id=\"p-7837\">$\\sin(\\theta) + \\cos(\\theta)$</p><div class=\"solutions\"><span class=\"solution\"><a knowl=\"\" class=\"id-ref\" refid=\"hk-answer-1478\" id=\"answer-1478\"><span class=\"type\">Answer</span></a></span><div id=\"hk-answer-1478\" class=\"hidden-content tex2jax_ignore\"><span class=\"solution\"><p id=\"p-7838\">$\\sqrt{2}\\cos \\left(\\theta - \\dfrac{\\pi}{4} \\right)$</p></span></div></div></article></div>"
   ]
  },
  {
   "cell_type": "markdown",
   "metadata": {
    "deletable": true,
    "editable": true
   },
   "source": [
    "<div class=\"mathbook-content\"><article class=\"exercise-like\" id=\"exercise-1656\"><h6 class=\"heading\"><span class=\"type\">Exercise</span><span class=\"codenumber\">8.4.103</span></h6><p id=\"p-7839\">$\\cos(\\theta) - \\sin(\\theta)$</p><div class=\"solutions\"><span class=\"solution\"><a knowl=\"\" class=\"id-ref\" refid=\"hk-answer-1479\" id=\"answer-1479\"><span class=\"type\">Answer</span></a></span><div id=\"hk-answer-1479\" class=\"hidden-content tex2jax_ignore\"><span class=\"solution\"><p id=\"p-7840\">$-\\sqrt{2}\\sin \\left(\\theta - \\dfrac{\\pi}{4} \\right)$</p></span></div></div></article></div>"
   ]
  },
  {
   "cell_type": "markdown",
   "metadata": {
    "deletable": true,
    "editable": true
   },
   "source": [
    "<div class=\"mathbook-content\"><article class=\"exercise-like\" id=\"preludetoarctrigsine\"><h6 class=\"heading\"><span class=\"type\">Exercise</span><span class=\"codenumber\">8.4.104</span></h6><p id=\"p-7841\">Suppose $\\theta$ is a Quadrant I angle with $\\sin(\\theta) = x\\text{.}$ Verify the following formulas </p><ol class=\"decimal\"><li id=\"li-2244\"><p id=\"p-7842\">$\\cos(\\theta) = \\sqrt{1-x^2}$</p></li><li id=\"li-2245\"><p id=\"p-7843\">$\\sin(2\\theta) = 2x\\sqrt{1-x^2}$</p></li><li id=\"li-2246\"><p id=\"p-7844\">$\\cos(2\\theta) = 1 - 2x^2$</p></li></ol></article></div>"
   ]
  },
  {
   "cell_type": "markdown",
   "metadata": {
    "deletable": true,
    "editable": true
   },
   "source": [
    "<div class=\"mathbook-content\"><article class=\"exercise-like\" id=\"exercise-1658\"><h6 class=\"heading\"><span class=\"type\">Exercise</span><span class=\"codenumber\">8.4.105</span></h6><p id=\"p-7845\">Discuss with your classmates how each of the formulas, if any, in <a href=\"Identities.ipynb#preludetoarctrigsine\" class=\"xref\" alt=\"Exercise 8.4.104 \" title=\"Exercise 8.4.104 \">Exercise 8.4.104</a> change if we change assume $\\theta$ is a Quadrant II, III, or IV angle.</p></article></div>"
   ]
  },
  {
   "cell_type": "markdown",
   "metadata": {
    "deletable": true,
    "editable": true
   },
   "source": [
    "<div class=\"mathbook-content\"><article class=\"exercise-like\" id=\"preludetoarctrigtan\"><h6 class=\"heading\"><span class=\"type\">Exercise</span><span class=\"codenumber\">8.4.106</span></h6><p id=\"p-7846\">Suppose $\\theta$ is a Quadrant I angle with $\\tan(\\theta) = x\\text{.}$ Verify the following formulas </p><ol class=\"decimal\"><li id=\"li-2247\"><p id=\"p-7847\">$\\cos(\\theta) = \\dfrac{1}{\\sqrt{x^2+1}}$</p></li><li id=\"li-2248\"><p id=\"p-7848\">$\\sin(\\theta) = \\dfrac{x}{\\sqrt{x^2+1}}$</p></li><li id=\"li-2249\"><p id=\"p-7849\">$\\sin(2\\theta) = \\dfrac{2x}{x^2+1}$</p></li><li id=\"li-2250\"><p id=\"p-7850\">$\\cos(2\\theta) = \\dfrac{1-x^2}{x^2+1}$</p></li></ol></article></div>"
   ]
  },
  {
   "cell_type": "markdown",
   "metadata": {
    "deletable": true,
    "editable": true
   },
   "source": [
    "<div class=\"mathbook-content\"><article class=\"exercise-like\" id=\"exercise-1660\"><h6 class=\"heading\"><span class=\"type\">Exercise</span><span class=\"codenumber\">8.4.107</span></h6><p id=\"p-7851\">Discuss with your classmates how each of the formulas, if any, in <a href=\"Identities.ipynb#preludetoarctrigtan\" class=\"xref\" alt=\"Exercise 8.4.106 \" title=\"Exercise 8.4.106 \">Exercise 8.4.106</a> change if we change assume $\\theta$ is a Quadrant II, III, or IV angle.</p></article></div>"
   ]
  },
  {
   "cell_type": "markdown",
   "metadata": {
    "deletable": true,
    "editable": true
   },
   "source": [
    "<div class=\"mathbook-content\"><article class=\"exercise-like\" id=\"exercise-1661\"><h6 class=\"heading\"><span class=\"type\">Exercise</span><span class=\"codenumber\">8.4.108</span></h6><p id=\"p-7852\">If $\\sin(\\theta) = \\dfrac{x}{2}$ for $-\\dfrac{\\pi}{2} \\lt \\theta \\lt \\dfrac{\\pi}{2}\\text{,}$ find an expression for $\\cos(2\\theta)$ in terms of $x\\text{.}$</p><div class=\"solutions\"><span class=\"solution\"><a knowl=\"\" class=\"id-ref\" refid=\"hk-answer-1480\" id=\"answer-1480\"><span class=\"type\">Answer</span></a></span><div id=\"hk-answer-1480\" class=\"hidden-content tex2jax_ignore\"><span class=\"solution\"><p id=\"p-7853\">$1 - \\dfrac{x^{2}}{2}$</p></span></div></div></article></div>"
   ]
  },
  {
   "cell_type": "markdown",
   "metadata": {
    "deletable": true,
    "editable": true
   },
   "source": [
    "<div class=\"mathbook-content\"><article class=\"exercise-like\" id=\"exercise-1662\"><h6 class=\"heading\"><span class=\"type\">Exercise</span><span class=\"codenumber\">8.4.109</span></h6><p id=\"p-7854\">If $\\tan(\\theta) = \\dfrac{x}{7}$ for $-\\dfrac{\\pi}{2} \\lt \\theta \\lt \\dfrac{\\pi}{2}\\text{,}$ find an expression for $\\sin(2\\theta)$ in terms of $x\\text{.}$</p><div class=\"solutions\"><span class=\"solution\"><a knowl=\"\" class=\"id-ref\" refid=\"hk-answer-1481\" id=\"answer-1481\"><span class=\"type\">Answer</span></a></span><div id=\"hk-answer-1481\" class=\"hidden-content tex2jax_ignore\"><span class=\"solution\"><p id=\"p-7855\">$\\dfrac{14x}{x^{2} + 49}$</p></span></div></div></article></div>"
   ]
  },
  {
   "cell_type": "markdown",
   "metadata": {
    "deletable": true,
    "editable": true
   },
   "source": [
    "<div class=\"mathbook-content\"><article class=\"exercise-like\" id=\"exercise-1663\"><h6 class=\"heading\"><span class=\"type\">Exercise</span><span class=\"codenumber\">8.4.110</span></h6><p id=\"p-7856\">If $\\sec(\\theta) = \\dfrac{x}{4}$ for $0 \\lt \\theta \\lt \\dfrac{\\pi}{2}\\text{,}$ find an expression for $\\ln|\\sec(\\theta) + \\tan(\\theta)|$ in terms of $x\\text{.}$</p><div class=\"solutions\"><span class=\"solution\"><a knowl=\"\" class=\"id-ref\" refid=\"hk-answer-1482\" id=\"answer-1482\"><span class=\"type\">Answer</span></a></span><div id=\"hk-answer-1482\" class=\"hidden-content tex2jax_ignore\"><span class=\"solution\"><p id=\"p-7857\">$\\ln |x + \\sqrt{x^{2} + 16}| - \\ln(4)$</p></span></div></div></article></div>"
   ]
  },
  {
   "cell_type": "markdown",
   "metadata": {
    "deletable": true,
    "editable": true
   },
   "source": [
    "<div class=\"mathbook-content\"><article class=\"exercise-like\" id=\"exercise-1664\"><h6 class=\"heading\"><span class=\"type\">Exercise</span><span class=\"codenumber\">8.4.111</span></h6><p id=\"p-7858\">Show that $\\cos^{2}(\\theta) - \\sin^{2}(\\theta) = 2\\cos^{2}(\\theta) - 1 = 1 - 2\\sin^{2}(\\theta)$ for all $\\theta\\text{.}$</p></article></div>"
   ]
  },
  {
   "cell_type": "markdown",
   "metadata": {
    "deletable": true,
    "editable": true
   },
   "source": [
    "<div class=\"mathbook-content\"><article class=\"exercise-like\" id=\"exercise-1665\"><h6 class=\"heading\"><span class=\"type\">Exercise</span><span class=\"codenumber\">8.4.112</span></h6><p id=\"p-7859\">Let $\\theta$ be a Quadrant III angle with $\\cos(\\theta) = -\\dfrac{1}{5}\\text{.}$ Show that this is not enough information to determine the sign of $\\sin\\left(\\dfrac{\\theta}{2}\\right)$ by first assuming $3\\pi \\lt \\theta \\lt \\dfrac{7\\pi}{2}$ and then assuming $\\pi \\lt \\theta \\lt \\dfrac{3\\pi}{2}$ and computing $\\sin\\left(\\dfrac{\\theta}{2}\\right)$ in both cases.</p></article></div>"
   ]
  },
  {
   "cell_type": "markdown",
   "metadata": {
    "deletable": true,
    "editable": true
   },
   "source": [
    "<div class=\"mathbook-content\"><article class=\"exercise-like\" id=\"exercise-1666\"><h6 class=\"heading\"><span class=\"type\">Exercise</span><span class=\"codenumber\">8.4.113</span></h6><p id=\"p-7860\">Without using your calculator, show that $\\dfrac{\\sqrt{2 + \\sqrt{3}}}{2} = \\dfrac{\\sqrt{6} + \\sqrt{2}}{4}$</p></article></div>"
   ]
  },
  {
   "cell_type": "markdown",
   "metadata": {
    "deletable": true,
    "editable": true
   },
   "source": [
    "<div class=\"mathbook-content\"><article class=\"exercise-like\" id=\"exercise-1667\"><h6 class=\"heading\"><span class=\"type\">Exercise</span><span class=\"codenumber\">8.4.114</span></h6><p id=\"p-7861\">In <a href=\"Identities.ipynb#cosinepolynomial\" class=\"xref\" alt=\"Item 4 \" title=\"Item 4 \">part 4</a> of <a href=\"Identities.ipynb#doubleangleex\" class=\"xref\" alt=\"Example 8.4.11 Using Theorem 8.4.10\" title=\"Example 8.4.11 Using Theorem 8.4.10\">Example 8.4.11</a>, we wrote $\\cos(3\\theta)$ as a polynomial in terms of $\\cos(\\theta)\\text{.}$ In <a href=\"Identities.ipynb#cosine4theta\" class=\"xref\" alt=\"Exercise 8.4.87 \" title=\"Exercise 8.4.87 \">Exercise 8.4.87</a>, we had you verify an identity which expresses $\\cos(4\\theta)$ as a polynomial in terms of $\\cos(\\theta)\\text{.}$ Can you find a polynomial in terms of $\\cos(\\theta)$ for $\\cos(5\\theta)\\text{?}$ $\\cos(6\\theta)\\text{?}$ Can you find a pattern so that $\\cos(n\\theta)$ could be written as a polynomial in cosine for any natural number $n\\text{?}$</p></article></div>"
   ]
  },
  {
   "cell_type": "markdown",
   "metadata": {
    "deletable": true,
    "editable": true
   },
   "source": [
    "<div class=\"mathbook-content\"><article class=\"exercise-like\" id=\"exercise-1668\"><h6 class=\"heading\"><span class=\"type\">Exercise</span><span class=\"codenumber\">8.4.115</span></h6><p id=\"p-7862\">In <a href=\"Identities.ipynb#sine3theta\" class=\"xref\" alt=\"Exercise 8.4.83 \" title=\"Exercise 8.4.83 \">Exercise 8.4.83</a>, we has you verify an identity which expresses $\\sin(3\\theta)$ as a polynomial in terms of $\\sin(\\theta)\\text{.}$ Can you do the same for $\\sin(5\\theta)\\text{?}$ What about for $\\sin(4\\theta)\\text{?}$ If not, what goes wrong?</p></article></div>"
   ]
  },
  {
   "cell_type": "markdown",
   "metadata": {
    "deletable": true,
    "editable": true
   },
   "source": [
    "<div class=\"mathbook-content\"><article class=\"exercise-like\" id=\"exercise-1669\"><h6 class=\"heading\"><span class=\"type\">Exercise</span><span class=\"codenumber\">8.4.116</span></h6><p id=\"p-7863\">Verify the Even / Odd Identities for tangent, secant, cosecant and cotangent.</p></article></div>"
   ]
  },
  {
   "cell_type": "markdown",
   "metadata": {
    "deletable": true,
    "editable": true
   },
   "source": [
    "<div class=\"mathbook-content\"><article class=\"exercise-like\" id=\"exercise-1670\"><h6 class=\"heading\"><span class=\"type\">Exercise</span><span class=\"codenumber\">8.4.117</span></h6><p id=\"p-7864\">Verify the Cofunction Identities for tangent, secant, cosecant and cotangent.</p></article></div>"
   ]
  },
  {
   "cell_type": "markdown",
   "metadata": {
    "deletable": true,
    "editable": true
   },
   "source": [
    "<div class=\"mathbook-content\"><article class=\"exercise-like\" id=\"exercise-1671\"><h6 class=\"heading\"><span class=\"type\">Exercise</span><span class=\"codenumber\">8.4.118</span></h6><p id=\"p-7865\">Verify the Difference Identities for sine and tangent.</p></article></div>"
   ]
  },
  {
   "cell_type": "markdown",
   "metadata": {
    "deletable": true,
    "editable": true
   },
   "source": [
    "<div class=\"mathbook-content\"><article class=\"exercise-like\" id=\"exercise-1672\"><h6 class=\"heading\"><span class=\"type\">Exercise</span><span class=\"codenumber\">8.4.119</span></h6><p id=\"p-7866\">Verify the Product to Sum Identities.</p></article></div>"
   ]
  },
  {
   "cell_type": "markdown",
   "metadata": {
    "deletable": true,
    "editable": true
   },
   "source": [
    "<div class=\"mathbook-content\"><article class=\"exercise-like\" id=\"exercise-1673\"><h6 class=\"heading\"><span class=\"type\">Exercise</span><span class=\"codenumber\">8.4.120</span></h6><p id=\"p-7867\">Verify the Sum to Product Identities.</p></article></div>"
   ]
  }
 ],
 "metadata": {
  "kernelspec": {
   "display_name": "SageMath 8.1",
   "language": "",
   "name": "sagemath"
  },
  "language_info": {
   "codemirror_mode": {
    "name": "ipython",
    "version": 2
   },
   "file_extension": ".py",
   "mimetype": "text/x-python",
   "name": "python",
   "nbconvert_exporter": "python",
   "pygments_lexer": "ipython2",
   "version": "2.7.14"
  },
  "name": "Identities.ipynb"
 },
 "nbformat": 4,
 "nbformat_minor": 0
}
